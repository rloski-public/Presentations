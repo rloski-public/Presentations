{
  "nbformat": 4,
  "nbformat_minor": 2,
  "metadata": {
    "kernelspec": {
      "name": "synapse_pyspark",
      "display_name": "Synapse PySpark"
    },
    "language_info": {
      "name": "python"
    },
    "description": "This is my merge of approaches",
    "save_output": true,
    "synapse_widget": {
      "version": "0.1",
      "state": {
        "accfac01-c0b6-4ce1-8b42-1161f847c96c": {
          "type": "Synapse.DataFrame",
          "sync_state": {
            "table": {
              "rows": [
                {
                  "0": [
                    {
                      "footnotes": "[{}]",
                      "year": "2014",
                      "periodName": "December",
                      "value": "234.812",
                      "period": "M12"
                    },
                    {
                      "footnotes": "[{}]",
                      "year": "2014",
                      "periodName": "November",
                      "value": "236.151",
                      "period": "M11"
                    },
                    {
                      "footnotes": "[{}]",
                      "year": "2014",
                      "periodName": "October",
                      "value": "237.433",
                      "period": "M10"
                    },
                    {
                      "footnotes": "[{}]",
                      "year": "2014",
                      "periodName": "September",
                      "value": "238.031",
                      "period": "M09"
                    },
                    {
                      "footnotes": "[{}]",
                      "year": "2014",
                      "periodName": "August",
                      "value": "237.852",
                      "period": "M08"
                    },
                    {
                      "footnotes": "[{}]",
                      "year": "2014",
                      "periodName": "July",
                      "value": "238.250",
                      "period": "M07"
                    },
                    {
                      "footnotes": "[{}]",
                      "year": "2014",
                      "periodName": "June",
                      "value": "238.343",
                      "period": "M06"
                    },
                    {
                      "footnotes": "[{}]",
                      "year": "2014",
                      "periodName": "May",
                      "value": "237.900",
                      "period": "M05"
                    },
                    {
                      "footnotes": "[{}]",
                      "year": "2014",
                      "periodName": "April",
                      "value": "237.072",
                      "period": "M04"
                    },
                    {
                      "footnotes": "[{}]",
                      "year": "2014",
                      "periodName": "March",
                      "value": "236.293",
                      "period": "M03"
                    },
                    {
                      "footnotes": "[{}]",
                      "year": "2014",
                      "periodName": "February",
                      "value": "234.781",
                      "period": "M02"
                    },
                    {
                      "footnotes": "[{}]",
                      "year": "2014",
                      "periodName": "January",
                      "value": "233.916",
                      "period": "M01"
                    },
                    {
                      "footnotes": "[{}]",
                      "year": "2013",
                      "periodName": "December",
                      "value": "233.049",
                      "period": "M12"
                    },
                    {
                      "footnotes": "[{}]",
                      "year": "2013",
                      "periodName": "November",
                      "value": "233.069",
                      "period": "M11"
                    },
                    {
                      "footnotes": "[{}]",
                      "year": "2013",
                      "periodName": "October",
                      "value": "233.546",
                      "period": "M10"
                    },
                    {
                      "footnotes": "[{}]",
                      "year": "2013",
                      "periodName": "September",
                      "value": "234.149",
                      "period": "M09"
                    },
                    {
                      "footnotes": "[{}]",
                      "year": "2013",
                      "periodName": "August",
                      "value": "233.877",
                      "period": "M08"
                    },
                    {
                      "footnotes": "[{}]",
                      "year": "2013",
                      "periodName": "July",
                      "value": "233.596",
                      "period": "M07"
                    },
                    {
                      "footnotes": "[{}]",
                      "year": "2013",
                      "periodName": "June",
                      "value": "233.504",
                      "period": "M06"
                    },
                    {
                      "footnotes": "[{}]",
                      "year": "2013",
                      "periodName": "May",
                      "value": "232.945",
                      "period": "M05"
                    },
                    {
                      "footnotes": "[{}]",
                      "year": "2013",
                      "periodName": "April",
                      "value": "232.531",
                      "period": "M04"
                    },
                    {
                      "footnotes": "[{}]",
                      "year": "2013",
                      "periodName": "March",
                      "value": "232.773",
                      "period": "M03"
                    },
                    {
                      "footnotes": "[{}]",
                      "year": "2013",
                      "periodName": "February",
                      "value": "232.166",
                      "period": "M02"
                    },
                    {
                      "footnotes": "[{}]",
                      "year": "2013",
                      "periodName": "January",
                      "value": "230.280",
                      "period": "M01"
                    },
                    {
                      "footnotes": "[{}]",
                      "year": "2012",
                      "periodName": "December",
                      "value": "229.601",
                      "period": "M12"
                    },
                    {
                      "footnotes": "[{}]",
                      "year": "2012",
                      "periodName": "November",
                      "value": "230.221",
                      "period": "M11"
                    },
                    {
                      "footnotes": "[{}]",
                      "year": "2012",
                      "periodName": "October",
                      "value": "231.317",
                      "period": "M10"
                    },
                    {
                      "footnotes": "[{}]",
                      "year": "2012",
                      "periodName": "September",
                      "value": "231.407",
                      "period": "M09"
                    },
                    {
                      "footnotes": "[{}]",
                      "year": "2012",
                      "periodName": "August",
                      "value": "230.379",
                      "period": "M08"
                    },
                    {
                      "footnotes": "[{}]",
                      "year": "2012",
                      "periodName": "July",
                      "value": "229.104",
                      "period": "M07"
                    },
                    {
                      "footnotes": "[{}]",
                      "year": "2012",
                      "periodName": "June",
                      "value": "229.478",
                      "period": "M06"
                    },
                    {
                      "footnotes": "[{}]",
                      "year": "2012",
                      "periodName": "May",
                      "value": "229.815",
                      "period": "M05"
                    },
                    {
                      "footnotes": "[{}]",
                      "year": "2012",
                      "periodName": "April",
                      "value": "230.085",
                      "period": "M04"
                    },
                    {
                      "footnotes": "[{}]",
                      "year": "2012",
                      "periodName": "March",
                      "value": "229.392",
                      "period": "M03"
                    },
                    {
                      "footnotes": "[{}]",
                      "year": "2012",
                      "periodName": "February",
                      "value": "227.663",
                      "period": "M02"
                    },
                    {
                      "footnotes": "[{}]",
                      "year": "2012",
                      "periodName": "January",
                      "value": "226.665",
                      "period": "M01"
                    },
                    {
                      "footnotes": "[{}]",
                      "year": "2011",
                      "periodName": "December",
                      "value": "225.672",
                      "period": "M12"
                    },
                    {
                      "footnotes": "[{}]",
                      "year": "2011",
                      "periodName": "November",
                      "value": "226.230",
                      "period": "M11"
                    },
                    {
                      "footnotes": "[{}]",
                      "year": "2011",
                      "periodName": "October",
                      "value": "226.421",
                      "period": "M10"
                    },
                    {
                      "footnotes": "[{}]",
                      "year": "2011",
                      "periodName": "September",
                      "value": "226.889",
                      "period": "M09"
                    },
                    {
                      "footnotes": "[{}]",
                      "year": "2011",
                      "periodName": "August",
                      "value": "226.545",
                      "period": "M08"
                    },
                    {
                      "footnotes": "[{}]",
                      "year": "2011",
                      "periodName": "July",
                      "value": "225.922",
                      "period": "M07"
                    },
                    {
                      "footnotes": "[{}]",
                      "year": "2011",
                      "periodName": "June",
                      "value": "225.722",
                      "period": "M06"
                    },
                    {
                      "footnotes": "[{}]",
                      "year": "2011",
                      "periodName": "May",
                      "value": "225.964",
                      "period": "M05"
                    },
                    {
                      "footnotes": "[{}]",
                      "year": "2011",
                      "periodName": "April",
                      "value": "224.906",
                      "period": "M04"
                    },
                    {
                      "footnotes": "[{}]",
                      "year": "2011",
                      "periodName": "March",
                      "value": "223.467",
                      "period": "M03"
                    },
                    {
                      "footnotes": "[{}]",
                      "year": "2011",
                      "periodName": "February",
                      "value": "221.309",
                      "period": "M02"
                    },
                    {
                      "footnotes": "[{}]",
                      "year": "2011",
                      "periodName": "January",
                      "value": "220.223",
                      "period": "M01"
                    }
                  ],
                  "1": "CUUR0000SA0"
                },
                {
                  "0": [
                    {
                      "footnotes": "[{}]",
                      "year": "2014",
                      "periodName": "December",
                      "value": "134.207",
                      "period": "M12"
                    },
                    {
                      "footnotes": "[{}]",
                      "year": "2014",
                      "periodName": "November",
                      "value": "135.107",
                      "period": "M11"
                    },
                    {
                      "footnotes": "[{}]",
                      "year": "2014",
                      "periodName": "October",
                      "value": "135.891",
                      "period": "M10"
                    },
                    {
                      "footnotes": "[{}]",
                      "year": "2014",
                      "periodName": "September",
                      "value": "136.211",
                      "period": "M09"
                    },
                    {
                      "footnotes": "[{}]",
                      "year": "2014",
                      "periodName": "August",
                      "value": "136.127",
                      "period": "M08"
                    },
                    {
                      "footnotes": "[{}]",
                      "year": "2014",
                      "periodName": "July",
                      "value": "136.392",
                      "period": "M07"
                    },
                    {
                      "footnotes": "[{}]",
                      "year": "2014",
                      "periodName": "June",
                      "value": "136.433",
                      "period": "M06"
                    },
                    {
                      "footnotes": "[{}]",
                      "year": "2014",
                      "periodName": "May",
                      "value": "136.216",
                      "period": "M05"
                    },
                    {
                      "footnotes": "[{}]",
                      "year": "2014",
                      "periodName": "April",
                      "value": "135.771",
                      "period": "M04"
                    },
                    {
                      "footnotes": "[{}]",
                      "year": "2014",
                      "periodName": "March",
                      "value": "135.375",
                      "period": "M03"
                    },
                    {
                      "footnotes": "[{}]",
                      "year": "2014",
                      "periodName": "February",
                      "value": "134.542",
                      "period": "M02"
                    },
                    {
                      "footnotes": "[{}]",
                      "year": "2014",
                      "periodName": "January",
                      "value": "134.017",
                      "period": "M01"
                    },
                    {
                      "footnotes": "[{}]",
                      "year": "2013",
                      "periodName": "December",
                      "value": "133.509",
                      "period": "M12"
                    },
                    {
                      "footnotes": "[{}]",
                      "year": "2013",
                      "periodName": "November",
                      "value": "133.596",
                      "period": "M11"
                    },
                    {
                      "footnotes": "[{}]",
                      "year": "2013",
                      "periodName": "October",
                      "value": "133.876",
                      "period": "M10"
                    },
                    {
                      "footnotes": "[{}]",
                      "year": "2013",
                      "periodName": "September",
                      "value": "134.255",
                      "period": "M09"
                    },
                    {
                      "footnotes": "[{}]",
                      "year": "2013",
                      "periodName": "August",
                      "value": "134.098",
                      "period": "M08"
                    },
                    {
                      "footnotes": "[{}]",
                      "year": "2013",
                      "periodName": "July",
                      "value": "133.919",
                      "period": "M07"
                    },
                    {
                      "footnotes": "[{}]",
                      "year": "2013",
                      "periodName": "June",
                      "value": "133.900",
                      "period": "M06"
                    },
                    {
                      "footnotes": "[{}]",
                      "year": "2013",
                      "periodName": "May",
                      "value": "133.626",
                      "period": "M05"
                    },
                    {
                      "footnotes": "[{}]",
                      "year": "2013",
                      "periodName": "April",
                      "value": "133.421",
                      "period": "M04"
                    },
                    {
                      "footnotes": "[{}]",
                      "year": "2013",
                      "periodName": "March",
                      "value": "133.558",
                      "period": "M03"
                    },
                    {
                      "footnotes": "[{}]",
                      "year": "2013",
                      "periodName": "February",
                      "value": "133.204",
                      "period": "M02"
                    },
                    {
                      "footnotes": "[{}]",
                      "year": "2013",
                      "periodName": "January",
                      "value": "132.137",
                      "period": "M01"
                    },
                    {
                      "footnotes": "[{}]",
                      "year": "2012",
                      "periodName": "December",
                      "value": "131.770",
                      "period": "M12"
                    },
                    {
                      "footnotes": "[{}]",
                      "year": "2012",
                      "periodName": "November",
                      "value": "132.208",
                      "period": "M11"
                    },
                    {
                      "footnotes": "[{}]",
                      "year": "2012",
                      "periodName": "October",
                      "value": "132.892",
                      "period": "M10"
                    },
                    {
                      "footnotes": "[{}]",
                      "year": "2012",
                      "periodName": "September",
                      "value": "132.988",
                      "period": "M09"
                    },
                    {
                      "footnotes": "[{}]",
                      "year": "2012",
                      "periodName": "August",
                      "value": "132.430",
                      "period": "M08"
                    },
                    {
                      "footnotes": "[{}]",
                      "year": "2012",
                      "periodName": "July",
                      "value": "131.731",
                      "period": "M07"
                    },
                    {
                      "footnotes": "[{}]",
                      "year": "2012",
                      "periodName": "June",
                      "value": "131.956",
                      "period": "M06"
                    },
                    {
                      "footnotes": "[{}]",
                      "year": "2012",
                      "periodName": "May",
                      "value": "132.154",
                      "period": "M05"
                    },
                    {
                      "footnotes": "[{}]",
                      "year": "2012",
                      "periodName": "April",
                      "value": "132.284",
                      "period": "M04"
                    },
                    {
                      "footnotes": "[{}]",
                      "year": "2012",
                      "periodName": "March",
                      "value": "131.905",
                      "period": "M03"
                    },
                    {
                      "footnotes": "[{}]",
                      "year": "2012",
                      "periodName": "February",
                      "value": "130.953",
                      "period": "M02"
                    },
                    {
                      "footnotes": "[{}]",
                      "year": "2012",
                      "periodName": "January",
                      "value": "130.438",
                      "period": "M01"
                    },
                    {
                      "footnotes": "[{}]",
                      "year": "2011",
                      "periodName": "December",
                      "value": "129.844",
                      "period": "M12"
                    },
                    {
                      "footnotes": "[{}]",
                      "year": "2011",
                      "periodName": "November",
                      "value": "130.196",
                      "period": "M11"
                    },
                    {
                      "footnotes": "[{}]",
                      "year": "2011",
                      "periodName": "October",
                      "value": "130.373",
                      "period": "M10"
                    },
                    {
                      "footnotes": "[{}]",
                      "year": "2011",
                      "periodName": "September",
                      "value": "130.635",
                      "period": "M09"
                    },
                    {
                      "footnotes": "[{}]",
                      "year": "2011",
                      "periodName": "August",
                      "value": "130.351",
                      "period": "M08"
                    },
                    {
                      "footnotes": "[{}]",
                      "year": "2011",
                      "periodName": "July",
                      "value": "129.983",
                      "period": "M07"
                    },
                    {
                      "footnotes": "[{}]",
                      "year": "2011",
                      "periodName": "June",
                      "value": "129.846",
                      "period": "M06"
                    },
                    {
                      "footnotes": "[{}]",
                      "year": "2011",
                      "periodName": "May",
                      "value": "129.999",
                      "period": "M05"
                    },
                    {
                      "footnotes": "[{}]",
                      "year": "2011",
                      "periodName": "April",
                      "value": "129.483",
                      "period": "M04"
                    },
                    {
                      "footnotes": "[{}]",
                      "year": "2011",
                      "periodName": "March",
                      "value": "128.585",
                      "period": "M03"
                    },
                    {
                      "footnotes": "[{}]",
                      "year": "2011",
                      "periodName": "February",
                      "value": "127.363",
                      "period": "M02"
                    },
                    {
                      "footnotes": "[{}]",
                      "year": "2011",
                      "periodName": "January",
                      "value": "126.778",
                      "period": "M01"
                    }
                  ],
                  "1": "SUUR0000SA0"
                }
              ],
              "schema": [
                {
                  "key": "0",
                  "name": "data",
                  "type": "ArrayType(MapType(StringType,StringType,true),true)"
                },
                {
                  "key": "1",
                  "name": "seriesID",
                  "type": "string"
                }
              ],
              "truncated": false
            },
            "isSummary": false,
            "language": "scala"
          },
          "persist_state": {
            "view": {
              "type": "details",
              "tableOptions": {},
              "chartOptions": {
                "chartType": "bar",
                "aggregationType": "count",
                "categoryFieldKeys": [
                  "1"
                ],
                "seriesFieldKeys": [
                  "0"
                ],
                "isStacked": false
              }
            }
          }
        },
        "5a63b32a-af9d-4cd1-93c3-4b9940dcaebd": {
          "type": "Synapse.DataFrame",
          "sync_state": {
            "table": {
              "rows": [
                {
                  "0": "283",
                  "1": "0",
                  "2": "3"
                },
                {
                  "0": "31",
                  "1": "0",
                  "2": "2"
                },
                {
                  "0": "31",
                  "1": "0",
                  "2": "2"
                },
                {
                  "0": "31",
                  "1": "0",
                  "2": "2"
                },
                {
                  "0": "82",
                  "1": "0",
                  "2": "2"
                },
                {
                  "0": "82",
                  "1": "0",
                  "2": "2"
                },
                {
                  "0": "170",
                  "1": "0",
                  "2": "2"
                },
                {
                  "0": "170",
                  "1": "1",
                  "2": "2"
                },
                {
                  "0": "170",
                  "1": "1",
                  "2": "2"
                },
                {
                  "0": "170",
                  "1": "1",
                  "2": "2"
                },
                {
                  "0": "170",
                  "1": "1",
                  "2": "2"
                },
                {
                  "0": "137",
                  "1": "0",
                  "2": "2"
                },
                {
                  "0": "137",
                  "1": "0",
                  "2": "2"
                },
                {
                  "0": "137",
                  "1": "0",
                  "2": "2"
                },
                {
                  "0": "137",
                  "1": "0",
                  "2": "2"
                },
                {
                  "0": "137",
                  "1": "0",
                  "2": "2"
                },
                {
                  "0": "484",
                  "1": "0",
                  "2": "3"
                },
                {
                  "0": "115",
                  "1": "0",
                  "2": "11"
                },
                {
                  "0": "115",
                  "1": "0",
                  "2": "11"
                },
                {
                  "0": "108",
                  "1": "0",
                  "2": "2"
                },
                {
                  "0": "108",
                  "1": "0",
                  "2": "2"
                },
                {
                  "0": "108",
                  "1": "0",
                  "2": "2"
                },
                {
                  "0": "108",
                  "1": "0",
                  "2": "2"
                },
                {
                  "0": "108",
                  "1": "0",
                  "2": "2"
                },
                {
                  "0": "35",
                  "1": "0",
                  "2": "3"
                },
                {
                  "0": "35",
                  "1": "1",
                  "2": "3"
                },
                {
                  "0": "35",
                  "1": "0",
                  "2": "3"
                },
                {
                  "0": "35",
                  "1": "0",
                  "2": "3"
                },
                {
                  "0": "35",
                  "1": "0",
                  "2": "3"
                },
                {
                  "0": "114",
                  "1": "0",
                  "2": "9"
                },
                {
                  "0": "114",
                  "1": "0",
                  "2": "9"
                },
                {
                  "0": "49",
                  "1": "0",
                  "2": "2"
                },
                {
                  "0": "49",
                  "1": "1",
                  "2": "2"
                },
                {
                  "0": "265",
                  "1": "0",
                  "2": "21"
                },
                {
                  "0": "265",
                  "1": "0",
                  "2": "21"
                },
                {
                  "0": "265",
                  "1": "0",
                  "2": "21"
                },
                {
                  "0": "73",
                  "1": "0",
                  "2": "2"
                },
                {
                  "0": "73",
                  "1": "1",
                  "2": "2"
                },
                {
                  "0": "81",
                  "1": "0",
                  "2": "2"
                },
                {
                  "0": "136",
                  "1": "0",
                  "2": "2"
                },
                {
                  "0": "136",
                  "1": "0",
                  "2": "2"
                },
                {
                  "0": "100",
                  "1": "0",
                  "2": "2"
                },
                {
                  "0": "100",
                  "1": "0",
                  "2": "2"
                },
                {
                  "0": "100",
                  "1": "0",
                  "2": "2"
                },
                {
                  "0": "100",
                  "1": "0",
                  "2": "2"
                },
                {
                  "0": "183",
                  "1": "0",
                  "2": "11"
                },
                {
                  "0": "183",
                  "1": "0",
                  "2": "11"
                },
                {
                  "0": "56",
                  "1": "1",
                  "2": "2"
                },
                {
                  "0": "56",
                  "1": "1",
                  "2": "2"
                },
                {
                  "0": "56",
                  "1": "0",
                  "2": "2"
                },
                {
                  "0": "56",
                  "1": "0",
                  "2": "2"
                },
                {
                  "0": "56",
                  "1": "0",
                  "2": "2"
                },
                {
                  "0": "56",
                  "1": "0",
                  "2": "2"
                },
                {
                  "0": "56",
                  "1": "0",
                  "2": "2"
                },
                {
                  "0": "239",
                  "1": "0",
                  "2": "5"
                },
                {
                  "0": "239",
                  "1": "0",
                  "2": "5"
                },
                {
                  "0": "239",
                  "1": "0",
                  "2": "5"
                },
                {
                  "0": "148",
                  "1": "0",
                  "2": "2"
                },
                {
                  "0": "148",
                  "1": "0",
                  "2": "2"
                },
                {
                  "0": "59",
                  "1": "0",
                  "2": "2"
                },
                {
                  "0": "59",
                  "1": "0",
                  "2": "2"
                },
                {
                  "0": "59",
                  "1": "0",
                  "2": "2"
                },
                {
                  "0": "59",
                  "1": "0",
                  "2": "2"
                },
                {
                  "0": "164",
                  "1": "0",
                  "2": "2"
                },
                {
                  "0": "89",
                  "1": "0",
                  "2": "3"
                },
                {
                  "0": "89",
                  "1": "0",
                  "2": "3"
                },
                {
                  "0": "89",
                  "1": "0",
                  "2": "3"
                },
                {
                  "0": "89",
                  "1": "0",
                  "2": "3"
                },
                {
                  "0": "29",
                  "1": "0",
                  "2": "7"
                },
                {
                  "0": "29",
                  "1": "1",
                  "2": "7"
                },
                {
                  "0": "29",
                  "1": "1",
                  "2": "7"
                },
                {
                  "0": "29",
                  "1": "1",
                  "2": "7"
                },
                {
                  "0": "29",
                  "1": "1",
                  "2": "7"
                },
                {
                  "0": "63",
                  "1": "0",
                  "2": "4"
                },
                {
                  "0": "63",
                  "1": "0",
                  "2": "4"
                },
                {
                  "0": "63",
                  "1": "0",
                  "2": "4"
                },
                {
                  "0": "334",
                  "1": "0",
                  "2": "2"
                },
                {
                  "0": "334",
                  "1": "0",
                  "2": "2"
                },
                {
                  "0": "334",
                  "1": "0",
                  "2": "2"
                },
                {
                  "0": "334",
                  "1": "0",
                  "2": "2"
                },
                {
                  "0": "334",
                  "1": "0",
                  "2": "2"
                },
                {
                  "0": "298",
                  "1": "0",
                  "2": "2"
                },
                {
                  "0": "298",
                  "1": "0",
                  "2": "2"
                },
                {
                  "0": "239",
                  "1": "0",
                  "2": "2"
                },
                {
                  "0": "239",
                  "1": "0",
                  "2": "2"
                },
                {
                  "0": "239",
                  "1": "0",
                  "2": "2"
                },
                {
                  "0": "239",
                  "1": "0",
                  "2": "2"
                },
                {
                  "0": "19",
                  "1": "0",
                  "2": "2"
                },
                {
                  "0": "19",
                  "1": "0",
                  "2": "2"
                },
                {
                  "0": "19",
                  "1": "0",
                  "2": "2"
                },
                {
                  "0": "19",
                  "1": "0",
                  "2": "2"
                },
                {
                  "0": "19",
                  "1": "0",
                  "2": "2"
                },
                {
                  "0": "41",
                  "1": "0",
                  "2": "2"
                },
                {
                  "0": "82",
                  "1": "0",
                  "2": "2"
                },
                {
                  "0": "69",
                  "1": "0",
                  "2": "19"
                },
                {
                  "0": "100",
                  "1": "0",
                  "2": "2"
                },
                {
                  "0": "100",
                  "1": "0",
                  "2": "2"
                },
                {
                  "0": "100",
                  "1": "0",
                  "2": "2"
                },
                {
                  "0": "74",
                  "1": "1",
                  "2": "24"
                },
                {
                  "0": "74",
                  "1": "1",
                  "2": "24"
                },
                {
                  "0": "82",
                  "1": "0",
                  "2": "2"
                },
                {
                  "0": "82",
                  "1": "0",
                  "2": "2"
                },
                {
                  "0": "82",
                  "1": "0",
                  "2": "2"
                },
                {
                  "0": "195",
                  "1": "0",
                  "2": "2"
                },
                {
                  "0": "195",
                  "1": "0",
                  "2": "2"
                },
                {
                  "0": "195",
                  "1": "0",
                  "2": "2"
                },
                {
                  "0": "217",
                  "1": "0",
                  "2": "5"
                },
                {
                  "0": "217",
                  "1": "1",
                  "2": "5"
                },
                {
                  "0": "217",
                  "1": "1",
                  "2": "5"
                },
                {
                  "0": "217",
                  "1": "1",
                  "2": "5"
                },
                {
                  "0": "217",
                  "1": "1",
                  "2": "5"
                },
                {
                  "0": "217",
                  "1": "1",
                  "2": "5"
                },
                {
                  "0": "217",
                  "1": "1",
                  "2": "5"
                },
                {
                  "0": "69",
                  "1": "0",
                  "2": "2"
                },
                {
                  "0": "69",
                  "1": "0",
                  "2": "2"
                },
                {
                  "0": "69",
                  "1": "0",
                  "2": "2"
                },
                {
                  "0": "102",
                  "1": "0",
                  "2": "11"
                },
                {
                  "0": "102",
                  "1": "0",
                  "2": "11"
                },
                {
                  "0": "102",
                  "1": "0",
                  "2": "11"
                },
                {
                  "0": "102",
                  "1": "0",
                  "2": "11"
                },
                {
                  "0": "286",
                  "1": "0",
                  "2": "2"
                },
                {
                  "0": "286",
                  "1": "0",
                  "2": "2"
                },
                {
                  "0": "286",
                  "1": "0",
                  "2": "2"
                },
                {
                  "0": "286",
                  "1": "0",
                  "2": "2"
                },
                {
                  "0": "100",
                  "1": "0",
                  "2": "13"
                },
                {
                  "0": "100",
                  "1": "0",
                  "2": "13"
                },
                {
                  "0": "100",
                  "1": "0",
                  "2": "13"
                },
                {
                  "0": "100",
                  "1": "0",
                  "2": "13"
                },
                {
                  "0": "34",
                  "1": "0",
                  "2": "4"
                },
                {
                  "0": "34",
                  "1": "1",
                  "2": "4"
                },
                {
                  "0": "128",
                  "1": "0",
                  "2": "23"
                },
                {
                  "0": "128",
                  "1": "0",
                  "2": "23"
                },
                {
                  "0": "128",
                  "1": "0",
                  "2": "23"
                },
                {
                  "0": "88",
                  "1": "0",
                  "2": "4"
                },
                {
                  "0": "88",
                  "1": "0",
                  "2": "4"
                },
                {
                  "0": "88",
                  "1": "0",
                  "2": "4"
                },
                {
                  "0": "118",
                  "1": "0",
                  "2": "5"
                },
                {
                  "0": "118",
                  "1": "0",
                  "2": "5"
                },
                {
                  "0": "118",
                  "1": "0",
                  "2": "5"
                },
                {
                  "0": "158",
                  "1": "0",
                  "2": "2"
                },
                {
                  "0": "158",
                  "1": "0",
                  "2": "2"
                },
                {
                  "0": "158",
                  "1": "0",
                  "2": "2"
                },
                {
                  "0": "453",
                  "1": "0",
                  "2": "3"
                },
                {
                  "0": "453",
                  "1": "0",
                  "2": "3"
                },
                {
                  "0": "453",
                  "1": "0",
                  "2": "3"
                },
                {
                  "0": "453",
                  "1": "0",
                  "2": "3"
                },
                {
                  "0": "453",
                  "1": "0",
                  "2": "3"
                },
                {
                  "0": "87",
                  "1": "0",
                  "2": "2"
                },
                {
                  "0": "87",
                  "1": "0",
                  "2": "2"
                },
                {
                  "0": "87",
                  "1": "0",
                  "2": "2"
                },
                {
                  "0": "87",
                  "1": "0",
                  "2": "2"
                },
                {
                  "0": "87",
                  "1": "0",
                  "2": "2"
                },
                {
                  "0": "113",
                  "1": "1",
                  "2": "21"
                },
                {
                  "0": "113",
                  "1": "0",
                  "2": "21"
                },
                {
                  "0": "113",
                  "1": "0",
                  "2": "21"
                },
                {
                  "0": "105",
                  "1": "0",
                  "2": "2"
                },
                {
                  "0": "105",
                  "1": "0",
                  "2": "2"
                },
                {
                  "0": "105",
                  "1": "0",
                  "2": "2"
                },
                {
                  "0": "105",
                  "1": "0",
                  "2": "2"
                },
                {
                  "0": "51",
                  "1": "0",
                  "2": "16"
                },
                {
                  "0": "47",
                  "1": "1",
                  "2": "2"
                },
                {
                  "0": "47",
                  "1": "0",
                  "2": "2"
                },
                {
                  "0": "52",
                  "1": "0",
                  "2": "24"
                },
                {
                  "0": "177",
                  "1": "0",
                  "2": "2"
                },
                {
                  "0": "177",
                  "1": "0",
                  "2": "2"
                },
                {
                  "0": "177",
                  "1": "0",
                  "2": "2"
                },
                {
                  "0": "177",
                  "1": "0",
                  "2": "2"
                },
                {
                  "0": "139",
                  "1": "0",
                  "2": "2"
                },
                {
                  "0": "139",
                  "1": "0",
                  "2": "2"
                },
                {
                  "0": "187",
                  "1": "0",
                  "2": "2"
                },
                {
                  "0": "187",
                  "1": "0",
                  "2": "2"
                },
                {
                  "0": "187",
                  "1": "0",
                  "2": "2"
                },
                {
                  "0": "187",
                  "1": "0",
                  "2": "2"
                },
                {
                  "0": "187",
                  "1": "0",
                  "2": "2"
                },
                {
                  "0": "187",
                  "1": "0",
                  "2": "2"
                },
                {
                  "0": "135",
                  "1": "1",
                  "2": "5"
                },
                {
                  "0": "135",
                  "1": "0",
                  "2": "5"
                },
                {
                  "0": "67",
                  "1": "0",
                  "2": "2"
                },
                {
                  "0": "67",
                  "1": "0",
                  "2": "2"
                },
                {
                  "0": "67",
                  "1": "0",
                  "2": "2"
                },
                {
                  "0": "67",
                  "1": "0",
                  "2": "2"
                },
                {
                  "0": "57",
                  "1": "0",
                  "2": "4"
                },
                {
                  "0": "57",
                  "1": "0",
                  "2": "4"
                },
                {
                  "0": "124",
                  "1": "0",
                  "2": "2"
                },
                {
                  "0": "124",
                  "1": "0",
                  "2": "2"
                },
                {
                  "0": "124",
                  "1": "0",
                  "2": "2"
                },
                {
                  "0": "124",
                  "1": "0",
                  "2": "2"
                },
                {
                  "0": "124",
                  "1": "0",
                  "2": "2"
                },
                {
                  "0": "201",
                  "1": "1",
                  "2": "24"
                },
                {
                  "0": "201",
                  "1": "1",
                  "2": "24"
                },
                {
                  "0": "201",
                  "1": "1",
                  "2": "24"
                },
                {
                  "0": "201",
                  "1": "1",
                  "2": "24"
                },
                {
                  "0": "61",
                  "1": "0",
                  "2": "5"
                },
                {
                  "0": "61",
                  "1": "1",
                  "2": "5"
                },
                {
                  "0": "108",
                  "1": "0",
                  "2": "2"
                },
                {
                  "0": "108",
                  "1": "0",
                  "2": "2"
                },
                {
                  "0": "108",
                  "1": "0",
                  "2": "2"
                },
                {
                  "0": "108",
                  "1": "0",
                  "2": "2"
                },
                {
                  "0": "31",
                  "1": "0",
                  "2": "2"
                },
                {
                  "0": "160",
                  "1": "0",
                  "2": "2"
                },
                {
                  "0": "160",
                  "1": "0",
                  "2": "2"
                },
                {
                  "0": "160",
                  "1": "0",
                  "2": "2"
                },
                {
                  "0": "288",
                  "1": "0",
                  "2": "8"
                },
                {
                  "0": "288",
                  "1": "0",
                  "2": "8"
                },
                {
                  "0": "288",
                  "1": "0",
                  "2": "8"
                },
                {
                  "0": "288",
                  "1": "0",
                  "2": "8"
                },
                {
                  "0": "314",
                  "1": "0",
                  "2": "2"
                },
                {
                  "0": "314",
                  "1": "0",
                  "2": "2"
                },
                {
                  "0": "67",
                  "1": "0",
                  "2": "2"
                },
                {
                  "0": "67",
                  "1": "0",
                  "2": "2"
                },
                {
                  "0": "67",
                  "1": "1",
                  "2": "2"
                },
                {
                  "0": "67",
                  "1": "0",
                  "2": "2"
                },
                {
                  "0": "56",
                  "1": "1",
                  "2": "2"
                },
                {
                  "0": "56",
                  "1": "1",
                  "2": "2"
                },
                {
                  "0": "56",
                  "1": "1",
                  "2": "2"
                },
                {
                  "0": "56",
                  "1": "1",
                  "2": "2"
                },
                {
                  "0": "154",
                  "1": "0",
                  "2": "3"
                },
                {
                  "0": "154",
                  "1": "0",
                  "2": "3"
                },
                {
                  "0": "154",
                  "1": "0",
                  "2": "3"
                },
                {
                  "0": "154",
                  "1": "0",
                  "2": "3"
                },
                {
                  "0": "186",
                  "1": "1",
                  "2": "3"
                },
                {
                  "0": "186",
                  "1": "1",
                  "2": "3"
                },
                {
                  "0": "186",
                  "1": "1",
                  "2": "3"
                },
                {
                  "0": "135",
                  "1": "0",
                  "2": "2"
                },
                {
                  "0": "135",
                  "1": "0",
                  "2": "2"
                },
                {
                  "0": "135",
                  "1": "0",
                  "2": "2"
                },
                {
                  "0": "135",
                  "1": "0",
                  "2": "2"
                },
                {
                  "0": "89",
                  "1": "0",
                  "2": "6"
                },
                {
                  "0": "89",
                  "1": "0",
                  "2": "6"
                },
                {
                  "0": "89",
                  "1": "0",
                  "2": "6"
                },
                {
                  "0": "110",
                  "1": "0",
                  "2": "3"
                },
                {
                  "0": "110",
                  "1": "0",
                  "2": "3"
                },
                {
                  "0": "154",
                  "1": "0",
                  "2": "2"
                },
                {
                  "0": "154",
                  "1": "0",
                  "2": "2"
                },
                {
                  "0": "165",
                  "1": "0",
                  "2": "24"
                },
                {
                  "0": "41",
                  "1": "0",
                  "2": "4"
                },
                {
                  "0": "41",
                  "1": "0",
                  "2": "4"
                },
                {
                  "0": "41",
                  "1": "0",
                  "2": "4"
                },
                {
                  "0": "41",
                  "1": "1",
                  "2": "4"
                },
                {
                  "0": "43",
                  "1": "1",
                  "2": "2"
                },
                {
                  "0": "43",
                  "1": "0",
                  "2": "2"
                },
                {
                  "0": "156",
                  "1": "0",
                  "2": "16"
                },
                {
                  "0": "156",
                  "1": "0",
                  "2": "16"
                },
                {
                  "0": "156",
                  "1": "0",
                  "2": "16"
                },
                {
                  "0": "156",
                  "1": "0",
                  "2": "16"
                },
                {
                  "0": "37",
                  "1": "1",
                  "2": "24"
                },
                {
                  "0": "37",
                  "1": "1",
                  "2": "24"
                },
                {
                  "0": "279",
                  "1": "0",
                  "2": "2"
                },
                {
                  "0": "279",
                  "1": "0",
                  "2": "2"
                },
                {
                  "0": "279",
                  "1": "0",
                  "2": "2"
                },
                {
                  "0": "279",
                  "1": "0",
                  "2": "2"
                },
                {
                  "0": "279",
                  "1": "1",
                  "2": "2"
                },
                {
                  "0": "93",
                  "1": "0",
                  "2": "2"
                },
                {
                  "0": "93",
                  "1": "0",
                  "2": "2"
                },
                {
                  "0": "58",
                  "1": "0",
                  "2": "19"
                },
                {
                  "0": "58",
                  "1": "1",
                  "2": "19"
                },
                {
                  "0": "58",
                  "1": "1",
                  "2": "19"
                },
                {
                  "0": "117",
                  "1": "0",
                  "2": "2"
                },
                {
                  "0": "117",
                  "1": "0",
                  "2": "2"
                },
                {
                  "0": "31",
                  "1": "0",
                  "2": "2"
                },
                {
                  "0": "31",
                  "1": "0",
                  "2": "2"
                },
                {
                  "0": "31",
                  "1": "0",
                  "2": "2"
                },
                {
                  "0": "31",
                  "1": "0",
                  "2": "2"
                },
                {
                  "0": "31",
                  "1": "0",
                  "2": "2"
                },
                {
                  "0": "18",
                  "1": "0",
                  "2": "2"
                },
                {
                  "0": "18",
                  "1": "0",
                  "2": "2"
                },
                {
                  "0": "18",
                  "1": "0",
                  "2": "2"
                },
                {
                  "0": "18",
                  "1": "0",
                  "2": "2"
                },
                {
                  "0": "18",
                  "1": "0",
                  "2": "2"
                },
                {
                  "0": "172",
                  "1": "0",
                  "2": "3"
                },
                {
                  "0": "172",
                  "1": "1",
                  "2": "3"
                },
                {
                  "0": "172",
                  "1": "0",
                  "2": "3"
                },
                {
                  "0": "172",
                  "1": "0",
                  "2": "3"
                },
                {
                  "0": "58",
                  "1": "0",
                  "2": "2"
                },
                {
                  "0": "58",
                  "1": "1",
                  "2": "2"
                },
                {
                  "0": "58",
                  "1": "0",
                  "2": "2"
                },
                {
                  "0": "58",
                  "1": "0",
                  "2": "2"
                },
                {
                  "0": "58",
                  "1": "0",
                  "2": "2"
                },
                {
                  "0": "51",
                  "1": "0",
                  "2": "5"
                },
                {
                  "0": "51",
                  "1": "0",
                  "2": "5"
                },
                {
                  "0": "51",
                  "1": "0",
                  "2": "5"
                },
                {
                  "0": "51",
                  "1": "0",
                  "2": "5"
                },
                {
                  "0": "195",
                  "1": "0",
                  "2": "14"
                },
                {
                  "0": "195",
                  "1": "0",
                  "2": "14"
                },
                {
                  "0": "195",
                  "1": "0",
                  "2": "14"
                },
                {
                  "0": "195",
                  "1": "0",
                  "2": "14"
                },
                {
                  "0": "248",
                  "1": "0",
                  "2": "3"
                },
                {
                  "0": "248",
                  "1": "0",
                  "2": "3"
                },
                {
                  "0": "248",
                  "1": "0",
                  "2": "3"
                },
                {
                  "0": "248",
                  "1": "0",
                  "2": "3"
                },
                {
                  "0": "34",
                  "1": "1",
                  "2": "21"
                },
                {
                  "0": "34",
                  "1": "0",
                  "2": "21"
                },
                {
                  "0": "34",
                  "1": "0",
                  "2": "21"
                },
                {
                  "0": "49",
                  "1": "0",
                  "2": "3"
                },
                {
                  "0": "49",
                  "1": "0",
                  "2": "3"
                },
                {
                  "0": "49",
                  "1": "0",
                  "2": "3"
                },
                {
                  "0": "150",
                  "1": "0",
                  "2": "23"
                },
                {
                  "0": "150",
                  "1": "0",
                  "2": "23"
                },
                {
                  "0": "150",
                  "1": "0",
                  "2": "23"
                },
                {
                  "0": "432",
                  "1": "1",
                  "2": "11"
                },
                {
                  "0": "432",
                  "1": "1",
                  "2": "11"
                },
                {
                  "0": "432",
                  "1": "1",
                  "2": "11"
                },
                {
                  "0": "432",
                  "1": "1",
                  "2": "11"
                },
                {
                  "0": "432",
                  "1": "1",
                  "2": "11"
                },
                {
                  "0": "432",
                  "1": "1",
                  "2": "11"
                },
                {
                  "0": "91",
                  "1": "0",
                  "2": "4"
                },
                {
                  "0": "91",
                  "1": "0",
                  "2": "4"
                },
                {
                  "0": "89",
                  "1": "0",
                  "2": "11"
                },
                {
                  "0": "89",
                  "1": "0",
                  "2": "11"
                },
                {
                  "0": "89",
                  "1": "0",
                  "2": "11"
                },
                {
                  "0": "125",
                  "1": "0",
                  "2": "2"
                },
                {
                  "0": "125",
                  "1": "0",
                  "2": "2"
                },
                {
                  "0": "98",
                  "1": "1",
                  "2": "2"
                },
                {
                  "0": "98",
                  "1": "0",
                  "2": "2"
                },
                {
                  "0": "98",
                  "1": "1",
                  "2": "2"
                },
                {
                  "0": "80",
                  "1": "0",
                  "2": "2"
                },
                {
                  "0": "53",
                  "1": "0",
                  "2": "22"
                },
                {
                  "0": "115",
                  "1": "0",
                  "2": "2"
                },
                {
                  "0": "115",
                  "1": "0",
                  "2": "2"
                },
                {
                  "0": "56",
                  "1": "0",
                  "2": "2"
                },
                {
                  "0": "56",
                  "1": "0",
                  "2": "2"
                },
                {
                  "0": "56",
                  "1": "0",
                  "2": "2"
                },
                {
                  "0": "56",
                  "1": "0",
                  "2": "2"
                },
                {
                  "0": "56",
                  "1": "0",
                  "2": "2"
                },
                {
                  "0": "56",
                  "1": "1",
                  "2": "2"
                },
                {
                  "0": "56",
                  "1": "1",
                  "2": "2"
                },
                {
                  "0": "56",
                  "1": "1",
                  "2": "2"
                },
                {
                  "0": "139",
                  "1": "0",
                  "2": "2"
                },
                {
                  "0": "57",
                  "1": "0",
                  "2": "2"
                },
                {
                  "0": "57",
                  "1": "0",
                  "2": "2"
                },
                {
                  "0": "57",
                  "1": "0",
                  "2": "2"
                },
                {
                  "0": "57",
                  "1": "0",
                  "2": "2"
                },
                {
                  "0": "57",
                  "1": "0",
                  "2": "2"
                },
                {
                  "0": "27",
                  "1": "0",
                  "2": "2"
                },
                {
                  "0": "27",
                  "1": "0",
                  "2": "2"
                },
                {
                  "0": "27",
                  "1": "0",
                  "2": "2"
                },
                {
                  "0": "27",
                  "1": "0",
                  "2": "2"
                },
                {
                  "0": "136",
                  "1": "0",
                  "2": "2"
                },
                {
                  "0": "136",
                  "1": "0",
                  "2": "2"
                },
                {
                  "0": "136",
                  "1": "0",
                  "2": "2"
                },
                {
                  "0": "197",
                  "1": "1",
                  "2": "2"
                },
                {
                  "0": "197",
                  "1": "1",
                  "2": "2"
                },
                {
                  "0": "87",
                  "1": "0",
                  "2": "2"
                },
                {
                  "0": "87",
                  "1": "1",
                  "2": "2"
                },
                {
                  "0": "87",
                  "1": "1",
                  "2": "2"
                },
                {
                  "0": "87",
                  "1": "1",
                  "2": "2"
                },
                {
                  "0": "87",
                  "1": "1",
                  "2": "2"
                },
                {
                  "0": "94",
                  "1": "0",
                  "2": "18"
                },
                {
                  "0": "94",
                  "1": "0",
                  "2": "18"
                },
                {
                  "0": "110",
                  "1": "0",
                  "2": "21"
                },
                {
                  "0": "93",
                  "1": "0",
                  "2": "2"
                },
                {
                  "0": "93",
                  "1": "0",
                  "2": "2"
                },
                {
                  "0": "93",
                  "1": "0",
                  "2": "2"
                },
                {
                  "0": "93",
                  "1": "0",
                  "2": "2"
                },
                {
                  "0": "93",
                  "1": "0",
                  "2": "2"
                },
                {
                  "0": "50",
                  "1": "0",
                  "2": "24"
                },
                {
                  "0": "50",
                  "1": "1",
                  "2": "24"
                },
                {
                  "0": "50",
                  "1": "1",
                  "2": "24"
                },
                {
                  "0": "62",
                  "1": "0",
                  "2": "2"
                },
                {
                  "0": "273",
                  "1": "0",
                  "2": "2"
                },
                {
                  "0": "273",
                  "1": "0",
                  "2": "2"
                },
                {
                  "0": "273",
                  "1": "0",
                  "2": "2"
                },
                {
                  "0": "273",
                  "1": "0",
                  "2": "2"
                },
                {
                  "0": "153",
                  "1": "0",
                  "2": "2"
                },
                {
                  "0": "153",
                  "1": "0",
                  "2": "2"
                },
                {
                  "0": "153",
                  "1": "0",
                  "2": "2"
                },
                {
                  "0": "153",
                  "1": "1",
                  "2": "2"
                },
                {
                  "0": "153",
                  "1": "1",
                  "2": "2"
                },
                {
                  "0": "156",
                  "1": "1",
                  "2": "16"
                },
                {
                  "0": "156",
                  "1": "0",
                  "2": "16"
                },
                {
                  "0": "121",
                  "1": "0",
                  "2": "10"
                },
                {
                  "0": "121",
                  "1": "0",
                  "2": "10"
                },
                {
                  "0": "121",
                  "1": "0",
                  "2": "10"
                },
                {
                  "0": "51",
                  "1": "0",
                  "2": "2"
                },
                {
                  "0": "51",
                  "1": "0",
                  "2": "2"
                },
                {
                  "0": "93",
                  "1": "0",
                  "2": "2"
                },
                {
                  "0": "93",
                  "1": "0",
                  "2": "2"
                },
                {
                  "0": "166",
                  "1": "0",
                  "2": "2"
                },
                {
                  "0": "166",
                  "1": "0",
                  "2": "2"
                },
                {
                  "0": "166",
                  "1": "0",
                  "2": "2"
                },
                {
                  "0": "166",
                  "1": "0",
                  "2": "2"
                },
                {
                  "0": "166",
                  "1": "0",
                  "2": "2"
                },
                {
                  "0": "28",
                  "1": "0",
                  "2": "2"
                },
                {
                  "0": "28",
                  "1": "0",
                  "2": "2"
                },
                {
                  "0": "28",
                  "1": "0",
                  "2": "2"
                },
                {
                  "0": "82",
                  "1": "0",
                  "2": "2"
                },
                {
                  "0": "50",
                  "1": "0",
                  "2": "2"
                },
                {
                  "0": "50",
                  "1": "0",
                  "2": "2"
                },
                {
                  "0": "50",
                  "1": "0",
                  "2": "2"
                },
                {
                  "0": "61",
                  "1": "0",
                  "2": "11"
                },
                {
                  "0": "278",
                  "1": "0",
                  "2": "2"
                },
                {
                  "0": "278",
                  "1": "0",
                  "2": "2"
                },
                {
                  "0": "278",
                  "1": "0",
                  "2": "2"
                },
                {
                  "0": "67",
                  "1": "0",
                  "2": "24"
                },
                {
                  "0": "67",
                  "1": "0",
                  "2": "24"
                },
                {
                  "0": "67",
                  "1": "1",
                  "2": "24"
                },
                {
                  "0": "67",
                  "1": "1",
                  "2": "24"
                },
                {
                  "0": "40",
                  "1": "0",
                  "2": "9"
                },
                {
                  "0": "40",
                  "1": "0",
                  "2": "9"
                },
                {
                  "0": "40",
                  "1": "0",
                  "2": "9"
                },
                {
                  "0": "40",
                  "1": "0",
                  "2": "9"
                },
                {
                  "0": "276",
                  "1": "0",
                  "2": "11"
                },
                {
                  "0": "276",
                  "1": "0",
                  "2": "11"
                },
                {
                  "0": "276",
                  "1": "1",
                  "2": "11"
                },
                {
                  "0": "276",
                  "1": "0",
                  "2": "11"
                },
                {
                  "0": "132",
                  "1": "0",
                  "2": "3"
                },
                {
                  "0": "132",
                  "1": "0",
                  "2": "3"
                },
                {
                  "0": "94",
                  "1": "0",
                  "2": "2"
                },
                {
                  "0": "94",
                  "1": "0",
                  "2": "2"
                },
                {
                  "0": "94",
                  "1": "0",
                  "2": "2"
                },
                {
                  "0": "94",
                  "1": "0",
                  "2": "2"
                },
                {
                  "0": "168",
                  "1": "0",
                  "2": "2"
                },
                {
                  "0": "70",
                  "1": "1",
                  "2": "7"
                },
                {
                  "0": "70",
                  "1": "1",
                  "2": "7"
                },
                {
                  "0": "70",
                  "1": "1",
                  "2": "7"
                },
                {
                  "0": "70",
                  "1": "1",
                  "2": "7"
                },
                {
                  "0": "70",
                  "1": "1",
                  "2": "7"
                },
                {
                  "0": "70",
                  "1": "1",
                  "2": "7"
                },
                {
                  "0": "15",
                  "1": "0",
                  "2": "2"
                },
                {
                  "0": "15",
                  "1": "0",
                  "2": "2"
                },
                {
                  "0": "15",
                  "1": "0",
                  "2": "2"
                },
                {
                  "0": "64",
                  "1": "0",
                  "2": "11"
                },
                {
                  "0": "92",
                  "1": "0",
                  "2": "15"
                },
                {
                  "0": "92",
                  "1": "0",
                  "2": "15"
                },
                {
                  "0": "92",
                  "1": "0",
                  "2": "15"
                },
                {
                  "0": "54",
                  "1": "0",
                  "2": "2"
                },
                {
                  "0": "54",
                  "1": "1",
                  "2": "2"
                },
                {
                  "0": "92",
                  "1": "0",
                  "2": "24"
                },
                {
                  "0": "52",
                  "1": "0",
                  "2": "2"
                },
                {
                  "0": "110",
                  "1": "0",
                  "2": "2"
                },
                {
                  "0": "132",
                  "1": "1",
                  "2": "2"
                },
                {
                  "0": "132",
                  "1": "1",
                  "2": "2"
                },
                {
                  "0": "55",
                  "1": "0",
                  "2": "2"
                },
                {
                  "0": "55",
                  "1": "0",
                  "2": "2"
                },
                {
                  "0": "163",
                  "1": "0",
                  "2": "19"
                },
                {
                  "0": "163",
                  "1": "0",
                  "2": "19"
                },
                {
                  "0": "88",
                  "1": "0",
                  "2": "2"
                },
                {
                  "0": "88",
                  "1": "0",
                  "2": "2"
                },
                {
                  "0": "85",
                  "1": "0",
                  "2": "2"
                },
                {
                  "0": "85",
                  "1": "1",
                  "2": "2"
                },
                {
                  "0": "85",
                  "1": "1",
                  "2": "2"
                },
                {
                  "0": "85",
                  "1": "1",
                  "2": "2"
                },
                {
                  "0": "45",
                  "1": "0",
                  "2": "2"
                },
                {
                  "0": "45",
                  "1": "0",
                  "2": "2"
                },
                {
                  "0": "262",
                  "1": "1",
                  "2": "2"
                },
                {
                  "0": "262",
                  "1": "1",
                  "2": "2"
                },
                {
                  "0": "262",
                  "1": "1",
                  "2": "2"
                },
                {
                  "0": "124",
                  "1": "0",
                  "2": "2"
                },
                {
                  "0": "169",
                  "1": "0",
                  "2": "2"
                },
                {
                  "0": "169",
                  "1": "0",
                  "2": "2"
                },
                {
                  "0": "57",
                  "1": "0",
                  "2": "16"
                },
                {
                  "0": "57",
                  "1": "0",
                  "2": "16"
                },
                {
                  "0": "53",
                  "1": "0",
                  "2": "2"
                },
                {
                  "0": "53",
                  "1": "0",
                  "2": "2"
                },
                {
                  "0": "53",
                  "1": "0",
                  "2": "2"
                },
                {
                  "0": "53",
                  "1": "0",
                  "2": "2"
                },
                {
                  "0": "53",
                  "1": "0",
                  "2": "2"
                },
                {
                  "0": "41",
                  "1": "0",
                  "2": "2"
                },
                {
                  "0": "246",
                  "1": "1",
                  "2": "5"
                },
                {
                  "0": "246",
                  "1": "1",
                  "2": "5"
                },
                {
                  "0": "76",
                  "1": "0",
                  "2": "2"
                },
                {
                  "0": "76",
                  "1": "0",
                  "2": "2"
                },
                {
                  "0": "76",
                  "1": "0",
                  "2": "2"
                },
                {
                  "0": "66",
                  "1": "0",
                  "2": "2"
                },
                {
                  "0": "66",
                  "1": "0",
                  "2": "2"
                },
                {
                  "0": "107",
                  "1": "1",
                  "2": "2"
                },
                {
                  "0": "107",
                  "1": "0",
                  "2": "2"
                },
                {
                  "0": "107",
                  "1": "1",
                  "2": "2"
                },
                {
                  "0": "107",
                  "1": "1",
                  "2": "2"
                },
                {
                  "0": "107",
                  "1": "1",
                  "2": "2"
                },
                {
                  "0": "44",
                  "1": "1",
                  "2": "18"
                },
                {
                  "0": "114",
                  "1": "1",
                  "2": "2"
                },
                {
                  "0": "114",
                  "1": "1",
                  "2": "2"
                },
                {
                  "0": "114",
                  "1": "1",
                  "2": "2"
                },
                {
                  "0": "114",
                  "1": "1",
                  "2": "2"
                },
                {
                  "0": "114",
                  "1": "1",
                  "2": "2"
                },
                {
                  "0": "114",
                  "1": "1",
                  "2": "2"
                },
                {
                  "0": "330",
                  "1": "0",
                  "2": "5"
                },
                {
                  "0": "330",
                  "1": "0",
                  "2": "5"
                },
                {
                  "0": "330",
                  "1": "0",
                  "2": "5"
                },
                {
                  "0": "332",
                  "1": "0",
                  "2": "2"
                },
                {
                  "0": "332",
                  "1": "0",
                  "2": "2"
                },
                {
                  "0": "116",
                  "1": "1",
                  "2": "2"
                },
                {
                  "0": "116",
                  "1": "1",
                  "2": "2"
                },
                {
                  "0": "116",
                  "1": "0",
                  "2": "2"
                },
                {
                  "0": "83",
                  "1": "0",
                  "2": "2"
                },
                {
                  "0": "83",
                  "1": "0",
                  "2": "2"
                },
                {
                  "0": "83",
                  "1": "0",
                  "2": "2"
                },
                {
                  "0": "83",
                  "1": "0",
                  "2": "2"
                },
                {
                  "0": "33",
                  "1": "0",
                  "2": "3"
                },
                {
                  "0": "33",
                  "1": "0",
                  "2": "3"
                },
                {
                  "0": "85",
                  "1": "0",
                  "2": "3"
                },
                {
                  "0": "85",
                  "1": "0",
                  "2": "3"
                },
                {
                  "0": "110",
                  "1": "0",
                  "2": "2"
                },
                {
                  "0": "110",
                  "1": "0",
                  "2": "2"
                },
                {
                  "0": "110",
                  "1": "0",
                  "2": "2"
                },
                {
                  "0": "110",
                  "1": "1",
                  "2": "2"
                },
                {
                  "0": "110",
                  "1": "0",
                  "2": "2"
                },
                {
                  "0": "110",
                  "1": "1",
                  "2": "2"
                },
                {
                  "0": "110",
                  "1": "0",
                  "2": "2"
                },
                {
                  "0": "41",
                  "1": "1",
                  "2": "2"
                },
                {
                  "0": "41",
                  "1": "0",
                  "2": "2"
                },
                {
                  "0": "41",
                  "1": "0",
                  "2": "2"
                },
                {
                  "0": "41",
                  "1": "1",
                  "2": "2"
                },
                {
                  "0": "58",
                  "1": "0",
                  "2": "2"
                },
                {
                  "0": "58",
                  "1": "0",
                  "2": "2"
                },
                {
                  "0": "58",
                  "1": "0",
                  "2": "2"
                },
                {
                  "0": "58",
                  "1": "0",
                  "2": "2"
                },
                {
                  "0": "134",
                  "1": "0",
                  "2": "8"
                },
                {
                  "0": "174",
                  "1": "0",
                  "2": "5"
                },
                {
                  "0": "174",
                  "1": "0",
                  "2": "5"
                },
                {
                  "0": "116",
                  "1": "0",
                  "2": "2"
                },
                {
                  "0": "116",
                  "1": "0",
                  "2": "2"
                },
                {
                  "0": "116",
                  "1": "0",
                  "2": "2"
                },
                {
                  "0": "116",
                  "1": "0",
                  "2": "2"
                },
                {
                  "0": "53",
                  "1": "0",
                  "2": "19"
                },
                {
                  "0": "53",
                  "1": "0",
                  "2": "19"
                },
                {
                  "0": "284",
                  "1": "0",
                  "2": "11"
                },
                {
                  "0": "284",
                  "1": "0",
                  "2": "11"
                },
                {
                  "0": "284",
                  "1": "0",
                  "2": "11"
                },
                {
                  "0": "284",
                  "1": "0",
                  "2": "11"
                },
                {
                  "0": "284",
                  "1": "0",
                  "2": "11"
                },
                {
                  "0": "88",
                  "1": "0",
                  "2": "2"
                },
                {
                  "0": "88",
                  "1": "0",
                  "2": "2"
                },
                {
                  "0": "71",
                  "1": "1",
                  "2": "2"
                },
                {
                  "0": "71",
                  "1": "1",
                  "2": "2"
                },
                {
                  "0": "71",
                  "1": "1",
                  "2": "2"
                },
                {
                  "0": "71",
                  "1": "1",
                  "2": "2"
                },
                {
                  "0": "87",
                  "1": "0",
                  "2": "2"
                },
                {
                  "0": "87",
                  "1": "0",
                  "2": "2"
                },
                {
                  "0": "87",
                  "1": "0",
                  "2": "4"
                },
                {
                  "0": "87",
                  "1": "0",
                  "2": "4"
                },
                {
                  "0": "125",
                  "1": "0",
                  "2": "3"
                },
                {
                  "0": "125",
                  "1": "0",
                  "2": "3"
                },
                {
                  "0": "125",
                  "1": "0",
                  "2": "3"
                },
                {
                  "0": "125",
                  "1": "0",
                  "2": "3"
                },
                {
                  "0": "125",
                  "1": "0",
                  "2": "3"
                },
                {
                  "0": "7",
                  "1": "0",
                  "2": "24"
                },
                {
                  "0": "7",
                  "1": "0",
                  "2": "24"
                },
                {
                  "0": "7",
                  "1": "0",
                  "2": "24"
                },
                {
                  "0": "7",
                  "1": "0",
                  "2": "24"
                },
                {
                  "0": "146",
                  "1": "0",
                  "2": "15"
                },
                {
                  "0": "60",
                  "1": "0",
                  "2": "3"
                },
                {
                  "0": "60",
                  "1": "0",
                  "2": "3"
                },
                {
                  "0": "60",
                  "1": "0",
                  "2": "3"
                },
                {
                  "0": "225",
                  "1": "0",
                  "2": "3"
                },
                {
                  "0": "225",
                  "1": "1",
                  "2": "3"
                },
                {
                  "0": "225",
                  "1": "1",
                  "2": "3"
                },
                {
                  "0": "225",
                  "1": "0",
                  "2": "3"
                },
                {
                  "0": "225",
                  "1": "0",
                  "2": "3"
                },
                {
                  "0": "150",
                  "1": "0",
                  "2": "17"
                },
                {
                  "0": "150",
                  "1": "0",
                  "2": "17"
                },
                {
                  "0": "150",
                  "1": "0",
                  "2": "17"
                },
                {
                  "0": "150",
                  "1": "0",
                  "2": "17"
                },
                {
                  "0": "150",
                  "1": "0",
                  "2": "17"
                },
                {
                  "0": "150",
                  "1": "0",
                  "2": "17"
                },
                {
                  "0": "150",
                  "1": "0",
                  "2": "17"
                },
                {
                  "0": "141",
                  "1": "0",
                  "2": "7"
                },
                {
                  "0": "141",
                  "1": "0",
                  "2": "7"
                },
                {
                  "0": "141",
                  "1": "0",
                  "2": "7"
                },
                {
                  "0": "84",
                  "1": "0",
                  "2": "2"
                },
                {
                  "0": "84",
                  "1": "0",
                  "2": "2"
                },
                {
                  "0": "47",
                  "1": "0",
                  "2": "2"
                },
                {
                  "0": "47",
                  "1": "0",
                  "2": "2"
                },
                {
                  "0": "47",
                  "1": "0",
                  "2": "2"
                },
                {
                  "0": "51",
                  "1": "0",
                  "2": "24"
                },
                {
                  "0": "51",
                  "1": "0",
                  "2": "24"
                },
                {
                  "0": "107",
                  "1": "0",
                  "2": "2"
                },
                {
                  "0": "107",
                  "1": "0",
                  "2": "2"
                },
                {
                  "0": "107",
                  "1": "0",
                  "2": "2"
                },
                {
                  "0": "107",
                  "1": "0",
                  "2": "2"
                },
                {
                  "0": "107",
                  "1": "0",
                  "2": "2"
                },
                {
                  "0": "107",
                  "1": "0",
                  "2": "2"
                },
                {
                  "0": "107",
                  "1": "0",
                  "2": "2"
                },
                {
                  "0": "114",
                  "1": "1",
                  "2": "2"
                },
                {
                  "0": "109",
                  "1": "0",
                  "2": "2"
                },
                {
                  "0": "109",
                  "1": "0",
                  "2": "2"
                },
                {
                  "0": "61",
                  "1": "0",
                  "2": "5"
                },
                {
                  "0": "61",
                  "1": "0",
                  "2": "5"
                },
                {
                  "0": "61",
                  "1": "0",
                  "2": "5"
                },
                {
                  "0": "88",
                  "1": "0",
                  "2": "2"
                },
                {
                  "0": "88",
                  "1": "0",
                  "2": "2"
                },
                {
                  "0": "88",
                  "1": "0",
                  "2": "2"
                },
                {
                  "0": "44",
                  "1": "1",
                  "2": "24"
                },
                {
                  "0": "44",
                  "1": "1",
                  "2": "24"
                },
                {
                  "0": "158",
                  "1": "0",
                  "2": "2"
                },
                {
                  "0": "158",
                  "1": "0",
                  "2": "2"
                },
                {
                  "0": "158",
                  "1": "0",
                  "2": "2"
                },
                {
                  "0": "158",
                  "1": "0",
                  "2": "2"
                },
                {
                  "0": "158",
                  "1": "0",
                  "2": "2"
                },
                {
                  "0": "158",
                  "1": "0",
                  "2": "2"
                },
                {
                  "0": "158",
                  "1": "0",
                  "2": "2"
                },
                {
                  "0": "438",
                  "1": "0",
                  "2": "3"
                },
                {
                  "0": "438",
                  "1": "0",
                  "2": "3"
                },
                {
                  "0": "438",
                  "1": "0",
                  "2": "3"
                },
                {
                  "0": "438",
                  "1": "0",
                  "2": "3"
                },
                {
                  "0": "131",
                  "1": "0",
                  "2": "2"
                },
                {
                  "0": "131",
                  "1": "0",
                  "2": "2"
                },
                {
                  "0": "110",
                  "1": "0",
                  "2": "2"
                },
                {
                  "0": "110",
                  "1": "0",
                  "2": "2"
                },
                {
                  "0": "110",
                  "1": "0",
                  "2": "2"
                },
                {
                  "0": "110",
                  "1": "0",
                  "2": "2"
                },
                {
                  "0": "72",
                  "1": "0",
                  "2": "8"
                },
                {
                  "0": "72",
                  "1": "0",
                  "2": "8"
                },
                {
                  "0": "72",
                  "1": "0",
                  "2": "8"
                },
                {
                  "0": "72",
                  "1": "0",
                  "2": "8"
                },
                {
                  "0": "72",
                  "1": "0",
                  "2": "8"
                },
                {
                  "0": "55",
                  "1": "1",
                  "2": "2"
                },
                {
                  "0": "287",
                  "1": "0",
                  "2": "2"
                },
                {
                  "0": "287",
                  "1": "0",
                  "2": "2"
                },
                {
                  "0": "287",
                  "1": "0",
                  "2": "2"
                },
                {
                  "0": "210",
                  "1": "0",
                  "2": "2"
                },
                {
                  "0": "210",
                  "1": "0",
                  "2": "2"
                },
                {
                  "0": "210",
                  "1": "0",
                  "2": "2"
                },
                {
                  "0": "210",
                  "1": "0",
                  "2": "2"
                },
                {
                  "0": "210",
                  "1": "0",
                  "2": "2"
                },
                {
                  "0": "37",
                  "1": "0",
                  "2": "5"
                },
                {
                  "0": "260",
                  "1": "1",
                  "2": "3"
                },
                {
                  "0": "260",
                  "1": "1",
                  "2": "3"
                },
                {
                  "0": "260",
                  "1": "1",
                  "2": "3"
                },
                {
                  "0": "233",
                  "1": "0",
                  "2": "16"
                },
                {
                  "0": "233",
                  "1": "0",
                  "2": "16"
                },
                {
                  "0": "208",
                  "1": "1",
                  "2": "2"
                },
                {
                  "0": "208",
                  "1": "1",
                  "2": "2"
                },
                {
                  "0": "208",
                  "1": "1",
                  "2": "2"
                },
                {
                  "0": "65",
                  "1": "1",
                  "2": "17"
                },
                {
                  "0": "65",
                  "1": "0",
                  "2": "17"
                },
                {
                  "0": "236",
                  "1": "0",
                  "2": "2"
                },
                {
                  "0": "38",
                  "1": "1",
                  "2": "4"
                },
                {
                  "0": "107",
                  "1": "0",
                  "2": "2"
                },
                {
                  "0": "136",
                  "1": "0",
                  "2": "7"
                },
                {
                  "0": "136",
                  "1": "0",
                  "2": "7"
                },
                {
                  "0": "136",
                  "1": "0",
                  "2": "7"
                },
                {
                  "0": "42",
                  "1": "0",
                  "2": "13"
                },
                {
                  "0": "42",
                  "1": "0",
                  "2": "13"
                },
                {
                  "0": "42",
                  "1": "0",
                  "2": "13"
                },
                {
                  "0": "154",
                  "1": "0",
                  "2": "2"
                },
                {
                  "0": "154",
                  "1": "0",
                  "2": "2"
                },
                {
                  "0": "57",
                  "1": "0",
                  "2": "2"
                },
                {
                  "0": "57",
                  "1": "1",
                  "2": "2"
                },
                {
                  "0": "57",
                  "1": "1",
                  "2": "2"
                },
                {
                  "0": "44",
                  "1": "0",
                  "2": "4"
                },
                {
                  "0": "44",
                  "1": "1",
                  "2": "4"
                },
                {
                  "0": "150",
                  "1": "1",
                  "2": "2"
                },
                {
                  "0": "150",
                  "1": "1",
                  "2": "2"
                },
                {
                  "0": "150",
                  "1": "1",
                  "2": "2"
                },
                {
                  "0": "150",
                  "1": "1",
                  "2": "2"
                },
                {
                  "0": "150",
                  "1": "1",
                  "2": "2"
                },
                {
                  "0": "150",
                  "1": "1",
                  "2": "2"
                },
                {
                  "0": "162",
                  "1": "0",
                  "2": "2"
                },
                {
                  "0": "162",
                  "1": "0",
                  "2": "2"
                },
                {
                  "0": "162",
                  "1": "0",
                  "2": "2"
                },
                {
                  "0": "162",
                  "1": "0",
                  "2": "2"
                },
                {
                  "0": "105",
                  "1": "1",
                  "2": "3"
                },
                {
                  "0": "105",
                  "1": "1",
                  "2": "3"
                },
                {
                  "0": "105",
                  "1": "1",
                  "2": "3"
                },
                {
                  "0": "105",
                  "1": "1",
                  "2": "3"
                },
                {
                  "0": "170",
                  "1": "0",
                  "2": "2"
                },
                {
                  "0": "170",
                  "1": "0",
                  "2": "2"
                },
                {
                  "0": "170",
                  "1": "0",
                  "2": "2"
                },
                {
                  "0": "170",
                  "1": "0",
                  "2": "2"
                },
                {
                  "0": "170",
                  "1": "0",
                  "2": "2"
                },
                {
                  "0": "55",
                  "1": "0",
                  "2": "2"
                },
                {
                  "0": "55",
                  "1": "0",
                  "2": "2"
                },
                {
                  "0": "55",
                  "1": "0",
                  "2": "2"
                },
                {
                  "0": "55",
                  "1": "0",
                  "2": "2"
                },
                {
                  "0": "146",
                  "1": "0",
                  "2": "3"
                },
                {
                  "0": "127",
                  "1": "0",
                  "2": "2"
                },
                {
                  "0": "127",
                  "1": "0",
                  "2": "2"
                },
                {
                  "0": "127",
                  "1": "0",
                  "2": "2"
                },
                {
                  "0": "305",
                  "1": "0",
                  "2": "11"
                },
                {
                  "0": "305",
                  "1": "0",
                  "2": "11"
                },
                {
                  "0": "305",
                  "1": "0",
                  "2": "11"
                },
                {
                  "0": "69",
                  "1": "0",
                  "2": "2"
                },
                {
                  "0": "69",
                  "1": "0",
                  "2": "2"
                },
                {
                  "0": "69",
                  "1": "0",
                  "2": "2"
                },
                {
                  "0": "69",
                  "1": "0",
                  "2": "2"
                },
                {
                  "0": "69",
                  "1": "0",
                  "2": "2"
                },
                {
                  "0": "35",
                  "1": "1",
                  "2": "4"
                },
                {
                  "0": "114",
                  "1": "0",
                  "2": "13"
                },
                {
                  "0": "114",
                  "1": "0",
                  "2": "13"
                },
                {
                  "0": "114",
                  "1": "0",
                  "2": "13"
                },
                {
                  "0": "114",
                  "1": "0",
                  "2": "13"
                },
                {
                  "0": "114",
                  "1": "0",
                  "2": "13"
                },
                {
                  "0": "48",
                  "1": "0",
                  "2": "2"
                },
                {
                  "0": "48",
                  "1": "0",
                  "2": "2"
                },
                {
                  "0": "48",
                  "1": "0",
                  "2": "2"
                },
                {
                  "0": "48",
                  "1": "0",
                  "2": "2"
                },
                {
                  "0": "78",
                  "1": "0",
                  "2": "11"
                },
                {
                  "0": "78",
                  "1": "0",
                  "2": "11"
                },
                {
                  "0": "78",
                  "1": "0",
                  "2": "11"
                },
                {
                  "0": "61",
                  "1": "0",
                  "2": "3"
                },
                {
                  "0": "312",
                  "1": "0",
                  "2": "2"
                },
                {
                  "0": "312",
                  "1": "0",
                  "2": "2"
                },
                {
                  "0": "312",
                  "1": "0",
                  "2": "2"
                },
                {
                  "0": "89",
                  "1": "0",
                  "2": "3"
                },
                {
                  "0": "89",
                  "1": "0",
                  "2": "3"
                },
                {
                  "0": "145",
                  "1": "0",
                  "2": "23"
                },
                {
                  "0": "145",
                  "1": "0",
                  "2": "23"
                },
                {
                  "0": "127",
                  "1": "0",
                  "2": "24"
                },
                {
                  "0": "127",
                  "1": "0",
                  "2": "24"
                },
                {
                  "0": "35",
                  "1": "0",
                  "2": "2"
                },
                {
                  "0": "35",
                  "1": "1",
                  "2": "2"
                },
                {
                  "0": "35",
                  "1": "1",
                  "2": "2"
                },
                {
                  "0": "35",
                  "1": "1",
                  "2": "2"
                },
                {
                  "0": "35",
                  "1": "1",
                  "2": "2"
                },
                {
                  "0": "79",
                  "1": "0",
                  "2": "2"
                },
                {
                  "0": "79",
                  "1": "0",
                  "2": "2"
                },
                {
                  "0": "73",
                  "1": "1",
                  "2": "3"
                },
                {
                  "0": "73",
                  "1": "1",
                  "2": "3"
                },
                {
                  "0": "73",
                  "1": "1",
                  "2": "3"
                },
                {
                  "0": "73",
                  "1": "1",
                  "2": "3"
                },
                {
                  "0": "73",
                  "1": "1",
                  "2": "3"
                },
                {
                  "0": "467",
                  "1": "0",
                  "2": "2"
                },
                {
                  "0": "467",
                  "1": "0",
                  "2": "2"
                },
                {
                  "0": "467",
                  "1": "0",
                  "2": "2"
                },
                {
                  "0": "467",
                  "1": "0",
                  "2": "2"
                },
                {
                  "0": "105",
                  "1": "0",
                  "2": "2"
                },
                {
                  "0": "105",
                  "1": "0",
                  "2": "2"
                },
                {
                  "0": "419",
                  "1": "0",
                  "2": "24"
                },
                {
                  "0": "419",
                  "1": "0",
                  "2": "24"
                },
                {
                  "0": "419",
                  "1": "0",
                  "2": "24"
                },
                {
                  "0": "419",
                  "1": "0",
                  "2": "24"
                },
                {
                  "0": "419",
                  "1": "0",
                  "2": "24"
                },
                {
                  "0": "419",
                  "1": "0",
                  "2": "24"
                },
                {
                  "0": "162",
                  "1": "0",
                  "2": "7"
                },
                {
                  "0": "162",
                  "1": "0",
                  "2": "7"
                },
                {
                  "0": "162",
                  "1": "0",
                  "2": "7"
                },
                {
                  "0": "162",
                  "1": "0",
                  "2": "7"
                },
                {
                  "0": "115",
                  "1": "0",
                  "2": "22"
                },
                {
                  "0": "115",
                  "1": "0",
                  "2": "22"
                },
                {
                  "0": "128",
                  "1": "0",
                  "2": "2"
                },
                {
                  "0": "128",
                  "1": "0",
                  "2": "2"
                },
                {
                  "0": "159",
                  "1": "0",
                  "2": "5"
                },
                {
                  "0": "159",
                  "1": "1",
                  "2": "5"
                },
                {
                  "0": "159",
                  "1": "1",
                  "2": "5"
                },
                {
                  "0": "159",
                  "1": "1",
                  "2": "5"
                },
                {
                  "0": "159",
                  "1": "1",
                  "2": "5"
                },
                {
                  "0": "48",
                  "1": "0",
                  "2": "3"
                },
                {
                  "0": "82",
                  "1": "0",
                  "2": "2"
                },
                {
                  "0": "82",
                  "1": "0",
                  "2": "2"
                },
                {
                  "0": "82",
                  "1": "0",
                  "2": "2"
                },
                {
                  "0": "82",
                  "1": "0",
                  "2": "2"
                },
                {
                  "0": "48",
                  "1": "0",
                  "2": "3"
                },
                {
                  "0": "48",
                  "1": "0",
                  "2": "3"
                },
                {
                  "0": "51",
                  "1": "0",
                  "2": "19"
                },
                {
                  "0": "51",
                  "1": "0",
                  "2": "19"
                },
                {
                  "0": "51",
                  "1": "0",
                  "2": "19"
                },
                {
                  "0": "51",
                  "1": "0",
                  "2": "19"
                },
                {
                  "0": "51",
                  "1": "0",
                  "2": "19"
                },
                {
                  "0": "50",
                  "1": "0",
                  "2": "3"
                },
                {
                  "0": "50",
                  "1": "0",
                  "2": "3"
                },
                {
                  "0": "50",
                  "1": "0",
                  "2": "3"
                },
                {
                  "0": "67",
                  "1": "0",
                  "2": "9"
                },
                {
                  "0": "67",
                  "1": "0",
                  "2": "9"
                },
                {
                  "0": "67",
                  "1": "1",
                  "2": "9"
                },
                {
                  "0": "67",
                  "1": "0",
                  "2": "9"
                },
                {
                  "0": "67",
                  "1": "0",
                  "2": "9"
                },
                {
                  "0": "53",
                  "1": "0",
                  "2": "2"
                },
                {
                  "0": "53",
                  "1": "0",
                  "2": "2"
                },
                {
                  "0": "91",
                  "1": "0",
                  "2": "2"
                },
                {
                  "0": "91",
                  "1": "0",
                  "2": "2"
                },
                {
                  "0": "91",
                  "1": "0",
                  "2": "2"
                },
                {
                  "0": "91",
                  "1": "0",
                  "2": "2"
                },
                {
                  "0": "310",
                  "1": "0",
                  "2": "5"
                },
                {
                  "0": "310",
                  "1": "0",
                  "2": "5"
                },
                {
                  "0": "310",
                  "1": "0",
                  "2": "5"
                },
                {
                  "0": "310",
                  "1": "0",
                  "2": "5"
                },
                {
                  "0": "81",
                  "1": "0",
                  "2": "5"
                },
                {
                  "0": "366",
                  "1": "0",
                  "2": "9"
                },
                {
                  "0": "366",
                  "1": "0",
                  "2": "9"
                },
                {
                  "0": "366",
                  "1": "0",
                  "2": "9"
                },
                {
                  "0": "366",
                  "1": "0",
                  "2": "9"
                },
                {
                  "0": "344",
                  "1": "0",
                  "2": "2"
                },
                {
                  "0": "344",
                  "1": "0",
                  "2": "2"
                },
                {
                  "0": "344",
                  "1": "0",
                  "2": "2"
                },
                {
                  "0": "344",
                  "1": "0",
                  "2": "2"
                },
                {
                  "0": "344",
                  "1": "0",
                  "2": "2"
                },
                {
                  "0": "51",
                  "1": "0",
                  "2": "9"
                },
                {
                  "0": "51",
                  "1": "1",
                  "2": "9"
                },
                {
                  "0": "51",
                  "1": "1",
                  "2": "9"
                },
                {
                  "0": "51",
                  "1": "1",
                  "2": "9"
                },
                {
                  "0": "63",
                  "1": "1",
                  "2": "2"
                },
                {
                  "0": "63",
                  "1": "1",
                  "2": "2"
                },
                {
                  "0": "189",
                  "1": "0",
                  "2": "2"
                },
                {
                  "0": "164",
                  "1": "0",
                  "2": "2"
                },
                {
                  "0": "164",
                  "1": "0",
                  "2": "2"
                },
                {
                  "0": "164",
                  "1": "0",
                  "2": "2"
                },
                {
                  "0": "36",
                  "1": "0",
                  "2": "11"
                },
                {
                  "0": "36",
                  "1": "0",
                  "2": "11"
                },
                {
                  "0": "36",
                  "1": "1",
                  "2": "11"
                },
                {
                  "0": "36",
                  "1": "0",
                  "2": "11"
                },
                {
                  "0": "36",
                  "1": "1",
                  "2": "11"
                },
                {
                  "0": "36",
                  "1": "1",
                  "2": "11"
                },
                {
                  "0": "346",
                  "1": "0",
                  "2": "2"
                },
                {
                  "0": "346",
                  "1": "0",
                  "2": "2"
                },
                {
                  "0": "346",
                  "1": "1",
                  "2": "2"
                },
                {
                  "0": "18",
                  "1": "0",
                  "2": "23"
                },
                {
                  "0": "220",
                  "1": "0",
                  "2": "9"
                },
                {
                  "0": "220",
                  "1": "0",
                  "2": "9"
                },
                {
                  "0": "220",
                  "1": "0",
                  "2": "9"
                },
                {
                  "0": "68",
                  "1": "0",
                  "2": "24"
                },
                {
                  "0": "68",
                  "1": "0",
                  "2": "24"
                },
                {
                  "0": "68",
                  "1": "0",
                  "2": "24"
                },
                {
                  "0": "68",
                  "1": "0",
                  "2": "24"
                },
                {
                  "0": "16",
                  "1": "0",
                  "2": "2"
                },
                {
                  "0": "16",
                  "1": "0",
                  "2": "2"
                },
                {
                  "0": "16",
                  "1": "0",
                  "2": "2"
                },
                {
                  "0": "16",
                  "1": "0",
                  "2": "2"
                },
                {
                  "0": "16",
                  "1": "0",
                  "2": "2"
                },
                {
                  "0": "65",
                  "1": "1",
                  "2": "7"
                },
                {
                  "0": "65",
                  "1": "1",
                  "2": "7"
                },
                {
                  "0": "65",
                  "1": "0",
                  "2": "7"
                },
                {
                  "0": "172",
                  "1": "0",
                  "2": "2"
                },
                {
                  "0": "172",
                  "1": "0",
                  "2": "2"
                },
                {
                  "0": "172",
                  "1": "0",
                  "2": "2"
                },
                {
                  "0": "172",
                  "1": "0",
                  "2": "2"
                },
                {
                  "0": "172",
                  "1": "0",
                  "2": "2"
                },
                {
                  "0": "172",
                  "1": "0",
                  "2": "2"
                },
                {
                  "0": "172",
                  "1": "0",
                  "2": "2"
                },
                {
                  "0": "35",
                  "1": "0",
                  "2": "2"
                },
                {
                  "0": "35",
                  "1": "1",
                  "2": "2"
                },
                {
                  "0": "35",
                  "1": "1",
                  "2": "2"
                },
                {
                  "0": "52",
                  "1": "0",
                  "2": "4"
                },
                {
                  "0": "52",
                  "1": "0",
                  "2": "4"
                },
                {
                  "0": "292",
                  "1": "0",
                  "2": "2"
                },
                {
                  "0": "292",
                  "1": "0",
                  "2": "2"
                },
                {
                  "0": "292",
                  "1": "0",
                  "2": "2"
                },
                {
                  "0": "292",
                  "1": "0",
                  "2": "2"
                },
                {
                  "0": "240",
                  "1": "0",
                  "2": "2"
                },
                {
                  "0": "240",
                  "1": "0",
                  "2": "2"
                },
                {
                  "0": "240",
                  "1": "0",
                  "2": "2"
                },
                {
                  "0": "204",
                  "1": "0",
                  "2": "2"
                },
                {
                  "0": "95",
                  "1": "0",
                  "2": "2"
                },
                {
                  "0": "95",
                  "1": "0",
                  "2": "2"
                },
                {
                  "0": "95",
                  "1": "1",
                  "2": "2"
                },
                {
                  "0": "177",
                  "1": "0",
                  "2": "2"
                },
                {
                  "0": "177",
                  "1": "1",
                  "2": "2"
                },
                {
                  "0": "105",
                  "1": "1",
                  "2": "3"
                },
                {
                  "0": "105",
                  "1": "0",
                  "2": "3"
                },
                {
                  "0": "42",
                  "1": "0",
                  "2": "4"
                },
                {
                  "0": "42",
                  "1": "0",
                  "2": "4"
                },
                {
                  "0": "42",
                  "1": "0",
                  "2": "4"
                },
                {
                  "0": "42",
                  "1": "0",
                  "2": "4"
                },
                {
                  "0": "59",
                  "1": "0",
                  "2": "2"
                },
                {
                  "0": "119",
                  "1": "0",
                  "2": "2"
                },
                {
                  "0": "119",
                  "1": "0",
                  "2": "2"
                },
                {
                  "0": "119",
                  "1": "0",
                  "2": "2"
                },
                {
                  "0": "119",
                  "1": "0",
                  "2": "2"
                },
                {
                  "0": "83",
                  "1": "0",
                  "2": "2"
                },
                {
                  "0": "83",
                  "1": "0",
                  "2": "2"
                },
                {
                  "0": "83",
                  "1": "0",
                  "2": "2"
                },
                {
                  "0": "83",
                  "1": "0",
                  "2": "2"
                },
                {
                  "0": "83",
                  "1": "0",
                  "2": "2"
                },
                {
                  "0": "58",
                  "1": "1",
                  "2": "2"
                },
                {
                  "0": "58",
                  "1": "1",
                  "2": "2"
                },
                {
                  "0": "42",
                  "1": "0",
                  "2": "24"
                },
                {
                  "0": "42",
                  "1": "0",
                  "2": "24"
                },
                {
                  "0": "129",
                  "1": "1",
                  "2": "2"
                },
                {
                  "0": "129",
                  "1": "0",
                  "2": "2"
                },
                {
                  "0": "129",
                  "1": "0",
                  "2": "2"
                },
                {
                  "0": "129",
                  "1": "0",
                  "2": "2"
                },
                {
                  "0": "124",
                  "1": "1",
                  "2": "5"
                },
                {
                  "0": "124",
                  "1": "0",
                  "2": "5"
                },
                {
                  "0": "75",
                  "1": "0",
                  "2": "2"
                },
                {
                  "0": "75",
                  "1": "0",
                  "2": "2"
                },
                {
                  "0": "75",
                  "1": "0",
                  "2": "2"
                },
                {
                  "0": "75",
                  "1": "0",
                  "2": "2"
                },
                {
                  "0": "75",
                  "1": "0",
                  "2": "2"
                },
                {
                  "0": "75",
                  "1": "1",
                  "2": "2"
                },
                {
                  "0": "57",
                  "1": "0",
                  "2": "4"
                },
                {
                  "0": "62",
                  "1": "0",
                  "2": "2"
                },
                {
                  "0": "46",
                  "1": "0",
                  "2": "11"
                },
                {
                  "0": "46",
                  "1": "1",
                  "2": "11"
                },
                {
                  "0": "46",
                  "1": "0",
                  "2": "11"
                },
                {
                  "0": "46",
                  "1": "0",
                  "2": "11"
                },
                {
                  "0": "74",
                  "1": "0",
                  "2": "2"
                },
                {
                  "0": "74",
                  "1": "0",
                  "2": "2"
                },
                {
                  "0": "267",
                  "1": "0",
                  "2": "5"
                },
                {
                  "0": "267",
                  "1": "0",
                  "2": "5"
                },
                {
                  "0": "267",
                  "1": "0",
                  "2": "5"
                },
                {
                  "0": "267",
                  "1": "0",
                  "2": "5"
                },
                {
                  "0": "267",
                  "1": "0",
                  "2": "5"
                },
                {
                  "0": "71",
                  "1": "0",
                  "2": "3"
                },
                {
                  "0": "71",
                  "1": "0",
                  "2": "3"
                },
                {
                  "0": "40",
                  "1": "0",
                  "2": "2"
                },
                {
                  "0": "271",
                  "1": "0",
                  "2": "2"
                },
                {
                  "0": "271",
                  "1": "0",
                  "2": "2"
                },
                {
                  "0": "271",
                  "1": "0",
                  "2": "2"
                },
                {
                  "0": "271",
                  "1": "0",
                  "2": "2"
                },
                {
                  "0": "271",
                  "1": "0",
                  "2": "2"
                },
                {
                  "0": "271",
                  "1": "0",
                  "2": "2"
                },
                {
                  "0": "19",
                  "1": "0",
                  "2": "3"
                },
                {
                  "0": "19",
                  "1": "0",
                  "2": "3"
                },
                {
                  "0": "19",
                  "1": "0",
                  "2": "3"
                },
                {
                  "0": "54",
                  "1": "0",
                  "2": "19"
                },
                {
                  "0": "54",
                  "1": "0",
                  "2": "19"
                },
                {
                  "0": "150",
                  "1": "0",
                  "2": "2"
                },
                {
                  "0": "150",
                  "1": "0",
                  "2": "2"
                },
                {
                  "0": "150",
                  "1": "0",
                  "2": "2"
                },
                {
                  "0": "150",
                  "1": "0",
                  "2": "2"
                },
                {
                  "0": "150",
                  "1": "0",
                  "2": "2"
                },
                {
                  "0": "47",
                  "1": "0",
                  "2": "24"
                },
                {
                  "0": "117",
                  "1": "0",
                  "2": "2"
                },
                {
                  "0": "91",
                  "1": "1",
                  "2": "2"
                },
                {
                  "0": "91",
                  "1": "1",
                  "2": "2"
                },
                {
                  "0": "91",
                  "1": "1",
                  "2": "2"
                },
                {
                  "0": "257",
                  "1": "0",
                  "2": "3"
                },
                {
                  "0": "257",
                  "1": "0",
                  "2": "3"
                },
                {
                  "0": "59",
                  "1": "0",
                  "2": "3"
                },
                {
                  "0": "87",
                  "1": "0",
                  "2": "13"
                },
                {
                  "0": "87",
                  "1": "0",
                  "2": "13"
                },
                {
                  "0": "87",
                  "1": "1",
                  "2": "13"
                },
                {
                  "0": "87",
                  "1": "0",
                  "2": "13"
                },
                {
                  "0": "87",
                  "1": "0",
                  "2": "13"
                },
                {
                  "0": "54",
                  "1": "1",
                  "2": "2"
                },
                {
                  "0": "54",
                  "1": "1",
                  "2": "2"
                },
                {
                  "0": "54",
                  "1": "1",
                  "2": "2"
                },
                {
                  "0": "54",
                  "1": "1",
                  "2": "2"
                },
                {
                  "0": "54",
                  "1": "1",
                  "2": "2"
                },
                {
                  "0": "199",
                  "1": "0",
                  "2": "19"
                },
                {
                  "0": "199",
                  "1": "0",
                  "2": "19"
                },
                {
                  "0": "199",
                  "1": "0",
                  "2": "19"
                },
                {
                  "0": "113",
                  "1": "0",
                  "2": "3"
                },
                {
                  "0": "113",
                  "1": "0",
                  "2": "3"
                },
                {
                  "0": "113",
                  "1": "0",
                  "2": "3"
                },
                {
                  "0": "113",
                  "1": "0",
                  "2": "3"
                },
                {
                  "0": "113",
                  "1": "0",
                  "2": "3"
                },
                {
                  "0": "38",
                  "1": "1",
                  "2": "2"
                },
                {
                  "0": "38",
                  "1": "1",
                  "2": "2"
                },
                {
                  "0": "38",
                  "1": "1",
                  "2": "2"
                },
                {
                  "0": "38",
                  "1": "1",
                  "2": "2"
                },
                {
                  "0": "38",
                  "1": "1",
                  "2": "2"
                },
                {
                  "0": "38",
                  "1": "1",
                  "2": "2"
                },
                {
                  "0": "38",
                  "1": "1",
                  "2": "2"
                },
                {
                  "0": "71",
                  "1": "0",
                  "2": "24"
                },
                {
                  "0": "75",
                  "1": "0",
                  "2": "2"
                },
                {
                  "0": "75",
                  "1": "1",
                  "2": "2"
                },
                {
                  "0": "75",
                  "1": "1",
                  "2": "2"
                },
                {
                  "0": "345",
                  "1": "0",
                  "2": "4"
                },
                {
                  "0": "345",
                  "1": "0",
                  "2": "4"
                },
                {
                  "0": "345",
                  "1": "0",
                  "2": "4"
                },
                {
                  "0": "59",
                  "1": "0",
                  "2": "2"
                },
                {
                  "0": "59",
                  "1": "0",
                  "2": "2"
                },
                {
                  "0": "59",
                  "1": "0",
                  "2": "2"
                },
                {
                  "0": "162",
                  "1": "0",
                  "2": "24"
                },
                {
                  "0": "162",
                  "1": "0",
                  "2": "24"
                },
                {
                  "0": "162",
                  "1": "0",
                  "2": "24"
                },
                {
                  "0": "162",
                  "1": "0",
                  "2": "24"
                },
                {
                  "0": "162",
                  "1": "0",
                  "2": "24"
                },
                {
                  "0": "162",
                  "1": "0",
                  "2": "24"
                },
                {
                  "0": "162",
                  "1": "0",
                  "2": "24"
                },
                {
                  "0": "162",
                  "1": "0",
                  "2": "24"
                },
                {
                  "0": "162",
                  "1": "0",
                  "2": "24"
                },
                {
                  "0": "47",
                  "1": "0",
                  "2": "7"
                },
                {
                  "0": "47",
                  "1": "0",
                  "2": "7"
                },
                {
                  "0": "47",
                  "1": "1",
                  "2": "7"
                },
                {
                  "0": "47",
                  "1": "0",
                  "2": "7"
                },
                {
                  "0": "47",
                  "1": "0",
                  "2": "7"
                },
                {
                  "0": "47",
                  "1": "0",
                  "2": "7"
                },
                {
                  "0": "47",
                  "1": "0",
                  "2": "7"
                },
                {
                  "0": "47",
                  "1": "1",
                  "2": "7"
                },
                {
                  "0": "55",
                  "1": "0",
                  "2": "2"
                },
                {
                  "0": "55",
                  "1": "0",
                  "2": "2"
                },
                {
                  "0": "55",
                  "1": "0",
                  "2": "2"
                },
                {
                  "0": "55",
                  "1": "0",
                  "2": "2"
                },
                {
                  "0": "55",
                  "1": "0",
                  "2": "2"
                },
                {
                  "0": "55",
                  "1": "0",
                  "2": "2"
                },
                {
                  "0": "119",
                  "1": "0",
                  "2": "2"
                },
                {
                  "0": "119",
                  "1": "0",
                  "2": "2"
                },
                {
                  "0": "119",
                  "1": "0",
                  "2": "2"
                },
                {
                  "0": "119",
                  "1": "0",
                  "2": "2"
                },
                {
                  "0": "80",
                  "1": "1",
                  "2": "2"
                },
                {
                  "0": "80",
                  "1": "1",
                  "2": "2"
                },
                {
                  "0": "72",
                  "1": "0",
                  "2": "18"
                },
                {
                  "0": "72",
                  "1": "1",
                  "2": "18"
                },
                {
                  "0": "72",
                  "1": "1",
                  "2": "18"
                },
                {
                  "0": "72",
                  "1": "1",
                  "2": "18"
                },
                {
                  "0": "35",
                  "1": "0",
                  "2": "2"
                },
                {
                  "0": "35",
                  "1": "0",
                  "2": "2"
                },
                {
                  "0": "35",
                  "1": "0",
                  "2": "2"
                },
                {
                  "0": "78",
                  "1": "0",
                  "2": "2"
                },
                {
                  "0": "78",
                  "1": "0",
                  "2": "2"
                },
                {
                  "0": "78",
                  "1": "0",
                  "2": "2"
                },
                {
                  "0": "78",
                  "1": "0",
                  "2": "2"
                },
                {
                  "0": "124",
                  "1": "0",
                  "2": "2"
                },
                {
                  "0": "124",
                  "1": "0",
                  "2": "2"
                },
                {
                  "0": "124",
                  "1": "0",
                  "2": "2"
                },
                {
                  "0": "124",
                  "1": "0",
                  "2": "2"
                },
                {
                  "0": "124",
                  "1": "0",
                  "2": "2"
                },
                {
                  "0": "408",
                  "1": "1",
                  "2": "2"
                },
                {
                  "0": "408",
                  "1": "1",
                  "2": "2"
                },
                {
                  "0": "408",
                  "1": "1",
                  "2": "2"
                },
                {
                  "0": "408",
                  "1": "1",
                  "2": "2"
                },
                {
                  "0": "408",
                  "1": "1",
                  "2": "2"
                },
                {
                  "0": "408",
                  "1": "1",
                  "2": "2"
                },
                {
                  "0": "408",
                  "1": "1",
                  "2": "2"
                },
                {
                  "0": "172",
                  "1": "1",
                  "2": "2"
                },
                {
                  "0": "52",
                  "1": "0",
                  "2": "2"
                },
                {
                  "0": "52",
                  "1": "0",
                  "2": "2"
                },
                {
                  "0": "112",
                  "1": "0",
                  "2": "4"
                }
              ],
              "schema": [
                {
                  "key": "0",
                  "name": "WGTP",
                  "type": "string"
                },
                {
                  "key": "1",
                  "name": "FHICOVP",
                  "type": "string"
                },
                {
                  "key": "2",
                  "name": "HHLDRHISP",
                  "type": "string"
                }
              ],
              "truncated": false
            },
            "isSummary": false,
            "language": "scala"
          },
          "persist_state": {
            "view": {
              "type": "details",
              "tableOptions": {},
              "chartOptions": {
                "chartType": "bar",
                "aggregationType": "count",
                "categoryFieldKeys": [
                  "1"
                ],
                "seriesFieldKeys": [
                  "0"
                ],
                "isStacked": false
              }
            }
          }
        },
        "301d6f9e-4cc4-4cdb-8390-7758deb28c97": {
          "type": "Synapse.DataFrame",
          "sync_state": {
            "table": {
              "rows": [
                {
                  "0": "263.91",
                  "1": [
                    {
                      "name": "Primary Care Visit to Treat an Injury or Illness",
                      "limit_quantity": "0",
                      "cost_sharings": "[{csr=Exchange variant (no CSR), network_tier=In-Network, display_string=30% Coinsurance after deductible, coinsurance_rate=0.3, copay_options=Not Applicable, coinsurance_options=Coinsurance after deductible, copay_amount=0}, {csr=Exchange variant (no CSR), network_tier=Out-of-Network, display_string=50% Coinsurance after deductible, coinsurance_rate=0.5, copay_options=Not Applicable, coinsurance_options=Coinsurance after deductible, copay_amount=0}]",
                      "limit_unit": "",
                      "has_limits": "false",
                      "explanation": "",
                      "covered": "true",
                      "exclusions": ""
                    },
                    {
                      "name": "Dental Check-Up for Children",
                      "limit_quantity": "1",
                      "cost_sharings": "[{csr=Exchange variant (no CSR), network_tier=In-Network, display_string=No Charge, coinsurance_rate=0, copay_options=No Charge, coinsurance_options=No Charge, copay_amount=0}, {csr=Exchange variant (no CSR), network_tier=Out-of-Network, display_string=No Charge, coinsurance_rate=0, copay_options=No Charge, coinsurance_options=No Charge, copay_amount=0}]",
                      "limit_unit": "visit(s) per 6 months",
                      "has_limits": "true",
                      "explanation": "",
                      "covered": "true",
                      "exclusions": ""
                    },
                    {
                      "name": "Major Dental Care - Child",
                      "limit_quantity": "0",
                      "cost_sharings": "[{csr=Exchange variant (no CSR), network_tier=In-Network, display_string=50% Coinsurance after deductible, coinsurance_rate=0.5, copay_options=Not Applicable, coinsurance_options=Coinsurance after deductible, copay_amount=0}, {csr=Exchange variant (no CSR), network_tier=Out-of-Network, display_string=50% Coinsurance after deductible, coinsurance_rate=0.5, copay_options=Not Applicable, coinsurance_options=Coinsurance after deductible, copay_amount=0}]",
                      "limit_unit": "",
                      "has_limits": "false",
                      "explanation": "",
                      "covered": "true",
                      "exclusions": ""
                    },
                    {
                      "name": "Specialist Visit",
                      "limit_quantity": "0",
                      "cost_sharings": "[{csr=Exchange variant (no CSR), network_tier=In-Network, display_string=30% Coinsurance after deductible, coinsurance_rate=0.3, copay_options=Not Applicable, coinsurance_options=Coinsurance after deductible, copay_amount=0}, {csr=Exchange variant (no CSR), network_tier=Out-of-Network, display_string=50% Coinsurance after deductible, coinsurance_rate=0.5, copay_options=Not Applicable, coinsurance_options=Coinsurance after deductible, copay_amount=0}]",
                      "limit_unit": "",
                      "has_limits": "false",
                      "explanation": "",
                      "covered": "true",
                      "exclusions": ""
                    },
                    {
                      "name": "Emergency Room Services",
                      "limit_quantity": "0",
                      "cost_sharings": "[{csr=Exchange variant (no CSR), network_tier=In-Network, display_string=30% Coinsurance after deductible, coinsurance_rate=0.3, copay_options=Not Applicable, coinsurance_options=Coinsurance after deductible, copay_amount=0}, {csr=Exchange variant (no CSR), network_tier=Out-of-Network, display_string=30% Coinsurance after deductible, coinsurance_rate=0.3, copay_options=Not Applicable, coinsurance_options=Coinsurance after deductible, copay_amount=0}]",
                      "limit_unit": "",
                      "has_limits": "false",
                      "explanation": "",
                      "covered": "true",
                      "exclusions": ""
                    },
                    {
                      "name": "Basic Dental Care - Child",
                      "limit_quantity": "0",
                      "cost_sharings": "[{csr=Exchange variant (no CSR), network_tier=In-Network, display_string=50% Coinsurance after deductible, coinsurance_rate=0.5, copay_options=Not Applicable, coinsurance_options=Coinsurance after deductible, copay_amount=0}, {csr=Exchange variant (no CSR), network_tier=Out-of-Network, display_string=50% Coinsurance after deductible, coinsurance_rate=0.5, copay_options=Not Applicable, coinsurance_options=Coinsurance after deductible, copay_amount=0}]",
                      "limit_unit": "",
                      "has_limits": "false",
                      "explanation": "",
                      "covered": "true",
                      "exclusions": ""
                    },
                    {
                      "name": "Generic Drugs",
                      "limit_quantity": "0",
                      "cost_sharings": "[{csr=Exchange variant (no CSR), network_tier=In-Network, display_string=30% Coinsurance after deductible, coinsurance_rate=0.3, copay_options=Not Applicable, coinsurance_options=Coinsurance after deductible, copay_amount=0}, {csr=Exchange variant (no CSR), network_tier=Out-of-Network, display_string=30% Coinsurance after deductible, coinsurance_rate=0.3, copay_options=Not Applicable, coinsurance_options=Coinsurance after deductible, copay_amount=0}]",
                      "limit_unit": "",
                      "has_limits": "false",
                      "explanation": "",
                      "covered": "true",
                      "exclusions": ""
                    }
                  ],
                  "2": "http://www.bcbsla.com/findaplan/pages/sbc.aspx?Source=FFM&Id=19636LA0230006-01&Year=2019",
                  "3": "http://www.bcbsla.com/individual-communityblue-brochure2019",
                  "4": "false",
                  "5": [
                    {
                      "network_tier": "In-Network",
                      "amount": "4500",
                      "csr": "Exchange variant (no CSR)",
                      "individual": "true",
                      "display_string": "",
                      "family_cost": "Individual",
                      "type": "Combined Medical and Drug EHB Deductible",
                      "family": "false"
                    }
                  ],
                  "6": [
                    "Asthma",
                    "Heart Disease",
                    "Diabetes",
                    "High Blood Pressure and High Cholesterol",
                    "Pregnancy"
                  ],
                  "7": "263.91",
                  "8": "http://www.bcbsla.com/pharmacy-2tier-formulary2019",
                  "9": "false",
                  "10": "false",
                  "11": "false",
                  "12": "19636LA0230006",
                  "13": "QHP",
                  "14": "false",
                  "15": {
                    "name": "HMO Louisiana",
                    "state": "LA",
                    "individual_url": "",
                    "toll_free": "1-800-495-2583",
                    "id": "19636",
                    "eligible_dependents": "[Spouse, Grandson or Granddaughter, Adopted Child, Foster Child, Ward, Stepson or Stepdaughter, Self, Child, Sponsored Dependent]",
                    "tty": "",
                    "shop_url": "http://www.bcbsla.com/footer/contact-us"
                  },
                  "16": "Individual",
                  "17": "25",
                  "18": "Bronze",
                  "19": [
                    {
                      "network_tier": "In-Network",
                      "amount": "7900",
                      "csr": "Exchange variant (no CSR)",
                      "individual": "true",
                      "display_string": "",
                      "family_cost": "Individual",
                      "type": "Maximum Out of Pocket for Medical and Drug EHB Benefits (Total)",
                      "family": "false"
                    }
                  ],
                  "20": "Community Blue 70/50 $4500",
                  "21": "http://www.bcbsla.com/communityblue-medical-vision-dental",
                  "22": "-1",
                  "23": "0",
                  "24": "263.91",
                  "25": "263.91",
                  "26": "HealthCare",
                  "27": {
                    "enrollee_experience_rating": null,
                    "plan_efficiency_not_rated_reason": null,
                    "clinical_quality_management_not_rated_reason": null,
                    "year": null,
                    "clinical_quality_management_rating": null,
                    "global_not_rated_reason": null,
                    "enrollee_experience_not_rated_reason": null,
                    "available": false,
                    "plan_efficiency_rating": null,
                    "global_rating": null
                  },
                  "28": "false",
                  "29": "LAS006",
                  "30": "false",
                  "31": "false",
                  "32": "LA",
                  "33": "unknown",
                  "34": [
                    {
                      "network_tier": "In-Network",
                      "amount": "4500",
                      "csr": "Exchange variant (no CSR)",
                      "individual": "true",
                      "display_string": "",
                      "family_cost": "Individual",
                      "type": "Combined Medical and Drug EHB Deductible",
                      "family": "false"
                    },
                    {
                      "network_tier": "Combined In-Out of Network",
                      "amount": "13500",
                      "csr": "Exchange variant (no CSR)",
                      "individual": "true",
                      "display_string": "",
                      "family_cost": "Individual",
                      "type": "Combined Medical and Drug EHB Deductible",
                      "family": "false"
                    }
                  ],
                  "35": [
                    {
                      "network_tier": "In-Network",
                      "amount": "7900",
                      "csr": "Exchange variant (no CSR)",
                      "individual": "true",
                      "display_string": "",
                      "family_cost": "Individual",
                      "type": "Maximum Out of Pocket for Medical and Drug EHB Benefits (Total)",
                      "family": "false"
                    },
                    {
                      "network_tier": "Combined In-Out of Network",
                      "amount": "23700",
                      "csr": "Exchange variant (no CSR)",
                      "individual": "true",
                      "display_string": "",
                      "family_cost": "Individual",
                      "type": "Maximum Out of Pocket for Medical and Drug EHB Benefits (Total)",
                      "family": "false"
                    }
                  ],
                  "36": "6",
                  "37": "POS"
                },
                {
                  "0": "300.24",
                  "1": [
                    {
                      "name": "Generic Drugs",
                      "limit_quantity": "0",
                      "cost_sharings": "[{csr=Exchange variant (no CSR), network_tier=In-Network, display_string=40% Coinsurance after deductible, coinsurance_rate=0.4, copay_options=Not Applicable, coinsurance_options=Coinsurance after deductible, copay_amount=0}, {csr=Exchange variant (no CSR), network_tier=Out-of-Network, display_string=40% Coinsurance after deductible, coinsurance_rate=0.4, copay_options=Not Applicable, coinsurance_options=Coinsurance after deductible, copay_amount=0}]",
                      "limit_unit": "",
                      "has_limits": "false",
                      "explanation": "",
                      "covered": "true",
                      "exclusions": ""
                    },
                    {
                      "name": "Specialist Visit",
                      "limit_quantity": "0",
                      "cost_sharings": "[{csr=Exchange variant (no CSR), network_tier=In-Network, display_string=40% Coinsurance after deductible, coinsurance_rate=0.4, copay_options=Not Applicable, coinsurance_options=Coinsurance after deductible, copay_amount=0}, {csr=Exchange variant (no CSR), network_tier=Out-of-Network, display_string=60% Coinsurance after deductible, coinsurance_rate=0.6, copay_options=Not Applicable, coinsurance_options=Coinsurance after deductible, copay_amount=0}]",
                      "limit_unit": "",
                      "has_limits": "false",
                      "explanation": "",
                      "covered": "true",
                      "exclusions": ""
                    },
                    {
                      "name": "Emergency Room Services",
                      "limit_quantity": "0",
                      "cost_sharings": "[{csr=Exchange variant (no CSR), network_tier=In-Network, display_string=40% Coinsurance after deductible, coinsurance_rate=0.4, copay_options=Not Applicable, coinsurance_options=Coinsurance after deductible, copay_amount=0}, {csr=Exchange variant (no CSR), network_tier=Out-of-Network, display_string=40% Coinsurance after deductible, coinsurance_rate=0.4, copay_options=Not Applicable, coinsurance_options=Coinsurance after deductible, copay_amount=0}]",
                      "limit_unit": "",
                      "has_limits": "false",
                      "explanation": "",
                      "covered": "true",
                      "exclusions": ""
                    },
                    {
                      "name": "Basic Dental Care - Child",
                      "limit_quantity": "0",
                      "cost_sharings": "[{csr=Exchange variant (no CSR), network_tier=In-Network, display_string=50% Coinsurance after deductible, coinsurance_rate=0.5, copay_options=Not Applicable, coinsurance_options=Coinsurance after deductible, copay_amount=0}, {csr=Exchange variant (no CSR), network_tier=Out-of-Network, display_string=50% Coinsurance after deductible, coinsurance_rate=0.5, copay_options=Not Applicable, coinsurance_options=Coinsurance after deductible, copay_amount=0}]",
                      "limit_unit": "",
                      "has_limits": "false",
                      "explanation": "",
                      "covered": "true",
                      "exclusions": ""
                    },
                    {
                      "name": "Primary Care Visit to Treat an Injury or Illness",
                      "limit_quantity": "0",
                      "cost_sharings": "[{csr=Exchange variant (no CSR), network_tier=In-Network, display_string=40% Coinsurance after deductible, coinsurance_rate=0.4, copay_options=Not Applicable, coinsurance_options=Coinsurance after deductible, copay_amount=0}, {csr=Exchange variant (no CSR), network_tier=Out-of-Network, display_string=60% Coinsurance after deductible, coinsurance_rate=0.6, copay_options=Not Applicable, coinsurance_options=Coinsurance after deductible, copay_amount=0}]",
                      "limit_unit": "",
                      "has_limits": "false",
                      "explanation": "",
                      "covered": "true",
                      "exclusions": ""
                    },
                    {
                      "name": "Dental Check-Up for Children",
                      "limit_quantity": "1",
                      "cost_sharings": "[{csr=Exchange variant (no CSR), network_tier=In-Network, display_string=No Charge, coinsurance_rate=0, copay_options=No Charge, coinsurance_options=No Charge, copay_amount=0}, {csr=Exchange variant (no CSR), network_tier=Out-of-Network, display_string=No Charge, coinsurance_rate=0, copay_options=No Charge, coinsurance_options=No Charge, copay_amount=0}]",
                      "limit_unit": "visit(s) per 6 months",
                      "has_limits": "true",
                      "explanation": "",
                      "covered": "true",
                      "exclusions": ""
                    },
                    {
                      "name": "Major Dental Care - Child",
                      "limit_quantity": "0",
                      "cost_sharings": "[{csr=Exchange variant (no CSR), network_tier=In-Network, display_string=50% Coinsurance after deductible, coinsurance_rate=0.5, copay_options=Not Applicable, coinsurance_options=Coinsurance after deductible, copay_amount=0}, {csr=Exchange variant (no CSR), network_tier=Out-of-Network, display_string=50% Coinsurance after deductible, coinsurance_rate=0.5, copay_options=Not Applicable, coinsurance_options=Coinsurance after deductible, copay_amount=0}]",
                      "limit_unit": "",
                      "has_limits": "false",
                      "explanation": "",
                      "covered": "true",
                      "exclusions": ""
                    }
                  ],
                  "2": "http://www.bcbsla.com/findaplan/pages/sbc.aspx?Source=FFM&Id=19636LA0220012-01&Year=2019",
                  "3": "http://www.bcbsla.com/individual-solutions-brochure2019",
                  "4": "false",
                  "5": [
                    {
                      "network_tier": "In-Network",
                      "amount": "6500",
                      "csr": "Exchange variant (no CSR)",
                      "individual": "true",
                      "display_string": "",
                      "family_cost": "Individual",
                      "type": "Combined Medical and Drug EHB Deductible",
                      "family": "false"
                    }
                  ],
                  "6": [
                    "Asthma",
                    "Heart Disease",
                    "Diabetes",
                    "High Blood Pressure and High Cholesterol",
                    "Pregnancy"
                  ],
                  "7": "300.24",
                  "8": "http://www.bcbsla.com/pharmacy-2tier-formulary2019",
                  "9": "false",
                  "10": "false",
                  "11": "false",
                  "12": "19636LA0220012",
                  "13": "QHP",
                  "14": "false",
                  "15": {
                    "name": "HMO Louisiana",
                    "state": "LA",
                    "individual_url": "",
                    "toll_free": "1-800-495-2583",
                    "id": "19636",
                    "eligible_dependents": "[Spouse, Grandson or Granddaughter, Adopted Child, Foster Child, Ward, Stepson or Stepdaughter, Self, Child, Sponsored Dependent]",
                    "tty": "",
                    "shop_url": "http://www.bcbsla.com/footer/contact-us"
                  },
                  "16": "Individual",
                  "17": "25",
                  "18": "Bronze",
                  "19": [
                    {
                      "network_tier": "In-Network",
                      "amount": "7900",
                      "csr": "Exchange variant (no CSR)",
                      "individual": "true",
                      "display_string": "",
                      "family_cost": "Individual",
                      "type": "Maximum Out of Pocket for Medical and Drug EHB Benefits (Total)",
                      "family": "false"
                    }
                  ],
                  "20": "Blue POS 60/40 $6500",
                  "21": "http://www.bcbsla.com/hmopos-medical-vision-dental",
                  "22": "-1",
                  "23": "0",
                  "24": "300.24",
                  "25": "300.24",
                  "26": "HealthCare",
                  "27": {
                    "enrollee_experience_rating": null,
                    "plan_efficiency_not_rated_reason": null,
                    "clinical_quality_management_not_rated_reason": null,
                    "year": null,
                    "clinical_quality_management_rating": null,
                    "global_not_rated_reason": null,
                    "enrollee_experience_not_rated_reason": null,
                    "available": false,
                    "plan_efficiency_rating": null,
                    "global_rating": null
                  },
                  "28": "false",
                  "29": "LAS007",
                  "30": "false",
                  "31": "false",
                  "32": "LA",
                  "33": "unknown",
                  "34": [
                    {
                      "network_tier": "In-Network",
                      "amount": "6500",
                      "csr": "Exchange variant (no CSR)",
                      "individual": "true",
                      "display_string": "",
                      "family_cost": "Individual",
                      "type": "Combined Medical and Drug EHB Deductible",
                      "family": "false"
                    },
                    {
                      "network_tier": "Combined In-Out of Network",
                      "amount": "19500",
                      "csr": "Exchange variant (no CSR)",
                      "individual": "true",
                      "display_string": "",
                      "family_cost": "Individual",
                      "type": "Combined Medical and Drug EHB Deductible",
                      "family": "false"
                    }
                  ],
                  "35": [
                    {
                      "network_tier": "In-Network",
                      "amount": "7900",
                      "csr": "Exchange variant (no CSR)",
                      "individual": "true",
                      "display_string": "",
                      "family_cost": "Individual",
                      "type": "Maximum Out of Pocket for Medical and Drug EHB Benefits (Total)",
                      "family": "false"
                    },
                    {
                      "network_tier": "Combined In-Out of Network",
                      "amount": "23700",
                      "csr": "Exchange variant (no CSR)",
                      "individual": "true",
                      "display_string": "",
                      "family_cost": "Individual",
                      "type": "Maximum Out of Pocket for Medical and Drug EHB Benefits (Total)",
                      "family": "false"
                    }
                  ],
                  "36": "6",
                  "37": "POS"
                },
                {
                  "0": "319.88",
                  "1": [
                    {
                      "name": "Primary Care Visit to Treat an Injury or Illness",
                      "limit_quantity": "0",
                      "cost_sharings": "[{csr=Exchange variant (no CSR), network_tier=In-Network, display_string=30% Coinsurance after deductible, coinsurance_rate=0.3, copay_options=Not Applicable, coinsurance_options=Coinsurance after deductible, copay_amount=0}, {csr=Exchange variant (no CSR), network_tier=Out-of-Network, display_string=50% Coinsurance after deductible, coinsurance_rate=0.5, copay_options=Not Applicable, coinsurance_options=Coinsurance after deductible, copay_amount=0}]",
                      "limit_unit": "",
                      "has_limits": "false",
                      "explanation": "",
                      "covered": "true",
                      "exclusions": ""
                    },
                    {
                      "name": "Dental Check-Up for Children",
                      "limit_quantity": "1",
                      "cost_sharings": "[{csr=Exchange variant (no CSR), network_tier=In-Network, display_string=No Charge, coinsurance_rate=0, copay_options=No Charge, coinsurance_options=No Charge, copay_amount=0}, {csr=Exchange variant (no CSR), network_tier=Out-of-Network, display_string=No Charge, coinsurance_rate=0, copay_options=No Charge, coinsurance_options=No Charge, copay_amount=0}]",
                      "limit_unit": "visit(s) per 6 months",
                      "has_limits": "true",
                      "explanation": "",
                      "covered": "true",
                      "exclusions": ""
                    },
                    {
                      "name": "Major Dental Care - Child",
                      "limit_quantity": "0",
                      "cost_sharings": "[{csr=Exchange variant (no CSR), network_tier=In-Network, display_string=50% Coinsurance after deductible, coinsurance_rate=0.5, copay_options=Not Applicable, coinsurance_options=Coinsurance after deductible, copay_amount=0}, {csr=Exchange variant (no CSR), network_tier=Out-of-Network, display_string=50% Coinsurance after deductible, coinsurance_rate=0.5, copay_options=Not Applicable, coinsurance_options=Coinsurance after deductible, copay_amount=0}]",
                      "limit_unit": "",
                      "has_limits": "false",
                      "explanation": "",
                      "covered": "true",
                      "exclusions": ""
                    },
                    {
                      "name": "Specialist Visit",
                      "limit_quantity": "0",
                      "cost_sharings": "[{csr=Exchange variant (no CSR), network_tier=In-Network, display_string=30% Coinsurance after deductible, coinsurance_rate=0.3, copay_options=Not Applicable, coinsurance_options=Coinsurance after deductible, copay_amount=0}, {csr=Exchange variant (no CSR), network_tier=Out-of-Network, display_string=50% Coinsurance after deductible, coinsurance_rate=0.5, copay_options=Not Applicable, coinsurance_options=Coinsurance after deductible, copay_amount=0}]",
                      "limit_unit": "",
                      "has_limits": "false",
                      "explanation": "",
                      "covered": "true",
                      "exclusions": ""
                    },
                    {
                      "name": "Emergency Room Services",
                      "limit_quantity": "0",
                      "cost_sharings": "[{csr=Exchange variant (no CSR), network_tier=In-Network, display_string=30% Coinsurance after deductible, coinsurance_rate=0.3, copay_options=Not Applicable, coinsurance_options=Coinsurance after deductible, copay_amount=0}, {csr=Exchange variant (no CSR), network_tier=Out-of-Network, display_string=30% Coinsurance after deductible, coinsurance_rate=0.3, copay_options=Not Applicable, coinsurance_options=Coinsurance after deductible, copay_amount=0}]",
                      "limit_unit": "",
                      "has_limits": "false",
                      "explanation": "",
                      "covered": "true",
                      "exclusions": ""
                    },
                    {
                      "name": "Basic Dental Care - Child",
                      "limit_quantity": "0",
                      "cost_sharings": "[{csr=Exchange variant (no CSR), network_tier=In-Network, display_string=50% Coinsurance after deductible, coinsurance_rate=0.5, copay_options=Not Applicable, coinsurance_options=Coinsurance after deductible, copay_amount=0}, {csr=Exchange variant (no CSR), network_tier=Out-of-Network, display_string=50% Coinsurance after deductible, coinsurance_rate=0.5, copay_options=Not Applicable, coinsurance_options=Coinsurance after deductible, copay_amount=0}]",
                      "limit_unit": "",
                      "has_limits": "false",
                      "explanation": "",
                      "covered": "true",
                      "exclusions": ""
                    },
                    {
                      "name": "Generic Drugs",
                      "limit_quantity": "0",
                      "cost_sharings": "[{csr=Exchange variant (no CSR), network_tier=In-Network, display_string=30% Coinsurance after deductible, coinsurance_rate=0.3, copay_options=Not Applicable, coinsurance_options=Coinsurance after deductible, copay_amount=0}, {csr=Exchange variant (no CSR), network_tier=Out-of-Network, display_string=30% Coinsurance after deductible, coinsurance_rate=0.3, copay_options=Not Applicable, coinsurance_options=Coinsurance after deductible, copay_amount=0}]",
                      "limit_unit": "",
                      "has_limits": "false",
                      "explanation": "",
                      "covered": "true",
                      "exclusions": ""
                    }
                  ],
                  "2": "http://www.bcbsla.com/findaplan/pages/sbc.aspx?Source=FFM&Id=19636LA0220013-01&Year=2019",
                  "3": "http://www.bcbsla.com/individual-solutions-brochure2019",
                  "4": "false",
                  "5": [
                    {
                      "network_tier": "In-Network",
                      "amount": "4500",
                      "csr": "Exchange variant (no CSR)",
                      "individual": "true",
                      "display_string": "",
                      "family_cost": "Individual",
                      "type": "Combined Medical and Drug EHB Deductible",
                      "family": "false"
                    }
                  ],
                  "6": [
                    "Asthma",
                    "Heart Disease",
                    "Diabetes",
                    "High Blood Pressure and High Cholesterol",
                    "Pregnancy"
                  ],
                  "7": "319.88",
                  "8": "http://www.bcbsla.com/pharmacy-2tier-formulary2019",
                  "9": "false",
                  "10": "false",
                  "11": "false",
                  "12": "19636LA0220013",
                  "13": "QHP",
                  "14": "false",
                  "15": {
                    "name": "HMO Louisiana",
                    "state": "LA",
                    "individual_url": "",
                    "toll_free": "1-800-495-2583",
                    "id": "19636",
                    "eligible_dependents": "[Spouse, Grandson or Granddaughter, Adopted Child, Foster Child, Ward, Stepson or Stepdaughter, Self, Child, Sponsored Dependent]",
                    "tty": "",
                    "shop_url": "http://www.bcbsla.com/footer/contact-us"
                  },
                  "16": "Individual",
                  "17": "25",
                  "18": "Bronze",
                  "19": [
                    {
                      "network_tier": "In-Network",
                      "amount": "7900",
                      "csr": "Exchange variant (no CSR)",
                      "individual": "true",
                      "display_string": "",
                      "family_cost": "Individual",
                      "type": "Maximum Out of Pocket for Medical and Drug EHB Benefits (Total)",
                      "family": "false"
                    }
                  ],
                  "20": "Blue POS 70/50 $4500",
                  "21": "http://www.bcbsla.com/hmopos-medical-vision-dental",
                  "22": "-1",
                  "23": "0",
                  "24": "319.88",
                  "25": "319.88",
                  "26": "HealthCare",
                  "27": {
                    "enrollee_experience_rating": null,
                    "plan_efficiency_not_rated_reason": null,
                    "clinical_quality_management_not_rated_reason": null,
                    "year": null,
                    "clinical_quality_management_rating": null,
                    "global_not_rated_reason": null,
                    "enrollee_experience_not_rated_reason": null,
                    "available": false,
                    "plan_efficiency_rating": null,
                    "global_rating": null
                  },
                  "28": "false",
                  "29": "LAS007",
                  "30": "false",
                  "31": "false",
                  "32": "LA",
                  "33": "unknown",
                  "34": [
                    {
                      "network_tier": "In-Network",
                      "amount": "4500",
                      "csr": "Exchange variant (no CSR)",
                      "individual": "true",
                      "display_string": "",
                      "family_cost": "Individual",
                      "type": "Combined Medical and Drug EHB Deductible",
                      "family": "false"
                    },
                    {
                      "network_tier": "Combined In-Out of Network",
                      "amount": "13500",
                      "csr": "Exchange variant (no CSR)",
                      "individual": "true",
                      "display_string": "",
                      "family_cost": "Individual",
                      "type": "Combined Medical and Drug EHB Deductible",
                      "family": "false"
                    }
                  ],
                  "35": [
                    {
                      "network_tier": "In-Network",
                      "amount": "7900",
                      "csr": "Exchange variant (no CSR)",
                      "individual": "true",
                      "display_string": "",
                      "family_cost": "Individual",
                      "type": "Maximum Out of Pocket for Medical and Drug EHB Benefits (Total)",
                      "family": "false"
                    },
                    {
                      "network_tier": "Combined In-Out of Network",
                      "amount": "23700",
                      "csr": "Exchange variant (no CSR)",
                      "individual": "true",
                      "display_string": "",
                      "family_cost": "Individual",
                      "type": "Maximum Out of Pocket for Medical and Drug EHB Benefits (Total)",
                      "family": "false"
                    }
                  ],
                  "36": "6",
                  "37": "POS"
                },
                {
                  "0": "330.17",
                  "1": [
                    {
                      "name": "Specialist Visit",
                      "limit_quantity": "0",
                      "cost_sharings": "[{csr=Exchange variant (no CSR), network_tier=In-Network, display_string=No Charge After Deductible, coinsurance_rate=0, copay_options=Not Applicable, coinsurance_options=No Charge after deductible, copay_amount=0}, {csr=Exchange variant (no CSR), network_tier=Out-of-Network, display_string=50% Coinsurance after deductible, coinsurance_rate=0.5, copay_options=Not Applicable, coinsurance_options=Coinsurance after deductible, copay_amount=0}]",
                      "limit_unit": "",
                      "has_limits": "false",
                      "explanation": "",
                      "covered": "true",
                      "exclusions": ""
                    },
                    {
                      "name": "Emergency Room Services",
                      "limit_quantity": "0",
                      "cost_sharings": "[{csr=Exchange variant (no CSR), network_tier=In-Network, display_string=No Charge After Deductible, coinsurance_rate=0, copay_options=Not Applicable, coinsurance_options=No Charge after deductible, copay_amount=0}, {csr=Exchange variant (no CSR), network_tier=Out-of-Network, display_string=No Charge After Deductible, coinsurance_rate=0, copay_options=Not Applicable, coinsurance_options=No Charge after deductible, copay_amount=0}]",
                      "limit_unit": "",
                      "has_limits": "false",
                      "explanation": "",
                      "covered": "true",
                      "exclusions": ""
                    },
                    {
                      "name": "Basic Dental Care - Child",
                      "limit_quantity": "0",
                      "cost_sharings": "[{csr=Exchange variant (no CSR), network_tier=In-Network, display_string=No Charge After Deductible, coinsurance_rate=0, copay_options=Not Applicable, coinsurance_options=No Charge after deductible, copay_amount=0}, {csr=Exchange variant (no CSR), network_tier=Out-of-Network, display_string=No Charge After Deductible, coinsurance_rate=0, copay_options=Not Applicable, coinsurance_options=No Charge after deductible, copay_amount=0}]",
                      "limit_unit": "",
                      "has_limits": "false",
                      "explanation": "",
                      "covered": "true",
                      "exclusions": ""
                    },
                    {
                      "name": "Primary Care Visit to Treat an Injury or Illness",
                      "limit_quantity": "0",
                      "cost_sharings": "[{csr=Exchange variant (no CSR), network_tier=In-Network, display_string=No Charge After Deductible, coinsurance_rate=0, copay_options=Not Applicable, coinsurance_options=No Charge after deductible, copay_amount=0}, {csr=Exchange variant (no CSR), network_tier=Out-of-Network, display_string=50% Coinsurance after deductible, coinsurance_rate=0.5, copay_options=Not Applicable, coinsurance_options=Coinsurance after deductible, copay_amount=0}]",
                      "limit_unit": "",
                      "has_limits": "false",
                      "explanation": "",
                      "covered": "true",
                      "exclusions": ""
                    },
                    {
                      "name": "Routine Dental Services (Adult)",
                      "limit_quantity": "2",
                      "cost_sharings": "[{csr=Exchange variant (no CSR), network_tier=In-Network, display_string=No Charge, coinsurance_rate=0, copay_options=Not Applicable, coinsurance_options=No Charge, copay_amount=0}, {csr=Exchange variant (no CSR), network_tier=Out-of-Network, display_string=No Charge, coinsurance_rate=0, copay_options=Not Applicable, coinsurance_options=No Charge, copay_amount=0}]",
                      "limit_unit": "visit(s) per year",
                      "has_limits": "true",
                      "explanation": "",
                      "covered": "true",
                      "exclusions": ""
                    },
                    {
                      "name": "Dental Check-Up for Children",
                      "limit_quantity": "2",
                      "cost_sharings": "[{csr=Exchange variant (no CSR), network_tier=In-Network, display_string=No Charge, coinsurance_rate=0, copay_options=Not Applicable, coinsurance_options=No Charge, copay_amount=0}, {csr=Exchange variant (no CSR), network_tier=Out-of-Network, display_string=No Charge, coinsurance_rate=0, copay_options=Not Applicable, coinsurance_options=No Charge, copay_amount=0}]",
                      "limit_unit": "visit(s) per year",
                      "has_limits": "true",
                      "explanation": "",
                      "covered": "true",
                      "exclusions": ""
                    },
                    {
                      "name": "Major Dental Care - Child",
                      "limit_quantity": "0",
                      "cost_sharings": "[{csr=Exchange variant (no CSR), network_tier=In-Network, display_string=No Charge After Deductible, coinsurance_rate=0, copay_options=Not Applicable, coinsurance_options=No Charge after deductible, copay_amount=0}, {csr=Exchange variant (no CSR), network_tier=Out-of-Network, display_string=No Charge After Deductible, coinsurance_rate=0, copay_options=Not Applicable, coinsurance_options=No Charge after deductible, copay_amount=0}]",
                      "limit_unit": "",
                      "has_limits": "false",
                      "explanation": "",
                      "covered": "true",
                      "exclusions": ""
                    },
                    {
                      "name": "Generic Drugs",
                      "limit_quantity": "0",
                      "cost_sharings": "[{csr=Exchange variant (no CSR), network_tier=In-Network, display_string=No Charge After Deductible, coinsurance_rate=0, copay_options=Not Applicable, coinsurance_options=No Charge after deductible, copay_amount=0}, {csr=Exchange variant (no CSR), network_tier=Out-of-Network, display_string=Not Covered, coinsurance_rate=1, copay_options=Not Applicable, coinsurance_options=, copay_amount=0}]",
                      "limit_unit": "",
                      "has_limits": "false",
                      "explanation": "",
                      "covered": "true",
                      "exclusions": ""
                    }
                  ],
                  "2": "https://www.vantagehealthplan.com/documents/Marketplace/2019INDSavingsBronze6750SummaryOfBenefitsAndCoverage.pdf",
                  "3": "https://www.vantagehealthplan.com/documents/Marketplace/2019MarketplaceINDPlanFinder.pdf",
                  "4": "false",
                  "5": [
                    {
                      "network_tier": "In-Network",
                      "amount": "6750",
                      "csr": "Exchange variant (no CSR)",
                      "individual": "true",
                      "display_string": "",
                      "family_cost": "Individual",
                      "type": "Combined Medical and Drug EHB Deductible",
                      "family": "false"
                    }
                  ],
                  "6": [
                    "Heart Disease",
                    "Depression",
                    "Diabetes",
                    "High Blood Pressure and High Cholesterol",
                    "Weight Loss Programs"
                  ],
                  "7": "330.17",
                  "8": "https://www.vantagehealthplan.com/documents/Marketplace/2019CommercialAndExchangeMemberListOfCoveredDrugs(Formulary).pdf",
                  "9": "false",
                  "10": "false",
                  "11": "true",
                  "12": "67243LA0090040",
                  "13": "QHP",
                  "14": "false",
                  "15": {
                    "name": "Vantage Health Plan",
                    "state": "LA",
                    "individual_url": "",
                    "toll_free": "1-888-823-1910",
                    "id": "67243",
                    "eligible_dependents": "[Spouse, Adopted Child, Foster Child, Ward, Stepson or Stepdaughter, Self, Child, Life Partner]",
                    "tty": "",
                    "shop_url": "https://www.vantagehealthplan.com/"
                  },
                  "16": "Individual",
                  "17": "25",
                  "18": "Bronze",
                  "19": [
                    {
                      "network_tier": "In-Network",
                      "amount": "6750",
                      "csr": "Exchange variant (no CSR)",
                      "individual": "true",
                      "display_string": "",
                      "family_cost": "Individual",
                      "type": "Maximum Out of Pocket for Medical and Drug EHB Benefits (Total)",
                      "family": "false"
                    }
                  ],
                  "20": "Savings Bronze Plus 6750 IND-D4",
                  "21": "https://www.vantagehealthplan.com/Provider/ProviderContent",
                  "22": "-1",
                  "23": "0",
                  "24": "333.25",
                  "25": "333.25",
                  "26": "HealthCare",
                  "27": {
                    "enrollee_experience_rating": null,
                    "plan_efficiency_not_rated_reason": null,
                    "clinical_quality_management_not_rated_reason": null,
                    "year": null,
                    "clinical_quality_management_rating": null,
                    "global_not_rated_reason": null,
                    "enrollee_experience_not_rated_reason": null,
                    "available": false,
                    "plan_efficiency_rating": null,
                    "global_rating": null
                  },
                  "28": "false",
                  "29": "LAS002",
                  "30": "false",
                  "31": "false",
                  "32": "LA",
                  "33": "unknown",
                  "34": [
                    {
                      "network_tier": "In-Network",
                      "amount": "6750",
                      "csr": "Exchange variant (no CSR)",
                      "individual": "true",
                      "display_string": "",
                      "family_cost": "Individual",
                      "type": "Combined Medical and Drug EHB Deductible",
                      "family": "false"
                    }
                  ],
                  "35": [
                    {
                      "network_tier": "In-Network",
                      "amount": "6750",
                      "csr": "Exchange variant (no CSR)",
                      "individual": "true",
                      "display_string": "",
                      "family_cost": "Individual",
                      "type": "Maximum Out of Pocket for Medical and Drug EHB Benefits (Total)",
                      "family": "false"
                    }
                  ],
                  "36": "6",
                  "37": "POS"
                },
                {
                  "0": "331.2",
                  "1": [
                    {
                      "name": "Generic Drugs",
                      "limit_quantity": "0",
                      "cost_sharings": "[{csr=Exchange variant (no CSR), network_tier=In-Network, display_string=50% Coinsurance after deductible, coinsurance_rate=0.5, copay_options=Not Applicable, coinsurance_options=Coinsurance after deductible, copay_amount=0}, {csr=Exchange variant (no CSR), network_tier=Out-of-Network, display_string=Not Covered, coinsurance_rate=1, copay_options=Not Applicable, coinsurance_options=, copay_amount=0}]",
                      "limit_unit": "",
                      "has_limits": "false",
                      "explanation": "",
                      "covered": "true",
                      "exclusions": ""
                    },
                    {
                      "name": "Primary Care Visit to Treat an Injury or Illness",
                      "limit_quantity": "0",
                      "cost_sharings": "[{csr=Exchange variant (no CSR), network_tier=In-Network, display_string=50% Coinsurance after deductible, coinsurance_rate=0.5, copay_options=Not Applicable, coinsurance_options=Coinsurance after deductible, copay_amount=0}, {csr=Exchange variant (no CSR), network_tier=Out-of-Network, display_string=50% Coinsurance after deductible, coinsurance_rate=0.5, copay_options=Not Applicable, coinsurance_options=Coinsurance after deductible, copay_amount=0}]",
                      "limit_unit": "",
                      "has_limits": "false",
                      "explanation": "",
                      "covered": "true",
                      "exclusions": ""
                    },
                    {
                      "name": "Routine Dental Services (Adult)",
                      "limit_quantity": "2",
                      "cost_sharings": "[{csr=Exchange variant (no CSR), network_tier=In-Network, display_string=No Charge, coinsurance_rate=0, copay_options=Not Applicable, coinsurance_options=No Charge, copay_amount=0}, {csr=Exchange variant (no CSR), network_tier=Out-of-Network, display_string=No Charge, coinsurance_rate=0, copay_options=Not Applicable, coinsurance_options=No Charge, copay_amount=0}]",
                      "limit_unit": "visit(s) per year",
                      "has_limits": "true",
                      "explanation": "",
                      "covered": "true",
                      "exclusions": ""
                    },
                    {
                      "name": "Dental Check-Up for Children",
                      "limit_quantity": "2",
                      "cost_sharings": "[{csr=Exchange variant (no CSR), network_tier=In-Network, display_string=No Charge, coinsurance_rate=0, copay_options=Not Applicable, coinsurance_options=No Charge, copay_amount=0}, {csr=Exchange variant (no CSR), network_tier=Out-of-Network, display_string=No Charge, coinsurance_rate=0, copay_options=Not Applicable, coinsurance_options=No Charge, copay_amount=0}]",
                      "limit_unit": "visit(s) per year",
                      "has_limits": "true",
                      "explanation": "",
                      "covered": "true",
                      "exclusions": ""
                    },
                    {
                      "name": "Major Dental Care - Child",
                      "limit_quantity": "0",
                      "cost_sharings": "[{csr=Exchange variant (no CSR), network_tier=In-Network, display_string=50% Coinsurance after deductible, coinsurance_rate=0.5, copay_options=Not Applicable, coinsurance_options=Coinsurance after deductible, copay_amount=0}, {csr=Exchange variant (no CSR), network_tier=Out-of-Network, display_string=50% Coinsurance after deductible, coinsurance_rate=0.5, copay_options=Not Applicable, coinsurance_options=Coinsurance after deductible, copay_amount=0}]",
                      "limit_unit": "",
                      "has_limits": "false",
                      "explanation": "",
                      "covered": "true",
                      "exclusions": ""
                    },
                    {
                      "name": "Specialist Visit",
                      "limit_quantity": "0",
                      "cost_sharings": "[{csr=Exchange variant (no CSR), network_tier=In-Network, display_string=50% Coinsurance after deductible, coinsurance_rate=0.5, copay_options=Not Applicable, coinsurance_options=Coinsurance after deductible, copay_amount=0}, {csr=Exchange variant (no CSR), network_tier=Out-of-Network, display_string=50% Coinsurance after deductible, coinsurance_rate=0.5, copay_options=Not Applicable, coinsurance_options=Coinsurance after deductible, copay_amount=0}]",
                      "limit_unit": "",
                      "has_limits": "false",
                      "explanation": "",
                      "covered": "true",
                      "exclusions": ""
                    },
                    {
                      "name": "Emergency Room Services",
                      "limit_quantity": "0",
                      "cost_sharings": "[{csr=Exchange variant (no CSR), network_tier=In-Network, display_string=50% Coinsurance after deductible, coinsurance_rate=0.5, copay_options=Not Applicable, coinsurance_options=Coinsurance after deductible, copay_amount=0}, {csr=Exchange variant (no CSR), network_tier=Out-of-Network, display_string=50% Coinsurance after deductible, coinsurance_rate=0.5, copay_options=Not Applicable, coinsurance_options=Coinsurance after deductible, copay_amount=0}]",
                      "limit_unit": "",
                      "has_limits": "false",
                      "explanation": "",
                      "covered": "true",
                      "exclusions": ""
                    },
                    {
                      "name": "Basic Dental Care - Child",
                      "limit_quantity": "0",
                      "cost_sharings": "[{csr=Exchange variant (no CSR), network_tier=In-Network, display_string=50% Coinsurance after deductible, coinsurance_rate=0.5, copay_options=Not Applicable, coinsurance_options=Coinsurance after deductible, copay_amount=0}, {csr=Exchange variant (no CSR), network_tier=Out-of-Network, display_string=50% Coinsurance after deductible, coinsurance_rate=0.5, copay_options=Not Applicable, coinsurance_options=Coinsurance after deductible, copay_amount=0}]",
                      "limit_unit": "",
                      "has_limits": "false",
                      "explanation": "",
                      "covered": "true",
                      "exclusions": ""
                    }
                  ],
                  "2": "https://www.vantagehealthplan.com/documents/Marketplace/2019INDSavingsBronze5500SummaryOfBenefitsAndCoverage.pdf",
                  "3": "https://www.vantagehealthplan.com/documents/Marketplace/2019MarketplaceINDPlanFinder.pdf",
                  "4": "false",
                  "5": [
                    {
                      "network_tier": "In-Network",
                      "amount": "5500",
                      "csr": "Exchange variant (no CSR)",
                      "individual": "true",
                      "display_string": "",
                      "family_cost": "Individual",
                      "type": "Combined Medical and Drug EHB Deductible",
                      "family": "false"
                    }
                  ],
                  "6": [
                    "Heart Disease",
                    "Depression",
                    "Diabetes",
                    "High Blood Pressure and High Cholesterol",
                    "Weight Loss Programs"
                  ],
                  "7": "331.2",
                  "8": "https://www.vantagehealthplan.com/documents/Marketplace/2019CommercialAndExchangeMemberListOfCoveredDrugs(Formulary).pdf",
                  "9": "false",
                  "10": "false",
                  "11": "true",
                  "12": "67243LA0090010",
                  "13": "QHP",
                  "14": "false",
                  "15": {
                    "name": "Vantage Health Plan",
                    "state": "LA",
                    "individual_url": "",
                    "toll_free": "1-888-823-1910",
                    "id": "67243",
                    "eligible_dependents": "[Spouse, Adopted Child, Foster Child, Ward, Stepson or Stepdaughter, Self, Child, Life Partner]",
                    "tty": "",
                    "shop_url": "https://www.vantagehealthplan.com/"
                  },
                  "16": "Individual",
                  "17": "25",
                  "18": "Bronze",
                  "19": [
                    {
                      "network_tier": "In-Network",
                      "amount": "6750",
                      "csr": "Exchange variant (no CSR)",
                      "individual": "true",
                      "display_string": "",
                      "family_cost": "Individual",
                      "type": "Maximum Out of Pocket for Medical and Drug EHB Benefits (Total)",
                      "family": "false"
                    }
                  ],
                  "20": "Savings Bronze Plus 5500 IND-D4",
                  "21": "https://www.vantagehealthplan.com/Provider/ProviderContent",
                  "22": "-1",
                  "23": "0",
                  "24": "334.29",
                  "25": "334.29",
                  "26": "HealthCare",
                  "27": {
                    "enrollee_experience_rating": null,
                    "plan_efficiency_not_rated_reason": null,
                    "clinical_quality_management_not_rated_reason": null,
                    "year": null,
                    "clinical_quality_management_rating": null,
                    "global_not_rated_reason": null,
                    "enrollee_experience_not_rated_reason": null,
                    "available": false,
                    "plan_efficiency_rating": null,
                    "global_rating": null
                  },
                  "28": "false",
                  "29": "LAS002",
                  "30": "false",
                  "31": "false",
                  "32": "LA",
                  "33": "unknown",
                  "34": [
                    {
                      "network_tier": "In-Network",
                      "amount": "5500",
                      "csr": "Exchange variant (no CSR)",
                      "individual": "true",
                      "display_string": "",
                      "family_cost": "Individual",
                      "type": "Combined Medical and Drug EHB Deductible",
                      "family": "false"
                    }
                  ],
                  "35": [
                    {
                      "network_tier": "In-Network",
                      "amount": "6750",
                      "csr": "Exchange variant (no CSR)",
                      "individual": "true",
                      "display_string": "",
                      "family_cost": "Individual",
                      "type": "Maximum Out of Pocket for Medical and Drug EHB Benefits (Total)",
                      "family": "false"
                    }
                  ],
                  "36": "6",
                  "37": "POS"
                },
                {
                  "0": "343.55",
                  "1": [
                    {
                      "name": "Generic Drugs",
                      "limit_quantity": "0",
                      "cost_sharings": "[{csr=Exchange variant (no CSR), network_tier=In-Network, display_string=$30, coinsurance_rate=0, copay_options=, coinsurance_options=Not Applicable, copay_amount=30}, {csr=Exchange variant (no CSR), network_tier=Out-of-Network, display_string=Not Covered, coinsurance_rate=1, copay_options=Not Applicable, coinsurance_options=, copay_amount=0}]",
                      "limit_unit": "",
                      "has_limits": "false",
                      "explanation": "",
                      "covered": "true",
                      "exclusions": ""
                    },
                    {
                      "name": "Major Dental Care - Adult",
                      "limit_quantity": "0",
                      "cost_sharings": "[{csr=Exchange variant (no CSR), network_tier=In-Network, display_string=50%, coinsurance_rate=0.5, copay_options=Not Applicable, coinsurance_options=, copay_amount=0}, {csr=Exchange variant (no CSR), network_tier=Out-of-Network, display_string=50%, coinsurance_rate=0.5, copay_options=Not Applicable, coinsurance_options=, copay_amount=0}]",
                      "limit_unit": "",
                      "has_limits": "false",
                      "explanation": "",
                      "covered": "true",
                      "exclusions": ""
                    },
                    {
                      "name": "Specialist Visit",
                      "limit_quantity": "0",
                      "cost_sharings": "[{csr=Exchange variant (no CSR), network_tier=In-Network, display_string=50% Coinsurance after deductible, coinsurance_rate=0.5, copay_options=Not Applicable, coinsurance_options=Coinsurance after deductible, copay_amount=0}, {csr=Exchange variant (no CSR), network_tier=Out-of-Network, display_string=50% Coinsurance after deductible, coinsurance_rate=0.5, copay_options=Not Applicable, coinsurance_options=Coinsurance after deductible, copay_amount=0}]",
                      "limit_unit": "",
                      "has_limits": "false",
                      "explanation": "",
                      "covered": "true",
                      "exclusions": ""
                    },
                    {
                      "name": "Emergency Room Services",
                      "limit_quantity": "0",
                      "cost_sharings": "[{csr=Exchange variant (no CSR), network_tier=In-Network, display_string=50% Coinsurance after deductible, coinsurance_rate=0.5, copay_options=Not Applicable, coinsurance_options=Coinsurance after deductible, copay_amount=0}, {csr=Exchange variant (no CSR), network_tier=Out-of-Network, display_string=50% Coinsurance after deductible, coinsurance_rate=0.5, copay_options=Not Applicable, coinsurance_options=Coinsurance after deductible, copay_amount=0}]",
                      "limit_unit": "",
                      "has_limits": "false",
                      "explanation": "",
                      "covered": "true",
                      "exclusions": ""
                    },
                    {
                      "name": "Basic Dental Care - Child",
                      "limit_quantity": "0",
                      "cost_sharings": "[{csr=Exchange variant (no CSR), network_tier=In-Network, display_string=50%, coinsurance_rate=0.5, copay_options=Not Applicable, coinsurance_options=, copay_amount=0}, {csr=Exchange variant (no CSR), network_tier=Out-of-Network, display_string=50%, coinsurance_rate=0.5, copay_options=Not Applicable, coinsurance_options=, copay_amount=0}]",
                      "limit_unit": "",
                      "has_limits": "false",
                      "explanation": "",
                      "covered": "true",
                      "exclusions": ""
                    },
                    {
                      "name": "Primary Care Visit to Treat an Injury or Illness",
                      "limit_quantity": "0",
                      "cost_sharings": "[{csr=Exchange variant (no CSR), network_tier=In-Network, display_string=$50, coinsurance_rate=0, copay_options=, coinsurance_options=Not Applicable, copay_amount=50}, {csr=Exchange variant (no CSR), network_tier=Out-of-Network, display_string=50% Coinsurance after deductible, coinsurance_rate=0.5, copay_options=Not Applicable, coinsurance_options=Coinsurance after deductible, copay_amount=0}]",
                      "limit_unit": "",
                      "has_limits": "false",
                      "explanation": "",
                      "covered": "true",
                      "exclusions": ""
                    },
                    {
                      "name": "Routine Dental Services (Adult)",
                      "limit_quantity": "2",
                      "cost_sharings": "[{csr=Exchange variant (no CSR), network_tier=In-Network, display_string=No Charge, coinsurance_rate=0, copay_options=Not Applicable, coinsurance_options=No Charge, copay_amount=0}, {csr=Exchange variant (no CSR), network_tier=Out-of-Network, display_string=No Charge, coinsurance_rate=0, copay_options=Not Applicable, coinsurance_options=No Charge, copay_amount=0}]",
                      "limit_unit": "visit(s) per year",
                      "has_limits": "true",
                      "explanation": "",
                      "covered": "true",
                      "exclusions": ""
                    },
                    {
                      "name": "Dental Check-Up for Children",
                      "limit_quantity": "2",
                      "cost_sharings": "[{csr=Exchange variant (no CSR), network_tier=In-Network, display_string=No Charge, coinsurance_rate=0, copay_options=Not Applicable, coinsurance_options=No Charge, copay_amount=0}, {csr=Exchange variant (no CSR), network_tier=Out-of-Network, display_string=No Charge, coinsurance_rate=0, copay_options=Not Applicable, coinsurance_options=No Charge, copay_amount=0}]",
                      "limit_unit": "visit(s) per year",
                      "has_limits": "true",
                      "explanation": "",
                      "covered": "true",
                      "exclusions": ""
                    },
                    {
                      "name": "Major Dental Care - Child",
                      "limit_quantity": "0",
                      "cost_sharings": "[{csr=Exchange variant (no CSR), network_tier=In-Network, display_string=50%, coinsurance_rate=0.5, copay_options=Not Applicable, coinsurance_options=, copay_amount=0}, {csr=Exchange variant (no CSR), network_tier=Out-of-Network, display_string=50%, coinsurance_rate=0.5, copay_options=Not Applicable, coinsurance_options=, copay_amount=0}]",
                      "limit_unit": "",
                      "has_limits": "false",
                      "explanation": "",
                      "covered": "true",
                      "exclusions": ""
                    },
                    {
                      "name": "Basic Dental Care - Adult",
                      "limit_quantity": "0",
                      "cost_sharings": "[{csr=Exchange variant (no CSR), network_tier=In-Network, display_string=50%, coinsurance_rate=0.5, copay_options=Not Applicable, coinsurance_options=, copay_amount=0}, {csr=Exchange variant (no CSR), network_tier=Out-of-Network, display_string=50%, coinsurance_rate=0.5, copay_options=Not Applicable, coinsurance_options=, copay_amount=0}]",
                      "limit_unit": "",
                      "has_limits": "false",
                      "explanation": "",
                      "covered": "true",
                      "exclusions": ""
                    }
                  ],
                  "2": "https://www.vantagehealthplan.com/documents/Marketplace/2019INDEssentialBronze6500SummaryOfBenefitsAndCoverage.pdf",
                  "3": "https://www.vantagehealthplan.com/documents/Marketplace/2019MarketplaceINDPlanFinder.pdf",
                  "4": "false",
                  "5": [
                    {
                      "network_tier": "In-Network",
                      "amount": "6500",
                      "csr": "Exchange variant (no CSR)",
                      "individual": "true",
                      "display_string": "",
                      "family_cost": "Individual",
                      "type": "Medical EHB Deductible",
                      "family": "false"
                    },
                    {
                      "network_tier": "In-Network",
                      "amount": "1000",
                      "csr": "Exchange variant (no CSR)",
                      "individual": "true",
                      "display_string": "",
                      "family_cost": "Individual",
                      "type": "Drug EHB Deductible",
                      "family": "false"
                    }
                  ],
                  "6": [
                    "Heart Disease",
                    "Depression",
                    "Diabetes",
                    "High Blood Pressure and High Cholesterol",
                    "Weight Loss Programs"
                  ],
                  "7": "343.55",
                  "8": "https://www.vantagehealthplan.com/documents/Marketplace/2019CommercialAndExchangeMemberListOfCoveredDrugs(Formulary).pdf",
                  "9": "false",
                  "10": "false",
                  "11": "false",
                  "12": "67243LA0090008",
                  "13": "QHP",
                  "14": "false",
                  "15": {
                    "name": "Vantage Health Plan",
                    "state": "LA",
                    "individual_url": "",
                    "toll_free": "1-888-823-1910",
                    "id": "67243",
                    "eligible_dependents": "[Spouse, Adopted Child, Foster Child, Ward, Stepson or Stepdaughter, Self, Child, Life Partner]",
                    "tty": "",
                    "shop_url": "https://www.vantagehealthplan.com/"
                  },
                  "16": "Individual",
                  "17": "25",
                  "18": "Bronze",
                  "19": [
                    {
                      "network_tier": "In-Network",
                      "amount": "7850",
                      "csr": "Exchange variant (no CSR)",
                      "individual": "true",
                      "display_string": "",
                      "family_cost": "Individual",
                      "type": "Maximum Out of Pocket for Medical and Drug EHB Benefits (Total)",
                      "family": "false"
                    }
                  ],
                  "20": "Essential Bronze Plus 6500 IND-D2",
                  "21": "https://www.vantagehealthplan.com/Provider/ProviderContent",
                  "22": "-1",
                  "23": "0",
                  "24": "349.24",
                  "25": "349.24",
                  "26": "HealthCare",
                  "27": {
                    "enrollee_experience_rating": null,
                    "plan_efficiency_not_rated_reason": null,
                    "clinical_quality_management_not_rated_reason": null,
                    "year": null,
                    "clinical_quality_management_rating": null,
                    "global_not_rated_reason": null,
                    "enrollee_experience_not_rated_reason": null,
                    "available": false,
                    "plan_efficiency_rating": null,
                    "global_rating": null
                  },
                  "28": "false",
                  "29": "LAS002",
                  "30": "false",
                  "31": "false",
                  "32": "LA",
                  "33": "unknown",
                  "34": [
                    {
                      "network_tier": "In-Network",
                      "amount": "6500",
                      "csr": "Exchange variant (no CSR)",
                      "individual": "true",
                      "display_string": "",
                      "family_cost": "Individual",
                      "type": "Medical EHB Deductible",
                      "family": "false"
                    },
                    {
                      "network_tier": "In-Network",
                      "amount": "1000",
                      "csr": "Exchange variant (no CSR)",
                      "individual": "true",
                      "display_string": "",
                      "family_cost": "Individual",
                      "type": "Drug EHB Deductible",
                      "family": "false"
                    }
                  ],
                  "35": [
                    {
                      "network_tier": "In-Network",
                      "amount": "7850",
                      "csr": "Exchange variant (no CSR)",
                      "individual": "true",
                      "display_string": "",
                      "family_cost": "Individual",
                      "type": "Maximum Out of Pocket for Medical and Drug EHB Benefits (Total)",
                      "family": "false"
                    }
                  ],
                  "36": "6",
                  "37": "POS"
                },
                {
                  "0": "362.89",
                  "1": [
                    {
                      "name": "Primary Care Visit to Treat an Injury or Illness",
                      "limit_quantity": "0",
                      "cost_sharings": "[{csr=Exchange variant (no CSR), network_tier=In-Network, display_string=$20, coinsurance_rate=0, copay_options=, coinsurance_options=Not Applicable, copay_amount=20}, {csr=Exchange variant (no CSR), network_tier=Out-of-Network, display_string=50% Coinsurance after deductible, coinsurance_rate=0.5, copay_options=Not Applicable, coinsurance_options=Coinsurance after deductible, copay_amount=0}]",
                      "limit_unit": "",
                      "has_limits": "false",
                      "explanation": "",
                      "covered": "true",
                      "exclusions": ""
                    },
                    {
                      "name": "Dental Check-Up for Children",
                      "limit_quantity": "1",
                      "cost_sharings": "[{csr=Exchange variant (no CSR), network_tier=In-Network, display_string=No Charge, coinsurance_rate=0, copay_options=No Charge, coinsurance_options=No Charge, copay_amount=0}, {csr=Exchange variant (no CSR), network_tier=Out-of-Network, display_string=No Charge, coinsurance_rate=0, copay_options=No Charge, coinsurance_options=No Charge, copay_amount=0}]",
                      "limit_unit": "visit(s) per 6 months",
                      "has_limits": "true",
                      "explanation": "",
                      "covered": "true",
                      "exclusions": ""
                    },
                    {
                      "name": "Major Dental Care - Child",
                      "limit_quantity": "0",
                      "cost_sharings": "[{csr=Exchange variant (no CSR), network_tier=In-Network, display_string=50% Coinsurance after deductible, coinsurance_rate=0.5, copay_options=Not Applicable, coinsurance_options=Coinsurance after deductible, copay_amount=0}, {csr=Exchange variant (no CSR), network_tier=Out-of-Network, display_string=50% Coinsurance after deductible, coinsurance_rate=0.5, copay_options=Not Applicable, coinsurance_options=Coinsurance after deductible, copay_amount=0}]",
                      "limit_unit": "",
                      "has_limits": "false",
                      "explanation": "",
                      "covered": "true",
                      "exclusions": ""
                    },
                    {
                      "name": "Specialist Visit",
                      "limit_quantity": "0",
                      "cost_sharings": "[{csr=Exchange variant (no CSR), network_tier=In-Network, display_string=$60, coinsurance_rate=0, copay_options=, coinsurance_options=Not Applicable, copay_amount=60}, {csr=Exchange variant (no CSR), network_tier=Out-of-Network, display_string=50% Coinsurance after deductible, coinsurance_rate=0.5, copay_options=Not Applicable, coinsurance_options=Coinsurance after deductible, copay_amount=0}]",
                      "limit_unit": "",
                      "has_limits": "false",
                      "explanation": "",
                      "covered": "true",
                      "exclusions": ""
                    },
                    {
                      "name": "Emergency Room Services",
                      "limit_quantity": "0",
                      "cost_sharings": "[{csr=Exchange variant (no CSR), network_tier=In-Network, display_string=$450, coinsurance_rate=0, copay_options=, coinsurance_options=Not Applicable, copay_amount=450}, {csr=Exchange variant (no CSR), network_tier=Out-of-Network, display_string=$450, coinsurance_rate=0, copay_options=, coinsurance_options=Not Applicable, copay_amount=450}]",
                      "limit_unit": "",
                      "has_limits": "false",
                      "explanation": "",
                      "covered": "true",
                      "exclusions": ""
                    },
                    {
                      "name": "Basic Dental Care - Child",
                      "limit_quantity": "0",
                      "cost_sharings": "[{csr=Exchange variant (no CSR), network_tier=In-Network, display_string=50% Coinsurance after deductible, coinsurance_rate=0.5, copay_options=Not Applicable, coinsurance_options=Coinsurance after deductible, copay_amount=0}, {csr=Exchange variant (no CSR), network_tier=Out-of-Network, display_string=50% Coinsurance after deductible, coinsurance_rate=0.5, copay_options=Not Applicable, coinsurance_options=Coinsurance after deductible, copay_amount=0}]",
                      "limit_unit": "",
                      "has_limits": "false",
                      "explanation": "",
                      "covered": "true",
                      "exclusions": ""
                    },
                    {
                      "name": "Generic Drugs",
                      "limit_quantity": "0",
                      "cost_sharings": "[{csr=Exchange variant (no CSR), network_tier=In-Network, display_string=30% Coinsurance after deductible, coinsurance_rate=0.3, copay_options=Not Applicable, coinsurance_options=Coinsurance after deductible, copay_amount=0}, {csr=Exchange variant (no CSR), network_tier=Out-of-Network, display_string=30% Coinsurance after deductible, coinsurance_rate=0.3, copay_options=Not Applicable, coinsurance_options=Coinsurance after deductible, copay_amount=0}]",
                      "limit_unit": "",
                      "has_limits": "false",
                      "explanation": "",
                      "covered": "true",
                      "exclusions": ""
                    }
                  ],
                  "2": "http://www.bcbsla.com/findaplan/pages/sbc.aspx?Source=FFM&Id=19636LA0230003-01&Year=2019",
                  "3": "http://www.bcbsla.com/individual-communityblue-brochure2019",
                  "4": "false",
                  "5": [
                    {
                      "network_tier": "In-Network",
                      "amount": "2200",
                      "csr": "Exchange variant (no CSR)",
                      "individual": "true",
                      "display_string": "",
                      "family_cost": "Individual",
                      "type": "Combined Medical and Drug EHB Deductible",
                      "family": "false"
                    }
                  ],
                  "6": [
                    "Asthma",
                    "Heart Disease",
                    "Diabetes",
                    "High Blood Pressure and High Cholesterol",
                    "Pregnancy"
                  ],
                  "7": "362.89",
                  "8": "http://www.bcbsla.com/pharmacy-2tier-formulary2019",
                  "9": "false",
                  "10": "false",
                  "11": "false",
                  "12": "19636LA0230003",
                  "13": "QHP",
                  "14": "false",
                  "15": {
                    "name": "HMO Louisiana",
                    "state": "LA",
                    "individual_url": "",
                    "toll_free": "1-800-495-2583",
                    "id": "19636",
                    "eligible_dependents": "[Spouse, Grandson or Granddaughter, Adopted Child, Foster Child, Ward, Stepson or Stepdaughter, Self, Child, Sponsored Dependent]",
                    "tty": "",
                    "shop_url": "http://www.bcbsla.com/footer/contact-us"
                  },
                  "16": "Individual",
                  "17": "25",
                  "18": "Silver",
                  "19": [
                    {
                      "network_tier": "In-Network",
                      "amount": "7900",
                      "csr": "Exchange variant (no CSR)",
                      "individual": "true",
                      "display_string": "",
                      "family_cost": "Individual",
                      "type": "Maximum Out of Pocket for Medical and Drug EHB Benefits (Total)",
                      "family": "false"
                    }
                  ],
                  "20": "Community Blue copay 70/50 $2200",
                  "21": "http://www.bcbsla.com/communityblue-medical-vision-dental",
                  "22": "-1",
                  "23": "0",
                  "24": "362.89",
                  "25": "362.89",
                  "26": "HealthCare",
                  "27": {
                    "enrollee_experience_rating": null,
                    "plan_efficiency_not_rated_reason": null,
                    "clinical_quality_management_not_rated_reason": null,
                    "year": null,
                    "clinical_quality_management_rating": null,
                    "global_not_rated_reason": null,
                    "enrollee_experience_not_rated_reason": null,
                    "available": false,
                    "plan_efficiency_rating": null,
                    "global_rating": null
                  },
                  "28": "false",
                  "29": "LAS006",
                  "30": "false",
                  "31": "false",
                  "32": "LA",
                  "33": "unknown",
                  "34": [
                    {
                      "network_tier": "In-Network",
                      "amount": "2200",
                      "csr": "Exchange variant (no CSR)",
                      "individual": "true",
                      "display_string": "",
                      "family_cost": "Individual",
                      "type": "Combined Medical and Drug EHB Deductible",
                      "family": "false"
                    },
                    {
                      "network_tier": "Combined In-Out of Network",
                      "amount": "6600",
                      "csr": "Exchange variant (no CSR)",
                      "individual": "true",
                      "display_string": "",
                      "family_cost": "Individual",
                      "type": "Combined Medical and Drug EHB Deductible",
                      "family": "false"
                    }
                  ],
                  "35": [
                    {
                      "network_tier": "In-Network",
                      "amount": "7900",
                      "csr": "Exchange variant (no CSR)",
                      "individual": "true",
                      "display_string": "",
                      "family_cost": "Individual",
                      "type": "Maximum Out of Pocket for Medical and Drug EHB Benefits (Total)",
                      "family": "false"
                    },
                    {
                      "network_tier": "Combined In-Out of Network",
                      "amount": "23700",
                      "csr": "Exchange variant (no CSR)",
                      "individual": "true",
                      "display_string": "",
                      "family_cost": "Individual",
                      "type": "Maximum Out of Pocket for Medical and Drug EHB Benefits (Total)",
                      "family": "false"
                    }
                  ],
                  "36": "6",
                  "37": "POS"
                },
                {
                  "0": "381.2",
                  "1": [
                    {
                      "name": "Specialist Visit",
                      "limit_quantity": "0",
                      "cost_sharings": "[{csr=Exchange variant (no CSR), network_tier=In-Network, display_string=20% Coinsurance after deductible, coinsurance_rate=0.2, copay_options=Not Applicable, coinsurance_options=Coinsurance after deductible, copay_amount=0}, {csr=Exchange variant (no CSR), network_tier=Out-of-Network, display_string=40% Coinsurance after deductible, coinsurance_rate=0.4, copay_options=Not Applicable, coinsurance_options=Coinsurance after deductible, copay_amount=0}]",
                      "limit_unit": "",
                      "has_limits": "false",
                      "explanation": "",
                      "covered": "true",
                      "exclusions": ""
                    },
                    {
                      "name": "Emergency Room Services",
                      "limit_quantity": "0",
                      "cost_sharings": "[{csr=Exchange variant (no CSR), network_tier=In-Network, display_string=20% Coinsurance after deductible, coinsurance_rate=0.2, copay_options=Not Applicable, coinsurance_options=Coinsurance after deductible, copay_amount=0}, {csr=Exchange variant (no CSR), network_tier=Out-of-Network, display_string=20% Coinsurance after deductible, coinsurance_rate=0.2, copay_options=Not Applicable, coinsurance_options=Coinsurance after deductible, copay_amount=0}]",
                      "limit_unit": "",
                      "has_limits": "false",
                      "explanation": "",
                      "covered": "true",
                      "exclusions": ""
                    },
                    {
                      "name": "Basic Dental Care - Child",
                      "limit_quantity": "0",
                      "cost_sharings": "[{csr=Exchange variant (no CSR), network_tier=In-Network, display_string=50% Coinsurance after deductible, coinsurance_rate=0.5, copay_options=Not Applicable, coinsurance_options=Coinsurance after deductible, copay_amount=0}, {csr=Exchange variant (no CSR), network_tier=Out-of-Network, display_string=50% Coinsurance after deductible, coinsurance_rate=0.5, copay_options=Not Applicable, coinsurance_options=Coinsurance after deductible, copay_amount=0}]",
                      "limit_unit": "",
                      "has_limits": "false",
                      "explanation": "",
                      "covered": "true",
                      "exclusions": ""
                    },
                    {
                      "name": "Primary Care Visit to Treat an Injury or Illness",
                      "limit_quantity": "0",
                      "cost_sharings": "[{csr=Exchange variant (no CSR), network_tier=In-Network, display_string=20% Coinsurance after deductible, coinsurance_rate=0.2, copay_options=Not Applicable, coinsurance_options=Coinsurance after deductible, copay_amount=0}, {csr=Exchange variant (no CSR), network_tier=Out-of-Network, display_string=40% Coinsurance after deductible, coinsurance_rate=0.4, copay_options=Not Applicable, coinsurance_options=Coinsurance after deductible, copay_amount=0}]",
                      "limit_unit": "",
                      "has_limits": "false",
                      "explanation": "",
                      "covered": "true",
                      "exclusions": ""
                    },
                    {
                      "name": "Dental Check-Up for Children",
                      "limit_quantity": "1",
                      "cost_sharings": "[{csr=Exchange variant (no CSR), network_tier=In-Network, display_string=No Charge, coinsurance_rate=0, copay_options=No Charge, coinsurance_options=No Charge, copay_amount=0}, {csr=Exchange variant (no CSR), network_tier=Out-of-Network, display_string=No Charge, coinsurance_rate=0, copay_options=No Charge, coinsurance_options=No Charge, copay_amount=0}]",
                      "limit_unit": "visit(s) per 6 months",
                      "has_limits": "true",
                      "explanation": "",
                      "covered": "true",
                      "exclusions": ""
                    },
                    {
                      "name": "Major Dental Care - Child",
                      "limit_quantity": "0",
                      "cost_sharings": "[{csr=Exchange variant (no CSR), network_tier=In-Network, display_string=50% Coinsurance after deductible, coinsurance_rate=0.5, copay_options=Not Applicable, coinsurance_options=Coinsurance after deductible, copay_amount=0}, {csr=Exchange variant (no CSR), network_tier=Out-of-Network, display_string=50% Coinsurance after deductible, coinsurance_rate=0.5, copay_options=Not Applicable, coinsurance_options=Coinsurance after deductible, copay_amount=0}]",
                      "limit_unit": "",
                      "has_limits": "false",
                      "explanation": "",
                      "covered": "true",
                      "exclusions": ""
                    },
                    {
                      "name": "Generic Drugs",
                      "limit_quantity": "0",
                      "cost_sharings": "[{csr=Exchange variant (no CSR), network_tier=In-Network, display_string=20% Coinsurance after deductible, coinsurance_rate=0.2, copay_options=Not Applicable, coinsurance_options=Coinsurance after deductible, copay_amount=0}, {csr=Exchange variant (no CSR), network_tier=Out-of-Network, display_string=20% Coinsurance after deductible, coinsurance_rate=0.2, copay_options=Not Applicable, coinsurance_options=Coinsurance after deductible, copay_amount=0}]",
                      "limit_unit": "",
                      "has_limits": "false",
                      "explanation": "",
                      "covered": "true",
                      "exclusions": ""
                    }
                  ],
                  "2": "http://www.bcbsla.com/findaplan/pages/sbc.aspx?Source=FFM&Id=19636LA0220014-01&Year=2019",
                  "3": "http://www.bcbsla.com/individual-solutions-brochure2019",
                  "4": "false",
                  "5": [
                    {
                      "network_tier": "In-Network",
                      "amount": "3400",
                      "csr": "Exchange variant (no CSR)",
                      "individual": "true",
                      "display_string": "",
                      "family_cost": "Individual",
                      "type": "Combined Medical and Drug EHB Deductible",
                      "family": "false"
                    }
                  ],
                  "6": [
                    "Asthma",
                    "Heart Disease",
                    "Diabetes",
                    "High Blood Pressure and High Cholesterol",
                    "Pregnancy"
                  ],
                  "7": "381.2",
                  "8": "http://www.bcbsla.com/pharmacy-2tier-formulary2019",
                  "9": "false",
                  "10": "false",
                  "11": "false",
                  "12": "19636LA0220014",
                  "13": "QHP",
                  "14": "false",
                  "15": {
                    "name": "HMO Louisiana",
                    "state": "LA",
                    "individual_url": "",
                    "toll_free": "1-800-495-2583",
                    "id": "19636",
                    "eligible_dependents": "[Spouse, Grandson or Granddaughter, Adopted Child, Foster Child, Ward, Stepson or Stepdaughter, Self, Child, Sponsored Dependent]",
                    "tty": "",
                    "shop_url": "http://www.bcbsla.com/footer/contact-us"
                  },
                  "16": "Individual",
                  "17": "25",
                  "18": "Silver",
                  "19": [
                    {
                      "network_tier": "In-Network",
                      "amount": "7100",
                      "csr": "Exchange variant (no CSR)",
                      "individual": "true",
                      "display_string": "",
                      "family_cost": "Individual",
                      "type": "Maximum Out of Pocket for Medical and Drug EHB Benefits (Total)",
                      "family": "false"
                    }
                  ],
                  "20": "Blue POS 80/60 $3400",
                  "21": "http://www.bcbsla.com/hmopos-medical-vision-dental",
                  "22": "-1",
                  "23": "0",
                  "24": "381.2",
                  "25": "381.2",
                  "26": "HealthCare",
                  "27": {
                    "enrollee_experience_rating": null,
                    "plan_efficiency_not_rated_reason": null,
                    "clinical_quality_management_not_rated_reason": null,
                    "year": null,
                    "clinical_quality_management_rating": null,
                    "global_not_rated_reason": null,
                    "enrollee_experience_not_rated_reason": null,
                    "available": false,
                    "plan_efficiency_rating": null,
                    "global_rating": null
                  },
                  "28": "false",
                  "29": "LAS007",
                  "30": "false",
                  "31": "false",
                  "32": "LA",
                  "33": "unknown",
                  "34": [
                    {
                      "network_tier": "In-Network",
                      "amount": "3400",
                      "csr": "Exchange variant (no CSR)",
                      "individual": "true",
                      "display_string": "",
                      "family_cost": "Individual",
                      "type": "Combined Medical and Drug EHB Deductible",
                      "family": "false"
                    },
                    {
                      "network_tier": "Combined In-Out of Network",
                      "amount": "10200",
                      "csr": "Exchange variant (no CSR)",
                      "individual": "true",
                      "display_string": "",
                      "family_cost": "Individual",
                      "type": "Combined Medical and Drug EHB Deductible",
                      "family": "false"
                    }
                  ],
                  "35": [
                    {
                      "network_tier": "In-Network",
                      "amount": "7100",
                      "csr": "Exchange variant (no CSR)",
                      "individual": "true",
                      "display_string": "",
                      "family_cost": "Individual",
                      "type": "Maximum Out of Pocket for Medical and Drug EHB Benefits (Total)",
                      "family": "false"
                    },
                    {
                      "network_tier": "Combined In-Out of Network",
                      "amount": "21300",
                      "csr": "Exchange variant (no CSR)",
                      "individual": "true",
                      "display_string": "",
                      "family_cost": "Individual",
                      "type": "Maximum Out of Pocket for Medical and Drug EHB Benefits (Total)",
                      "family": "false"
                    }
                  ],
                  "36": "6",
                  "37": "POS"
                },
                {
                  "0": "396.36",
                  "1": [
                    {
                      "name": "Primary Care Visit to Treat an Injury or Illness",
                      "limit_quantity": "0",
                      "cost_sharings": "[{csr=Exchange variant (no CSR), network_tier=In-Network, display_string=$20, coinsurance_rate=0, copay_options=, coinsurance_options=Not Applicable, copay_amount=20}, {csr=Exchange variant (no CSR), network_tier=Out-of-Network, display_string=40% Coinsurance after deductible, coinsurance_rate=0.4, copay_options=Not Applicable, coinsurance_options=Coinsurance after deductible, copay_amount=0}]",
                      "limit_unit": "",
                      "has_limits": "false",
                      "explanation": "",
                      "covered": "true",
                      "exclusions": ""
                    },
                    {
                      "name": "Dental Check-Up for Children",
                      "limit_quantity": "1",
                      "cost_sharings": "[{csr=Exchange variant (no CSR), network_tier=In-Network, display_string=No Charge, coinsurance_rate=0, copay_options=No Charge, coinsurance_options=No Charge, copay_amount=0}, {csr=Exchange variant (no CSR), network_tier=Out-of-Network, display_string=No Charge, coinsurance_rate=0, copay_options=No Charge, coinsurance_options=No Charge, copay_amount=0}]",
                      "limit_unit": "visit(s) per 6 months",
                      "has_limits": "true",
                      "explanation": "",
                      "covered": "true",
                      "exclusions": ""
                    },
                    {
                      "name": "Major Dental Care - Child",
                      "limit_quantity": "0",
                      "cost_sharings": "[{csr=Exchange variant (no CSR), network_tier=In-Network, display_string=50% Coinsurance after deductible, coinsurance_rate=0.5, copay_options=Not Applicable, coinsurance_options=Coinsurance after deductible, copay_amount=0}, {csr=Exchange variant (no CSR), network_tier=Out-of-Network, display_string=50% Coinsurance after deductible, coinsurance_rate=0.5, copay_options=Not Applicable, coinsurance_options=Coinsurance after deductible, copay_amount=0}]",
                      "limit_unit": "",
                      "has_limits": "false",
                      "explanation": "",
                      "covered": "true",
                      "exclusions": ""
                    },
                    {
                      "name": "Specialist Visit",
                      "limit_quantity": "0",
                      "cost_sharings": "[{csr=Exchange variant (no CSR), network_tier=In-Network, display_string=$60, coinsurance_rate=0, copay_options=, coinsurance_options=Not Applicable, copay_amount=60}, {csr=Exchange variant (no CSR), network_tier=Out-of-Network, display_string=40% Coinsurance after deductible, coinsurance_rate=0.4, copay_options=Not Applicable, coinsurance_options=Coinsurance after deductible, copay_amount=0}]",
                      "limit_unit": "",
                      "has_limits": "false",
                      "explanation": "",
                      "covered": "true",
                      "exclusions": ""
                    },
                    {
                      "name": "Emergency Room Services",
                      "limit_quantity": "0",
                      "cost_sharings": "[{csr=Exchange variant (no CSR), network_tier=In-Network, display_string=$350, coinsurance_rate=0, copay_options=, coinsurance_options=Not Applicable, copay_amount=350}, {csr=Exchange variant (no CSR), network_tier=Out-of-Network, display_string=$350, coinsurance_rate=0, copay_options=, coinsurance_options=Not Applicable, copay_amount=350}]",
                      "limit_unit": "",
                      "has_limits": "false",
                      "explanation": "",
                      "covered": "true",
                      "exclusions": ""
                    },
                    {
                      "name": "Basic Dental Care - Child",
                      "limit_quantity": "0",
                      "cost_sharings": "[{csr=Exchange variant (no CSR), network_tier=In-Network, display_string=50% Coinsurance after deductible, coinsurance_rate=0.5, copay_options=Not Applicable, coinsurance_options=Coinsurance after deductible, copay_amount=0}, {csr=Exchange variant (no CSR), network_tier=Out-of-Network, display_string=50% Coinsurance after deductible, coinsurance_rate=0.5, copay_options=Not Applicable, coinsurance_options=Coinsurance after deductible, copay_amount=0}]",
                      "limit_unit": "",
                      "has_limits": "false",
                      "explanation": "",
                      "covered": "true",
                      "exclusions": ""
                    },
                    {
                      "name": "Generic Drugs",
                      "limit_quantity": "0",
                      "cost_sharings": "[{csr=Exchange variant (no CSR), network_tier=In-Network, display_string=$7 Copay after deductible, coinsurance_rate=0, copay_options=Copay after deductible, coinsurance_options=Not Applicable, copay_amount=7}, {csr=Exchange variant (no CSR), network_tier=Out-of-Network, display_string=$7 Copay after deductible, coinsurance_rate=0, copay_options=Copay after deductible, coinsurance_options=Not Applicable, copay_amount=7}]",
                      "limit_unit": "",
                      "has_limits": "false",
                      "explanation": "",
                      "covered": "true",
                      "exclusions": ""
                    }
                  ],
                  "2": "http://www.bcbsla.com/findaplan/pages/sbc.aspx?Source=FFM&Id=19636LA0230002-01&Year=2019",
                  "3": "http://www.bcbsla.com/individual-communityblue-brochure2019",
                  "4": "false",
                  "5": [
                    {
                      "network_tier": "In-Network",
                      "amount": "1000",
                      "csr": "Exchange variant (no CSR)",
                      "individual": "true",
                      "display_string": "",
                      "family_cost": "Individual",
                      "type": "Medical EHB Deductible",
                      "family": "false"
                    },
                    {
                      "network_tier": "In-Network",
                      "amount": "500",
                      "csr": "Exchange variant (no CSR)",
                      "individual": "true",
                      "display_string": "",
                      "family_cost": "Individual",
                      "type": "Drug EHB Deductible",
                      "family": "false"
                    }
                  ],
                  "6": [
                    "Asthma",
                    "Heart Disease",
                    "Diabetes",
                    "High Blood Pressure and High Cholesterol",
                    "Pregnancy"
                  ],
                  "7": "396.36",
                  "8": "http://www.bcbsla.com/pharmacy-3tier-formulary2019",
                  "9": "false",
                  "10": "false",
                  "11": "false",
                  "12": "19636LA0230002",
                  "13": "QHP",
                  "14": "false",
                  "15": {
                    "name": "HMO Louisiana",
                    "state": "LA",
                    "individual_url": "",
                    "toll_free": "1-800-495-2583",
                    "id": "19636",
                    "eligible_dependents": "[Spouse, Grandson or Granddaughter, Adopted Child, Foster Child, Ward, Stepson or Stepdaughter, Self, Child, Sponsored Dependent]",
                    "tty": "",
                    "shop_url": "http://www.bcbsla.com/footer/contact-us"
                  },
                  "16": "Individual",
                  "17": "25",
                  "18": "Gold",
                  "19": [
                    {
                      "network_tier": "In-Network",
                      "amount": "7900",
                      "csr": "Exchange variant (no CSR)",
                      "individual": "true",
                      "display_string": "",
                      "family_cost": "Individual",
                      "type": "Maximum Out of Pocket for Medical and Drug EHB Benefits (Total)",
                      "family": "false"
                    }
                  ],
                  "20": "Community Blue Copay 80/60 $1000",
                  "21": "http://www.bcbsla.com/communityblue-medical-vision-dental",
                  "22": "-1",
                  "23": "0",
                  "24": "396.36",
                  "25": "396.36",
                  "26": "HealthCare",
                  "27": {
                    "enrollee_experience_rating": null,
                    "plan_efficiency_not_rated_reason": null,
                    "clinical_quality_management_not_rated_reason": null,
                    "year": null,
                    "clinical_quality_management_rating": null,
                    "global_not_rated_reason": null,
                    "enrollee_experience_not_rated_reason": null,
                    "available": false,
                    "plan_efficiency_rating": null,
                    "global_rating": null
                  },
                  "28": "false",
                  "29": "LAS006",
                  "30": "false",
                  "31": "false",
                  "32": "LA",
                  "33": "unknown",
                  "34": [
                    {
                      "network_tier": "In-Network",
                      "amount": "1000",
                      "csr": "Exchange variant (no CSR)",
                      "individual": "true",
                      "display_string": "",
                      "family_cost": "Individual",
                      "type": "Medical EHB Deductible",
                      "family": "false"
                    },
                    {
                      "network_tier": "Combined In-Out of Network",
                      "amount": "6000",
                      "csr": "Exchange variant (no CSR)",
                      "individual": "true",
                      "display_string": "",
                      "family_cost": "Individual",
                      "type": "Medical EHB Deductible",
                      "family": "false"
                    },
                    {
                      "network_tier": "In-Network",
                      "amount": "500",
                      "csr": "Exchange variant (no CSR)",
                      "individual": "true",
                      "display_string": "",
                      "family_cost": "Individual",
                      "type": "Drug EHB Deductible",
                      "family": "false"
                    },
                    {
                      "network_tier": "Combined In-Out of Network",
                      "amount": "500",
                      "csr": "Exchange variant (no CSR)",
                      "individual": "true",
                      "display_string": "",
                      "family_cost": "Individual",
                      "type": "Drug EHB Deductible",
                      "family": "false"
                    }
                  ],
                  "35": [
                    {
                      "network_tier": "In-Network",
                      "amount": "7900",
                      "csr": "Exchange variant (no CSR)",
                      "individual": "true",
                      "display_string": "",
                      "family_cost": "Individual",
                      "type": "Maximum Out of Pocket for Medical and Drug EHB Benefits (Total)",
                      "family": "false"
                    },
                    {
                      "network_tier": "Combined In-Out of Network",
                      "amount": "23700",
                      "csr": "Exchange variant (no CSR)",
                      "individual": "true",
                      "display_string": "",
                      "family_cost": "Individual",
                      "type": "Maximum Out of Pocket for Medical and Drug EHB Benefits (Total)",
                      "family": "false"
                    }
                  ],
                  "36": "6",
                  "37": "POS"
                },
                {
                  "0": "430.56",
                  "1": [
                    {
                      "name": "Primary Care Visit to Treat an Injury or Illness",
                      "limit_quantity": "0",
                      "cost_sharings": "[{csr=Exchange variant (no CSR), network_tier=In-Network, display_string=No Charge After Deductible, coinsurance_rate=0, copay_options=Not Applicable, coinsurance_options=Coinsurance after deductible, copay_amount=0}, {csr=Exchange variant (no CSR), network_tier=Out-of-Network, display_string=20% Coinsurance after deductible, coinsurance_rate=0.2, copay_options=Not Applicable, coinsurance_options=Coinsurance after deductible, copay_amount=0}]",
                      "limit_unit": "",
                      "has_limits": "false",
                      "explanation": "",
                      "covered": "true",
                      "exclusions": ""
                    },
                    {
                      "name": "Dental Check-Up for Children",
                      "limit_quantity": "1",
                      "cost_sharings": "[{csr=Exchange variant (no CSR), network_tier=In-Network, display_string=No Charge, coinsurance_rate=0, copay_options=No Charge, coinsurance_options=No Charge, copay_amount=0}, {csr=Exchange variant (no CSR), network_tier=Out-of-Network, display_string=No Charge, coinsurance_rate=0, copay_options=No Charge, coinsurance_options=No Charge, copay_amount=0}]",
                      "limit_unit": "visit(s) per 6 months",
                      "has_limits": "true",
                      "explanation": "",
                      "covered": "true",
                      "exclusions": ""
                    },
                    {
                      "name": "Major Dental Care - Child",
                      "limit_quantity": "0",
                      "cost_sharings": "[{csr=Exchange variant (no CSR), network_tier=In-Network, display_string=50% Coinsurance after deductible, coinsurance_rate=0.5, copay_options=Not Applicable, coinsurance_options=Coinsurance after deductible, copay_amount=0}, {csr=Exchange variant (no CSR), network_tier=Out-of-Network, display_string=50% Coinsurance after deductible, coinsurance_rate=0.5, copay_options=Not Applicable, coinsurance_options=Coinsurance after deductible, copay_amount=0}]",
                      "limit_unit": "",
                      "has_limits": "false",
                      "explanation": "",
                      "covered": "true",
                      "exclusions": ""
                    },
                    {
                      "name": "Specialist Visit",
                      "limit_quantity": "0",
                      "cost_sharings": "[{csr=Exchange variant (no CSR), network_tier=In-Network, display_string=No Charge After Deductible, coinsurance_rate=0, copay_options=Not Applicable, coinsurance_options=Coinsurance after deductible, copay_amount=0}, {csr=Exchange variant (no CSR), network_tier=Out-of-Network, display_string=20% Coinsurance after deductible, coinsurance_rate=0.2, copay_options=Not Applicable, coinsurance_options=Coinsurance after deductible, copay_amount=0}]",
                      "limit_unit": "",
                      "has_limits": "false",
                      "explanation": "",
                      "covered": "true",
                      "exclusions": ""
                    },
                    {
                      "name": "Emergency Room Services",
                      "limit_quantity": "0",
                      "cost_sharings": "[{csr=Exchange variant (no CSR), network_tier=In-Network, display_string=No Charge After Deductible, coinsurance_rate=0, copay_options=Not Applicable, coinsurance_options=Coinsurance after deductible, copay_amount=0}, {csr=Exchange variant (no CSR), network_tier=Out-of-Network, display_string=No Charge After Deductible, coinsurance_rate=0, copay_options=Not Applicable, coinsurance_options=Coinsurance after deductible, copay_amount=0}]",
                      "limit_unit": "",
                      "has_limits": "false",
                      "explanation": "",
                      "covered": "true",
                      "exclusions": ""
                    },
                    {
                      "name": "Basic Dental Care - Child",
                      "limit_quantity": "0",
                      "cost_sharings": "[{csr=Exchange variant (no CSR), network_tier=In-Network, display_string=50% Coinsurance after deductible, coinsurance_rate=0.5, copay_options=Not Applicable, coinsurance_options=Coinsurance after deductible, copay_amount=0}, {csr=Exchange variant (no CSR), network_tier=Out-of-Network, display_string=50% Coinsurance after deductible, coinsurance_rate=0.5, copay_options=Not Applicable, coinsurance_options=Coinsurance after deductible, copay_amount=0}]",
                      "limit_unit": "",
                      "has_limits": "false",
                      "explanation": "",
                      "covered": "true",
                      "exclusions": ""
                    },
                    {
                      "name": "Generic Drugs",
                      "limit_quantity": "0",
                      "cost_sharings": "[{csr=Exchange variant (no CSR), network_tier=In-Network, display_string=No Charge After Deductible, coinsurance_rate=0, copay_options=Not Applicable, coinsurance_options=Coinsurance after deductible, copay_amount=0}, {csr=Exchange variant (no CSR), network_tier=Out-of-Network, display_string=No Charge After Deductible, coinsurance_rate=0, copay_options=Not Applicable, coinsurance_options=Coinsurance after deductible, copay_amount=0}]",
                      "limit_unit": "",
                      "has_limits": "false",
                      "explanation": "",
                      "covered": "true",
                      "exclusions": ""
                    }
                  ],
                  "2": "http://www.bcbsla.com/findaplan/pages/sbc.aspx?Source=FFM&Id=19636LA0220010-01&Year=2019",
                  "3": "http://www.bcbsla.com/individual-solutions-brochure2019",
                  "4": "false",
                  "5": [
                    {
                      "network_tier": "In-Network",
                      "amount": "3500",
                      "csr": "Exchange variant (no CSR)",
                      "individual": "true",
                      "display_string": "",
                      "family_cost": "Individual",
                      "type": "Combined Medical and Drug EHB Deductible",
                      "family": "false"
                    }
                  ],
                  "6": [
                    "Asthma",
                    "Heart Disease",
                    "Diabetes",
                    "High Blood Pressure and High Cholesterol",
                    "Pregnancy"
                  ],
                  "7": "430.56",
                  "8": "http://www.bcbsla.com/pharmacy-2tier-formulary2019",
                  "9": "false",
                  "10": "false",
                  "11": "false",
                  "12": "19636LA0220010",
                  "13": "QHP",
                  "14": "false",
                  "15": {
                    "name": "HMO Louisiana",
                    "state": "LA",
                    "individual_url": "",
                    "toll_free": "1-800-495-2583",
                    "id": "19636",
                    "eligible_dependents": "[Spouse, Grandson or Granddaughter, Adopted Child, Foster Child, Ward, Stepson or Stepdaughter, Self, Child, Sponsored Dependent]",
                    "tty": "",
                    "shop_url": "http://www.bcbsla.com/footer/contact-us"
                  },
                  "16": "Individual",
                  "17": "25",
                  "18": "Silver",
                  "19": [
                    {
                      "network_tier": "In-Network",
                      "amount": "7900",
                      "csr": "Exchange variant (no CSR)",
                      "individual": "true",
                      "display_string": "",
                      "family_cost": "Individual",
                      "type": "Maximum Out of Pocket for Medical and Drug EHB Benefits (Total)",
                      "family": "false"
                    }
                  ],
                  "20": "Blue POS 100/80 $3500",
                  "21": "http://www.bcbsla.com/hmopos-medical-vision-dental",
                  "22": "-1",
                  "23": "0",
                  "24": "430.56",
                  "25": "430.56",
                  "26": "HealthCare",
                  "27": {
                    "enrollee_experience_rating": null,
                    "plan_efficiency_not_rated_reason": null,
                    "clinical_quality_management_not_rated_reason": null,
                    "year": null,
                    "clinical_quality_management_rating": null,
                    "global_not_rated_reason": null,
                    "enrollee_experience_not_rated_reason": null,
                    "available": false,
                    "plan_efficiency_rating": null,
                    "global_rating": null
                  },
                  "28": "false",
                  "29": "LAS007",
                  "30": "false",
                  "31": "false",
                  "32": "LA",
                  "33": "unknown",
                  "34": [
                    {
                      "network_tier": "In-Network",
                      "amount": "3500",
                      "csr": "Exchange variant (no CSR)",
                      "individual": "true",
                      "display_string": "",
                      "family_cost": "Individual",
                      "type": "Combined Medical and Drug EHB Deductible",
                      "family": "false"
                    },
                    {
                      "network_tier": "Combined In-Out of Network",
                      "amount": "10500",
                      "csr": "Exchange variant (no CSR)",
                      "individual": "true",
                      "display_string": "",
                      "family_cost": "Individual",
                      "type": "Combined Medical and Drug EHB Deductible",
                      "family": "false"
                    }
                  ],
                  "35": [
                    {
                      "network_tier": "In-Network",
                      "amount": "7900",
                      "csr": "Exchange variant (no CSR)",
                      "individual": "true",
                      "display_string": "",
                      "family_cost": "Individual",
                      "type": "Maximum Out of Pocket for Medical and Drug EHB Benefits (Total)",
                      "family": "false"
                    },
                    {
                      "network_tier": "Combined In-Out of Network",
                      "amount": "23700",
                      "csr": "Exchange variant (no CSR)",
                      "individual": "true",
                      "display_string": "",
                      "family_cost": "Individual",
                      "type": "Maximum Out of Pocket for Medical and Drug EHB Benefits (Total)",
                      "family": "false"
                    }
                  ],
                  "36": "6",
                  "37": "POS"
                }
              ],
              "schema": [
                {
                  "key": "0",
                  "name": "aptc_eligible_premium",
                  "type": "double"
                },
                {
                  "key": "1",
                  "name": "benefits",
                  "type": "ArrayType(MapType(StringType,StringType,true),true)"
                },
                {
                  "key": "2",
                  "name": "benefits_url",
                  "type": "string"
                },
                {
                  "key": "3",
                  "name": "brochure_url",
                  "type": "string"
                },
                {
                  "key": "4",
                  "name": "covers_nonhyde_abortion",
                  "type": "boolean"
                },
                {
                  "key": "5",
                  "name": "deductibles",
                  "type": "ArrayType(MapType(StringType,StringType,true),true)"
                },
                {
                  "key": "6",
                  "name": "disease_mgmt_programs",
                  "type": "ArrayType(StringType,true)"
                },
                {
                  "key": "7",
                  "name": "ehb_premium",
                  "type": "double"
                },
                {
                  "key": "8",
                  "name": "formulary_url",
                  "type": "string"
                },
                {
                  "key": "9",
                  "name": "guaranteed_rate",
                  "type": "boolean"
                },
                {
                  "key": "10",
                  "name": "has_national_network",
                  "type": "boolean"
                },
                {
                  "key": "11",
                  "name": "hsa_eligible",
                  "type": "boolean"
                },
                {
                  "key": "12",
                  "name": "id",
                  "type": "string"
                },
                {
                  "key": "13",
                  "name": "insurance_market",
                  "type": "string"
                },
                {
                  "key": "14",
                  "name": "is_ineligible",
                  "type": "boolean"
                },
                {
                  "key": "15",
                  "name": "issuer",
                  "type": "MapType(StringType,StringType,true)"
                },
                {
                  "key": "16",
                  "name": "market",
                  "type": "string"
                },
                {
                  "key": "17",
                  "name": "max_age_child",
                  "type": "bigint"
                },
                {
                  "key": "18",
                  "name": "metal_level",
                  "type": "string"
                },
                {
                  "key": "19",
                  "name": "moops",
                  "type": "ArrayType(MapType(StringType,StringType,true),true)"
                },
                {
                  "key": "20",
                  "name": "name",
                  "type": "string"
                },
                {
                  "key": "21",
                  "name": "network_url",
                  "type": "string"
                },
                {
                  "key": "22",
                  "name": "oopc",
                  "type": "bigint"
                },
                {
                  "key": "23",
                  "name": "pediatric_ehb_premium",
                  "type": "bigint"
                },
                {
                  "key": "24",
                  "name": "premium",
                  "type": "double"
                },
                {
                  "key": "25",
                  "name": "premium_w_credit",
                  "type": "double"
                },
                {
                  "key": "26",
                  "name": "product_division",
                  "type": "string"
                },
                {
                  "key": "27",
                  "name": "quality_rating",
                  "type": "MapType(StringType,BooleanType,true)"
                },
                {
                  "key": "28",
                  "name": "rx_3mo_mail_order",
                  "type": "boolean"
                },
                {
                  "key": "29",
                  "name": "service_area_id",
                  "type": "string"
                },
                {
                  "key": "30",
                  "name": "simple_choice",
                  "type": "boolean"
                },
                {
                  "key": "31",
                  "name": "specialist_referral_required",
                  "type": "boolean"
                },
                {
                  "key": "32",
                  "name": "state",
                  "type": "string"
                },
                {
                  "key": "33",
                  "name": "suppression_state",
                  "type": "string"
                },
                {
                  "key": "34",
                  "name": "tiered_deductibles",
                  "type": "ArrayType(MapType(StringType,StringType,true),true)"
                },
                {
                  "key": "35",
                  "name": "tiered_moops",
                  "type": "ArrayType(MapType(StringType,StringType,true),true)"
                },
                {
                  "key": "36",
                  "name": "tobacco_lookback",
                  "type": "bigint"
                },
                {
                  "key": "37",
                  "name": "type",
                  "type": "string"
                }
              ],
              "truncated": false
            },
            "isSummary": false,
            "language": "scala"
          },
          "persist_state": {
            "view": {
              "type": "details",
              "tableOptions": {},
              "chartOptions": {
                "chartType": "bar",
                "aggregationType": "sum",
                "categoryFieldKeys": [
                  "2"
                ],
                "seriesFieldKeys": [
                  "0"
                ],
                "isStacked": false
              }
            }
          }
        }
      }
    }
  },
  "cells": [
    {
      "cell_type": "markdown",
      "metadata": {
        "nteract": {
          "transient": {
            "deleting": false
          }
        }
      },
      "source": [
        "# Read API data in PySpark\r\n",
        "I am using a function in order to be able to focus on one part of the data.\r\n",
        "\r\n",
        "This approach comes from a couple interesting article about parallizing the function, to use the facilities of Spark more effectively.\r\n",
        "- [How to Execute a REST API call on Apache Spark the Right Way | by James S Hocking | Geek Culture | Aug, 2021 | Medium | Geek Culture](https://medium.com/geekculture/how-to-execute-a-rest-api-call-on-apache-spark-the-right-way-in-python-4367f2740e78)\r\n",
        "- [REST API to Spark Dataframe (datanoon.com)](https://datanoon.com/blog/loading_data_rest_api_to_spark/)\r\n",
        ""
      ]
    },
    {
      "cell_type": "markdown",
      "metadata": {
        "nteract": {
          "transient": {
            "deleting": false
          }
        }
      },
      "source": [
        "## Need to import libraries\r\n",
        "First you will need to make sure that all of the relevant Python libraries are load.  I have included a couple that I am not going to use.  I used the two sources above for my reference and removed the imports that I know I won't be using and left the ones that I might need."
      ]
    },
    {
      "cell_type": "code",
      "execution_count": 1,
      "outputs": [
        {
          "output_type": "display_data",
          "data": {
            "application/vnd.livy.statement-meta+json": {
              "spark_pool": "Main",
              "session_id": "18",
              "statement_id": 1,
              "state": "finished",
              "livy_statement_state": "available",
              "queued_time": "2023-03-18T18:18:09.0397085Z",
              "session_start_time": "2023-03-18T18:18:09.1608969Z",
              "execution_start_time": "2023-03-18T18:20:48.1454359Z",
              "execution_finish_time": "2023-03-18T18:20:49.3623567Z",
              "spark_jobs": null,
              "parent_msg_id": "c7227f51-533b-488b-9288-b7c7f1c30f70"
            },
            "text/plain": "StatementMeta(Main, 18, 1, Finished, Available)"
          },
          "metadata": {}
        }
      ],
      "metadata": {
        "jupyter": {
          "source_hidden": false,
          "outputs_hidden": false
        },
        "nteract": {
          "transient": {
            "deleting": false
          }
        }
      },
      "source": [
        "import requests\r\n",
        "import json\r\n",
        "from pyspark.sql.functions import udf, col, explode\r\n",
        "from pyspark.sql.types import StructType, StructField, IntegerType, StringType, ArrayType\r\n",
        "from pyspark.sql import Row"
      ]
    },
    {
      "cell_type": "code",
      "execution_count": 2,
      "outputs": [
        {
          "output_type": "display_data",
          "data": {
            "application/vnd.livy.statement-meta+json": {
              "spark_pool": "Main",
              "session_id": "18",
              "statement_id": 2,
              "state": "finished",
              "livy_statement_state": "available",
              "queued_time": "2023-03-18T18:21:16.8545448Z",
              "session_start_time": null,
              "execution_start_time": "2023-03-18T18:21:17.0193839Z",
              "execution_finish_time": "2023-03-18T18:21:17.1841878Z",
              "spark_jobs": null,
              "parent_msg_id": "034f5658-7c1f-4347-bfba-556a5f888039"
            },
            "text/plain": "StatementMeta(Main, 18, 2, Finished, Available)"
          },
          "metadata": {}
        }
      ],
      "metadata": {
        "jupyter": {
          "source_hidden": false,
          "outputs_hidden": false
        },
        "nteract": {
          "transient": {
            "deleting": false
          }
        }
      },
      "source": [
        "from notebookutils import mssparkutils"
      ]
    },
    {
      "cell_type": "markdown",
      "metadata": {
        "nteract": {
          "transient": {
            "deleting": false
          }
        }
      },
      "source": [
        "## Create a function to read the data\r\n",
        "- verb is the kind of call that is made:  GET, POST\r\n",
        "- url is the web address that you pass in\r\n",
        "- headers are the name value pairs that you pass in\r\n",
        "- body is the body that you pass in with a post.\r\n",
        "\r\n",
        ""
      ]
    },
    {
      "cell_type": "code",
      "execution_count": 3,
      "outputs": [
        {
          "output_type": "display_data",
          "data": {
            "application/vnd.livy.statement-meta+json": {
              "spark_pool": "Main",
              "session_id": "18",
              "statement_id": 3,
              "state": "finished",
              "livy_statement_state": "available",
              "queued_time": "2023-03-18T18:23:16.2565656Z",
              "session_start_time": null,
              "execution_start_time": "2023-03-18T18:23:16.4072025Z",
              "execution_finish_time": "2023-03-18T18:23:16.6085517Z",
              "spark_jobs": null,
              "parent_msg_id": "1f504b8b-2fd3-4980-9fd6-2cc125442767"
            },
            "text/plain": "StatementMeta(Main, 18, 3, Finished, Available)"
          },
          "metadata": {}
        }
      ],
      "metadata": {
        "jupyter": {
          "source_hidden": false,
          "outputs_hidden": false
        },
        "nteract": {
          "transient": {
            "deleting": false
          }
        }
      },
      "source": [
        "def executeRestApi(verb, url, headers, body):\r\n",
        "  # Initialize the results.  This will return a \r\n",
        "  res = None\r\n",
        "  # Make API request, get response object back, create dataframe from above schema.\r\n",
        "  try:\r\n",
        "    if verb == \"get\":\r\n",
        "      res = requests.get(url, data=body, headers=headers)\r\n",
        "    else:\r\n",
        "      res = requests.post(url, data=body, headers=headers)\r\n",
        "  except Exception as e:\r\n",
        "    return e\r\n",
        "  if res != None and res.status_code == 200:\r\n",
        "    return json.loads(res.text)\r\n",
        "  return None"
      ]
    },
    {
      "cell_type": "markdown",
      "metadata": {
        "nteract": {
          "transient": {
            "deleting": false
          }
        }
      },
      "source": [
        "## PUMS Data API\r\n",
        "This notebook explores the PUMS datasource ([American Community Survey Microdata (census.gov)](https://www.census.gov/programs-surveys/acs/microdata.html).  This describes the APIs for microdata https://www.census.gov/data/developers/data-sets/census-microdata-api.html."
      ]
    },
    {
      "cell_type": "markdown",
      "metadata": {
        "nteract": {
          "transient": {
            "deleting": false
          }
        }
      },
      "source": [
        "### Call the code\r\n",
        "The queryURL is simply the URL that we will be passing in.  The parts of the URL are as follows:\r\n",
        "- https://api.census.gov: This is the root of the census APIs.  I assume that I could experiment with changing the path\r\n",
        "/data/2021/acs/acs1/pums:  This is the path.  It is easy to guess what this is about from the name\r\n",
        "    - 2021 is the year\r\n",
        "    - acs/acs1/pums:  this is the set (the acs1 refers to the one year data as opposed to acs5 which is 5 year data)\r\n",
        "- ?get=SEX,PWGTP,MAR':  these are the arguments.  \"get\" is listing the columns you want"
      ]
    },
    {
      "cell_type": "code",
      "execution_count": 4,
      "outputs": [
        {
          "output_type": "display_data",
          "data": {
            "application/vnd.livy.statement-meta+json": {
              "spark_pool": "Main",
              "session_id": "18",
              "statement_id": 4,
              "state": "finished",
              "livy_statement_state": "available",
              "queued_time": "2023-03-18T18:29:38.6053843Z",
              "session_start_time": null,
              "execution_start_time": "2023-03-18T18:29:38.7683743Z",
              "execution_finish_time": "2023-03-18T18:29:47.6612898Z",
              "spark_jobs": null,
              "parent_msg_id": "66254cf4-589d-44bd-889f-84620dd5562e"
            },
            "text/plain": "StatementMeta(Main, 18, 4, Finished, Available)"
          },
          "metadata": {}
        }
      ],
      "metadata": {
        "jupyter": {
          "source_hidden": false,
          "outputs_hidden": false
        },
        "nteract": {
          "transient": {
            "deleting": false
          }
        }
      },
      "source": [
        "PUMSKey = mssparkutils.credentials.getSecret(\"loski-202303\",\"MicrodataKey\")\r\n",
        "queryURL = 'https://api.census.gov/data/2021/acs/acs1/pums?get=WGTP,FHICOVP&HHLDRHISP=02:99&key=' + PUMSKey\r\n",
        "headers = {\r\n",
        "    'content-type': \"application/json\"\r\n",
        "}\r\n",
        "body = json.dumps({\r\n",
        "})\r\n",
        "\r\n",
        "results = executeRestApi(\"get\", queryURL, headers, body)"
      ]
    },
    {
      "cell_type": "markdown",
      "metadata": {
        "nteract": {
          "transient": {
            "deleting": false
          }
        }
      },
      "source": [
        "### View the results\r\n",
        "The function above will convert the text to a json document.  There are some approaches that you can use to simplify the output so that it is easier to work with.  They are referenced in the articles above.  For this session, I will be using brute force to determine what is in the results and will then craft code to load the data into a dataframe.\r\n",
        "\r\n",
        "The results are an array of arrays of strings.  The square brackets \\[\\] bound each array. There are arrays of strings, which are themselves items in an array."
      ]
    },
    {
      "cell_type": "code",
      "execution_count": 5,
      "outputs": [
        {
          "output_type": "display_data",
          "data": {
            "application/vnd.livy.statement-meta+json": {
              "spark_pool": "Main",
              "session_id": "18",
              "statement_id": 5,
              "state": "finished",
              "livy_statement_state": "available",
              "queued_time": "2023-03-18T18:30:14.731902Z",
              "session_start_time": null,
              "execution_start_time": "2023-03-18T18:30:14.9071316Z",
              "execution_finish_time": "2023-03-18T18:30:15.0893481Z",
              "spark_jobs": null,
              "parent_msg_id": "748bcd61-2278-421e-80f7-67fc2d7e76c5"
            },
            "text/plain": "StatementMeta(Main, 18, 5, Finished, Available)"
          },
          "metadata": {}
        },
        {
          "output_type": "execute_result",
          "data": {
            "text/plain": "[['WGTP', 'FHICOVP', 'HHLDRHISP'],\n ['283', '0', '3'],\n ['31', '0', '2'],\n ['31', '0', '2'],\n ['31', '0', '2'],\n ['82', '0', '2'],\n ['82', '0', '2'],\n ['170', '0', '2'],\n ['170', '1', '2'],\n ['170', '1', '2'],\n ['170', '1', '2'],\n ['170', '1', '2'],\n ['137', '0', '2'],\n ['137', '0', '2'],\n ['137', '0', '2'],\n ['137', '0', '2'],\n ['137', '0', '2'],\n ['484', '0', '3'],\n ['115', '0', '11'],\n ['115', '0', '11'],\n ['108', '0', '2'],\n ['108', '0', '2'],\n ['108', '0', '2'],\n ['108', '0', '2'],\n ['108', '0', '2'],\n ['35', '0', '3'],\n ['35', '1', '3'],\n ['35', '0', '3'],\n ['35', '0', '3'],\n ['35', '0', '3'],\n ['114', '0', '9'],\n ['114', '0', '9'],\n ['49', '0', '2'],\n ['49', '1', '2'],\n ['265', '0', '21'],\n ['265', '0', '21'],\n ['265', '0', '21'],\n ['73', '0', '2'],\n ['73', '1', '2'],\n ['81', '0', '2'],\n ['136', '0', '2'],\n ['136', '0', '2'],\n ['100', '0', '2'],\n ['100', '0', '2'],\n ['100', '0', '2'],\n ['100', '0', '2'],\n ['183', '0', '11'],\n ['183', '0', '11'],\n ['56', '1', '2'],\n ['56', '1', '2'],\n ['56', '0', '2'],\n ['56', '0', '2'],\n ['56', '0', '2'],\n ['56', '0', '2'],\n ['56', '0', '2'],\n ['239', '0', '5'],\n ['239', '0', '5'],\n ['239', '0', '5'],\n ['148', '0', '2'],\n ['148', '0', '2'],\n ['59', '0', '2'],\n ['59', '0', '2'],\n ['59', '0', '2'],\n ['59', '0', '2'],\n ['164', '0', '2'],\n ['89', '0', '3'],\n ['89', '0', '3'],\n ['89', '0', '3'],\n ['89', '0', '3'],\n ['29', '0', '7'],\n ['29', '1', '7'],\n ['29', '1', '7'],\n ['29', '1', '7'],\n ['29', '1', '7'],\n ['63', '0', '4'],\n ['63', '0', '4'],\n ['63', '0', '4'],\n ['334', '0', '2'],\n ['334', '0', '2'],\n ['334', '0', '2'],\n ['334', '0', '2'],\n ['334', '0', '2'],\n ['298', '0', '2'],\n ['298', '0', '2'],\n ['239', '0', '2'],\n ['239', '0', '2'],\n ['239', '0', '2'],\n ['239', '0', '2'],\n ['19', '0', '2'],\n ['19', '0', '2'],\n ['19', '0', '2'],\n ['19', '0', '2'],\n ['19', '0', '2'],\n ['41', '0', '2'],\n ['82', '0', '2'],\n ['69', '0', '19'],\n ['100', '0', '2'],\n ['100', '0', '2'],\n ['100', '0', '2'],\n ['74', '1', '24'],\n ['74', '1', '24'],\n ['82', '0', '2'],\n ['82', '0', '2'],\n ['82', '0', '2'],\n ['195', '0', '2'],\n ['195', '0', '2'],\n ['195', '0', '2'],\n ['217', '0', '5'],\n ['217', '1', '5'],\n ['217', '1', '5'],\n ['217', '1', '5'],\n ['217', '1', '5'],\n ['217', '1', '5'],\n ['217', '1', '5'],\n ['69', '0', '2'],\n ['69', '0', '2'],\n ['69', '0', '2'],\n ['102', '0', '11'],\n ['102', '0', '11'],\n ['102', '0', '11'],\n ['102', '0', '11'],\n ['286', '0', '2'],\n ['286', '0', '2'],\n ['286', '0', '2'],\n ['286', '0', '2'],\n ['100', '0', '13'],\n ['100', '0', '13'],\n ['100', '0', '13'],\n ['100', '0', '13'],\n ['34', '0', '4'],\n ['34', '1', '4'],\n ['128', '0', '23'],\n ['128', '0', '23'],\n ['128', '0', '23'],\n ['88', '0', '4'],\n ['88', '0', '4'],\n ['88', '0', '4'],\n ['118', '0', '5'],\n ['118', '0', '5'],\n ['118', '0', '5'],\n ['158', '0', '2'],\n ['158', '0', '2'],\n ['158', '0', '2'],\n ['453', '0', '3'],\n ['453', '0', '3'],\n ['453', '0', '3'],\n ['453', '0', '3'],\n ['453', '0', '3'],\n ['87', '0', '2'],\n ['87', '0', '2'],\n ['87', '0', '2'],\n ['87', '0', '2'],\n ['87', '0', '2'],\n ['113', '1', '21'],\n ['113', '0', '21'],\n ['113', '0', '21'],\n ['105', '0', '2'],\n ['105', '0', '2'],\n ['105', '0', '2'],\n ['105', '0', '2'],\n ['51', '0', '16'],\n ['47', '1', '2'],\n ['47', '0', '2'],\n ['52', '0', '24'],\n ['177', '0', '2'],\n ['177', '0', '2'],\n ['177', '0', '2'],\n ['177', '0', '2'],\n ['139', '0', '2'],\n ['139', '0', '2'],\n ['187', '0', '2'],\n ['187', '0', '2'],\n ['187', '0', '2'],\n ['187', '0', '2'],\n ['187', '0', '2'],\n ['187', '0', '2'],\n ['135', '1', '5'],\n ['135', '0', '5'],\n ['67', '0', '2'],\n ['67', '0', '2'],\n ['67', '0', '2'],\n ['67', '0', '2'],\n ['57', '0', '4'],\n ['57', '0', '4'],\n ['124', '0', '2'],\n ['124', '0', '2'],\n ['124', '0', '2'],\n ['124', '0', '2'],\n ['124', '0', '2'],\n ['201', '1', '24'],\n ['201', '1', '24'],\n ['201', '1', '24'],\n ['201', '1', '24'],\n ['61', '0', '5'],\n ['61', '1', '5'],\n ['108', '0', '2'],\n ['108', '0', '2'],\n ['108', '0', '2'],\n ['108', '0', '2'],\n ['31', '0', '2'],\n ['160', '0', '2'],\n ['160', '0', '2'],\n ['160', '0', '2'],\n ['288', '0', '8'],\n ['288', '0', '8'],\n ['288', '0', '8'],\n ['288', '0', '8'],\n ['314', '0', '2'],\n ['314', '0', '2'],\n ['67', '0', '2'],\n ['67', '0', '2'],\n ['67', '1', '2'],\n ['67', '0', '2'],\n ['56', '1', '2'],\n ['56', '1', '2'],\n ['56', '1', '2'],\n ['56', '1', '2'],\n ['154', '0', '3'],\n ['154', '0', '3'],\n ['154', '0', '3'],\n ['154', '0', '3'],\n ['186', '1', '3'],\n ['186', '1', '3'],\n ['186', '1', '3'],\n ['135', '0', '2'],\n ['135', '0', '2'],\n ['135', '0', '2'],\n ['135', '0', '2'],\n ['89', '0', '6'],\n ['89', '0', '6'],\n ['89', '0', '6'],\n ['110', '0', '3'],\n ['110', '0', '3'],\n ['154', '0', '2'],\n ['154', '0', '2'],\n ['165', '0', '24'],\n ['41', '0', '4'],\n ['41', '0', '4'],\n ['41', '0', '4'],\n ['41', '1', '4'],\n ['43', '1', '2'],\n ['43', '0', '2'],\n ['156', '0', '16'],\n ['156', '0', '16'],\n ['156', '0', '16'],\n ['156', '0', '16'],\n ['37', '1', '24'],\n ['37', '1', '24'],\n ['279', '0', '2'],\n ['279', '0', '2'],\n ['279', '0', '2'],\n ['279', '0', '2'],\n ['279', '1', '2'],\n ['93', '0', '2'],\n ['93', '0', '2'],\n ['58', '0', '19'],\n ['58', '1', '19'],\n ['58', '1', '19'],\n ['117', '0', '2'],\n ['117', '0', '2'],\n ['31', '0', '2'],\n ['31', '0', '2'],\n ['31', '0', '2'],\n ['31', '0', '2'],\n ['31', '0', '2'],\n ['18', '0', '2'],\n ['18', '0', '2'],\n ['18', '0', '2'],\n ['18', '0', '2'],\n ['18', '0', '2'],\n ['172', '0', '3'],\n ['172', '1', '3'],\n ['172', '0', '3'],\n ['172', '0', '3'],\n ['58', '0', '2'],\n ['58', '1', '2'],\n ['58', '0', '2'],\n ['58', '0', '2'],\n ['58', '0', '2'],\n ['51', '0', '5'],\n ['51', '0', '5'],\n ['51', '0', '5'],\n ['51', '0', '5'],\n ['195', '0', '14'],\n ['195', '0', '14'],\n ['195', '0', '14'],\n ['195', '0', '14'],\n ['248', '0', '3'],\n ['248', '0', '3'],\n ['248', '0', '3'],\n ['248', '0', '3'],\n ['34', '1', '21'],\n ['34', '0', '21'],\n ['34', '0', '21'],\n ['49', '0', '3'],\n ['49', '0', '3'],\n ['49', '0', '3'],\n ['150', '0', '23'],\n ['150', '0', '23'],\n ['150', '0', '23'],\n ['432', '1', '11'],\n ['432', '1', '11'],\n ['432', '1', '11'],\n ['432', '1', '11'],\n ['432', '1', '11'],\n ['432', '1', '11'],\n ['91', '0', '4'],\n ['91', '0', '4'],\n ['89', '0', '11'],\n ['89', '0', '11'],\n ['89', '0', '11'],\n ['125', '0', '2'],\n ['125', '0', '2'],\n ['98', '1', '2'],\n ['98', '0', '2'],\n ['98', '1', '2'],\n ['80', '0', '2'],\n ['53', '0', '22'],\n ['115', '0', '2'],\n ['115', '0', '2'],\n ['56', '0', '2'],\n ['56', '0', '2'],\n ['56', '0', '2'],\n ['56', '0', '2'],\n ['56', '0', '2'],\n ['56', '1', '2'],\n ['56', '1', '2'],\n ['56', '1', '2'],\n ['139', '0', '2'],\n ['57', '0', '2'],\n ['57', '0', '2'],\n ['57', '0', '2'],\n ['57', '0', '2'],\n ['57', '0', '2'],\n ['27', '0', '2'],\n ['27', '0', '2'],\n ['27', '0', '2'],\n ['27', '0', '2'],\n ['136', '0', '2'],\n ['136', '0', '2'],\n ['136', '0', '2'],\n ['197', '1', '2'],\n ['197', '1', '2'],\n ['87', '0', '2'],\n ['87', '1', '2'],\n ['87', '1', '2'],\n ['87', '1', '2'],\n ['87', '1', '2'],\n ['94', '0', '18'],\n ['94', '0', '18'],\n ['110', '0', '21'],\n ['93', '0', '2'],\n ['93', '0', '2'],\n ['93', '0', '2'],\n ['93', '0', '2'],\n ['93', '0', '2'],\n ['50', '0', '24'],\n ['50', '1', '24'],\n ['50', '1', '24'],\n ['62', '0', '2'],\n ['273', '0', '2'],\n ['273', '0', '2'],\n ['273', '0', '2'],\n ['273', '0', '2'],\n ['153', '0', '2'],\n ['153', '0', '2'],\n ['153', '0', '2'],\n ['153', '1', '2'],\n ['153', '1', '2'],\n ['156', '1', '16'],\n ['156', '0', '16'],\n ['121', '0', '10'],\n ['121', '0', '10'],\n ['121', '0', '10'],\n ['51', '0', '2'],\n ['51', '0', '2'],\n ['93', '0', '2'],\n ['93', '0', '2'],\n ['166', '0', '2'],\n ['166', '0', '2'],\n ['166', '0', '2'],\n ['166', '0', '2'],\n ['166', '0', '2'],\n ['28', '0', '2'],\n ['28', '0', '2'],\n ['28', '0', '2'],\n ['82', '0', '2'],\n ['50', '0', '2'],\n ['50', '0', '2'],\n ['50', '0', '2'],\n ['61', '0', '11'],\n ['278', '0', '2'],\n ['278', '0', '2'],\n ['278', '0', '2'],\n ['67', '0', '24'],\n ['67', '0', '24'],\n ['67', '1', '24'],\n ['67', '1', '24'],\n ['40', '0', '9'],\n ['40', '0', '9'],\n ['40', '0', '9'],\n ['40', '0', '9'],\n ['276', '0', '11'],\n ['276', '0', '11'],\n ['276', '1', '11'],\n ['276', '0', '11'],\n ['132', '0', '3'],\n ['132', '0', '3'],\n ['94', '0', '2'],\n ['94', '0', '2'],\n ['94', '0', '2'],\n ['94', '0', '2'],\n ['168', '0', '2'],\n ['70', '1', '7'],\n ['70', '1', '7'],\n ['70', '1', '7'],\n ['70', '1', '7'],\n ['70', '1', '7'],\n ['70', '1', '7'],\n ['15', '0', '2'],\n ['15', '0', '2'],\n ['15', '0', '2'],\n ['64', '0', '11'],\n ['92', '0', '15'],\n ['92', '0', '15'],\n ['92', '0', '15'],\n ['54', '0', '2'],\n ['54', '1', '2'],\n ['92', '0', '24'],\n ['52', '0', '2'],\n ['110', '0', '2'],\n ['132', '1', '2'],\n ['132', '1', '2'],\n ['55', '0', '2'],\n ['55', '0', '2'],\n ['163', '0', '19'],\n ['163', '0', '19'],\n ['88', '0', '2'],\n ['88', '0', '2'],\n ['85', '0', '2'],\n ['85', '1', '2'],\n ['85', '1', '2'],\n ['85', '1', '2'],\n ['45', '0', '2'],\n ['45', '0', '2'],\n ['262', '1', '2'],\n ['262', '1', '2'],\n ['262', '1', '2'],\n ['124', '0', '2'],\n ['169', '0', '2'],\n ['169', '0', '2'],\n ['57', '0', '16'],\n ['57', '0', '16'],\n ['53', '0', '2'],\n ['53', '0', '2'],\n ['53', '0', '2'],\n ['53', '0', '2'],\n ['53', '0', '2'],\n ['41', '0', '2'],\n ['246', '1', '5'],\n ['246', '1', '5'],\n ['76', '0', '2'],\n ['76', '0', '2'],\n ['76', '0', '2'],\n ['66', '0', '2'],\n ['66', '0', '2'],\n ['107', '1', '2'],\n ['107', '0', '2'],\n ['107', '1', '2'],\n ['107', '1', '2'],\n ['107', '1', '2'],\n ['44', '1', '18'],\n ['114', '1', '2'],\n ['114', '1', '2'],\n ['114', '1', '2'],\n ['114', '1', '2'],\n ['114', '1', '2'],\n ['114', '1', '2'],\n ['330', '0', '5'],\n ['330', '0', '5'],\n ['330', '0', '5'],\n ['332', '0', '2'],\n ['332', '0', '2'],\n ['116', '1', '2'],\n ['116', '1', '2'],\n ['116', '0', '2'],\n ['83', '0', '2'],\n ['83', '0', '2'],\n ['83', '0', '2'],\n ['83', '0', '2'],\n ['33', '0', '3'],\n ['33', '0', '3'],\n ['85', '0', '3'],\n ['85', '0', '3'],\n ['110', '0', '2'],\n ['110', '0', '2'],\n ['110', '0', '2'],\n ['110', '1', '2'],\n ['110', '0', '2'],\n ['110', '1', '2'],\n ['110', '0', '2'],\n ['41', '1', '2'],\n ['41', '0', '2'],\n ['41', '0', '2'],\n ['41', '1', '2'],\n ['58', '0', '2'],\n ['58', '0', '2'],\n ['58', '0', '2'],\n ['58', '0', '2'],\n ['134', '0', '8'],\n ['174', '0', '5'],\n ['174', '0', '5'],\n ['116', '0', '2'],\n ['116', '0', '2'],\n ['116', '0', '2'],\n ['116', '0', '2'],\n ['53', '0', '19'],\n ['53', '0', '19'],\n ['284', '0', '11'],\n ['284', '0', '11'],\n ['284', '0', '11'],\n ['284', '0', '11'],\n ['284', '0', '11'],\n ['88', '0', '2'],\n ['88', '0', '2'],\n ['71', '1', '2'],\n ['71', '1', '2'],\n ['71', '1', '2'],\n ['71', '1', '2'],\n ['87', '0', '2'],\n ['87', '0', '2'],\n ['87', '0', '4'],\n ['87', '0', '4'],\n ['125', '0', '3'],\n ['125', '0', '3'],\n ['125', '0', '3'],\n ['125', '0', '3'],\n ['125', '0', '3'],\n ['7', '0', '24'],\n ['7', '0', '24'],\n ['7', '0', '24'],\n ['7', '0', '24'],\n ['146', '0', '15'],\n ['60', '0', '3'],\n ['60', '0', '3'],\n ['60', '0', '3'],\n ['225', '0', '3'],\n ['225', '1', '3'],\n ['225', '1', '3'],\n ['225', '0', '3'],\n ['225', '0', '3'],\n ['150', '0', '17'],\n ['150', '0', '17'],\n ['150', '0', '17'],\n ['150', '0', '17'],\n ['150', '0', '17'],\n ['150', '0', '17'],\n ['150', '0', '17'],\n ['141', '0', '7'],\n ['141', '0', '7'],\n ['141', '0', '7'],\n ['84', '0', '2'],\n ['84', '0', '2'],\n ['47', '0', '2'],\n ['47', '0', '2'],\n ['47', '0', '2'],\n ['51', '0', '24'],\n ['51', '0', '24'],\n ['107', '0', '2'],\n ['107', '0', '2'],\n ['107', '0', '2'],\n ['107', '0', '2'],\n ['107', '0', '2'],\n ['107', '0', '2'],\n ['107', '0', '2'],\n ['114', '1', '2'],\n ['109', '0', '2'],\n ['109', '0', '2'],\n ['61', '0', '5'],\n ['61', '0', '5'],\n ['61', '0', '5'],\n ['88', '0', '2'],\n ['88', '0', '2'],\n ['88', '0', '2'],\n ['44', '1', '24'],\n ['44', '1', '24'],\n ['158', '0', '2'],\n ['158', '0', '2'],\n ['158', '0', '2'],\n ['158', '0', '2'],\n ['158', '0', '2'],\n ['158', '0', '2'],\n ['158', '0', '2'],\n ['438', '0', '3'],\n ['438', '0', '3'],\n ['438', '0', '3'],\n ['438', '0', '3'],\n ['131', '0', '2'],\n ['131', '0', '2'],\n ['110', '0', '2'],\n ['110', '0', '2'],\n ['110', '0', '2'],\n ['110', '0', '2'],\n ['72', '0', '8'],\n ['72', '0', '8'],\n ['72', '0', '8'],\n ['72', '0', '8'],\n ['72', '0', '8'],\n ['55', '1', '2'],\n ['287', '0', '2'],\n ['287', '0', '2'],\n ['287', '0', '2'],\n ['210', '0', '2'],\n ['210', '0', '2'],\n ['210', '0', '2'],\n ['210', '0', '2'],\n ['210', '0', '2'],\n ['37', '0', '5'],\n ['260', '1', '3'],\n ['260', '1', '3'],\n ['260', '1', '3'],\n ['233', '0', '16'],\n ['233', '0', '16'],\n ['208', '1', '2'],\n ['208', '1', '2'],\n ['208', '1', '2'],\n ['65', '1', '17'],\n ['65', '0', '17'],\n ['236', '0', '2'],\n ['38', '1', '4'],\n ['107', '0', '2'],\n ['136', '0', '7'],\n ['136', '0', '7'],\n ['136', '0', '7'],\n ['42', '0', '13'],\n ['42', '0', '13'],\n ['42', '0', '13'],\n ['154', '0', '2'],\n ['154', '0', '2'],\n ['57', '0', '2'],\n ['57', '1', '2'],\n ['57', '1', '2'],\n ['44', '0', '4'],\n ['44', '1', '4'],\n ['150', '1', '2'],\n ['150', '1', '2'],\n ['150', '1', '2'],\n ['150', '1', '2'],\n ['150', '1', '2'],\n ['150', '1', '2'],\n ['162', '0', '2'],\n ['162', '0', '2'],\n ['162', '0', '2'],\n ['162', '0', '2'],\n ['105', '1', '3'],\n ['105', '1', '3'],\n ['105', '1', '3'],\n ['105', '1', '3'],\n ['170', '0', '2'],\n ['170', '0', '2'],\n ['170', '0', '2'],\n ['170', '0', '2'],\n ['170', '0', '2'],\n ['55', '0', '2'],\n ['55', '0', '2'],\n ['55', '0', '2'],\n ['55', '0', '2'],\n ['146', '0', '3'],\n ['127', '0', '2'],\n ['127', '0', '2'],\n ['127', '0', '2'],\n ['305', '0', '11'],\n ['305', '0', '11'],\n ['305', '0', '11'],\n ['69', '0', '2'],\n ['69', '0', '2'],\n ['69', '0', '2'],\n ['69', '0', '2'],\n ['69', '0', '2'],\n ['35', '1', '4'],\n ['114', '0', '13'],\n ['114', '0', '13'],\n ['114', '0', '13'],\n ['114', '0', '13'],\n ['114', '0', '13'],\n ['48', '0', '2'],\n ['48', '0', '2'],\n ['48', '0', '2'],\n ['48', '0', '2'],\n ['78', '0', '11'],\n ['78', '0', '11'],\n ['78', '0', '11'],\n ['61', '0', '3'],\n ['312', '0', '2'],\n ['312', '0', '2'],\n ['312', '0', '2'],\n ['89', '0', '3'],\n ['89', '0', '3'],\n ['145', '0', '23'],\n ['145', '0', '23'],\n ['127', '0', '24'],\n ['127', '0', '24'],\n ['35', '0', '2'],\n ['35', '1', '2'],\n ['35', '1', '2'],\n ['35', '1', '2'],\n ['35', '1', '2'],\n ['79', '0', '2'],\n ['79', '0', '2'],\n ['73', '1', '3'],\n ['73', '1', '3'],\n ['73', '1', '3'],\n ['73', '1', '3'],\n ['73', '1', '3'],\n ['467', '0', '2'],\n ['467', '0', '2'],\n ['467', '0', '2'],\n ['467', '0', '2'],\n ['105', '0', '2'],\n ['105', '0', '2'],\n ['419', '0', '24'],\n ['419', '0', '24'],\n ['419', '0', '24'],\n ['419', '0', '24'],\n ['419', '0', '24'],\n ['419', '0', '24'],\n ['162', '0', '7'],\n ['162', '0', '7'],\n ['162', '0', '7'],\n ['162', '0', '7'],\n ['115', '0', '22'],\n ['115', '0', '22'],\n ['128', '0', '2'],\n ['128', '0', '2'],\n ['159', '0', '5'],\n ['159', '1', '5'],\n ['159', '1', '5'],\n ['159', '1', '5'],\n ['159', '1', '5'],\n ['48', '0', '3'],\n ['82', '0', '2'],\n ['82', '0', '2'],\n ['82', '0', '2'],\n ['82', '0', '2'],\n ['48', '0', '3'],\n ['48', '0', '3'],\n ['51', '0', '19'],\n ['51', '0', '19'],\n ['51', '0', '19'],\n ['51', '0', '19'],\n ['51', '0', '19'],\n ['50', '0', '3'],\n ['50', '0', '3'],\n ['50', '0', '3'],\n ['67', '0', '9'],\n ['67', '0', '9'],\n ['67', '1', '9'],\n ['67', '0', '9'],\n ['67', '0', '9'],\n ['53', '0', '2'],\n ['53', '0', '2'],\n ['91', '0', '2'],\n ['91', '0', '2'],\n ['91', '0', '2'],\n ['91', '0', '2'],\n ['310', '0', '5'],\n ['310', '0', '5'],\n ['310', '0', '5'],\n ['310', '0', '5'],\n ['81', '0', '5'],\n ['366', '0', '9'],\n ['366', '0', '9'],\n ['366', '0', '9'],\n ['366', '0', '9'],\n ['344', '0', '2'],\n ['344', '0', '2'],\n ['344', '0', '2'],\n ['344', '0', '2'],\n ['344', '0', '2'],\n ['51', '0', '9'],\n ['51', '1', '9'],\n ['51', '1', '9'],\n ['51', '1', '9'],\n ['63', '1', '2'],\n ['63', '1', '2'],\n ['189', '0', '2'],\n ['164', '0', '2'],\n ['164', '0', '2'],\n ['164', '0', '2'],\n ['36', '0', '11'],\n ['36', '0', '11'],\n ['36', '1', '11'],\n ['36', '0', '11'],\n ['36', '1', '11'],\n ['36', '1', '11'],\n ['346', '0', '2'],\n ['346', '0', '2'],\n ['346', '1', '2'],\n ['18', '0', '23'],\n ['220', '0', '9'],\n ['220', '0', '9'],\n ['220', '0', '9'],\n ['68', '0', '24'],\n ['68', '0', '24'],\n ['68', '0', '24'],\n ['68', '0', '24'],\n ['16', '0', '2'],\n ['16', '0', '2'],\n ['16', '0', '2'],\n ['16', '0', '2'],\n ['16', '0', '2'],\n ['65', '1', '7'],\n ['65', '1', '7'],\n ['65', '0', '7'],\n ['172', '0', '2'],\n ['172', '0', '2'],\n ['172', '0', '2'],\n ['172', '0', '2'],\n ['172', '0', '2'],\n ['172', '0', '2'],\n ['172', '0', '2'],\n ['35', '0', '2'],\n ['35', '1', '2'],\n ['35', '1', '2'],\n ['52', '0', '4'],\n ['52', '0', '4'],\n ['292', '0', '2'],\n ['292', '0', '2'],\n ['292', '0', '2'],\n ['292', '0', '2'],\n ['240', '0', '2'],\n ['240', '0', '2'],\n ['240', '0', '2'],\n ['204', '0', '2'],\n ['95', '0', '2'],\n ['95', '0', '2'],\n ['95', '1', '2'],\n ['177', '0', '2'],\n ['177', '1', '2'],\n ['105', '1', '3'],\n ['105', '0', '3'],\n ['42', '0', '4'],\n ['42', '0', '4'],\n ['42', '0', '4'],\n ['42', '0', '4'],\n ['59', '0', '2'],\n ['119', '0', '2'],\n ['119', '0', '2'],\n ['119', '0', '2'],\n ['119', '0', '2'],\n ['83', '0', '2'],\n ['83', '0', '2'],\n ['83', '0', '2'],\n ['83', '0', '2'],\n ['83', '0', '2'],\n ['58', '1', '2'],\n ['58', '1', '2'],\n ['42', '0', '24'],\n ['42', '0', '24'],\n ['129', '1', '2'],\n ['129', '0', '2'],\n ['129', '0', '2'],\n ['129', '0', '2'],\n ['124', '1', '5'],\n ['124', '0', '5'],\n ['75', '0', '2'],\n ['75', '0', '2'],\n ['75', '0', '2'],\n ['75', '0', '2'],\n ['75', '0', '2'],\n ['75', '1', '2'],\n ['57', '0', '4'],\n ['62', '0', '2'],\n ['46', '0', '11'],\n ['46', '1', '11'],\n ['46', '0', '11'],\n ['46', '0', '11'],\n ['74', '0', '2'],\n ['74', '0', '2'],\n ['267', '0', '5'],\n ['267', '0', '5'],\n ['267', '0', '5'],\n ['267', '0', '5'],\n ['267', '0', '5'],\n ['71', '0', '3'],\n ['71', '0', '3'],\n ['40', '0', '2'],\n ['271', '0', '2'],\n ['271', '0', '2'],\n ['271', '0', '2'],\n ['271', '0', '2'],\n ['271', '0', '2'],\n ['271', '0', '2'],\n ['19', '0', '3'],\n ['19', '0', '3'],\n ['19', '0', '3'],\n ['54', '0', '19'],\n ['54', '0', '19'],\n ['150', '0', '2'],\n ['150', '0', '2'],\n ['150', '0', '2'],\n ['150', '0', '2'],\n ['150', '0', '2'],\n ['47', '0', '24'],\n ['117', '0', '2'],\n ['91', '1', '2'],\n ['91', '1', '2'],\n ['91', '1', '2'],\n ['257', '0', '3'],\n ['257', '0', '3'],\n ['59', '0', '3'],\n ['87', '0', '13'],\n ['87', '0', '13'],\n ['87', '1', '13'],\n ['87', '0', '13'],\n ['87', '0', '13'],\n ['54', '1', '2'],\n ['54', '1', '2'],\n ['54', '1', '2'],\n ['54', '1', '2'],\n ['54', '1', '2'],\n ['199', '0', '19'],\n ['199', '0', '19'],\n ['199', '0', '19'],\n ['113', '0', '3'],\n ['113', '0', '3'],\n ['113', '0', '3'],\n ['113', '0', '3'],\n ['113', '0', '3'],\n ['38', '1', '2'],\n ['38', '1', '2'],\n ['38', '1', '2'],\n ['38', '1', '2'],\n ['38', '1', '2'],\n ['38', '1', '2'],\n ['38', '1', '2'],\n ['71', '0', '24'],\n ['75', '0', '2'],\n ['75', '1', '2'],\n ['75', '1', '2'],\n ['345', '0', '4'],\n ['345', '0', '4'],\n ['345', '0', '4'],\n ['59', '0', '2'],\n ['59', '0', '2'],\n ['59', '0', '2'],\n ['162', '0', '24'],\n ['162', '0', '24'],\n ['162', '0', '24'],\n ['162', '0', '24'],\n ['162', '0', '24'],\n ['162', '0', '24'],\n ['162', '0', '24'],\n ['162', '0', '24'],\n ['162', '0', '24'],\n ['47', '0', '7'],\n ['47', '0', '7'],\n ['47', '1', '7'],\n ['47', '0', '7'],\n ['47', '0', '7'],\n ['47', '0', '7'],\n ['47', '0', '7'],\n ['47', '1', '7'],\n ['55', '0', '2'],\n ['55', '0', '2'],\n ['55', '0', '2'],\n ['55', '0', '2'],\n ['55', '0', '2'],\n ['55', '0', '2'],\n ['119', '0', '2'],\n ['119', '0', '2'],\n ['119', '0', '2'],\n ['119', '0', '2'],\n ['80', '1', '2'],\n ['80', '1', '2'],\n ['72', '0', '18'],\n ['72', '1', '18'],\n ['72', '1', '18'],\n ['72', '1', '18'],\n ['35', '0', '2'],\n ['35', '0', '2'],\n ['35', '0', '2'],\n ['78', '0', '2'],\n ['78', '0', '2'],\n ['78', '0', '2'],\n ['78', '0', '2'],\n ['124', '0', '2'],\n ['124', '0', '2'],\n ['124', '0', '2'],\n ['124', '0', '2'],\n ['124', '0', '2'],\n ['408', '1', '2'],\n ['408', '1', '2'],\n ['408', '1', '2'],\n ['408', '1', '2'],\n ['408', '1', '2'],\n ['408', '1', '2'],\n ['408', '1', '2'],\n ['172', '1', '2'],\n ['52', '0', '2'],\n ...]"
          },
          "execution_count": 13,
          "metadata": {}
        }
      ],
      "metadata": {
        "jupyter": {
          "source_hidden": false,
          "outputs_hidden": false
        },
        "nteract": {
          "transient": {
            "deleting": false
          }
        }
      },
      "source": [
        "results "
      ]
    },
    {
      "cell_type": "markdown",
      "metadata": {
        "nteract": {
          "transient": {
            "deleting": false
          }
        }
      },
      "source": [
        "### Parse the results\r\n",
        "I want to create a dataframe from the results.  There are two pieces to this:  the header and data.  The first row is the header.  The rest is data.\r\n",
        "\r\n",
        "Getting data from arrays is very easy.  I just need to take my variable (results) and reference the rows.  results\\[0\\] will give me the header row (0 is the first item in an array), results\\[1:\\] will get the rows from the second row to the end (1 is the second row; colon with no value following it will go to the end of the array).  Note that if I have one value, it returns the first row as an array.  With the range, it returns an array of arrays."
      ]
    },
    {
      "cell_type": "code",
      "execution_count": 27,
      "outputs": [
        {
          "output_type": "display_data",
          "data": {
            "application/vnd.livy.statement-meta+json": {
              "spark_pool": "Main",
              "session_id": "10",
              "statement_id": 14,
              "state": "finished",
              "livy_statement_state": "available",
              "queued_time": "2023-03-11T17:15:26.9938135Z",
              "session_start_time": null,
              "execution_start_time": "2023-03-11T17:15:27.1550813Z",
              "execution_finish_time": "2023-03-11T17:15:27.3232641Z",
              "spark_jobs": null,
              "parent_msg_id": "0d8aa998-314f-4300-8a28-4d2a175f3cc1"
            },
            "text/plain": "StatementMeta(Main, 10, 14, Finished, Available)"
          },
          "metadata": {}
        },
        {
          "output_type": "execute_result",
          "data": {
            "text/plain": "['WGTP', 'FHICOVP', 'HHLDRHISP']"
          },
          "execution_count": 31,
          "metadata": {}
        }
      ],
      "metadata": {
        "jupyter": {
          "source_hidden": false,
          "outputs_hidden": false
        },
        "nteract": {
          "transient": {
            "deleting": false
          }
        }
      },
      "source": [
        "results[0]"
      ]
    },
    {
      "cell_type": "code",
      "execution_count": 28,
      "outputs": [
        {
          "output_type": "display_data",
          "data": {
            "application/vnd.livy.statement-meta+json": {
              "spark_pool": "Main",
              "session_id": "10",
              "statement_id": 15,
              "state": "finished",
              "livy_statement_state": "available",
              "queued_time": "2023-03-11T17:15:30.2318766Z",
              "session_start_time": null,
              "execution_start_time": "2023-03-11T17:15:30.3957001Z",
              "execution_finish_time": "2023-03-11T17:15:30.5637957Z",
              "spark_jobs": null,
              "parent_msg_id": "59300d85-e7e9-49ba-9565-18679d6c6806"
            },
            "text/plain": "StatementMeta(Main, 10, 15, Finished, Available)"
          },
          "metadata": {}
        },
        {
          "output_type": "execute_result",
          "data": {
            "text/plain": "[['283', '0', '3'],\n ['31', '0', '2'],\n ['31', '0', '2'],\n ['31', '0', '2'],\n ['82', '0', '2'],\n ['82', '0', '2'],\n ['170', '0', '2'],\n ['170', '1', '2'],\n ['170', '1', '2'],\n ['170', '1', '2'],\n ['170', '1', '2'],\n ['137', '0', '2'],\n ['137', '0', '2'],\n ['137', '0', '2'],\n ['137', '0', '2'],\n ['137', '0', '2'],\n ['484', '0', '3'],\n ['115', '0', '11'],\n ['115', '0', '11'],\n ['108', '0', '2'],\n ['108', '0', '2'],\n ['108', '0', '2'],\n ['108', '0', '2'],\n ['108', '0', '2'],\n ['35', '0', '3'],\n ['35', '1', '3'],\n ['35', '0', '3'],\n ['35', '0', '3'],\n ['35', '0', '3'],\n ['114', '0', '9'],\n ['114', '0', '9'],\n ['49', '0', '2'],\n ['49', '1', '2'],\n ['265', '0', '21'],\n ['265', '0', '21'],\n ['265', '0', '21'],\n ['73', '0', '2'],\n ['73', '1', '2'],\n ['81', '0', '2'],\n ['136', '0', '2'],\n ['136', '0', '2'],\n ['100', '0', '2'],\n ['100', '0', '2'],\n ['100', '0', '2'],\n ['100', '0', '2'],\n ['183', '0', '11'],\n ['183', '0', '11'],\n ['56', '1', '2'],\n ['56', '1', '2'],\n ['56', '0', '2'],\n ['56', '0', '2'],\n ['56', '0', '2'],\n ['56', '0', '2'],\n ['56', '0', '2'],\n ['239', '0', '5'],\n ['239', '0', '5'],\n ['239', '0', '5'],\n ['148', '0', '2'],\n ['148', '0', '2'],\n ['59', '0', '2'],\n ['59', '0', '2'],\n ['59', '0', '2'],\n ['59', '0', '2'],\n ['164', '0', '2'],\n ['89', '0', '3'],\n ['89', '0', '3'],\n ['89', '0', '3'],\n ['89', '0', '3'],\n ['29', '0', '7'],\n ['29', '1', '7'],\n ['29', '1', '7'],\n ['29', '1', '7'],\n ['29', '1', '7'],\n ['63', '0', '4'],\n ['63', '0', '4'],\n ['63', '0', '4'],\n ['334', '0', '2'],\n ['334', '0', '2'],\n ['334', '0', '2'],\n ['334', '0', '2'],\n ['334', '0', '2'],\n ['298', '0', '2'],\n ['298', '0', '2'],\n ['239', '0', '2'],\n ['239', '0', '2'],\n ['239', '0', '2'],\n ['239', '0', '2'],\n ['19', '0', '2'],\n ['19', '0', '2'],\n ['19', '0', '2'],\n ['19', '0', '2'],\n ['19', '0', '2'],\n ['41', '0', '2'],\n ['82', '0', '2'],\n ['69', '0', '19'],\n ['100', '0', '2'],\n ['100', '0', '2'],\n ['100', '0', '2'],\n ['74', '1', '24'],\n ['74', '1', '24'],\n ['82', '0', '2'],\n ['82', '0', '2'],\n ['82', '0', '2'],\n ['195', '0', '2'],\n ['195', '0', '2'],\n ['195', '0', '2'],\n ['217', '0', '5'],\n ['217', '1', '5'],\n ['217', '1', '5'],\n ['217', '1', '5'],\n ['217', '1', '5'],\n ['217', '1', '5'],\n ['217', '1', '5'],\n ['69', '0', '2'],\n ['69', '0', '2'],\n ['69', '0', '2'],\n ['102', '0', '11'],\n ['102', '0', '11'],\n ['102', '0', '11'],\n ['102', '0', '11'],\n ['286', '0', '2'],\n ['286', '0', '2'],\n ['286', '0', '2'],\n ['286', '0', '2'],\n ['100', '0', '13'],\n ['100', '0', '13'],\n ['100', '0', '13'],\n ['100', '0', '13'],\n ['34', '0', '4'],\n ['34', '1', '4'],\n ['128', '0', '23'],\n ['128', '0', '23'],\n ['128', '0', '23'],\n ['88', '0', '4'],\n ['88', '0', '4'],\n ['88', '0', '4'],\n ['118', '0', '5'],\n ['118', '0', '5'],\n ['118', '0', '5'],\n ['158', '0', '2'],\n ['158', '0', '2'],\n ['158', '0', '2'],\n ['453', '0', '3'],\n ['453', '0', '3'],\n ['453', '0', '3'],\n ['453', '0', '3'],\n ['453', '0', '3'],\n ['87', '0', '2'],\n ['87', '0', '2'],\n ['87', '0', '2'],\n ['87', '0', '2'],\n ['87', '0', '2'],\n ['113', '1', '21'],\n ['113', '0', '21'],\n ['113', '0', '21'],\n ['105', '0', '2'],\n ['105', '0', '2'],\n ['105', '0', '2'],\n ['105', '0', '2'],\n ['51', '0', '16'],\n ['47', '1', '2'],\n ['47', '0', '2'],\n ['52', '0', '24'],\n ['177', '0', '2'],\n ['177', '0', '2'],\n ['177', '0', '2'],\n ['177', '0', '2'],\n ['139', '0', '2'],\n ['139', '0', '2'],\n ['187', '0', '2'],\n ['187', '0', '2'],\n ['187', '0', '2'],\n ['187', '0', '2'],\n ['187', '0', '2'],\n ['187', '0', '2'],\n ['135', '1', '5'],\n ['135', '0', '5'],\n ['67', '0', '2'],\n ['67', '0', '2'],\n ['67', '0', '2'],\n ['67', '0', '2'],\n ['57', '0', '4'],\n ['57', '0', '4'],\n ['124', '0', '2'],\n ['124', '0', '2'],\n ['124', '0', '2'],\n ['124', '0', '2'],\n ['124', '0', '2'],\n ['201', '1', '24'],\n ['201', '1', '24'],\n ['201', '1', '24'],\n ['201', '1', '24'],\n ['61', '0', '5'],\n ['61', '1', '5'],\n ['108', '0', '2'],\n ['108', '0', '2'],\n ['108', '0', '2'],\n ['108', '0', '2'],\n ['31', '0', '2'],\n ['160', '0', '2'],\n ['160', '0', '2'],\n ['160', '0', '2'],\n ['288', '0', '8'],\n ['288', '0', '8'],\n ['288', '0', '8'],\n ['288', '0', '8'],\n ['314', '0', '2'],\n ['314', '0', '2'],\n ['67', '0', '2'],\n ['67', '0', '2'],\n ['67', '1', '2'],\n ['67', '0', '2'],\n ['56', '1', '2'],\n ['56', '1', '2'],\n ['56', '1', '2'],\n ['56', '1', '2'],\n ['154', '0', '3'],\n ['154', '0', '3'],\n ['154', '0', '3'],\n ['154', '0', '3'],\n ['186', '1', '3'],\n ['186', '1', '3'],\n ['186', '1', '3'],\n ['135', '0', '2'],\n ['135', '0', '2'],\n ['135', '0', '2'],\n ['135', '0', '2'],\n ['89', '0', '6'],\n ['89', '0', '6'],\n ['89', '0', '6'],\n ['110', '0', '3'],\n ['110', '0', '3'],\n ['154', '0', '2'],\n ['154', '0', '2'],\n ['165', '0', '24'],\n ['41', '0', '4'],\n ['41', '0', '4'],\n ['41', '0', '4'],\n ['41', '1', '4'],\n ['43', '1', '2'],\n ['43', '0', '2'],\n ['156', '0', '16'],\n ['156', '0', '16'],\n ['156', '0', '16'],\n ['156', '0', '16'],\n ['37', '1', '24'],\n ['37', '1', '24'],\n ['279', '0', '2'],\n ['279', '0', '2'],\n ['279', '0', '2'],\n ['279', '0', '2'],\n ['279', '1', '2'],\n ['93', '0', '2'],\n ['93', '0', '2'],\n ['58', '0', '19'],\n ['58', '1', '19'],\n ['58', '1', '19'],\n ['117', '0', '2'],\n ['117', '0', '2'],\n ['31', '0', '2'],\n ['31', '0', '2'],\n ['31', '0', '2'],\n ['31', '0', '2'],\n ['31', '0', '2'],\n ['18', '0', '2'],\n ['18', '0', '2'],\n ['18', '0', '2'],\n ['18', '0', '2'],\n ['18', '0', '2'],\n ['172', '0', '3'],\n ['172', '1', '3'],\n ['172', '0', '3'],\n ['172', '0', '3'],\n ['58', '0', '2'],\n ['58', '1', '2'],\n ['58', '0', '2'],\n ['58', '0', '2'],\n ['58', '0', '2'],\n ['51', '0', '5'],\n ['51', '0', '5'],\n ['51', '0', '5'],\n ['51', '0', '5'],\n ['195', '0', '14'],\n ['195', '0', '14'],\n ['195', '0', '14'],\n ['195', '0', '14'],\n ['248', '0', '3'],\n ['248', '0', '3'],\n ['248', '0', '3'],\n ['248', '0', '3'],\n ['34', '1', '21'],\n ['34', '0', '21'],\n ['34', '0', '21'],\n ['49', '0', '3'],\n ['49', '0', '3'],\n ['49', '0', '3'],\n ['150', '0', '23'],\n ['150', '0', '23'],\n ['150', '0', '23'],\n ['432', '1', '11'],\n ['432', '1', '11'],\n ['432', '1', '11'],\n ['432', '1', '11'],\n ['432', '1', '11'],\n ['432', '1', '11'],\n ['91', '0', '4'],\n ['91', '0', '4'],\n ['89', '0', '11'],\n ['89', '0', '11'],\n ['89', '0', '11'],\n ['125', '0', '2'],\n ['125', '0', '2'],\n ['98', '1', '2'],\n ['98', '0', '2'],\n ['98', '1', '2'],\n ['80', '0', '2'],\n ['53', '0', '22'],\n ['115', '0', '2'],\n ['115', '0', '2'],\n ['56', '0', '2'],\n ['56', '0', '2'],\n ['56', '0', '2'],\n ['56', '0', '2'],\n ['56', '0', '2'],\n ['56', '1', '2'],\n ['56', '1', '2'],\n ['56', '1', '2'],\n ['139', '0', '2'],\n ['57', '0', '2'],\n ['57', '0', '2'],\n ['57', '0', '2'],\n ['57', '0', '2'],\n ['57', '0', '2'],\n ['27', '0', '2'],\n ['27', '0', '2'],\n ['27', '0', '2'],\n ['27', '0', '2'],\n ['136', '0', '2'],\n ['136', '0', '2'],\n ['136', '0', '2'],\n ['197', '1', '2'],\n ['197', '1', '2'],\n ['87', '0', '2'],\n ['87', '1', '2'],\n ['87', '1', '2'],\n ['87', '1', '2'],\n ['87', '1', '2'],\n ['94', '0', '18'],\n ['94', '0', '18'],\n ['110', '0', '21'],\n ['93', '0', '2'],\n ['93', '0', '2'],\n ['93', '0', '2'],\n ['93', '0', '2'],\n ['93', '0', '2'],\n ['50', '0', '24'],\n ['50', '1', '24'],\n ['50', '1', '24'],\n ['62', '0', '2'],\n ['273', '0', '2'],\n ['273', '0', '2'],\n ['273', '0', '2'],\n ['273', '0', '2'],\n ['153', '0', '2'],\n ['153', '0', '2'],\n ['153', '0', '2'],\n ['153', '1', '2'],\n ['153', '1', '2'],\n ['156', '1', '16'],\n ['156', '0', '16'],\n ['121', '0', '10'],\n ['121', '0', '10'],\n ['121', '0', '10'],\n ['51', '0', '2'],\n ['51', '0', '2'],\n ['93', '0', '2'],\n ['93', '0', '2'],\n ['166', '0', '2'],\n ['166', '0', '2'],\n ['166', '0', '2'],\n ['166', '0', '2'],\n ['166', '0', '2'],\n ['28', '0', '2'],\n ['28', '0', '2'],\n ['28', '0', '2'],\n ['82', '0', '2'],\n ['50', '0', '2'],\n ['50', '0', '2'],\n ['50', '0', '2'],\n ['61', '0', '11'],\n ['278', '0', '2'],\n ['278', '0', '2'],\n ['278', '0', '2'],\n ['67', '0', '24'],\n ['67', '0', '24'],\n ['67', '1', '24'],\n ['67', '1', '24'],\n ['40', '0', '9'],\n ['40', '0', '9'],\n ['40', '0', '9'],\n ['40', '0', '9'],\n ['276', '0', '11'],\n ['276', '0', '11'],\n ['276', '1', '11'],\n ['276', '0', '11'],\n ['132', '0', '3'],\n ['132', '0', '3'],\n ['94', '0', '2'],\n ['94', '0', '2'],\n ['94', '0', '2'],\n ['94', '0', '2'],\n ['168', '0', '2'],\n ['70', '1', '7'],\n ['70', '1', '7'],\n ['70', '1', '7'],\n ['70', '1', '7'],\n ['70', '1', '7'],\n ['70', '1', '7'],\n ['15', '0', '2'],\n ['15', '0', '2'],\n ['15', '0', '2'],\n ['64', '0', '11'],\n ['92', '0', '15'],\n ['92', '0', '15'],\n ['92', '0', '15'],\n ['54', '0', '2'],\n ['54', '1', '2'],\n ['92', '0', '24'],\n ['52', '0', '2'],\n ['110', '0', '2'],\n ['132', '1', '2'],\n ['132', '1', '2'],\n ['55', '0', '2'],\n ['55', '0', '2'],\n ['163', '0', '19'],\n ['163', '0', '19'],\n ['88', '0', '2'],\n ['88', '0', '2'],\n ['85', '0', '2'],\n ['85', '1', '2'],\n ['85', '1', '2'],\n ['85', '1', '2'],\n ['45', '0', '2'],\n ['45', '0', '2'],\n ['262', '1', '2'],\n ['262', '1', '2'],\n ['262', '1', '2'],\n ['124', '0', '2'],\n ['169', '0', '2'],\n ['169', '0', '2'],\n ['57', '0', '16'],\n ['57', '0', '16'],\n ['53', '0', '2'],\n ['53', '0', '2'],\n ['53', '0', '2'],\n ['53', '0', '2'],\n ['53', '0', '2'],\n ['41', '0', '2'],\n ['246', '1', '5'],\n ['246', '1', '5'],\n ['76', '0', '2'],\n ['76', '0', '2'],\n ['76', '0', '2'],\n ['66', '0', '2'],\n ['66', '0', '2'],\n ['107', '1', '2'],\n ['107', '0', '2'],\n ['107', '1', '2'],\n ['107', '1', '2'],\n ['107', '1', '2'],\n ['44', '1', '18'],\n ['114', '1', '2'],\n ['114', '1', '2'],\n ['114', '1', '2'],\n ['114', '1', '2'],\n ['114', '1', '2'],\n ['114', '1', '2'],\n ['330', '0', '5'],\n ['330', '0', '5'],\n ['330', '0', '5'],\n ['332', '0', '2'],\n ['332', '0', '2'],\n ['116', '1', '2'],\n ['116', '1', '2'],\n ['116', '0', '2'],\n ['83', '0', '2'],\n ['83', '0', '2'],\n ['83', '0', '2'],\n ['83', '0', '2'],\n ['33', '0', '3'],\n ['33', '0', '3'],\n ['85', '0', '3'],\n ['85', '0', '3'],\n ['110', '0', '2'],\n ['110', '0', '2'],\n ['110', '0', '2'],\n ['110', '1', '2'],\n ['110', '0', '2'],\n ['110', '1', '2'],\n ['110', '0', '2'],\n ['41', '1', '2'],\n ['41', '0', '2'],\n ['41', '0', '2'],\n ['41', '1', '2'],\n ['58', '0', '2'],\n ['58', '0', '2'],\n ['58', '0', '2'],\n ['58', '0', '2'],\n ['134', '0', '8'],\n ['174', '0', '5'],\n ['174', '0', '5'],\n ['116', '0', '2'],\n ['116', '0', '2'],\n ['116', '0', '2'],\n ['116', '0', '2'],\n ['53', '0', '19'],\n ['53', '0', '19'],\n ['284', '0', '11'],\n ['284', '0', '11'],\n ['284', '0', '11'],\n ['284', '0', '11'],\n ['284', '0', '11'],\n ['88', '0', '2'],\n ['88', '0', '2'],\n ['71', '1', '2'],\n ['71', '1', '2'],\n ['71', '1', '2'],\n ['71', '1', '2'],\n ['87', '0', '2'],\n ['87', '0', '2'],\n ['87', '0', '4'],\n ['87', '0', '4'],\n ['125', '0', '3'],\n ['125', '0', '3'],\n ['125', '0', '3'],\n ['125', '0', '3'],\n ['125', '0', '3'],\n ['7', '0', '24'],\n ['7', '0', '24'],\n ['7', '0', '24'],\n ['7', '0', '24'],\n ['146', '0', '15'],\n ['60', '0', '3'],\n ['60', '0', '3'],\n ['60', '0', '3'],\n ['225', '0', '3'],\n ['225', '1', '3'],\n ['225', '1', '3'],\n ['225', '0', '3'],\n ['225', '0', '3'],\n ['150', '0', '17'],\n ['150', '0', '17'],\n ['150', '0', '17'],\n ['150', '0', '17'],\n ['150', '0', '17'],\n ['150', '0', '17'],\n ['150', '0', '17'],\n ['141', '0', '7'],\n ['141', '0', '7'],\n ['141', '0', '7'],\n ['84', '0', '2'],\n ['84', '0', '2'],\n ['47', '0', '2'],\n ['47', '0', '2'],\n ['47', '0', '2'],\n ['51', '0', '24'],\n ['51', '0', '24'],\n ['107', '0', '2'],\n ['107', '0', '2'],\n ['107', '0', '2'],\n ['107', '0', '2'],\n ['107', '0', '2'],\n ['107', '0', '2'],\n ['107', '0', '2'],\n ['114', '1', '2'],\n ['109', '0', '2'],\n ['109', '0', '2'],\n ['61', '0', '5'],\n ['61', '0', '5'],\n ['61', '0', '5'],\n ['88', '0', '2'],\n ['88', '0', '2'],\n ['88', '0', '2'],\n ['44', '1', '24'],\n ['44', '1', '24'],\n ['158', '0', '2'],\n ['158', '0', '2'],\n ['158', '0', '2'],\n ['158', '0', '2'],\n ['158', '0', '2'],\n ['158', '0', '2'],\n ['158', '0', '2'],\n ['438', '0', '3'],\n ['438', '0', '3'],\n ['438', '0', '3'],\n ['438', '0', '3'],\n ['131', '0', '2'],\n ['131', '0', '2'],\n ['110', '0', '2'],\n ['110', '0', '2'],\n ['110', '0', '2'],\n ['110', '0', '2'],\n ['72', '0', '8'],\n ['72', '0', '8'],\n ['72', '0', '8'],\n ['72', '0', '8'],\n ['72', '0', '8'],\n ['55', '1', '2'],\n ['287', '0', '2'],\n ['287', '0', '2'],\n ['287', '0', '2'],\n ['210', '0', '2'],\n ['210', '0', '2'],\n ['210', '0', '2'],\n ['210', '0', '2'],\n ['210', '0', '2'],\n ['37', '0', '5'],\n ['260', '1', '3'],\n ['260', '1', '3'],\n ['260', '1', '3'],\n ['233', '0', '16'],\n ['233', '0', '16'],\n ['208', '1', '2'],\n ['208', '1', '2'],\n ['208', '1', '2'],\n ['65', '1', '17'],\n ['65', '0', '17'],\n ['236', '0', '2'],\n ['38', '1', '4'],\n ['107', '0', '2'],\n ['136', '0', '7'],\n ['136', '0', '7'],\n ['136', '0', '7'],\n ['42', '0', '13'],\n ['42', '0', '13'],\n ['42', '0', '13'],\n ['154', '0', '2'],\n ['154', '0', '2'],\n ['57', '0', '2'],\n ['57', '1', '2'],\n ['57', '1', '2'],\n ['44', '0', '4'],\n ['44', '1', '4'],\n ['150', '1', '2'],\n ['150', '1', '2'],\n ['150', '1', '2'],\n ['150', '1', '2'],\n ['150', '1', '2'],\n ['150', '1', '2'],\n ['162', '0', '2'],\n ['162', '0', '2'],\n ['162', '0', '2'],\n ['162', '0', '2'],\n ['105', '1', '3'],\n ['105', '1', '3'],\n ['105', '1', '3'],\n ['105', '1', '3'],\n ['170', '0', '2'],\n ['170', '0', '2'],\n ['170', '0', '2'],\n ['170', '0', '2'],\n ['170', '0', '2'],\n ['55', '0', '2'],\n ['55', '0', '2'],\n ['55', '0', '2'],\n ['55', '0', '2'],\n ['146', '0', '3'],\n ['127', '0', '2'],\n ['127', '0', '2'],\n ['127', '0', '2'],\n ['305', '0', '11'],\n ['305', '0', '11'],\n ['305', '0', '11'],\n ['69', '0', '2'],\n ['69', '0', '2'],\n ['69', '0', '2'],\n ['69', '0', '2'],\n ['69', '0', '2'],\n ['35', '1', '4'],\n ['114', '0', '13'],\n ['114', '0', '13'],\n ['114', '0', '13'],\n ['114', '0', '13'],\n ['114', '0', '13'],\n ['48', '0', '2'],\n ['48', '0', '2'],\n ['48', '0', '2'],\n ['48', '0', '2'],\n ['78', '0', '11'],\n ['78', '0', '11'],\n ['78', '0', '11'],\n ['61', '0', '3'],\n ['312', '0', '2'],\n ['312', '0', '2'],\n ['312', '0', '2'],\n ['89', '0', '3'],\n ['89', '0', '3'],\n ['145', '0', '23'],\n ['145', '0', '23'],\n ['127', '0', '24'],\n ['127', '0', '24'],\n ['35', '0', '2'],\n ['35', '1', '2'],\n ['35', '1', '2'],\n ['35', '1', '2'],\n ['35', '1', '2'],\n ['79', '0', '2'],\n ['79', '0', '2'],\n ['73', '1', '3'],\n ['73', '1', '3'],\n ['73', '1', '3'],\n ['73', '1', '3'],\n ['73', '1', '3'],\n ['467', '0', '2'],\n ['467', '0', '2'],\n ['467', '0', '2'],\n ['467', '0', '2'],\n ['105', '0', '2'],\n ['105', '0', '2'],\n ['419', '0', '24'],\n ['419', '0', '24'],\n ['419', '0', '24'],\n ['419', '0', '24'],\n ['419', '0', '24'],\n ['419', '0', '24'],\n ['162', '0', '7'],\n ['162', '0', '7'],\n ['162', '0', '7'],\n ['162', '0', '7'],\n ['115', '0', '22'],\n ['115', '0', '22'],\n ['128', '0', '2'],\n ['128', '0', '2'],\n ['159', '0', '5'],\n ['159', '1', '5'],\n ['159', '1', '5'],\n ['159', '1', '5'],\n ['159', '1', '5'],\n ['48', '0', '3'],\n ['82', '0', '2'],\n ['82', '0', '2'],\n ['82', '0', '2'],\n ['82', '0', '2'],\n ['48', '0', '3'],\n ['48', '0', '3'],\n ['51', '0', '19'],\n ['51', '0', '19'],\n ['51', '0', '19'],\n ['51', '0', '19'],\n ['51', '0', '19'],\n ['50', '0', '3'],\n ['50', '0', '3'],\n ['50', '0', '3'],\n ['67', '0', '9'],\n ['67', '0', '9'],\n ['67', '1', '9'],\n ['67', '0', '9'],\n ['67', '0', '9'],\n ['53', '0', '2'],\n ['53', '0', '2'],\n ['91', '0', '2'],\n ['91', '0', '2'],\n ['91', '0', '2'],\n ['91', '0', '2'],\n ['310', '0', '5'],\n ['310', '0', '5'],\n ['310', '0', '5'],\n ['310', '0', '5'],\n ['81', '0', '5'],\n ['366', '0', '9'],\n ['366', '0', '9'],\n ['366', '0', '9'],\n ['366', '0', '9'],\n ['344', '0', '2'],\n ['344', '0', '2'],\n ['344', '0', '2'],\n ['344', '0', '2'],\n ['344', '0', '2'],\n ['51', '0', '9'],\n ['51', '1', '9'],\n ['51', '1', '9'],\n ['51', '1', '9'],\n ['63', '1', '2'],\n ['63', '1', '2'],\n ['189', '0', '2'],\n ['164', '0', '2'],\n ['164', '0', '2'],\n ['164', '0', '2'],\n ['36', '0', '11'],\n ['36', '0', '11'],\n ['36', '1', '11'],\n ['36', '0', '11'],\n ['36', '1', '11'],\n ['36', '1', '11'],\n ['346', '0', '2'],\n ['346', '0', '2'],\n ['346', '1', '2'],\n ['18', '0', '23'],\n ['220', '0', '9'],\n ['220', '0', '9'],\n ['220', '0', '9'],\n ['68', '0', '24'],\n ['68', '0', '24'],\n ['68', '0', '24'],\n ['68', '0', '24'],\n ['16', '0', '2'],\n ['16', '0', '2'],\n ['16', '0', '2'],\n ['16', '0', '2'],\n ['16', '0', '2'],\n ['65', '1', '7'],\n ['65', '1', '7'],\n ['65', '0', '7'],\n ['172', '0', '2'],\n ['172', '0', '2'],\n ['172', '0', '2'],\n ['172', '0', '2'],\n ['172', '0', '2'],\n ['172', '0', '2'],\n ['172', '0', '2'],\n ['35', '0', '2'],\n ['35', '1', '2'],\n ['35', '1', '2'],\n ['52', '0', '4'],\n ['52', '0', '4'],\n ['292', '0', '2'],\n ['292', '0', '2'],\n ['292', '0', '2'],\n ['292', '0', '2'],\n ['240', '0', '2'],\n ['240', '0', '2'],\n ['240', '0', '2'],\n ['204', '0', '2'],\n ['95', '0', '2'],\n ['95', '0', '2'],\n ['95', '1', '2'],\n ['177', '0', '2'],\n ['177', '1', '2'],\n ['105', '1', '3'],\n ['105', '0', '3'],\n ['42', '0', '4'],\n ['42', '0', '4'],\n ['42', '0', '4'],\n ['42', '0', '4'],\n ['59', '0', '2'],\n ['119', '0', '2'],\n ['119', '0', '2'],\n ['119', '0', '2'],\n ['119', '0', '2'],\n ['83', '0', '2'],\n ['83', '0', '2'],\n ['83', '0', '2'],\n ['83', '0', '2'],\n ['83', '0', '2'],\n ['58', '1', '2'],\n ['58', '1', '2'],\n ['42', '0', '24'],\n ['42', '0', '24'],\n ['129', '1', '2'],\n ['129', '0', '2'],\n ['129', '0', '2'],\n ['129', '0', '2'],\n ['124', '1', '5'],\n ['124', '0', '5'],\n ['75', '0', '2'],\n ['75', '0', '2'],\n ['75', '0', '2'],\n ['75', '0', '2'],\n ['75', '0', '2'],\n ['75', '1', '2'],\n ['57', '0', '4'],\n ['62', '0', '2'],\n ['46', '0', '11'],\n ['46', '1', '11'],\n ['46', '0', '11'],\n ['46', '0', '11'],\n ['74', '0', '2'],\n ['74', '0', '2'],\n ['267', '0', '5'],\n ['267', '0', '5'],\n ['267', '0', '5'],\n ['267', '0', '5'],\n ['267', '0', '5'],\n ['71', '0', '3'],\n ['71', '0', '3'],\n ['40', '0', '2'],\n ['271', '0', '2'],\n ['271', '0', '2'],\n ['271', '0', '2'],\n ['271', '0', '2'],\n ['271', '0', '2'],\n ['271', '0', '2'],\n ['19', '0', '3'],\n ['19', '0', '3'],\n ['19', '0', '3'],\n ['54', '0', '19'],\n ['54', '0', '19'],\n ['150', '0', '2'],\n ['150', '0', '2'],\n ['150', '0', '2'],\n ['150', '0', '2'],\n ['150', '0', '2'],\n ['47', '0', '24'],\n ['117', '0', '2'],\n ['91', '1', '2'],\n ['91', '1', '2'],\n ['91', '1', '2'],\n ['257', '0', '3'],\n ['257', '0', '3'],\n ['59', '0', '3'],\n ['87', '0', '13'],\n ['87', '0', '13'],\n ['87', '1', '13'],\n ['87', '0', '13'],\n ['87', '0', '13'],\n ['54', '1', '2'],\n ['54', '1', '2'],\n ['54', '1', '2'],\n ['54', '1', '2'],\n ['54', '1', '2'],\n ['199', '0', '19'],\n ['199', '0', '19'],\n ['199', '0', '19'],\n ['113', '0', '3'],\n ['113', '0', '3'],\n ['113', '0', '3'],\n ['113', '0', '3'],\n ['113', '0', '3'],\n ['38', '1', '2'],\n ['38', '1', '2'],\n ['38', '1', '2'],\n ['38', '1', '2'],\n ['38', '1', '2'],\n ['38', '1', '2'],\n ['38', '1', '2'],\n ['71', '0', '24'],\n ['75', '0', '2'],\n ['75', '1', '2'],\n ['75', '1', '2'],\n ['345', '0', '4'],\n ['345', '0', '4'],\n ['345', '0', '4'],\n ['59', '0', '2'],\n ['59', '0', '2'],\n ['59', '0', '2'],\n ['162', '0', '24'],\n ['162', '0', '24'],\n ['162', '0', '24'],\n ['162', '0', '24'],\n ['162', '0', '24'],\n ['162', '0', '24'],\n ['162', '0', '24'],\n ['162', '0', '24'],\n ['162', '0', '24'],\n ['47', '0', '7'],\n ['47', '0', '7'],\n ['47', '1', '7'],\n ['47', '0', '7'],\n ['47', '0', '7'],\n ['47', '0', '7'],\n ['47', '0', '7'],\n ['47', '1', '7'],\n ['55', '0', '2'],\n ['55', '0', '2'],\n ['55', '0', '2'],\n ['55', '0', '2'],\n ['55', '0', '2'],\n ['55', '0', '2'],\n ['119', '0', '2'],\n ['119', '0', '2'],\n ['119', '0', '2'],\n ['119', '0', '2'],\n ['80', '1', '2'],\n ['80', '1', '2'],\n ['72', '0', '18'],\n ['72', '1', '18'],\n ['72', '1', '18'],\n ['72', '1', '18'],\n ['35', '0', '2'],\n ['35', '0', '2'],\n ['35', '0', '2'],\n ['78', '0', '2'],\n ['78', '0', '2'],\n ['78', '0', '2'],\n ['78', '0', '2'],\n ['124', '0', '2'],\n ['124', '0', '2'],\n ['124', '0', '2'],\n ['124', '0', '2'],\n ['124', '0', '2'],\n ['408', '1', '2'],\n ['408', '1', '2'],\n ['408', '1', '2'],\n ['408', '1', '2'],\n ['408', '1', '2'],\n ['408', '1', '2'],\n ['408', '1', '2'],\n ['172', '1', '2'],\n ['52', '0', '2'],\n ['52', '0', '2'],\n ...]"
          },
          "execution_count": 33,
          "metadata": {}
        }
      ],
      "metadata": {
        "jupyter": {
          "source_hidden": false,
          "outputs_hidden": true
        },
        "nteract": {
          "transient": {
            "deleting": false
          }
        }
      },
      "source": [
        "results[1:]"
      ]
    },
    {
      "cell_type": "markdown",
      "metadata": {
        "nteract": {
          "transient": {
            "deleting": false
          }
        }
      },
      "source": [
        "### Create a dataframe from the results\r\n",
        "What I can do next is to create a dataframe.  Dataframes are resultsets that you can work with.  Once we have the data in a dataframe, we can manipulate it further:  summarizes, filtering, even writing it to disk.\r\n",
        "\r\n",
        "There are different ways to create a dataframe.  In this case, I pass in the data as an array of arrays as data and array of strings as the column header.\r\n",
        ""
      ]
    },
    {
      "cell_type": "code",
      "execution_count": 6,
      "outputs": [
        {
          "output_type": "display_data",
          "data": {
            "application/vnd.livy.statement-meta+json": {
              "spark_pool": "Main",
              "session_id": "18",
              "statement_id": 6,
              "state": "finished",
              "livy_statement_state": "available",
              "queued_time": "2023-03-18T18:33:44.527079Z",
              "session_start_time": null,
              "execution_start_time": "2023-03-18T18:33:44.6756976Z",
              "execution_finish_time": "2023-03-18T18:34:16.1870009Z",
              "spark_jobs": null,
              "parent_msg_id": "566e4e1a-6ac2-4a87-945e-566600085080"
            },
            "text/plain": "StatementMeta(Main, 18, 6, Finished, Available)"
          },
          "metadata": {}
        },
        {
          "output_type": "stream",
          "name": "stdout",
          "text": [
            "+----+-------+---------+\n|WGTP|FHICOVP|HHLDRHISP|\n+----+-------+---------+\n| 283|      0|        3|\n|  31|      0|        2|\n|  31|      0|        2|\n|  31|      0|        2|\n|  82|      0|        2|\n|  82|      0|        2|\n| 170|      0|        2|\n| 170|      1|        2|\n| 170|      1|        2|\n| 170|      1|        2|\n| 170|      1|        2|\n| 137|      0|        2|\n| 137|      0|        2|\n| 137|      0|        2|\n| 137|      0|        2|\n| 137|      0|        2|\n| 484|      0|        3|\n| 115|      0|       11|\n| 115|      0|       11|\n| 108|      0|        2|\n+----+-------+---------+\nonly showing top 20 rows\n\n"
          ]
        }
      ],
      "metadata": {
        "jupyter": {
          "source_hidden": false,
          "outputs_hidden": true
        },
        "nteract": {
          "transient": {
            "deleting": false
          }
        }
      },
      "source": [
        "df = spark.createDataFrame(results[1:], results[0])\r\n",
        "df.show()"
      ]
    },
    {
      "cell_type": "code",
      "execution_count": 7,
      "outputs": [
        {
          "output_type": "display_data",
          "data": {
            "application/vnd.livy.statement-meta+json": {
              "spark_pool": "Main",
              "session_id": "18",
              "statement_id": 7,
              "state": "finished",
              "livy_statement_state": "available",
              "queued_time": "2023-03-18T18:34:47.3973671Z",
              "session_start_time": null,
              "execution_start_time": "2023-03-18T18:34:47.5258956Z",
              "execution_finish_time": "2023-03-18T18:34:49.4703818Z",
              "spark_jobs": null,
              "parent_msg_id": "25fbfb13-e485-464d-bcdd-76c07cf64625"
            },
            "text/plain": "StatementMeta(Main, 18, 7, Finished, Available)"
          },
          "metadata": {}
        },
        {
          "output_type": "display_data",
          "data": {
            "application/vnd.synapse.widget-view+json": {
              "widget_id": "5a63b32a-af9d-4cd1-93c3-4b9940dcaebd",
              "widget_type": "Synapse.DataFrame"
            },
            "text/plain": "SynapseWidget(Synapse.DataFrame, 5a63b32a-af9d-4cd1-93c3-4b9940dcaebd)"
          },
          "metadata": {}
        }
      ],
      "metadata": {
        "jupyter": {
          "source_hidden": false,
          "outputs_hidden": true
        },
        "nteract": {
          "transient": {
            "deleting": false
          }
        },
        "collapsed": false
      },
      "source": [
        "display(df)"
      ]
    },
    {
      "cell_type": "markdown",
      "metadata": {
        "nteract": {
          "transient": {
            "deleting": false
          }
        }
      },
      "source": [
        "### Run basic group by query\r\n",
        ""
      ]
    },
    {
      "cell_type": "code",
      "execution_count": 46,
      "outputs": [
        {
          "output_type": "display_data",
          "data": {
            "application/vnd.livy.statement-meta+json": {
              "spark_pool": "Main",
              "session_id": "10",
              "statement_id": 33,
              "state": "finished",
              "livy_statement_state": "available",
              "queued_time": "2023-03-11T17:26:19.3452619Z",
              "session_start_time": null,
              "execution_start_time": "2023-03-11T17:26:19.5107495Z",
              "execution_finish_time": "2023-03-11T17:26:19.6734033Z",
              "spark_jobs": null,
              "parent_msg_id": "1b17edb9-de8b-4b26-913e-f787285294f3"
            },
            "text/plain": "StatementMeta(Main, 10, 33, Finished, Available)"
          },
          "metadata": {}
        },
        {
          "output_type": "stream",
          "name": "stdout",
          "text": [
            "root\n |-- WGTP: string (nullable = true)\n |-- FHICOVP: string (nullable = true)\n |-- HHLDRHISP: string (nullable = true)\n\n"
          ]
        }
      ],
      "metadata": {
        "jupyter": {
          "source_hidden": false,
          "outputs_hidden": false
        },
        "nteract": {
          "transient": {
            "deleting": false
          }
        }
      },
      "source": [
        "df.printSchema()"
      ]
    },
    {
      "cell_type": "code",
      "execution_count": 48,
      "outputs": [
        {
          "output_type": "display_data",
          "data": {
            "application/vnd.livy.statement-meta+json": {
              "spark_pool": "Main",
              "session_id": "10",
              "statement_id": 35,
              "state": "finished",
              "livy_statement_state": "available",
              "queued_time": "2023-03-11T17:29:14.7930253Z",
              "session_start_time": null,
              "execution_start_time": "2023-03-11T17:29:14.9455022Z",
              "execution_finish_time": "2023-03-11T17:29:15.1197522Z",
              "spark_jobs": null,
              "parent_msg_id": "da48c973-a95d-4954-b2a5-6546c95eb494"
            },
            "text/plain": "StatementMeta(Main, 10, 35, Finished, Available)"
          },
          "metadata": {}
        }
      ],
      "metadata": {
        "jupyter": {
          "source_hidden": false,
          "outputs_hidden": false
        },
        "nteract": {
          "transient": {
            "deleting": false
          }
        }
      },
      "source": [
        "df2 = df.withColumn(\"WEIGHT\", col(\"WGTP\").cast(\"int\"))"
      ]
    },
    {
      "cell_type": "code",
      "execution_count": 51,
      "outputs": [
        {
          "output_type": "display_data",
          "data": {
            "application/vnd.livy.statement-meta+json": {
              "spark_pool": "Main",
              "session_id": "10",
              "statement_id": 38,
              "state": "finished",
              "livy_statement_state": "available",
              "queued_time": "2023-03-11T17:35:22.0448806Z",
              "session_start_time": null,
              "execution_start_time": "2023-03-11T17:35:22.2054919Z",
              "execution_finish_time": "2023-03-11T17:35:24.1312101Z",
              "spark_jobs": null,
              "parent_msg_id": "90807541-9b79-448d-9947-a6eb17b12f8c"
            },
            "text/plain": "StatementMeta(Main, 10, 38, Finished, Available)"
          },
          "metadata": {}
        },
        {
          "output_type": "stream",
          "name": "stdout",
          "text": [
            "+-------+---------+-----------+\n|FHICOVP|HHLDRHISP|sum(WEIGHT)|\n+-------+---------+-----------+\n|      0|        6|     124816|\n|      0|        4|    1840376|\n|      1|        4|     456848|\n|      1|       11|     517466|\n|      0|       19|     542239|\n|      0|        5|    1723195|\n|      0|       22|      34737|\n|      1|       15|      25226|\n|      1|       19|     143060|\n|      0|       20|      47834|\n|      0|       24|    1675994|\n|      1|        2|    6534539|\n|      1|       17|     169234|\n|      0|       18|      18637|\n|      0|       13|     235642|\n|      1|       20|      12465|\n|      1|        5|     482882|\n|      0|       10|     179540|\n|      0|       11|    1943507|\n|      0|       15|     138417|\n|      1|       16|     268721|\n|      1|       10|      46488|\n|      1|        3|    1086958|\n|      0|        3|    4072744|\n|      1|       23|     167014|\n|      1|       14|      18960|\n|      1|       12|       5203|\n|      1|        7|     297244|\n|      0|       12|      21557|\n|      0|       21|     509196|\n|      0|       23|     773298|\n|      1|       13|      46244|\n|      0|        2|   26942459|\n|      1|       24|     644463|\n|      0|        8|     825781|\n|      1|       18|       5923|\n|      1|        6|      37514|\n|      0|       16|    1044205|\n|      1|        9|      83087|\n|      1|        8|     185382|\n|      0|       17|     634325|\n|      0|        7|    1373969|\n|      1|       22|       4590|\n|      1|       21|     102876|\n|      0|        9|     353831|\n|      0|       14|     107115|\n+-------+---------+-----------+\n\n"
          ]
        }
      ],
      "metadata": {
        "jupyter": {
          "source_hidden": false,
          "outputs_hidden": false
        },
        "nteract": {
          "transient": {
            "deleting": false
          }
        }
      },
      "source": [
        "df2.groupBy(\"FHICOVP\",\"HHLDRHISP\").sum(\"WEIGHT\").show()"
      ]
    },
    {
      "cell_type": "markdown",
      "metadata": {
        "nteract": {
          "transient": {
            "deleting": false
          }
        }
      },
      "source": [
        "## PUMS metadata\r\n",
        "The Census Bureau has included some metadata to describe the columns, providing full description and value lists."
      ]
    },
    {
      "cell_type": "code",
      "execution_count": 8,
      "outputs": [
        {
          "output_type": "display_data",
          "data": {
            "application/vnd.livy.statement-meta+json": {
              "spark_pool": "Main",
              "session_id": "18",
              "statement_id": 8,
              "state": "finished",
              "livy_statement_state": "available",
              "queued_time": "2023-03-18T18:40:05.9247192Z",
              "session_start_time": null,
              "execution_start_time": "2023-03-18T18:40:06.0879008Z",
              "execution_finish_time": "2023-03-18T18:40:06.7412438Z",
              "spark_jobs": null,
              "parent_msg_id": "1fbda147-6be8-4488-aeea-af8dfbf8b35e"
            },
            "text/plain": "StatementMeta(Main, 18, 8, Finished, Available)"
          },
          "metadata": {}
        }
      ],
      "metadata": {
        "jupyter": {
          "source_hidden": false,
          "outputs_hidden": false
        },
        "nteract": {
          "transient": {
            "deleting": false
          }
        }
      },
      "source": [
        "queryURL = 'https://api.census.gov/data/2021/acs/acs1/pums/variables.json'\r\n",
        "headers = {\r\n",
        "    'content-type': \"application/json\"\r\n",
        "}\r\n",
        "body = json.dumps({\r\n",
        "})\r\n",
        "\r\n",
        "results = executeRestApi(\"get\", queryURL, headers, body)"
      ]
    },
    {
      "cell_type": "markdown",
      "metadata": {
        "nteract": {
          "transient": {
            "deleting": false
          }
        }
      },
      "source": [
        "### View the results\r\n",
        "The structure of this is very different. The whole is a single object with one property \"variables.\" variables is a dictionary, where the keys are the values that are used in the URL or in the get clause."
      ]
    },
    {
      "cell_type": "code",
      "execution_count": 9,
      "outputs": [
        {
          "output_type": "display_data",
          "data": {
            "application/vnd.livy.statement-meta+json": {
              "spark_pool": "Main",
              "session_id": "18",
              "statement_id": 9,
              "state": "finished",
              "livy_statement_state": "available",
              "queued_time": "2023-03-18T18:40:10.3848844Z",
              "session_start_time": null,
              "execution_start_time": "2023-03-18T18:40:10.5374658Z",
              "execution_finish_time": "2023-03-18T18:40:11.1949052Z",
              "spark_jobs": null,
              "parent_msg_id": "a2a9352a-b50f-493e-a03d-fb1d71788e0e"
            },
            "text/plain": "StatementMeta(Main, 18, 9, Finished, Available)"
          },
          "metadata": {}
        },
        {
          "output_type": "execute_result",
          "data": {
            "text/plain": "{'variables': {'for': {'label': \"Census API FIPS 'for' clause\",\n   'concept': 'Census API Geography Specification',\n   'predicateType': 'fips-for',\n   'group': 'N/A',\n   'limit': 0,\n   'predicateOnly': True},\n  'in': {'label': \"Census API FIPS 'in' clause\",\n   'concept': 'Census API Geography Specification',\n   'predicateType': 'fips-in',\n   'group': 'N/A',\n   'limit': 0,\n   'predicateOnly': True},\n  'ucgid': {'label': 'Uniform Census Geography Identifier clause',\n   'concept': 'Census API Geography Specification',\n   'predicateType': 'ucgid',\n   'group': 'N/A',\n   'limit': 0,\n   'predicateOnly': True},\n  'HHLANP': {'label': 'Detailed household language',\n   'predicateType': 'string',\n   'group': 'N/A',\n   'limit': 0,\n   'suggested-weight': 'WGTP',\n   'values': {'item': {'1210': 'Portuguese',\n     '1350': 'Hindi',\n     '2560': 'Japanese',\n     '5940': 'Fulah',\n     '1765': 'Tamil',\n     '1263': 'Slovak',\n     '1134': 'Afrikaans',\n     '1025': 'Other English-based Creole languages',\n     '1540': 'Other Indo-Iranian languages',\n     '2475': 'Lao',\n     '7039': 'Keres',\n     '2030': 'Min Nan Chinese',\n     '1970': 'Chinese',\n     '1737': 'Kannada',\n     '7050': 'Cherokee',\n     '1500': 'Nepali',\n     '2715': 'Malay',\n     '1900': 'Khmer',\n     '1130': 'Yiddish',\n     '1250': 'Russian',\n     '1525': 'Pakistan N.E.C.',\n     '1141': 'Danish',\n     '1262': 'Czech',\n     '1140': 'Swedish',\n     '1273': 'Bulgarian',\n     '2770': 'Indonesian',\n     '1276': 'Bosnian',\n     '1565': 'Finnish',\n     '3500': 'Tongan',\n     '1340': 'India N.E.C.',\n     '1582': 'Hungarian',\n     '6120': 'Akan (incl. Twi)',\n     '1000': 'Jamaican Creole English',\n     '3420': 'Samoan',\n     '1750': 'Malayalam',\n     '9999': 'Other and unspecified languages',\n     '6300': 'Edoid languages',\n     '1132': 'Dutch',\n     '6933': 'Navajo',\n     '1270': 'Polish',\n     '1420': 'Punjabi',\n     '6290': 'Yoruba',\n     '3190': 'Other Philippine languages',\n     '6500': 'Other Niger-Congo languages',\n     '1450': 'Gujarati',\n     '4830': 'Oromo',\n     '5525': 'Shona',\n     '6230': 'Gbe languages',\n     '9500': 'English only household',\n     '5950': 'Wolof',\n     '1069': 'Kabuverdianu',\n     '2050': 'Cantonese',\n     '6370': 'Igbo',\n     '1235': 'Greek',\n     '6800': 'Aleut languages',\n     '3150': 'Ilocano',\n     '3270': 'Marshallese',\n     '2575': 'Korean',\n     '1380': 'Bengali',\n     '1281': 'Lithuanian',\n     '7032': 'Muskogean languages',\n     '2270': 'Chin languages',\n     '2160': 'Burmese',\n     '4590': 'Amharic',\n     '1120': 'Swiss German',\n     '4640': 'Tigrinya',\n     '2850': 'Other languages of Asia',\n     '6795': 'Other languages of Africa',\n     '1142': 'Norwegian',\n     '2000': 'Mandarin',\n     '3570': 'Hawaiian',\n     '2910': 'Filipino',\n     '7300': 'Other Central and South American languages',\n     '1440': 'Marathi',\n     '3220': 'Chamorro',\n     '2920': 'Tagalog',\n     '1155': 'Italian',\n     '1292': 'Dari',\n     '1290': 'Farsi',\n     '1327': 'Pashto',\n     '4840': 'Somali',\n     '2950': 'Cebuano',\n     '7060': 'Uto-Aztecan languages',\n     'N': 'N/A (GQ/vacant)',\n     '4880': 'Other Afro-Asiatic languages',\n     '2100': 'Tibetan',\n     '1125': 'Pennsylvania German',\n     '5845': 'Manding languages',\n     '7124': 'Other Native North American languages',\n     '2350': 'Karen languages',\n     '3600': 'Other Eastern Malayo-Polynesian languages',\n     '5900': 'Other Mande languages',\n     '1278': 'Serbian',\n     '4545': 'Hebrew',\n     '2535': 'Hmong',\n     '1220': 'Romanian',\n     '1231': 'Irish',\n     '1242': 'Albanian',\n     '1360': 'Urdu',\n     '4500': 'Arabic',\n     '5345': 'Ganda',\n     '1274': 'Macedonian',\n     '6839': 'Ojibwa',\n     '2525': 'Iu Mien',\n     '1675': 'Turkish',\n     '7019': 'Dakota languages',\n     '4560': 'Assyrian Neo-Aramaic',\n     '1175': 'Cajun French',\n     '1690': 'Mongolian',\n     '1564': 'Other Indo-European languages',\n     '1200': 'Spanish',\n     '1288': 'Armenian',\n     '2430': 'Thai',\n     '1730': 'Telugu',\n     '4565': 'Chaldean Neo-Aramaic',\n     '1110': 'German',\n     '5150': 'Swahili',\n     '4900': 'Nilo-Saharan languages',\n     '6930': 'Apache languages',\n     '1260': 'Ukrainian',\n     '1530': 'Sinhala',\n     '1275': 'Serbocroatian',\n     '1283': 'Latvian',\n     '1315': 'Kurdish',\n     '1435': 'Konkani',\n     '1277': 'Croatian',\n     '6205': 'Ga',\n     '1055': 'Haitian',\n     '3350': 'Chuukese',\n     '1170': 'French',\n     '1960': 'Vietnamese',\n     '5645': 'Other Bantu languages'}}},\n  'FBATHP': {'label': 'Bathtub or shower allocation flag',\n   'predicateType': 'int',\n   'group': 'N/A',\n   'limit': 0,\n   'suggested-weight': 'WGTP',\n   'values': {'item': {'1': 'Yes', '0': 'No', '-1': 'N/A (GQ)'}}},\n  'DRIVESP': {'label': 'Number of vehicles calculated from JWRI',\n   'predicateType': 'int',\n   'group': 'N/A',\n   'limit': 0,\n   'suggested-weight': 'PWGTP',\n   'values': {'item': {'4': '0.250 vehicles (In a 4-person carpool)',\n     '6': '0.143 vehicles (In a 7-or-more person carpool)',\n     '5': '0.200 vehicles (In a 5- or 6-person carpool)',\n     '1': '1.000 vehicles (Drove alone)',\n     '3': '0.333 vehicles (In a 3-person carpool)',\n     '0': 'N/A (Nonworker or worker who does not drive to work)',\n     '2': '0.500 vehicles (In a 2-person carpool)'}}},\n  'WGTP23': {'label': 'Housing Weight replicate 23',\n   'predicateType': 'int',\n   'group': 'N/A',\n   'limit': 0,\n   'suggested-weight': 'WGTP',\n   'values': {'range': [{'min': '-9999',\n      'max': '9999',\n      'description': 'Integer weight of housing unit'}]}},\n  'WGTP22': {'label': 'Housing Weight replicate 22',\n   'predicateType': 'int',\n   'group': 'N/A',\n   'limit': 0,\n   'suggested-weight': 'WGTP',\n   'values': {'range': [{'min': '-9999',\n      'max': '9999',\n      'description': 'Integer weight of housing unit'}]}},\n  'WGTP25': {'label': 'Housing Weight replicate 25',\n   'predicateType': 'int',\n   'group': 'N/A',\n   'limit': 0,\n   'suggested-weight': 'WGTP',\n   'values': {'range': [{'min': '-9999',\n      'max': '9999',\n      'description': 'Integer weight of housing unit'}]}},\n  'WGTP24': {'label': 'Housing Weight replicate 24',\n   'predicateType': 'int',\n   'group': 'N/A',\n   'limit': 0,\n   'suggested-weight': 'WGTP',\n   'values': {'range': [{'min': '-9999',\n      'max': '9999',\n      'description': 'Integer weight of housing unit'}]}},\n  'RACNH': {'label': 'Native Hawaiian recode (Native Hawaiian alone or in combination with one or more other races)',\n   'predicateType': 'int',\n   'group': 'N/A',\n   'limit': 0,\n   'suggested-weight': 'PWGTP',\n   'values': {'item': {'1': 'Yes', '0': 'No'}}},\n  'WGTP21': {'label': 'Housing Weight replicate 21',\n   'predicateType': 'int',\n   'group': 'N/A',\n   'limit': 0,\n   'suggested-weight': 'WGTP',\n   'values': {'range': [{'min': '-9999',\n      'max': '9999',\n      'description': 'Integer weight of housing unit'}]}},\n  'FWATP': {'label': 'Water cost (yearly cost) allocation flag',\n   'predicateType': 'int',\n   'group': 'N/A',\n   'limit': 0,\n   'suggested-weight': 'WGTP',\n   'values': {'item': {'1': 'Yes', '-1': 'N/A (GQ)', '0': 'No'}}},\n  'WGTP20': {'label': 'Housing Weight replicate 20',\n   'predicateType': 'int',\n   'group': 'N/A',\n   'limit': 0,\n   'suggested-weight': 'WGTP',\n   'values': {'range': [{'min': '-9999',\n      'max': '9999',\n      'description': 'Integer weight of housing unit'}]}},\n  'WGTP27': {'label': 'Housing Weight replicate 27',\n   'predicateType': 'int',\n   'group': 'N/A',\n   'limit': 0,\n   'suggested-weight': 'WGTP',\n   'values': {'range': [{'min': '-9999',\n      'max': '9999',\n      'description': 'Integer weight of housing unit'}]}},\n  'WGTP26': {'label': 'Housing Weight replicate 26',\n   'predicateType': 'int',\n   'group': 'N/A',\n   'limit': 0,\n   'suggested-weight': 'WGTP',\n   'values': {'range': [{'min': '-9999',\n      'max': '9999',\n      'description': 'Integer weight of housing unit'}]}},\n  'WGTP29': {'label': 'Housing Weight replicate 29',\n   'predicateType': 'int',\n   'group': 'N/A',\n   'limit': 0,\n   'suggested-weight': 'WGTP',\n   'values': {'range': [{'min': '-9999',\n      'max': '9999',\n      'description': 'Integer weight of housing unit'}]}},\n  'WGTP28': {'label': 'Housing Weight replicate 28',\n   'predicateType': 'int',\n   'group': 'N/A',\n   'limit': 0,\n   'suggested-weight': 'WGTP',\n   'values': {'range': [{'min': '-9999',\n      'max': '9999',\n      'description': 'Integer weight of housing unit'}]}},\n  'FBROADBNDP': {'label': 'Cellular data plan for a smartphone or other mobile device allocation flag',\n   'predicateType': 'int',\n   'group': 'N/A',\n   'limit': 0,\n   'suggested-weight': 'WGTP',\n   'values': {'item': {'0': 'No', '-1': 'N/A (GQ)', '1': 'Yes'}}},\n  'FDRATXP': {'label': 'Disability rating checkbox allocation flag',\n   'predicateType': 'int',\n   'group': 'N/A',\n   'limit': 0,\n   'suggested-weight': 'PWGTP',\n   'values': {'item': {'0': 'No', '1': 'Yes'}}},\n  'FWKWNP': {'label': 'Weeks worked past 12 months allocation flag',\n   'predicateType': 'int',\n   'group': 'N/A',\n   'limit': 0,\n   'suggested-weight': 'PWGTP',\n   'values': {'item': {'0': 'No', '1': 'Yes'}}},\n  'HOTWAT': {'label': 'Water heater (Puerto Rico only)',\n   'predicateType': 'int',\n   'group': 'N/A',\n   'limit': 0,\n   'suggested-weight': 'WGTP',\n   'values': {'item': {'0': 'N/A (GQ)',\n     '1': 'Yes',\n     '9': 'Case is from the United States, HOTWAT not applicable',\n     '2': 'No'}}},\n  'FWKHP': {'label': 'Usual hours worked per week past 12 months allocation flag',\n   'predicateType': 'int',\n   'group': 'N/A',\n   'limit': 0,\n   'suggested-weight': 'PWGTP',\n   'values': {'item': {'0': 'No', '1': 'Yes'}}},\n  'FFULP': {'label': 'Fuel cost (yearly cost for fuels other than gas and electricity) allocation flag',\n   'predicateType': 'int',\n   'group': 'N/A',\n   'limit': 0,\n   'suggested-weight': 'WGTP',\n   'values': {'item': {'1': 'Yes', '0': 'No', '-1': 'N/A (GQ)'}}},\n  'WORKSTAT': {'label': 'Work status of householder or spouse in family households',\n   'predicateType': 'int',\n   'group': 'N/A',\n   'limit': 0,\n   'suggested-weight': 'WGTP',\n   'values': {'item': {'07': 'Husband not in labor force, wife in labor force, wife employed or in Armed Forces',\n     '02': 'Husband and wife both in labor force, husband employed or in Armed Forces, wife unemployed',\n     '10': 'male householder with no wife present, householder in labor force, employed or in Armed Forces',\n     '05': 'Husband and wife both in labor force, husband unemployed, wife unemployed',\n     '04': 'Husband and wife both in labor force, husband unemployed, wife employed or in Armed Forces',\n     '06': 'Husband in labor force, husband unemployed, wife not in labor force',\n     '08': 'Husband not in labor force, wife in labor force, wife unemployed',\n     '15': 'female householder with no husband present, householder not in labor force',\n     '11': 'male householder with no wife present, householder in labor force and unemployed',\n     '09': 'Neither husband nor wife in labor force',\n     '0': 'N/A (GQ/not a family household/same-sex married-couple families)',\n     '14': 'female householder with no husband present, householder in labor force and unemployed',\n     '13': 'female householder with no husband present, householder in labor force, employed or in Armed Forces',\n     '01': 'Husband and wife both in labor force, both employed or in Armed Forces',\n     '03': 'Husband in labor force and wife not in labor force, husband employed or in Armed Forces',\n     '12': 'male householder with no wife present, householder not in labor force'}}},\n  'FRACP': {'label': 'Detailed race allocation flag',\n   'predicateType': 'int',\n   'group': 'N/A',\n   'limit': 0,\n   'suggested-weight': 'PWGTP',\n   'values': {'item': {'0': 'No', '1': 'Yes'}}},\n  'FJWDP': {'label': 'Time of departure to work allocation flag',\n   'predicateType': 'int',\n   'group': 'N/A',\n   'limit': 0,\n   'suggested-weight': 'PWGTP',\n   'values': {'item': {'0': 'No', '1': 'Yes'}}},\n  'WGTP34': {'label': 'Housing Weight replicate 34',\n   'predicateType': 'int',\n   'group': 'N/A',\n   'limit': 0,\n   'suggested-weight': 'WGTP',\n   'values': {'range': [{'min': '-9999',\n      'max': '9999',\n      'description': 'Integer weight of housing unit'}]}},\n  'WGTP33': {'label': 'Housing Weight replicate 33',\n   'predicateType': 'int',\n   'group': 'N/A',\n   'limit': 0,\n   'suggested-weight': 'WGTP',\n   'values': {'range': [{'min': '-9999',\n      'max': '9999',\n      'description': 'Integer weight of housing unit'}]}},\n  'WGTP36': {'label': 'Housing Weight replicate 36',\n   'predicateType': 'int',\n   'group': 'N/A',\n   'limit': 0,\n   'suggested-weight': 'WGTP',\n   'values': {'range': [{'min': '-9999',\n      'max': '9999',\n      'description': 'Integer weight of housing unit'}]}},\n  'PINCP': {'label': \"Total person's income (signed, use ADJINC to adjust to constant dollars)\",\n   'predicateType': 'int',\n   'group': 'N/A',\n   'limit': 0,\n   'suggested-weight': 'PWGTP',\n   'values': {'item': {'-19999': 'N/A (less than 15 years old)',\n     '-19998': 'Loss of $19998 or more (Rounded and bottom-coded components)',\n     '0': 'None'},\n    'range': [{'min': '-19997',\n      'max': '-1',\n      'description': 'Loss $1 to $19997 (Rounded components)'},\n     {'min': '1',\n      'max': '4209995',\n      'description': '$1 to $4209995 (Rounded and top-coded components)'}]}},\n  'WGTP35': {'label': 'Housing Weight replicate 35',\n   'predicateType': 'int',\n   'group': 'N/A',\n   'limit': 0,\n   'suggested-weight': 'WGTP',\n   'values': {'range': [{'min': '-9999',\n      'max': '9999',\n      'description': 'Integer weight of housing unit'}]}},\n  'FPOBP': {'label': 'Place of birth allocation flag',\n   'predicateType': 'int',\n   'group': 'N/A',\n   'limit': 0,\n   'suggested-weight': 'PWGTP',\n   'values': {'item': {'1': 'Yes', '0': 'No'}}},\n  'WGTP30': {'label': 'Housing Weight replicate 30',\n   'predicateType': 'int',\n   'group': 'N/A',\n   'limit': 0,\n   'suggested-weight': 'WGTP',\n   'values': {'range': [{'min': '-9999',\n      'max': '9999',\n      'description': 'Integer weight of housing unit'}]}},\n  'WGTP32': {'label': 'Housing Weight replicate 32',\n   'predicateType': 'int',\n   'group': 'N/A',\n   'limit': 0,\n   'suggested-weight': 'WGTP',\n   'values': {'range': [{'min': '-9999',\n      'max': '9999',\n      'description': 'Integer weight of housing unit'}]}},\n  'STOV': {'label': 'Stove or range',\n   'predicateType': 'int',\n   'group': 'N/A',\n   'limit': 0,\n   'suggested-weight': 'WGTP',\n   'values': {'item': {'2': 'No', '0': 'N/A (GQ)', '1': 'Yes'}}},\n  'FMHP': {'label': 'Mobile home costs (yearly amount) allocation flag',\n   'predicateType': 'int',\n   'group': 'N/A',\n   'limit': 0,\n   'suggested-weight': 'WGTP',\n   'values': {'item': {'0': 'No', '-1': 'N/A (GQ)', '1': 'Yes'}}},\n  'WGTP31': {'label': 'Housing Weight replicate 31',\n   'predicateType': 'int',\n   'group': 'N/A',\n   'limit': 0,\n   'suggested-weight': 'WGTP',\n   'values': {'range': [{'min': '-9999',\n      'max': '9999',\n      'description': 'Integer weight of housing unit'}]}},\n  'RACAIAN': {'label': 'American Indian and Alaska Native recode (American Indian and Alaska Native alone or in combination with one or more other races)',\n   'predicateType': 'int',\n   'group': 'N/A',\n   'limit': 0,\n   'suggested-weight': 'PWGTP',\n   'values': {'item': {'1': 'Yes', '0': 'No'}}},\n  'WGTP38': {'label': 'Housing Weight replicate 38',\n   'predicateType': 'int',\n   'group': 'N/A',\n   'limit': 0,\n   'suggested-weight': 'WGTP',\n   'values': {'range': [{'min': '-9999',\n      'max': '9999',\n      'description': 'Integer weight of housing unit'}]}},\n  'WGTP37': {'label': 'Housing Weight replicate 37',\n   'predicateType': 'int',\n   'group': 'N/A',\n   'limit': 0,\n   'suggested-weight': 'WGTP',\n   'values': {'range': [{'min': '-9999',\n      'max': '9999',\n      'description': 'Integer weight of housing unit'}]}},\n  'WGTP39': {'label': 'Housing Weight replicate 39',\n   'predicateType': 'int',\n   'group': 'N/A',\n   'limit': 0,\n   'suggested-weight': 'WGTP',\n   'values': {'range': [{'min': '-9999',\n      'max': '9999',\n      'description': 'Integer weight of housing unit'}]}},\n  'PUBCOV': {'label': 'Public health coverage recode',\n   'predicateType': 'int',\n   'group': 'N/A',\n   'limit': 0,\n   'suggested-weight': 'PWGTP',\n   'values': {'item': {'1': 'With public health coverage',\n     '2': 'Without public health coverage'}}},\n  'SRNT': {'label': 'Specified rental unit',\n   'predicateType': 'int',\n   'group': 'N/A',\n   'limit': 0,\n   'suggested-weight': 'WGTP',\n   'values': {'item': {'0': 'A single-family home on 10 or more acres.',\n     '-1': 'N/A (GQ,vacant units, except \"for-rent-only\" and \"rented, not occupied\"/owned or being bought)',\n     '1': 'A single-family home on less than 10 acres or any other type of building, including mobile homes, with no regard to acreage.'}}},\n  'SEX': {'label': 'Sex',\n   'predicateType': 'int',\n   'group': 'N/A',\n   'limit': 0,\n   'suggested-weight': 'PWGTP',\n   'values': {'item': {'1': 'Male', '2': 'Female'}}},\n  'WGTP45': {'label': 'Housing Weight replicate 45',\n   'predicateType': 'int',\n   'group': 'N/A',\n   'limit': 0,\n   'suggested-weight': 'WGTP',\n   'values': {'range': [{'min': '-9999',\n      'max': '9999',\n      'description': 'Integer weight of housing unit'}]}},\n  'WGTP44': {'label': 'Housing Weight replicate 44',\n   'predicateType': 'int',\n   'group': 'N/A',\n   'limit': 0,\n   'suggested-weight': 'WGTP',\n   'values': {'range': [{'min': '-9999',\n      'max': '9999',\n      'description': 'Integer weight of housing unit'}]}},\n  'WGTP47': {'label': 'Housing Weight replicate 47',\n   'predicateType': 'int',\n   'group': 'N/A',\n   'limit': 0,\n   'suggested-weight': 'WGTP',\n   'values': {'range': [{'min': '-9999',\n      'max': '9999',\n      'description': 'Integer weight of housing unit'}]}},\n  'DOUT': {'label': 'Independent living difficulty',\n   'predicateType': 'int',\n   'group': 'N/A',\n   'limit': 0,\n   'suggested-weight': 'PWGTP',\n   'values': {'item': {'2': 'No',\n     '0': 'N/A (Less than 15 years old)',\n     '1': 'Yes'}}},\n  'FACCESSP': {'label': 'Access to the Internet allocation flag',\n   'predicateType': 'int',\n   'group': 'N/A',\n   'limit': 0,\n   'suggested-weight': 'WGTP',\n   'values': {'item': {'1': 'Yes', '0': 'No', '-1': 'N/A (GQ)'}}},\n  'WGTP46': {'label': 'Housing Weight replicate 46',\n   'predicateType': 'int',\n   'group': 'N/A',\n   'limit': 0,\n   'suggested-weight': 'WGTP',\n   'values': {'range': [{'min': '-9999',\n      'max': '9999',\n      'description': 'Integer weight of housing unit'}]}},\n  'WGTP41': {'label': 'Housing Weight replicate 41',\n   'predicateType': 'int',\n   'group': 'N/A',\n   'limit': 0,\n   'suggested-weight': 'WGTP',\n   'values': {'range': [{'min': '-9999',\n      'max': '9999',\n      'description': 'Integer weight of housing unit'}]}},\n  'WGTP40': {'label': 'Housing Weight replicate 40',\n   'predicateType': 'int',\n   'group': 'N/A',\n   'limit': 0,\n   'suggested-weight': 'WGTP',\n   'values': {'range': [{'min': '-9999',\n      'max': '9999',\n      'description': 'Integer weight of housing unit'}]}},\n  'OTHSVCEX': {'label': 'Other Internet service',\n   'predicateType': 'int',\n   'group': 'N/A',\n   'limit': 0,\n   'suggested-weight': 'WGTP',\n   'values': {'item': {'0': 'N/A (GQ/vacant/no paid access to the internet)',\n     '1': 'Yes',\n     '2': 'No'}}},\n  'WGTP43': {'label': 'Housing Weight replicate 43',\n   'predicateType': 'int',\n   'group': 'N/A',\n   'limit': 0,\n   'suggested-weight': 'WGTP',\n   'values': {'range': [{'min': '-9999',\n      'max': '9999',\n      'description': 'Integer weight of housing unit'}]}},\n  'WGTP42': {'label': 'Housing Weight replicate 42',\n   'predicateType': 'int',\n   'group': 'N/A',\n   'limit': 0,\n   'suggested-weight': 'WGTP',\n   'values': {'range': [{'min': '-9999',\n      'max': '9999',\n      'description': 'Integer weight of housing unit'}]}},\n  'RACPI': {'label': 'Other Pacific Islander recode (Other Pacific Islander alone or in combination with one or more other races)',\n   'predicateType': 'int',\n   'group': 'N/A',\n   'limit': 0,\n   'suggested-weight': 'PWGTP',\n   'values': {'item': {'1': 'Yes', '0': 'No'}}},\n  'INDP': {'label': 'Industry recode for 2018 and later based on 2017 IND codes',\n   'predicateType': 'string',\n   'group': 'N/A',\n   'limit': 0,\n   'suggested-weight': 'PWGTP',\n   'values': {'item': {'9390': 'ADM-Other General Government And Support',\n     '2090': 'MFG-Miscellaneous Petroleum And Coal Products',\n     '2770': 'MFG-Foundries',\n     '8191': 'MED-General Medical And Surgical Hospitals, And Specialty (Except Psychiatric And Substance Abuse) Hospitals',\n     '3990': 'MFG-Not Specified Manufacturing Industries',\n     '5490': 'RET-Used Merchandise Stores',\n     '4170': 'WHL-Professional And Commercial Equipment And Supplies Merchant Wholesalers',\n     '7680': 'PRF-Investigation And Security Services',\n     '4980': 'RET-Specialty Food Stores',\n     '9070': 'SRV-Drycleaning And Laundry Services',\n     '2680': 'MFG-Aluminum Production And Processing',\n     '4870': 'RET-Building Material And Supplies Dealers',\n     '6490': 'INF-Software Publishers',\n     '0270': 'AGR-Logging',\n     '9080': 'SRV-Funeral Homes, And Cemeteries And Crematories',\n     '5295': 'RET-Musical Instrument And Supplies Stores',\n     '8680': 'ENT-Restaurants And Other Food Services',\n     '1490': 'MFG-Textile And Fabric Finishing And Fabric Coating Mills',\n     '5170': 'RET-Clothing Stores',\n     '6270': 'TRN-Pipeline Transportation',\n     '7370': 'PRF-Specialized Design Services',\n     '1270': 'MFG-Bakeries And Tortilla, Except Retail Bakeries',\n     '2480': 'MFG-Clay Building Material And Refractories',\n     '6180': 'TRN-Bus Service And Urban Transit',\n     '3470': 'MFG-Household Appliance',\n     '7280': 'PRF-Accounting, Tax Preparation, Bookkeeping, And Payroll Services',\n     '1180': 'MFG-Animal Slaughtering And Processing',\n     '1190': 'MFG-Retail Bakeries',\n     '6090': 'TRN-Water Transportation',\n     '9480': 'ADM-Administration Of Human Resource Programs',\n     '9490': 'ADM-Administration Of Environmental Quality And Housing Programs',\n     '9370': 'ADM-Executive Offices And Legislative Bodies',\n     '8290': 'MED-Residential Care Facilities, Except Skilled Nursing Facilities',\n     '8980': 'SRV-Beauty Salons',\n     '8180': 'MED-Other Health Care Services',\n     '3180': 'MFG-Engine, Turbine, And Power Transmission Equipment',\n     '7780': 'PRF-Other Administrative And Other Support Services',\n     '2890': 'MFG-Coating, Engraving, Heat Treating, And Allied Activities',\n     '7790': 'PRF-Waste Management And Remediation Services',\n     '3080': 'MFG-Construction, And Mining And Oil And Gas Field Machinery',\n     '2670': 'MFG-Iron And Steel Mills And Steel Product',\n     '5275': 'RET-Sporting Goods, And Hobby And Toy Stores',\n     '4972': 'RET-Convenience Stores',\n     '2570': 'MFG-Cement, Concrete, Lime, And Gypsum Product',\n     '1480': 'MFG-Fabric Mills, Except Knitting Mills',\n     'N': 'N/A (less than 16 years old/NILF who last worked more than 5 years ago or never worked)',\n     '8562': 'ENT-Spectator Sports',\n     '0280': 'AGR-Fishing, Hunting And Trapping',\n     '9090': 'SRV-Other Personal Services',\n     '3680': 'MFG-Ship And Boat Building',\n     '4770': 'RET-Furniture And Home Furnishings Stores',\n     '9670': 'MIL-U.S. Army',\n     '6290': 'TRN-Services Incidental To Transportation',\n     '0190': 'AGR-Forestry Except Logging',\n     '2490': 'MFG-Glass And Glass Product',\n     '5090': 'RET-Gasoline Stations',\n     '7270': 'PRF-Legal Services',\n     '1170': 'MFG-Dairy Product',\n     '2270': 'MFG-Paint, Coating, And Adhesive',\n     '1070': 'MFG-Animal Food, Grain And Oilseed Milling',\n     '3490': 'MFG-Electric Lighting And Electrical Equipment, And Other Electrical Component, N.E.C.',\n     '1080': 'MFG-Sugar And Confectionery Products',\n     '5680': 'RET-Fuel Dealers',\n     '6770': 'INF-Libraries And Archives',\n     '7980': 'MED-Offices Of Dentists',\n     '2170': 'MFG-Resin, Synthetic Rubber, And Fibers And Filaments',\n     '5690': 'RET-Other Direct Selling Establishments',\n     '6780': 'INF-Other Information Services, Except Libraries And Archives, And Internet Publishing And Broadcasting And Web Search Portals',\n     '7870': 'EDU-Colleges, Universities, And Professional Schools, Including Junior Colleges',\n     '1770': 'MFG-Footwear',\n     '7071': 'FIN-Lessors Of Real Estate, And Offices Of Real Estate Agents And Brokers',\n     '2070': 'MFG-Petroleum Refining',\n     '6672': 'INF-Internet Publishing And Broadcasting And Web Search Portals',\n     '0570': 'UTL-Electric Power Generation, Transmission And Distribution',\n     '9380': 'ADM-Public Finance Activities',\n     '6680': 'INF-Wired Telecommunications Carriers',\n     '4380': 'WHL-Drugs, Sundries, And Chemical And Allied Products Merchant Wholesalers',\n     '8990': 'SRV-Nail Salons And Other Personal Care Services',\n     '8070': 'MED-Offices Of Optometrists',\n     '1570': 'MFG-Carpet And Rug Mills',\n     '1691': 'MFG-Cut And Sew, And Apparel Accessories And Other Apparel',\n     '9170': 'SRV-Civic, Social, Advocacy Organizations, And Grantmaking And Giving Services',\n     '8770': 'SRV-Automotive Repair And Maintenance',\n     '6590': 'INF-Sound Recording Industries',\n     '0380': 'EXT-Coal Mining',\n     '9770': 'MIL-U.S. Marines',\n     '4890': 'RET-Lawn And Garden Equipment And Supplies Stores',\n     '0170': 'AGR-Crop Production',\n     '8570': 'ENT-Museums, Art Galleries, Historical Sites, And Similar Institutions',\n     '2590': 'MFG-Miscellaneous Nonmetallic Mineral Product',\n     '0290': 'AGR-Support Activities For Agriculture And Forestry',\n     '5190': 'RET-Jewelry, Luggage, And Leather Goods Stores',\n     '5070': 'RET-Pharmacies And Drug Stores',\n     '3580': 'MFG-Aircraft And Parts',\n     '4680': 'RET-Other Motor Vehicle Dealers',\n     '6992': 'FIN-Agencies, Brokerages, And Other Insurance Related Activities',\n     '2390': 'MFG-Rubber Products, Except Tires',\n     '5790': 'RET-Not Specified Retail Trade',\n     '7970': 'MED-Offices Of Physicians',\n     '6880': 'FIN-Savings Institutions, Including Credit Unions',\n     '4590': 'WHL-Not Specified Wholesale Trade',\n     '6890': 'FIN-Nondepository Credit And Related Activities',\n     '7860': 'EDU-Elementary And Secondary Schools',\n     '1880': 'MFG-Paperboard Container',\n     '8390': 'SCA-Vocational Rehabilitation Services',\n     '2970': 'MFG-Ordnance',\n     '4370': 'WHL-Paper And Paper Products Merchant Wholesalers',\n     '0690': 'UTL-Not Specified Utilities',\n     '4490': 'WHL-Petroleum And Petroleum Products Merchant Wholesalers',\n     '0580': 'UTL-Natural Gas Distribution',\n     '3960': 'MFG-Medical Equipment And Supplies',\n     '6695': 'INF-Data Processing, Hosting, And Related Services',\n     '0470': 'EXT-Nonmetallic Mineral Mining And Quarrying',\n     '4390': 'WHL-Apparel, Piece Goods, And Notions Merchant Wholesalers',\n     '0490': 'EXT-Support Activities For Mining',\n     '3875': 'MFG-Miscellaneous Wood Products',\n     '1590': 'MFG-Textile Product Mills, Except Carpet And Rug',\n     '4195': 'WHL-Household Appliances And Electrical And Electronic Goods Merchant Wholesalers',\n     '5280': 'RET-Sewing, Needlework, And Piece Goods Stores',\n     '6370': 'TRN-Postal Service',\n     '7580': 'PRF-Employment Services',\n     '8563': 'ENT-Promoters Of Performing Arts, Sports, And Similar Events, Agents And Managers For Artists, Athletes, Entertainers, And Other Public Figures',\n     '3790': 'MFG-Prefabricated Wood Buildings And Mobile Homes',\n     '1370': 'MFG-Beverage',\n     '4080': 'WHL-Furniture And Home Furnishing Merchant Wholesalers',\n     '6380': 'TRN-Couriers And Messengers',\n     '2470': 'MFG-Pottery, Ceramics, And Plumbing Fixture',\n     '4780': 'RET-Household Appliance Stores',\n     '3570': 'MFG-Motor Vehicles And Motor Vehicle Equipment',\n     '2370': 'MFG-Plastics Product',\n     '8470': 'SCA-Child Day Care Services',\n     '7390': 'PRF-Management, Scientific, And Technical Consulting Services',\n     '8370': 'SCA-Individual And Family Services',\n     '1990': 'MFG-Printing And Related Support Activities',\n     '3370': 'MFG-Communications, Audio, And Video Equipment',\n     '0770': 'CON-Construction (The Cleaning Of Buildings And Dwellings Is Incidental During Construction And Immediately After Construction)',\n     '2290': 'MFG-Industrial And Miscellaneous Chemicals',\n     '7181': 'FIN-Other Consumer Goods Rental',\n     '1090': 'MFG-Fruit And Vegetable Preserving And Specialty Food',\n     '3170': 'MFG-Metalworking Machinery',\n     '7770': 'PRF-Landscaping Services',\n     '4265': 'WHL-Hardware, And Plumbing And Heating Equipment, And Supplies Merchant Wholesalers',\n     '3970': 'MFG-Sporting And Athletic Goods, And Doll, Toy And Game',\n     '6690': 'INF-Telecommunications, Except Wired Telecommunications Carriers',\n     '5480': 'RET-Office Supplies And Stationery Stores',\n     '9290': 'SRV-Private Households',\n     '4280': 'WHL-Recyclable Material Merchant Wholesalers',\n     '8891': 'SRV-Personal And Household Goods Repair And Maintenance',\n     '8780': 'SRV-Car Washes',\n     '3095': 'MFG-Commercial And Service Industry Machinery',\n     '4990': 'RET-Beer, Wine, And Liquor Stores',\n     '0390': 'EXT-Metal Ore Mining',\n     '4070': 'WHL-Motor Vehicle And Motor Vehicle Parts And Supplies Merchant Wholesalers',\n     '3895': 'MFG-Furniture And Related Product',\n     '8561': 'ENT-Performing Arts Companies',\n     '5080': 'RET-Health And Personal Care, Except Drug, Stores',\n     '7380': 'PRF-Computer Systems Design And Related Services',\n     '8590': 'ENT-Other Amusement, Gambling, And Recreation Industries',\n     '9680': 'MIL-U.S. Air Force',\n     '3590': 'MFG-Aerospace Products And Parts',\n     '9690': 'MIL-U.S. Navy',\n     '4690': 'RET-Automotive Parts, Accessories, And Tire Stores',\n     '4570': 'WHL-Farm Supplies Merchant Wholesalers',\n     '6991': 'FIN-Insurance Carriers',\n     '6070': 'TRN-Air Transportation',\n     '4585': 'WHL-Wholesale Electronic Markets And Agents And Brokers',\n     '1890': 'MFG-Miscellaneous Paper And Pulp Products',\n     '2870': 'MFG-Structural Metals, And Boiler, Tank, And Shipping Container',\n     '7080': 'FIN-Automotive Equipment Rental And Leasing',\n     '5470': 'RET-Florists',\n     '5593': 'RET-Electronic Shopping And Mail-Order Houses',\n     '8870': 'SRV-Commercial And Industrial Machinery And Equipment Repair And Maintenance',\n     '7670': 'PRF-Travel Arrangements And Reservation Services',\n     '5370': 'RET-Book Stores And News Dealers',\n     '4290': 'WHL-Miscellaneous Durable Goods Merchant Wholesalers',\n     '5381': 'RET-Department Stores',\n     '8090': 'MED-Outpatient Care Centers',\n     '8660': 'ENT-Traveler Accommodation',\n     '4180': 'WHL-Metals And Minerals, Except Petroleum, Merchant Wholesalers',\n     '5391': 'RET-General Merchandise Stores, Including Warehouse Clubs and Supercenters',\n     '8670': \"ENT-Recreational Vehicle Parks And Camps, And Rooming And Boarding Houses, Dormitories, And Workers' Camps\",\n     '7460': 'PRF-Scientific Research And Development Services',\n     '4880': 'RET-Hardware Stores',\n     '6390': 'TRN-Warehousing And Storage',\n     '3690': 'MFG-Other Transportation Equipment',\n     '7490': 'PRF-Other Professional, Scientific, And Technical Services',\n     '6970': 'FIN-Securities, Commodities, Funds, Trusts, And Other Financial Investments',\n     '8380': 'SCA-Community Food And Housing, And Emergency Services',\n     '4470': 'WHL-Grocery And Related Product Merchant Wholesalers',\n     '8270': 'MED-Nursing Care Facilities (Skilled Nursing Facilities)',\n     '7190': 'FIN-Commercial, Industrial, And Other Intangible Assets Rental And Leasing',\n     '5580': 'RET-Miscellaneous Retail Stores',\n     '7880': 'EDU-Business, Technical, And Trade Schools And Training',\n     '2190': 'MFG-Pharmaceutical And Medicine',\n     '6570': 'INF-Motion Pictures And Video Industries',\n     '9160': 'SRV-Religious Organizations',\n     '9870': 'MIL-Military Reserves Or National Guard',\n     '3770': 'MFG-Sawmills And Wood Preservation',\n     '1470': 'MFG-Fiber, Yarn, And Thread Mills',\n     '6480': 'INF-Periodical, Book, And Directory Publishers',\n     '7690': 'PRF-Services To Buildings And Dwellings (Except Cleaning During Construction And Immediately After Construction)',\n     '9190': 'SRV-Business, Professional, Political, And Similar Organizations',\n     '8790': 'SRV-Electronic And Precision Equipment Repair And Maintenance',\n     '8564': 'ENT-Independent Artists, Writers, And Performers',\n     '4090': 'WHL-Lumber And Other Construction Materials Merchant Wholesalers',\n     '5180': 'RET-Shoe Stores',\n     '8690': 'ENT-Drinking Places, Alcoholic Beverages',\n     '6280': 'TRN-Scenic And Sightseeing Transportation',\n     '1390': 'MFG-Tobacco',\n     '0180': 'AGR-Animal Production And Aquaculture',\n     '8580': 'ENT-Bowling Centers',\n     '9790': 'MIL-Armed Forces, Branch Not Specified',\n     '4670': 'RET-Automobile Dealers',\n     '4795': 'RET-Electronics Stores',\n     '2380': 'MFG-Tire',\n     '1290': 'MFG-Not Specified Food Industries',\n     '9570': 'ADM-Administration Of Economic Programs And Space Research',\n     '6870': 'FIN-Banking And Related Activities',\n     '5670': 'RET-Vending Machine Operators',\n     '6080': 'TRN-Rail Transportation',\n     '2280': 'MFG-Soap, Cleaning Compound, And Cosmetics',\n     '9920': 'Unemployed, With No Work Experience In The Last 5 Years Or Earlier Or Never Worked',\n     '7072': 'FIN-Real Estate Property Managers, Offices Of Real Estate Appraisers, And Other Activities Related To Real Estate',\n     '2990': 'MFG-Not Specified Metal Industries',\n     '1670': 'MFG-Knitting Fabric Mills, And Apparel Knitting Mills',\n     '2880': 'MFG-Machine Shops; Turned Product; Screw, Nut, And Bolt',\n     '1790': 'MFG-Leather And Hide Tanning And Finishing, And Other Leather And Allied Product',\n     '3980': 'MFG-Miscellaneous Manufacturing, N.E.C.',\n     '8192': 'MED-Psychiatric And Substance Abuse Hospitals',\n     '0590': 'UTL-Electric And Gas, And Other Combinations',\n     '4270': 'WHL-Machinery, Equipment, And Supplies Merchant Wholesalers',\n     '3070': 'MFG-Agricultural Implement',\n     '2780': 'MFG-Metal Forgings And Stampings',\n     '8080': 'MED-Offices Of Other Health Practitioners',\n     '4971': 'RET-Supermarkets and Other Grocery (Except Convenience) Stores',\n     '0370': 'EXT-Oil And Gas Extraction',\n     '9180': 'SRV-Labor Unions',\n     '2790': 'MFG-Cutlery And Hand Tool',\n     '6470': 'INF-Newspaper Publishers',\n     '7570': 'PRF-Management Of Companies And Enterprises',\n     '3780': 'MFG-Veneer, Plywood, And Engineered Wood Products',\n     '2690': 'MFG-Nonferrous Metal (Except Aluminum) Production And Processing',\n     '3670': 'MFG-Railroad Rolling Stock',\n     '7590': 'PRF-Business Support Services',\n     '7470': 'PRF-Advertising, Public Relations, And Related Services',\n     '7480': 'PRF-Veterinary Services',\n     '9780': 'MIL-U.S. Coast Guard',\n     '6170': 'TRN-Truck Transportation',\n     '1280': 'MFG-Seafood And Other Miscellaneous Foods, N.E.C.',\n     '4560': 'WHL-Alcoholic Beverages Merchant Wholesalers',\n     '3365': 'MFG-Computer And Peripheral Equipment',\n     '6190': 'TRN-Taxi And Limousine Service',\n     '4580': 'WHL-Miscellaneous Nondurable Goods Merchant Wholesalers',\n     '9590': 'ADM-National Security And International Affairs',\n     '7290': 'PRF-Architectural, Engineering, And Related Services',\n     '9470': 'ADM-Justice, Public Order, And Safety Activities',\n     '0670': 'UTL-Water, Steam, Air-Conditioning, And Irrigation Systems',\n     '3380': 'MFG-Navigational, Measuring, Electromedical, And Control Instruments',\n     '1870': 'MFG-Pulp, Paper, And Paperboard Mills',\n     '2180': 'MFG-Agricultural Chemical',\n     '3390': 'MFG-Electronic Component And Product, N.E.C.',\n     '4480': 'WHL-Farm Product Raw Material Merchant Wholesalers',\n     '7990': 'MED-Offices Of Chiropractors',\n     '5570': 'RET-Gift, Novelty, And Souvenir Shops',\n     '0680': 'UTL-Sewage Treatment Facilities',\n     '2980': 'MFG-Miscellaneous Fabricated Metal Products',\n     '6670': 'INF-Broadcasting (Except Internet)',\n     '8970': 'SRV-Barber Shops',\n     '8170': 'MED-Home Health Care Services',\n     '3291': 'MFG-Machinery, N.E.C. Or Not Specified',\n     '7890': 'EDU-Other Schools And Instruction, And Educational Support Services'}}},\n  'WGTP49': {'label': 'Housing Weight replicate 49',\n   'predicateType': 'int',\n   'group': 'N/A',\n   'limit': 0,\n   'suggested-weight': 'WGTP',\n   'values': {'range': [{'min': '-9999',\n      'max': '9999',\n      'description': 'Integer weight of housing unit'}]}},\n  'WGTP48': {'label': 'Housing Weight replicate 48',\n   'predicateType': 'int',\n   'group': 'N/A',\n   'limit': 0,\n   'suggested-weight': 'WGTP',\n   'values': {'range': [{'min': '-9999',\n      'max': '9999',\n      'description': 'Integer weight of housing unit'}]}},\n  'PRIVCOV': {'label': 'Private health insurance coverage recode',\n   'predicateType': 'int',\n   'group': 'N/A',\n   'limit': 0,\n   'suggested-weight': 'PWGTP',\n   'values': {'item': {'1': 'With private health insurance coverage',\n     '2': 'Without private health insurance coverage'}}},\n  'SFN': {'label': 'Subfamily number',\n   'predicateType': 'int',\n   'group': 'N/A',\n   'limit': 0,\n   'suggested-weight': 'PWGTP',\n   'values': {'item': {'3': 'In subfamily 3',\n     '0': 'N/A (GQ/not in a subfamily)',\n     '2': 'In subfamily 2',\n     '1': 'In subfamily 1',\n     '4': 'In subfamily 4'}}},\n  'FINTP': {'label': 'Interest, dividend, and net rental income allocation flag',\n   'predicateType': 'int',\n   'group': 'N/A',\n   'limit': 0,\n   'suggested-weight': 'PWGTP',\n   'values': {'item': {'0': 'No', '1': 'Yes'}}},\n  'HUPAC': {'label': 'HH presence and age of children',\n   'predicateType': 'int',\n   'group': 'N/A',\n   'limit': 0,\n   'suggested-weight': 'WGTP',\n   'values': {'item': {'4': 'No children',\n     '0': 'N/A (GQ/vacant)',\n     '2': 'With children 6 to 17 years only',\n     '1': 'With children under 6 years only',\n     '3': 'With children under 6 years and 6 to 17 years'}}},\n  'SFR': {'label': 'Subfamily relationship',\n   'predicateType': 'int',\n   'group': 'N/A',\n   'limit': 0,\n   'suggested-weight': 'PWGTP',\n   'values': {'item': {'2': 'Husband/wife with children',\n     '6': 'Child in a father-child subfamily',\n     '1': 'Husband/wife no children',\n     '5': 'Child in a mother-child subfamily',\n     '3': 'Parent in a one-parent subfamily',\n     '0': 'N/A (GQ/not in a subfamily)',\n     '4': 'Child in a married-couple subfamily'}}},\n  'WGTP50': {'label': 'Housing Weight replicate 50',\n   'predicateType': 'int',\n   'group': 'N/A',\n   'limit': 0,\n   'suggested-weight': 'WGTP',\n   'values': {'range': [{'min': '-9999',\n      'max': '9999',\n      'description': 'Integer weight of housing unit'}]}},\n  'FBLDP': {'label': 'Units in structure allocation flag',\n   'predicateType': 'int',\n   'group': 'N/A',\n   'limit': 0,\n   'suggested-weight': 'WGTP',\n   'values': {'item': {'0': 'No', '1': 'Yes', '-1': 'N/A (GQ)'}}},\n  'WGTP56': {'label': 'Housing Weight replicate 56',\n   'predicateType': 'int',\n   'group': 'N/A',\n   'limit': 0,\n   'suggested-weight': 'WGTP',\n   'values': {'range': [{'min': '-9999',\n      'max': '9999',\n      'description': 'Integer weight of housing unit'}]}},\n  'WGTP55': {'label': 'Housing Weight replicate 55',\n   'predicateType': 'int',\n   'group': 'N/A',\n   'limit': 0,\n   'suggested-weight': 'WGTP',\n   'values': {'range': [{'min': '-9999',\n      'max': '9999',\n      'description': 'Integer weight of housing unit'}]}},\n  'WGTP58': {'label': 'Housing Weight replicate 58',\n   'predicateType': 'int',\n   'group': 'N/A',\n   'limit': 0,\n   'suggested-weight': 'WGTP',\n   'values': {'range': [{'min': '-9999',\n      'max': '9999',\n      'description': 'Integer weight of housing unit'}]}},\n  'WGTP57': {'label': 'Housing Weight replicate 57',\n   'predicateType': 'int',\n   'group': 'N/A',\n   'limit': 0,\n   'suggested-weight': 'WGTP',\n   'values': {'range': [{'min': '-9999',\n      'max': '9999',\n      'description': 'Integer weight of housing unit'}]}},\n  'WGTP52': {'label': 'Housing Weight replicate 52',\n   'predicateType': 'int',\n   'group': 'N/A',\n   'limit': 0,\n   'suggested-weight': 'WGTP',\n   'values': {'range': [{'min': '-9999',\n      'max': '9999',\n      'description': 'Integer weight of housing unit'}]}},\n  'WGTP51': {'label': 'Housing Weight replicate 51',\n   'predicateType': 'int',\n   'group': 'N/A',\n   'limit': 0,\n   'suggested-weight': 'WGTP',\n   'values': {'range': [{'min': '-9999',\n      'max': '9999',\n      'description': 'Integer weight of housing unit'}]}},\n  'DEAR': {'label': 'Hearing difficulty',\n   'predicateType': 'int',\n   'group': 'N/A',\n   'limit': 0,\n   'suggested-weight': 'PWGTP',\n   'values': {'item': {'2': 'No', '1': 'Yes'}}},\n  'WGTP54': {'label': 'Housing Weight replicate 54',\n   'predicateType': 'int',\n   'group': 'N/A',\n   'limit': 0,\n   'suggested-weight': 'WGTP',\n   'values': {'range': [{'min': '-9999',\n      'max': '9999',\n      'description': 'Integer weight of housing unit'}]}},\n  'DIS': {'label': 'Disability recode',\n   'predicateType': 'int',\n   'group': 'N/A',\n   'limit': 0,\n   'suggested-weight': 'PWGTP',\n   'values': {'item': {'1': 'With a disability',\n     '2': 'Without a disability'}}},\n  'WGTP53': {'label': 'Housing Weight replicate 53',\n   'predicateType': 'int',\n   'group': 'N/A',\n   'limit': 0,\n   'suggested-weight': 'WGTP',\n   'values': {'range': [{'min': '-9999',\n      'max': '9999',\n      'description': 'Integer weight of housing unit'}]}},\n  'ACR': {'label': 'Lot size',\n   'predicateType': 'int',\n   'group': 'N/A',\n   'limit': 0,\n   'suggested-weight': 'WGTP',\n   'values': {'item': {'0': 'N/A (GQ/not a one-family house or mobile home)',\n     '1': 'House on less than one acre',\n     '2': 'House on one to less than ten acres',\n     '3': 'House on ten or more acres'}}},\n  'VACS': {'label': 'Vacancy status',\n   'predicateType': 'int',\n   'group': 'N/A',\n   'limit': 0,\n   'suggested-weight': 'WGTP',\n   'values': {'item': {'3': 'For sale only',\n     '0': 'N/A (GQ/occupied)',\n     '2': 'Rented, not occupied',\n     '6': 'For migrant workers',\n     '4': 'Sold, not occupied',\n     '7': 'Other vacant',\n     '5': 'For seasonal/recreational/occasional use',\n     '1': 'For Rent'}}},\n  'FINSP': {'label': 'Fire, hazard, flood insurance (yearly amount) allocation flag',\n   'predicateType': 'int',\n   'group': 'N/A',\n   'limit': 0,\n   'suggested-weight': 'WGTP',\n   'values': {'item': {'1': 'Yes', '-1': 'N/A (GQ)', '0': 'No'}}},\n  'WGTP59': {'label': 'Housing Weight replicate 59',\n   'predicateType': 'int',\n   'group': 'N/A',\n   'limit': 0,\n   'suggested-weight': 'WGTP',\n   'values': {'range': [{'min': '-9999',\n      'max': '9999',\n      'description': 'Integer weight of housing unit'}]}},\n  'FMILPP': {'label': 'Military periods of service allocation flag',\n   'predicateType': 'int',\n   'group': 'N/A',\n   'limit': 0,\n   'suggested-weight': 'PWGTP',\n   'values': {'item': {'1': 'Yes', '0': 'No'}}},\n  'MARHYP': {'label': 'Year last married',\n   'predicateType': 'int',\n   'group': 'N/A',\n   'limit': 0,\n   'suggested-weight': 'PWGTP',\n   'values': {'item': {'1977': '1977',\n     '2001': '2001',\n     '1985': '1985',\n     '2020': '2020',\n     '1965': '1965',\n     '1963': '1963',\n     '1981': '1981',\n     '1949': '1949',\n     '1948': '1948',\n     '1995': '1995',\n     '1994': '1994',\n     '1993': '1993',\n     '1958': '1958',\n     '1956': '1956',\n     '1962': '1962',\n     '2017': '2017',\n     '1976': '1976',\n     '1987': '1987',\n     '1984': '1984',\n     '1946': '1946',\n     '1954': '1954',\n     '1992': '1992',\n     '1975': '1975',\n     '1973': '1973',\n     '1979': '1979',\n     '1982': '1982',\n     '1947': '1947',\n     '1989': '1989',\n     '1998': '1998',\n     '2009': '2009',\n     '2003': '2003',\n     '1991': '1991',\n     '1964': '1964',\n     '2019': '2019',\n     '1990': '1990',\n     '1983': '1983',\n     '1945': '1945',\n     '2012': '2012',\n     '1953': '1953',\n     '2005': '2005',\n     '1999': '1999',\n     '2018': '2018',\n     '1972': '1972',\n     '1986': '1986',\n     '1997': '1997',\n     '1951': '1951',\n     '2006': '2006',\n     '1950': '1950',\n     '2021': '2021',\n     '2013': '2013',\n     '1968': '1968',\n     '1974': '1974',\n     '1943': '1943 or earlier (Bottom-coded)',\n     '1942': 'N/A (age less than 15 years; never married)',\n     '1980': '1980',\n     '1988': '1988',\n     '2010': '2010',\n     '2008': '2008',\n     '1952': '1952',\n     '1996': '1996',\n     '2007': '2007',\n     '2002': '2002',\n     '1961': '1961',\n     '1960': '1960',\n     '2014': '2014',\n     '1969': '1969',\n     '1967': '1967',\n     '1966': '1966',\n     '1971': '1971',\n     '1970': '1970',\n     '1978': '1978',\n     '2000': '2000',\n     '1944': '1944',\n     '2011': '2011',\n     '2004': '2004',\n     '1959': '1959',\n     '1957': '1957',\n     '1955': '1955',\n     '2016': '2016',\n     '2015': '2015'}}},\n  'ADJHSG': {'label': 'Adjustment factor for housing dollar amounts (6 implied decimal places)',\n   'predicateType': 'string',\n   'group': 'N/A',\n   'limit': 0,\n   'suggested-weight': 'WGTP',\n   'values': {'item': {'1000000': '2021 factor (1.000000)'}}},\n  'PAP': {'label': 'Public assistance income past 12 months (use ADJINC to adjust to constant dollars)',\n   'predicateType': 'int',\n   'group': 'N/A',\n   'limit': 0,\n   'suggested-weight': 'PWGTP',\n   'values': {'item': {'0': 'None', '-1': 'N/A (less than 15 years old)'},\n    'range': [{'min': '4',\n      'max': '30000',\n      'description': '$4 to $30000 (Rounded and top-coded)'}]}},\n  'WGTP7': {'label': 'Housing Weight replicate 7',\n   'predicateType': 'int',\n   'group': 'N/A',\n   'limit': 0,\n   'suggested-weight': 'WGTP',\n   'values': {'range': [{'min': '-9999',\n      'max': '9999',\n      'description': 'Integer weight of housing unit'}]}},\n  'PWGTP30': {'label': \"Person's Weight replicate 30\",\n   'predicateType': 'int',\n   'group': 'N/A',\n   'limit': 0,\n   'suggested-weight': 'PWGTP',\n   'values': {'range': [{'min': '-9999',\n      'max': '9999',\n      'description': 'Integer weight of person'}]}},\n  'WGTP6': {'label': 'Housing Weight replicate 6',\n   'predicateType': 'int',\n   'group': 'N/A',\n   'limit': 0,\n   'suggested-weight': 'WGTP',\n   'values': {'range': [{'min': '-9999',\n      'max': '9999',\n      'description': 'Integer weight of housing unit'}]}},\n  'PWGTP31': {'label': \"Person's Weight replicate 31\",\n   'predicateType': 'int',\n   'group': 'N/A',\n   'limit': 0,\n   'suggested-weight': 'PWGTP',\n   'values': {'range': [{'min': '-9999',\n      'max': '9999',\n      'description': 'Integer weight of person'}]}},\n  'WGTP5': {'label': 'Housing Weight replicate 5',\n   'predicateType': 'int',\n   'group': 'N/A',\n   'limit': 0,\n   'suggested-weight': 'WGTP',\n   'values': {'range': [{'min': '-9999',\n      'max': '9999',\n      'description': 'Integer weight of housing unit'}]}},\n  'HINCP': {'label': 'Household income (past 12 months, use ADJINC to adjust HINCP to constant dollars)',\n   'predicateType': 'int',\n   'group': 'N/A',\n   'limit': 0,\n   'suggested-weight': 'WGTP',\n   'values': {'item': {'-60000': 'N/A(GQ/vacant)',\n     '0': 'No household income',\n     '-59999': 'Loss of -$59,999 or more'},\n    'range': [{'min': '-59998',\n      'max': '-1',\n      'description': 'Loss of $1 to -$59,998'},\n     {'min': '1',\n      'max': '9999999',\n      'description': 'Total household income in dollars (Components are rounded)'}]}},\n  'PWGTP32': {'label': \"Person's Weight replicate 32\",\n   'predicateType': 'int',\n   'group': 'N/A',\n   'limit': 0,\n   'suggested-weight': 'PWGTP',\n   'values': {'range': [{'min': '-9999',\n      'max': '9999',\n      'description': 'Integer weight of person'}]}},\n  'WKWN': {'label': 'Weeks worked during past 12 months',\n   'predicateType': 'int',\n   'group': 'N/A',\n   'limit': 0,\n   'suggested-weight': 'PWGTP',\n   'values': {'item': {'0': 'N/A (less than 16 years old/did not work during the past 12 months)'},\n    'range': [{'min': '1',\n      'max': '52',\n      'description': '1 to 52 weeks worked during past 12 months'}]}},\n  'WGTP4': {'label': 'Housing Weight replicate 4',\n   'predicateType': 'int',\n   'group': 'N/A',\n   'limit': 0,\n   'suggested-weight': 'WGTP',\n   'values': {'range': [{'min': '-9999',\n      'max': '9999',\n      'description': 'Integer weight of housing unit'}]}},\n  'PWGTP33': {'label': \"Person's Weight replicate 33\",\n   'predicateType': 'int',\n   'group': 'N/A',\n   'limit': 0,\n   'suggested-weight': 'PWGTP',\n   'values': {'range': [{'min': '-9999',\n      'max': '9999',\n      'description': 'Integer weight of person'}]}},\n  'PWGTP34': {'label': \"Person's Weight replicate 34\",\n   'predicateType': 'int',\n   'group': 'N/A',\n   'limit': 0,\n   'suggested-weight': 'PWGTP',\n   'values': {'range': [{'min': '-9999',\n      'max': '9999',\n      'description': 'Integer weight of person'}]}},\n  'PWGTP35': {'label': \"Person's Weight replicate 35\",\n   'predicateType': 'int',\n   'group': 'N/A',\n   'limit': 0,\n   'suggested-weight': 'PWGTP',\n   'values': {'range': [{'min': '-9999',\n      'max': '9999',\n      'description': 'Integer weight of person'}]}},\n  'WGTP9': {'label': 'Housing Weight replicate 9',\n   'predicateType': 'int',\n   'group': 'N/A',\n   'limit': 0,\n   'suggested-weight': 'WGTP',\n   'values': {'range': [{'min': '-9999',\n      'max': '9999',\n      'description': 'Integer weight of housing unit'}]}},\n  'PWGTP36': {'label': \"Person's Weight replicate 36\",\n   'predicateType': 'int',\n   'group': 'N/A',\n   'limit': 0,\n   'suggested-weight': 'PWGTP',\n   'values': {'range': [{'min': '-9999',\n      'max': '9999',\n      'description': 'Integer weight of person'}]}},\n  'WGTP8': {'label': 'Housing Weight replicate 8',\n   'predicateType': 'int',\n   'group': 'N/A',\n   'limit': 0,\n   'suggested-weight': 'WGTP',\n   'values': {'range': [{'min': '-9999',\n      'max': '9999',\n      'description': 'Integer weight of housing unit'}]}},\n  'WGTP3': {'label': 'Housing Weight replicate 3',\n   'predicateType': 'int',\n   'group': 'N/A',\n   'limit': 0,\n   'suggested-weight': 'WGTP',\n   'values': {'range': [{'min': '-9999',\n      'max': '9999',\n      'description': 'Integer weight of housing unit'}]}},\n  'WGTP2': {'label': 'Housing Weight replicate 2',\n   'predicateType': 'int',\n   'group': 'N/A',\n   'limit': 0,\n   'suggested-weight': 'WGTP',\n   'values': {'range': [{'min': '-9999',\n      'max': '9999',\n      'description': 'Integer weight of housing unit'}]}},\n  'RACWHT': {'label': 'White recode (White alone or in combination with one or more other races)',\n   'predicateType': 'int',\n   'group': 'N/A',\n   'limit': 0,\n   'suggested-weight': 'PWGTP',\n   'values': {'item': {'1': 'Yes', '0': 'No'}}},\n  'WGTP1': {'label': 'Housing Weight replicate 1',\n   'predicateType': 'int',\n   'group': 'N/A',\n   'limit': 0,\n   'suggested-weight': 'WGTP',\n   'values': {'range': [{'min': '-9999',\n      'max': '9999',\n      'description': 'Integer weight of housing unit'}]}},\n  'GASP': {'label': 'Gas cost (monthly cost, use ADJHSG to adjust GASP to constant dollars)',\n   'predicateType': 'int',\n   'group': 'N/A',\n   'limit': 0,\n   'suggested-weight': 'WGTP',\n   'values': {'item': {'3': 'N/A (GQ/vacant/included in rent or in condo fee/included in electricity payment/no charge or gas not used)'},\n    'range': [{'min': '4',\n      'max': '9999',\n      'description': '$4 to $9999 (Rounded and top-coded)'}]}},\n  'PWGTP26': {'label': \"Person's Weight replicate 26\",\n   'predicateType': 'int',\n   'group': 'N/A',\n   'limit': 0,\n   'suggested-weight': 'PWGTP',\n   'values': {'range': [{'min': '-9999',\n      'max': '9999',\n      'description': 'Integer weight of person'}]}},\n  'PWGTP27': {'label': \"Person's Weight replicate 27\",\n   'predicateType': 'int',\n   'group': 'N/A',\n   'limit': 0,\n   'suggested-weight': 'PWGTP',\n   'values': {'range': [{'min': '-9999',\n      'max': '9999',\n      'description': 'Integer weight of person'}]}},\n  'PWGTP28': {'label': \"Person's Weight replicate 28\",\n   'predicateType': 'int',\n   'group': 'N/A',\n   'limit': 0,\n   'suggested-weight': 'PWGTP',\n   'values': {'range': [{'min': '-9999',\n      'max': '9999',\n      'description': 'Integer weight of person'}]}},\n  'PWGTP29': {'label': \"Person's Weight replicate 29\",\n   'predicateType': 'int',\n   'group': 'N/A',\n   'limit': 0,\n   'suggested-weight': 'PWGTP',\n   'values': {'range': [{'min': '-9999',\n      'max': '9999',\n      'description': 'Integer weight of person'}]}},\n  'FBDSP': {'label': 'Number of bedrooms allocation flag',\n   'predicateType': 'int',\n   'group': 'N/A',\n   'limit': 0,\n   'suggested-weight': 'WGTP',\n   'values': {'item': {'0': 'No', '-1': 'N/A (GQ)', '1': 'Yes'}}},\n  'FWKLP': {'label': 'Last worked allocation flag',\n   'predicateType': 'int',\n   'group': 'N/A',\n   'limit': 0,\n   'suggested-weight': 'PWGTP',\n   'values': {'item': {'0': 'No', '1': 'Yes'}}},\n  'FSCHP': {'label': 'School enrollment allocation flag',\n   'predicateType': 'int',\n   'group': 'N/A',\n   'limit': 0,\n   'suggested-weight': 'PWGTP',\n   'values': {'item': {'0': 'No', '1': 'Yes'}}},\n  'FMARHTP': {'label': 'Times married allocation flag',\n   'predicateType': 'int',\n   'group': 'N/A',\n   'limit': 0,\n   'suggested-weight': 'PWGTP',\n   'values': {'item': {'0': 'No', '1': 'Yes'}}},\n  'PWGTP20': {'label': \"Person's Weight replicate 20\",\n   'predicateType': 'int',\n   'group': 'N/A',\n   'limit': 0,\n   'suggested-weight': 'PWGTP',\n   'values': {'range': [{'min': '-9999',\n      'max': '9999',\n      'description': 'Integer weight of person'}]}},\n  'PWGTP21': {'label': \"Person's Weight replicate 21\",\n   'predicateType': 'int',\n   'group': 'N/A',\n   'limit': 0,\n   'suggested-weight': 'PWGTP',\n   'values': {'range': [{'min': '-9999',\n      'max': '9999',\n      'description': 'Integer weight of person'}]}},\n  'GRPIP': {'label': 'Gross rent as a percentage of household income past 12 months',\n   'predicateType': 'int',\n   'group': 'N/A',\n   'limit': 0,\n   'suggested-weight': 'WGTP',\n   'values': {'item': {'0': 'N/A (GQ/vacant/owned or being bought/occupied without rent payment/no household income)',\n     '101': '101 percent or more'},\n    'range': [{'min': '1',\n      'max': '100',\n      'description': '1 percent to 100 percent'}]}},\n  'PWGTP22': {'label': \"Person's Weight replicate 22\",\n   'predicateType': 'int',\n   'group': 'N/A',\n   'limit': 0,\n   'suggested-weight': 'PWGTP',\n   'values': {'range': [{'min': '-9999',\n      'max': '9999',\n      'description': 'Integer weight of person'}]}},\n  'PWGTP23': {'label': \"Person's Weight replicate 23\",\n   'predicateType': 'int',\n   'group': 'N/A',\n   'limit': 0,\n   'suggested-weight': 'PWGTP',\n   'values': {'range': [{'min': '-9999',\n      'max': '9999',\n      'description': 'Integer weight of person'}]}},\n  'PWGTP24': {'label': \"Person's Weight replicate 24\",\n   'predicateType': 'int',\n   'group': 'N/A',\n   'limit': 0,\n   'suggested-weight': 'PWGTP',\n   'values': {'range': [{'min': '-9999',\n      'max': '9999',\n      'description': 'Integer weight of person'}]}},\n  'PWGTP25': {'label': \"Person's Weight replicate 25\",\n   'predicateType': 'int',\n   'group': 'N/A',\n   'limit': 0,\n   'suggested-weight': 'PWGTP',\n   'values': {'range': [{'min': '-9999',\n      'max': '9999',\n      'description': 'Integer weight of person'}]}},\n  'JWTRNS': {'label': 'Means of transportation to work',\n   'predicateType': 'int',\n   'group': 'N/A',\n   'limit': 0,\n   'suggested-weight': 'PWGTP',\n   'values': {'item': {'11': 'Worked from home',\n     '07': 'Taxicab',\n     '02': 'Bus',\n     '05': 'Light rail, streetcar, or trolley',\n     '0': 'N/A (not a worker-not in the labor force, including persons under 16 years; unemployed; employed, with a job but not at work; Armed Forces, with a job but not at work)',\n     '12': 'Other method',\n     '04': 'Long-distance train or commuter rail',\n     '09': 'Bicycle',\n     '01': 'Car, truck, or van',\n     '03': 'Subway or elevated rail',\n     '06': 'Ferryboat',\n     '10': 'Walked',\n     '08': 'Motorcycle'}}},\n  'FOTHSVCEXP': {'label': 'Other Internet service allocation flag',\n   'predicateType': 'int',\n   'group': 'N/A',\n   'limit': 0,\n   'suggested-weight': 'WGTP',\n   'values': {'item': {'1': 'Yes', '0': 'No', '-1': 'N/A (GQ)'}}},\n  'FRNTMP': {'label': 'Meals included in rent allocation flag',\n   'predicateType': 'int',\n   'group': 'N/A',\n   'limit': 0,\n   'suggested-weight': 'WGTP',\n   'values': {'item': {'-1': 'N/A (GQ)', '1': 'Yes', '0': 'No'}}},\n  'CIT': {'label': 'Citizenship status',\n   'predicateType': 'int',\n   'group': 'N/A',\n   'limit': 0,\n   'suggested-weight': 'PWGTP',\n   'values': {'item': {'4': 'U.S. citizen by naturalization',\n     '1': 'Born in the United States',\n     '3': 'Born abroad of U.S. citizen parent or parents',\n     '5': 'Not a U.S. citizen',\n     '2': 'Born in Puerto Rico, Guam, the U.S. Virgin Islands, or Northern Marianas'}}},\n  'HHLDRAGEP': {'label': 'Age of the householder',\n   'predicateType': 'int',\n   'group': 'N/A',\n   'limit': 0,\n   'suggested-weight': 'WGTP',\n   'values': {'item': {'14': 'N/A (GQ/vacant)'},\n    'range': [{'min': '15',\n      'max': '99',\n      'description': '15 to 99 years (Top-coded)'}]}},\n  'LAPTOP': {'label': 'Laptop or desktop',\n   'predicateType': 'int',\n   'group': 'N/A',\n   'limit': 0,\n   'suggested-weight': 'WGTP',\n   'values': {'item': {'2': 'No', '0': 'N/A (GQ/vacant)', '1': 'Yes'}}},\n  'FMRGIP': {'label': 'First mortgage payment includes fire, hazard, flood insurance allocation flag',\n   'predicateType': 'int',\n   'group': 'N/A',\n   'limit': 0,\n   'suggested-weight': 'WGTP',\n   'values': {'item': {'0': 'No', '-1': 'N/A (GQ)', '1': 'Yes'}}},\n  'JWRIP': {'label': 'Vehicle occupancy',\n   'predicateType': 'int',\n   'group': 'N/A',\n   'limit': 0,\n   'suggested-weight': 'PWGTP',\n   'values': {'item': {'01': 'Drove alone',\n     '09': 'In 9-person carpool',\n     '02': 'In 2-person carpool',\n     '08': 'In 8-person carpool',\n     '03': 'In 3-person carpool',\n     '07': 'In 7-person carpool',\n     '05': 'In 5-person carpool',\n     '06': 'In 6-person carpool',\n     '0': 'N/A (not a worker or worker whose means of transportation to work was not car, truck, or van)',\n     '10': 'In 10-person or more carpool (Top-coded)',\n     '04': 'In 4-person carpool'}}},\n  'PWGTP15': {'label': \"Person's Weight replicate 15\",\n   'predicateType': 'int',\n   'group': 'N/A',\n   'limit': 0,\n   'suggested-weight': 'PWGTP',\n   'values': {'range': [{'min': '-9999',\n      'max': '9999',\n      'description': 'Integer weight of person'}]}},\n  'FCOMPOTHXP': {'label': 'Other computer equipment allocation flag',\n   'predicateType': 'int',\n   'group': 'N/A',\n   'limit': 0,\n   'suggested-weight': 'WGTP',\n   'values': {'item': {'-1': 'N/A (GQ)', '0': 'No', '1': 'Yes'}}},\n  'PWGTP16': {'label': \"Person's Weight replicate 16\",\n   'predicateType': 'int',\n   'group': 'N/A',\n   'limit': 0,\n   'suggested-weight': 'PWGTP',\n   'values': {'range': [{'min': '-9999',\n      'max': '9999',\n      'description': 'Integer weight of person'}]}},\n  'FSEMP': {'label': 'Self-employment income allocation flag',\n   'predicateType': 'int',\n   'group': 'N/A',\n   'limit': 0,\n   'suggested-weight': 'PWGTP',\n   'values': {'item': {'1': 'Yes', '0': 'No'}}},\n  'PWGTP17': {'label': \"Person's Weight replicate 17\",\n   'predicateType': 'int',\n   'group': 'N/A',\n   'limit': 0,\n   'suggested-weight': 'PWGTP',\n   'values': {'range': [{'min': '-9999',\n      'max': '9999',\n      'description': 'Integer weight of person'}]}},\n  'PWGTP18': {'label': \"Person's Weight replicate 18\",\n   'predicateType': 'int',\n   'group': 'N/A',\n   'limit': 0,\n   'suggested-weight': 'PWGTP',\n   'values': {'range': [{'min': '-9999',\n      'max': '9999',\n      'description': 'Integer weight of person'}]}},\n  'PWGTP19': {'label': \"Person's Weight replicate 19\",\n   'predicateType': 'int',\n   'group': 'N/A',\n   'limit': 0,\n   'suggested-weight': 'PWGTP',\n   'values': {'range': [{'min': '-9999',\n      'max': '9999',\n      'description': 'Integer weight of person'}]}},\n  'ENG': {'label': 'Ability to speak English',\n   'predicateType': 'int',\n   'group': 'N/A',\n   'limit': 0,\n   'suggested-weight': 'PWGTP',\n   'values': {'item': {'4': 'Not at all',\n     '1': 'Very well',\n     '3': 'Not well',\n     '0': 'N/A (less than 5 years old/speaks only English)',\n     '2': 'Well'}}},\n  'FLANP': {'label': 'Language spoken at home allocation flag',\n   'predicateType': 'int',\n   'group': 'N/A',\n   'limit': 0,\n   'suggested-weight': 'PWGTP',\n   'values': {'item': {'0': 'No', '1': 'Yes'}}},\n  'PWGTP10': {'label': \"Person's Weight replicate 10\",\n   'predicateType': 'int',\n   'group': 'N/A',\n   'limit': 0,\n   'suggested-weight': 'PWGTP',\n   'values': {'range': [{'min': '-9999',\n      'max': '9999',\n      'description': 'Integer weight of person'}]}},\n  'PWGTP11': {'label': \"Person's Weight replicate 11\",\n   'predicateType': 'int',\n   'group': 'N/A',\n   'limit': 0,\n   'suggested-weight': 'PWGTP',\n   'values': {'range': [{'min': '-9999',\n      'max': '9999',\n      'description': 'Integer weight of person'}]}},\n  'FCITWP': {'label': 'Year of naturalization write-in allocation flag',\n   'predicateType': 'int',\n   'group': 'N/A',\n   'limit': 0,\n   'suggested-weight': 'PWGTP',\n   'values': {'item': {'1': 'Yes', '0': 'No'}}},\n  'PWGTP12': {'label': \"Person's Weight replicate 12\",\n   'predicateType': 'int',\n   'group': 'N/A',\n   'limit': 0,\n   'suggested-weight': 'PWGTP',\n   'values': {'range': [{'min': '-9999',\n      'max': '9999',\n      'description': 'Integer weight of person'}]}},\n  'PWGTP13': {'label': \"Person's Weight replicate 13\",\n   'predicateType': 'int',\n   'group': 'N/A',\n   'limit': 0,\n   'suggested-weight': 'PWGTP',\n   'values': {'range': [{'min': '-9999',\n      'max': '9999',\n      'description': 'Integer weight of person'}]}},\n  'PWGTP14': {'label': \"Person's Weight replicate 14\",\n   'predicateType': 'int',\n   'group': 'N/A',\n   'limit': 0,\n   'suggested-weight': 'PWGTP',\n   'values': {'range': [{'min': '-9999',\n      'max': '9999',\n      'description': 'Integer weight of person'}]}},\n  'FSSIP': {'label': 'Supplementary Security Income allocation flag',\n   'predicateType': 'int',\n   'group': 'N/A',\n   'limit': 0,\n   'suggested-weight': 'PWGTP',\n   'values': {'item': {'1': 'Yes', '0': 'No'}}},\n  'FS': {'label': 'Yearly food stamp/Supplemental Nutrition Assistance Program (SNAP) recipiency',\n   'predicateType': 'int',\n   'group': 'N/A',\n   'limit': 0,\n   'suggested-weight': 'WGTP',\n   'values': {'item': {'2': 'No', '0': 'N/A (vacant)', '1': 'Yes'}}},\n  'DIVISION': {'label': 'Division code based on 2010 Census definitions',\n   'group': 'N/A',\n   'limit': 0,\n   'values': {'item': {'7': 'West South Central (South Region)',\n     '2': 'Middle Atlantic (Northeast region)',\n     '4': 'West North Central (Midwest region)',\n     '6': 'East South Central (South region)',\n     '3': 'East North Central (Midwest region)',\n     '9': 'Pacific (West region)',\n     '0': 'Puerto Rico',\n     '5': 'South Atlantic (South region)',\n     '8': 'Mountain (West region)',\n     '1': 'New England (Northeast region)'}}},\n  'WRK': {'label': 'Worked last week',\n   'predicateType': 'int',\n   'group': 'N/A',\n   'limit': 0,\n   'suggested-weight': 'PWGTP',\n   'values': {'item': {'0': 'N/A (not reported)',\n     '1': 'Worked',\n     '2': 'Did not work'}}},\n  'HICOV': {'label': 'Health insurance coverage recode',\n   'predicateType': 'int',\n   'group': 'N/A',\n   'limit': 0,\n   'suggested-weight': 'PWGTP',\n   'values': {'item': {'2': 'No health insurance coverage',\n     '1': 'With health insurance coverage'}}},\n  'DRATX': {'label': 'Veteran service connected disability rating (checkbox)',\n   'predicateType': 'int',\n   'group': 'N/A',\n   'limit': 0,\n   'suggested-weight': 'PWGTP',\n   'values': {'item': {'2': 'No',\n     '0': 'N/A (Less than 17 years old/never served in military)',\n     '1': 'Yes'}}},\n  'SMOCP': {'label': 'Selected monthly owner costs (use ADJHSG to adjust SMOCP to constant dollars)',\n   'predicateType': 'int',\n   'group': 'N/A',\n   'limit': 0,\n   'suggested-weight': 'WGTP',\n   'values': {'item': {'-1': 'N/A (GQ/vacant/not owned or being bought)',\n     '00000': 'None'},\n    'range': [{'min': '1',\n      'max': '99999',\n      'description': '$1 - $99999 (Components are rounded)'}]}},\n  'VPS': {'label': 'Veteran period of service',\n   'predicateType': 'int',\n   'group': 'N/A',\n   'limit': 0,\n   'suggested-weight': 'PWGTP',\n   'values': {'item': {'03': 'Gulf War: 9/2001 or later and Gulf War: 8/1990 - 8/2001 and Vietnam Era',\n     '14': 'Peacetime service before the Korean War only',\n     '12': 'Between Gulf War and Vietnam Era only',\n     '13': 'Between Vietnam Era and Korean War only',\n     '04': 'Gulf War: 8/1990 - 8/2001',\n     '05': 'Gulf War: 8/1990 - 8/2001 and Vietnam Era',\n     '10': 'Korean War and WWII',\n     '02': 'Gulf War: 9/2001 or later and Gulf War: 8/1990 - 8/2001',\n     '08': 'Vietnam Era, Korean War, and WWII',\n     '01': 'Gulf War: 9/2001 or later',\n     '07': 'Vietnam Era and Korean War',\n     '11': 'WWII',\n     '06': 'Vietnam Era',\n     '09': 'Korean War',\n     '0': 'N/A (less than 17 years old, no active duty)'}}},\n  'NWLA': {'label': 'On layoff from work (UNEDITED - See \"Employment Status Recode\" (ESR))',\n   'predicateType': 'int',\n   'group': 'N/A',\n   'limit': 0,\n   'suggested-weight': 'PWGTP',\n   'values': {'item': {'1': 'Yes',\n     '2': 'No',\n     '0': 'N/A (less than 16 years old/at work)',\n     '3': 'Did not report'}}},\n  'FACRP': {'label': 'Lot size allocation flag',\n   'predicateType': 'int',\n   'group': 'N/A',\n   'limit': 0,\n   'suggested-weight': 'WGTP',\n   'values': {'item': {'0': 'No', '-1': 'N/A (GQ)', '1': 'Yes'}}},\n  'SCIENGRLP': {'label': 'Field of Degree Science and Engineering Related Flag - NSF Definition',\n   'predicateType': 'int',\n   'group': 'N/A',\n   'limit': 0,\n   'suggested-weight': 'PWGTP',\n   'values': {'item': {'2': 'No',\n     '0': \"N/A (less than bachelor's degree)\",\n     '1': 'Yes'}}},\n  'FJWTRNSP': {'label': 'Means of transportation to work allocation flag',\n   'predicateType': 'int',\n   'group': 'N/A',\n   'limit': 0,\n   'suggested-weight': 'PWGTP',\n   'values': {'item': {'1': 'Yes', '0': 'No'}}},\n  'WGTP12': {'label': 'Housing Weight replicate 12',\n   'predicateType': 'int',\n   'group': 'N/A',\n   'limit': 0,\n   'suggested-weight': 'WGTP',\n   'values': {'range': [{'min': '-9999',\n      'max': '9999',\n      'description': 'Integer weight of housing unit'}]}},\n  'WGTP11': {'label': 'Housing Weight replicate 11',\n   'predicateType': 'int',\n   'group': 'N/A',\n   'limit': 0,\n   'suggested-weight': 'WGTP',\n   'values': {'range': [{'min': '-9999',\n      'max': '9999',\n      'description': 'Integer weight of housing unit'}]}},\n  'WGTP14': {'label': 'Housing Weight replicate 14',\n   'predicateType': 'int',\n   'group': 'N/A',\n   'limit': 0,\n   'suggested-weight': 'WGTP',\n   'values': {'range': [{'min': '-9999',\n      'max': '9999',\n      'description': 'Integer weight of housing unit'}]}},\n  'WGTP13': {'label': 'Housing Weight replicate 13',\n   'predicateType': 'int',\n   'group': 'N/A',\n   'limit': 0,\n   'suggested-weight': 'WGTP',\n   'values': {'range': [{'min': '-9999',\n      'max': '9999',\n      'description': 'Integer weight of housing unit'}]}},\n  'AGS': {'label': 'Sales of Agriculture Products (yearly sales, no adjustment factor is applied)',\n   'predicateType': 'int',\n   'group': 'N/A',\n   'limit': 0,\n   'suggested-weight': 'WGTP',\n   'values': {'item': {'5': '$5000 - $9999',\n     '0': 'N/A (GQ/vacant/not a one family house or mobile home/less than 1 acre)',\n     '1': 'None',\n     '4': '$2500 - $4999',\n     '2': '$1 - $999',\n     '6': '$10000+',\n     '3': '$1000 - $2499'}}},\n  'FSTOVP': {'label': 'Stove or range allocation flag',\n   'predicateType': 'int',\n   'group': 'N/A',\n   'limit': 0,\n   'suggested-weight': 'WGTP',\n   'values': {'item': {'1': 'Yes', '-1': 'N/A (GQ)', '0': 'No'}}},\n  'HHLDRRAC1P': {'label': 'Recoded detailed race code of the householder',\n   'predicateType': 'int',\n   'group': 'N/A',\n   'limit': 0,\n   'suggested-weight': 'WGTP',\n   'values': {'item': {'3': 'American Indian alone',\n     '9': 'Two or More Races',\n     '1': 'White alone',\n     '6': 'Asian alone',\n     '7': 'Native Hawaiian and Other Pacific Islander alone',\n     '4': 'Alaska Native alone',\n     '5': 'American Indian and Alaska Native tribes specified; or American Indian or Alaska Native, not specified and no other races',\n     '0': 'N/A (GQ/vacant)',\n     '2': 'Black or African American alone',\n     '8': 'Some Other Race alone'}}},\n  'WGTP10': {'label': 'Housing Weight replicate 10',\n   'predicateType': 'int',\n   'group': 'N/A',\n   'limit': 0,\n   'suggested-weight': 'WGTP',\n   'values': {'range': [{'min': '-9999',\n      'max': '9999',\n      'description': 'Integer weight of housing unit'}]}},\n  'WGTP19': {'label': 'Housing Weight replicate 19',\n   'predicateType': 'int',\n   'group': 'N/A',\n   'limit': 0,\n   'suggested-weight': 'WGTP',\n   'values': {'range': [{'min': '-9999',\n      'max': '9999',\n      'description': 'Integer weight of housing unit'}]}},\n  'WGTP16': {'label': 'Housing Weight replicate 16',\n   'predicateType': 'int',\n   'group': 'N/A',\n   'limit': 0,\n   'suggested-weight': 'WGTP',\n   'values': {'range': [{'min': '-9999',\n      'max': '9999',\n      'description': 'Integer weight of housing unit'}]}},\n  'WGTP15': {'label': 'Housing Weight replicate 15',\n   'predicateType': 'int',\n   'group': 'N/A',\n   'limit': 0,\n   'suggested-weight': 'WGTP',\n   'values': {'range': [{'min': '-9999',\n      'max': '9999',\n      'description': 'Integer weight of housing unit'}]}},\n  'WGTP18': {'label': 'Housing Weight replicate 18',\n   'predicateType': 'int',\n   'group': 'N/A',\n   'limit': 0,\n   'suggested-weight': 'WGTP',\n   'values': {'range': [{'min': '-9999',\n      'max': '9999',\n      'description': 'Integer weight of housing unit'}]}},\n  'WGTP17': {'label': 'Housing Weight replicate 17',\n   'predicateType': 'int',\n   'group': 'N/A',\n   'limit': 0,\n   'suggested-weight': 'WGTP',\n   'values': {'range': [{'min': '-9999',\n      'max': '9999',\n      'description': 'Integer weight of housing unit'}]}},\n  'FMARHWP': {'label': 'Widowed in the past 12 months allocation flag',\n   'predicateType': 'int',\n   'group': 'N/A',\n   'limit': 0,\n   'suggested-weight': 'PWGTP',\n   'values': {'item': {'0': 'No', '1': 'Yes'}}},\n  'FTELP': {'label': 'Telephone service allocation flag',\n   'predicateType': 'int',\n   'group': 'N/A',\n   'limit': 0,\n   'suggested-weight': 'WGTP',\n   'values': {'item': {'-1': 'N/A (GQ)', '1': 'Yes', '0': 'No'}}},\n  'PWGTP73': {'label': \"Person's Weight replicate 73\",\n   'predicateType': 'int',\n   'group': 'N/A',\n   'limit': 0,\n   'suggested-weight': 'PWGTP',\n   'values': {'range': [{'min': '-9999',\n      'max': '9999',\n      'description': 'Integer weight of person'}]}},\n  'PWGTP74': {'label': \"Person's Weight replicate 74\",\n   'predicateType': 'int',\n   'group': 'N/A',\n   'limit': 0,\n   'suggested-weight': 'PWGTP',\n   'values': {'range': [{'min': '-9999',\n      'max': '9999',\n      'description': 'Integer weight of person'}]}},\n  'QTRBIR': {'label': 'Quarter of birth',\n   'predicateType': 'int',\n   'group': 'N/A',\n   'limit': 0,\n   'suggested-weight': 'PWGTP',\n   'values': {'item': {'3': 'July through September',\n     '2': 'April through June',\n     '1': 'January through March',\n     '4': 'October through December'}}},\n  'PWGTP75': {'label': \"Person's Weight replicate 75\",\n   'predicateType': 'int',\n   'group': 'N/A',\n   'limit': 0,\n   'suggested-weight': 'PWGTP',\n   'values': {'range': [{'min': '-9999',\n      'max': '9999',\n      'description': 'Integer weight of person'}]}},\n  'FPERNP': {'label': \"Total person's earnings allocation flag\",\n   'predicateType': 'int',\n   'group': 'N/A',\n   'limit': 0,\n   'suggested-weight': 'PWGTP',\n   'values': {'item': {'1': 'Yes', '0': 'No'}}},\n  'PWGTP76': {'label': \"Person's Weight replicate 76\",\n   'predicateType': 'int',\n   'group': 'N/A',\n   'limit': 0,\n   'suggested-weight': 'PWGTP',\n   'values': {'range': [{'min': '-9999',\n      'max': '9999',\n      'description': 'Integer weight of person'}]}},\n  'PWGTP77': {'label': \"Person's Weight replicate 77\",\n   'predicateType': 'int',\n   'group': 'N/A',\n   'limit': 0,\n   'suggested-weight': 'PWGTP',\n   'values': {'range': [{'min': '-9999',\n      'max': '9999',\n      'description': 'Integer weight of person'}]}},\n  'PWGTP78': {'label': \"Person's Weight replicate 78\",\n   'predicateType': 'int',\n   'group': 'N/A',\n   'limit': 0,\n   'suggested-weight': 'PWGTP',\n   'values': {'range': [{'min': '-9999',\n      'max': '9999',\n      'description': 'Integer weight of person'}]}},\n  'PWGTP79': {'label': \"Person's Weight replicate 79\",\n   'predicateType': 'int',\n   'group': 'N/A',\n   'limit': 0,\n   'suggested-weight': 'PWGTP',\n   'values': {'range': [{'min': '-9999',\n      'max': '9999',\n      'description': 'Integer weight of person'}]}},\n  'PWGTP70': {'label': \"Person's Weight replicate 70\",\n   'predicateType': 'int',\n   'group': 'N/A',\n   'limit': 0,\n   'suggested-weight': 'PWGTP',\n   'values': {'range': [{'min': '-9999',\n      'max': '9999',\n      'description': 'Integer weight of person'}]}},\n  'PWGTP71': {'label': \"Person's Weight replicate 71\",\n   'predicateType': 'int',\n   'group': 'N/A',\n   'limit': 0,\n   'suggested-weight': 'PWGTP',\n   'values': {'range': [{'min': '-9999',\n      'max': '9999',\n      'description': 'Integer weight of person'}]}},\n  'PWGTP72': {'label': \"Person's Weight replicate 72\",\n   'predicateType': 'int',\n   'group': 'N/A',\n   'limit': 0,\n   'suggested-weight': 'PWGTP',\n   'values': {'range': [{'min': '-9999',\n      'max': '9999',\n      'description': 'Integer weight of person'}]}},\n  'FDISP': {'label': 'Disability recode allocation flag',\n   'predicateType': 'int',\n   'group': 'N/A',\n   'limit': 0,\n   'suggested-weight': 'PWGTP',\n   'values': {'item': {'0': 'No', '1': 'Yes'}}},\n  'PWGTP': {'label': 'PUMS person weight',\n   'predicateType': 'int',\n   'group': 'N/A',\n   'limit': 0,\n   'is-weight': True,\n   'values': {'range': [{'min': '1',\n      'max': '9999',\n      'description': 'Continuous values of PWGTP'}]}},\n  'WAGP': {'label': 'Wages or salary income past 12 months (use ADJINC to adjust WAGP to constant dollars)',\n   'predicateType': 'int',\n   'group': 'N/A',\n   'limit': 0,\n   'suggested-weight': 'PWGTP',\n   'values': {'item': {'0': 'None', '-1': 'N/A (less than 15 years old)'},\n    'range': [{'min': '4',\n      'max': '999999',\n      'description': '$4 to 999999 (Rounded and top-coded)'}]}},\n  'RWAT': {'label': 'Hot and cold Running water',\n   'predicateType': 'int',\n   'group': 'N/A',\n   'limit': 0,\n   'suggested-weight': 'WGTP',\n   'values': {'item': {'2': 'No',\n     '9': 'Case is from Puerto Rico, RWAT not applicable',\n     '0': 'N/A (GQ)',\n     '1': 'Yes'}}},\n  'PWGTP62': {'label': \"Person's Weight replicate 62\",\n   'predicateType': 'int',\n   'group': 'N/A',\n   'limit': 0,\n   'suggested-weight': 'PWGTP',\n   'values': {'range': [{'min': '-9999',\n      'max': '9999',\n      'description': 'Integer weight of person'}]}},\n  'PWGTP63': {'label': \"Person's Weight replicate 63\",\n   'predicateType': 'int',\n   'group': 'N/A',\n   'limit': 0,\n   'suggested-weight': 'PWGTP',\n   'values': {'range': [{'min': '-9999',\n      'max': '9999',\n      'description': 'Integer weight of person'}]}},\n  'PWGTP64': {'label': \"Person's Weight replicate 64\",\n   'predicateType': 'int',\n   'group': 'N/A',\n   'limit': 0,\n   'suggested-weight': 'PWGTP',\n   'values': {'range': [{'min': '-9999',\n      'max': '9999',\n      'description': 'Integer weight of person'}]}},\n  'PWGTP65': {'label': \"Person's Weight replicate 65\",\n   'predicateType': 'int',\n   'group': 'N/A',\n   'limit': 0,\n   'suggested-weight': 'PWGTP',\n   'values': {'range': [{'min': '-9999',\n      'max': '9999',\n      'description': 'Integer weight of person'}]}},\n  'PWGTP66': {'label': \"Person's Weight replicate 66\",\n   'predicateType': 'int',\n   'group': 'N/A',\n   'limit': 0,\n   'suggested-weight': 'PWGTP',\n   'values': {'range': [{'min': '-9999',\n      'max': '9999',\n      'description': 'Integer weight of person'}]}},\n  'FVACDURP': {'label': 'Vacancy duration allocation flag',\n   'predicateType': 'int',\n   'group': 'N/A',\n   'limit': 0,\n   'suggested-weight': 'WGTP',\n   'values': {'item': {'0': 'No', '-1': 'N/A (GQ)', '1': 'Yes'}}},\n  'PWGTP67': {'label': \"Person's Weight replicate 67\",\n   'predicateType': 'int',\n   'group': 'N/A',\n   'limit': 0,\n   'suggested-weight': 'PWGTP',\n   'values': {'range': [{'min': '-9999',\n      'max': '9999',\n      'description': 'Integer weight of person'}]}},\n  'PWGTP68': {'label': \"Person's Weight replicate 68\",\n   'predicateType': 'int',\n   'group': 'N/A',\n   'limit': 0,\n   'suggested-weight': 'PWGTP',\n   'values': {'range': [{'min': '-9999',\n      'max': '9999',\n      'description': 'Integer weight of person'}]}},\n  'PWGTP69': {'label': \"Person's Weight replicate 69\",\n   'predicateType': 'int',\n   'group': 'N/A',\n   'limit': 0,\n   'suggested-weight': 'PWGTP',\n   'values': {'range': [{'min': '-9999',\n      'max': '9999',\n      'description': 'Integer weight of person'}]}},\n  'FPLMPRP': {'label': 'Complete plumbing facilities allocation flag for Puerto Rico',\n   'predicateType': 'int',\n   'group': 'N/A',\n   'limit': 0,\n   'suggested-weight': 'WGTP',\n   'values': {'item': {'-1': 'N/A (GQ)', '0': 'No', '1': 'Yes'}}},\n  'TAXAMT': {'label': 'Property taxes (yearly real estate taxes)',\n   'predicateType': 'int',\n   'group': 'N/A',\n   'limit': 0,\n   'suggested-weight': 'WGTP',\n   'values': {'item': {'-1': 'N/A (GQ/vacant/not owned or being bought)'},\n    'range': [{'min': '0',\n      'max': '57500',\n      'description': '$0 to $57500 (rounded and top-coded)'}]}},\n  'ANC2P': {'label': 'Recoded Detailed Ancestry - second entry',\n   'predicateType': 'string',\n   'group': 'N/A',\n   'limit': 0,\n   'suggested-weight': 'PWGTP',\n   'values': {'item': {'593': 'Zimbabwean',\n     '235': 'Ecuadorian',\n     '359': 'Other West Indian',\n     '001': 'Alsatian',\n     '924': 'White',\n     '250': 'Latin American',\n     '252': 'Latino',\n     '937': 'Cajun',\n     '020': 'Danish',\n     '022': 'English',\n     '144': 'Romanian',\n     '821': 'Guamanian',\n     '152': 'Serbian',\n     '032': 'German',\n     '716': 'Hong Kong',\n     '720': 'Filipino',\n     '618': 'Bengali',\n     '994': 'North American',\n     '522': 'Ethiopian',\n     '091': 'Swiss',\n     '421': 'Jordanian',\n     '301': 'Barbadian',\n     '431': 'Armenian',\n     '795': 'Asian',\n     '322': 'British West Indian',\n     '566': 'Sierra Leonean',\n     '329': 'Grenadian',\n     '690': 'Sri Lankan',\n     '222': 'Guatemalan',\n     '102': 'Belorussian',\n     '103': 'Bulgarian',\n     '225': 'Panamanian',\n     '900': 'Afro American',\n     '234': 'Colombian',\n     '598': 'Western African',\n     '917': 'Native American',\n     '918': 'Indian',\n     '005': 'Basque',\n     '920': 'American Indian',\n     '129': 'Lithuanian',\n     '130': 'Macedonian',\n     '012': 'British Isles',\n     '811': 'Hawaiian',\n     '815': 'Tongan',\n     '154': 'Slovene',\n     '714': 'Tibetan',\n     '168': 'Turkestani',\n     '049': 'Icelander',\n     '609': 'Nepali',\n     '050': 'Irish',\n     '183': 'Northern European',\n     '740': 'Japanese',\n     '996': 'Uncodable entries',\n     '515': 'Congolese',\n     '089': 'Swedish',\n     '402': 'Egyptian',\n     '650': 'Punjabi',\n     '776': 'Thai',\n     '425': 'Lebanese',\n     '434': 'Turkish',\n     '314': 'Trinidadian Tobagonian',\n     '200': 'Spaniard',\n     '568': 'Somali',\n     '903': 'Black',\n     '904': 'Negro',\n     '237': 'Peruvian',\n     '919': 'Cherokee',\n     '003': 'Austrian',\n     '008': 'Belgian',\n     '922': 'Eskimo',\n     '495': 'Arab',\n     '931': 'Canadian',\n     '935': 'French Canadian',\n     '939': 'American',\n     '021': 'Dutch',\n     '142': 'Polish',\n     '024': 'Finnish',\n     '603': 'Bangladeshi',\n     '170': 'Georgia CIS',\n     '051': 'Italian',\n     '176': 'Yugoslavian',\n     '194': 'Germanic',\n     '077': 'Luxembourger',\n     '078': 'Maltese',\n     '997': 'Other groups',\n     '082': 'Norwegian',\n     '404': 'Libyan',\n     '534': 'Kenyan',\n     '308': 'Jamaican',\n     '442': 'Kurdish',\n     '212': 'Mexicano',\n     '223': 'Honduran',\n     '465': 'Palestinian',\n     '586': 'Togo',\n     '224': 'Nicaraguan',\n     '233': 'Chilean',\n     '236': 'Paraguayan',\n     '808': 'Polynesian',\n     '929': 'Pennsylvania German',\n     '814': 'Samoan',\n     '822': 'Chamorro',\n     '825': 'Marshallese',\n     '153': 'Slovak',\n     '712': 'Mongolian',\n     '046': 'Greek',\n     '600': 'Afghan',\n     '290': 'Hispanic',\n     '068': 'Sicilian',\n     '620': 'East Indian',\n     '190': 'Eastern European',\n     '195': 'European',\n     '768': 'Hmong',\n     '098': 'Scandinavian',\n     '770': 'Malaysian',\n     '302': 'Belizean',\n     '553': 'Nigerian',\n     '799': 'Other Asian',\n     '211': 'Mexican American',\n     '100': 'Albanian',\n     '907': 'Creole',\n     '125': 'Hungarian',\n     '128': 'Latvian',\n     '009': 'Flemish',\n     '490': 'Mideast',\n     '251': 'Latin',\n     '496': 'Arabic',\n     '261': 'Puerto Rican',\n     '026': 'French',\n     '820': 'Micronesian',\n     '707': 'Cantonese',\n     '169': 'Uzbeg',\n     '181': 'Central European',\n     '185': 'Southern European',\n     '187': 'Western European',\n     '983': 'Texas',\n     '999': 'Not reported',\n     '084': 'Portuguese',\n     '765': 'Laotian',\n     '527': 'Gambian',\n     '529': 'Ghanaian',\n     '097': 'Welsh',\n     '530': 'Guinean',\n     '416': 'Iranian',\n     '541': 'Liberian',\n     '564': 'Senegalese',\n     '325': 'Antigua and Barbuda',\n     '570': 'South African',\n     '576': 'Sudanese',\n     '215': 'Mexican American Indian',\n     '218': 'Mexican State',\n     '109': 'Croatian',\n     '231': 'Argentinean',\n     '111': 'Czech',\n     '232': 'Bolivian',\n     '114': 'Czechoslovakian',\n     '238': 'Uruguayan',\n     '914': 'South American Indian',\n     '483': 'Assyrian',\n     '484': 'Chaldean',\n     '122': 'German Russian',\n     '124': 'Rom',\n     '249': 'South American',\n     '927': 'Appalachian',\n     '146': 'Moldavian',\n     '700': 'Burmese',\n     '271': 'Cuban',\n     '275': 'Dominican',\n     '841': 'Fijian',\n     '295': 'Spanish American',\n     '178': 'Slavic',\n     '850': 'Pacific Islander',\n     '730': 'Indonesian',\n     '406': 'Moroccan',\n     '099': 'Celtic',\n     '417': 'Iraqi',\n     '310': 'Dutch West Indian',\n     '210': 'Mexican',\n     '219': 'Mexican Indian',\n     '588': 'Ugandan',\n     '901': 'Afro',\n     '213': 'Chicano',\n     '112': 'Bohemian',\n     '599': 'African',\n     '239': 'Venezuelan',\n     '913': 'Central American Indian',\n     '360': 'Brazilian',\n     '800': 'Australian',\n     '803': 'New Zealander',\n     '925': 'Anglo',\n     '131': 'Montenegrin',\n     '011': 'British',\n     '940': 'United States',\n     '706': 'Chinese',\n     '998': 'Other responses',\n     '400': 'Algerian',\n     '411': 'North African',\n     '899': 'Other Pacific',\n     '300': 'Bahamian',\n     '785': 'Vietnamese',\n     '427': 'Saudi Arabian',\n     '429': 'Syrian',\n     '336': 'Haitian',\n     '226': 'Salvadoran',\n     '902': 'African American',\n     '115': 'Estonian',\n     '370': 'Guyanese',\n     '499': 'Other Arab',\n     '148': 'Russian',\n     '703': 'Cambodian',\n     '040': 'Prussian',\n     '607': 'Bhutanese',\n     '291': 'Spanish',\n     '171': 'Ukrainian',\n     '177': 'Bosnian and Herzegovinian',\n     '615': 'Asian Indian',\n     '748': 'Okinawan',\n     '508': 'Cameroonian',\n     '750': 'Korean',\n     '510': 'Cape Verdean',\n     '995': 'Mixture',\n     '087': 'Scotch Irish',\n     '088': 'Scottish',\n     '523': 'Eritrean',\n     '094': 'Irish Scotch',\n     '419': 'Israeli',\n     '782': 'Taiwanese',\n     '435': 'Yemeni',\n     '680': 'Pakistani',\n     '330': 'Vincent-Grenadine Islander',\n     '331': 'St Lucia Islander',\n     '335': 'West Indian',\n     '221': 'Costa Rican',\n     '587': 'Other Subsaharan African',\n     '227': 'Central American'}}},\n  'NWLK': {'label': 'Looking for work (UNEDITED - See \"Employment Status Recode\" (ESR))',\n   'predicateType': 'int',\n   'group': 'N/A',\n   'limit': 0,\n   'suggested-weight': 'PWGTP',\n   'values': {'item': {'3': 'Did not report',\n     '0': 'N/A (less than 16 years old/at work/temporarily absent/informed of recall)',\n     '2': 'No',\n     '1': 'Yes'}}},\n  'PWGTP60': {'label': \"Person's Weight replicate 60\",\n   'predicateType': 'int',\n   'group': 'N/A',\n   'limit': 0,\n   'suggested-weight': 'PWGTP',\n   'values': {'range': [{'min': '-9999',\n      'max': '9999',\n      'description': 'Integer weight of person'}]}},\n  'FPUBCOVP': {'label': 'Public health coverage recode allocation flag',\n   'predicateType': 'int',\n   'group': 'N/A',\n   'limit': 0,\n   'suggested-weight': 'PWGTP',\n   'values': {'item': {'0': 'No', '1': 'Yes'}}},\n  'PWGTP61': {'label': \"Person's Weight replicate 61\",\n   'predicateType': 'int',\n   'group': 'N/A',\n   'limit': 0,\n   'suggested-weight': 'PWGTP',\n   'values': {'range': [{'min': '-9999',\n      'max': '9999',\n      'description': 'Integer weight of person'}]}},\n  'REGION': {'label': 'Region code based on 2010 Census definitions',\n   'group': 'N/A',\n   'limit': 0,\n   'values': {'item': {'1': 'Northeast',\n     '9': 'Puerto Rico',\n     '3': 'South',\n     '2': 'Midwest',\n     '4': 'West'}}},\n  'FMARHYP': {'label': 'Year last married allocation flag',\n   'predicateType': 'int',\n   'group': 'N/A',\n   'limit': 0,\n   'suggested-weight': 'PWGTP',\n   'values': {'item': {'1': 'Yes', '0': 'No'}}},\n  'FRETP': {'label': 'Retirement income allocation flag',\n   'predicateType': 'int',\n   'group': 'N/A',\n   'limit': 0,\n   'suggested-weight': 'PWGTP',\n   'values': {'item': {'1': 'Yes', '0': 'No'}}},\n  'SMP': {'label': 'Total payment on all second and junior mortgages and home equity loans (monthly amount, use ADJHSG to adjust SMP to constant dollars)',\n   'predicateType': 'int',\n   'group': 'N/A',\n   'limit': 0,\n   'suggested-weight': 'WGTP',\n   'values': {'item': {'0': 'No regular payment',\n     '-1': 'N/A (GQ/vacant/not owned or being bought/no second or junior mortgages or home equity loans)'},\n    'range': [{'min': '1',\n      'max': '99999',\n      'description': '$1 to $99999 (Rounded and top-coded)'}]}},\n  'PWGTP59': {'label': \"Person's Weight replicate 59\",\n   'predicateType': 'int',\n   'group': 'N/A',\n   'limit': 0,\n   'suggested-weight': 'PWGTP',\n   'values': {'range': [{'min': '-9999',\n      'max': '9999',\n      'description': 'Integer weight of person'}]}},\n  'FTENP': {'label': 'Tenure allocation flag',\n   'predicateType': 'int',\n   'group': 'N/A',\n   'limit': 0,\n   'suggested-weight': 'WGTP',\n   'values': {'item': {'0': 'No', '1': 'Yes', '-1': 'N/A (GQ)'}}},\n  'BLD': {'label': 'Units in structure',\n   'predicateType': 'int',\n   'group': 'N/A',\n   'limit': 0,\n   'suggested-weight': 'WGTP',\n   'values': {'item': {'09': '50 or More Apartments',\n     '06': '5-9 Apartments',\n     '02': 'One-family house detached',\n     '0': 'N/A (GQ)',\n     '08': '20-49 Apartments',\n     '04': '2 Apartments',\n     '05': '3-4 Apartments',\n     '03': 'One-family house attached',\n     '10': 'Boat, RV, van, etc.',\n     '01': 'Mobile Home or Trailer',\n     '07': '10-19 Apartments'}}},\n  'SMX': {'label': 'Second or junior mortgage or home equity loan status',\n   'predicateType': 'int',\n   'group': 'N/A',\n   'limit': 0,\n   'suggested-weight': 'WGTP',\n   'values': {'item': {'4': 'Both a second mortgage and a home equity loan',\n     '0': 'N/A (GQ/vacant/not owned or being bought)',\n     '2': 'Yes, a home equity loan',\n     '3': 'NO',\n     '1': 'Yes, a second mortgage'}}},\n  'MAR': {'label': 'Marital status',\n   'predicateType': 'int',\n   'group': 'N/A',\n   'limit': 0,\n   'suggested-weight': 'PWGTP',\n   'values': {'item': {'1': 'Married',\n     '5': 'Never married or under 15 years old',\n     '3': 'Divorced',\n     '2': 'Widowed',\n     '4': 'Separated'}}},\n  'FVEHP': {'label': 'Vehicles available allocation flag',\n   'predicateType': 'int',\n   'group': 'N/A',\n   'limit': 0,\n   'suggested-weight': 'WGTP',\n   'values': {'item': {'-1': 'N/A (GQ)', '1': 'Yes', '0': 'No'}}},\n  'PWGTP51': {'label': \"Person's Weight replicate 51\",\n   'predicateType': 'int',\n   'group': 'N/A',\n   'limit': 0,\n   'suggested-weight': 'PWGTP',\n   'values': {'range': [{'min': '-9999',\n      'max': '9999',\n      'description': 'Integer weight of person'}]}},\n  'PWGTP52': {'label': \"Person's Weight replicate 52\",\n   'predicateType': 'int',\n   'group': 'N/A',\n   'limit': 0,\n   'suggested-weight': 'PWGTP',\n   'values': {'range': [{'min': '-9999',\n      'max': '9999',\n      'description': 'Integer weight of person'}]}},\n  'PWGTP53': {'label': \"Person's Weight replicate 53\",\n   'predicateType': 'int',\n   'group': 'N/A',\n   'limit': 0,\n   'suggested-weight': 'PWGTP',\n   'values': {'range': [{'min': '-9999',\n      'max': '9999',\n      'description': 'Integer weight of person'}]}},\n  'PWGTP54': {'label': \"Person's Weight replicate 54\",\n   'predicateType': 'int',\n   'group': 'N/A',\n   'limit': 0,\n   'suggested-weight': 'PWGTP',\n   'values': {'range': [{'min': '-9999',\n      'max': '9999',\n      'description': 'Integer weight of person'}]}},\n  'PWGTP55': {'label': \"Person's Weight replicate 55\",\n   'predicateType': 'int',\n   'group': 'N/A',\n   'limit': 0,\n   'suggested-weight': 'PWGTP',\n   'values': {'range': [{'min': '-9999',\n      'max': '9999',\n      'description': 'Integer weight of person'}]}},\n  'GASFP': {'label': 'Gas cost flag variable',\n   'predicateType': 'int',\n   'group': 'N/A',\n   'limit': 0,\n   'suggested-weight': 'WGTP',\n   'values': {'item': {'4': 'Valid monthly gas cost in GASP',\n     '3': 'No charge or gas not used',\n     '0': 'N/A (GQ/vacant)',\n     '1': 'Included in rent or in condo fee',\n     '2': 'Included in electricity payment'}}},\n  'PWGTP56': {'label': \"Person's Weight replicate 56\",\n   'predicateType': 'int',\n   'group': 'N/A',\n   'limit': 0,\n   'suggested-weight': 'PWGTP',\n   'values': {'range': [{'min': '-9999',\n      'max': '9999',\n      'description': 'Integer weight of person'}]}},\n  'PWGTP57': {'label': \"Person's Weight replicate 57\",\n   'predicateType': 'int',\n   'group': 'N/A',\n   'limit': 0,\n   'suggested-weight': 'PWGTP',\n   'values': {'range': [{'min': '-9999',\n      'max': '9999',\n      'description': 'Integer weight of person'}]}},\n  'PWGTP58': {'label': \"Person's Weight replicate 58\",\n   'predicateType': 'int',\n   'group': 'N/A',\n   'limit': 0,\n   'suggested-weight': 'PWGTP',\n   'values': {'range': [{'min': '-9999',\n      'max': '9999',\n      'description': 'Integer weight of person'}]}},\n  'VALP': {'label': 'Property value',\n   'predicateType': 'int',\n   'group': 'N/A',\n   'limit': 0,\n   'suggested-weight': 'WGTP',\n   'values': {'item': {'0': \"N/A (GQ/vacant units, except 'for-sale-only' and 'sold, not occupied'/not owned or being bought)\"},\n    'range': [{'min': '1',\n      'max': '9999999',\n      'description': '$1 to $9999999 (Rounded and top-coded)'}]}},\n  'HIMRKS': {'label': 'Subsidized Marketplace Coverage',\n   'predicateType': 'int',\n   'group': 'N/A',\n   'limit': 0,\n   'suggested-weight': 'PWGTP',\n   'values': {'item': {'2': 'Direct purchase coverage, without a premium subsidy',\n     '1': 'Direct purchase coverage, with premium subsidy',\n     '0': 'Categorically ineligible for subsidy'}}},\n  'PWGTP50': {'label': \"Person's Weight replicate 50\",\n   'predicateType': 'int',\n   'group': 'N/A',\n   'limit': 0,\n   'suggested-weight': 'PWGTP',\n   'values': {'range': [{'min': '-9999',\n      'max': '9999',\n      'description': 'Integer weight of person'}]}},\n  'FDEYEP': {'label': 'Vision difficulty allocation flag',\n   'predicateType': 'int',\n   'group': 'N/A',\n   'limit': 0,\n   'suggested-weight': 'PWGTP',\n   'values': {'item': {'0': 'No', '1': 'Yes'}}},\n  'FCITP': {'label': 'Citizenship allocation flag',\n   'predicateType': 'int',\n   'group': 'N/A',\n   'limit': 0,\n   'suggested-weight': 'PWGTP',\n   'values': {'item': {'0': 'No', '1': 'Yes'}}},\n  'RACNUM': {'label': 'Number of major race groups represented',\n   'predicateType': 'int',\n   'group': 'N/A',\n   'limit': 0,\n   'suggested-weight': 'PWGTP',\n   'values': {'range': [{'min': '1',\n      'max': '6',\n      'description': 'Race groups'}]}},\n  'PWGTP48': {'label': \"Person's Weight replicate 48\",\n   'predicateType': 'int',\n   'group': 'N/A',\n   'limit': 0,\n   'suggested-weight': 'PWGTP',\n   'values': {'range': [{'min': '-9999',\n      'max': '9999',\n      'description': 'Integer weight of person'}]}},\n  'PWGTP49': {'label': \"Person's Weight replicate 49\",\n   'predicateType': 'int',\n   'group': 'N/A',\n   'limit': 0,\n   'suggested-weight': 'PWGTP',\n   'values': {'range': [{'min': '-9999',\n      'max': '9999',\n      'description': 'Integer weight of person'}]}},\n  'FANCP': {'label': 'Ancestry allocation flag',\n   'predicateType': 'int',\n   'group': 'N/A',\n   'limit': 0,\n   'suggested-weight': 'PWGTP',\n   'values': {'item': {'1': 'Yes', '0': 'No'}}},\n  'SPORDER': {'label': 'Person number',\n   'predicateType': 'int',\n   'group': 'N/A',\n   'limit': 0,\n   'suggested-weight': 'PWGTP',\n   'values': {'range': [{'min': '1',\n      'max': '20',\n      'description': 'Person number'}]}},\n  'PWGTP40': {'label': \"Person's Weight replicate 40\",\n   'predicateType': 'int',\n   'group': 'N/A',\n   'limit': 0,\n   'suggested-weight': 'PWGTP',\n   'values': {'range': [{'min': '-9999',\n      'max': '9999',\n      'description': 'Integer weight of person'}]}},\n  'PWGTP41': {'label': \"Person's Weight replicate 41\",\n   'predicateType': 'int',\n   'group': 'N/A',\n   'limit': 0,\n   'suggested-weight': 'PWGTP',\n   'values': {'range': [{'min': '-9999',\n      'max': '9999',\n      'description': 'Integer weight of person'}]}},\n  'DRAT': {'label': 'Veteran service connected disability rating (percentage)',\n   'predicateType': 'int',\n   'group': 'N/A',\n   'limit': 0,\n   'suggested-weight': 'PWGTP',\n   'values': {'item': {'6': 'Not reported',\n     '4': '50 or 60 percent',\n     '0': 'N/A (No service-connected disability/never served in military)',\n     '1': '0 percent',\n     '3': '30 or 40 percent',\n     '5': '70, 80, 90, or 100 percent',\n     '2': '10 or 20 percent'}}},\n  'PWGTP42': {'label': \"Person's Weight replicate 42\",\n   'predicateType': 'int',\n   'group': 'N/A',\n   'limit': 0,\n   'suggested-weight': 'PWGTP',\n   'values': {'range': [{'min': '-9999',\n      'max': '9999',\n      'description': 'Integer weight of person'}]}},\n  'PWGTP43': {'label': \"Person's Weight replicate 43\",\n   'predicateType': 'int',\n   'group': 'N/A',\n   'limit': 0,\n   'suggested-weight': 'PWGTP',\n   'values': {'range': [{'min': '-9999',\n      'max': '9999',\n      'description': 'Integer weight of person'}]}},\n  'MRGI': {'label': 'First mortgage payment includes fire/hazard/flood insurance',\n   'predicateType': 'int',\n   'group': 'N/A',\n   'limit': 0,\n   'suggested-weight': 'WGTP',\n   'values': {'item': {'1': 'Yes, Insurance Included In Payment',\n     '2': 'No, insurance paid separately or no insurance',\n     '0': 'N/A (GQ/vacant/not owned or being bought/not mortgaged)'}}},\n  'ESP': {'label': 'Employment status of parents',\n   'predicateType': 'int',\n   'group': 'N/A',\n   'limit': 0,\n   'suggested-weight': 'PWGTP',\n   'values': {'item': {'5': 'Living with father: In labor force',\n     '6': 'Living with father: Not in labor force',\n     '7': 'Living with mother: In labor force',\n     '0': 'N/A (not own child of householder, and not child in subfamily)',\n     '2': 'Living with two parents: Father only in labor force',\n     '4': 'Living with two parents: Neither parent in labor force',\n     '8': 'Living with mother: Not in labor force',\n     '1': 'Living with two parents: Both parents in labor force',\n     '3': 'Living with two parents: Mother only in labor force'}}},\n  'PWGTP44': {'label': \"Person's Weight replicate 44\",\n   'predicateType': 'int',\n   'group': 'N/A',\n   'limit': 0,\n   'suggested-weight': 'PWGTP',\n   'values': {'range': [{'min': '-9999',\n      'max': '9999',\n      'description': 'Integer weight of person'}]}},\n  'WGTP': {'label': 'Housing Unit Weight',\n   'predicateType': 'int',\n   'group': 'N/A',\n   'limit': 0,\n   'is-weight': True,\n   'values': {'item': {'0': 'Group quarters place holder record'},\n    'range': [{'min': '1',\n      'max': '9999',\n      'description': 'Integer weight of housing unit'}]}},\n  'HHLDRHISP': {'label': 'Recoded detailed Hispanic origin of the householder',\n   'predicateType': 'int',\n   'group': 'N/A',\n   'limit': 0,\n   'suggested-weight': 'WGTP',\n   'values': {'item': {'24': 'All Other Spanish/Hispanic/Latino',\n     '04': 'Cuban',\n     '06': 'Costa Rican',\n     '07': 'Guatemalan',\n     '02': 'Mexican',\n     '10': 'Panamanian',\n     '15': 'Chilean',\n     '05': 'Dominican',\n     '09': 'Nicaraguan',\n     '14': 'Bolivian',\n     '19': 'Peruvian',\n     '21': 'Venezuelan',\n     '01': 'Not Spanish/Hispanic/Latino',\n     '11': 'Salvadoran',\n     '20': 'Uruguayan',\n     '22': 'Other South American',\n     '12': 'Other Central American',\n     '13': 'Argentinean',\n     '16': 'Colombian',\n     '17': 'Ecuadorian',\n     '18': 'Paraguayan',\n     '0': 'N/A (GQ/vacant)',\n     '23': 'Spaniard',\n     '03': 'Puerto Rican',\n     '08': 'Honduran'}}},\n  'PWGTP45': {'label': \"Person's Weight replicate 45\",\n   'predicateType': 'int',\n   'group': 'N/A',\n   'limit': 0,\n   'suggested-weight': 'PWGTP',\n   'values': {'range': [{'min': '-9999',\n      'max': '9999',\n      'description': 'Integer weight of person'}]}},\n  'ESR': {'label': 'Employment status recode',\n   'predicateType': 'int',\n   'group': 'N/A',\n   'limit': 0,\n   'suggested-weight': 'PWGTP',\n   'values': {'item': {'5': 'Armed Forces, With a Job But Not At Work',\n     '3': 'Unemployed',\n     '6': 'Not in Labor Force',\n     '1': 'Civilian employed, at work',\n     '2': 'Civilian employed, with a job but not at work',\n     '0': 'N/A (less than 16 years old)',\n     '4': 'Armed Forces, At Work'}}},\n  'OCCP': {'label': 'Occupation recode for 2018 and later based on 2018 OCC codes',\n   'predicateType': 'string',\n   'group': 'N/A',\n   'limit': 0,\n   'suggested-weight': 'PWGTP',\n   'values': {'item': {'2060': 'CMS-Religious Workers, All Other',\n     '4130': 'EAT-Dining Room And Cafeteria Attendants And Bartender Helpers',\n     '5340': 'OFF-New Accounts Clerks',\n     '8610': 'PRD-Stationary Engineers And Boiler Operators',\n     '4020': 'EAT-Cooks',\n     '8750': 'PRD-Jewelers And Precious Stone And Metal Workers',\n     '5250': 'OFF-Eligibility Interviewers, Government Programs',\n     '5140': 'OFF-Payroll And Timekeeping Clerks',\n     '5020': 'OFF-Telephone Operators',\n     '9630': 'TRN-Machine Feeders And Offbearers',\n     '5150': 'OFF-Procurement Clerks',\n     '0820': 'FIN-Budget Analysts',\n     '0705': 'BUS-Project Management Specialists',\n     '1800': 'SCI-Economists',\n     '7120': 'RPR-Audiovisual Equipment Installers And Repairers',\n     '2905': 'ENT-Other Media And Communication Equipment Workers',\n     '8225': 'PRD-Other Metal Workers And Plastic Workers',\n     '7130': 'RPR-Security And Fire Alarm Systems Installers',\n     '7140': 'RPR-Aircraft Mechanics And Service Technicians',\n     '0500': 'BUS-Agents And Business Managers Of Artists, Performers, And Athletes',\n     '9570': 'TRN-Conveyor, Dredge, And Hoist and Winch Operators',\n     '2810': 'ENT-News Analysts, Reporters, And Journalists',\n     '1720': 'SCI-Chemists And Materials Scientists',\n     '8250': 'PRD-Prepress Technicians And Workers',\n     '0640': 'BUS-Compensation, Benefits, And Job Analysis Specialists',\n     '3910': 'PRT-Private Detectives And Investigators',\n     '8025': 'PRD-Other Machine Tool Setters, Operators, And Tenders, Metal and Plastic',\n     '3802': 'PRT-Correctional Officers and Jailers',\n     '2300': 'EDU-Preschool And Kindergarten Teachers',\n     '2320': 'EDU-Secondary School Teachers',\n     '1105': 'CMM-Network And Computer Systems Administrators',\n     '2310': 'EDU-Elementary And Middle School Teachers',\n     '3646': 'HLS-Medical Transcriptionists',\n     '3647': 'HLS-Pharmacy Aides',\n     '5840': 'OFF-Insurance Claims And Policy Processing Clerks',\n     '5730': 'OFF-Medical Secretaries and Administrative Assistants',\n     '1010': 'CMM-Computer Programmers',\n     '3430': 'MED-Dietetic Technicians And Ophthalmic Medical Technicians',\n     '0160': 'MGR-Transportation, Storage, And Distribution Managers',\n     '3545': 'MED-Miscellaneous Health Technologists and Technicians',\n     '3421': 'MED-Pharmacy Technicians',\n     '5610': 'OFF-Shipping, Receiving, And Inventory Clerks',\n     '4540': 'PRS-Tour And Travel Guides',\n     '5630': 'OFF-Weighers, Measurers, Checkers, And Samplers, Recordkeeping',\n     '1032': 'CMM-Web And Digital Interface Designers',\n     '3324': 'MED-Magnetic Resonance Imaging Technologists',\n     '7925': 'PRD-Forming Machine Setters, Operators, And Tenders, Metal And Plastic',\n     '3220': 'MED-Respiratory Therapists',\n     '0425': 'MGR-Emergency Management Directors',\n     '0420': 'MGR-Social And Community Service Managers',\n     '3945': 'PRT-Transportation Security Screeners',\n     '2865': 'ENT-Media And Communication Workers, All Other',\n     '1410': 'ENG-Electrical And Electronics Engineers',\n     '4800': 'SAL-Advertising Sales Agents',\n     '1305': 'ENG-Architects, Except Landscape And Naval',\n     '2636': 'ENT-Merchandise Displayers And Window Trimmers',\n     '3603': 'HLS-Nursing Assistants',\n     '1541': 'ENG-Architectural And Civil Drafters',\n     '3720': 'PRT-First-Line Supervisors Of Firefighting And Prevention Workers',\n     '9040': 'TRN-Air Traffic Controllers And Airfield Operations Specialists',\n     '2640': 'ENT-Other Designers',\n     '4940': 'SAL-Telemarketers',\n     '3870': 'PRT-Police Officers',\n     '1450': 'ENG-Materials Engineers',\n     '3620': 'HLS-Physical Therapist Assistants And Aides',\n     '2003': 'CMS-Marriage And Family Therapists',\n     '8930': 'PRD-Paper Goods Machine Setters, Operators, And Tenders',\n     '5420': 'OFF-Other Information And Records Clerks',\n     '8810': 'PRD-Painting Workers',\n     '4340': 'PRS-Animal Trainers',\n     '7730': 'PRD-Engine And Other Machine Assemblers',\n     '4465': 'PRS-Morticians, Undertakers, And Funeral Arrangers',\n     '4110': 'EAT-Waiters And Waitresses',\n     '8710': 'PRD-Cutting Workers',\n     '6530': 'CON-Structural Iron And Steel Workers',\n     '8950': 'PRD-Helpers--Production Workers',\n     '4240': 'CLN-Pest Control Workers',\n     '7750': 'PRD-Other Assemblers And Fabricators',\n     '5330': 'OFF-Loan Interviewers And Clerks',\n     '8600': 'PRD-Power Plant Operators, Distributors, And Dispatchers',\n     '3150': 'MED-Occupational Therapists',\n     '4252': 'CLN-Tree Trimmers and Pruners',\n     '4160': 'EAT-Food Preparation and Serving Related Workers, All Other',\n     '7200': 'RPR-Automotive Service Technicians And Mechanics',\n     '4055': 'EAT-Fast Food And Counter Workers',\n     '6355': 'CON-Electricians',\n     '6240': 'CON-Carpet, Floor, And Tile Installers And Finishers',\n     '1900': 'SCI-Agricultural And Food Science Technicians',\n     '6010': 'FFF-Agricultural Inspectors',\n     '8310': 'PRD-Pressers, Textile, Garment, And Related Materials',\n     '8555': 'PRD-Other Woodworkers',\n     '5040': 'OFF-Communications Equipment Operators, All Other',\n     '9415': 'TRN-Passenger Attendants',\n     '7350': 'RPR-Maintenance Workers, Machinery',\n     '7360': 'RPR-Millwrights',\n     '0960': 'FIN-Other Financial Specialists',\n     '2910': 'ENT-Photographers',\n     '7260': 'RPR-Miscellaneous Vehicle And Mobile Equipment Mechanics, Installers, And Repairers',\n     '7020': 'RPR-Radio And Telecommunications Equipment Installers And Repairers',\n     '0630': 'BUS-Human Resources Workers',\n     '8140': 'PRD-Welding, Soldering, And Brazing Workers',\n     '9350': 'TRN-Parking Attendants',\n     '1860': 'SCI-Other Social Scientists',\n     '3640': 'HLS-Dental Assistants',\n     '0010': 'MGR-Chief Executives And Legislators',\n     '3630': 'HLS-Massage Therapists',\n     '4720': 'SAL-Cashiers',\n     '4600': 'PRS-Childcare Workers',\n     '3649': 'HLS-Phlebotomists',\n     '5710': 'OFF-Executive Secretaries And Executive Administrative Assistants',\n     '4622': 'PRS-Recreation Workers',\n     '3655': 'HLS-Other Healthcare Support Workers',\n     '1007': 'CMM-Information Security Analysts',\n     '1005': 'CMM-Computer And Information Research Scientists',\n     '5860': 'OFF-Office Clerks, General',\n     '1022': 'CMM-Software Quality Assurance Analysts and Testers',\n     '3200': 'MED-Radiation Therapists',\n     '4522': 'PRS-Skincare Specialists',\n     '6825': 'EXT-Surface Mining Machine Operators And Earth Drillers',\n     '6850': 'EXT-Underground Mining Machine Operators',\n     '5400': 'OFF-Receptionists And Information Clerks',\n     '2011': 'CMS-Child, Family, And School Social Workers',\n     '2006': 'CMS-Counselors, All Other',\n     '8030': 'PRD-Machinists',\n     '2721': 'ENT-Athletes and Sports Competitors',\n     '3946': 'PRT-School Bus Monitors',\n     '2850': 'ENT-Writers And Authors',\n     '0340': 'MGR-Lodging Managers',\n     '2755': 'ENT-Disc Jockeys, Except Radio',\n     '0335': 'MGR-Entertainment and Recreation Managers',\n     '2633': 'ENT-Floral Designers',\n     '3840': 'PRT-Fish And Game Wardens And Parking Enforcement Officers',\n     '3725': 'PRT-Miscellaneous First-Line Supervisors, Protective Service Workers',\n     '0102': 'MGR-Facilities Managers',\n     '3750': 'PRT-Fire Inspectors',\n     '6740': 'CON-Rail-Track Laying And Maintenance Equipment Operators',\n     '4200': 'CLN-First-Line Supervisors Of Housekeeping And Janitorial Workers',\n     '2015': 'CMS-Probation Officers And Correctional Treatment Specialists',\n     '2180': 'LGL-Legal Support Workers, All Other',\n     '4120': 'EAT-Food Servers, Nonrestaurant',\n     '4010': 'EAT-First-Line Supervisors Of Food Preparation And Serving Workers',\n     '3160': 'MED-Physical Therapists',\n     '6305': 'CON-Construction Equipment Operators',\n     '8620': 'PRD-Water And Wastewater Treatment Plant And System Operators',\n     '4030': 'EAT-Food Preparation Workers',\n     '5240': 'OFF-Customer Service Representatives',\n     '9600': 'TRN-Industrial Truck And Tractor Operators',\n     '6220': 'CON-Brickmasons, Blockmasons, Stonemasons, And Reinforcing Iron And Rebar Workers',\n     '7560': 'RPR-Riggers',\n     '6115': 'FFF-Fishing And Hunting Workers',\n     '7315': 'RPR-Heating, Air Conditioning, And Refrigeration Mechanics And Installers',\n     '6120': 'FFF-Forest And Conservation Workers',\n     '9510': 'TRN-Crane And Tower Operators',\n     '6005': 'FFF-First-Line Supervisors Of Farming, Fishing, And Forestry Workers',\n     '6130': 'FFF-Logging Workers',\n     '5160': 'OFF-Tellers',\n     '9410': 'TRN-Transportation Inspectors',\n     '8320': 'PRD-Sewing Machine Operators',\n     '0726': 'BUS-Fundraisers',\n     '0845': 'FIN-Financial And Investment Analysts',\n     '1822': 'SCI-School Psychologists',\n     '0850': 'FIN-Personal Financial Advisors',\n     '6050': 'FFF-Other Agricultural Workers',\n     '7150': 'RPR-Automotive Body And Related Repairers',\n     '0510': 'BUS-Buyers And Purchasing Agents, Farm Products',\n     '0650': 'BUS-Training And Development Specialists',\n     '9122': 'TRN-Bus Drivers, Transit And Intercity',\n     '9365': 'TRN-Transportation Service Attendants',\n     '2545': 'EDU-Teaching Assistants',\n     '4965': 'SAL-Sales And Related Workers, All Other',\n     '0140': 'MGR-Industrial Production Managers',\n     '0137': 'MGR-Training And Development Managers',\n     '5820': 'OFF-Word Processors And Typists',\n     '4750': 'SAL-Parts Salespersons',\n     '2330': 'EDU-Special Education Teachers',\n     '0150': 'MGR-Purchasing Managers',\n     'N': 'N/A (less than 16 years old/NILF who last worked more than 5 years ago or never worked)',\n     '2205': 'EDU-Postsecondary Teachers',\n     '3422': 'MED-Psychiatric Technicians',\n     '5510': 'OFF-Couriers And Messengers',\n     '5500': 'OFF-Cargo And Freight Agents',\n     '5521': 'OFF-Public Safety Telecommunicators',\n     '2723': 'ENT-Umpires, Referees, And Other Sports Officials',\n     '1750': 'SCI-Geoscientists And Hydrologists, Except Geographers',\n     '3820': 'PRT-Detectives And Criminal Investigators',\n     '9265': 'TRN-Other Rail Transportation Workers',\n     '9141': 'TRN-Shuttle Drivers And Chauffeurs',\n     '1530': 'ENG-Other Engineers',\n     '2861': 'ENT-Interpreters and Translators',\n     '2631': 'ENT-Commercial And Industrial Designers',\n     '1420': 'ENG-Environmental Engineers',\n     '3960': 'PRT-Other Protective Service Workers',\n     '4810': 'SAL-Insurance Sales Agents',\n     '3605': 'HLS-Orderlies and Psychiatric Aides',\n     '1310': 'ENG-Surveyors, Cartographers, And Photogrammetrists',\n     '0110': 'MGR-Computer And Information Systems Managers',\n     '3740': 'PRT-Firefighters',\n     '2004': 'CMS-Mental Health Counselors',\n     '6600': 'CON-Helpers, Construction Trades',\n     '5540': 'OFF-Postal Service Clerks',\n     '4210': 'CLN-First-Line Supervisors Of Landscaping, Lawn Service, And Groundskeeping Workers',\n     '5300': 'OFF-Hotel, Motel, And Resort Desk Clerks',\n     '5320': 'OFF-Library Assistants, Clerical',\n     '6410': 'CON-Painters and Paperhangers',\n     '3140': 'MED-Audiologists',\n     '3256': 'MED-Nurse Anesthetists',\n     '8720': 'PRD-Extruding, Forming, Pressing, And Compacting Machine Setters, Operators, And Tenders',\n     '7640': 'RPR-Other Installation, Maintenance, And Repair Workers',\n     '3040': 'MED-Optometrists',\n     '5350': 'OFF-Correspondence Clerks And Order Clerks',\n     '8740': 'PRD-Inspectors, Testers, Sorters, Samplers, And Weighers',\n     '5110': 'OFF-Billing And Posting Clerks',\n     '3050': 'MED-Pharmacists',\n     '5360': 'OFF-Human Resources Assistants, Except Payroll And Timekeeping',\n     '8630': 'PRD-Miscellaneous Plant And System Operators',\n     '8990': 'PRD-Miscellaneous Production Workers, Including Equipment Operators And Tenders',\n     '7540': 'RPR-Locksmiths And Safe Repairers',\n     '0900': 'FIN-Financial Examiners',\n     '8640': 'PRD-Chemical Processing Machine Setters, Operators, And Tenders',\n     '9610': 'TRN-Cleaners Of Vehicles And Equipment',\n     '6230': 'CON-Carpenters',\n     '5260': 'OFF-File Clerks',\n     '7330': 'RPR-Industrial And Refractory Machinery Mechanics',\n     '9760': 'TRN-Other Material Moving Workers',\n     '0700': 'BUS-Logisticians',\n     '6260': 'CON-Construction Laborers',\n     '0600': 'BUS-Cost Estimators',\n     '8465': 'PRD-Other Textile, Apparel, And Furnishings Workers',\n     '1821': 'SCI-Clinical And Counseling Psychologists',\n     '1825': 'SCI-Other Psychologists',\n     '1710': 'SCI-Atmospheric And Space Scientists',\n     '2920': 'ENT-Television, Video, And Film Camera Operators And Editors',\n     '2805': 'ENT-Broadcast Announcers And Radio Disc Jockeys',\n     '3900': 'PRT-Animal Control Workers',\n     '8130': 'PRD-Tool And Die Makers',\n     '7160': 'RPR-Automotive Glass Installers And Repairers',\n     '1610': 'SCI-Biological Scientists',\n     '9110': 'TRN-Ambulance Drivers And Attendants, Except Emergency Medical Technicians',\n     '2710': 'ENT-Producers And Directors',\n     '0530': 'BUS-Purchasing Agents, Except Wholesale, Retail, And Farm Products',\n     '4850': 'SAL-Sales Representatives, Wholesale And Manufacturing',\n     '1460': 'ENG-Mechanical Engineers',\n     '2555': 'EDU-Other Educational Instruction and Library Workers',\n     '4621': 'PRS-Exercise Trainers And Group Fitness Instructors',\n     '6800': 'EXT-Derrick, Rotary Drill, And Service Unit Operators, And Roustabouts, Oil And Gas',\n     '4760': 'SAL-Retail Salespersons',\n     '4640': 'PRS-Residential Advisors',\n     '3310': 'MED-Dental Hygienists',\n     '3550': 'MED-Other Healthcare Practitioners and Technical Occupations',\n     '3424': 'MED-Veterinary Technologists and Technicians',\n     '3323': 'MED-Radiologic Technologists And Technicians',\n     '6710': 'CON-Fence Erectors',\n     '9240': 'TRN-Railroad Conductors And Yardmasters',\n     '3940': 'PRT-Crossing Guards And Flaggers',\n     '0205': 'MGR-Farmers, Ranchers, And Other Agricultural Managers',\n     '0440': 'MGR-Other Managers',\n     '2740': 'ENT-Dancers And Choreographers',\n     '9150': 'TRN-Motor Vehicle Operators, All Other',\n     '1545': 'ENG-Other Drafters',\n     '2632': 'ENT-Fashion Designers',\n     '2752': 'ENT-Musicians and Singers',\n     '1430': 'ENG-Industrial Engineers, Including Health And Safety',\n     '4820': 'SAL-Securities, Commodities, And Financial Services Sales Agents',\n     '0360': 'MGR-Natural Sciences Managers',\n     '4830': 'SAL-Travel Agents',\n     '2005': 'CMS-Rehabilitation Counselors',\n     '8920': 'PRD-Molders, Shapers, And Casters, Except Metal And Plastic',\n     '2013': 'CMS-Mental Health And Substance Abuse Social Workers',\n     '7720': 'PRD-Electrical, Electronics, And Electromechanical Assemblers',\n     '2025': 'CMS-Other Community and Social Service Specialists',\n     '6400': 'CON-Insulation Workers',\n     '2040': 'CMS-Clergy',\n     '6515': 'CON-Roofers',\n     '4350': 'PRS-Animal Caretakers',\n     '4251': 'CLN-Landscaping And Groundskeeping Workers',\n     '5100': 'OFF-Bill And Account Collectors',\n     '4255': 'CLN-Other Grounds Maintenance Workers',\n     '5230': 'OFF-Credit Authorizers, Checkers, And Clerks',\n     '8500': 'PRD-Cabinetmakers And Bench Carpenters',\n     '9825': 'MIL-Military Enlisted Tactical Operations And Air/Weapons Specialists And Crew Members',\n     '6330': 'CON-Drywall Installers, Ceiling Tile Installers, And Tapers',\n     '8510': 'PRD-Furniture Finishers',\n     '4040': 'EAT-Bartenders',\n     '7430': 'RPR-Precision Instrument And Equipment Repairers',\n     '8530': 'PRD-Sawing Machine Setters, Operators, And Tenders, Wood',\n     '7320': 'RPR-Home Appliance Repairers',\n     '3090': 'MED-Physicians',\n     '6360': 'CON-Glaziers',\n     '7220': 'RPR-Heavy Vehicle And Mobile Equipment Service Technicians And Mechanics',\n     '7100': 'RPR-Other Electrical And Electronic Equipment Mechanics, Installers, And Repairers',\n     '9640': 'TRN-Packers And Packagers, Hand',\n     '9645': 'TRN-Stockers And Order Fillers',\n     '0830': 'FIN-Credit Analysts',\n     '9300': 'TRN-Sailors And Marine Oilers, And Ship Engineers',\n     '0725': 'BUS-Meeting, Convention, And Event Planners',\n     '1600': 'SCI-Agricultural And Food Scientists',\n     '7040': 'RPR-Electric Motor, Power Tool, And Related Repairers',\n     '2700': 'ENT-Actors',\n     '1745': 'SCI-Environmental Scientists And Specialists, Including Health',\n     '2830': 'ENT-Editors',\n     '9005': 'TRN-Supervisors Of Transportation And Material Moving Workers',\n     '1220': 'CMM-Operations Research Analysts',\n     '1340': 'ENG-Biomedical And Agricultural Engineers',\n     '2440': 'EDU-Library Technicians',\n     '0136': 'MGR-Human Resources Managers',\n     '3645': 'HLS-Medical Assistants',\n     '3648': 'HLS-Veterinary Assistants And Laboratory Animal Caretakers',\n     '1006': 'CMM-Computer Systems Analysts',\n     '3423': 'MED-Surgical Technologists',\n     '3300': 'MED-Clinical Laboratory Technologists And Technicians',\n     '4530': 'PRS-Baggage Porters, Bellhops, And Concierges',\n     '6950': 'EXT-Other Extraction Workers',\n     '2360': 'EDU-Other Teachers and Instructors',\n     '3322': 'MED-Diagnostic Medical Sonographers',\n     '7800': 'PRD-Bakers',\n     '4655': 'PRS-Personal Care and Service Workers, All Other',\n     '3100': 'MED-Surgeons',\n     '2722': 'ENT-Coaches and Scouts',\n     '2840': 'ENT-Technical Writers',\n     '3930': 'PRT-Security Guards And Gambling Surveillance Officers',\n     '4900': 'SAL-Models, Demonstrators, And Product Promoters',\n     '8040': 'PRD-Metal Furnace Operators, Tenders, Pourers, And Casters',\n     '1520': 'ENG-Petroleum, Mining And Geological Engineers, Including Mining Safety Engineers',\n     '9142': 'TRN-Taxi Drivers',\n     '5900': 'OFF-Office Machine Operators, Except Computer',\n     '1440': 'ENG-Marine Engineers And Naval Architects',\n     '1555': 'ENG-Other Engineering Technologists And Technicians, Except Drafters',\n     '2400': 'EDU-Archivists, Curators, And Museum Technicians',\n     '3610': 'HLS-Occupational Therapy Assistants And Aides',\n     '1551': 'ENG-Electrical And Electronic Engineering Technologists And Technicians',\n     '1320': 'ENG-Aerospace Engineers',\n     '2014': 'CMS-Social Workers, All Other',\n     '5522': 'OFF-Dispatchers, Except Police, Fire, And Ambulance',\n     '5550': 'OFF-Postal Service Mail Carriers',\n     '4220': 'CLN-Janitors And Building Cleaners',\n     '6520': 'CON-Sheet Metal Workers',\n     '8940': 'PRD-Tire Builders',\n     '3010': 'MED-Dentists',\n     '4230': 'CLN-Maids And Housekeeping Cleaners',\n     '2170': 'LGL-Title Examiners, Abstractors, and Searchers',\n     '7855': 'PRD-Food Processing Workers, All Other',\n     '6540': 'CON-Solar Photovoltaic Installers',\n     '3030': 'MED-Dietitians And Nutritionists',\n     '3270': 'MED-Healthcare Diagnosing Or Treating Practitioners, All Other',\n     '8730': 'PRD-Furnace, Kiln, Oven, Drier, And Kettle Operators And Tenders',\n     '6441': 'CON-Pipelayers',\n     '9720': 'TRN-Refuse And Recyclable Material Collectors',\n     '6460': 'CON-Plasterers And Stucco Masons',\n     '8650': 'PRD-Crushing, Grinding, Polishing, Mixing, And Blending Workers',\n     '8540': 'PRD-Woodworking Machine Setters, Operators, And Tenders, Except Sawing',\n     '0810': 'FIN-Property Appraisers and Assessors',\n     '5165': 'OFF-Other Financial Clerks',\n     '7240': 'RPR-Small Engine Mechanics',\n     '9310': 'TRN-Ship And Boat Captains And Operators',\n     '1700': 'SCI-Astronomers And Physicists',\n     '9210': 'TRN-Locomotive Engineers And Operators',\n     '0750': 'BUS-Business Operations Specialists, All Other',\n     '1840': 'SCI-Urban And Regional Planners',\n     '8255': 'PRD-Printing Press Operators',\n     '1980': 'SCI-Occupational Health And Safety Specialists and Technicians',\n     '3801': 'PRT-Bailiffs',\n     '5810': 'OFF-Data Entry Keyers',\n     '4740': 'SAL-Counter And Rental Clerks',\n     '0020': 'MGR-General And Operations Managers',\n     '1106': 'CMM-Computer Network Architects',\n     '3401': 'MED-Emergency Medical Technicians',\n     '1240': 'CMM-Other Mathematical Science Occupations',\n     '1360': 'ENG-Civil Engineers',\n     '4510': 'PRS-Hairdressers, Hairstylists, And Cosmetologists',\n     '5720': 'OFF-Legal Secretaries and Administrative Assistants',\n     '5600': 'OFF-Production, Planning, And Expediting Clerks',\n     '3321': 'MED-Cardiovascular Technologists and Technicians',\n     '4400': 'PRS-Gambling Services Workers',\n     '2001': 'CMS-Substance Abuse And Behavioral Disorder Counselors',\n     '3210': 'MED-Recreational Therapists',\n     '1031': 'CMM-Web Developers',\n     '0060': 'MGR-Public Relations And Fundraising Managers',\n     '2012': 'CMS-Healthcare Social Workers',\n     '9130': 'TRN-Driver/Sales Workers And Truck Drivers',\n     '3700': 'PRT-First-Line Supervisors Of Correctional Officers',\n     '1650': 'SCI-Other Life Scientists',\n     '2635': 'ENT-Interior Designers',\n     '0350': 'MGR-Medical And Health Services Managers',\n     '0101': 'MGR-Administrative Services Managers',\n     '9050': 'TRN-Flight Attendants',\n     '0120': 'MGR-Financial Managers',\n     '7950': 'PRD-Cutting, Punching, And Press Machine Setters, Operators, And Tenders, Metal And Plastic',\n     '5410': 'OFF-Reservation And Transportation Ticket Agents And Travel Clerks',\n     '3110': 'MED-Physician Assistants',\n     '3230': 'MED-Speech-Language Pathologists',\n     '1050': 'CMM-Computer Support Specialists',\n     '7700': 'PRD-First-Line Supervisors Of Production And Operating Workers',\n     '8910': 'PRD-Etchers And Engravers',\n     '4330': 'PRS-Supervisors Of Personal Care And Service Workers',\n     '3000': 'MED-Chiropractors',\n     '7740': 'PRD-Structural Metal Fabricators And Fitters',\n     '6765': 'CON-Other Construction And Related Workers',\n     '9810': 'MIL-First-Line Enlisted Military Supervisors',\n     '5220': 'OFF-Court, Municipal, And License Clerks',\n     '4140': 'EAT-Dishwashers',\n     '6200': 'CON-First-Line Supervisors Of Construction Trades And Extraction Workers',\n     '6442': 'CON-Plumbers, Pipefitters, And Steamfitters',\n     '7410': 'RPR-Electrical Power-Line Installers And Repairers',\n     '4150': 'EAT-Hosts And Hostesses, Restaurant, Lounge, And Coffee Shop',\n     '5120': 'OFF-Bookkeeping, Accounting, And Auditing Clerks',\n     '6210': 'CON-Boilermakers',\n     '5000': 'OFF-First-Line Supervisors Of Office And Administrative Support Workers',\n     '5010': 'OFF-Switchboard Operators, Including Answering Service',\n     '9620': 'TRN-Laborers And Freight, Stock, And Material Movers, Hand',\n     '0800': 'FIN-Accountants And Auditors',\n     '7210': 'RPR-Bus And Truck Mechanics And Diesel Engine Specialists',\n     '7340': 'RPR-Maintenance And Repair Workers, General',\n     '6250': 'CON-Cement Masons, Concrete Finishers, And Terrazzo Workers',\n     '0940': 'FIN-Tax Preparers',\n     '7000': 'RPR-First-Line Supervisors Of Mechanics, Installers, And Repairers',\n     '7010': 'RPR-Computer, Automated Teller, And Office Machine Repairers',\n     '9430': 'TRN-Other Transportation Workers',\n     '0735': 'BUS-Market Research Analysts And Marketing Specialists',\n     '8350': 'PRD-Tailors, Dressmakers, And Sewers',\n     '0860': 'FIN-Insurance Underwriters',\n     '8000': 'PRD-Grinding, Lapping, Polishing, And Buffing Machine Tool Setters, Operators, And Tenders, Metal And Plastic',\n     '7030': 'RPR-Avionics Technicians',\n     '8256': 'PRD-Print Binding And Finishing Workers',\n     '2825': 'ENT-Public Relations Specialists',\n     '3515': 'MED-Medical Records Specialists',\n     '4840': 'SAL-Sales Representatives Of Services, Except Advertising, Insurance, Financial Services, And Travel',\n     '1350': 'ENG-Chemical Engineers',\n     '2435': 'EDU-Librarians And Media Collections Specialists',\n     '3520': 'MED-Opticians, Dispensing',\n     '4500': 'PRS-Barbers',\n     '2100': 'LGL-Lawyers, And Judges, Magistrates, And Other Judicial Workers',\n     '0040': 'MGR-Advertising And Promotions Managers',\n     '5740': 'OFF-Secretaries And Administrative Assistants, Except Legal, Medical, And Executive',\n     '1021': 'CMM-Software Developers',\n     '0051': 'MGR-Marketing Managers',\n     '0052': 'MGR-Sales Managers',\n     '2105': 'LGL-Judicial Law Clerks',\n     '6700': 'CON-Elevator And Escalator Installers And Repairers',\n     '4420': 'PRS-Ushers, Lobby Attendants, And Ticket Takers',\n     '3330': 'MED-Nuclear Medicine Technologists and Medical Dosimetrists',\n     '6835': 'EXT-Explosives Workers, Ordnance Handling Experts, and Blasters',\n     '6730': 'CON-Highway Maintenance Workers',\n     '2600': 'ENT-Artists And Related Workers',\n     '0300': 'MGR-Architectural And Engineering Managers',\n     '0540': 'BUS-Claims Adjusters, Appraisers, Examiners, And Investigators',\n     '0310': 'MGR-Food Service Managers',\n     '1400': 'ENG-Computer Hardware Engineers',\n     '1760': 'SCI-Physical Scientists, All Other',\n     '3710': 'PRT-First-Line Supervisors Of Police And Detectives',\n     '4920': 'SAL-Real Estate Brokers And Sales Agents',\n     '2634': 'ENT-Graphic Designers',\n     '3602': 'HLS-Personal Care Aides',\n     '2751': 'ENT-Music Directors and Composers',\n     '4930': 'SAL-Sales Engineers',\n     '1560': 'ENG-Surveying And Mapping Technicians',\n     '2770': 'ENT-Entertainers And Performers, Sports and Related Workers, All Other',\n     '4700': 'SAL-First-Line Supervisors Of Retail Sales Workers',\n     '3500': 'MED-Licensed Practical And Licensed Vocational Nurses',\n     '4950': 'SAL-Door-To-Door Sales Workers, News And Street Vendors, And Related Workers',\n     '5920': 'OFF-Statistical Assistants',\n     '7830': 'PRD-Food And Tobacco Roasting, Baking, And Drying Machine Operators And Tenders',\n     '2016': 'CMS-Social And Human Service Assistants',\n     '7840': 'PRD-Food Batchmakers',\n     '3120': 'MED-Podiatrists',\n     '8800': 'PRD-Packaging And Filling Machine Operators And Tenders',\n     '3255': 'MED-Registered Nurses',\n     '9920': 'Unemployed, With No Work Experience In The Last 5 Years Or Earlier Or Never Worked',\n     '9800': 'MIL-Military Officer Special And Tactical Operations Leaders',\n     '2050': 'CMS-Directors, Religious Activities And Education',\n     '4000': 'EAT-Chefs And Head Cooks',\n     '7510': 'RPR-Coin, Vending, And Amusement Machine Servicers And Repairers',\n     '8850': 'PRD-Adhesive Bonding Machine Operators And Tenders',\n     '9830': 'MIL-Military, Rank Not Specified',\n     '7420': 'RPR-Telecommunications Line Installers And Repairers',\n     '7300': 'RPR-Control And Valve Installers And Repairers',\n     '8760': 'PRD-Dental And Ophthalmic Laboratory Technicians And Medical Appliance Technicians',\n     '0910': 'FIN-Credit Counselors And Loan Officers',\n     '8300': 'PRD-Laundry And Dry-Cleaning Workers',\n     '0930': 'FIN-Tax Examiners And Collectors, And Revenue Agents',\n     '1910': 'SCI-Biological Technicians',\n     '9650': 'TRN-Pumping Station Operators',\n     '0710': 'BUS-Management Analysts',\n     '1920': 'SCI-Chemical Technicians',\n     '8335': 'PRD-Shoe And Leather Workers',\n     '8450': 'PRD-Upholsterers',\n     '1935': 'SCI-Environmental Science and Geoscience Technicians, And Nuclear Technicians',\n     '8100': 'PRD-Model Makers, Patternmakers, And Molding Machine Setters, Metal And Plastic',\n     '6040': 'FFF-Graders And Sorters, Agricultural Products',\n     '8365': 'PRD-Textile Machine Setters, Operators, And Tenders',\n     '0520': 'BUS-Wholesale And Retail Buyers, Except Farm Products',\n     '1970': 'SCI-Other Life, Physical, And Social Science Technicians',\n     '0410': 'MGR-Property, Real Estate, And Community Association Managers',\n     '9121': 'TRN-Bus Drivers, School',\n     '3402': 'MED-Paramedics',\n     '0135': 'MGR-Compensation And Benefits Managers',\n     '5940': 'OFF-Other Office And Administrative Support Workers',\n     '1108': 'CMM-Computer Occupations, All Other',\n     '5850': 'OFF-Mail Clerks And Mail Machine Operators, Except Postal Service',\n     '7905': 'PRD-Computer Numerically Controlled Tool Operators And Programmers',\n     '2350': 'EDU-Tutors',\n     '4521': 'PRS-Manicurists And Pedicurists',\n     '4525': 'PRS-Other Personal Appearance Workers',\n     '6720': 'CON-Hazardous Materials Removal Workers',\n     '1640': 'SCI-Conservation Scientists And Foresters',\n     '0565': 'BUS-Compliance Officers',\n     '2862': 'ENT-Court Reporters and Simultaneous Captioners',\n     '9030': 'TRN-Aircraft Pilots And Flight Engineers',\n     '3601': 'HLS-Home Health Aides',\n     '1306': 'ENG-Landscape Architects',\n     '0230': 'MGR-Education And Childcare Administrators',\n     '0220': 'MGR-Construction Managers',\n     '5910': 'OFF-Proofreaders And Copy Markers',\n     '1200': 'CMM-Actuaries',\n     '4710': 'SAL-First-Line Supervisors Of Non-Retail Sales Workers',\n     '2002': 'CMS-Educational, Guidance, And Career Counselors And Advisors',\n     '7810': 'PRD-Butchers And Other Meat, Poultry, And Fish Processing Workers',\n     '5530': 'OFF-Meter Readers, Utilities',\n     '4435': 'PRS-Other Entertainment Attendants And Related Workers',\n     '1065': 'CMM-Database Administrators and Architects',\n     '2145': 'LGL-Paralegals And Legal Assistants',\n     '4461': 'PRS-Embalmers, Crematory Operators And Funeral Attendants',\n     '5310': 'OFF-Interviewers, Except Eligibility And Loan',\n     '7850': 'PRD-Food Cooking Machine Operators And Tenders',\n     '7610': 'RPR-Helpers--Installation, Maintenance, And Repair Workers',\n     '3250': 'MED-Veterinarians',\n     '3245': 'MED-Other Therapists',\n     '5560': 'OFF-Postal Service Mail Sorters, Processors, And Processing Machine Operators',\n     '8830': 'PRD-Photographic Process Workers And Processing Machine Operators',\n     '3261': 'MED-Acupuncturists',\n     '3258': 'MED-Nurse Practitioners, And Nurse Midwives',\n     '6660': 'CON-Construction And Building Inspectors'}}},\n  'PWGTP46': {'label': \"Person's Weight replicate 46\",\n   'predicateType': 'int',\n   'group': 'N/A',\n   'limit': 0,\n   'suggested-weight': 'PWGTP',\n   'values': {'range': [{'min': '-9999',\n      'max': '9999',\n      'description': 'Integer weight of person'}]}},\n  'PWGTP47': {'label': \"Person's Weight replicate 47\",\n   'predicateType': 'int',\n   'group': 'N/A',\n   'limit': 0,\n   'suggested-weight': 'PWGTP',\n   'values': {'range': [{'min': '-9999',\n      'max': '9999',\n      'description': 'Integer weight of person'}]}},\n  'FMRGP': {'label': 'First mortgage payment (monthly amount) allocation flag',\n   'predicateType': 'int',\n   'group': 'N/A',\n   'limit': 0,\n   'suggested-weight': 'WGTP',\n   'values': {'item': {'1': 'Yes', '-1': 'N/A (GQ)', '0': 'No'}}},\n  'COW': {'label': 'Class of worker',\n   'predicateType': 'int',\n   'group': 'N/A',\n   'limit': 0,\n   'suggested-weight': 'PWGTP',\n   'values': {'item': {'9': 'Unemployed and last worked 5 years ago or earlier or never worked',\n     '7': 'Self-employed in own incorporated business, professional practice or farm',\n     '3': 'Local government employee (city, county, etc.)',\n     '8': 'Working without pay in family business or farm',\n     '5': 'Federal government employee',\n     '1': 'Employee of a private for-profit co. or bus., or of an individual, for wages, salary, commissions',\n     '4': 'State government employee',\n     '6': 'Self-employed in own not incorporated business, professional practice, or farm',\n     '2': 'Employee of a private not-for-profit, tax-exempt, or charitable organization',\n     '0': 'N/A (less than 16 years old/NILF who last worked more than 5 years ago or never worked)'}}},\n  'MRGP': {'label': 'First mortgage payment (monthly amount, use ADJHSG to adjust MRGP to constant dollars)',\n   'predicateType': 'int',\n   'group': 'N/A',\n   'limit': 0,\n   'suggested-weight': 'WGTP',\n   'values': {'item': {'0': 'N/A (GQ/vacant/not owned or being bought/not mortgaged)'},\n    'range': [{'min': '1',\n      'max': '99999',\n      'description': '$1 to $99999 (Rounded and top-coded)'}]}},\n  'TABLET': {'label': 'Tablet or other portable wireless computer',\n   'predicateType': 'int',\n   'group': 'N/A',\n   'limit': 0,\n   'suggested-weight': 'WGTP',\n   'values': {'item': {'0': 'N/A (GQ/vacant)', '1': 'Yes', '2': 'No'}}},\n  'MRGX': {'label': 'First mortgage status',\n   'predicateType': 'int',\n   'group': 'N/A',\n   'limit': 0,\n   'suggested-weight': 'WGTP',\n   'values': {'item': {'1': 'Mortgage, deed of trust, or similar debt',\n     '0': 'N/A (GQ/vacant/not owned or being bought)',\n     '2': 'Contract To Purchase',\n     '3': 'None'}}},\n  'MULTG': {'label': 'Multigenerational household',\n   'predicateType': 'int',\n   'group': 'N/A',\n   'limit': 0,\n   'suggested-weight': 'WGTP',\n   'values': {'item': {'2': 'Yes, is a multigenerational household',\n     '1': 'No, not a multigenerational household',\n     '0': 'N/A (GQ/Vacant)'}}},\n  'MRGT': {'label': 'First mortgage payment includes real estate taxes',\n   'predicateType': 'int',\n   'group': 'N/A',\n   'limit': 0,\n   'suggested-weight': 'WGTP',\n   'values': {'item': {'2': 'No, Taxes Paid Separately Or Taxes Not Required',\n     '1': 'Yes, Taxes Included In Payment',\n     '0': 'N/A (GQ/vacant/not owned or being bought/not mortgaged)'}}},\n  'PWGTP37': {'label': \"Person's Weight replicate 37\",\n   'predicateType': 'int',\n   'group': 'N/A',\n   'limit': 0,\n   'suggested-weight': 'PWGTP',\n   'values': {'range': [{'min': '-9999',\n      'max': '9999',\n      'description': 'Integer weight of person'}]}},\n  'FOCCP': {'label': 'Occupation allocation flag',\n   'predicateType': 'int',\n   'group': 'N/A',\n   'limit': 0,\n   'suggested-weight': 'PWGTP',\n   'values': {'item': {'1': 'Yes', '0': 'No'}}},\n  'PWGTP38': {'label': \"Person's Weight replicate 38\",\n   'predicateType': 'int',\n   'group': 'N/A',\n   'limit': 0,\n   'suggested-weight': 'PWGTP',\n   'values': {'range': [{'min': '-9999',\n      'max': '9999',\n      'description': 'Integer weight of person'}]}},\n  'PWGTP39': {'label': \"Person's Weight replicate 39\",\n   'predicateType': 'int',\n   'group': 'N/A',\n   'limit': 0,\n   'suggested-weight': 'PWGTP',\n   'values': {'range': [{'min': '-9999',\n      'max': '9999',\n      'description': 'Integer weight of person'}]}},\n  'FREFRP': {'label': 'Refrigerator allocation flag',\n   'predicateType': 'int',\n   'group': 'N/A',\n   'limit': 0,\n   'suggested-weight': 'WGTP',\n   'values': {'item': {'0': 'No', '1': 'Yes', '-1': 'N/A (GQ)'}}},\n  'WGTP61': {'label': 'Housing Weight replicate 61',\n   'predicateType': 'int',\n   'group': 'N/A',\n   'limit': 0,\n   'suggested-weight': 'WGTP',\n   'values': {'range': [{'min': '-9999',\n      'max': '9999',\n      'description': 'Integer weight of housing unit'}]}},\n  'WGTP60': {'label': 'Housing Weight replicate 60',\n   'predicateType': 'int',\n   'group': 'N/A',\n   'limit': 0,\n   'suggested-weight': 'WGTP',\n   'values': {'range': [{'min': '-9999',\n      'max': '9999',\n      'description': 'Integer weight of housing unit'}]}},\n  'WGTP67': {'label': 'Housing Weight replicate 67',\n   'predicateType': 'int',\n   'group': 'N/A',\n   'limit': 0,\n   'suggested-weight': 'WGTP',\n   'values': {'range': [{'min': '-9999',\n      'max': '9999',\n      'description': 'Integer weight of housing unit'}]}},\n  'WGTP66': {'label': 'Housing Weight replicate 66',\n   'predicateType': 'int',\n   'group': 'N/A',\n   'limit': 0,\n   'suggested-weight': 'WGTP',\n   'values': {'range': [{'min': '-9999',\n      'max': '9999',\n      'description': 'Integer weight of housing unit'}]}},\n  'WGTP69': {'label': 'Housing Weight replicate 69',\n   'predicateType': 'int',\n   'group': 'N/A',\n   'limit': 0,\n   'suggested-weight': 'WGTP',\n   'values': {'range': [{'min': '-9999',\n      'max': '9999',\n      'description': 'Integer weight of housing unit'}]}},\n  'WGTP68': {'label': 'Housing Weight replicate 68',\n   'predicateType': 'int',\n   'group': 'N/A',\n   'limit': 0,\n   'suggested-weight': 'WGTP',\n   'values': {'range': [{'min': '-9999',\n      'max': '9999',\n      'description': 'Integer weight of housing unit'}]}},\n  'WGTP63': {'label': 'Housing Weight replicate 63',\n   'predicateType': 'int',\n   'group': 'N/A',\n   'limit': 0,\n   'suggested-weight': 'WGTP',\n   'values': {'range': [{'min': '-9999',\n      'max': '9999',\n      'description': 'Integer weight of housing unit'}]}},\n  'FRWATP': {'label': 'Hot and cold running water allocation flag',\n   'predicateType': 'int',\n   'group': 'N/A',\n   'limit': 0,\n   'suggested-weight': 'WGTP',\n   'values': {'item': {'0': 'No', '-1': 'N/A (GQ)', '1': 'Yes'}}},\n  'WGTP62': {'label': 'Housing Weight replicate 62',\n   'predicateType': 'int',\n   'group': 'N/A',\n   'limit': 0,\n   'suggested-weight': 'WGTP',\n   'values': {'range': [{'min': '-9999',\n      'max': '9999',\n      'description': 'Integer weight of housing unit'}]}},\n  'WGTP65': {'label': 'Housing Weight replicate 65',\n   'predicateType': 'int',\n   'group': 'N/A',\n   'limit': 0,\n   'suggested-weight': 'WGTP',\n   'values': {'range': [{'min': '-9999',\n      'max': '9999',\n      'description': 'Integer weight of housing unit'}]}},\n  'WGTP64': {'label': 'Housing Weight replicate 64',\n   'predicateType': 'int',\n   'group': 'N/A',\n   'limit': 0,\n   'suggested-weight': 'WGTP',\n   'values': {'range': [{'min': '-9999',\n      'max': '9999',\n      'description': 'Integer weight of housing unit'}]}},\n  'RAC1P': {'label': 'Recoded detailed race code',\n   'predicateType': 'int',\n   'group': 'N/A',\n   'limit': 0,\n   'suggested-weight': 'PWGTP',\n   'values': {'item': {'3': 'American Indian alone',\n     '1': 'White alone',\n     '6': 'Asian alone',\n     '9': 'Two or More Races',\n     '4': 'Alaska Native alone',\n     '2': 'Black or African American alone',\n     '7': 'Native Hawaiian and Other Pacific Islander alone',\n     '5': 'American Indian and Alaska Native tribes specified; or American Indian or Alaska Native, not specified and no other races',\n     '8': 'Some other race alone'}}},\n  'RNTM': {'label': 'Meals included in rent',\n   'predicateType': 'int',\n   'group': 'N/A',\n   'limit': 0,\n   'suggested-weight': 'WGTP',\n   'values': {'item': {'1': 'Yes',\n     '2': 'No',\n     '0': 'N/A (GQ/vacant units, except \"for rent\" and \"rented, not occupied\"/owned or being bought/occupied without rent payment)'}}},\n  'DREM': {'label': 'Cognitive difficulty',\n   'predicateType': 'int',\n   'group': 'N/A',\n   'limit': 0,\n   'suggested-weight': 'PWGTP',\n   'values': {'item': {'2': 'No',\n     '1': 'Yes',\n     '0': 'N/A (Less than 5 years old)'}}},\n  'MIGSP': {'label': 'Migration recode - State or foreign country code',\n   'predicateType': 'string',\n   'group': 'N/A',\n   'limit': 0,\n   'values': {'item': {'231': 'Pakistan',\n     '362': 'Brazil',\n     '018': 'Indiana/IN',\n     '301': 'Canada',\n     '027': 'Minnesota/MN',\n     '034': 'New Jersey/NJ',\n     '313': 'Guatemala',\n     '042': 'Pennsylvania/PA',\n     '163': 'Russia',\n     '044': 'Rhode Island/RI',\n     '329': 'Dominican Republic',\n     '054': 'West Virginia/WV',\n     '217': 'Korea',\n     '110': 'Germany',\n     '233': 'Philippines',\n     '240': 'Taiwan',\n     '242': 'Thailand',\n     '002': 'Alaska/AK',\n     '010': 'Delaware/DE',\n     '374': 'South America, Not Specified',\n     '025': 'Massachusetts/MA',\n     '039': 'Ohio/OH',\n     '164': 'Ukraine',\n     '440': 'Nigeria',\n     '048': 'Texas/TX',\n     '327': 'Cuba',\n     '050': 'Vermont/VT',\n     '051': 'Virginia/VA',\n     '215': 'Japan',\n     '229': 'Nepal',\n     '113': 'Eastern Europe, Not Specified',\n     '245': 'United Arab Emirates',\n     '004': 'Arizona/AZ',\n     '252': 'Western Asia, Not Specified',\n     '012': 'Florida/FL',\n     '303': 'Mexico',\n     '032': 'Nevada/NV',\n     '312': 'El Salvador',\n     '314': 'Honduras',\n     '040': 'Oklahoma/OK',\n     '045': 'South Carolina/SC',\n     '333': 'Jamaica',\n     '344': 'Caribbean and North America, Not Specified',\n     '467': 'Western Africa, Not Specified',\n     '109': 'France',\n     '001': 'Alabama/AL',\n     '015': 'Hawaii/HI',\n     '017': 'Illinois/IL',\n     '414': 'Egypt',\n     '028': 'Mississippi/MS',\n     '317': 'Central America, Not Specified',\n     '235': 'Saudi Arabia',\n     '120': 'Italy',\n     '365': 'Ecuador',\n     '005': 'Arkansas/AR',\n     '009': 'Connecticut/CT',\n     '011': 'District of Columbia/DC',\n     '022': 'Louisiana/LA',\n     '427': 'Kenya',\n     '030': 'Montana/MT',\n     '555': 'Other US Island Areas, Oceania, Not Specified, or At Sea',\n     '046': 'South Dakota/SD',\n     '053': 'Washington/WA',\n     '072': 'Puerto Rico',\n     '008': 'Colorado/CO',\n     'N': 'N/A (person less than 1 year old/lived in same house 1 year ago)',\n     '138': 'United Kingdom, Excluding England',\n     '020': 'Kansas/KS',\n     '021': 'Kentucky/KY',\n     '023': 'Maine/ME',\n     '024': 'Maryland/MD',\n     '026': 'Michigan/MI',\n     '033': 'New Hampshire/NH',\n     '035': 'New Mexico/NM',\n     '038': 'North Dakota/ND',\n     '041': 'Oregon/OR',\n     '200': 'Afghanistan',\n     '214': 'Israel',\n     '468': 'Other Africa, Not Specified',\n     '501': 'Australia',\n     '111': 'Northern Europe, Not Specified',\n     '243': 'Turkey',\n     '364': 'Colombia',\n     '370': 'Peru',\n     '251': 'Eastern Asia, Not Specified',\n     '253': 'South Central Asia or Asia, Not Specified',\n     '013': 'Georgia/GA',\n     '037': 'North Carolina/NC',\n     '047': 'Tennessee/TN',\n     '207': 'China, Hong Kong, Macau And Paracel Islands',\n     '055': 'Wisconsin/WI',\n     '056': 'Wyoming/WY',\n     '210': 'India',\n     '114': 'Western Europe or Other Europe, Not Specified',\n     '247': 'Vietnam',\n     '006': 'California/CA',\n     '373': 'Venezuela',\n     '134': 'Spain',\n     '016': 'Idaho/ID',\n     '139': 'England',\n     '019': 'Iowa/IA',\n     '416': 'Ethiopia',\n     '029': 'Missouri/MO',\n     '031': 'Nebraska/NE',\n     '036': 'New York/NY',\n     '049': 'Utah/UT',\n     '332': 'Haiti',\n     '469': 'Eastern Africa, Not Specified'}}},\n  'FHICOVP': {'label': 'Health insurance coverage recode allocation flag',\n   'predicateType': 'int',\n   'group': 'N/A',\n   'limit': 0,\n   'suggested-weight': 'PWGTP',\n   'values': {'item': {'0': 'No', '1': 'Yes'}}},\n  'NWRE': {'label': 'Informed of recall (UNEDITED - See \"Employment Status Recode\" (ESR))',\n   'predicateType': 'int',\n   'group': 'N/A',\n   'limit': 0,\n   'suggested-weight': 'PWGTP',\n   'values': {'item': {'2': 'No',\n     '1': 'Yes',\n     '3': 'Did not report',\n     '0': 'N/A (less than 16 years old/at work/not on layoff)'}}},\n  'FDIALUPP': {'label': 'Dial-up service allocation flag',\n   'predicateType': 'int',\n   'group': 'N/A',\n   'limit': 0,\n   'suggested-weight': 'WGTP',\n   'values': {'item': {'0': 'No', '-1': 'N/A (GQ)', '1': 'Yes'}}},\n  'VACDUR': {'label': 'Vacancy duration',\n   'predicateType': 'int',\n   'group': 'N/A',\n   'limit': 0,\n   'suggested-weight': 'WGTP',\n   'values': {'item': {'0': 'N/A (GQ/occupied)',\n     '5': '6 up to 12 months',\n     '7': '24 months or more',\n     '1': 'Less than 1 month',\n     '3': '2 up to 4 months',\n     '6': '12 up to 24 months',\n     '2': '1 up to 2 months',\n     '4': '4 up to 6 months'}}},\n  'RNTP': {'label': 'Monthly rent (use ADJHSG to adjust RNTP to constant dollars)',\n   'predicateType': 'int',\n   'group': 'N/A',\n   'limit': 0,\n   'suggested-weight': 'WGTP',\n   'values': {'item': {'0': 'N/A (GQ/vacant units, except \"for rent\" and \"rented, not occupied\"/owned or being bought/occupied without rent payment)'},\n    'range': [{'min': '1',\n      'max': '99999',\n      'description': '$1 to $99999 (Rounded and top-coded)'}]}},\n  'WGTP70': {'label': 'Housing Weight replicate 70',\n   'predicateType': 'int',\n   'group': 'N/A',\n   'limit': 0,\n   'suggested-weight': 'WGTP',\n   'values': {'range': [{'min': '-9999',\n      'max': '9999',\n      'description': 'Integer weight of housing unit'}]}},\n  'HUPAOC': {'label': 'HH presence and age of own children',\n   'predicateType': 'int',\n   'group': 'N/A',\n   'limit': 0,\n   'suggested-weight': 'WGTP',\n   'values': {'item': {'4': 'No own children present',\n     '2': 'Presence of own children 6 to 17 years only',\n     '1': 'Presence of own children under 6 years only',\n     '3': 'Presence of own children under 6 years and 6 to 17 years',\n     '0': 'N/A (GQ/vacant)'}}},\n  'WGTP72': {'label': 'Housing Weight replicate 72',\n   'predicateType': 'int',\n   'group': 'N/A',\n   'limit': 0,\n   'suggested-weight': 'WGTP',\n   'values': {'range': [{'min': '-9999',\n      'max': '9999',\n      'description': 'Integer weight of housing unit'}]}},\n  'WGTP71': {'label': 'Housing Weight replicate 71',\n   'predicateType': 'int',\n   'group': 'N/A',\n   'limit': 0,\n   'suggested-weight': 'WGTP',\n   'values': {'range': [{'min': '-9999',\n      'max': '9999',\n      'description': 'Integer weight of housing unit'}]}},\n  'WGTP78': {'label': 'Housing Weight replicate 78',\n   'predicateType': 'int',\n   'group': 'N/A',\n   'limit': 0,\n   'suggested-weight': 'WGTP',\n   'values': {'range': [{'min': '-9999',\n      'max': '9999',\n      'description': 'Integer weight of housing unit'}]}},\n  'MV': {'label': 'When moved into this house or apartment',\n   'predicateType': 'int',\n   'group': 'N/A',\n   'limit': 0,\n   'suggested-weight': 'WGTP',\n   'values': {'item': {'2': '13 to 23 months',\n     '3': '2 to 4 years',\n     '5': '10 to 19 years',\n     '4': '5 to 9 years',\n     '0': 'N/A (GQ/vacant)',\n     '7': '30 years or more',\n     '6': '20 to 29 years',\n     '1': '12 months or less'}}},\n  'WGTP77': {'label': 'Housing Weight replicate 77',\n   'predicateType': 'int',\n   'group': 'N/A',\n   'limit': 0,\n   'suggested-weight': 'WGTP',\n   'values': {'range': [{'min': '-9999',\n      'max': '9999',\n      'description': 'Integer weight of housing unit'}]}},\n  'WGTP79': {'label': 'Housing Weight replicate 79',\n   'predicateType': 'int',\n   'group': 'N/A',\n   'limit': 0,\n   'suggested-weight': 'WGTP',\n   'values': {'range': [{'min': '-9999',\n      'max': '9999',\n      'description': 'Integer weight of housing unit'}]}},\n  'WGTP74': {'label': 'Housing Weight replicate 74',\n   'predicateType': 'int',\n   'group': 'N/A',\n   'limit': 0,\n   'suggested-weight': 'WGTP',\n   'values': {'range': [{'min': '-9999',\n      'max': '9999',\n      'description': 'Integer weight of housing unit'}]}},\n  'WGTP73': {'label': 'Housing Weight replicate 73',\n   'predicateType': 'int',\n   'group': 'N/A',\n   'limit': 0,\n   'suggested-weight': 'WGTP',\n   'values': {'range': [{'min': '-9999',\n      'max': '9999',\n      'description': 'Integer weight of housing unit'}]}},\n  'WGTP76': {'label': 'Housing Weight replicate 76',\n   'predicateType': 'int',\n   'group': 'N/A',\n   'limit': 0,\n   'suggested-weight': 'WGTP',\n   'values': {'range': [{'min': '-9999',\n      'max': '9999',\n      'description': 'Integer weight of housing unit'}]}},\n  'WGTP75': {'label': 'Housing Weight replicate 75',\n   'predicateType': 'int',\n   'group': 'N/A',\n   'limit': 0,\n   'suggested-weight': 'WGTP',\n   'values': {'range': [{'min': '-9999',\n      'max': '9999',\n      'description': 'Integer weight of housing unit'}]}},\n  'FAGSP': {'label': 'Sales of Agricultural Products allocation flag',\n   'predicateType': 'int',\n   'group': 'N/A',\n   'limit': 0,\n   'suggested-weight': 'WGTP',\n   'values': {'item': {'1': 'Yes', '0': 'No', '-1': 'N/A (GQ)'}}},\n  'ANC': {'label': 'Ancestry recode',\n   'predicateType': 'int',\n   'group': 'N/A',\n   'limit': 0,\n   'suggested-weight': 'PWGTP',\n   'values': {'item': {'4': 'Not reported',\n     '2': 'Multiple',\n     '3': 'Unclassified',\n     '1': 'Single'}}},\n  'OIP': {'label': 'All other income past 12 months (use ADJINC to adjust to constant dollars)',\n   'predicateType': 'int',\n   'group': 'N/A',\n   'limit': 0,\n   'suggested-weight': 'PWGTP',\n   'values': {'item': {'-1': 'N/A (less than 15 years old)', '0': 'None'},\n    'range': [{'min': '4',\n      'max': '999999',\n      'description': '$4 to $999999 (Rounded and top-coded)'}]}},\n  'WGTP80': {'label': 'Housing Weight replicate 80',\n   'predicateType': 'int',\n   'group': 'N/A',\n   'limit': 0,\n   'suggested-weight': 'WGTP',\n   'values': {'range': [{'min': '-9999',\n      'max': '9999',\n      'description': 'Integer weight of housing unit'}]}},\n  'NP': {'label': 'Number of persons in this household',\n   'predicateType': 'int',\n   'group': 'N/A',\n   'limit': 0,\n   'suggested-weight': 'WGTP',\n   'values': {'item': {'1': 'One person in household or any person in group quarters',\n     '0': 'Vacant unit'},\n    'range': [{'min': '2',\n      'max': '20',\n      'description': 'Number of persons in household'}]}},\n  'NR': {'label': 'Presence of nonrelative in household',\n   'predicateType': 'int',\n   'group': 'N/A',\n   'limit': 0,\n   'suggested-weight': 'WGTP',\n   'values': {'item': {'0': 'None',\n     '1': '1 or more nonrelatives',\n     '-1': 'N/A (GQ/vacant)'}}},\n  'LNGI': {'label': 'Limited English speaking household',\n   'predicateType': 'int',\n   'group': 'N/A',\n   'limit': 0,\n   'suggested-weight': 'WGTP',\n   'values': {'item': {'1': \"At least one person in the household 14 and over speaks English only or speaks English 'very well'\",\n     '0': 'N/A (GQ/vacant)',\n     '2': \"No one in the household 14 and over speaks English only or speaks English 'very well'\"}}},\n  'ANC1P': {'label': 'Recoded Detailed Ancestry - first entry',\n   'predicateType': 'string',\n   'group': 'N/A',\n   'limit': 0,\n   'suggested-weight': 'PWGTP',\n   'values': {'item': {'359': 'Other West Indian',\n     '496': 'Arabic',\n     '815': 'Tongan',\n     '021': 'Dutch',\n     '144': 'Romanian',\n     '821': 'Guamanian',\n     '049': 'Icelander',\n     '600': 'Afghan',\n     '290': 'Hispanic',\n     '050': 'Irish',\n     '295': 'Spanish American',\n     '618': 'Bengali',\n     '750': 'Korean',\n     '510': 'Cape Verdean',\n     '084': 'Portuguese',\n     '094': 'Irish Scotch',\n     '411': 'North African',\n     '534': 'Kenyan',\n     '541': 'Liberian',\n     '429': 'Syrian',\n     '431': 'Armenian',\n     '566': 'Sierra Leonean',\n     '100': 'Albanian',\n     '223': 'Honduran',\n     '901': 'Afro',\n     '902': 'African American',\n     '593': 'Zimbabwean',\n     '238': 'Uruguayan',\n     '919': 'Cherokee',\n     '483': 'Assyrian',\n     '927': 'Appalachian',\n     '370': 'Guyanese',\n     '251': 'Latin',\n     '252': 'Latino',\n     '937': 'Cajun',\n     '148': 'Russian',\n     '822': 'Chamorro',\n     '275': 'Dominican',\n     '171': 'Ukrainian',\n     '178': 'Slavic',\n     '183': 'Northern European',\n     '185': 'Southern European',\n     '748': 'Okinawan',\n     '994': 'North American',\n     '523': 'Eritrean',\n     '404': 'Libyan',\n     '768': 'Hmong',\n     '419': 'Israeli',\n     '302': 'Belizean',\n     '680': 'Pakistani',\n     '200': 'Spaniard',\n     '322': 'British West Indian',\n     '329': 'Grenadian',\n     '215': 'Mexican American Indian',\n     '900': 'Afro American',\n     '904': 'Negro',\n     '112': 'Bohemian',\n     '114': 'Czechoslovakian',\n     '235': 'Ecuadorian',\n     '913': 'Central American Indian',\n     '001': 'Alsatian',\n     '125': 'Hungarian',\n     '009': 'Flemish',\n     '490': 'Mideast',\n     '931': 'Canadian',\n     '146': 'Moldavian',\n     '026': 'French',\n     '940': 'United States',\n     '825': 'Marshallese',\n     '154': 'Slovene',\n     '712': 'Mongolian',\n     '040': 'Prussian',\n     '168': 'Turkestani',\n     '291': 'Spanish',\n     '850': 'Pacific Islander',\n     '181': 'Central European',\n     '190': 'Eastern European',\n     '077': 'Luxembourger',\n     '089': 'Swedish',\n     '400': 'Algerian',\n     '522': 'Ethiopian',\n     '770': 'Malaysian',\n     '650': 'Punjabi',\n     '776': 'Thai',\n     '300': 'Bahamian',\n     '421': 'Jordanian',\n     '308': 'Jamaican',\n     '553': 'Nigerian',\n     '314': 'Trinidadian Tobagonian',\n     '325': 'Antigua and Barbuda',\n     '213': 'Chicano',\n     '576': 'Sudanese',\n     '222': 'Guatemalan',\n     '103': 'Bulgarian',\n     '226': 'Salvadoran',\n     '234': 'Colombian',\n     '598': 'Western African',\n     '237': 'Peruvian',\n     '360': 'Brazilian',\n     '484': 'Chaldean',\n     '130': 'Macedonian',\n     '495': 'Arab',\n     '499': 'Other Arab',\n     '261': 'Puerto Rican',\n     '703': 'Cambodian',\n     '152': 'Serbian',\n     '714': 'Tibetan',\n     '716': 'Hong Kong',\n     '603': 'Bangladeshi',\n     '051': 'Italian',\n     '740': 'Japanese',\n     '998': 'Other responses',\n     '088': 'Scottish',\n     '765': 'Laotian',\n     '330': 'Vincent-Grenadine Islander',\n     '212': 'Mexicano',\n     '336': 'Haitian',\n     '586': 'Togo',\n     '918': 'Indian',\n     '008': 'Belgian',\n     '800': 'Australian',\n     '925': 'Anglo',\n     '131': 'Montenegrin',\n     '939': 'American',\n     '022': 'English',\n     '153': 'Slovak',\n     '046': 'Greek',\n     '609': 'Nepali',\n     '177': 'Bosnian and Herzegovinian',\n     '983': 'Texas',\n     '078': 'Maltese',\n     '995': 'Mixture',\n     '515': 'Congolese',\n     '087': 'Scotch Irish',\n     '529': 'Ghanaian',\n     '091': 'Swiss',\n     '098': 'Scandinavian',\n     '530': 'Guinean',\n     '417': 'Iraqi',\n     '782': 'Taiwanese',\n     '425': 'Lebanese',\n     '570': 'South African',\n     '331': 'St Lucia Islander',\n     '224': 'Nicaraguan',\n     '587': 'Other Subsaharan African',\n     '588': 'Ugandan',\n     '111': 'Czech',\n     '115': 'Estonian',\n     '236': 'Paraguayan',\n     '239': 'Venezuelan',\n     '917': 'Native American',\n     '122': 'German Russian',\n     '003': 'Austrian',\n     '249': 'South American',\n     '922': 'Eskimo',\n     '250': 'Latin American',\n     '011': 'British',\n     '012': 'British Isles',\n     '935': 'French Canadian',\n     '020': 'Danish',\n     '820': 'Micronesian',\n     '032': 'German',\n     '169': 'Uzbeg',\n     '841': 'Fijian',\n     '170': 'Georgia CIS',\n     '176': 'Yugoslavian',\n     '615': 'Asian Indian',\n     '082': 'Norwegian',\n     '402': 'Egyptian',\n     '442': 'Kurdish',\n     '218': 'Mexican State',\n     '903': 'Black',\n     '233': 'Chilean',\n     '599': 'African',\n     '124': 'Rom',\n     '005': 'Basque',\n     '128': 'Latvian',\n     '129': 'Lithuanian',\n     '142': 'Polish',\n     '024': 'Finnish',\n     '706': 'Chinese',\n     '707': 'Cantonese',\n     '271': 'Cuban',\n     '068': 'Sicilian',\n     '620': 'East Indian',\n     '195': 'European',\n     '899': 'Other Pacific',\n     '416': 'Iranian',\n     '795': 'Asian',\n     '434': 'Turkish',\n     '799': 'Other Asian',\n     '564': 'Senegalese',\n     '690': 'Sri Lankan',\n     '210': 'Mexican',\n     '335': 'West Indian',\n     '221': 'Costa Rican',\n     '225': 'Panamanian',\n     '907': 'Creole',\n     '232': 'Bolivian',\n     '914': 'South American Indian',\n     '920': 'American Indian',\n     '803': 'New Zealander',\n     '924': 'White',\n     '808': 'Polynesian',\n     '929': 'Pennsylvania German',\n     '811': 'Hawaiian',\n     '814': 'Samoan',\n     '700': 'Burmese',\n     '231': 'Argentinean',\n     '720': 'Filipino',\n     '607': 'Bhutanese',\n     '730': 'Indonesian',\n     '187': 'Western European',\n     '508': 'Cameroonian',\n     '194': 'Germanic',\n     '996': 'Uncodable entries',\n     '997': 'Other groups',\n     '999': 'Not reported',\n     '406': 'Moroccan',\n     '527': 'Gambian',\n     '097': 'Welsh',\n     '099': 'Celtic',\n     '301': 'Barbadian',\n     '785': 'Vietnamese',\n     '427': 'Saudi Arabian',\n     '310': 'Dutch West Indian',\n     '435': 'Yemeni',\n     '568': 'Somali',\n     '211': 'Mexican American',\n     '219': 'Mexican Indian',\n     '102': 'Belorussian',\n     '465': 'Palestinian',\n     '227': 'Central American',\n     '109': 'Croatian'}}},\n  'HISPEED': {'label': 'Broadband (high speed) Internet service such as cable, fiber optic, or DSL service',\n   'predicateType': 'int',\n   'group': 'N/A',\n   'limit': 0,\n   'suggested-weight': 'WGTP',\n   'values': {'item': {'2': 'No',\n     '1': 'Yes',\n     '0': 'N/A (GQ/vacant/no paid access to the internet)'}}},\n  'PLM': {'label': 'Complete plumbing facilities',\n   'predicateType': 'int',\n   'group': 'N/A',\n   'limit': 0,\n   'suggested-weight': 'WGTP',\n   'values': {'item': {'2': 'No',\n     '9': 'Case is from Puerto Rico, PLM recode not applicable',\n     '1': 'Yes, has hot and cold running water, and a bathtub or shower',\n     '0': 'N/A (GQ)'}}},\n  'FYRBLTP': {'label': 'When structure first built allocation flag',\n   'predicateType': 'int',\n   'group': 'N/A',\n   'limit': 0,\n   'suggested-weight': 'WGTP',\n   'values': {'item': {'-1': 'N/A (GQ)', '0': 'No', '1': 'Yes'}}},\n  'RAC3P': {'label': 'Recoded detailed race code',\n   'predicateType': 'string',\n   'group': 'N/A',\n   'limit': 0,\n   'suggested-weight': 'PWGTP',\n   'values': {'item': {'075': 'Black or African American; Native Hawaiian and Other Pacific Islander groups',\n     '018': 'White; Asian Indian',\n     '022': 'White; Korean',\n     '024': 'White; Other Asian',\n     '029': 'White; Some Other Race',\n     '037': 'Black or African American; Other Pacific Islander',\n     '044': 'Chinese; Filipino',\n     '064': 'White; American Indian and Alaska Native; Some Other Race',\n     '077': 'Filipino; Asian groups',\n     '082': 'White; Black or African American; American Indian and Alaska Native; and/or Native Hawaiian and Other Pacific Islander groups; and/or Some Other Race',\n     '004': 'Asian Indian alone',\n     '091': 'Black or African American; Asian groups; and/or Native Hawaiian and Other Pacific Islander groups; and/or Some Other Race',\n     '012': 'Chamorro alone',\n     '014': 'Other Pacific Islander alone',\n     '027': 'White; Samoan',\n     '039': 'American Indian and Alaska Native; Asian Indian',\n     '046': 'Chinese; Korean',\n     '049': 'Chinese; Native Hawaiian',\n     '054': 'Japanese; Korean',\n     '062': 'White; Black or African American; Some Other Race',\n     '063': 'White; American Indian and Alaska Native; Filipino',\n     '065': 'White; Chinese; Filipino',\n     '084': 'White; American Indian and Alaska Native; and/or Asian groups; and/or Native Hawaiian and Other Pacific Islander groups',\n     '085': 'White; Chinese; Filipino; and/or Asian groups; and/or Native Hawaiian and Other Pacific Islander groups; and/or Some Other Race',\n     '086': 'White; Chinese; and/or Asian groups; and/or Native Hawaiian and Other Pacific Islander groups; and/or Some Other Race',\n     '001': 'White alone',\n     '007': 'Japanese alone',\n     '093': 'Asian Indian; and/or White; and/or Asian groups; and/or Native Hawaiian and Other Pacific Islander groups; and/or Some Other Race',\n     '098': 'Korean; and/or Vietnamese; and/or Other Asian; and/or Native Hawaiian and Other Pacific Islander groups; and/or Some Other Race',\n     '016': 'White; Black or African American',\n     '025': 'White; Native Hawaiian',\n     '028': 'White; Other Pacific Islander',\n     '034': 'Black or African American; Japanese',\n     '041': 'American Indian and Alaska Native; Some Other Race',\n     '056': 'Vietnamese; Other Asian',\n     '057': 'Other Asian; Other Pacific Islander',\n     '060': 'White; Black or African American; American Indian and Alaska Native',\n     '068': 'White; Filipino; Native Hawaiian',\n     '074': 'Black or African American; Asian groups',\n     '002': 'Black or African American alone',\n     '095': 'Chinese; and/or Asian groups; and/or Native Hawaiian and Other Pacific Islander groups; and/or Some Other Race',\n     '011': 'Native Hawaiian alone',\n     '099': 'Native Hawaiian; and/or Pacific Islander groups; and/or Some Other Race',\n     '015': 'Some Other Race alone',\n     '032': 'Black or African American; Chinese',\n     '033': 'Black or African American; Filipino',\n     '035': 'Black or African American; Korean',\n     '040': 'American Indian and Alaska Native; Filipino',\n     '045': 'Chinese; Japanese',\n     '053': 'Filipino; Some Other Race',\n     '055': 'Japanese; Native Hawaiian',\n     '061': 'White; Black or African American; Filipino',\n     '100': 'White; and/or Black or African American; and/or American Indian and Alaska Native; and/or Asian groups; and/or Native Hawaiian and Other Pacific Islander groups; and/or Some Other Race',\n     '069': 'White; Japanese; Native Hawaiian',\n     '072': 'White; Chinese; Filipino; Native Hawaiian',\n     '081': 'White; Black or African American; American Indian and Alaska Native; Asian groups',\n     '087': 'White; Filipino; and/or Native Hawaiian and Other Pacific Islander groups; and/or Some Other Race',\n     '088': 'White; Japanese; and/or Asian groups; and/or Native Hawaiian and Other Pacific Islander groups; and/or Some Other Race',\n     '006': 'Filipino alone',\n     '094': 'Chinese; Japanese; Native Hawaiian; and/or other Asian and/or Pacific Islander groups',\n     '096': 'Filipino; and/or Asian groups; and/or Native Hawaiian and Other Pacific Islander groups; and/or Some Other Race',\n     '030': 'Black or African American; American Indian and Alaska Native',\n     '042': 'Asian Indian; Other Asian',\n     '047': 'Chinese; Vietnamese',\n     '050': 'Filipino; Japanese',\n     '052': 'Filipino; Other Pacific Islander',\n     '058': 'Other Asian; Some Other Race',\n     '059': 'Other Pacific Islander; Some Other Race',\n     '070': 'White; Other Asian; Some Other Race',\n     '076': 'Asian Indian; Asian groups',\n     '078': 'White; Black or African American; Asian groups',\n     '080': 'White; Native Hawaiian and Other Pacific Islander groups; and/or Some Other Race',\n     '005': 'Chinese alone',\n     '008': 'Korean alone',\n     '090': 'Black or African American; American Indian and Alaska Native; and/or Asian groups; and/or Native Hawaiian and Other Pacific Islander groups; and/or Some Other Race',\n     '092': 'American Indian and Alaska Native; Asian groups; and/or Native Hawaiian and Other Pacific Islander groups; and/or Some Other Race',\n     '013': 'Samoan alone',\n     '017': 'White; American Indian and Alaska Native',\n     '020': 'White; Filipino',\n     '023': 'White; Vietnamese',\n     '031': 'Black or African American; Asian Indian',\n     '036': 'Black or African American; Other Asian',\n     '038': 'Black or African American; Some Other Race',\n     '048': 'Chinese; Other Asian',\n     '051': 'Filipino; Native Hawaiian',\n     '079': 'White; American Indian and Alaska Native; Asian groups',\n     '083': 'White; Black or African American; and/or Asian groups; and/or Native Hawaiian and Other Pacific Islander groups; and/or Some Other Race',\n     '089': 'White; Asian groups; and/or Native Hawaiian and Other Pacific Islander groups; and/or Some Other Race',\n     '009': 'Vietnamese alone',\n     '019': 'White; Chinese',\n     '021': 'White; Japanese',\n     '067': 'White; Chinese; Native Hawaiian',\n     '071': 'Chinese; Filipino; Native Hawaiian',\n     '073': 'White; Chinese; Japanese; Native Hawaiian',\n     '003': 'American Indian and Alaska Native alone',\n     '097': 'Japanese; and/or Asian groups; and/or Native Hawaiian and Other Pacific Islander groups; and/or Some Other Race',\n     '010': 'Other Asian alone',\n     '026': 'White; Chamorro',\n     '043': 'Asian Indian; Some Other Race',\n     '066': 'White; Chinese; Japanese'}}},\n  'OC': {'label': 'Own child',\n   'predicateType': 'int',\n   'group': 'N/A',\n   'limit': 0,\n   'suggested-weight': 'PWGTP',\n   'values': {'item': {'1': 'Yes', '-1': 'N/A (in GQ)', '0': 'No'}}},\n  'LANP': {'label': 'Language spoken at home',\n   'predicateType': 'string',\n   'group': 'N/A',\n   'limit': 0,\n   'suggested-weight': 'PWGTP',\n   'values': {'item': {'1220': 'Romanian',\n     '2030': 'Min Nan Chinese',\n     '1730': 'Telugu',\n     '1970': 'Chinese',\n     '4565': 'Chaldean Neo-Aramaic',\n     '1231': 'Irish',\n     '3420': 'Samoan',\n     'N': 'N/A (GQ/vacant)',\n     '6800': 'Aleut languages',\n     '4640': 'Tigrinya',\n     '1132': 'Dutch',\n     '2850': 'Other languages of Asia',\n     '6839': 'Ojibwa',\n     '5900': 'Other Mande languages',\n     '7300': 'Other Central and South American languages',\n     '7019': 'Dakota languages',\n     '7032': 'Muskogean languages',\n     '7039': 'Keres',\n     '1450': 'Gujarati',\n     '1565': 'Finnish',\n     '6230': 'Gbe languages',\n     '7050': 'Cherokee',\n     '1000': 'Jamaican Creole English',\n     '1242': 'Albanian',\n     '6370': 'Igbo',\n     '1130': 'Yiddish',\n     '2000': 'Mandarin',\n     '1273': 'Bulgarian',\n     '1420': 'Punjabi',\n     '2920': 'Tagalog',\n     '1278': 'Serbian',\n     '6500': 'Other Niger-Congo languages',\n     '1170': 'French',\n     '1200': 'Spanish',\n     '1210': 'Portuguese',\n     '1110': 'German',\n     '2950': 'Cebuano',\n     '5940': 'Fulah',\n     '4590': 'Amharic',\n     '1360': 'Urdu',\n     '4880': 'Other Afro-Asiatic languages',\n     '2575': 'Korean',\n     '2910': 'Filipino',\n     '3600': 'Other Eastern Malayo-Polynesian languages',\n     '1540': 'Other Indo-Iranian languages',\n     '6290': 'Yoruba',\n     '4560': 'Assyrian Neo-Aramaic',\n     '3500': 'Tongan',\n     '4830': 'Oromo',\n     '4840': 'Somali',\n     '5950': 'Wolof',\n     '1120': 'Swiss German',\n     '1250': 'Russian',\n     '1275': 'Serbocroatian',\n     '2770': 'Indonesian',\n     '1281': 'Lithuanian',\n     '1277': 'Croatian',\n     '6205': 'Ga',\n     '4545': 'Hebrew',\n     '3190': 'Other Philippine languages',\n     '1175': 'Cajun French',\n     '1327': 'Pashto',\n     '1530': 'Sinhala',\n     '6120': 'Akan (incl. Twi)',\n     '1350': 'Hindi',\n     '2160': 'Burmese',\n     '5150': 'Swahili',\n     '2100': 'Tibetan',\n     '6795': 'Other languages of Africa',\n     '7124': 'Other Native North American languages',\n     '1140': 'Swedish',\n     '1380': 'Bengali',\n     '1134': 'Afrikaans',\n     '1270': 'Polish',\n     '3220': 'Chamorro',\n     '1283': 'Latvian',\n     '1155': 'Italian',\n     '1290': 'Farsi',\n     '1564': 'Other Indo-European languages',\n     '1960': 'Vietnamese',\n     '2560': 'Japanese',\n     '1900': 'Khmer',\n     '9999': 'Other and unspecified languages',\n     '6300': 'Edoid languages',\n     '3150': 'Ilocano',\n     '3270': 'Marshallese',\n     '1765': 'Tamil',\n     '1125': 'Pennsylvania German',\n     '2350': 'Karen languages',\n     '2475': 'Lao',\n     '1315': 'Kurdish',\n     '1276': 'Bosnian',\n     '1690': 'Mongolian',\n     '1288': 'Armenian',\n     '5525': 'Shona',\n     '2430': 'Thai',\n     '1340': 'India N.E.C.',\n     '1582': 'Hungarian',\n     '2270': 'Chin languages',\n     '1737': 'Kannada',\n     '2715': 'Malay',\n     '2050': 'Cantonese',\n     '1235': 'Greek',\n     '1750': 'Malayalam',\n     '4900': 'Nilo-Saharan languages',\n     '1525': 'Pakistan N.E.C.',\n     '6930': 'Apache languages',\n     '6933': 'Navajo',\n     '5345': 'Ganda',\n     '1142': 'Norwegian',\n     '1262': 'Czech',\n     '1260': 'Ukrainian',\n     '1274': 'Macedonian',\n     '1025': 'Other English-based Creole languages',\n     '1440': 'Marathi',\n     '2525': 'Iu Mien',\n     '1435': 'Konkani',\n     '1675': 'Turkish',\n     '1055': 'Haitian',\n     '3350': 'Chuukese',\n     '2535': 'Hmong',\n     '1500': 'Nepali',\n     '1069': 'Kabuverdianu',\n     '7060': 'Uto-Aztecan languages',\n     '4500': 'Arabic',\n     '5845': 'Manding languages',\n     '1263': 'Slovak',\n     '1141': 'Danish',\n     '3570': 'Hawaiian',\n     '1292': 'Dari',\n     '5645': 'Other Bantu languages'}}},\n  'FLAPTOPP': {'label': 'Laptop or desktop allocation flag',\n   'predicateType': 'int',\n   'group': 'N/A',\n   'limit': 0,\n   'suggested-weight': 'WGTP',\n   'values': {'item': {'0': 'No', '1': 'Yes', '-1': 'N/A (GQ)'}}},\n  'FPRIVCOVP': {'label': 'Private health insurance coverage recode allocation flag',\n   'predicateType': 'int',\n   'group': 'N/A',\n   'limit': 0,\n   'suggested-weight': 'PWGTP',\n   'values': {'item': {'1': 'Yes', '0': 'No'}}},\n  'LANX': {'label': 'Language other than English spoken at home',\n   'predicateType': 'int',\n   'group': 'N/A',\n   'limit': 0,\n   'suggested-weight': 'PWGTP',\n   'values': {'item': {'2': 'No, speaks only English',\n     '0': 'N/A (less than 5 years old)',\n     '1': 'Yes, speaks another language'}}},\n  'HUPARC': {'label': 'HH presence and age of related children',\n   'predicateType': 'int',\n   'group': 'N/A',\n   'limit': 0,\n   'suggested-weight': 'WGTP',\n   'values': {'item': {'1': 'Presence of related children under 6 years only',\n     '0': 'N/A (GQ/vacant)',\n     '2': 'Presence of related children 6 to 17 years only',\n     '3': 'Presence of related children under 6 years and 6 to 17 years',\n     '4': 'No related children present'}}},\n  'FMVP': {'label': 'When moved into this house or apartment allocation flag',\n   'predicateType': 'int',\n   'group': 'N/A',\n   'limit': 0,\n   'suggested-weight': 'WGTP',\n   'values': {'item': {'-1': 'N/A (GQ)', '0': 'No', '1': 'Yes'}}},\n  'SVAL': {'label': 'Specified owner unit',\n   'predicateType': 'int',\n   'group': 'N/A',\n   'limit': 0,\n   'suggested-weight': 'WGTP',\n   'values': {'item': {'1': 'A single-family home on less than 10 acres.',\n     '0': 'A single-family home on 10 or more acres or any other type of building, including mobile homes, with no regard to acreage.',\n     '-1': 'N/A (GQ/ vacant units, except \"for-sale-only\" and \"sold, not occupied\"/not owned or being bought)'}}},\n  'PWGTP80': {'label': \"Person's Weight replicate 80\",\n   'predicateType': 'int',\n   'group': 'N/A',\n   'limit': 0,\n   'suggested-weight': 'PWGTP',\n   'values': {'range': [{'min': '-9999',\n      'max': '9999',\n      'description': 'Integer weight of person'}]}},\n  'RAC2P': {'label': 'Recoded detailed race code',\n   'predicateType': 'string',\n   'group': 'N/A',\n   'limit': 0,\n   'suggested-weight': 'PWGTP',\n   'values': {'item': {'08': 'Chippewa alone',\n     '09': 'Choctaw alone',\n     '59': 'All combinations of Asian races only',\n     '16': 'Mexican American Indian alone',\n     '64': 'Marshallese alone',\n     '32': 'Inupiat alone',\n     '36': 'Other American Indian and Alaska Native specified',\n     '42': 'Cambodian alone',\n     '51': 'Malaysian alone',\n     '61': 'Samoan alone',\n     '68': 'Two or More Races',\n     '25': \"Tohono O'Odham alone\",\n     '28': 'All other specified American Indian tribe combinations',\n     '40': 'Bhutanese alone',\n     '02': 'Black or African American alone',\n     '46': 'Hmong alone',\n     '49': 'Korean alone',\n     '13': 'Hopi alone',\n     '57': 'Vietnamese alone',\n     '58': 'Other Asian alone',\n     '19': 'Potawatomi alone',\n     '60': 'Native Hawaiian alone',\n     '26': 'Yaqui alone',\n     '27': 'Other specified American Indian tribes alone',\n     '29': 'American Indian, tribe not specified',\n     '33': \"Yup'ik alone\",\n     '34': 'Aleut alone',\n     '03': 'Apache alone',\n     '48': 'Japanese alone',\n     '10': 'Comanche alone',\n     '15': 'Lumbee alone',\n     '62': 'Tongan alone',\n     '21': 'Puget Sound Salish alone',\n     '66': 'Other Native Hawaiian and Other Pacific Islander',\n     '24': 'South American Indian alone',\n     '37': 'American Indian and Alaska Native, not specified',\n     '38': 'Asian Indian alone',\n     '39': 'Bangladeshi alone',\n     '43': 'Chinese, except Taiwanese, alone',\n     '52': 'Mongolian alone',\n     '56': 'Thai alone',\n     '14': 'Iroquois alone',\n     '20': 'Pueblo alone',\n     '23': 'Sioux alone',\n     '45': 'Filipino alone',\n     '07': 'Chickasaw alone',\n     '50': 'Laotian alone',\n     '11': 'Creek alone',\n     '55': 'Sri Lankan alone',\n     '63': 'Chamorro alone',\n     '65': 'Fijian alone',\n     '41': 'Burmese alone',\n     '01': 'White alone',\n     '06': 'Cheyenne alone',\n     '54': 'Pakistani alone',\n     '12': 'Crow alone',\n     '18': 'Pima alone',\n     '31': 'Tlingit-Haida alone',\n     '44': 'Taiwanese alone',\n     '47': 'Indonesian alone',\n     '04': 'Blackfeet alone',\n     '05': 'Cherokee alone',\n     '53': 'Nepalese alone',\n     '17': 'Navajo alone',\n     '67': 'Some Other Race alone',\n     '30': 'Alaskan Athabascan alone',\n     '35': 'Other Alaska Native'}}},\n  'FPOWSP': {'label': 'Place of work state allocation flag',\n   'predicateType': 'int',\n   'group': 'N/A',\n   'limit': 0,\n   'suggested-weight': 'PWGTP',\n   'values': {'item': {'1': 'Yes', '0': 'No'}}},\n  'SSP': {'label': 'Social Security income past 12 months (use ADJINC to adjust SSP to constant dollars)',\n   'predicateType': 'int',\n   'group': 'N/A',\n   'limit': 0,\n   'suggested-weight': 'PWGTP',\n   'values': {'item': {'0': 'None', '-1': 'N/A (less than 15 years old)'},\n    'range': [{'min': '4',\n      'max': '50000',\n      'description': '$4 to $50000 (Rounded and top-coded)'}]}},\n  'FHIMRKSP': {'label': 'Subsidized Marketplace Coverage allocation flag',\n   'predicateType': 'int',\n   'group': 'N/A',\n   'limit': 0,\n   'suggested-weight': 'PWGTP',\n   'values': {'item': {'1': 'Yes', '0': 'No'}}},\n  'R18': {'label': 'Presence of persons under 18 years in household (unweighted)',\n   'predicateType': 'int',\n   'group': 'N/A',\n   'limit': 0,\n   'suggested-weight': 'WGTP',\n   'values': {'item': {'-1': 'N/A (GQ/vacant)',\n     '0': 'No person under 18 in household',\n     '1': '1 or more persons under 18 in household'}}},\n  'NAICSP': {'label': 'North American Industry Classification System (NAICS) recode for 2018 and later based on 2017 NAICS codes',\n   'predicateType': 'string',\n   'group': 'N/A',\n   'limit': 0,\n   'suggested-weight': 'PWGTP',\n   'values': {'item': {'999920': 'Unemployed, With No Work Experience In The Last 5 Years Or Earlier Or Never Worked',\n     '4453': 'RET-Beer, Wine, And Liquor Stores',\n     '45113': 'RET-Sewing, Needlework, And Piece Goods Stores',\n     '5412': 'PRF-Accounting, Tax Preparation, Bookkeeping, And Payroll Services',\n     '3133': 'MFG-Textile And Fabric Finishing And Fabric Coating Mills',\n     '3366': 'MFG-Ship And Boat Building',\n     '32711': 'MFG-Pottery, Ceramics, And Plumbing Fixture',\n     '3399ZM': 'MFG-Miscellaneous Manufacturing, N.E.C.',\n     '5313': 'FIN-Real Estate Property Managers, Offices of Real Estate Appraisers, And Other Activities Related to Real Estate',\n     '92119': 'ADM-Other General Government And Support',\n     '4481': 'RET-Clothing Stores',\n     '6213ZM': 'MED-Offices Of Other Health Practitioners',\n     '8121M': 'SRV-Nail Salons And Other Personal Care Services',\n     '327M': 'MFG-Cement, Concrete, Lime, And Gypsum Product',\n     '42S': 'WHL-Not Specified Wholesale Trade',\n     '522M': 'FIN-Nondepository Credit And Related Activities',\n     '5617Z': 'PRF-Services To Buildings And Dwellings (Except Cleaning During Construction And Immediately After Construction)',\n     '5121': 'INF-Motion Pictures And Video Industries',\n     '32221': 'MFG-Paperboard Container',\n     '611M1': 'EDU-Colleges, Universities, And Professional Schools, Including Junior Colleges',\n     '42491': 'WHL-Farm Supplies Merchant Wholesalers',\n     '7211': 'ENT-Traveler Accommodation',\n     '488': 'TRN-Services Incidental To Transportation',\n     '8139Z': 'SRV-Business, Professional, Political, And Similar Organizations',\n     '7111': 'ENT-Performing Arts Companies',\n     '71395': 'ENT-Bowling Centers',\n     '4523': 'RET-General Merchandise Stores, Including Warehouse Clubs and Supercenters',\n     '722Z': 'ENT-Restaurants And Other Food Services',\n     '2121': 'EXT-Coal Mining',\n     '332M': 'MFG-Structural Metals, And Boiler, Tank, And Shipping Container',\n     '3328': 'MFG-Coating, Engraving, Heat Treating, And Allied Activities',\n     '2212P': 'UTL-Natural Gas Distribution',\n     '532M2': 'FIN-Other Consumer Goods Rental',\n     '5411': 'PRF-Legal Services',\n     '3231': 'MFG-Printing And Related Support Activities',\n     '713Z': 'ENT-Other Amusement, Gambling, And Recreation Industries',\n     '3122': 'MFG-Tobacco',\n     '3118Z': 'MFG-Bakeries And Tortilla, Except Retail Bakeries',\n     '5416': 'PRF-Management, Scientific, And Technical Consulting Services',\n     '5111Z': 'INF-Periodical, Book, And Directory Publishers',\n     '336M': 'MFG-Motor Vehicles And Motor Vehicle Equipment',\n     '813M': 'SRV-Civic, Social, Advocacy Organizations, And Grantmaking And Giving Services',\n     '812112': 'SRV-Beauty Salons',\n     '3261': 'MFG-Plastics Product',\n     '92113': 'ADM-Public Finance Activities',\n     '4243': 'WHL-Apparel, Piece Goods, And Notions Merchant Wholesalers',\n     '928110P3': 'MIL-U.S. Navy',\n     '53M': 'FIN-Commercial, Industrial, And Other Intangible Assets Rental And Leasing',\n     '4237': 'WHL-Hardware, And Plumbing And Heating Equipment, And Supplies Merchant Wholesalers',\n     '45439': 'RET-Other Direct Selling Establishments',\n     '3279': 'MFG-Miscellaneous Nonmetallic Mineral Product',\n     '5112': 'INF-Software Publishers',\n     '562': 'PRF-Waste Management And Remediation Services',\n     '5241': 'FIN-Insurance Carriers',\n     '22S': 'UTL-Not Specified Utilities',\n     '6243': 'SCA-Vocational Rehabilitation Services',\n     '482': 'TRN-Rail Transportation',\n     '623M': 'MED-Residential Care Facilities, Except Skilled Nursing Facilities',\n     '7112': 'ENT-Spectator Sports',\n     '3321': 'MFG-Metal Forgings And Stampings',\n     '113M': 'AGR-Forestry Except Logging',\n     '3313': 'MFG-Aluminum Production And Processing',\n     '3322': 'MFG-Cutlery And Hand Tool',\n     '8113': 'SRV-Commercial And Industrial Machinery And Equipment Repair And Maintenance',\n     '3221': 'MFG-Pulp, Paper, And Paperboard Mills',\n     '32621': 'MFG-Tire',\n     '3336': 'MFG-Engine, Turbine, And Power Transmission Equipment',\n     '3212': 'MFG-Veneer, Plywood, And Engineered Wood Products',\n     '4MS': 'RET-Not Specified Retail Trade',\n     '3115': 'MFG-Dairy Product',\n     '5413': 'PRF-Architectural, Engineering, And Related Services',\n     '812111': 'SRV-Barber Shops',\n     '4231': 'WHL-Motor Vehicle And Motor Vehicle Parts And Supplies Merchant Wholesalers',\n     '4244': 'WHL-Grocery And Related Product Merchant Wholesalers',\n     '928110P4': 'MIL-U.S. Marines',\n     '3272': 'MFG-Glass And Glass Product',\n     '4236': 'WHL-Household Appliances And Electrical And Electronic Goods Merchant Wholesalers',\n     '4238': 'WHL-Machinery, Equipment, And Supplies Merchant Wholesalers',\n     '3162': 'MFG-Footwear',\n     '517311': 'INF-Wired Telecommunications Carriers',\n     '3331M': 'MFG-Construction, And Mining And Oil And Gas Field Machinery',\n     '447': 'RET-Gasoline Stations',\n     '6211': 'MED-Offices Of Physicians',\n     '811192': 'SRV-Car Washes',\n     '622M': 'MED-General Medical And Surgical Hospitals, And Specialty (Except Psychiatric And Substance Abuse) Hospitals',\n     '114': 'AGR-Fishing, Hunting And Trapping',\n     '923': 'ADM-Administration Of Human Resource Programs',\n     '23': 'CON-Construction (The Cleaning Of Buildings And Dwellings Is Incidental During Construction And Immediately After Construction)',\n     '9211MP': 'ADM-Executive Offices And Legislative Bodies',\n     '492': 'TRN-Couriers And Messengers',\n     '7115': 'ENT-Independent Artists, Writers, And Performers',\n     '443142': 'RET-Electronics Stores',\n     '32411': 'MFG-Petroleum Refining',\n     '4411': 'RET-Automobile Dealers',\n     '2123': 'EXT-Nonmetallic Mineral Mining And Quarrying',\n     '51111': 'INF-Newspaper Publishers',\n     '45114': 'RET-Musical Instrument And Supplies Stores',\n     '335M': 'MFG-Electric Lighting And Electrical Equipment, And Other Electrical Component, N.E.C.',\n     '3114': 'MFG-Fruit And Vegetable Preserving And Specialty Food',\n     '3113': 'MFG-Sugar And Confectionery Products',\n     '515': 'INF-Broadcasting (Except Internet)',\n     '3253': 'MFG-Agricultural Chemical',\n     '311S': 'MFG-Not Specified Food Industries',\n     '928110P2': 'MIL-U.S. Air Force',\n     '314Z': 'MFG-Textile Product Mills, Except Carpet And Rug',\n     '42393': 'WHL-Recyclable Material Merchant Wholesalers',\n     '6212': 'MED-Offices Of Dentists',\n     '611M2': 'EDU-Business, Technical, And Trade Schools And Training',\n     '81393': 'SRV-Labor Unions',\n     '3219ZM': 'MFG-Miscellaneous Wood Products',\n     '33MS': 'MFG-Not Specified Metal Industries',\n     '112': 'AGR-Animal Production And Aquaculture',\n     '332MZ': 'MFG-Miscellaneous Fabricated Metal Products',\n     '485M': 'TRN-Bus Service And Urban Transit',\n     '3399M': 'MFG-Sporting And Athletic Goods, And Doll, Toy And Game',\n     '483': 'TRN-Water Transportation',\n     '721M': \"ENT-Recreational Vehicle Parks And Camps, And Rooming And Boarding Houses, Dormitories, And Workers' Camps\",\n     '814': 'SRV-Private Households',\n     '92MP': 'ADM-Justice, Public Order, And Safety Activities',\n     '331M': 'MFG-Iron And Steel Mills And Steel Product',\n     '5613': 'PRF-Employment Services',\n     '3211': 'MFG-Sawmills And Wood Preservation',\n     '3262M': 'MFG-Rubber Products, Except Tires',\n     '4412': 'RET-Other Motor Vehicle Dealers',\n     '4533': 'RET-Used Merchandise Stores',\n     '4413': 'RET-Automotive Parts, Accessories, And Tire Stores',\n     '4442': 'RET-Lawn And Garden Equipment And Supplies Stores',\n     '8131': 'SRV-Religious Organizations',\n     '8129': 'SRV-Other Personal Services',\n     '5415': 'PRF-Computer Systems Design And Related Services',\n     '5418': 'PRF-Advertising, Public Relations, And Related Services',\n     '4234': 'WHL-Professional And Commercial Equipment And Supplies Merchant Wholesalers',\n     '4483': 'RET-Jewelry, Luggage, And Leather Goods Stores',\n     '928110P7': 'MIL-Military Reserves Or National Guard',\n     '446Z': 'RET-Health And Personal Care, Except Drug, Stores',\n     '8111Z': 'SRV-Automotive Repair And Maintenance',\n     '4247': 'WHL-Petroleum And Petroleum Products Merchant Wholesalers',\n     '3222M': 'MFG-Miscellaneous Paper And Pulp Products',\n     '5242': 'FIN-Agencies, Brokerages, And Other Insurance Related Activities',\n     '611M3': 'EDU-Other Schools And Instruction, And Educational Support Services',\n     '213': 'EXT-Support Activities For Mining',\n     '5191ZM': 'INF-Other Information Services, Except Libraries And Archives, And Internet Publishing And Broadcasting And Web Search Portals',\n     '6111': 'EDU-Elementary And Secondary Schools',\n     '115': 'AGR-Support Activities For Agriculture And Forestry',\n     '481': 'TRN-Air Transportation',\n     '484': 'TRN-Truck Transportation',\n     '486': 'TRN-Pipeline Transportation',\n     '487': 'TRN-Scenic And Sightseeing Transportation',\n     '3132Z': 'MFG-Fabric Mills, Except Knitting Mills',\n     '33641M1': 'MFG-Aircraft And Parts',\n     '561M': 'PRF-Other Administrative And Other Support Services',\n     '1133': 'AGR-Logging',\n     '712': 'ENT-Museums, Art Galleries, Historical Sites, And Similar Institutions',\n     '5614': 'PRF-Business Support Services',\n     '8112': 'SRV-Electronic And Precision Equipment Repair And Maintenance',\n     '3341': 'MFG-Computer And Peripheral Equipment',\n     '3335': 'MFG-Metalworking Machinery',\n     '8123': 'SRV-Drycleaning And Laundry Services',\n     '454110': 'RET-Electronic Shopping And Mail-Order Houses',\n     '8122': 'SRV-Funeral Homes, And Cemeteries And Crematories',\n     '4511M': 'RET-Sporting Goods, And Hobby And Toy Stores',\n     '62132': 'MED-Offices Of Optometrists',\n     '3365': 'MFG-Railroad Rolling Stock',\n     '54194': 'PRF-Veterinary Services',\n     '5419Z': 'PRF-Other Professional, Scientific, And Technical Services',\n     '5221M': 'FIN-Savings Institutions, Including Credit Unions',\n     '3256': 'MFG-Soap, Cleaning Compound, And Cosmetics',\n     '454310': 'RET-Fuel Dealers',\n     '45322': 'RET-Gift, Novelty, And Souvenir Shops',\n     '4239Z': 'WHL-Miscellaneous Durable Goods Merchant Wholesalers',\n     '316M': 'MFG-Leather And Hide Tanning And Finishing, And Other Leather And Allied Product',\n     '31M': 'MFG-Knitting Fabric Mills, And Apparel Knitting Mills',\n     '442': 'RET-Furniture And Home Furnishings Stores',\n     '4249Z': 'WHL-Miscellaneous Nondurable Goods Merchant Wholesalers',\n     '6222': 'MED-Psychiatric And Substance Abuse Hospitals',\n     '928P': 'ADM-National Security And International Affairs',\n     '111': 'AGR-Crop Production',\n     '6241': 'SCA-Individual And Family Services',\n     '6244': 'SCA-Child Day Care Services',\n     '311811': 'MFG-Retail Bakeries',\n     '4853': 'TRN-Taxi And Limousine Service',\n     '7224': 'ENT-Drinking Places, Alcoholic Beverages',\n     '92M1': 'ADM-Administration Of Environmental Quality And Housing Programs',\n     '3241M': 'MFG-Miscellaneous Petroleum And Coal Products',\n     '333MS': 'MFG-Machinery, N.E.C. Or Not Specified',\n     '44512': 'RET-Convenience Stores',\n     '517Z': 'INF-Telecommunications, Except Wired Telecommunications Carriers',\n     '711M': 'ENT-Promoters Of Performing Arts, Sports, And Similar Events, Agents And Managers For Artists, Athletes, Entertainers, And Other Public Figures',\n     '327120': 'MFG-Clay Building Material And Refractories',\n     '44611': 'RET-Pharmacies And Drug Stores',\n     '2122': 'EXT-Metal Ore Mining',\n     '334M2': 'MFG-Electronic Component And Product, N.E.C.',\n     '51913': 'INF-Internet Publishing And Broadcasting And Web Search Portals',\n     '44821': 'RET-Shoe Stores',\n     '4452': 'RET-Specialty Food Stores',\n     '3121': 'MFG-Beverage',\n     '3116': 'MFG-Animal Slaughtering And Processing',\n     '3255': 'MFG-Paint, Coating, And Adhesive',\n     '3254': 'MFG-Pharmaceutical And Medicine',\n     '3131': 'MFG-Fiber, Yarn, And Thread Mills',\n     '3252': 'MFG-Resin, Synthetic Rubber, And Fibers And Filaments',\n     '325M': 'MFG-Industrial And Miscellaneous Chemicals',\n     '531M': 'FIN-Lessors Of Real Estate, And Offices Of Real Estate Agents And Brokers',\n     '4232': 'WHL-Furniture And Home Furnishing Merchant Wholesalers',\n     '928110P1': 'MIL-U.S. Army',\n     '928110P6': 'MIL-Armed Forces, Branch Not Specified',\n     '3391': 'MFG-Medical Equipment And Supplies',\n     '221MP': 'UTL-Electric And Gas, And Other Combinations',\n     '4248': 'WHL-Alcoholic Beverages Merchant Wholesalers',\n     '5122': 'INF-Sound Recording Industries',\n     '6214': 'MED-Outpatient Care Centers',\n     '211': 'EXT-Oil And Gas Extraction',\n     '32199M': 'MFG-Prefabricated Wood Buildings And Mobile Homes',\n     '44413': 'RET-Hardware Stores',\n     '92M2': 'ADM-Administration Of Economic Programs And Space Research',\n     '491': 'TRN-Postal Service',\n     'N': 'N/A (less than 16 years old/NILF who last worked more than 5 years ago or never worked)',\n     '443141': 'RET-Household Appliance Stores',\n     '4531': 'RET-Florists',\n     '3315': 'MFG-Foundries',\n     '311M1': 'MFG-Animal Food, Grain And Oilseed Milling',\n     '3327': 'MFG-Machine Shops; Turned Product; Screw, Nut, And Bolt',\n     '334M1': 'MFG-Communications, Audio, And Video Equipment',\n     '4539': 'RET-Miscellaneous Retail Stores',\n     '22132': 'UTL-Sewage Treatment Facilities',\n     '3345': 'MFG-Navigational, Measuring, Electromedical, And Control Instruments',\n     '45121': 'RET-Book Stores And News Dealers',\n     '52M2': 'FIN-Securities, Commodities, Funds, Trusts, And Other Financial Investments',\n     '51912': 'INF-Libraries And Archives',\n     '62131': 'MED-Offices Of Chiropractors',\n     '3MS': 'MFG-Not Specified Manufacturing Industries',\n     '5414': 'PRF-Specialized Design Services',\n     '5417': 'PRF-Scientific Research And Development Services',\n     '45221': 'RET-Department Stores',\n     '2211P': 'UTL-Electric Power Generation, Transmission And Distribution',\n     '3369': 'MFG-Other Transportation Equipment',\n     '5321': 'FIN-Automotive Equipment Rental And Leasing',\n     '4233': 'WHL-Lumber And Other Construction Materials Merchant Wholesalers',\n     '4241': 'WHL-Paper And Paper Products Merchant Wholesalers',\n     '45321': 'RET-Office Supplies And Stationery Stores',\n     '928110P5': 'MIL-U.S. Coast Guard',\n     '4245': 'WHL-Farm Product Raw Material Merchant Wholesalers',\n     '4235': 'WHL-Metals And Minerals, Except Petroleum, Merchant Wholesalers',\n     '315M': 'MFG-Cut And Sew, And Apparel Accessories And Other Apparel',\n     '4251': 'WHL-Wholesale Electronic Markets And Agents And Brokers',\n     '56173': 'PRF-Landscaping Services',\n     '424M': 'WHL-Drugs, Sundries, And Chemical And Allied Products Merchant Wholesalers',\n     '33311': 'MFG-Agricultural Implement',\n     '337': 'MFG-Furniture And Related Product',\n     '621M': 'MED-Other Health Care Services',\n     '33299M': 'MFG-Ordnance',\n     '6216': 'MED-Home Health Care Services',\n     '6231': 'MED-Nursing Care Facilities (Skilled Nursing Facilities)',\n     '4441Z': 'RET-Building Material And Supplies Dealers',\n     '6242': 'SCA-Community Food And Housing, And Emergency Services',\n     '493': 'TRN-Warehousing And Storage',\n     '44511': 'RET-Supermarkets And Other Grocery (Except Convenience) Stores',\n     '33641M2': 'MFG-Aerospace Products And Parts',\n     '5182': 'INF-Data Processing, Hosting, And Related Services',\n     '3314': 'MFG-Nonferrous Metal (Except Aluminum) Production And Processing',\n     '5615': 'PRF-Travel Arrangements And Reservation Services',\n     '5616': 'PRF-Investigation And Security Services',\n     '55': 'PRF-Management Of Companies And Enterprises',\n     '4542': 'RET-Vending Machine Operators',\n     '311M2': 'MFG-Seafood And Other Miscellaneous Foods, N.E.C.',\n     '8114': 'SRV-Personal And Household Goods Repair And Maintenance',\n     '31411': 'MFG-Carpet And Rug Mills',\n     '3333': 'MFG-Commercial And Service Industry Machinery',\n     '3352': 'MFG-Household Appliance',\n     '2213M': 'UTL-Water, Steam, Air-Conditioning, And Irrigation Systems',\n     '52M1': 'FIN-Banking And Related Activities'}}},\n  'WATFP': {'label': 'Water cost flag variable',\n   'predicateType': 'int',\n   'group': 'N/A',\n   'limit': 0,\n   'suggested-weight': 'WGTP',\n   'values': {'item': {'0': 'N/A (GQ/vacant)',\n     '1': 'Included in rent or in condo fee',\n     '3': 'Valid annual water cost in WATP',\n     '2': 'No charge'}}},\n  'RMSP': {'label': 'Number of rooms',\n   'predicateType': 'int',\n   'group': 'N/A',\n   'limit': 0,\n   'suggested-weight': 'WGTP',\n   'values': {'item': {'0': 'N/A (GQ)'},\n    'range': [{'min': '1', 'max': '99', 'description': 'Rooms (Top-coded)'}]}},\n  'FDRATP': {'label': 'Disability rating percentage allocation flag',\n   'predicateType': 'int',\n   'group': 'N/A',\n   'limit': 0,\n   'suggested-weight': 'PWGTP',\n   'values': {'item': {'1': 'Yes', '0': 'No'}}},\n  'BDSP': {'label': 'Number of bedrooms',\n   'predicateType': 'int',\n   'group': 'N/A',\n   'limit': 0,\n   'suggested-weight': 'WGTP',\n   'values': {'item': {'-1': 'N/A (GQ)'},\n    'range': [{'min': '0',\n      'max': '99',\n      'description': '0 to 99 bedrooms (Top-coded)'}]}},\n  'FGASP': {'label': 'Gas cost (monthly cost) allocation flag',\n   'predicateType': 'int',\n   'group': 'N/A',\n   'limit': 0,\n   'suggested-weight': 'WGTP',\n   'values': {'item': {'1': 'Yes', '0': 'No', '-1': 'N/A (GQ)'}}},\n  'RESMODE': {'label': 'Response mode',\n   'predicateType': 'int',\n   'group': 'N/A',\n   'limit': 0,\n   'suggested-weight': 'WGTP',\n   'values': {'item': {'1': 'MAIL',\n     '0': 'N/A (GQ)',\n     '2': 'CATI/CAPI',\n     '3': 'Internet'}}},\n  'FSEXP': {'label': 'Sex allocation flag',\n   'predicateType': 'int',\n   'group': 'N/A',\n   'limit': 0,\n   'suggested-weight': 'PWGTP',\n   'values': {'item': {'1': 'Yes', '0': 'No'}}},\n  'MHP': {'label': 'Mobile home costs (yearly amount, use ADJHSG to adjust MHP to constant dollars)',\n   'predicateType': 'int',\n   'group': 'N/A',\n   'limit': 0,\n   'suggested-weight': 'WGTP',\n   'values': {'item': {'-1': 'N/A (GQ/vacant/not owned or being bought/ not mobile home)',\n     '00000': 'None'},\n    'range': [{'min': '1',\n      'max': '99999',\n      'description': '$1 to $99999 (Rounded and top-coded)'}]}},\n  'REFR': {'label': 'Refrigerator',\n   'predicateType': 'int',\n   'group': 'N/A',\n   'limit': 0,\n   'suggested-weight': 'WGTP',\n   'values': {'item': {'2': 'No', '1': 'Yes', '0': 'N/A (GQ)'}}},\n  'POWSP': {'label': 'Place of work - State or foreign country recode',\n   'predicateType': 'string',\n   'group': 'N/A',\n   'limit': 0,\n   'values': {'item': {'036': 'New York/NY',\n     '041': 'Oregon/OR',\n     '048': 'Texas/TX',\n     '054': 'West Virginia/WV',\n     '021': 'Kentucky/KY',\n     '004': 'Arizona/AZ',\n     '005': 'Arkansas/AR',\n     '251': 'Eastern Asia',\n     '012': 'Florida/FL',\n     '023': 'Maine/ME',\n     '024': 'Maryland/MD',\n     '026': 'Michigan/MI',\n     '029': 'Missouri/MO',\n     '035': 'New Mexico/NM',\n     '042': 'Pennsylvania/PA',\n     '008': 'Colorado/CO',\n     '013': 'Georgia/GA',\n     '022': 'Louisiana/LA',\n     '303': 'Mexico',\n     '038': 'North Dakota/ND',\n     '006': 'California/CA',\n     '254': 'Other Asia, Not Specified',\n     '016': 'Idaho/ID',\n     '399': 'Americas, Not Specified',\n     '039': 'Ohio/OH',\n     '040': 'Oklahoma/OK',\n     '044': 'Rhode Island/RI',\n     '045': 'South Carolina/SC',\n     '002': 'Alaska/AK',\n     '051': 'Virginia/VA',\n     'N': 'N/A (not a worker-not in the labor force, including persons under 16 years; unemployed; employed, with a job not at work; Armed Forces, with a job but not at work)',\n     '056': 'Wyoming/WY',\n     '072': 'Puerto Rico',\n     '047': 'Tennessee/TN',\n     '053': 'Washington/WA',\n     '010': 'Delaware/DE',\n     '011': 'District of Columbia/DC',\n     '055': 'Wisconsin/WI',\n     '015': 'Hawaii/HI',\n     '018': 'Indiana/IN',\n     '020': 'Kansas/KS',\n     '025': 'Massachusetts/MA',\n     '030': 'Montana/MT',\n     '031': 'Nebraska/NE',\n     '032': 'Nevada/NV',\n     '037': 'North Carolina/NC',\n     '001': 'Alabama/AL',\n     '019': 'Iowa/IA',\n     '301': 'Canada',\n     '027': 'Minnesota/MN',\n     '033': 'New Hampshire/NH',\n     '034': 'New Jersey/NJ',\n     '555': 'Other US Island Areas Not Specified, Africa, Oceania, at Sea, or Abroad, Not Specified',\n     '166': 'Europe',\n     '046': 'South Dakota/SD',\n     '049': 'Utah/UT',\n     '009': 'Connecticut/CT',\n     '050': 'Vermont/VT',\n     '017': 'Illinois/IL',\n     '028': 'Mississippi/MS'}}},\n  'FPLMP': {'label': 'Complete plumbing facilities allocation flag',\n   'predicateType': 'int',\n   'group': 'N/A',\n   'limit': 0,\n   'suggested-weight': 'WGTP',\n   'values': {'item': {'0': 'No', '-1': 'N/A (GQ)', '1': 'Yes'}}},\n  'JWAP': {'label': 'Time of arrival at work - hour and minute',\n   'predicateType': 'int',\n   'group': 'N/A',\n   'limit': 0,\n   'suggested-weight': 'PWGTP',\n   'values': {'item': {'221': '6:35 p.m. to 6:39 p.m.',\n     '189': '3:55 p.m. to 3:59 p.m.',\n     '146': '12:20 p.m. to 12:24 p.m.',\n     '122': '10:20 a.m. to 10:24 a.m.',\n     '260': '9:50 p.m. to 9:54 p.m.',\n     '258': '9:40 p.m. to 9:44 p.m.',\n     '210': '5:40 p.m. to 5:44 p.m.',\n     '142': '12:00 p.m. to 12:04 p.m.',\n     '094': '8:00 a.m. to 8:04 a.m.',\n     '220': '6:30 p.m. to 6:34 p.m.',\n     '192': '4:10 p.m. to 4:14 p.m.',\n     '171': '2:25 p.m. to 2:29 p.m.',\n     '058': '5:00 a.m. to 5:04 a.m.',\n     '048': '4:10 a.m. to 4:14 a.m.',\n     '227': '7:05 p.m. to 7:09 p.m.',\n     '274': '11:00 p.m. to 11:04 p.m.',\n     '198': '4:40 p.m. to 4:44 p.m.',\n     '184': '3:30 p.m. to 3:34 p.m.',\n     '163': '1:45 p.m. to 1:49 p.m.',\n     '228': '7:10 p.m. to 7:14 p.m.',\n     '165': '1:55 p.m. to 1:59 p.m.',\n     '222': '6:40 p.m. to 6:44 p.m.',\n     '218': '6:20 p.m. to 6:24 p.m.',\n     '076': '6:30 a.m. to 6:34 a.m.',\n     '261': '9:55 p.m. to 9:59 p.m.',\n     '224': '6:50 p.m. to 6:54 p.m.',\n     '091': '7:45 a.m. to 7:49 a.m.',\n     '270': '10:40 p.m. to 10:44 p.m.',\n     '234': '7:40 p.m. to 7:44 p.m.',\n     '164': '1:50 p.m. to 1:54 p.m.',\n     '107': '9:05 a.m. to 9:09 a.m.',\n     '017': '1:30 a.m. to 1:34 a.m.',\n     '0': 'N/A (not a worker; worker who worked at home)',\n     '271': '10:45 p.m. to 10:49 p.m.',\n     '085': '7:15 a.m. to 7:19 a.m.',\n     '020': '1:45 a.m. to 1:49 a.m.',\n     '276': '11:10 p.m. to 11:14 p.m.',\n     '235': '7:45 p.m. to 7:49 p.m.',\n     '197': '4:35 p.m. to 4:39 p.m.',\n     '075': '6:25 a.m. to 6:29 a.m.',\n     '065': '5:35 a.m. to 5:39 a.m.',\n     '031': '2:45 a.m. to 2:49 a.m.',\n     '262': '10:00 p.m. to 10:04 p.m.',\n     '259': '9:45 p.m. to 9:49 p.m.',\n     '256': '9:30 p.m. to 9:34 p.m.',\n     '251': '9:05 p.m. to 9:09 p.m.',\n     '101': '8:35 a.m. to 8:39 a.m.',\n     '173': '2:35 p.m. to 2:39 p.m.',\n     '156': '1:10 p.m. to 1:14 p.m.',\n     '121': '10:15 a.m. to 10:19 a.m.',\n     '053': '4:35 a.m. to 4:39 a.m.',\n     '009': '12:45 a.m. to 12:49 a.m.',\n     '284': '11:50 p.m. to 11:54 p.m.',\n     '137': '11:35 a.m. to 11:39 a.m.',\n     '124': '10:30 a.m. to 10:34 a.m.',\n     '090': '7:40 a.m. to 7:44 a.m.',\n     '039': '3:25 a.m. to 3:29 a.m.',\n     '011': '1:00 a.m. to 1:04 a.m.',\n     '006': '12:25 a.m. to 12:29 a.m.',\n     '202': '5:00 p.m. to 5:04 p.m.',\n     '008': '12:40 a.m. to 12:44 a.m.',\n     '277': '11:15 p.m. to 11:19 p.m.',\n     '219': '6:25 p.m. to 6:29 p.m.',\n     '150': '12:40 p.m. to 12:44 p.m.',\n     '035': '3:05 a.m. to 3:09 a.m.',\n     '004': '12:15 a.m. to 12:19 a.m.',\n     '181': '3:15 p.m. to 3:19 p.m.',\n     '144': '12:10 p.m. to 12:14 p.m.',\n     '082': '7:00 a.m. to 7:04 a.m.',\n     '249': '8:55 p.m. to 8:59 p.m.',\n     '230': '7:20 p.m. to 7:24 p.m.',\n     '205': '5:15 p.m. to 5:19 p.m.',\n     '117': '9:55 a.m. to 9:59 a.m.',\n     '097': '8:15 a.m. to 8:19 a.m.',\n     '092': '7:50 a.m. to 7:54 a.m.',\n     '034': '3:00 a.m. to 3:04 a.m.',\n     '152': '12:50 p.m. to 12:54 p.m.',\n     '129': '10:55 a.m. to 10:59 a.m.',\n     '044': '3:50 a.m. to 3:54 a.m.',\n     '183': '3:25 p.m. to 3:29 p.m.',\n     '148': '12:30 p.m. to 12:34 p.m.',\n     '132': '11:10 a.m. to 11:14 a.m.',\n     '089': '7:35 a.m. to 7:39 a.m.',\n     '042': '3:40 a.m. to 3:44 a.m.',\n     '002': '12:05 a.m. to 12:09 a.m.',\n     '246': '8:40 p.m. to 8:44 p.m.',\n     '233': '7:35 p.m. to 7:39 p.m.',\n     '166': '2:00 p.m. to 2:04 p.m.',\n     '138': '11:40 a.m. to 11:44 a.m.',\n     '118': '10:00 a.m. to 10:04 a.m.',\n     '071': '6:05 a.m. to 6:09 a.m.',\n     '273': '10:55 p.m. to 10:59 p.m.',\n     '077': '6:35 a.m. to 6:39 a.m.',\n     '069': '5:55 a.m. to 5:59 a.m.',\n     '050': '4:20 a.m. to 4:24 a.m.',\n     '257': '9:35 p.m. to 9:39 p.m.',\n     '093': '7:55 a.m. to 7:59 a.m.',\n     '079': '6:45 a.m. to 6:49 a.m.',\n     '055': '4:45 a.m. to 4:49 a.m.',\n     '052': '4:30 a.m. to 4:34 a.m.',\n     '015': '1:20 a.m. to 1:24 a.m.',\n     '254': '9:20 p.m. to 9:24 p.m.',\n     '185': '3:35 p.m. to 3:39 p.m.',\n     '125': '10:35 a.m. to 10:39 a.m.',\n     '068': '5:50 a.m. to 5:54 a.m.',\n     '067': '5:45 a.m. to 5:49 a.m.',\n     '022': '2:00 a.m. to 2:04 a.m.',\n     '199': '4:45 p.m. to 4:49 p.m.',\n     '084': '7:10 a.m. to 7:14 a.m.',\n     '041': '3:35 a.m. to 3:39 a.m.',\n     '187': '3:45 p.m. to 3:49 p.m.',\n     '182': '3:20 p.m. to 3:24 p.m.',\n     '140': '11:50 a.m. to 11:54 a.m.',\n     '206': '5:20 p.m. to 5:24 p.m.',\n     '019': '1:40 a.m. to 1:44 a.m.',\n     '014': '1:15 a.m. to 1:19 a.m.',\n     '209': '5:35 p.m. to 5:39 p.m.',\n     '080': '6:50 a.m. to 6:54 a.m.',\n     '265': '10:15 p.m. to 10:19 p.m.',\n     '244': '8:30 p.m. to 8:34 p.m.',\n     '059': '5:05 a.m. to 5:09 a.m.',\n     '013': '1:10 a.m. to 1:14 a.m.',\n     '272': '10:50 p.m. to 10:54 p.m.',\n     '208': '5:30 p.m. to 5:34 p.m.',\n     '178': '3:00 p.m. to 3:04 p.m.',\n     '172': '2:30 p.m. to 2:34 p.m.',\n     '100': '8:30 a.m. to 8:34 a.m.',\n     '095': '8:05 a.m. to 8:09 a.m.',\n     '088': '7:30 a.m. to 7:34 a.m.',\n     '033': '2:55 a.m. to 2:59 a.m.',\n     '239': '8:05 p.m. to 8:09 p.m.',\n     '074': '6:20 a.m. to 6:24 a.m.',\n     '037': '3:15 a.m. to 3:19 a.m.',\n     '243': '8:25 p.m. to 8:29 p.m.',\n     '160': '1:30 p.m. to 1:34 p.m.',\n     '149': '12:35 p.m. to 12:39 p.m.',\n     '106': '9:00 a.m. to 9:04 a.m.',\n     '103': '8:45 a.m. to 8:49 a.m.',\n     '081': '6:55 a.m. to 6:59 a.m.',\n     '005': '12:20 a.m. to 12:24 a.m.',\n     '143': '12:05 p.m. to 12:09 p.m.',\n     '025': '2:15 a.m. to 2:19 a.m.',\n     '212': '5:50 p.m. to 5:54 p.m.',\n     '073': '6:15 a.m. to 6:19 a.m.',\n     '043': '3:45 a.m. to 3:49 a.m.',\n     '023': '2:05 a.m. to 2:09 a.m.',\n     '268': '10:30 p.m. to 10:34 p.m.',\n     '170': '2:20 p.m. to 2:24 p.m.',\n     '157': '1:15 p.m. to 1:19 p.m.',\n     '279': '11:25 p.m. to 11:29 p.m.',\n     '211': '5:45 p.m. to 5:49 p.m.',\n     '179': '3:05 p.m. to 3:09 p.m.',\n     '046': '4:00 a.m. to 4:04 a.m.',\n     '001': '12:00 a.m. to 12:04 a.m.',\n     '196': '4:30 p.m. to 4:34 p.m.',\n     '194': '4:20 p.m. to 4:24 p.m.',\n     '114': '9:40 a.m. to 9:44 a.m.',\n     '098': '8:20 a.m. to 8:24 a.m.',\n     '036': '3:10 a.m. to 3:14 a.m.',\n     '007': '12:30 a.m. to 12:39 a.m.',\n     '269': '10:35 p.m. to 10:39 p.m.',\n     '029': '2:35 a.m. to 2:39 a.m.',\n     '214': '6:00 p.m. to 6:04 p.m.',\n     '174': '2:40 p.m. to 2:44 p.m.',\n     '158': '1:20 p.m. to 1:24 p.m.',\n     '135': '11:25 a.m. to 11:29 a.m.',\n     '056': '4:50 a.m. to 4:54 a.m.',\n     '051': '4:25 a.m. to 4:29 a.m.',\n     '266': '10:20 p.m. to 10:24 p.m.',\n     '141': '11:55 a.m. to 11:59 a.m.',\n     '139': '11:45 a.m. to 11:49 a.m.',\n     '264': '10:10 p.m. to 10:14 p.m.',\n     '223': '6:45 p.m. to 6:49 p.m.',\n     '207': '5:25 p.m. to 5:29 p.m.',\n     '169': '2:15 p.m. to 2:19 p.m.',\n     '126': '10:40 a.m. to 10:44 a.m.',\n     '111': '9:25 a.m. to 9:29 a.m.',\n     '087': '7:25 a.m. to 7:29 a.m.',\n     '054': '4:40 a.m. to 4:44 a.m.',\n     '028': '2:30 a.m. to 2:34 a.m.',\n     '215': '6:05 p.m. to 6:09 p.m.',\n     '203': '5:05 p.m. to 5:09 p.m.',\n     '134': '11:20 a.m. to 11:24 a.m.',\n     '105': '8:55 a.m. to 8:59 a.m.',\n     '016': '1:25 a.m. to 1:29 a.m.',\n     '225': '6:55 p.m. to 6:59 p.m.',\n     '217': '6:15 p.m. to 6:19 p.m.',\n     '216': '6:10 p.m. to 6:14 p.m.',\n     '078': '6:40 a.m. to 6:44 a.m.',\n     '018': '1:35 a.m. to 1:39 a.m.',\n     '180': '3:10 p.m. to 3:14 p.m.',\n     '060': '5:10 a.m. to 5:14 a.m.',\n     '241': '8:15 p.m. to 8:19 p.m.',\n     '204': '5:10 p.m. to 5:14 p.m.',\n     '070': '6:00 a.m. to 6:04 a.m.',\n     '064': '5:30 a.m. to 5:34 a.m.',\n     '153': '12:55 p.m. to 12:59 p.m.',\n     '151': '12:45 p.m. to 12:49 p.m.',\n     '123': '10:25 a.m. to 10:29 a.m.',\n     '119': '10:05 a.m. to 10:09 a.m.',\n     '021': '1:50 a.m. to 1:59 a.m.',\n     '281': '11:35 p.m. to 11:39 p.m.',\n     '201': '4:55 p.m. to 4:59 p.m.',\n     '167': '2:05 p.m. to 2:09 p.m.',\n     '133': '11:15 a.m. to 11:19 a.m.',\n     '057': '4:55 a.m. to 4:59 a.m.',\n     '282': '11:40 p.m. to 11:44 p.m.',\n     '267': '10:25 p.m. to 10:29 p.m.',\n     '232': '7:30 p.m. to 7:34 p.m.',\n     '226': '7:00 p.m. to 7:04 p.m.',\n     '191': '4:05 p.m. to 4:09 p.m.',\n     '177': '2:55 p.m. to 2:59 p.m.',\n     '161': '1:35 p.m. to 1:39 p.m.',\n     '108': '9:10 a.m. to 9:14 a.m.',\n     '061': '5:15 a.m. to 5:19 a.m.',\n     '248': '8:50 p.m. to 8:54 p.m.',\n     '154': '1:00 p.m. to 1:04 p.m.',\n     '136': '11:30 a.m. to 11:34 a.m.',\n     '104': '8:50 a.m. to 8:54 a.m.',\n     '186': '3:40 p.m. to 3:44 p.m.',\n     '010': '12:50 a.m. to 12:59 a.m.',\n     '247': '8:45 p.m. to 8:49 p.m.',\n     '162': '1:40 p.m. to 1:44 p.m.',\n     '147': '12:25 p.m. to 12:29 p.m.',\n     '116': '9:50 a.m. to 9:54 a.m.',\n     '072': '6:10 a.m. to 6:14 a.m.',\n     '062': '5:20 a.m. to 5:24 a.m.',\n     '049': '4:15 a.m. to 4:19 a.m.',\n     '263': '10:05 p.m. to 10:09 p.m.',\n     '193': '4:15 p.m. to 4:19 p.m.',\n     '083': '7:05 a.m. to 7:09 a.m.',\n     '003': '12:10 a.m. to 12:14 a.m.',\n     '280': '11:30 p.m. to 11:34 p.m.',\n     '278': '11:20 p.m. to 11:24 p.m.',\n     '253': '9:15 p.m. to 9:19 p.m.',\n     '252': '9:10 p.m. to 9:14 p.m.',\n     '200': '4:50 p.m. to 4:54 p.m.',\n     '190': '4:00 p.m. to 4:04 p.m.',\n     '175': '2:45 p.m. to 2:49 p.m.',\n     '255': '9:25 p.m. to 9:29 p.m.',\n     '155': '1:05 p.m. to 1:09 p.m.',\n     '128': '10:50 a.m. to 10:54 a.m.',\n     '038': '3:20 a.m. to 3:24 a.m.',\n     '285': '11:55 p.m. to 11:59 p.m.',\n     '229': '7:15 p.m. to 7:19 p.m.',\n     '176': '2:50 p.m. to 2:54 p.m.',\n     '159': '1:25 p.m. to 1:29 p.m.',\n     '120': '10:10 a.m. to 10:14 a.m.',\n     '102': '8:40 a.m. to 8:44 a.m.',\n     '032': '2:50 a.m. to 2:54 a.m.',\n     '168': '2:10 p.m. to 2:14 p.m.',\n     '099': '8:25 a.m. to 8:29 a.m.',\n     '096': '8:10 a.m. to 8:14 a.m.',\n     '040': '3:30 a.m. to 3:34 a.m.',\n     '283': '11:45 p.m. to 11:49 p.m.',\n     '245': '8:35 p.m. to 8:39 p.m.',\n     '231': '7:25 p.m. to 7:29 p.m.',\n     '145': '12:15 p.m. to 12:19 p.m.',\n     '131': '11:05 a.m. to 11:09 a.m.',\n     '110': '9:20 a.m. to 9:24 a.m.',\n     '109': '9:15 a.m. to 9:19 a.m.',\n     '063': '5:25 a.m. to 5:29 a.m.',\n     '045': '3:55 a.m. to 3:59 a.m.',\n     '030': '2:40 a.m. to 2:44 a.m.',\n     '237': '7:55 p.m. to 7:59 p.m.',\n     '213': '5:55 p.m. to 5:59 p.m.',\n     '127': '10:45 a.m. to 10:49 a.m.',\n     '026': '2:20 a.m. to 2:24 a.m.',\n     '195': '4:25 p.m. to 4:29 p.m.',\n     '047': '4:05 a.m. to 4:09 a.m.',\n     '066': '5:40 a.m. to 5:44 a.m.',\n     '250': '9:00 p.m. to 9:04 p.m.',\n     '240': '8:10 p.m. to 8:14 p.m.',\n     '238': '8:00 p.m. to 8:04 p.m.',\n     '188': '3:50 p.m. to 3:54 p.m.',\n     '130': '11:00 a.m. to 11:04 a.m.',\n     '115': '9:45 a.m. to 9:49 a.m.',\n     '113': '9:35 a.m. to 9:39 a.m.',\n     '112': '9:30 a.m. to 9:34 a.m.',\n     '027': '2:25 a.m. to 2:29 a.m.',\n     '024': '2:10 a.m. to 2:14 a.m.',\n     '012': '1:05 a.m. to 1:09 a.m.',\n     '275': '11:05 p.m. to 11:09 p.m.',\n     '242': '8:20 p.m. to 8:24 p.m.',\n     '236': '7:50 p.m. to 7:54 p.m.',\n     '086': '7:20 a.m. to 7:24 a.m.'}}},\n  'DIALUP': {'label': 'Dial-up service',\n   'predicateType': 'int',\n   'group': 'N/A',\n   'limit': 0,\n   'suggested-weight': 'WGTP',\n   'values': {'item': {'0': 'N/A (GQ/vacant/no paid access to the internet)',\n     '1': 'Yes',\n     '2': 'No'}}},\n  'ELEFP': {'label': 'Electricity cost flag variable',\n   'predicateType': 'int',\n   'group': 'N/A',\n   'limit': 0,\n   'suggested-weight': 'WGTP',\n   'values': {'item': {'2': 'No charge or electricity not used',\n     '0': 'N/A (GQ/vacant)',\n     '3': 'Valid monthly electricity cost in ELEP',\n     '1': 'Included in rent or in condo fee'}}},\n  'RELSHIPP': {'label': 'Relationship',\n   'predicateType': 'int',\n   'group': 'N/A',\n   'limit': 0,\n   'suggested-weight': 'PWGTP',\n   'values': {'item': {'27': 'Stepson or stepdaughter',\n     '25': 'Biological son or daughter',\n     '34': 'Roommate or housemate',\n     '24': 'Same-sex unmarried partner',\n     '38': 'Noninstitutionalized group quarters population',\n     '28': 'Brother or sister',\n     '29': 'Father or mother',\n     '31': 'Parent-in-law',\n     '35': 'Foster child',\n     '21': 'Opposite-sex husband/wife/spouse',\n     '20': 'Reference person',\n     '32': 'Son-in-law or daughter-in-law',\n     '37': 'Institutionalized group quarters population',\n     '26': 'Adopted son or daughter',\n     '33': 'Other relative',\n     '30': 'Grandchild',\n     '36': 'Other nonrelative',\n     '22': 'Opposite-sex unmarried partner',\n     '23': 'Same-sex husband/wife/spouse'}}},\n  'MIG': {'label': 'Mobility status (lived here 1 year ago)',\n   'predicateType': 'int',\n   'group': 'N/A',\n   'limit': 0,\n   'suggested-weight': 'PWGTP',\n   'values': {'item': {'2': 'No, outside US and Puerto Rico',\n     '3': 'No, different house in US or Puerto Rico',\n     '1': 'Yes, same house (nonmovers)',\n     '0': 'N/A(less than 1 year old)'}}},\n  'MIL': {'label': 'Military service',\n   'predicateType': 'int',\n   'group': 'N/A',\n   'limit': 0,\n   'suggested-weight': 'PWGTP',\n   'values': {'item': {'0': 'N/A (less than 17 years old)',\n     '1': 'Now on active duty',\n     '4': 'Never served in the military',\n     '2': 'On active duty in the past, but not now',\n     '3': 'Only on active duty for training in Reserves/National Guard'}}},\n  'RC': {'label': 'Related child',\n   'predicateType': 'int',\n   'group': 'N/A',\n   'limit': 0,\n   'suggested-weight': 'PWGTP',\n   'values': {'item': {'0': 'No', '-1': 'N/A (in GQ)', '1': 'Yes'}}},\n  'WAOB': {'label': 'World area of birth',\n   'predicateType': 'int',\n   'group': 'N/A',\n   'limit': 0,\n   'suggested-weight': 'PWGTP',\n   'values': {'item': {'8': 'Oceania and at Sea (POBP = 060,500-554)',\n     '1': 'US state (POBP = 001-059)',\n     '2': 'PR and US Island Areas (POBP = 061-099)',\n     '6': 'Africa (POBP = 400-499)',\n     '3': 'Latin America (POBP = 303,310-399)',\n     '4': 'Asia (POBP = 158-159,161,200-299)',\n     '7': 'Northern America (POBP = 300-302,304-309)',\n     '5': 'Europe (POBP = 100-157,160,162-199)'}}},\n  'FVACOTHP': {'label': 'Other vacancy allocation flag',\n   'predicateType': 'int',\n   'group': 'N/A',\n   'limit': 0,\n   'suggested-weight': 'WGTP',\n   'values': {'item': {'0': 'No', '1': 'Yes', '-1': 'N/A (GQ)'}}},\n  'FHINS7P': {'label': 'Indian health service allocation flag',\n   'predicateType': 'int',\n   'group': 'N/A',\n   'limit': 0,\n   'suggested-weight': 'PWGTP',\n   'values': {'item': {'1': 'Yes', '0': 'No'}}},\n  'RT': {'label': 'Record Type',\n   'predicateType': 'string',\n   'group': 'N/A',\n   'limit': 0,\n   'suggested-weight': 'PWGTP',\n   'values': {'item': {'H': 'Housing Record or Group Quarters Unit',\n     'P': 'Person Record'}}},\n  'INTP': {'label': 'Interest, dividends, and net rental income past 12 months (signed, use ADJINC to adjust to constant dollars)',\n   'predicateType': 'int',\n   'group': 'N/A',\n   'limit': 0,\n   'suggested-weight': 'PWGTP',\n   'values': {'item': {'-10001': 'N/A (less than 15 years old)', '0': 'None'},\n    'range': [{'min': '-10000',\n      'max': '-4',\n      'description': 'Loss of $4 to $10000 (Rounded and bottom-coded)'},\n     {'min': '4',\n      'max': '999999',\n      'description': '$4 to $999999 (Rounded and top-coded)'}]}},\n  'RACASN': {'label': 'Asian recode (Asian alone or in combination with one or more other races)',\n   'predicateType': 'int',\n   'group': 'N/A',\n   'limit': 0,\n   'suggested-weight': 'PWGTP',\n   'values': {'item': {'1': 'Yes', '0': 'No'}}},\n  'FRELSHIPP': {'label': 'Relationship allocation flag',\n   'predicateType': 'int',\n   'group': 'N/A',\n   'limit': 0,\n   'suggested-weight': 'PWGTP',\n   'values': {'item': {'0': 'No', '1': 'Yes'}}},\n  'FHISPEEDP': {'label': 'Broadband (high speed) Internet service such as cable, fiber optic, or DSL service allocation flag',\n   'predicateType': 'int',\n   'group': 'N/A',\n   'limit': 0,\n   'suggested-weight': 'WGTP',\n   'values': {'item': {'1': 'Yes', '0': 'No', '-1': 'N/A (GQ)'}}},\n  'FINDP': {'label': 'Industry allocation flag',\n   'predicateType': 'int',\n   'group': 'N/A',\n   'limit': 0,\n   'suggested-weight': 'PWGTP',\n   'values': {'item': {'0': 'No', '1': 'Yes'}}},\n  'FPAP': {'label': 'Public assistance income allocation flag',\n   'predicateType': 'int',\n   'group': 'N/A',\n   'limit': 0,\n   'suggested-weight': 'PWGTP',\n   'values': {'item': {'0': 'No', '1': 'Yes'}}},\n  'JWMNP': {'label': 'Travel time to work',\n   'predicateType': 'int',\n   'group': 'N/A',\n   'limit': 0,\n   'suggested-weight': 'PWGTP',\n   'values': {'item': {'0': 'N/A (not a worker or worker who worked at home)'},\n    'range': [{'min': '1',\n      'max': '200',\n      'description': '1 to 200 minutes to get to work (Top-coded)'}]}},\n  'FHINS6P': {'label': 'VA (enrolled for VA health care) allocation flag',\n   'predicateType': 'int',\n   'group': 'N/A',\n   'limit': 0,\n   'suggested-weight': 'PWGTP',\n   'values': {'item': {'1': 'Yes', '0': 'No'}}},\n  'FKITP': {'label': 'Complete kitchen facilities allocation flag',\n   'predicateType': 'int',\n   'group': 'N/A',\n   'limit': 0,\n   'suggested-weight': 'WGTP',\n   'values': {'item': {'0': 'No', '-1': 'N/A (GQ)', '1': 'Yes'}}},\n  'INSP': {'label': 'Fire/hazard/flood insurance (yearly amount, use ADJHSG to adjust INSP to constant dollars)',\n   'predicateType': 'int',\n   'group': 'N/A',\n   'limit': 0,\n   'suggested-weight': 'WGTP',\n   'values': {'item': {'00000': 'None',\n     '-1': 'N/A (GQ/vacant/not owned or being bought)'},\n    'range': [{'min': '1',\n      'max': '10000',\n      'description': '$1 to $10000 (Rounded and top-coded)'}]}},\n  'ST': {'label': 'State Code based on 2010 Census definitions',\n   'group': 'N/A',\n   'limit': 0,\n   'values': {'item': {'01': 'Alabama/AL',\n     '49': 'Utah/UT',\n     '21': 'Kentucky/KY',\n     '26': 'Michigan/MI',\n     '29': 'Missouri/MO',\n     '32': 'Nevada/NV',\n     '34': 'New Jersey/NJ',\n     '08': 'Colorado/CO',\n     '51': 'Virginia/VA',\n     '39': 'Ohio/OH',\n     '02': 'Alaska/AK',\n     '46': 'South Dakota/SD',\n     '04': 'Arizona/AZ',\n     '06': 'California/CA',\n     '55': 'Wisconsin/WI',\n     '15': 'Hawaii/HI',\n     '22': 'Louisiana/LA',\n     '30': 'Montana/MT',\n     '47': 'Tennessee/TN',\n     '48': 'Texas/TX',\n     '09': 'Connecticut/CT',\n     '50': 'Vermont/VT',\n     '53': 'Washington/WA',\n     '17': 'Illinois/IL',\n     '20': 'Kansas/KS',\n     '72': 'Puerto Rico/PR',\n     '35': 'New Mexico/NM',\n     '36': 'New York/NY',\n     '10': 'Delaware/DE',\n     '11': 'District of Columbia/DC',\n     '12': 'Florida/FL',\n     '56': 'Wyoming/WY',\n     '16': 'Idaho/ID',\n     '25': 'Massachusetts/MA',\n     '27': 'Minnesota/MN',\n     '42': 'Pennsylvania/PA',\n     '45': 'South Carolina/SC',\n     '13': 'Georgia/GA',\n     '23': 'Maine/ME',\n     '24': 'Maryland/MD',\n     '28': 'Mississippi/MS',\n     '37': 'North Carolina/NC',\n     '41': 'Oregon/OR',\n     '05': 'Arkansas/AR',\n     '19': 'Iowa/IA',\n     '31': 'Nebraska/NE',\n     '33': 'New Hampshire/NH',\n     '44': 'Rhode Island/RI',\n     '54': 'West Virginia/WV',\n     '18': 'Indiana/IN',\n     '38': 'North Dakota/ND',\n     '40': 'Oklahoma/OK'}}},\n  'FFINCP': {'label': 'Family income (past 12 months) allocation flag',\n   'predicateType': 'int',\n   'group': 'N/A',\n   'limit': 0,\n   'suggested-weight': 'WGTP',\n   'values': {'item': {'-1': 'N/A (GQ)', '0': 'No', '1': 'Yes'}}},\n  'FINCP': {'label': 'Family income (past 12 months, use ADJINC to adjust FINCP to constant dollars)',\n   'predicateType': 'int',\n   'group': 'N/A',\n   'limit': 0,\n   'suggested-weight': 'WGTP',\n   'values': {'item': {'0': 'No family income',\n     '-59999': 'Loss of -$59,999 or more',\n     '-60000': 'N/A(GQ/vacant)'},\n    'range': [{'min': '-59998',\n      'max': '-1',\n      'description': 'Loss of $1 to -$59,998'},\n     {'min': '1',\n      'max': '9999999',\n      'description': 'Total family income in dollars (Components are rounded)'}]}},\n  'YOEP': {'label': 'Year of entry',\n   'predicateType': 'int',\n   'group': 'N/A',\n   'limit': 0,\n   'suggested-weight': 'PWGTP',\n   'values': {'item': {'1975': '1975',\n     '1973': '1973',\n     '1970': '1970',\n     '1985': '1985',\n     '1981': '1981',\n     '1949': '1949',\n     '2010': '2010',\n     '2006': '2006',\n     '2002': '2002',\n     '2020': '2020',\n     '1960': '1960',\n     '1974': '1974',\n     '1939': '1939 - 1942',\n     '1933': 'N/A (Not eligible - Born in the US)',\n     '2001': '2001',\n     '1983': '1983',\n     '1946': '1946',\n     '2012': '2012',\n     '2009': '2009',\n     '1996': '1996',\n     '1993': '1993',\n     '1959': '1959',\n     '2013': '2013',\n     '1943': '1943 - 1944',\n     '2008': '2008',\n     '1999': '1999',\n     '1965': '1965',\n     '1964': '1964',\n     '2015': '2015',\n     '2014': '2014',\n     '1969': '1969',\n     '1935': '1935 - 1938',\n     '1953': '1953',\n     '1950': '1950',\n     '2021': '2021',\n     '1961': '1961',\n     '1972': '1972',\n     '1934': '1934 or earlier (Bottom-coded)',\n     '1977': '1977',\n     '1990': '1990',\n     '1984': '1984',\n     '1998': '1998',\n     '1952': '1952',\n     '1958': '1958',\n     '1956': '1956',\n     '1966': '1966',\n     '1979': '1979',\n     '2000': '2000',\n     '1947': '1947',\n     '1945': '1945',\n     '1989': '1989',\n     '2005': '2005',\n     '2004': '2004',\n     '1991': '1991',\n     '2017': '2017',\n     '2016': '2016',\n     '1976': '1976',\n     '1987': '1987',\n     '1988': '1988',\n     '2011': '2011',\n     '1954': '1954',\n     '2007': '2007',\n     '1951': '1951',\n     '1957': '1957',\n     '2019': '2019',\n     '1963': '1963',\n     '2018': '2018',\n     '1962': '1962',\n     '1968': '1968',\n     '1971': '1971',\n     '1978': '1978',\n     '1986': '1986',\n     '1982': '1982',\n     '1980': '1980',\n     '1948': '1948',\n     '1997': '1997',\n     '1995': '1995',\n     '1994': '1994',\n     '1992': '1992',\n     '2003': '2003',\n     '1955': '1955',\n     '1967': '1967'}}},\n  'HINS6': {'label': 'VA (enrolled for VA health care)',\n   'predicateType': 'int',\n   'group': 'N/A',\n   'limit': 0,\n   'suggested-weight': 'PWGTP',\n   'values': {'item': {'2': 'No', '1': 'Yes'}}},\n  'FSMXHP': {'label': 'Home equity loan status allocation flag',\n   'predicateType': 'int',\n   'group': 'N/A',\n   'limit': 0,\n   'suggested-weight': 'WGTP',\n   'values': {'item': {'-1': 'N/A (GQ)', '1': 'Yes', '0': 'No'}}},\n  'HINS7': {'label': 'Indian Health Service',\n   'predicateType': 'int',\n   'group': 'N/A',\n   'limit': 0,\n   'suggested-weight': 'PWGTP',\n   'values': {'item': {'1': 'Yes', '2': 'No'}}},\n  'FTABLETP': {'label': 'Tablet or other portable wireless computer allocation flag',\n   'predicateType': 'int',\n   'group': 'N/A',\n   'limit': 0,\n   'suggested-weight': 'WGTP',\n   'values': {'item': {'1': 'Yes', '0': 'No', '-1': 'N/A (GQ)'}}},\n  'FLANXP': {'label': 'Language other than English allocation flag',\n   'predicateType': 'int',\n   'group': 'N/A',\n   'limit': 0,\n   'suggested-weight': 'PWGTP',\n   'values': {'item': {'0': 'No', '1': 'Yes'}}},\n  'FCOWP': {'label': 'Class of worker allocation flag',\n   'predicateType': 'int',\n   'group': 'N/A',\n   'limit': 0,\n   'suggested-weight': 'PWGTP',\n   'values': {'item': {'0': 'No', '1': 'Yes'}}},\n  'GRNTP': {'label': 'Gross rent (monthly amount, use ADJHSG to adjust GRNTP to constant dollars)',\n   'predicateType': 'int',\n   'group': 'N/A',\n   'limit': 0,\n   'suggested-weight': 'WGTP',\n   'values': {'item': {'0': 'N/A (GQ/vacant/owned or being bought/occupied without rent payment)'},\n    'range': [{'min': '1',\n      'max': '99999',\n      'description': '$1 - $99999 (Components are rounded)'}]}},\n  'FJWMNP': {'label': 'Travel time to work allocation flag',\n   'predicateType': 'int',\n   'group': 'N/A',\n   'limit': 0,\n   'suggested-weight': 'PWGTP',\n   'values': {'item': {'0': 'No', '1': 'Yes'}}},\n  'HINS1': {'label': 'Insurance through a current or former employer or union',\n   'predicateType': 'int',\n   'group': 'N/A',\n   'limit': 0,\n   'suggested-weight': 'PWGTP',\n   'values': {'item': {'1': 'Yes', '2': 'No'}}},\n  'HINS2': {'label': 'Insurance purchased directly from an insurance company',\n   'predicateType': 'int',\n   'group': 'N/A',\n   'limit': 0,\n   'suggested-weight': 'PWGTP',\n   'values': {'item': {'1': 'Yes', '2': 'No'}}},\n  'HINS3': {'label': 'Medicare, for people 65 and older, or people with certain disabilities',\n   'predicateType': 'int',\n   'group': 'N/A',\n   'limit': 0,\n   'suggested-weight': 'PWGTP',\n   'values': {'item': {'2': 'No', '1': 'Yes'}}},\n  'HINS4': {'label': 'Medicaid, Medical Assistance, or any kind of government-assistance plan for those with low incomes o',\n   'predicateType': 'int',\n   'group': 'N/A',\n   'limit': 0,\n   'suggested-weight': 'PWGTP',\n   'values': {'item': {'2': 'No', '1': 'Yes'}}},\n  'HINS5': {'label': 'TRICARE or other military health care',\n   'predicateType': 'int',\n   'group': 'N/A',\n   'limit': 0,\n   'suggested-weight': 'PWGTP',\n   'values': {'item': {'2': 'No', '1': 'Yes'}}},\n  'FDDRSP': {'label': 'Self-care difficulty allocation flag',\n   'predicateType': 'int',\n   'group': 'N/A',\n   'limit': 0,\n   'suggested-weight': 'PWGTP',\n   'values': {'item': {'0': 'No', '1': 'Yes'}}},\n  'FWAGP': {'label': 'Wages and salary income allocation flag',\n   'predicateType': 'int',\n   'group': 'N/A',\n   'limit': 0,\n   'suggested-weight': 'PWGTP',\n   'values': {'item': {'0': 'No', '1': 'Yes'}}},\n  'FGRNTP': {'label': 'Gross rent (monthly amount) allocation flag',\n   'predicateType': 'int',\n   'group': 'N/A',\n   'limit': 0,\n   'suggested-weight': 'WGTP',\n   'values': {'item': {'1': 'Yes', '0': 'No', '-1': 'N/A (GQ)'}}},\n  'PUMA': {'label': 'Public use microdata area code (PUMA) based on 2010 Census definition (areas with population of 100,000 or more, use with ST for unique code)',\n   'group': 'N/A',\n   'limit': 0,\n   'values': {'item': {'03710': 'Public use microdata area codes',\n     '01318': 'Public use microdata area codes',\n     '03737': 'Public use microdata area codes',\n     '03730': 'Public use microdata area codes',\n     '07310': 'Public use microdata area codes',\n     '10501': 'Public use microdata area codes',\n     '09505': 'Public use microdata area codes',\n     '02508': 'Public use microdata area codes',\n     '02509': 'Public use microdata area codes',\n     '51246': 'Public use microdata area codes',\n     '00108': 'Public use microdata area codes',\n     '00101': 'Public use microdata area codes',\n     '02516': 'Public use microdata area codes',\n     '10103': 'Public use microdata area codes',\n     '04900': 'Public use microdata area codes',\n     '03808': 'Public use microdata area codes',\n     '03806': 'Public use microdata area codes',\n     '03802': 'Public use microdata area codes',\n     '02004': 'Public use microdata area codes',\n     '02003': 'Public use microdata area codes',\n     '06603': 'Public use microdata area codes',\n     '02000': 'Public use microdata area codes',\n     '03755': 'Public use microdata area codes',\n     '04602': 'Public use microdata area codes',\n     '03757': 'Public use microdata area codes',\n     '03750': 'Public use microdata area codes',\n     '03746': 'Public use microdata area codes',\n     '03740': 'Public use microdata area codes',\n     '03501': 'Public use microdata area codes',\n     '04624': 'Public use microdata area codes',\n     '02201': 'Public use microdata area codes',\n     '06805': 'Public use microdata area codes',\n     '02200': 'Public use microdata area codes',\n     '01109': 'Public use microdata area codes',\n     '03528': 'Public use microdata area codes',\n     '01103': 'Public use microdata area codes',\n     '04615': 'Public use microdata area codes',\n     '03769': 'Public use microdata area codes',\n     '01105': 'Public use microdata area codes',\n     '03523': 'Public use microdata area codes',\n     '04004': 'Public use microdata area codes',\n     '08605': 'Public use microdata area codes',\n     '04001': 'Public use microdata area codes',\n     '07506': 'Public use microdata area codes',\n     '07505': 'Public use microdata area codes',\n     '07501': 'Public use microdata area codes',\n     '00902': 'Public use microdata area codes',\n     '00900': 'Public use microdata area codes',\n     '00905': 'Public use microdata area codes',\n     '59307': 'Public use microdata area codes',\n     '09702': 'Public use microdata area codes',\n     '08611': 'Public use microdata area codes',\n     '08610': 'Public use microdata area codes',\n     '03100': 'Public use microdata area codes',\n     '10900': 'Public use microdata area codes',\n     '05306': 'Public use microdata area codes',\n     '05309': 'Public use microdata area codes',\n     '09905': 'Public use microdata area codes',\n     '09904': 'Public use microdata area codes',\n     '05301': 'Public use microdata area codes',\n     '05909': 'Public use microdata area codes',\n     '01307': 'Public use microdata area codes',\n     '05905': 'Public use microdata area codes',\n     '10000': 'Public use microdata area codes',\n     '51167': 'Public use microdata area codes',\n     '02600': 'Public use microdata area codes',\n     '01504': 'Public use microdata area codes',\n     '00413': 'Public use microdata area codes',\n     '00412': 'Public use microdata area codes',\n     '01500': 'Public use microdata area codes',\n     '06707': 'Public use microdata area codes',\n     '01004': 'Public use microdata area codes',\n     '01003': 'Public use microdata area codes',\n     '01001': 'Public use microdata area codes',\n     '04301': 'Public use microdata area codes',\n     '03209': 'Public use microdata area codes',\n     '35001': 'Public use microdata area codes',\n     '03207': 'Public use microdata area codes',\n     '03201': 'Public use microdata area codes',\n     '35008': 'Public use microdata area codes',\n     '03200': 'Public use microdata area codes',\n     '02305': 'Public use microdata area codes',\n     '06900': 'Public use microdata area codes',\n     '00120': 'Public use microdata area codes',\n     '01202': 'Public use microdata area codes',\n     '00117': 'Public use microdata area codes',\n     '00133': 'Public use microdata area codes',\n     '02310': 'Public use microdata area codes',\n     '02316': 'Public use microdata area codes',\n     '51110': 'Public use microdata area codes',\n     '51115': 'Public use microdata area codes',\n     '04110': 'Public use microdata area codes',\n     '08500': 'Public use microdata area codes',\n     '10800': 'Public use microdata area codes',\n     '05403': 'Public use microdata area codes',\n     '04101': 'Public use microdata area codes',\n     '03007': 'Public use microdata area codes',\n     '03005': 'Public use microdata area codes',\n     '03001': 'Public use microdata area codes',\n     '01804': 'Public use microdata area codes',\n     '51090': 'Public use microdata area codes',\n     '07108': 'Public use microdata area codes',\n     '07102': 'Public use microdata area codes',\n     '07103': 'Public use microdata area codes',\n     '07101': 'Public use microdata area codes',\n     '10303': 'Public use microdata area codes',\n     '41005': 'Public use microdata area codes',\n     '12701': 'Public use microdata area codes',\n     '00605': 'Public use microdata area codes',\n     '02803': 'Public use microdata area codes',\n     '02802': 'Public use microdata area codes',\n     '01702': 'Public use microdata area codes',\n     '01701': 'Public use microdata area codes',\n     '10400': 'Public use microdata area codes',\n     '11702': 'Public use microdata area codes',\n     '05001': 'Public use microdata area codes',\n     '01903': 'Public use microdata area codes',\n     '01907': 'Public use microdata area codes',\n     '00809': 'Public use microdata area codes',\n     '00201': 'Public use microdata area codes',\n     '00203': 'Public use microdata area codes',\n     '11103': 'Public use microdata area codes',\n     '03704': 'Public use microdata area codes',\n     '01319': 'Public use microdata area codes',\n     '05915': 'Public use microdata area codes',\n     '03739': 'Public use microdata area codes',\n     '05914': 'Public use microdata area codes',\n     '07309': 'Public use microdata area codes',\n     '07304': 'Public use microdata area codes',\n     '07305': 'Public use microdata area codes',\n     '09508': 'Public use microdata area codes',\n     '09507': 'Public use microdata area codes',\n     '09502': 'Public use microdata area codes',\n     '02504': 'Public use microdata area codes',\n     '02503': 'Public use microdata area codes',\n     '00107': 'Public use microdata area codes',\n     '00100': 'Public use microdata area codes',\n     '00106': 'Public use microdata area codes',\n     '04700': 'Public use microdata area codes',\n     '02511': 'Public use microdata area codes',\n     '02700': 'Public use microdata area codes',\n     '51044': 'Public use microdata area codes',\n     '01604': 'Public use microdata area codes',\n     '10100': 'Public use microdata area codes',\n     '04901': 'Public use microdata area codes',\n     '03804': 'Public use microdata area codes',\n     '03304': 'Public use microdata area codes',\n     '04637': 'Public use microdata area codes',\n     '04633': 'Public use microdata area codes',\n     '05507': 'Public use microdata area codes',\n     '05501': 'Public use microdata area codes',\n     '03759': 'Public use microdata area codes',\n     '04603': 'Public use microdata area codes',\n     '01320': 'Public use microdata area codes',\n     '03500': 'Public use microdata area codes',\n     '04629': 'Public use microdata area codes',\n     '02203': 'Public use microdata area codes',\n     '04625': 'Public use microdata area codes',\n     '03532': 'Public use microdata area codes',\n     '03529': 'Public use microdata area codes',\n     '04618': 'Public use microdata area codes',\n     '03524': 'Public use microdata area codes',\n     '04613': 'Public use microdata area codes',\n     '01101': 'Public use microdata area codes',\n     '05704': 'Public use microdata area codes',\n     '03763': 'Public use microdata area codes',\n     '08608': 'Public use microdata area codes',\n     '08603': 'Public use microdata area codes',\n     '04002': 'Public use microdata area codes',\n     '07504': 'Public use microdata area codes',\n     '07502': 'Public use microdata area codes',\n     '00906': 'Public use microdata area codes',\n     '08613': 'Public use microdata area codes',\n     '04018': 'Public use microdata area codes',\n     '08612': 'Public use microdata area codes',\n     '03106': 'Public use microdata area codes',\n     '07704': 'Public use microdata area codes',\n     '03103': 'Public use microdata area codes',\n     '07701': 'Public use microdata area codes',\n     '09910': 'Public use microdata area codes',\n     '06400': 'Public use microdata area codes',\n     '05305': 'Public use microdata area codes',\n     '09901': 'Public use microdata area codes',\n     '01301': 'Public use microdata area codes',\n     '03722': 'Public use microdata area codes',\n     '01304': 'Public use microdata area codes',\n     '03901': 'Public use microdata area codes',\n     '13001': 'Public use microdata area codes',\n     '06704': 'Public use microdata area codes',\n     '02103': 'Public use microdata area codes',\n     '02100': 'Public use microdata area codes',\n     '03422': 'Public use microdata area codes',\n     '01006': 'Public use microdata area codes',\n     '01000': 'Public use microdata area codes',\n     '03212': 'Public use microdata area codes',\n     '03213': 'Public use microdata area codes',\n     '06712': 'Public use microdata area codes',\n     '35007': 'Public use microdata area codes',\n     '02308': 'Public use microdata area codes',\n     '00123': 'Public use microdata area codes',\n     '06902': 'Public use microdata area codes',\n     '00125': 'Public use microdata area codes',\n     '02304': 'Public use microdata area codes',\n     '00126': 'Public use microdata area codes',\n     '02303': 'Public use microdata area codes',\n     '00118': 'Public use microdata area codes',\n     '00110': 'Public use microdata area codes',\n     '00111': 'Public use microdata area codes',\n     '04504': 'Public use microdata area codes',\n     '02321': 'Public use microdata area codes',\n     '03417': 'Public use microdata area codes',\n     '03412': 'Public use microdata area codes',\n     '04501': 'Public use microdata area codes',\n     '02320': 'Public use microdata area codes',\n     '00134': 'Public use microdata area codes',\n     '03403': 'Public use microdata area codes',\n     '02314': 'Public use microdata area codes',\n     '05201': 'Public use microdata area codes',\n     '08504': 'Public use microdata area codes',\n     '57002': 'Public use microdata area codes',\n     '49003': 'Public use microdata area codes',\n     '06500': 'Public use microdata area codes',\n     '06511': 'Public use microdata area codes',\n     '03002': 'Public use microdata area codes',\n     '02908': 'Public use microdata area codes',\n     '02900': 'Public use microdata area codes',\n     '07114': 'Public use microdata area codes',\n     '01801': 'Public use microdata area codes',\n     '10304': 'Public use microdata area codes',\n     '10306': 'Public use microdata area codes',\n     '11603': 'Public use microdata area codes',\n     '11614': 'Public use microdata area codes',\n     '11610': 'Public use microdata area codes',\n     '55102': 'Public use microdata area codes',\n     '08106': 'Public use microdata area codes',\n     '08101': 'Public use microdata area codes',\n     '08514': 'Public use microdata area codes',\n     '08513': 'Public use microdata area codes',\n     '00208': 'Public use microdata area codes',\n     '03719': 'Public use microdata area codes',\n     '04801': 'Public use microdata area codes',\n     '03714': 'Public use microdata area codes',\n     '51120': 'Public use microdata area codes',\n     '11102': 'Public use microdata area codes',\n     '11104': 'Public use microdata area codes',\n     '51135': 'Public use microdata area codes',\n     '01317': 'Public use microdata area codes',\n     '03738': 'Public use microdata area codes',\n     '05918': 'Public use microdata area codes',\n     '07308': 'Public use microdata area codes',\n     '10504': 'Public use microdata area codes',\n     '00701': 'Public use microdata area codes',\n     '00700': 'Public use microdata area codes',\n     '02502': 'Public use microdata area codes',\n     '01405': 'Public use microdata area codes',\n     '01404': 'Public use microdata area codes',\n     '00109': 'Public use microdata area codes',\n     '04701': 'Public use microdata area codes',\n     '00102': 'Public use microdata area codes',\n     '04702': 'Public use microdata area codes',\n     '00103': 'Public use microdata area codes',\n     '00104': 'Public use microdata area codes',\n     '51040': 'Public use microdata area codes',\n     '01602': 'Public use microdata area codes',\n     '10102': 'Public use microdata area codes',\n     '04903': 'Public use microdata area codes',\n     '03810': 'Public use microdata area codes',\n     '04902': 'Public use microdata area codes',\n     '00304': 'Public use microdata area codes',\n     '11402': 'Public use microdata area codes',\n     '03807': 'Public use microdata area codes',\n     '03809': 'Public use microdata area codes',\n     '03803': 'Public use microdata area codes',\n     '03801': 'Public use microdata area codes',\n     '03311': 'Public use microdata area codes',\n     '07902': 'Public use microdata area codes',\n     '02006': 'Public use microdata area codes',\n     '02001': 'Public use microdata area codes',\n     '05505': 'Public use microdata area codes',\n     '05506': 'Public use microdata area codes',\n     '03758': 'Public use microdata area codes',\n     '04600': 'Public use microdata area codes',\n     '01323': 'Public use microdata area codes',\n     '03741': 'Public use microdata area codes',\n     '01324': 'Public use microdata area codes',\n     '04628': 'Public use microdata area codes',\n     '06807': 'Public use microdata area codes',\n     '06806': 'Public use microdata area codes',\n     '06804': 'Public use microdata area codes',\n     '03525': 'Public use microdata area codes',\n     '03522': 'Public use microdata area codes',\n     '03764': 'Public use microdata area codes',\n     '01104': 'Public use microdata area codes',\n     '08606': 'Public use microdata area codes',\n     '04006': 'Public use microdata area codes',\n     '04007': 'Public use microdata area codes',\n     '10700': 'Public use microdata area codes',\n     '04016': 'Public use microdata area codes',\n     '08614': 'Public use microdata area codes',\n     '09701': 'Public use microdata area codes',\n     '03102': 'Public use microdata area codes',\n     '05303': 'Public use microdata area codes',\n     '05302': 'Public use microdata area codes',\n     '51145': 'Public use microdata area codes',\n     '01308': 'Public use microdata area codes',\n     '05908': 'Public use microdata area codes',\n     '03727': 'Public use microdata area codes',\n     '05907': 'Public use microdata area codes',\n     '05901': 'Public use microdata area codes',\n     '03723': 'Public use microdata area codes',\n     '01305': 'Public use microdata area codes',\n     '51155': 'Public use microdata area codes',\n     '00408': 'Public use microdata area codes',\n     '51165': 'Public use microdata area codes',\n     '11300': 'Public use microdata area codes',\n     '02602': 'Public use microdata area codes',\n     '06708': 'Public use microdata area codes',\n     '02104': 'Public use microdata area codes',\n     '03421': 'Public use microdata area codes',\n     '03420': 'Public use microdata area codes',\n     '04303': 'Public use microdata area codes',\n     '03208': 'Public use microdata area codes',\n     '06711': 'Public use microdata area codes',\n     '03203': 'Public use microdata area codes',\n     '35006': 'Public use microdata area codes',\n     '00119': 'Public use microdata area codes',\n     '01206': 'Public use microdata area codes',\n     '01203': 'Public use microdata area codes',\n     '04502': 'Public use microdata area codes',\n     '02318': 'Public use microdata area codes',\n     '03402': 'Public use microdata area codes',\n     '00131': 'Public use microdata area codes',\n     '06301': 'Public use microdata area codes',\n     '49001': 'Public use microdata area codes',\n     '06506': 'Public use microdata area codes',\n     '06508': 'Public use microdata area codes',\n     '04100': 'Public use microdata area codes',\n     '06515': 'Public use microdata area codes',\n     '02903': 'Public use microdata area codes',\n     '02901': 'Public use microdata area codes',\n     '07115': 'Public use microdata area codes',\n     '07113': 'Public use microdata area codes',\n     '07112': 'Public use microdata area codes',\n     '00508': 'Public use microdata area codes',\n     '12703': 'Public use microdata area codes',\n     '11612': 'Public use microdata area codes',\n     '07317': 'Public use microdata area codes',\n     '07318': 'Public use microdata area codes',\n     '02801': 'Public use microdata area codes',\n     '02800': 'Public use microdata area codes',\n     '08104': 'Public use microdata area codes',\n     '01705': 'Public use microdata area codes',\n     '00805': 'Public use microdata area codes',\n     '11706': 'Public use microdata area codes',\n     '05002': 'Public use microdata area codes',\n     '00824': 'Public use microdata area codes',\n     '08303': 'Public use microdata area codes',\n     '00819': 'Public use microdata area codes',\n     '01901': 'Public use microdata area codes',\n     '01900': 'Public use microdata area codes',\n     '00817': 'Public use microdata area codes',\n     '01906': 'Public use microdata area codes',\n     '00816': 'Public use microdata area codes',\n     '03718': 'Public use microdata area codes',\n     '00202': 'Public use microdata area codes',\n     '03709': 'Public use microdata area codes',\n     '03707': 'Public use microdata area codes',\n     '03701': 'Public use microdata area codes',\n     '05916': 'Public use microdata area codes',\n     '03734': 'Public use microdata area codes',\n     '07306': 'Public use microdata area codes',\n     '10503': 'Public use microdata area codes',\n     '00907': 'Public use microdata area codes',\n     '09509': 'Public use microdata area codes',\n     '07321': 'Public use microdata area codes',\n     '01410': 'Public use microdata area codes',\n     '02501': 'Public use microdata area codes',\n     '01401': 'Public use microdata area codes',\n     '51020': 'Public use microdata area codes',\n     '53001': 'Public use microdata area codes',\n     '04400': 'Public use microdata area codes',\n     '03309': 'Public use microdata area codes',\n     '04635': 'Public use microdata area codes',\n     '03305': 'Public use microdata area codes',\n     '03307': 'Public use microdata area codes',\n     '05504': 'Public use microdata area codes',\n     '04607': 'Public use microdata area codes',\n     '01113': 'Public use microdata area codes',\n     '01112': 'Public use microdata area codes',\n     '04622': 'Public use microdata area codes',\n     '01110': 'Public use microdata area codes',\n     '01108': 'Public use microdata area codes',\n     '05706': 'Public use microdata area codes',\n     '03762': 'Public use microdata area codes',\n     '04008': 'Public use microdata area codes',\n     '04009': 'Public use microdata area codes',\n     '08609': 'Public use microdata area codes',\n     '04000': 'Public use microdata area codes',\n     '08601': 'Public use microdata area codes',\n     '10702': 'Public use microdata area codes',\n     '08624': 'Public use microdata area codes',\n     '06200': 'Public use microdata area codes',\n     '08618': 'Public use microdata area codes',\n     '04015': 'Public use microdata area codes',\n     '08616': 'Public use microdata area codes',\n     '07703': 'Public use microdata area codes',\n     '09909': 'Public use microdata area codes',\n     '09907': 'Public use microdata area codes',\n     '09906': 'Public use microdata area codes',\n     '01306': 'Public use microdata area codes',\n     '03728': 'Public use microdata area codes',\n     '03729': 'Public use microdata area codes',\n     '03724': 'Public use microdata area codes',\n     '51186': 'Public use microdata area codes',\n     '10200': 'Public use microdata area codes',\n     '06706': 'Public use microdata area codes',\n     '06702': 'Public use microdata area codes',\n     '01007': 'Public use microdata area codes',\n     '04300': 'Public use microdata area codes',\n     '35009': 'Public use microdata area codes',\n     '35003': 'Public use microdata area codes',\n     '02302': 'Public use microdata area codes',\n     '02301': 'Public use microdata area codes',\n     '00122': 'Public use microdata area codes',\n     '01201': 'Public use microdata area codes',\n     '05800': 'Public use microdata area codes',\n     '00115': 'Public use microdata area codes',\n     '03419': 'Public use microdata area codes',\n     '03415': 'Public use microdata area codes',\n     '03411': 'Public use microdata area codes',\n     '00132': 'Public use microdata area codes',\n     '70201': 'Public use microdata area codes',\n     '04111': 'Public use microdata area codes',\n     '04112': 'Public use microdata area codes',\n     '05202': 'Public use microdata area codes',\n     '08505': 'Public use microdata area codes',\n     '06504': 'Public use microdata area codes',\n     '04108': 'Public use microdata area codes',\n     '04103': 'Public use microdata area codes',\n     '08701': 'Public use microdata area codes',\n     '08700': 'Public use microdata area codes',\n     '03008': 'Public use microdata area codes',\n     '03004': 'Public use microdata area codes',\n     '03000': 'Public use microdata area codes',\n     '02904': 'Public use microdata area codes',\n     '02907': 'Public use microdata area codes',\n     '51080': 'Public use microdata area codes',\n     '01808': 'Public use microdata area codes',\n     '01805': 'Public use microdata area codes',\n     '01800': 'Public use microdata area codes',\n     '10305': 'Public use microdata area codes',\n     '10308': 'Public use microdata area codes',\n     '00506': 'Public use microdata area codes',\n     '00505': 'Public use microdata area codes',\n     '41002': 'Public use microdata area codes',\n     '11615': 'Public use microdata area codes',\n     '07315': 'Public use microdata area codes',\n     '07316': 'Public use microdata area codes',\n     '07311': 'Public use microdata area codes',\n     '00601': 'Public use microdata area codes',\n     '11504': 'Public use microdata area codes',\n     '08105': 'Public use microdata area codes',\n     '00807': 'Public use microdata area codes',\n     '06102': 'Public use microdata area codes',\n     '11703': 'Public use microdata area codes',\n     '08510': 'Public use microdata area codes',\n     '00823': 'Public use microdata area codes',\n     '00821': 'Public use microdata area codes',\n     '00813': 'Public use microdata area codes',\n     '00818': 'Public use microdata area codes',\n     '03712': 'Public use microdata area codes',\n     '04802': 'Public use microdata area codes',\n     '11105': 'Public use microdata area codes',\n     '03702': 'Public use microdata area codes',\n     '03733': 'Public use microdata area codes',\n     '05912': 'Public use microdata area codes',\n     '05911': 'Public use microdata area codes',\n     '07307': 'Public use microdata area codes',\n     '07302': 'Public use microdata area codes',\n     '00909': 'Public use microdata area codes',\n     '00703': 'Public use microdata area codes',\n     '06001': 'Public use microdata area codes',\n     '51244': 'Public use microdata area codes',\n     '01402': 'Public use microdata area codes',\n     '51010': 'Public use microdata area codes',\n     '11200': 'Public use microdata area codes',\n     '02510': 'Public use microdata area codes',\n     '03602': 'Public use microdata area codes',\n     '02515': 'Public use microdata area codes',\n     '02513': 'Public use microdata area codes',\n     '03600': 'Public use microdata area codes',\n     '01600': 'Public use microdata area codes',\n     '10101': 'Public use microdata area codes',\n     '00307': 'Public use microdata area codes',\n     '04905': 'Public use microdata area codes',\n     '03312': 'Public use microdata area codes',\n     '03310': 'Public use microdata area codes',\n     '04638': 'Public use microdata area codes',\n     '03302': 'Public use microdata area codes',\n     '03303': 'Public use microdata area codes',\n     '06602': 'Public use microdata area codes',\n     '05503': 'Public use microdata area codes',\n     '03753': 'Public use microdata area codes',\n     '40701': 'Public use microdata area codes',\n     '51206': 'Public use microdata area codes',\n     '03748': 'Public use microdata area codes',\n     '03503': 'Public use microdata area codes',\n     '06802': 'Public use microdata area codes',\n     '04627': 'Public use microdata area codes',\n     '04620': 'Public use microdata area codes',\n     '04623': 'Public use microdata area codes',\n     '51225': 'Public use microdata area codes',\n     '04617': 'Public use microdata area codes',\n     '05705': 'Public use microdata area codes',\n     '01107': 'Public use microdata area codes',\n     '04612': 'Public use microdata area codes',\n     '08607': 'Public use microdata area codes',\n     '08604': 'Public use microdata area codes',\n     '04005': 'Public use microdata area codes',\n     '04003': 'Public use microdata area codes',\n     '10701': 'Public use microdata area codes',\n     '08623': 'Public use microdata area codes',\n     '08620': 'Public use microdata area codes',\n     '08619': 'Public use microdata area codes',\n     '08615': 'Public use microdata area codes',\n     '04011': 'Public use microdata area codes',\n     '05100': 'Public use microdata area codes',\n     '03107': 'Public use microdata area codes',\n     '07702': 'Public use microdata area codes',\n     '03105': 'Public use microdata area codes',\n     '10901': 'Public use microdata area codes',\n     '03101': 'Public use microdata area codes',\n     '09911': 'Public use microdata area codes',\n     '09902': 'Public use microdata area codes',\n     '05300': 'Public use microdata area codes',\n     '01309': 'Public use microdata area codes',\n     '03726': 'Public use microdata area codes',\n     '01302': 'Public use microdata area codes',\n     '51154': 'Public use microdata area codes',\n     '00407': 'Public use microdata area codes',\n     '00406': 'Public use microdata area codes',\n     '00404': 'Public use microdata area codes',\n     '00403': 'Public use microdata area codes',\n     '03902': 'Public use microdata area codes',\n     '01502': 'Public use microdata area codes',\n     '02102': 'Public use microdata area codes',\n     '02101': 'Public use microdata area codes',\n     '06705': 'Public use microdata area codes',\n     '01008': 'Public use microdata area codes',\n     '03205': 'Public use microdata area codes',\n     '35004': 'Public use microdata area codes',\n     '35002': 'Public use microdata area codes',\n     '00124': 'Public use microdata area codes',\n     '06901': 'Public use microdata area codes',\n     '00121': 'Public use microdata area codes',\n     '02300': 'Public use microdata area codes',\n     '01207': 'Public use microdata area codes',\n     '00112': 'Public use microdata area codes',\n     '03410': 'Public use microdata area codes',\n     '03413': 'Public use microdata area codes',\n     '11001': 'Public use microdata area codes',\n     '03409': 'Public use microdata area codes',\n     '06300': 'Public use microdata area codes',\n     '08509': 'Public use microdata area codes',\n     '08507': 'Public use microdata area codes',\n     '08508': 'Public use microdata area codes',\n     '08506': 'Public use microdata area codes',\n     '49002': 'Public use microdata area codes',\n     '06505': 'Public use microdata area codes',\n     '06502': 'Public use microdata area codes',\n     '03009': 'Public use microdata area codes',\n     '03003': 'Public use microdata area codes',\n     '03006': 'Public use microdata area codes',\n     '06510': 'Public use microdata area codes',\n     '07104': 'Public use microdata area codes',\n     '51095': 'Public use microdata area codes',\n     '10307': 'Public use microdata area codes',\n     '10300': 'Public use microdata area codes',\n     '00501': 'Public use microdata area codes',\n     '00500': 'Public use microdata area codes',\n     '41004': 'Public use microdata area codes',\n     '41001': 'Public use microdata area codes',\n     '12704': 'Public use microdata area codes',\n     '11616': 'Public use microdata area codes',\n     '07319': 'Public use microdata area codes',\n     '07313': 'Public use microdata area codes',\n     '55002': 'Public use microdata area codes',\n     '00604': 'Public use microdata area codes',\n     '00600': 'Public use microdata area codes',\n     '11506': 'Public use microdata area codes',\n     '11501': 'Public use microdata area codes',\n     '55101': 'Public use microdata area codes',\n     '01703': 'Public use microdata area codes',\n     '00802': 'Public use microdata area codes',\n     '00801': 'Public use microdata area codes',\n     '00800': 'Public use microdata area codes',\n     '06101': 'Public use microdata area codes',\n     '08512': 'Public use microdata area codes',\n     '05003': 'Public use microdata area codes',\n     '08511': 'Public use microdata area codes',\n     '01904': 'Public use microdata area codes',\n     '00810': 'Public use microdata area codes',\n     '00206': 'Public use microdata area codes',\n     '03711': 'Public use microdata area codes',\n     '11101': 'Public use microdata area codes',\n     '11106': 'Public use microdata area codes',\n     '03708': 'Public use microdata area codes',\n     '03706': 'Public use microdata area codes',\n     '02400': 'Public use microdata area codes',\n     '03735': 'Public use microdata area codes',\n     '03736': 'Public use microdata area codes',\n     '07322': 'Public use microdata area codes',\n     '07320': 'Public use microdata area codes',\n     '02505': 'Public use microdata area codes',\n     '51255': 'Public use microdata area codes',\n     '21001': 'Public use microdata area codes',\n     '02702': 'Public use microdata area codes',\n     '02701': 'Public use microdata area codes',\n     '01601': 'Public use microdata area codes',\n     '00308': 'Public use microdata area codes',\n     '00305': 'Public use microdata area codes',\n     '04904': 'Public use microdata area codes',\n     '00301': 'Public use microdata area codes',\n     '03313': 'Public use microdata area codes',\n     '03300': 'Public use microdata area codes',\n     '04631': 'Public use microdata area codes',\n     '04632': 'Public use microdata area codes',\n     '06601': 'Public use microdata area codes',\n     '04606': 'Public use microdata area codes',\n     '04608': 'Public use microdata area codes',\n     '04605': 'Public use microdata area codes',\n     '03751': 'Public use microdata area codes',\n     '03754': 'Public use microdata area codes',\n     '04601': 'Public use microdata area codes',\n     '03749': 'Public use microdata area codes',\n     '03502': 'Public use microdata area codes',\n     '03743': 'Public use microdata area codes',\n     '01114': 'Public use microdata area codes',\n     '01111': 'Public use microdata area codes',\n     '05707': 'Public use microdata area codes',\n     '04619': 'Public use microdata area codes',\n     '05708': 'Public use microdata area codes',\n     '01102': 'Public use microdata area codes',\n     '03767': 'Public use microdata area codes',\n     '05702': 'Public use microdata area codes',\n     '03526': 'Public use microdata area codes',\n     '04616': 'Public use microdata area codes',\n     '01106': 'Public use microdata area codes',\n     '04611': 'Public use microdata area codes',\n     '05701': 'Public use microdata area codes',\n     '03761': 'Public use microdata area codes',\n     '40101': 'Public use microdata area codes',\n     '00904': 'Public use microdata area codes',\n     '59302': 'Public use microdata area codes',\n     '59301': 'Public use microdata area codes',\n     '59309': 'Public use microdata area codes',\n     '40301': 'Public use microdata area codes',\n     '10902': 'Public use microdata area codes',\n     '05304': 'Public use microdata area codes',\n     '02402': 'Public use microdata area codes',\n     '05906': 'Public use microdata area codes',\n     '03725': 'Public use microdata area codes',\n     '05902': 'Public use microdata area codes',\n     '01303': 'Public use microdata area codes',\n     '00401': 'Public use microdata area codes',\n     '02603': 'Public use microdata area codes',\n     '02601': 'Public use microdata area codes',\n     '01503': 'Public use microdata area codes',\n     '05600': 'Public use microdata area codes',\n     '08900': 'Public use microdata area codes',\n     '02307': 'Public use microdata area codes',\n     '01200': 'Public use microdata area codes',\n     '01204': 'Public use microdata area codes',\n     '02319': 'Public use microdata area codes',\n     '02312': 'Public use microdata area codes',\n     '02317': 'Public use microdata area codes',\n     '02315': 'Public use microdata area codes',\n     '03401': 'Public use microdata area codes',\n     '04114': 'Public use microdata area codes',\n     '05204': 'Public use microdata area codes',\n     '08503': 'Public use microdata area codes',\n     '06509': 'Public use microdata area codes',\n     '06507': 'Public use microdata area codes',\n     '06503': 'Public use microdata area codes',\n     '04104': 'Public use microdata area codes',\n     '04105': 'Public use microdata area codes',\n     '08702': 'Public use microdata area codes',\n     '04102': 'Public use microdata area codes',\n     '06512': 'Public use microdata area codes',\n     '06514': 'Public use microdata area codes',\n     '02902': 'Public use microdata area codes',\n     '51087': 'Public use microdata area codes',\n     '07110': 'Public use microdata area codes',\n     '01807': 'Public use microdata area codes',\n     '07109': 'Public use microdata area codes',\n     '07106': 'Public use microdata area codes',\n     '10301': 'Public use microdata area codes',\n     '11605': 'Public use microdata area codes',\n     '11606': 'Public use microdata area codes',\n     '11609': 'Public use microdata area codes',\n     '11601': 'Public use microdata area codes',\n     '07312': 'Public use microdata area codes',\n     '00602': 'Public use microdata area codes',\n     '11505': 'Public use microdata area codes',\n     '01700': 'Public use microdata area codes',\n     '06103': 'Public use microdata area codes',\n     '05000': 'Public use microdata area codes',\n     '00820': 'Public use microdata area codes',\n     '01902': 'Public use microdata area codes',\n     '00812': 'Public use microdata area codes',\n     '00811': 'Public use microdata area codes',\n     '03717': 'Public use microdata area codes',\n     '04803': 'Public use microdata area codes',\n     '00204': 'Public use microdata area codes',\n     '51125': 'Public use microdata area codes',\n     '03705': 'Public use microdata area codes',\n     '03703': 'Public use microdata area codes',\n     '01316': 'Public use microdata area codes',\n     '03731': 'Public use microdata area codes',\n     '05910': 'Public use microdata area codes',\n     '00910': 'Public use microdata area codes',\n     '07300': 'Public use microdata area codes',\n     '00702': 'Public use microdata area codes',\n     '06002': 'Public use microdata area codes',\n     '11802': 'Public use microdata area codes',\n     '09510': 'Public use microdata area codes',\n     '06000': 'Public use microdata area codes',\n     '02507': 'Public use microdata area codes',\n     '02506': 'Public use microdata area codes',\n     '01407': 'Public use microdata area codes',\n     '01406': 'Public use microdata area codes',\n     '01403': 'Public use microdata area codes',\n     '00105': 'Public use microdata area codes',\n     '03603': 'Public use microdata area codes',\n     '02703': 'Public use microdata area codes',\n     '51045': 'Public use microdata area codes',\n     '01603': 'Public use microdata area codes',\n     '00306': 'Public use microdata area codes',\n     '03805': 'Public use microdata area codes',\n     '03800': 'Public use microdata area codes',\n     '09100': 'Public use microdata area codes',\n     '03308': 'Public use microdata area codes',\n     '03306': 'Public use microdata area codes',\n     '03301': 'Public use microdata area codes',\n     '04630': 'Public use microdata area codes',\n     '02002': 'Public use microdata area codes',\n     '05500': 'Public use microdata area codes',\n     '05502': 'Public use microdata area codes',\n     '03756': 'Public use microdata area codes',\n     '03752': 'Public use microdata area codes',\n     '03745': 'Public use microdata area codes',\n     '03742': 'Public use microdata area codes',\n     '02202': 'Public use microdata area codes',\n     '04626': 'Public use microdata area codes',\n     '04621': 'Public use microdata area codes',\n     '03530': 'Public use microdata area codes',\n     '05703': 'Public use microdata area codes',\n     '04614': 'Public use microdata area codes',\n     '03768': 'Public use microdata area codes',\n     '03527': 'Public use microdata area codes',\n     '03520': 'Public use microdata area codes',\n     '03521': 'Public use microdata area codes',\n     '03765': 'Public use microdata area codes',\n     '05700': 'Public use microdata area codes',\n     '03760': 'Public use microdata area codes',\n     '08602': 'Public use microdata area codes',\n     '10703': 'Public use microdata area codes',\n     '00901': 'Public use microdata area codes',\n     '00903': 'Public use microdata area codes',\n     '08621': 'Public use microdata area codes',\n     '59304': 'Public use microdata area codes',\n     '04017': 'Public use microdata area codes',\n     '04013': 'Public use microdata area codes',\n     '04014': 'Public use microdata area codes',\n     '03108': 'Public use microdata area codes',\n     '05308': 'Public use microdata area codes',\n     '05904': 'Public use microdata area codes',\n     '03721': 'Public use microdata area codes',\n     '00405': 'Public use microdata area codes',\n     '00400': 'Public use microdata area codes',\n     '03903': 'Public use microdata area codes',\n     '06709': 'Public use microdata area codes',\n     '06703': 'Public use microdata area codes',\n     '01002': 'Public use microdata area codes',\n     '04302': 'Public use microdata area codes',\n     '03210': 'Public use microdata area codes',\n     '03202': 'Public use microdata area codes',\n     '03204': 'Public use microdata area codes',\n     '35005': 'Public use microdata area codes',\n     '02309': 'Public use microdata area codes',\n     '00129': 'Public use microdata area codes',\n     '01208': 'Public use microdata area codes',\n     '00116': 'Public use microdata area codes',\n     '50000': 'Public use microdata area codes',\n     '03414': 'Public use microdata area codes',\n     '02322': 'Public use microdata area codes',\n     '11000': 'Public use microdata area codes',\n     '03407': 'Public use microdata area codes',\n     '00130': 'Public use microdata area codes',\n     '12100': 'Public use microdata area codes',\n     '06302': 'Public use microdata area codes',\n     '05200': 'Public use microdata area codes',\n     '04113': 'Public use microdata area codes',\n     '57001': 'Public use microdata area codes',\n     '05401': 'Public use microdata area codes',\n     '04107': 'Public use microdata area codes',\n     '06513': 'Public use microdata area codes',\n     '02906': 'Public use microdata area codes',\n     '51085': 'Public use microdata area codes',\n     '51084': 'Public use microdata area codes',\n     '51089': 'Public use microdata area codes',\n     '01803': 'Public use microdata area codes',\n     '01806': 'Public use microdata area codes',\n     '07107': 'Public use microdata area codes',\n     '07105': 'Public use microdata area codes',\n     '00504': 'Public use microdata area codes',\n     '11604': 'Public use microdata area codes',\n     '11608': 'Public use microdata area codes',\n     '12702': 'Public use microdata area codes',\n     '09300': 'Public use microdata area codes',\n     '11503': 'Public use microdata area codes',\n     '30000': 'Public use microdata area codes',\n     '55103': 'Public use microdata area codes',\n     '00803': 'Public use microdata area codes',\n     '00804': 'Public use microdata area codes',\n     '11701': 'Public use microdata area codes',\n     '11704': 'Public use microdata area codes',\n     '11705': 'Public use microdata area codes',\n     '00822': 'Public use microdata area codes',\n     '08301': 'Public use microdata area codes',\n     '08302': 'Public use microdata area codes',\n     '01905': 'Public use microdata area codes',\n     '00815': 'Public use microdata area codes',\n     '03716': 'Public use microdata area codes',\n     '00205': 'Public use microdata area codes',\n     '03700': 'Public use microdata area codes',\n     '05917': 'Public use microdata area codes',\n     '02401': 'Public use microdata area codes',\n     '05913': 'Public use microdata area codes',\n     '01314': 'Public use microdata area codes',\n     '07303': 'Public use microdata area codes',\n     '10502': 'Public use microdata area codes',\n     '07301': 'Public use microdata area codes',\n     '00908': 'Public use microdata area codes',\n     '00704': 'Public use microdata area codes',\n     '00705': 'Public use microdata area codes',\n     '11801': 'Public use microdata area codes',\n     '09506': 'Public use microdata area codes',\n     '09504': 'Public use microdata area codes',\n     '09503': 'Public use microdata area codes',\n     '09501': 'Public use microdata area codes',\n     '02500': 'Public use microdata area codes',\n     '51245': 'Public use microdata area codes',\n     '01408': 'Public use microdata area codes',\n     '01409': 'Public use microdata area codes',\n     '01400': 'Public use microdata area codes',\n     '03601': 'Public use microdata area codes',\n     '02514': 'Public use microdata area codes',\n     '02512': 'Public use microdata area codes',\n     '10104': 'Public use microdata area codes',\n     '00300': 'Public use microdata area codes',\n     '00303': 'Public use microdata area codes',\n     '00302': 'Public use microdata area codes',\n     '11401': 'Public use microdata area codes',\n     '04636': 'Public use microdata area codes',\n     '07901': 'Public use microdata area codes',\n     '04634': 'Public use microdata area codes',\n     '02005': 'Public use microdata area codes',\n     '04609': 'Public use microdata area codes',\n     '04604': 'Public use microdata area codes',\n     '03744': 'Public use microdata area codes',\n     '01322': 'Public use microdata area codes',\n     '01321': 'Public use microdata area codes',\n     '03504': 'Public use microdata area codes',\n     '03747': 'Public use microdata area codes',\n     '51215': 'Public use microdata area codes',\n     '06803': 'Public use microdata area codes',\n     '03531': 'Public use microdata area codes',\n     '06801': 'Public use microdata area codes',\n     '51224': 'Public use microdata area codes',\n     '03766': 'Public use microdata area codes',\n     '01100': 'Public use microdata area codes',\n     '04610': 'Public use microdata area codes',\n     '51235': 'Public use microdata area codes',\n     '07507': 'Public use microdata area codes',\n     '07503': 'Public use microdata area codes',\n     '08622': 'Public use microdata area codes',\n     '59306': 'Public use microdata area codes',\n     '59305': 'Public use microdata area codes',\n     '59308': 'Public use microdata area codes',\n     '59303': 'Public use microdata area codes',\n     '70101': 'Public use microdata area codes',\n     '08617': 'Public use microdata area codes',\n     '09703': 'Public use microdata area codes',\n     '04012': 'Public use microdata area codes',\n     '04010': 'Public use microdata area codes',\n     '04200': 'Public use microdata area codes',\n     '03104': 'Public use microdata area codes',\n     '09908': 'Public use microdata area codes',\n     '05307': 'Public use microdata area codes',\n     '09903': 'Public use microdata area codes',\n     '03732': 'Public use microdata area codes',\n     '01300': 'Public use microdata area codes',\n     '05903': 'Public use microdata area codes',\n     '03720': 'Public use microdata area codes',\n     '00409': 'Public use microdata area codes',\n     '00402': 'Public use microdata area codes',\n     '51164': 'Public use microdata area codes',\n     '03900': 'Public use microdata area codes',\n     '51175': 'Public use microdata area codes',\n     '20000': 'Public use microdata area codes',\n     '00410': 'Public use microdata area codes',\n     '01501': 'Public use microdata area codes',\n     '00411': 'Public use microdata area codes',\n     '06701': 'Public use microdata area codes',\n     '01005': 'Public use microdata area codes',\n     '03211': 'Public use microdata area codes',\n     '03206': 'Public use microdata area codes',\n     '06710': 'Public use microdata area codes',\n     '06903': 'Public use microdata area codes',\n     '00127': 'Public use microdata area codes',\n     '02306': 'Public use microdata area codes',\n     '00128': 'Public use microdata area codes',\n     '00113': 'Public use microdata area codes',\n     '01205': 'Public use microdata area codes',\n     '00114': 'Public use microdata area codes',\n     '03418': 'Public use microdata area codes',\n     '04503': 'Public use microdata area codes',\n     '03416': 'Public use microdata area codes',\n     '04500': 'Public use microdata area codes',\n     '11002': 'Public use microdata area codes',\n     '51105': 'Public use microdata area codes',\n     '03408': 'Public use microdata area codes',\n     '02313': 'Public use microdata area codes',\n     '03404': 'Public use microdata area codes',\n     '02311': 'Public use microdata area codes',\n     '03400': 'Public use microdata area codes',\n     '11900': 'Public use microdata area codes',\n     '05203': 'Public use microdata area codes',\n     '08501': 'Public use microdata area codes',\n     '08502': 'Public use microdata area codes',\n     '49004': 'Public use microdata area codes',\n     '06501': 'Public use microdata area codes',\n     '05402': 'Public use microdata area codes',\n     '05400': 'Public use microdata area codes',\n     '04109': 'Public use microdata area codes',\n     '04106': 'Public use microdata area codes',\n     '02905': 'Public use microdata area codes',\n     '07111': 'Public use microdata area codes',\n     '01802': 'Public use microdata area codes',\n     '51096': 'Public use microdata area codes',\n     '51097': 'Public use microdata area codes',\n     '10302': 'Public use microdata area codes',\n     '00503': 'Public use microdata area codes',\n     '00507': 'Public use microdata area codes',\n     '00502': 'Public use microdata area codes',\n     '11602': 'Public use microdata area codes',\n     '11607': 'Public use microdata area codes',\n     '41003': 'Public use microdata area codes',\n     '11613': 'Public use microdata area codes',\n     '11611': 'Public use microdata area codes',\n     '07314': 'Public use microdata area codes',\n     '55001': 'Public use microdata area codes',\n     '00603': 'Public use microdata area codes',\n     '11507': 'Public use microdata area codes',\n     '11502': 'Public use microdata area codes',\n     '08103': 'Public use microdata area codes',\n     '08102': 'Public use microdata area codes',\n     '01704': 'Public use microdata area codes',\n     '01706': 'Public use microdata area codes',\n     '00806': 'Public use microdata area codes',\n     '06100': 'Public use microdata area codes',\n     '00814': 'Public use microdata area codes',\n     '70301': 'Public use microdata area codes',\n     '00808': 'Public use microdata area codes',\n     '10600': 'Public use microdata area codes',\n     '00209': 'Public use microdata area codes',\n     '00207': 'Public use microdata area codes',\n     '03715': 'Public use microdata area codes',\n     '00200': 'Public use microdata area codes',\n     '04800': 'Public use microdata area codes',\n     '03713': 'Public use microdata area codes'}}},\n  'FHINS5P': {'label': 'TRICARE or other military health care allocation flag',\n   'predicateType': 'int',\n   'group': 'N/A',\n   'limit': 0,\n   'suggested-weight': 'PWGTP',\n   'values': {'item': {'1': 'Yes', '0': 'No'}}},\n  'FSCHGP': {'label': 'Grade attending allocation flag',\n   'predicateType': 'int',\n   'group': 'N/A',\n   'limit': 0,\n   'suggested-weight': 'PWGTP',\n   'values': {'item': {'1': 'Yes', '0': 'No'}}},\n  'FHINS5C': {'label': 'TRICARE coverage given through the eligibility coverage edit',\n   'predicateType': 'int',\n   'group': 'N/A',\n   'limit': 0,\n   'suggested-weight': 'PWGTP',\n   'values': {'item': {'-1': 'Does not have TRICARE coverage (HINS5=2)',\n     '0': 'No',\n     '1': 'Yes'}}},\n  'FVACSP': {'label': 'Vacancy status allocation flag',\n   'predicateType': 'int',\n   'group': 'N/A',\n   'limit': 0,\n   'suggested-weight': 'WGTP',\n   'values': {'item': {'1': 'Yes', '-1': 'N/A (GQ)', '0': 'No'}}},\n  'FHOTWATP': {'label': 'Water heater allocation flag (Puerto Rico only)',\n   'predicateType': 'int',\n   'group': 'N/A',\n   'limit': 0,\n   'suggested-weight': 'WGTP',\n   'values': {'item': {'-1': 'N/A (GQ)', '0': 'No', '1': 'Yes'}}},\n  'R60': {'label': 'Presence of persons 60 years and over in household (unweighted)',\n   'predicateType': 'int',\n   'group': 'N/A',\n   'limit': 0,\n   'suggested-weight': 'WGTP',\n   'values': {'item': {'0': 'No person 60 and over',\n     '2': '2 or more persons 60 and over',\n     '1': '1 person 60 and over',\n     '-1': 'N/A (GQ/vacant)'}}},\n  'FMARHDP': {'label': 'Divorced in the past 12 months allocation flag',\n   'predicateType': 'int',\n   'group': 'N/A',\n   'limit': 0,\n   'suggested-weight': 'PWGTP',\n   'values': {'item': {'0': 'No', '1': 'Yes'}}},\n  'R65': {'label': 'Presence of persons 65 years and over in household (unweighted)',\n   'predicateType': 'int',\n   'group': 'N/A',\n   'limit': 0,\n   'suggested-weight': 'WGTP',\n   'values': {'item': {'2': '2 or more persons 65 and over',\n     '1': '1 person 65 and over',\n     '0': 'No person 65 and over',\n     '-1': 'N/A (GQ/vacant)'}}},\n  'FMIGSP': {'label': 'Migration state allocation flag',\n   'predicateType': 'int',\n   'group': 'N/A',\n   'limit': 0,\n   'suggested-weight': 'PWGTP',\n   'values': {'item': {'1': 'Yes', '0': 'No'}}},\n  'MARHT': {'label': 'Number of times married',\n   'predicateType': 'int',\n   'group': 'N/A',\n   'limit': 0,\n   'suggested-weight': 'PWGTP',\n   'values': {'item': {'3': 'Three or more times',\n     '2': 'Two Times',\n     '1': 'One time',\n     '0': 'N/A (age less than 15 years; never married)'}}},\n  'FHINS4P': {'label': 'Medicaid, medical assistance, or any kind of government-assistance plan for people with low incomes or a disability allocation flag',\n   'predicateType': 'int',\n   'group': 'N/A',\n   'limit': 0,\n   'suggested-weight': 'PWGTP',\n   'values': {'item': {'1': 'Yes', '0': 'No'}}},\n  'DECADE': {'label': 'Decade of entry',\n   'predicateType': 'int',\n   'group': 'N/A',\n   'limit': 0,\n   'suggested-weight': 'PWGTP',\n   'values': {'item': {'4': '1970 - 1979',\n     '3': '1960 - 1969',\n     '5': '1980 - 1989',\n     '8': '2010 or later',\n     '7': '2000 - 2009',\n     '1': 'Before 1950',\n     '2': '1950 - 1959',\n     '0': 'N/A (Born in the US)',\n     '6': '1990 - 1999'}}},\n  'SERIALNO': {'label': 'Housing unit/GQ person serial number',\n   'predicateType': 'string',\n   'group': 'N/A',\n   'limit': 0,\n   'suggested-weight': 'PWGTP'},\n  'MARHW': {'label': 'Widowed in the past 12 months',\n   'predicateType': 'int',\n   'group': 'N/A',\n   'limit': 0,\n   'suggested-weight': 'PWGTP',\n   'values': {'item': {'1': 'Yes',\n     '0': 'N/A (age less than 15 years; never married)',\n     '2': 'No'}}},\n  'MARHM': {'label': 'Married in the past 12 months',\n   'predicateType': 'int',\n   'group': 'N/A',\n   'limit': 0,\n   'suggested-weight': 'PWGTP',\n   'values': {'item': {'1': 'Yes',\n     '2': 'No',\n     '0': 'N/A (age less than 15 years; never married)'}}},\n  'FGCRP': {'label': 'Grandparents responsible for grandchildren allocation flag',\n   'predicateType': 'int',\n   'group': 'N/A',\n   'limit': 0,\n   'suggested-weight': 'PWGTP',\n   'values': {'item': {'1': 'Yes', '0': 'No'}}},\n  'YRBLT': {'label': 'When structure first built',\n   'predicateType': 'int',\n   'group': 'N/A',\n   'limit': 0,\n   'suggested-weight': 'WGTP',\n   'values': {'item': {'1990': '1990 to 1999',\n     '2010': '2010 to 2019',\n     '1940': '1940 to 1949',\n     '1970': '1970 to 1979',\n     '1980': '1980 to 1989',\n     '1938': 'N/A (GQ)',\n     '2020': '2020',\n     '2000': '2000 to 2009',\n     '2021': '2021',\n     '1950': '1950 to 1959',\n     '1939': '1939 or earlier',\n     '1960': '1960 to 1969'}}},\n  'FHINS4C': {'label': 'Medicaid coverage given through the eligibility coverage edit',\n   'predicateType': 'int',\n   'group': 'N/A',\n   'limit': 0,\n   'suggested-weight': 'PWGTP',\n   'values': {'item': {'0': 'No',\n     '-1': 'Does not have Medicaid coverage (HINS4=2)',\n     '1': 'Yes'}}},\n  'PSF': {'label': 'Presence of subfamilies in household',\n   'predicateType': 'int',\n   'group': 'N/A',\n   'limit': 0,\n   'suggested-weight': 'WGTP',\n   'values': {'item': {'1': '1 or more subfamilies',\n     '-1': 'N/A (GQ/vacant)',\n     '0': 'No subfamilies'}}},\n  'NOC': {'label': 'Number of own children in household (unweighted)',\n   'predicateType': 'int',\n   'group': 'N/A',\n   'limit': 0,\n   'suggested-weight': 'WGTP',\n   'values': {'item': {'-1': 'N/A(GQ/vacant)', '00': 'No own children'},\n    'range': [{'min': '1',\n      'max': '19',\n      'description': 'Number of own children in household'}]}},\n  'RACSOR': {'label': 'Some other race recode (Some other race alone or in combination with one or more other races)',\n   'predicateType': 'int',\n   'group': 'N/A',\n   'limit': 0,\n   'suggested-weight': 'PWGTP',\n   'values': {'item': {'1': 'Yes', '0': 'No'}}},\n  'POBP': {'label': 'Place of birth (Recode)',\n   'predicateType': 'string',\n   'group': 'N/A',\n   'limit': 0,\n   'values': {'item': {'360': 'Argentina',\n     '120': 'Italy',\n     '005': 'Arkansas/AR',\n     '368': 'Guyana',\n     '249': 'Asia',\n     '370': 'Peru',\n     '130': 'Azores Islands',\n     '010': 'Delaware/DE',\n     '373': 'Venezuela',\n     '154': 'Serbia',\n     '034': 'New Jersey/NJ',\n     '036': 'New York/NY',\n     '157': 'Lithuania',\n     '159': 'Azerbaijan',\n     '042': 'Pennsylvania/PA',\n     '044': 'Rhode Island/RI',\n     '054': 'West Virginia/WV',\n     '501': 'Australia',\n     '508': 'Fiji',\n     '515': 'New Zealand',\n     '300': 'Bermuda',\n     '421': 'Ghana',\n     '429': 'Liberia',\n     '205': 'Myanmar',\n     '449': 'South Africa',\n     '211': 'Indonesia',\n     '333': 'Jamaica',\n     '460': 'Zambia',\n     '341': 'Trinidad and Tobago',\n     '233': 'Philippines',\n     '235': 'Saudi Arabia',\n     '119': 'Ireland',\n     '365': 'Ecuador',\n     '245': 'United Arab Emirates',\n     '127': 'Norway',\n     '015': 'Hawaii/HI',\n     '136': 'Sweden',\n     '016': 'Idaho/ID',\n     '137': 'Switzerland',\n     '021': 'Kentucky/KY',\n     '142': 'Northern Ireland',\n     '399': 'Americas, Not Specified',\n     '158': 'Armenia',\n     '072': 'Puerto Rico',\n     '323': 'Bahamas',\n     '447': 'Sierra Leone',\n     '328': 'Dominica',\n     '451': 'Sudan',\n     '457': 'Uganda',\n     '463': 'South Sudan',\n     '468': 'Other Africa, Not Specified',\n     '469': 'Eastern Africa, Not Specified',\n     '108': 'Finland',\n     '109': 'France',\n     '117': 'Hungary',\n     '238': 'Sri Lanka',\n     '239': 'Syria',\n     '242': 'Thailand',\n     '248': 'Yemen',\n     '369': 'Paraguay',\n     '009': 'Connecticut/CT',\n     '372': 'Uruguay',\n     '018': 'Indiana/IN',\n     '028': 'Mississippi/MS',\n     '161': 'Georgia',\n     '045': 'South Carolina/SC',\n     '168': 'Montenegro',\n     '048': 'Texas/TX',\n     '169': 'Other Europe, Not Specified',\n     '066': 'Guam',\n     '314': 'Honduras',\n     '200': 'Afghanistan',\n     '321': 'Antigua and Barbuda',\n     '442': 'Rwanda',\n     '202': 'Bangladesh',\n     '206': 'Cambodia',\n     '454': 'Togo',\n     '459': 'Democratic Republic of Congo (Zaire)',\n     '222': 'Kuwait',\n     '102': 'Austria',\n     '228': 'Mongolia',\n     '110': 'Germany',\n     '361': 'Bolivia',\n     '243': 'Turkey',\n     '002': 'Alaska/AK',\n     '126': 'Netherlands',\n     '011': 'District of Columbia/DC',\n     '253': 'South Central Asia, Not Specified',\n     '374': 'South America',\n     '013': 'Georgia/GA',\n     '140': 'Scotland',\n     '022': 'Louisiana/LA',\n     '025': 'Massachusetts/MA',\n     '026': 'Michigan/MI',\n     '027': 'Minnesota/MN',\n     '030': 'Montana/MT',\n     '156': 'Latvia',\n     '163': 'Russia',\n     '053': 'Washington/WA',\n     '511': 'Marshall Islands',\n     '416': 'Ethiopia',\n     '301': 'Canada',\n     '311': 'Costa Rica',\n     '312': 'El Salvador',\n     '554': 'Other US Island Areas, Oceania, Not Specified, or at Sea',\n     '316': 'Panama',\n     '448': 'Somalia',\n     '329': 'Dominican Republic',\n     '209': 'Hong Kong',\n     '453': 'Tanzania',\n     '218': 'Kazakhstan',\n     '340': 'St. Vincent and the Grenadines',\n     '462': 'Africa',\n     '224': 'Lebanon',\n     '001': 'Alabama/AL',\n     '364': 'Colombia',\n     '008': 'Colorado/CO',\n     '129': 'Portugal',\n     '134': 'Spain',\n     '139': 'England',\n     '019': 'Iowa/IA',\n     '150': 'Bosnia and Herzegovina',\n     '152': 'Macedonia',\n     '033': 'New Hampshire/NH',\n     '037': 'North Carolina/NC',\n     '039': 'Ohio/OH',\n     '160': 'Belarus',\n     '162': 'Moldova',\n     '055': 'Wisconsin/WI',\n     '078': 'US Virgin Islands',\n     '400': 'Algeria',\n     '423': 'Guinea',\n     '313': 'Guatemala',\n     '440': 'Nigeria',\n     '444': 'Senegal',\n     '210': 'India',\n     '332': 'Haiti',\n     '212': 'Iran',\n     '217': 'Korea',\n     '338': 'St. Kitts-Nevis',\n     '339': 'St. Lucia',\n     '219': 'Kyrgyzstan',\n     '223': 'Laos',\n     '467': 'Western Africa, Not Specified',\n     '105': 'Czechoslovakia',\n     '004': 'Arizona/AZ',\n     '247': 'Vietnam',\n     '012': 'Florida/FL',\n     '254': 'Other Asia, Not Specified',\n     '017': 'Illinois/IL',\n     '024': 'Maryland/MD',\n     '148': 'Czech Republic',\n     '151': 'Croatia',\n     '038': 'North Dakota/ND',\n     '165': 'USSR',\n     '166': 'Europe',\n     '046': 'South Dakota/SD',\n     '167': 'Kosovo',\n     '049': 'Utah/UT',\n     '050': 'Vermont/VT',\n     '056': 'Wyoming/WY',\n     '527': 'Samoa',\n     '412': 'Congo',\n     '417': 'Eritrea',\n     '303': 'Mexico',\n     '425': 'Ivory Coast',\n     '203': 'Bhutan',\n     '324': 'Barbados',\n     '207': 'China',\n     '330': 'Grenada',\n     '213': 'Iraq',\n     '215': 'Japan',\n     '216': 'Jordan',\n     '464': 'Northern Africa, Not Specified',\n     '106': 'Denmark',\n     '236': 'Singapore',\n     '118': 'Iceland',\n     '363': 'Chile',\n     '246': 'Uzbekistan',\n     '006': 'California/CA',\n     '128': 'Poland',\n     '023': 'Maine/ME',\n     '149': 'Slovakia',\n     '041': 'Oregon/OR',\n     '164': 'Ukraine',\n     '047': 'Tennessee/TN',\n     '060': 'American Samoa',\n     '512': 'Micronesia',\n     '523': 'Tonga',\n     '408': 'Cabo Verde',\n     '414': 'Egypt',\n     '420': 'Gambia',\n     '427': 'Kenya',\n     '430': 'Libya',\n     '436': 'Morocco',\n     '327': 'Cuba',\n     '461': 'Zimbabwe',\n     '100': 'Albania',\n     '343': 'West Indies',\n     '344': 'Caribbean, Not Specified',\n     '103': 'Belgium',\n     '226': 'Malaysia',\n     '231': 'Pakistan',\n     '116': 'Greece',\n     '240': 'Taiwan',\n     '362': 'Brazil',\n     '132': 'Romania',\n     '138': 'United Kingdom, Not Specified',\n     '020': 'Kansas/KS',\n     '147': 'Yugoslavia',\n     '029': 'Missouri/MO',\n     '031': 'Nebraska/NE',\n     '032': 'Nevada/NV',\n     '035': 'New Mexico/NM',\n     '040': 'Oklahoma/OK',\n     '051': 'Virginia/VA',\n     '069': 'Commonwealth of the Northern Mariana Islands',\n     '407': 'Cameroon',\n     '310': 'Belize',\n     '315': 'Nicaragua',\n     '214': 'Israel',\n     '456': 'Tunisia',\n     '104': 'Bulgaria',\n     '229': 'Nepal'}}},\n  'CPLT': {'label': 'Couple Type',\n   'predicateType': 'int',\n   'group': 'N/A',\n   'limit': 0,\n   'suggested-weight': 'WGTP',\n   'values': {'item': {'1': 'Opposite-sex husband/wife/spouse household',\n     '2': 'Same-sex husband/wife/spouse household',\n     '3': 'Opposite-sex unmarried partner household',\n     '4': 'Same-sex unmarried partner household',\n     '0': 'N/A (GQ/vacant/non-couple households)'}}},\n  'TYPEHUGQ': {'label': 'Type of unit',\n   'predicateType': 'int',\n   'group': 'N/A',\n   'limit': 0,\n   'suggested-weight': 'WGTP',\n   'values': {'item': {'3': 'Noninstitutional group quarters',\n     '1': 'Housing unit',\n     '2': 'Institutional group quarters'}}},\n  'NOP': {'label': 'Nativity of parent',\n   'predicateType': 'int',\n   'group': 'N/A',\n   'limit': 0,\n   'suggested-weight': 'PWGTP',\n   'values': {'item': {'1': 'Living with two parents: Both parents NATIVE',\n     '5': 'Living with father only: Father NATIVE',\n     '8': 'Living with mother only: Mother FOREIGN BORN',\n     '7': 'Living with mother only: Mother NATIVE',\n     '3': 'Living with two parents: Mother only FOREIGN BORN',\n     '4': 'Living with two parents: BOTH parents FOREIGN BORN',\n     '6': 'Living with father only: Father FOREIGN BORN',\n     '0': 'N/A (greater than 17 years old/not an own child of householder, and not child in subfamily)',\n     '2': 'Living with two parents: Father only FOREIGN BORN'}}},\n  'FSMARTPHONP': {'label': 'Smartphone allocation flag',\n   'predicateType': 'int',\n   'group': 'N/A',\n   'limit': 0,\n   'suggested-weight': 'WGTP',\n   'values': {'item': {'1': 'Yes', '-1': 'N/A (GQ)', '0': 'No'}}},\n  'FULP': {'label': 'Fuel cost (yearly cost for fuels other than gas and electricity, use ADJHSG to adjust FULP to constant dollars)',\n   'predicateType': 'int',\n   'group': 'N/A',\n   'limit': 0,\n   'suggested-weight': 'WGTP',\n   'values': {'item': {'2': 'N/A (GQ/vacant/included in rent or in condo fee/no charge or fuel other than gas or electricity not used)'},\n    'range': [{'min': '3',\n      'max': '9999',\n      'description': '$3 to $9999 (Rounded and top-coded)'}]}},\n  'FHINS3P': {'label': 'Medicare, for people 65 or older, or people with certain disabilities allocation flag',\n   'predicateType': 'int',\n   'group': 'N/A',\n   'limit': 0,\n   'suggested-weight': 'PWGTP',\n   'values': {'item': {'0': 'No', '1': 'Yes'}}},\n  'SINK': {'label': 'Sink with a faucet',\n   'predicateType': 'int',\n   'group': 'N/A',\n   'limit': 0,\n   'suggested-weight': 'WGTP',\n   'values': {'item': {'2': 'No', '1': 'Yes', '0': 'N/A (GQ)'}}},\n  'KIT': {'label': 'Complete kitchen facilities',\n   'predicateType': 'int',\n   'group': 'N/A',\n   'limit': 0,\n   'suggested-weight': 'WGTP',\n   'values': {'item': {'0': 'N/A (GQ)',\n     '1': 'Yes, has stove or range, refrigerator, and sink with a faucet',\n     '2': 'No'}}},\n  'FVALP': {'label': 'Property value allocation flag',\n   'predicateType': 'int',\n   'group': 'N/A',\n   'limit': 0,\n   'suggested-weight': 'WGTP',\n   'values': {'item': {'1': 'Yes', '-1': 'N/A (GQ)', '0': 'No'}}},\n  'CONCAT_ID': {'label': 'Concatenation ID',\n   'predicateType': 'string',\n   'group': 'N/A',\n   'limit': 0},\n  'JWDP': {'label': 'Time of departure for work - hour and minute',\n   'predicateType': 'int',\n   'group': 'N/A',\n   'limit': 0,\n   'suggested-weight': 'PWGTP',\n   'values': {'item': {'015': '4:20 a.m. to 4:29 a.m.',\n     '149': '11:00 p.m. to 11:29 p.m.',\n     '083': '10:40 a.m. to 10:49 a.m.',\n     '131': '6:40 p.m. to 6:49 p.m.',\n     '103': '2:00 p.m. to 2:09 p.m.',\n     '085': '11:00 a.m. to 11:09 a.m.',\n     '079': '10:00 a.m. to 10:09 a.m.',\n     '068': '9:05 a.m. to 9:09 a.m.',\n     '130': '6:30 p.m. to 6:39 p.m.',\n     '118': '4:30 p.m. to 4:39 p.m.',\n     '086': '11:10 a.m. to 11:19 a.m.',\n     '022': '5:15 a.m. to 5:19 a.m.',\n     '017': '4:40 a.m. to 4:49 a.m.',\n     '105': '2:20 p.m. to 2:29 p.m.',\n     '046': '7:15 a.m. to 7:19 a.m.',\n     '141': '9:40 p.m. to 9:49 p.m.',\n     '139': '9:20 p.m. to 9:29 p.m.',\n     '127': '6:00 p.m. to 6:09 p.m.',\n     '065': '8:50 a.m. to 8:54 a.m.',\n     '035': '6:20 a.m. to 6:24 a.m.',\n     '076': '9:45 a.m. to 9:49 a.m.',\n     '014': '4:10 a.m. to 4:19 a.m.',\n     '100': '1:30 p.m. to 1:39 p.m.',\n     '078': '9:55 a.m. to 9:59 a.m.',\n     '059': '8:20 a.m. to 8:24 a.m.',\n     '057': '8:10 a.m. to 8:14 a.m.',\n     '107': '2:40 p.m. to 2:49 p.m.',\n     '101': '1:40 p.m. to 1:49 p.m.',\n     '066': '8:55 a.m. to 8:59 a.m.',\n     '104': '2:10 p.m. to 2:19 p.m.',\n     '073': '9:30 a.m. to 9:34 a.m.',\n     '150': '11:30 p.m. to 11:59 p.m.',\n     '116': '4:10 p.m. to 4:19 p.m.',\n     '111': '3:20 p.m. to 3:29 p.m.',\n     '063': '8:40 a.m. to 8:44 a.m.',\n     '128': '6:10 p.m. to 6:19 p.m.',\n     '028': '5:45 a.m. to 5:49 a.m.',\n     '019': '5:00 a.m. to 5:04 a.m.',\n     '010': '3:30 a.m. to 3:39 a.m.',\n     '053': '7:50 a.m. to 7:54 a.m.',\n     '120': '4:50 p.m. to 4:59 p.m.',\n     '090': '11:50 a.m. to 11:59 a.m.',\n     '055': '8:00 a.m. to 8:04 a.m.',\n     '011': '3:40 a.m. to 3:49 a.m.',\n     '110': '3:10 p.m. to 3:19 p.m.',\n     '092': '12:10 p.m. to 12:19 p.m.',\n     '047': '7:20 a.m. to 7:24 a.m.',\n     '045': '7:10 a.m. to 7:14 a.m.',\n     '044': '7:05 a.m. to 7:09 a.m.',\n     '134': '7:30 p.m. to 7:59 p.m.',\n     '133': '7:00 p.m. to 7:29 p.m.',\n     '132': '6:50 p.m. to 6:59 p.m.',\n     '084': '10:50 a.m. to 10:59 a.m.',\n     '056': '8:05 a.m. to 8:09 a.m.',\n     '049': '7:30 a.m. to 7:34 a.m.',\n     '112': '3:30 p.m. to 3:39 p.m.',\n     '119': '4:40 p.m. to 4:49 p.m.',\n     '097': '1:00 p.m. to 1:09 p.m.',\n     '060': '8:25 a.m. to 8:29 a.m.',\n     '040': '6:45 a.m. to 6:49 a.m.',\n     '121': '5:00 p.m. to 5:09 p.m.',\n     '082': '10:30 a.m. to 10:39 a.m.',\n     '069': '9:10 a.m. to 9:14 a.m.',\n     '064': '8:45 a.m. to 8:49 a.m.',\n     '023': '5:20 a.m. to 5:24 a.m.',\n     '038': '6:35 a.m. to 6:39 a.m.',\n     '095': '12:40 p.m. to 12:49 p.m.',\n     '096': '12:50 p.m. to 12:59 p.m.',\n     '050': '7:35 a.m. to 7:39 a.m.',\n     '031': '6:00 a.m. to 6:04 a.m.',\n     '009': '3:20 a.m. to 3:29 a.m.',\n     '135': '8:00 p.m. to 8:29 p.m.',\n     '062': '8:35 a.m. to 8:39 a.m.',\n     '067': '9:00 a.m. to 9:04 a.m.',\n     '061': '8:30 a.m. to 8:34 a.m.',\n     '145': '10:20 p.m. to 10:29 p.m.',\n     '143': '10:00 p.m. to 10:09 p.m.',\n     '098': '1:10 p.m. to 1:19 p.m.',\n     '036': '6:25 a.m. to 6:29 a.m.',\n     '033': '6:10 a.m. to 6:14 a.m.',\n     '102': '1:50 p.m. to 1:59 p.m.',\n     '093': '12:20 p.m. to 12:29 p.m.',\n     '081': '10:20 a.m. to 10:29 a.m.',\n     '041': '6:50 a.m. to 6:54 a.m.',\n     '003': '1:00 a.m. to 1:29 a.m.',\n     '115': '4:00 p.m. to 4:09 p.m.',\n     '126': '5:50 p.m. to 5:59 p.m.',\n     '109': '3:00 p.m. to 3:09 p.m.',\n     '123': '5:20 p.m. to 5:29 p.m.',\n     '077': '9:50 a.m. to 9:54 a.m.',\n     '012': '3:50 a.m. to 3:59 a.m.',\n     '122': '5:10 p.m. to 5:19 p.m.',\n     '088': '11:30 a.m. to 11:39 a.m.',\n     '025': '5:30 a.m. to 5:34 a.m.',\n     '006': '2:30 a.m. to 2:59 a.m.',\n     '108': '2:50 p.m. to 2:59 p.m.',\n     '087': '11:20 a.m. to 11:29 a.m.',\n     '013': '4:00 a.m. to 4:09 a.m.',\n     '124': '5:30 p.m. to 5:39 p.m.',\n     '030': '5:55 a.m. to 5:59 a.m.',\n     '026': '5:35 a.m. to 5:39 a.m.',\n     '001': '12:00 a.m. to 12:29 a.m.',\n     '106': '2:30 p.m. to 2:39 p.m.',\n     '144': '10:10 p.m. to 10:19 p.m.',\n     '094': '12:30 p.m. to 12:39 p.m.',\n     '016': '4:30 a.m. to 4:39 a.m.',\n     '136': '8:30 p.m. to 8:59 p.m.',\n     '117': '4:20 p.m. to 4:29 p.m.',\n     '034': '6:15 a.m. to 6:19 a.m.',\n     '027': '5:40 a.m. to 5:44 a.m.',\n     '021': '5:10 a.m. to 5:14 a.m.',\n     '007': '3:00 a.m. to 3:09 a.m.',\n     '004': '1:30 a.m. to 1:59 a.m.',\n     '137': '9:00 p.m. to 9:09 p.m.',\n     '129': '6:20 p.m. to 6:29 p.m.',\n     '125': '5:40 p.m. to 5:49 p.m.',\n     '074': '9:35 a.m. to 9:39 a.m.',\n     '051': '7:40 a.m. to 7:44 a.m.',\n     '048': '7:25 a.m. to 7:29 a.m.',\n     '042': '6:55 a.m. to 6:59 a.m.',\n     '024': '5:25 a.m. to 5:29 a.m.',\n     '140': '9:30 p.m. to 9:39 p.m.',\n     '058': '8:15 a.m. to 8:19 a.m.',\n     '039': '6:40 a.m. to 6:44 a.m.',\n     '020': '5:05 a.m. to 5:09 a.m.',\n     '113': '3:40 p.m. to 3:49 p.m.',\n     '072': '9:25 a.m. to 9:29 a.m.',\n     '043': '7:00 a.m. to 7:04 a.m.',\n     '091': '12:00 p.m. to 12:09 p.m.',\n     '005': '2:00 a.m. to 2:29 a.m.',\n     '075': '9:40 a.m. to 9:44 a.m.',\n     '002': '12:30 a.m. to 12:59 a.m.',\n     '146': '10:30 p.m. to 10:39 p.m.',\n     '089': '11:40 a.m. to 11:49 a.m.',\n     '054': '7:55 a.m. to 7:59 a.m.',\n     '142': '9:50 p.m. to 9:59 p.m.',\n     '070': '9:15 a.m. to 9:19 a.m.',\n     '029': '5:50 a.m. to 5:54 a.m.',\n     '147': '10:40 p.m. to 10:49 p.m.',\n     '018': '4:50 a.m. to 4:59 a.m.',\n     '148': '10:50 p.m. to 10:59 p.m.',\n     '099': '1:20 p.m. to 1:29 p.m.',\n     '080': '10:10 a.m. to 10:19 a.m.',\n     '071': '9:20 a.m. to 9:24 a.m.',\n     '052': '7:45 a.m. to 7:49 a.m.',\n     '037': '6:30 a.m. to 6:34 a.m.',\n     '008': '3:10 a.m. to 3:19 a.m.',\n     '114': '3:50 p.m. to 3:59 p.m.',\n     '138': '9:10 p.m. to 9:19 p.m.',\n     '032': '6:05 a.m. to 6:09 a.m.',\n     '0': 'N/A (not a worker; worker who worked at home)'}}},\n  'WKEXREL': {'label': 'Work experience of householder and spouse',\n   'predicateType': 'int',\n   'group': 'N/A',\n   'limit': 0,\n   'suggested-weight': 'WGTP',\n   'values': {'item': {'14': 'Female householder worked less than FT; no spouse present',\n     '08': 'Householder did not work; spouse worked less than FT',\n     '13': 'Female householder worked FT; no spouse present',\n     '03': 'Householder worked FT; spouse did not work',\n     '0': 'N/A (GQ/vacant/not a family)',\n     '04': 'Householder worked less than FT; spouse worked FT',\n     '12': 'Male householder did not work; no spouse present',\n     '09': 'Householder did not work; spouse did not work',\n     '06': 'Householder worked less than FT; spouse did not work',\n     '02': 'Householder worked FT; spouse worked less than FT',\n     '01': 'Householder and spouse worked FT',\n     '10': 'Male householder worked FT; no spouse present',\n     '05': 'Householder worked less than FT; spouse worked less than FT',\n     '11': 'Male householder worked less than FT; no spouse present',\n     '07': 'Householder did not work; spouse worked FT',\n     '15': 'Female householder did not work; no spouse present'}}},\n  'DPHY': {'label': 'Ambulatory difficulty',\n   'predicateType': 'int',\n   'group': 'N/A',\n   'limit': 0,\n   'suggested-weight': 'PWGTP',\n   'values': {'item': {'1': 'Yes',\n     '0': 'N/A (Less than 5 years old)',\n     '2': 'No'}}},\n  'FWRKP': {'label': 'Worked last week allocation flag',\n   'predicateType': 'int',\n   'group': 'N/A',\n   'limit': 0,\n   'suggested-weight': 'PWGTP',\n   'values': {'item': {'1': 'Yes', '0': 'No'}}},\n  'NPF': {'label': 'Number of persons in family (unweighted)',\n   'predicateType': 'int',\n   'group': 'N/A',\n   'limit': 0,\n   'suggested-weight': 'WGTP',\n   'values': {'item': {'1': 'N/A (GQ/vacant/non-family household)'},\n    'range': [{'min': '2',\n      'max': '20',\n      'description': 'Number of persons in family'}]}},\n  'FHINS3C': {'label': 'Medicare coverage given through the eligibility coverage edit',\n   'predicateType': 'int',\n   'group': 'N/A',\n   'limit': 0,\n   'suggested-weight': 'PWGTP',\n   'values': {'item': {'-1': 'Does not have Medicare coverage (HINS3=2)',\n     '1': 'Yes',\n     '0': 'No'}}},\n  'FDEARP': {'label': 'Hearing difficulty allocation flag',\n   'predicateType': 'int',\n   'group': 'N/A',\n   'limit': 0,\n   'suggested-weight': 'PWGTP',\n   'values': {'item': {'1': 'Yes', '0': 'No'}}},\n  'NPP': {'label': 'Grandparent headed household with no parent present',\n   'predicateType': 'int',\n   'group': 'N/A',\n   'limit': 0,\n   'suggested-weight': 'WGTP',\n   'values': {'item': {'1': 'Grandparent headed household with no parent present',\n     '0': 'Not a grandparent headed household with no parent present',\n     '-1': 'N/A (GQ/vacant)'}}},\n  'FHINS2P': {'label': 'Insurance purchased directly from an insurance company allocation flag',\n   'predicateType': 'int',\n   'group': 'N/A',\n   'limit': 0,\n   'suggested-weight': 'PWGTP',\n   'values': {'item': {'1': 'Yes', '0': 'No'}}},\n  'FRWATPRP': {'label': 'Running water allocation flag for Puerto Rico',\n   'predicateType': 'int',\n   'group': 'N/A',\n   'limit': 0,\n   'suggested-weight': 'WGTP',\n   'values': {'item': {'-1': 'N/A (GQ)', '1': 'Yes', '0': 'No'}}},\n  'FSCHLP': {'label': 'Highest education allocation flag',\n   'predicateType': 'int',\n   'group': 'N/A',\n   'limit': 0,\n   'suggested-weight': 'PWGTP',\n   'values': {'item': {'1': 'Yes', '0': 'No'}}},\n  'MLPCD': {'label': 'Served May 1975 - July 1990',\n   'predicateType': 'int',\n   'group': 'N/A',\n   'limit': 0,\n   'suggested-weight': 'PWGTP',\n   'values': {'item': {'0': 'Did not serve this period',\n     '-1': 'N/A (Less than 17 years old/no active duty)',\n     '1': 'Served This Period'}}},\n  'FPARC': {'label': 'Family presence and age of related children',\n   'predicateType': 'int',\n   'group': 'N/A',\n   'limit': 0,\n   'suggested-weight': 'WGTP',\n   'values': {'item': {'0': 'N/A (GQ/vacant/not a family)',\n     '2': 'With related children 5 to 17 years only',\n     '1': 'With related children under 5 years only',\n     '4': 'No related children',\n     '3': 'With related children under 5 years and 5 to 17 years'}}},\n  'MIGPUMA': {'label': 'Migration PUMA based on 2010 Census definition',\n   'predicateType': 'string',\n   'group': 'N/A',\n   'limit': 0,\n   'values': {'item': {'04400': 'Assigned Migration PUMA(04400). Use with MIGSP.',\n     '51084': 'Assigned Migration PUMA(51084). Use with MIGSP.',\n     'N': 'N/A (person less than 1 year old/lived in same house 1 year ago)',\n     '55100': 'Assigned Migration PUMA(55100). Use with MIGSP.',\n     '04300': 'Assigned Migration PUMA(04300). Use with MIGSP.',\n     '11600': 'Assigned Migration PUMA(11600). Use with MIGSP.',\n     '51206': 'Assigned Migration PUMA(51206). Use with MIGSP.',\n     '00200': 'Assigned Migration PUMA(00200). Use with MIGSP.',\n     '04007': 'Assigned Migration PUMA(04007). Use with MIGSP.',\n     '11900': 'Assigned Migration PUMA(11900). Use with MIGSP.',\n     '51120': 'Assigned Migration PUMA(51120). Use with MIGSP.',\n     '51001': 'Assigned Migration PUMA(51001). Use with MIGSP.',\n     '11100': 'Assigned Migration PUMA(11100). Use with MIGSP.',\n     '05200': 'Assigned Migration PUMA(05200). Use with MIGSP.',\n     '51010': 'Assigned Migration PUMA(51001). Use with MIGSP.',\n     '00102': 'Assigned Migration PUMA(00102). Use with MIGSP.',\n     '02400': 'Assigned Migration PUMA(02400). Use with MIGSP.',\n     '05100': 'Assigned Migration PUMA(05100). Use with MIGSP.',\n     '00400': 'Assigned Migration PUMA(00400). Use with MIGSP.',\n     '51040': 'Assigned Migration PUMA(51040). Use with MIGSP.',\n     '03590': 'Assigned Migration PUMA(03590). Use with MIGSP.',\n     '00990': 'Assigned Migration PUMA(00990). Use with MIGSP.',\n     '01601': 'Assigned Migration PUMA(01601). Use with MIGSP.',\n     '10790': 'Assigned Migration PUMA(10790). Use with MIGSP.',\n     '04900': 'Assigned Migration PUMA(04900). Use with MIGSP.',\n     '30000': 'Assigned Migration PUMA(30000). Use with MIGSP.',\n     '04600': 'Assigned Migration PUMA(04600). Use with MIGSP.',\n     '51215': 'Assigned Migration PUMA(51215). Use with MIGSP.',\n     '00700': 'Assigned Migration PUMA(00700). Use with MIGSP.',\n     '01900': 'Assigned Migration PUMA(01900). Use with MIGSP.',\n     '01102': 'Assigned Migration PUMA(01102). Use with MIGSP.',\n     '51115': 'Assigned Migration PUMA(51115). Use with MIGSP.',\n     '03700': 'Assigned Migration PUMA(03700). Use with MIGSP.',\n     '01401': 'Assigned Migration PUMA(01401). Use with MIGSP.',\n     '10700': 'Assigned Migration PUMA(10700). Use with MIGSP.',\n     '51135': 'Assigned Migration PUMA(51135). Use with MIGSP.',\n     '00900': 'Assigned Migration PUMA(00900). Use with MIGSP.',\n     '11200': 'Assigned Migration PUMA(11200). Use with MIGSP.',\n     '10900': 'Assigned Migration PUMA(10900). Use with MIGSP.',\n     '51186': 'Assigned Migration PUMA(51186). Use with MIGSP.',\n     '01190': 'Assigned Migration PUMA(01190). Use with MIGSP.',\n     '20000': 'Assigned Migration PUMA(20000). Use with MIGSP.',\n     '01501': 'Assigned Migration PUMA(01501). Use with MIGSP.',\n     '03001': 'Assigned Migration PUMA(03001). Use with MIGSP.',\n     '51080': 'Assigned Migration PUMA(51080). Use with MIGSP.',\n     '01002': 'Assigned Migration PUMA(01002). Use with MIGSP.',\n     '01001': 'Assigned Migration PUMA(01001). Use with MIGSP.',\n     '01800': 'Assigned Migration PUMA(01800). Use with MIGSP.',\n     '10300': 'Assigned Migration PUMA(10300). Use with MIGSP.',\n     '55102': 'Assigned Migration PUMA(55102). Use with MIGSP.',\n     '35000': 'Assigned Migration PUMA(35000). Use with MIGSP.',\n     '02300': 'Assigned Migration PUMA(02300). Use with MIGSP.',\n     '01326': 'Assigned Migration PUMA(01326). Use with MIGSP.',\n     '01325': 'Assigned Migration PUMA(01325). Use with MIGSP.',\n     '05001': 'Assigned Migration PUMA(05001). Use with MIGSP.',\n     '00702': 'Assigned Migration PUMA(00702). Use with MIGSP.',\n     '06000': 'Assigned Migration PUMA(06000). Use with MIGSP.',\n     '00490': 'Assigned Migration PUMA(00490). Use with MIGSP.',\n     '09500': 'Assigned Migration PUMA(09500). Use with MIGSP.',\n     '12100': 'Assigned Migration PUMA(12100). Use with MIGSP.',\n     '10600': 'Assigned Migration PUMA(10600). Use with MIGSP.',\n     '05690': 'Assigned Migration PUMA(05690). Use with MIGSP.',\n     '00790': 'Assigned Migration PUMA(00790). Use with MIGSP.',\n     '57000': 'Assigned Migration PUMA(57000). Use with MIGSP.',\n     '03290': 'Assigned Migration PUMA(03290). Use with MIGSP.',\n     '00690': 'Assigned Migration PUMA(00690). Use with MIGSP.',\n     '49000': 'Assigned Migration PUMA(49000). Use with MIGSP.',\n     '05400': 'Assigned Migration PUMA(05400). Use with MIGSP.',\n     '01500': 'Assigned Migration PUMA(01500). Use with MIGSP.',\n     '04690': 'Assigned Migration PUMA(04690). Use with MIGSP.',\n     '09100': 'Assigned Migration PUMA(09100). Use with MIGSP.',\n     '51085': 'Assigned Migration PUMA(51085). Use with MIGSP.',\n     '02100': 'Assigned Migration PUMA(02100). Use with MIGSP.',\n     '51095': 'Assigned Migration PUMA(51095). Use with MIGSP.',\n     '51097': 'Assigned Migration PUMA(51097). Use with MIGSP.',\n     '02000': 'Assigned Migration PUMA(02000). Use with MIGSP.',\n     '01700': 'Assigned Migration PUMA(01700). Use with MIGSP.',\n     '05500': 'Assigned Migration PUMA(05500). Use with MIGSP.',\n     '00800': 'Assigned Migration PUMA(00800). Use with MIGSP.',\n     '06900': 'Assigned Migration PUMA(06900). Use with MIGSP.',\n     '03190': 'Assigned Migration PUMA(03190). Use with MIGSP.',\n     '11700': 'Assigned Migration PUMA(11700). Use with MIGSP.',\n     '05800': 'Assigned Migration PUMA(05800). Use with MIGSP.',\n     '02890': 'Assigned Migration PUMA(02890). Use with MIGSP.',\n     '02090': 'Assigned Migration PUMA(02090). Use with MIGSP.',\n     '51100': 'Assigned Migration PUMA(51100). Use with MIGSP.',\n     '11000': 'Assigned Migration PUMA(11000). Use with MIGSP.',\n     '04800': 'Assigned Migration PUMA(04800). Use with MIGSP.',\n     '21001': 'Assigned Migration PUMA(21001). Use with MIGSP.',\n     '00100': 'Assigned Migration PUMA(00100). Use with MIGSP.',\n     '51020': 'Assigned Migration PUMA(51020). Use with MIGSP.',\n     '09700': 'Assigned Migration PUMA(09700). Use with MIGSP.',\n     '01290': 'Assigned Migration PUMA(01290). Use with MIGSP.',\n     '03900': 'Assigned Migration PUMA(03900). Use with MIGSP.',\n     '04790': 'Assigned Migration PUMA(04790). Use with MIGSP.',\n     '08700': 'Assigned Migration PUMA(08700). Use with MIGSP.',\n     '11500': 'Assigned Migration PUMA(11500). Use with MIGSP.',\n     '05600': 'Assigned Migration PUMA(05600). Use with MIGSP.',\n     '07900': 'Assigned Migration PUMA(07900). Use with MIGSP.',\n     '07100': 'Assigned Migration PUMA(07100). Use with MIGSP.',\n     '00502': 'Assigned Migration PUMA(00502). Use with MIGSP.',\n     '00501': 'Assigned Migration PUMA(00501). Use with MIGSP.',\n     '02800': 'Assigned Migration PUMA(02800). Use with MIGSP.',\n     '00807': 'Assigned Migration PUMA(00807). Use with MIGSP.',\n     '01327': 'Assigned Migration PUMA(01327). Use with MIGSP.',\n     '50000': 'Assigned Migration PUMA(50000). Use with MIGSP.',\n     '05000': 'Assigned Migration PUMA(05000). Use with MIGSP.',\n     '10500': 'Assigned Migration PUMA(10500). Use with MIGSP.',\n     '00701': 'Assigned Migration PUMA(00701). Use with MIGSP.',\n     '01590': 'Assigned Migration PUMA(01590). Use with MIGSP.',\n     '01101': 'Assigned Migration PUMA(01101). Use with MIGSP.',\n     '51110': 'Assigned Migration PUMA(51110). Use with MIGSP.',\n     '07500': 'Assigned Migration PUMA(07500). Use with MIGSP.',\n     '51256': 'Assigned Migration PUMA(51256). Use with MIGSP.',\n     '51255': 'Assigned Migration PUMA(51255). Use with MIGSP.',\n     '59300': 'Assigned Migration PUMA(59300). Use with MIGSP.',\n     '01790': 'Assigned Migration PUMA(01790). Use with MIGSP.',\n     '01301': 'Assigned Migration PUMA(01301). Use with MIGSP.',\n     '01300': 'Assigned Migration PUMA(01300). Use with MIGSP.',\n     '03600': 'Assigned Migration PUMA(03600). Use with MIGSP.',\n     '04200': 'Assigned Migration PUMA(04200). Use with MIGSP.',\n     '06500': 'Assigned Migration PUMA(06500). Use with MIGSP.',\n     '11300': 'Assigned Migration PUMA(11300). Use with MIGSP.',\n     '01600': 'Assigned Migration PUMA(01600). Use with MIGSP.',\n     '02490': 'Assigned Migration PUMA(02490). Use with MIGSP.',\n     '51175': 'Assigned Migration PUMA(51175). Use with MIGSP.',\n     '10200': 'Assigned Migration PUMA(10200). Use with MIGSP.',\n     '13001': 'Assigned Migration PUMA(13001). Use with MIGSP.',\n     '00606': 'Assigned Migration PUMA(00606). Use with MIGSP.',\n     '00600': 'Assigned Migration PUMA(00600). Use with MIGSP.',\n     '01490': 'Assigned Migration PUMA(01490). Use with MIGSP.',\n     '51087': 'Assigned Migration PUMA(51087). Use with MIGSP.',\n     '02690': 'Assigned Migration PUMA(02690). Use with MIGSP.',\n     '01000': 'Assigned Migration PUMA(01000). Use with MIGSP.',\n     '00503': 'Assigned Migration PUMA(00503). Use with MIGSP.',\n     '06600': 'Assigned Migration PUMA(06600). Use with MIGSP.',\n     '08100': 'Assigned Migration PUMA(08100). Use with MIGSP.',\n     '08690': 'Assigned Migration PUMA(08690). Use with MIGSP.',\n     '00002': 'Lived in Puerto Rico one year ago and current residence is in the U.S.',\n     '01690': 'Assigned Migration PUMA(01690). Use with MIGSP.',\n     '51200': 'Assigned Migration PUMA(51200). Use with MIGSP.',\n     '00590': 'Assigned Migration PUMA(00590). Use with MIGSP.',\n     '06800': 'Assigned Migration PUMA(06800). Use with MIGSP.',\n     '11800': 'Assigned Migration PUMA(11800). Use with MIGSP.',\n     '51105': 'Assigned Migration PUMA(51105). Use with MIGSP.',\n     '01100': 'Assigned Migration PUMA(01100). Use with MIGSP.',\n     '00808': 'Assigned Migration PUMA(00808). Use with MIGSP.',\n     '40100': 'Assigned Migration PUMA(40100). Use with MIGSP.',\n     '02500': 'Assigned Migration PUMA(02500). Use with MIGSP.',\n     '00202': 'Assigned Migration PUMA(00202). Use with MIGSP.',\n     '02501': 'Assigned Migration PUMA(02501). Use with MIGSP.',\n     '06300': 'Assigned Migration PUMA(06300). Use with MIGSP.',\n     '51000': 'Assigned Migration PUMA(51000). Use with MIGSP.',\n     '01090': 'Assigned Migration PUMA(01090). Use with MIGSP.',\n     '00101': 'Assigned Migration PUMA(00101). Use with MIGSP.',\n     '00104': 'Assigned Migration PUMA(00104). Use with MIGSP.',\n     '06200': 'Assigned Migration PUMA(06200). Use with MIGSP.',\n     '51145': 'Assigned Migration PUMA(51145). Use with MIGSP.',\n     '70100': 'Assigned Migration PUMA(70100). Use with MIGSP.',\n     '03602': 'Assigned Migration PUMA(03602). Use with MIGSP.',\n     '00402': 'Assigned Migration PUMA(00402). Use with MIGSP.',\n     '00401': 'Assigned Migration PUMA(00401). Use with MIGSP.',\n     '03100': 'Assigned Migration PUMA(03100). Use with MIGSP.',\n     '00301': 'Assigned Migration PUMA(00301). Use with MIGSP.',\n     '06400': 'Assigned Migration PUMA(06400). Use with MIGSP.',\n     '00601': 'Assigned Migration PUMA(00601). Use with MIGSP.',\n     '06700': 'Assigned Migration PUMA(06700). Use with MIGSP.',\n     '51096': 'Assigned Migration PUMA(51096). Use with MIGSP.',\n     '04190': 'Assigned Migration PUMA(04190). Use with MIGSP.',\n     '08900': 'Assigned Migration PUMA(08900). Use with MIGSP.',\n     '01701': 'Assigned Migration PUMA(01701). Use with MIGSP.',\n     '00290': 'Assigned Migration PUMA(00290). Use with MIGSP.',\n     '03200': 'Assigned Migration PUMA(03200). Use with MIGSP.',\n     '00001': 'Did not live in the United States or in Puerto Rico one year ago',\n     '55000': 'Assigned Migration PUMA(55000). Use with MIGSP.',\n     '01200': 'Assigned Migration PUMA(01200). Use with MIGSP.',\n     '03500': 'Assigned Migration PUMA(03500). Use with MIGSP.',\n     '05390': 'Assigned Migration PUMA(05390). Use with MIGSP.',\n     '03400': 'Assigned Migration PUMA(03400). Use with MIGSP.',\n     '05700': 'Assigned Migration PUMA(05700). Use with MIGSP.',\n     '02790': 'Assigned Migration PUMA(02790). Use with MIGSP.',\n     '51235': 'Assigned Migration PUMA(51235). Use with MIGSP.',\n     '51125': 'Assigned Migration PUMA(51125). Use with MIGSP.',\n     '01400': 'Assigned Migration PUMA(01400). Use with MIGSP.',\n     '04700': 'Assigned Migration PUMA(04700). Use with MIGSP.',\n     '10800': 'Assigned Migration PUMA(10800). Use with MIGSP.',\n     '10000': 'Assigned Migration PUMA(10000). Use with MIGSP.',\n     '00403': 'Assigned Migration PUMA(00403). Use with MIGSP.',\n     '07700': 'Assigned Migration PUMA(07700). Use with MIGSP.',\n     '00302': 'Assigned Migration PUMA(00302). Use with MIGSP.',\n     '02600': 'Assigned Migration PUMA(02600). Use with MIGSP.',\n     '53001': 'Assigned Migration PUMA(53001). Use with MIGSP.',\n     '01990': 'Assigned Migration PUMA(01990). Use with MIGSP.',\n     '51187': 'Assigned Migration PUMA(51187). Use with MIGSP.',\n     '03000': 'Assigned Migration PUMA(03000). Use with MIGSP.',\n     '05300': 'Assigned Migration PUMA(05300). Use with MIGSP.',\n     '00890': 'Assigned Migration PUMA(00890). Use with MIGSP.',\n     '00602': 'Assigned Migration PUMA(00602). Use with MIGSP.',\n     '02102': 'Assigned Migration PUMA(02102). Use with MIGSP.',\n     '02101': 'Assigned Migration PUMA(02101). Use with MIGSP.',\n     '02900': 'Assigned Migration PUMA(02900). Use with MIGSP.',\n     '03300': 'Assigned Migration PUMA(03300). Use with MIGSP.',\n     '04990': 'Assigned Migration PUMA(04990). Use with MIGSP.',\n     '00390': 'Assigned Migration PUMA(00390). Use with MIGSP.',\n     '00500': 'Assigned Migration PUMA(00500). Use with MIGSP.',\n     '10400': 'Assigned Migration PUMA(10400). Use with MIGSP.',\n     '00803': 'Assigned Migration PUMA(00803). Use with MIGSP.',\n     '06100': 'Assigned Migration PUMA(06100). Use with MIGSP.',\n     '07300': 'Assigned Migration PUMA(07300). Use with MIGSP.',\n     '02200': 'Assigned Migration PUMA(02200). Use with MIGSP.',\n     '04500': 'Assigned Migration PUMA(04500). Use with MIGSP.',\n     '08300': 'Assigned Migration PUMA(08300). Use with MIGSP.',\n     '00201': 'Assigned Migration PUMA(00201). Use with MIGSP.',\n     '04000': 'Assigned Migration PUMA(04000). Use with MIGSP.',\n     '00105': 'Assigned Migration PUMA(00105). Use with MIGSP.',\n     '08500': 'Assigned Migration PUMA(08500). Use with MIGSP.',\n     '03601': 'Assigned Migration PUMA(03601). Use with MIGSP.',\n     '05900': 'Assigned Migration PUMA(05900). Use with MIGSP.',\n     '02700': 'Assigned Migration PUMA(02700). Use with MIGSP.',\n     '01602': 'Assigned Migration PUMA(01602). Use with MIGSP.',\n     '00190': 'Assigned Migration PUMA(00190). Use with MIGSP.',\n     '10100': 'Assigned Migration PUMA(10100). Use with MIGSP.',\n     '00300': 'Assigned Migration PUMA(00300). Use with MIGSP.',\n     '02601': 'Assigned Migration PUMA(02601). Use with MIGSP.',\n     '04100': 'Assigned Migration PUMA(04100). Use with MIGSP.',\n     '11400': 'Assigned Migration PUMA(11400). Use with MIGSP.',\n     '03800': 'Assigned Migration PUMA(03800). Use with MIGSP.',\n     '09900': 'Assigned Migration PUMA(09900). Use with MIGSP.',\n     '05301': 'Assigned Migration PUMA(05301). Use with MIGSP.',\n     '02390': 'Assigned Migration PUMA(02390). Use with MIGSP.'}}},\n  'HUGCL': {'label': 'Household with grandparent living with grandchildren',\n   'predicateType': 'int',\n   'group': 'N/A',\n   'limit': 0,\n   'suggested-weight': 'WGTP',\n   'values': {'item': {'-1': 'N/A (GQ/vacant)',\n     '0': 'Household without grandparent living with grandchildren',\n     '1': 'Household with grandparent living with grandchildren'}}},\n  'DDRS': {'label': 'Self-care difficulty',\n   'predicateType': 'int',\n   'group': 'N/A',\n   'limit': 0,\n   'suggested-weight': 'PWGTP',\n   'values': {'item': {'1': 'Yes',\n     '0': 'N/A (Less than 5 years old)',\n     '2': 'No'}}},\n  'MARHD': {'label': 'Divorced in the past 12 months',\n   'predicateType': 'int',\n   'group': 'N/A',\n   'limit': 0,\n   'suggested-weight': 'PWGTP',\n   'values': {'item': {'0': 'N/A (age less than 15 years; never married)',\n     '1': 'Yes',\n     '2': 'No'}}},\n  'FMRGXP': {'label': 'First mortgage status allocation flag',\n   'predicateType': 'int',\n   'group': 'N/A',\n   'limit': 0,\n   'suggested-weight': 'WGTP',\n   'values': {'item': {'1': 'Yes', '-1': 'N/A (GQ)', '0': 'No'}}},\n  'SATELLITE': {'label': 'Satellite Internet service',\n   'predicateType': 'int',\n   'group': 'N/A',\n   'limit': 0,\n   'suggested-weight': 'WGTP',\n   'values': {'item': {'2': 'No',\n     '0': 'N/A (GQ/vacant/no paid access to the internet)',\n     '1': 'Yes'}}},\n  'FULFP': {'label': 'Fuel cost flag variable',\n   'predicateType': 'int',\n   'group': 'N/A',\n   'limit': 0,\n   'suggested-weight': 'WGTP',\n   'values': {'item': {'0': 'N/A (GQ/vacant)',\n     '3': 'Valid annual fuel cost in FULP',\n     '2': 'No charge or fuel other than gas or electricity not used',\n     '1': 'Included in rent or in condo fee'}}},\n  'POVPIP': {'label': 'Income-to-poverty ratio recode',\n   'predicateType': 'int',\n   'group': 'N/A',\n   'limit': 0,\n   'suggested-weight': 'PWGTP',\n   'values': {'item': {'501': '501 percent or more',\n     '-1': 'N/A (individuals who are under 15 and are either living in a housing unit but are unrelated to the householder or are living in select group quarters)'},\n    'range': [{'min': '0',\n      'max': '500',\n      'description': 'Below 501 percent'}]}},\n  'BATH': {'label': 'Bathtub or shower',\n   'predicateType': 'int',\n   'group': 'N/A',\n   'limit': 0,\n   'suggested-weight': 'WGTP',\n   'values': {'item': {'2': 'No', '1': 'Yes', '0': 'N/A (GQ)'}}},\n  'WATP': {'label': 'Water cost (yearly cost, use ADJHSG to adjust WATP to constant dollars)',\n   'predicateType': 'int',\n   'group': 'N/A',\n   'limit': 0,\n   'suggested-weight': 'WGTP',\n   'values': {'item': {'2': 'N/A (GQ/vacant/included in rent or in condo fee/no charge)'},\n    'range': [{'min': '3',\n      'max': '9999',\n      'description': '$3 to $9999 (Rounded and top-coded)'}]}},\n  'GCM': {'label': 'Length of time responsible for grandchildren',\n   'predicateType': 'int',\n   'group': 'N/A',\n   'limit': 0,\n   'suggested-weight': 'PWGTP',\n   'values': {'item': {'5': '5 or more years',\n     '1': 'Less than 6 months',\n     '3': '1 or 2 years',\n     '2': '6 to 11 months',\n     '0': 'N/A (less than 30 years/grandparent not responsible for grandchild/institutional GQ)',\n     '4': '3 or 4 years'}}},\n  'FSATELLITEP': {'label': 'Satellite Internet service allocation flag',\n   'predicateType': 'int',\n   'group': 'N/A',\n   'limit': 0,\n   'suggested-weight': 'WGTP',\n   'values': {'item': {'0': 'No', '1': 'Yes', '-1': 'N/A (GQ)'}}},\n  'FHINS1P': {'label': 'Insurance through a current or former employer or union allocation flag',\n   'predicateType': 'int',\n   'group': 'N/A',\n   'limit': 0,\n   'suggested-weight': 'PWGTP',\n   'values': {'item': {'0': 'No', '1': 'Yes'}}},\n  'GCL': {'label': 'Grandparents living with grandchildren',\n   'predicateType': 'int',\n   'group': 'N/A',\n   'limit': 0,\n   'suggested-weight': 'PWGTP',\n   'values': {'item': {'0': 'N/A (less than 30 years/institutional GQ)',\n     '1': 'Yes',\n     '2': 'No'}}},\n  'WKHP': {'label': 'Usual hours worked per week past 12 months',\n   'predicateType': 'int',\n   'group': 'N/A',\n   'limit': 0,\n   'suggested-weight': 'PWGTP',\n   'values': {'item': {'0': 'N/A (less than 16 years old/did not work during the past 12 months)',\n     '99': '99 Or More Usual Hours'},\n    'range': [{'min': '1',\n      'max': '98',\n      'description': '1 to 98 usual hours'}]}},\n  'RECORD_TYPE': {'label': 'Record Type',\n   'predicateType': 'string',\n   'group': 'N/A',\n   'limit': 0},\n  'GCR': {'label': 'Grandparents responsible for grandchildren',\n   'predicateType': 'int',\n   'group': 'N/A',\n   'limit': 0,\n   'suggested-weight': 'PWGTP',\n   'values': {'item': {'1': 'Yes',\n     '0': 'N/A (less than 30 years/institutional GQ/grandparent not living with grandchild)',\n     '2': 'No'}}},\n  'FRNTP': {'label': 'Monthly rent allocation flag',\n   'predicateType': 'int',\n   'group': 'N/A',\n   'limit': 0,\n   'suggested-weight': 'WGTP',\n   'values': {'item': {'-1': 'N/A (GQ)', '1': 'Yes', '0': 'No'}}},\n  'NRC': {'label': 'Number of related children in household (unweighted)',\n   'predicateType': 'int',\n   'group': 'N/A',\n   'limit': 0,\n   'suggested-weight': 'WGTP',\n   'values': {'item': {'-1': 'N/A (GQ/vacant)', '00': 'No related children'},\n    'range': [{'min': '1',\n      'max': '19',\n      'description': 'Number of related children in household'}]}},\n  'HFL': {'label': 'House heating fuel',\n   'predicateType': 'int',\n   'group': 'N/A',\n   'limit': 0,\n   'suggested-weight': 'WGTP',\n   'values': {'item': {'3': 'Electricity',\n     '4': 'Fuel oil, kerosene, etc.',\n     '2': 'Bottled, tank, or LP gas',\n     '1': 'Utility gas',\n     '0': 'N/A (GQ/vacant)',\n     '8': 'Other fuel',\n     '5': 'Coal or coke',\n     '7': 'Solar energy',\n     '6': 'Wood',\n     '9': 'No fuel used'}}},\n  'FSMP': {'label': 'Total payment on second and junior mortgages and home equity loans (monthly amount)allocation flag',\n   'predicateType': 'int',\n   'group': 'N/A',\n   'limit': 0,\n   'suggested-weight': 'WGTP',\n   'values': {'item': {'-1': 'N/A (GQ)', '1': 'Yes', '0': 'No'}}},\n  'MLPIK': {'label': 'Peacetime service before July 1950',\n   'predicateType': 'int',\n   'group': 'N/A',\n   'limit': 0,\n   'suggested-weight': 'PWGTP',\n   'values': {'item': {'-1': 'N/A (less than 17 years old/no active duty)',\n     '1': 'Served this period',\n     '0': 'Did not serve this period'}}},\n  'ACCESSINET': {'label': 'Access to the Internet',\n   'predicateType': 'int',\n   'group': 'N/A',\n   'limit': 0,\n   'suggested-weight': 'WGTP',\n   'values': {'item': {'3': 'No access to the Internet at this house, apartment, or mobile home',\n     '0': 'N/A (GQ/vacant)',\n     '1': 'Yes, by paying a cell phone company or Internet service provider',\n     '2': 'Yes, without paying a cell phone company or Internet service provider'}}},\n  'ADJINC': {'label': 'Adjustment factor for income and earnings dollar amounts (6 implied decimal places)',\n   'predicateType': 'int',\n   'group': 'N/A',\n   'limit': 0,\n   'suggested-weight': 'PWGTP',\n   'values': {'item': {'1029928': '2021 factor (1.029928)'}}},\n  'FRMSP': {'label': 'Number of rooms allocation flag',\n   'predicateType': 'int',\n   'group': 'N/A',\n   'limit': 0,\n   'suggested-weight': 'WGTP',\n   'values': {'item': {'-1': 'N/A (GQ)', '0': 'No', '1': 'Yes'}}},\n  'POWPUMA': {'label': 'Place of work PUMA based on 2010 Census definition',\n   'predicateType': 'string',\n   'group': 'N/A',\n   'limit': 0,\n   'values': {'item': {'10400': 'Assigned Place of work PUMA(10400). Use with POWSP.',\n     '11000': 'Assigned Place of work PUMA(11000). Use with POWSP.',\n     '02790': 'Assigned Place of work PUMA(02790). Use with POWSP.',\n     '02500': 'Assigned Place of work PUMA(02500). Use with POWSP.',\n     '51120': 'Assigned Place of work PUMA(51120). Use with POWSP.',\n     '51255': 'Assigned Place of work PUMA(51255). Use with POWSP.',\n     '00900': 'Assigned Place of work PUMA(00900). Use with POWSP.',\n     '21001': 'Assigned Place of work PUMA(21001). Use with POWSP.',\n     '11200': 'Assigned Place of work PUMA(11200). Use with POWSP.',\n     '03601': 'Assigned Place of work PUMA(03601). Use with POWSP.',\n     '05900': 'Assigned Place of work PUMA(05900). Use with POWSP.',\n     '10800': 'Assigned Place of work PUMA(10800). Use with POWSP.',\n     '06500': 'Assigned Place of work PUMA(06500). Use with POWSP.',\n     '00301': 'Assigned Place of work PUMA(00301). Use with POWSP.',\n     '02600': 'Assigned Place of work PUMA(02600). Use with POWSP.',\n     '08700': 'Assigned Place of work PUMA(08700). Use with POWSP.',\n     '03000': 'Assigned Place of work PUMA(03000). Use with POWSP.',\n     '03001': 'Assigned Place of work PUMA(03001). Use with POWSP.',\n     '09100': 'Assigned Place of work PUMA(09100). Use with POWSP.',\n     '00602': 'Assigned Place of work PUMA(00602). Use with POWSP.',\n     '00600': 'Assigned Place of work PUMA(00600). Use with POWSP.',\n     '51084': 'Assigned Place of work PUMA(51084). Use with POWSP.',\n     '51087': 'Assigned Place of work PUMA(51087). Use with POWSP.',\n     '07100': 'Assigned Place of work PUMA(07100). Use with POWSP.',\n     '00500': 'Assigned Place of work PUMA(00500). Use with POWSP.',\n     '11600': 'Assigned Place of work PUMA(11600). Use with POWSP.',\n     '01701': 'Assigned Place of work PUMA(01701). Use with POWSP.',\n     '03200': 'Assigned Place of work PUMA(03200). Use with POWSP.',\n     '01325': 'Assigned Place of work PUMA(01325). Use with POWSP.',\n     '07300': 'Assigned Place of work PUMA(07300). Use with POWSP.',\n     '02890': 'Assigned Place of work PUMA(02890). Use with POWSP.',\n     '06800': 'Assigned Place of work PUMA(06800). Use with POWSP.',\n     '00200': 'Assigned Place of work PUMA(00200). Use with POWSP.',\n     '51000': 'Assigned Place of work PUMA(51000). Use with POWSP.',\n     '00101': 'Assigned Place of work PUMA(00101). Use with POWSP.',\n     '51020': 'Assigned Place of work PUMA(51020). Use with POWSP.',\n     '03600': 'Assigned Place of work PUMA(03600). Use with POWSP.',\n     '00403': 'Assigned Place of work PUMA(00403). Use with POWSP.',\n     '00401': 'Assigned Place of work PUMA(00401). Use with POWSP.',\n     '03100': 'Assigned Place of work PUMA(03100). Use with POWSP.',\n     '04790': 'Assigned Place of work PUMA(04790). Use with POWSP.',\n     '04900': 'Assigned Place of work PUMA(04900). Use with POWSP.',\n     '53001': 'Assigned Place of work PUMA(53001). Use with POWSP.',\n     '51186': 'Assigned Place of work PUMA(51186). Use with POWSP.',\n     '01990': 'Assigned Place of work PUMA(01990). Use with POWSP.',\n     '05301': 'Assigned Place of work PUMA(05301). Use with POWSP.',\n     '02390': 'Assigned Place of work PUMA(02390). Use with POWSP.',\n     '13001': 'Assigned Place of work PUMA(13001). Use with POWSP.',\n     '01002': 'Assigned Place of work PUMA(01002). Use with POWSP.',\n     '07900': 'Assigned Place of work PUMA(07900). Use with POWSP.',\n     '02690': 'Assigned Place of work PUMA(02690). Use with POWSP.',\n     '51095': 'Assigned Place of work PUMA(51095). Use with POWSP.',\n     '04190': 'Assigned Place of work PUMA(04190). Use with POWSP.',\n     '00807': 'Assigned Place of work PUMA(00807). Use with POWSP.',\n     '51206': 'Assigned Place of work PUMA(51206). Use with POWSP.',\n     '05800': 'Assigned Place of work PUMA(05800). Use with POWSP.',\n     '00701': 'Assigned Place of work PUMA(00701). Use with POWSP.',\n     '11800': 'Assigned Place of work PUMA(11800). Use with POWSP.',\n     '04800': 'Assigned Place of work PUMA(04800). Use with POWSP.',\n     '04000': 'Assigned Place of work PUMA(04000). Use with POWSP.',\n     '05690': 'Assigned Place of work PUMA(05690). Use with POWSP.',\n     '11100': 'Assigned Place of work PUMA(11100). Use with POWSP.',\n     '51125': 'Assigned Place of work PUMA(51125). Use with POWSP.',\n     '05200': 'Assigned Place of work PUMA(05200). Use with POWSP.',\n     '59300': 'Assigned Place of work PUMA(59300). Use with POWSP.',\n     '05100': 'Assigned Place of work PUMA(05100). Use with POWSP.',\n     '00690': 'Assigned Place of work PUMA(00690). Use with POWSP.',\n     '00402': 'Assigned Place of work PUMA(00402). Use with POWSP.',\n     '02700': 'Assigned Place of work PUMA(02700). Use with POWSP.',\n     '00400': 'Assigned Place of work PUMA(00400). Use with POWSP.',\n     '05400': 'Assigned Place of work PUMA(05400). Use with POWSP.',\n     '20000': 'Assigned Place of work PUMA(20000). Use with POWSP.',\n     '01501': 'Assigned Place of work PUMA(01501). Use with POWSP.',\n     '05300': 'Assigned Place of work PUMA(05300). Use with POWSP.',\n     '02101': 'Assigned Place of work PUMA(02101). Use with POWSP.',\n     '02900': 'Assigned Place of work PUMA(02900). Use with POWSP.',\n     '02100': 'Assigned Place of work PUMA(02100). Use with POWSP.',\n     '04990': 'Assigned Place of work PUMA(04990). Use with POWSP.',\n     '51096': 'Assigned Place of work PUMA(51096). Use with POWSP.',\n     '55100': 'Assigned Place of work PUMA(55100). Use with POWSP.',\n     '04300': 'Assigned Place of work PUMA(04300). Use with POWSP.',\n     '30000': 'Assigned Place of work PUMA(30000). Use with POWSP.',\n     '35000': 'Assigned Place of work PUMA(35000). Use with POWSP.',\n     '05500': 'Assigned Place of work PUMA(05500). Use with POWSP.',\n     '01200': 'Assigned Place of work PUMA(01200). Use with POWSP.',\n     '00590': 'Assigned Place of work PUMA(00590). Use with POWSP.',\n     '02200': 'Assigned Place of work PUMA(02200). Use with POWSP.',\n     '05390': 'Assigned Place of work PUMA(05390). Use with POWSP.',\n     '01102': 'Assigned Place of work PUMA(01102). Use with POWSP.',\n     '00490': 'Assigned Place of work PUMA(00490). Use with POWSP.',\n     '10600': 'Assigned Place of work PUMA(10600). Use with POWSP.',\n     '03700': 'Assigned Place of work PUMA(03700). Use with POWSP.',\n     '01401': 'Assigned Place of work PUMA(01401). Use with POWSP.',\n     '04700': 'Assigned Place of work PUMA(04700). Use with POWSP.',\n     '08500': 'Assigned Place of work PUMA(08500). Use with POWSP.',\n     '03290': 'Assigned Place of work PUMA(03290). Use with POWSP.',\n     '03590': 'Assigned Place of work PUMA(03590). Use with POWSP.',\n     '10790': 'Assigned Place of work PUMA(10790). Use with POWSP.',\n     '02601': 'Assigned Place of work PUMA(02601). Use with POWSP.',\n     '04100': 'Assigned Place of work PUMA(04100). Use with POWSP.',\n     '00890': 'Assigned Place of work PUMA(00890). Use with POWSP.',\n     '06700': 'Assigned Place of work PUMA(06700). Use with POWSP.',\n     '51080': 'Assigned Place of work PUMA(51080). Use with POWSP.',\n     '51085': 'Assigned Place of work PUMA(51085). Use with POWSP.',\n     '11500': 'Assigned Place of work PUMA(11500). Use with POWSP.',\n     '03300': 'Assigned Place of work PUMA(03300). Use with POWSP.',\n     '00390': 'Assigned Place of work PUMA(00390). Use with POWSP.',\n     '02800': 'Assigned Place of work PUMA(02800). Use with POWSP.',\n     '06600': 'Assigned Place of work PUMA(06600). Use with POWSP.',\n     '55102': 'Assigned Place of work PUMA(55102). Use with POWSP.',\n     '02000': 'Assigned Place of work PUMA(02000). Use with POWSP.',\n     '01700': 'Assigned Place of work PUMA(01700). Use with POWSP.',\n     '00803': 'Assigned Place of work PUMA(00803). Use with POWSP.',\n     '00001': 'Did not work in the United States or in Puerto Rico',\n     '04600': 'Assigned Place of work PUMA(04600). Use with POWSP.',\n     '55000': 'Assigned Place of work PUMA(55000). Use with POWSP.',\n     '01327': 'Assigned Place of work PUMA(01327). Use with POWSP.',\n     '01326': 'Assigned Place of work PUMA(01326). Use with POWSP.',\n     '03500': 'Assigned Place of work PUMA(03500). Use with POWSP.',\n     '02090': 'Assigned Place of work PUMA(02090). Use with POWSP.',\n     '00702': 'Assigned Place of work PUMA(00702). Use with POWSP.',\n     '00700': 'Assigned Place of work PUMA(00700). Use with POWSP.',\n     '01590': 'Assigned Place of work PUMA(01590). Use with POWSP.',\n     '51100': 'Assigned Place of work PUMA(51100). Use with POWSP.',\n     '01900': 'Assigned Place of work PUMA(01900). Use with POWSP.',\n     '51235': 'Assigned Place of work PUMA(51235). Use with POWSP.',\n     '00808': 'Assigned Place of work PUMA(00808). Use with POWSP.',\n     '40100': 'Assigned Place of work PUMA(40100). Use with POWSP.',\n     '04007': 'Assigned Place of work PUMA(04007). Use with POWSP.',\n     '06300': 'Assigned Place of work PUMA(06300). Use with POWSP.',\n     '07500': 'Assigned Place of work PUMA(07500). Use with POWSP.',\n     '51010': 'Assigned Place of work PUMA(51001). Use with POWSP.',\n     '00790': 'Assigned Place of work PUMA(00790). Use with POWSP.',\n     '00105': 'Assigned Place of work PUMA(00105). Use with POWSP.',\n     '51145': 'Assigned Place of work PUMA(51145). Use with POWSP.',\n     '51040': 'Assigned Place of work PUMA(51040). Use with POWSP.',\n     '04200': 'Assigned Place of work PUMA(04200). Use with POWSP.',\n     '11300': 'Assigned Place of work PUMA(11300). Use with POWSP.',\n     '01600': 'Assigned Place of work PUMA(01600). Use with POWSP.',\n     '00190': 'Assigned Place of work PUMA(00190). Use with POWSP.',\n     '10900': 'Assigned Place of work PUMA(10900). Use with POWSP.',\n     '10100': 'Assigned Place of work PUMA(10100). Use with POWSP.',\n     '11400': 'Assigned Place of work PUMA(11400). Use with POWSP.',\n     '03800': 'Assigned Place of work PUMA(03800). Use with POWSP.',\n     '51097': 'Assigned Place of work PUMA(51097). Use with POWSP.',\n     '00290': 'Assigned Place of work PUMA(00290). Use with POWSP.',\n     '00800': 'Assigned Place of work PUMA(00800). Use with POWSP.',\n     '51215': 'Assigned Place of work PUMA(51215). Use with POWSP.',\n     '10500': 'Assigned Place of work PUMA(10500). Use with POWSP.',\n     '51105': 'Assigned Place of work PUMA(51105). Use with POWSP.',\n     '09500': 'Assigned Place of work PUMA(09500). Use with POWSP.',\n     '51110': 'Assigned Place of work PUMA(51110). Use with POWSP.',\n     '00201': 'Assigned Place of work PUMA(00201). Use with POWSP.',\n     '00202': 'Assigned Place of work PUMA(00202). Use with POWSP.',\n     '02501': 'Assigned Place of work PUMA(02501). Use with POWSP.',\n     '51001': 'Assigned Place of work PUMA(51001). Use with POWSP.',\n     '51135': 'Assigned Place of work PUMA(51135). Use with POWSP.',\n     '70100': 'Assigned Place of work PUMA(70100). Use with POWSP.',\n     '49000': 'Assigned Place of work PUMA(49000). Use with POWSP.',\n     '01602': 'Assigned Place of work PUMA(01602). Use with POWSP.',\n     '01601': 'Assigned Place of work PUMA(01601). Use with POWSP.',\n     '07700': 'Assigned Place of work PUMA(07700). Use with POWSP.',\n     '00302': 'Assigned Place of work PUMA(00302). Use with POWSP.',\n     '06400': 'Assigned Place of work PUMA(06400). Use with POWSP.',\n     '10200': 'Assigned Place of work PUMA(10200). Use with POWSP.',\n     '02102': 'Assigned Place of work PUMA(02102). Use with POWSP.',\n     '04400': 'Assigned Place of work PUMA(04400). Use with POWSP.',\n     '01800': 'Assigned Place of work PUMA(01800). Use with POWSP.',\n     '01000': 'Assigned Place of work PUMA(01000). Use with POWSP.',\n     '00503': 'Assigned Place of work PUMA(00503). Use with POWSP.',\n     '00501': 'Assigned Place of work PUMA(00501). Use with POWSP.',\n     'N': 'N/A (not a worker-not in the labor force, including persons under 16 years; unemployed; civilian employed, with a job not at work; Armed Forces, with a job but not at work)',\n     '08900': 'Assigned Place of work PUMA(08900). Use with POWSP.',\n     '08100': 'Assigned Place of work PUMA(08100). Use with POWSP.',\n     '08690': 'Assigned Place of work PUMA(08690). Use with POWSP.',\n     '02300': 'Assigned Place of work PUMA(02300). Use with POWSP.',\n     '06900': 'Assigned Place of work PUMA(06900). Use with POWSP.',\n     '03190': 'Assigned Place of work PUMA(03190). Use with POWSP.',\n     '05001': 'Assigned Place of work PUMA(05001). Use with POWSP.',\n     '01101': 'Assigned Place of work PUMA(01101). Use with POWSP.',\n     '01100': 'Assigned Place of work PUMA(01100). Use with POWSP.',\n     '11900': 'Assigned Place of work PUMA(11900). Use with POWSP.',\n     '10700': 'Assigned Place of work PUMA(10700). Use with POWSP.',\n     '51256': 'Assigned Place of work PUMA(51256). Use with POWSP.',\n     '00100': 'Assigned Place of work PUMA(00100). Use with POWSP.',\n     '00104': 'Assigned Place of work PUMA(00104). Use with POWSP.',\n     '01790': 'Assigned Place of work PUMA(01790). Use with POWSP.',\n     '01301': 'Assigned Place of work PUMA(01301). Use with POWSP.',\n     '03602': 'Assigned Place of work PUMA(03602). Use with POWSP.',\n     '00990': 'Assigned Place of work PUMA(00990). Use with POWSP.',\n     '02490': 'Assigned Place of work PUMA(02490). Use with POWSP.',\n     '51187': 'Assigned Place of work PUMA(51187). Use with POWSP.',\n     '09900': 'Assigned Place of work PUMA(09900). Use with POWSP.',\n     '04690': 'Assigned Place of work PUMA(04690). Use with POWSP.',\n     '01001': 'Assigned Place of work PUMA(01001). Use with POWSP.',\n     '05600': 'Assigned Place of work PUMA(05600). Use with POWSP.',\n     '10300': 'Assigned Place of work PUMA(10300). Use with POWSP.',\n     '00502': 'Assigned Place of work PUMA(00502). Use with POWSP.',\n     '06100': 'Assigned Place of work PUMA(06100). Use with POWSP.',\n     '01690': 'Assigned Place of work PUMA(01690). Use with POWSP.',\n     '51200': 'Assigned Place of work PUMA(51200). Use with POWSP.',\n     '11700': 'Assigned Place of work PUMA(11700). Use with POWSP.',\n     '50000': 'Assigned Place of work PUMA(50000). Use with POWSP.',\n     '05000': 'Assigned Place of work PUMA(05000). Use with POWSP.',\n     '04500': 'Assigned Place of work PUMA(04500). Use with POWSP.',\n     '08300': 'Assigned Place of work PUMA(08300). Use with POWSP.',\n     '06000': 'Assigned Place of work PUMA(06000). Use with POWSP.',\n     '03400': 'Assigned Place of work PUMA(03400). Use with POWSP.',\n     '05700': 'Assigned Place of work PUMA(05700). Use with POWSP.',\n     '51115': 'Assigned Place of work PUMA(51115). Use with POWSP.',\n     '12100': 'Assigned Place of work PUMA(12100). Use with POWSP.',\n     '01090': 'Assigned Place of work PUMA(01090). Use with POWSP.',\n     '01400': 'Assigned Place of work PUMA(01400). Use with POWSP.',\n     '00102': 'Assigned Place of work PUMA(00102). Use with POWSP.',\n     '02400': 'Assigned Place of work PUMA(02400). Use with POWSP.',\n     '57000': 'Assigned Place of work PUMA(57000). Use with POWSP.',\n     '06200': 'Assigned Place of work PUMA(06200). Use with POWSP.',\n     '01300': 'Assigned Place of work PUMA(01300). Use with POWSP.',\n     '09700': 'Assigned Place of work PUMA(09700). Use with POWSP.',\n     '10000': 'Assigned Place of work PUMA(10000). Use with POWSP.',\n     '01290': 'Assigned Place of work PUMA(01290). Use with POWSP.',\n     '03900': 'Assigned Place of work PUMA(03900). Use with POWSP.',\n     '51175': 'Assigned Place of work PUMA(51175). Use with POWSP.',\n     '00300': 'Assigned Place of work PUMA(00300). Use with POWSP.',\n     '01190': 'Assigned Place of work PUMA(01190). Use with POWSP.',\n     '01500': 'Assigned Place of work PUMA(01500). Use with POWSP.',\n     '00606': 'Assigned Place of work PUMA(00606). Use with POWSP.',\n     '00601': 'Assigned Place of work PUMA(00601). Use with POWSP.',\n     '01490': 'Assigned Place of work PUMA(01490). Use with POWSP.'}}},\n  'PARTNER': {'label': 'Unmarried partner household',\n   'predicateType': 'int',\n   'group': 'N/A',\n   'limit': 0,\n   'suggested-weight': 'WGTP',\n   'values': {'item': {'0': 'No unmarried partner in household',\n     '-1': 'N/A (GQ/vacant)',\n     '3': 'Female householder, female partner',\n     '4': 'Female householder, male partner',\n     '1': 'Male householder, male partner',\n     '2': 'Male householder, female partner'}}},\n  'FELEP': {'label': 'Electricity cost (monthly cost) allocation flag',\n   'predicateType': 'int',\n   'group': 'N/A',\n   'limit': 0,\n   'suggested-weight': 'WGTP',\n   'values': {'item': {'0': 'No', '1': 'Yes', '-1': 'N/A (GQ)'}}},\n  'CONP': {'label': 'Condominium fee (monthly amount, use ADJHSG to adjust CONP to constant dollars)',\n   'predicateType': 'int',\n   'group': 'N/A',\n   'limit': 0,\n   'suggested-weight': 'WGTP',\n   'values': {'item': {'-1': 'N/A (GQ/vacant units/not owned or being bought)'},\n    'range': [{'min': '0',\n      'max': '9999',\n      'description': '$0 - $9999 (Rounded and top-coded)'}]}},\n  'FMIGP': {'label': 'Mobility status allocation flag',\n   'predicateType': 'int',\n   'group': 'N/A',\n   'limit': 0,\n   'suggested-weight': 'PWGTP',\n   'values': {'item': {'1': 'Yes', '0': 'No'}}},\n  'FFSP': {'label': 'Yearly food stamp/Supplemental Nutrition Assistance Program (SNAP) recipiency allocation flag',\n   'predicateType': 'int',\n   'group': 'N/A',\n   'limit': 0,\n   'suggested-weight': 'WGTP',\n   'values': {'item': {'1': 'Yes', '0': 'No'}}},\n  'FGCMP': {'label': 'Length of time responsible for grandchildren allocation flag',\n   'predicateType': 'int',\n   'group': 'N/A',\n   'limit': 0,\n   'suggested-weight': 'PWGTP',\n   'values': {'item': {'1': 'Yes', '0': 'No'}}},\n  'HISP': {'label': 'Recoded detailed Hispanic origin',\n   'predicateType': 'string',\n   'group': 'N/A',\n   'limit': 0,\n   'suggested-weight': 'PWGTP',\n   'values': {'item': {'01': 'Not Spanish/Hispanic/Latino',\n     '12': 'Other Central American',\n     '23': 'Spaniard',\n     '22': 'Other South American',\n     '13': 'Argentinean',\n     '04': 'Cuban',\n     '14': 'Bolivian',\n     '10': 'Panamanian',\n     '24': 'All Other Spanish/Hispanic/Latino',\n     '16': 'Colombian',\n     '06': 'Costa Rican',\n     '07': 'Guatemalan',\n     '09': 'Nicaraguan',\n     '21': 'Venezuelan',\n     '02': 'Mexican',\n     '05': 'Dominican',\n     '17': 'Ecuadorian',\n     '18': 'Paraguayan',\n     '08': 'Honduran',\n     '11': 'Salvadoran',\n     '03': 'Puerto Rican',\n     '15': 'Chilean',\n     '19': 'Peruvian',\n     '20': 'Uruguayan'}}},\n  'FESRP': {'label': 'Employment status recode allocation flag',\n   'predicateType': 'int',\n   'group': 'N/A',\n   'limit': 0,\n   'suggested-weight': 'PWGTP',\n   'values': {'item': {'1': 'Yes', '0': 'No'}}},\n  'HHL': {'label': 'Household language',\n   'predicateType': 'int',\n   'group': 'N/A',\n   'limit': 0,\n   'suggested-weight': 'WGTP',\n   'values': {'item': {'0': 'N/A (GQ/vacant)',\n     '2': 'Spanish',\n     '3': 'Other Indo-European languages',\n     '1': 'English Only',\n     '4': 'Asian and Pacific Island languages',\n     '5': 'Other Language'}}},\n  'AGEP': {'label': 'Age',\n   'predicateType': 'int',\n   'group': 'N/A',\n   'limit': 0,\n   'suggested-weight': 'PWGTP',\n   'values': {'item': {'00': 'Under 1 year'},\n    'range': [{'min': '1',\n      'max': '99',\n      'description': '1 to 99 years (Top-coded***)'}]}},\n  'DEYE': {'label': 'Vision difficulty',\n   'predicateType': 'int',\n   'group': 'N/A',\n   'limit': 0,\n   'suggested-weight': 'PWGTP',\n   'values': {'item': {'1': 'Yes', '2': 'No'}}},\n  'SEMP': {'label': 'Self-employment income past 12 months (signed, use ADJINC to adjust SEMP to constant dollars)',\n   'predicateType': 'int',\n   'group': 'N/A',\n   'limit': 0,\n   'suggested-weight': 'PWGTP',\n   'values': {'item': {'0': 'None', '-10001': 'N/A (less than 15 years old)'},\n    'range': [{'min': '-10000',\n      'max': '-4',\n      'description': 'Loss of $4 to $10000 (Rounded and bottom-coded)'},\n     {'min': '4',\n      'max': '999999',\n      'description': '$ 4 to $999999 (Rounded and top-coded)'}]}},\n  'HHT': {'label': 'Household/family type',\n   'predicateType': 'int',\n   'group': 'N/A',\n   'limit': 0,\n   'suggested-weight': 'WGTP',\n   'values': {'item': {'5': 'Nonfamily household: Male householder: Not living alone',\n     '6': 'Nonfamily household: Female householder: Living alone',\n     '4': 'Nonfamily household: Male householder: Living alone',\n     '2': 'Other family household: Male householder, no spouse present',\n     '0': 'N/A (GQ/vacant)',\n     '3': 'Other family household: Female householder, no spouse present',\n     '7': 'Nonfamily household: Female householder: Not living alone',\n     '1': 'Married couple household'}}},\n  'OCPIP': {'label': 'Selected monthly owner costs as a percentage of household income during the past 12 months',\n   'predicateType': 'int',\n   'group': 'N/A',\n   'limit': 0,\n   'suggested-weight': 'WGTP',\n   'values': {'item': {'0': 'N/A (GQ/vacant/not owned or being bought/ no household income)',\n     '101': '101 percent or more'},\n    'range': [{'min': '1',\n      'max': '100',\n      'description': '1 percent to 100 percent'}]}},\n  'FGCLP': {'label': 'Grandparents living with grandchildren allocation flag',\n   'predicateType': 'int',\n   'group': 'N/A',\n   'limit': 0,\n   'suggested-weight': 'PWGTP',\n   'values': {'item': {'0': 'No', '1': 'Yes'}}},\n  'FENGP': {'label': 'Ability to speak English allocation flag',\n   'predicateType': 'int',\n   'group': 'N/A',\n   'limit': 0,\n   'suggested-weight': 'PWGTP',\n   'values': {'item': {'1': 'Yes', '0': 'No'}}},\n  'SCHG': {'label': 'Grade level attending',\n   'predicateType': 'int',\n   'group': 'N/A',\n   'limit': 0,\n   'suggested-weight': 'PWGTP',\n   'values': {'item': {'15': 'College undergraduate years (freshman to senior)',\n     '07': 'Grade 5',\n     '11': 'Grade 9',\n     '01': 'Nursery school/preschool',\n     '05': 'Grade 3',\n     '14': 'Grade 12',\n     '03': 'Grade 1',\n     '13': 'Grade 11',\n     '09': 'Grade 7',\n     '06': 'Grade 4',\n     '08': 'Grade 6',\n     '04': 'Grade 2',\n     '10': 'Grade 8',\n     '16': \"Graduate or professional school beyond a bachelor's degree\",\n     '02': 'Kindergarten',\n     '0': 'N/A (not attending school)',\n     '12': 'Grade 10'}}},\n  'FTAXP': {'label': 'Property taxes (yearly amount) allocation flag',\n   'predicateType': 'int',\n   'group': 'N/A',\n   'limit': 0,\n   'suggested-weight': 'WGTP',\n   'values': {'item': {'0': 'No', '1': 'Yes', '-1': 'N/A (GQ)'}}},\n  'MSP': {'label': 'Married, spouse present/spouse absent',\n   'predicateType': 'int',\n   'group': 'N/A',\n   'limit': 0,\n   'suggested-weight': 'PWGTP',\n   'values': {'item': {'3': 'Widowed',\n     '2': 'Now Married, Spouse Absent',\n     '1': 'Now Married, Spouse Present',\n     '4': 'Divorced',\n     '6': 'Never Married',\n     '5': 'Separated',\n     '0': 'N/A (age less than 15 years)'}}},\n  'RACBLK': {'label': 'Black or African American recode (Black alone or in combination with one or more other races)',\n   'predicateType': 'int',\n   'group': 'N/A',\n   'limit': 0,\n   'suggested-weight': 'PWGTP',\n   'values': {'item': {'0': 'No', '1': 'Yes'}}},\n  'FMRGTP': {'label': 'First mortgage payment includes real estate taxes allocation flag',\n   'predicateType': 'int',\n   'group': 'N/A',\n   'limit': 0,\n   'suggested-weight': 'WGTP',\n   'values': {'item': {'1': 'Yes', '0': 'No', '-1': 'N/A (GQ)'}}},\n  'FAGEP': {'label': 'Age allocation flag',\n   'predicateType': 'int',\n   'group': 'N/A',\n   'limit': 0,\n   'suggested-weight': 'PWGTP',\n   'values': {'item': {'0': 'No', '1': 'Yes'}}},\n  'SCHL': {'label': 'Educational attainment',\n   'predicateType': 'int',\n   'group': 'N/A',\n   'limit': 0,\n   'suggested-weight': 'PWGTP',\n   'values': {'item': {'16': 'Regular high school diploma',\n     '01': 'No schooling completed',\n     '04': 'Grade 1',\n     '03': 'Kindergarten',\n     '07': 'Grade 4',\n     '23': \"Professional degree beyond a bachelor's degree\",\n     '19': '1 or more years of college credit, no degree',\n     '22': \"Master's degree\",\n     '10': 'Grade 7',\n     '20': \"Associate's degree\",\n     '0': 'N/A (less than 3 years old)',\n     '02': 'Nursery school, preschool',\n     '21': \"Bachelor's degree\",\n     '08': 'Grade 5',\n     '24': 'Doctorate degree',\n     '06': 'Grade 3',\n     '14': 'Grade 11',\n     '17': 'GED or alternative credential',\n     '12': 'Grade 9',\n     '15': '12th grade - no diploma',\n     '13': 'Grade 10',\n     '05': 'Grade 2',\n     '11': 'Grade 8',\n     '18': 'Some college, but less than 1 year',\n     '09': 'Grade 6'}}},\n  'MLPFG': {'label': 'Served February 1955 - July 1964',\n   'predicateType': 'int',\n   'group': 'N/A',\n   'limit': 0,\n   'suggested-weight': 'PWGTP',\n   'values': {'item': {'-1': 'N/A (Less than 17 years old/no active duty)',\n     '0': 'Did not serve this period',\n     '1': 'Served This Period'}}},\n  'PWGTP9': {'label': \"Person's Weight replicate 9\",\n   'predicateType': 'int',\n   'group': 'N/A',\n   'limit': 0,\n   'suggested-weight': 'PWGTP',\n   'values': {'range': [{'min': '-9999',\n      'max': '9999',\n      'description': 'Integer weight of person'}]}},\n  'FER': {'label': 'Gave birth to child within the past 12 months',\n   'predicateType': 'int',\n   'group': 'N/A',\n   'limit': 0,\n   'suggested-weight': 'PWGTP',\n   'values': {'item': {'0': 'N/A (less than 15 years/greater than 50 years/ male)',\n     '2': 'No',\n     '1': 'Yes'}}},\n  'PWGTP8': {'label': \"Person's Weight replicate 8\",\n   'predicateType': 'int',\n   'group': 'N/A',\n   'limit': 0,\n   'suggested-weight': 'PWGTP',\n   'values': {'range': [{'min': '-9999',\n      'max': '9999',\n      'description': 'Integer weight of person'}]}},\n  'NATIVITY': {'label': 'Nativity',\n   'predicateType': 'int',\n   'group': 'N/A',\n   'limit': 0,\n   'suggested-weight': 'PWGTP',\n   'values': {'item': {'1': 'Native', '2': 'Foreign born'}}},\n  'PWGTP7': {'label': \"Person's Weight replicate 7\",\n   'predicateType': 'int',\n   'group': 'N/A',\n   'limit': 0,\n   'suggested-weight': 'PWGTP',\n   'values': {'range': [{'min': '-9999',\n      'max': '9999',\n      'description': 'Integer weight of person'}]}},\n  'SMARTPHONE': {'label': 'Smartphone',\n   'predicateType': 'int',\n   'group': 'N/A',\n   'limit': 0,\n   'suggested-weight': 'WGTP',\n   'values': {'item': {'2': 'No', '0': 'N/A (GQ/vacant)', '1': 'Yes'}}},\n  'PWGTP6': {'label': \"Person's Weight replicate 6\",\n   'predicateType': 'int',\n   'group': 'N/A',\n   'limit': 0,\n   'suggested-weight': 'PWGTP',\n   'values': {'range': [{'min': '-9999',\n      'max': '9999',\n      'description': 'Integer weight of person'}]}},\n  'PWGTP5': {'label': \"Person's Weight replicate 5\",\n   'predicateType': 'int',\n   'group': 'N/A',\n   'limit': 0,\n   'suggested-weight': 'PWGTP',\n   'values': {'range': [{'min': '-9999',\n      'max': '9999',\n      'description': 'Integer weight of person'}]}},\n  'PWGTP4': {'label': \"Person's Weight replicate 4\",\n   'predicateType': 'int',\n   'group': 'N/A',\n   'limit': 0,\n   'suggested-weight': 'PWGTP',\n   'values': {'range': [{'min': '-9999',\n      'max': '9999',\n      'description': 'Integer weight of person'}]}},\n  'VEH': {'label': 'Vehicles (1 ton or less) available',\n   'predicateType': 'int',\n   'group': 'N/A',\n   'limit': 0,\n   'suggested-weight': 'WGTP',\n   'values': {'item': {'5': '5 vehicles',\n     '2': '2 vehicles',\n     '-1': 'N/A (GQ/vacant)',\n     '3': '3 vehicles',\n     '0': 'No vehicles',\n     '4': '4 vehicles',\n     '1': '1 vehicle',\n     '6': '6 or more vehicles'}}},\n  'FFERP': {'label': 'Gave birth to child within the past 12 months allocation flag',\n   'predicateType': 'int',\n   'group': 'N/A',\n   'limit': 0,\n   'suggested-weight': 'PWGTP',\n   'values': {'item': {'0': 'No', '1': 'Yes'}}},\n  'PWGTP3': {'label': \"Person's Weight replicate 3\",\n   'predicateType': 'int',\n   'group': 'N/A',\n   'limit': 0,\n   'suggested-weight': 'PWGTP',\n   'values': {'range': [{'min': '-9999',\n      'max': '9999',\n      'description': 'Integer weight of person'}]}},\n  'PWGTP2': {'label': \"Person's Weight replicate 2\",\n   'predicateType': 'int',\n   'group': 'N/A',\n   'limit': 0,\n   'suggested-weight': 'PWGTP',\n   'values': {'range': [{'min': '-9999',\n      'max': '9999',\n      'description': 'Integer weight of person'}]}},\n  'PWGTP1': {'label': \"Person's Weight replicate 1\",\n   'predicateType': 'int',\n   'group': 'N/A',\n   'limit': 0,\n   'suggested-weight': 'PWGTP',\n   'values': {'range': [{'min': '-9999',\n      'max': '9999',\n      'description': 'Integer weight of person'}]}},\n  'HHT2': {'label': 'Household/family type (includes cohabiting)',\n   'predicateType': 'int',\n   'group': 'N/A',\n   'limit': 0,\n   'suggested-weight': 'WGTP',\n   'values': {'item': {'0': 'N/A (GQ/vacant)',\n     '12': 'Male householder, no spouse/partner present, only nonrelatives present',\n     '03': 'Cohabiting couple household with children of the householder less than 18',\n     '09': 'Male householder, no spouse/partner present, living alone',\n     '02': 'Married couple household, no children of the householder less than 18',\n     '10': 'Male householder, no spouse/partner present, with children of the householder less than 18',\n     '01': 'Married couple household with children of the householder less than 18',\n     '07': 'Female householder, no spouse/partner present, with relatives, no children of the householder less than 18',\n     '06': 'Female householder, no spouse/partner present, with children of the householder less than 18',\n     '05': 'Female householder, no spouse/partner present, living alone',\n     '11': 'Male householder, no spouse/partner present, with relatives, no children of the householder less than 18',\n     '08': 'Female householder, no spouse/partner present, only nonrelatives present',\n     '04': 'Cohabiting couple household, no children of the householder less than 18'}}},\n  'VACOTH': {'label': 'Other vacancy status',\n   'predicateType': 'int',\n   'group': 'N/A',\n   'limit': 0,\n   'suggested-weight': 'WGTP',\n   'values': {'item': {'5': 'Held for storage of household furniture',\n     '2': 'Personal/family reasons',\n     '7': 'Currently being repaired/renovated',\n     '10': 'Abandoned/possibly to be demolished/possibly condemned',\n     '0': \"N/A (GQ/occupied/vacant with a response for VACS besides 'other vacant')\",\n     '11': 'Other',\n     '3': 'Legal proceedings',\n     '6': 'Needs repairs',\n     '1': 'Foreclosure',\n     '9': 'Extended absence',\n     '4': 'Preparing to rent/sell',\n     '8': 'Specific use housing'}}},\n  'FYOEP': {'label': 'Year of entry allocation flag',\n   'predicateType': 'int',\n   'group': 'N/A',\n   'limit': 0,\n   'suggested-weight': 'PWGTP',\n   'values': {'item': {'1': 'Yes', '0': 'No'}}},\n  'FDREMP': {'label': 'Cognitive difficulty allocation flag',\n   'predicateType': 'int',\n   'group': 'N/A',\n   'limit': 0,\n   'suggested-weight': 'PWGTP',\n   'values': {'item': {'1': 'Yes', '0': 'No'}}},\n  'NWAB': {'label': 'Temporary absence from work (UNEDITED - See \"Employment Status Recode\" (ESR))',\n   'predicateType': 'int',\n   'group': 'N/A',\n   'limit': 0,\n   'suggested-weight': 'PWGTP',\n   'values': {'item': {'0': 'N/A (less than 16 years old/at work/on layoff)',\n     '2': 'No',\n     '3': 'Did not report',\n     '1': 'Yes'}}},\n  'FCONP': {'label': 'Condominium fee (monthly amount) allocation flag',\n   'predicateType': 'int',\n   'group': 'N/A',\n   'limit': 0,\n   'suggested-weight': 'WGTP',\n   'values': {'item': {'-1': 'N/A (GQ)', '0': 'No', '1': 'Yes'}}},\n  'FOIP': {'label': 'All other income allocation flag',\n   'predicateType': 'int',\n   'group': 'N/A',\n   'limit': 0,\n   'suggested-weight': 'PWGTP',\n   'values': {'item': {'1': 'Yes', '0': 'No'}}},\n  'FHISP': {'label': 'Detailed Hispanic origin allocation flag',\n   'predicateType': 'int',\n   'group': 'N/A',\n   'limit': 0,\n   'suggested-weight': 'PWGTP',\n   'values': {'item': {'1': 'Yes', '0': 'No'}}},\n  'FHINCP': {'label': 'Household income (past 12 months) allocation flag',\n   'predicateType': 'int',\n   'group': 'N/A',\n   'limit': 0,\n   'suggested-weight': 'WGTP',\n   'values': {'item': {'-1': 'N/A (GQ)', '1': 'Yes', '0': 'No'}}},\n  'BROADBND': {'label': 'Cellular data plan for a smartphone or other mobile device',\n   'predicateType': 'int',\n   'group': 'N/A',\n   'limit': 0,\n   'suggested-weight': 'WGTP',\n   'values': {'item': {'2': 'No',\n     '0': 'N/A (GQ/vacant/no paid access to the internet)',\n     '1': 'Yes'}}},\n  'NWAV': {'label': 'Available for work (UNEDITED - See \"Employment Status Recode\" (ESR))',\n   'predicateType': 'int',\n   'group': 'N/A',\n   'limit': 0,\n   'suggested-weight': 'PWGTP',\n   'values': {'item': {'5': 'Did not report',\n     '2': 'No, Temporarily Ill',\n     '4': 'No, unspecified',\n     '0': 'N/A (less than 16 years/at work/not looking)',\n     '1': 'Yes',\n     '3': 'No, other reasons'}}},\n  'FDPHYP': {'label': 'Ambulatory difficulty allocation flag',\n   'predicateType': 'int',\n   'group': 'N/A',\n   'limit': 0,\n   'suggested-weight': 'PWGTP',\n   'values': {'item': {'0': 'No', '1': 'Yes'}}},\n  'PAOC': {'label': 'Presence and age of own children',\n   'predicateType': 'int',\n   'group': 'N/A',\n   'limit': 0,\n   'suggested-weight': 'PWGTP',\n   'values': {'item': {'4': 'Females with no own children',\n     '2': 'Females with own children 6 to 17 years only',\n     '3': 'Females with own children under 6 years and 6 to 17 years',\n     '0': 'N/A (male/female under 16 years old/GQ)',\n     '1': 'Females with own children under 6 years only'}}},\n  'FFODP': {'label': 'Field of Degree allocation flag',\n   'predicateType': 'int',\n   'group': 'N/A',\n   'limit': 0,\n   'suggested-weight': 'PWGTP',\n   'values': {'item': {'0': 'No', '1': 'Yes'}}},\n  'FMARHMP': {'label': 'Married in the past 12 months allocation flag',\n   'predicateType': 'int',\n   'group': 'N/A',\n   'limit': 0,\n   'suggested-weight': 'PWGTP',\n   'values': {'item': {'1': 'Yes', '0': 'No'}}},\n  'SSIP': {'label': 'Supplementary Security Income past 12 months (use ADJINC to adjust SSIP to constant dollars)',\n   'predicateType': 'int',\n   'group': 'N/A',\n   'limit': 0,\n   'suggested-weight': 'PWGTP',\n   'values': {'item': {'-1': 'N/A (less than 15 years old)', '0': 'None'},\n    'range': [{'min': '4',\n      'max': '30000',\n      'description': '$4 to $30000 (Rounded and top-coded)'}]}},\n  'FJWRIP': {'label': 'Vehicle occupancy allocation flag',\n   'predicateType': 'int',\n   'group': 'N/A',\n   'limit': 0,\n   'suggested-weight': 'PWGTP',\n   'values': {'item': {'0': 'No', '1': 'Yes'}}},\n  'COMPOTHX': {'label': 'Other computer equipment',\n   'predicateType': 'int',\n   'group': 'N/A',\n   'limit': 0,\n   'suggested-weight': 'WGTP',\n   'values': {'item': {'0': 'N/A (GQ/vacant)', '1': 'Yes', '2': 'No'}}},\n  'FSINKP': {'label': 'Sink with a faucet allocation flag',\n   'predicateType': 'int',\n   'group': 'N/A',\n   'limit': 0,\n   'suggested-weight': 'WGTP',\n   'values': {'item': {'0': 'No', '-1': 'N/A (GQ)', '1': 'Yes'}}},\n  'ELEP': {'label': 'Electricity cost (monthly cost, use ADJHSG to adjust ELEP to constant dollars)',\n   'predicateType': 'int',\n   'group': 'N/A',\n   'limit': 0,\n   'suggested-weight': 'WGTP',\n   'values': {'item': {'2': 'N/A (GQ/vacant/included in rent or in condo fee/no charge or electricity not used)'},\n    'range': [{'min': '3',\n      'max': '9999',\n      'description': '$3 to $9999 (Rounded and top-coded)'}]}},\n  'FHFLP': {'label': 'House heating fuel allocation flag',\n   'predicateType': 'int',\n   'group': 'N/A',\n   'limit': 0,\n   'suggested-weight': 'WGTP',\n   'values': {'item': {'0': 'No', '-1': 'N/A (GQ)', '1': 'Yes'}}},\n  'WIF': {'label': 'Workers in family during the past 12 months',\n   'predicateType': 'int',\n   'group': 'N/A',\n   'limit': 0,\n   'suggested-weight': 'WGTP',\n   'values': {'item': {'1': '1 worker',\n     '3': '3 or more workers in family',\n     '2': '2 workers',\n     '0': 'No workers',\n     '-1': 'N/A (GQ/vacant/non-family household)'}}},\n  'FSMXSP': {'label': 'Second mortgage status allocation flag',\n   'predicateType': 'int',\n   'group': 'N/A',\n   'limit': 0,\n   'suggested-weight': 'WGTP',\n   'values': {'item': {'-1': 'N/A (GQ)', '0': 'No', '1': 'Yes'}}},\n  'FOD2P': {'label': 'Recoded field of degree - second entry',\n   'predicateType': 'string',\n   'group': 'N/A',\n   'limit': 0,\n   'suggested-weight': 'PWGTP',\n   'values': {'item': {'1903': 'Mass Media',\n     '4000': 'Multi/Interdisciplinary Studies',\n     '1401': 'Architecture',\n     '5205': 'Industrial And Organizational Psychology',\n     '2105': 'Information Sciences',\n     '2101': 'Computer Programming And Data Processing',\n     '6203': 'Business Management And Administration',\n     '3603': 'Molecular Biology',\n     '1303': 'Natural Resources Management',\n     '5506': 'Political Science And Government',\n     '5599': 'Miscellaneous Social Sciences',\n     '6204': 'Operations Logistics And E-Commerce',\n     '6206': 'Marketing And Marketing Research',\n     '2408': 'Electrical Engineering',\n     '2412': 'Industrial And Manufacturing Engineering',\n     '2411': 'Geological And Geophysical Engineering',\n     '2300': 'General Education',\n     '1102': 'Agricultural Economics',\n     '2399': 'Miscellaneous Education',\n     '5202': 'Clinical Psychology',\n     '2603': 'Other Foreign Languages',\n     '2602': 'French German Latin And Other Common Foreign Language Studies',\n     '4001': 'Intercultural And International Studies',\n     '2500': 'Engineering Technologies',\n     '4006': 'Cognitive Science And Biopsychology',\n     '6201': 'Accounting',\n     '5500': 'General Social Sciences',\n     '5504': 'Geography',\n     '5507': 'Sociology',\n     '5003': 'Chemistry',\n     '2403': 'Architectural Engineering',\n     '2400': 'General Engineering',\n     '6100': 'General Medical And Health Services',\n     '2415': 'Metallurgical Engineering',\n     '2414': 'Mechanical Engineering',\n     '3501': 'Library Science',\n     '5403': 'Human Services And Community Organization',\n     '5404': 'Social Work',\n     '2306': 'Physical And Health Education Teaching',\n     '4101': 'Physical Fitness Parks Recreation And Leisure',\n     '3401': 'Liberal Arts',\n     '3302': 'Composition And Rhetoric',\n     '3301': 'English Language And Literature',\n     '3700': 'Mathematics',\n     '4801': 'Philosophy And Religious Studies',\n     '2901': 'Family And Consumer Sciences',\n     '6202': 'Actuarial Science',\n     '3600': 'Biology',\n     '5501': 'Economics',\n     '2401': 'Aerospace Engineering',\n     '2410': 'Environmental Engineering',\n     '5007': 'Physics',\n     '2303': 'School Student Counseling',\n     '6107': 'Nursing',\n     '6003': 'Visual And Performing Arts',\n     '2314': 'Art And Music Education',\n     '5701': 'Electrical, Mechanical, And Precision Technologies And Production',\n     '6099': 'Miscellaneous Fine Arts',\n     '2201': 'Cosmetology Services And Culinary Arts',\n     '5299': 'Miscellaneous Psychology',\n     '2107': 'Computer Networking And Telecommunications',\n     '5505': 'International Relations',\n     '2402': 'Biological Engineering',\n     '6207': 'Finance',\n     '3699': 'Miscellaneous Biology',\n     '6209': 'Human Resources And Personnel Management',\n     '6102': 'Communication Disorders Sciences And Services',\n     '6103': 'Health And Medical Administrative Services',\n     '5401': 'Public Administration',\n     '5006': 'Oceanography',\n     '5402': 'Public Policy',\n     '6110': 'Community And Public Health',\n     '2301': 'Educational Administration And Supervision',\n     '2309': 'Secondary Teacher Education',\n     '2308': 'Science And Computer Teacher Education',\n     '6000': 'Fine Arts',\n     '1103': 'Animal Sciences',\n     '2313': 'Language And Drama Education',\n     '3402': 'Humanities',\n     '1901': 'Communications',\n     '5201': 'Educational Psychology',\n     '1199': 'Miscellaneous Agriculture',\n     '6006': 'Art History And Criticism',\n     '2100': 'Computer And Information Systems',\n     '2102': 'Computer Science',\n     '1302': 'Forestry',\n     '3601': 'Biochemical Sciences',\n     '1301': 'Environmental Science',\n     '3202': 'Pre-Law And Legal Studies',\n     '3605': 'Genetics',\n     '5000': 'Physical Sciences',\n     '6205': 'Business Economics',\n     '2407': 'Computer Engineering',\n     '2406': 'Civil Engineering',\n     '5098': 'Multi-Disciplinary Or General Science',\n     '5301': 'Criminal Justice And Fire Protection',\n     '2307': 'Early Childhood Education',\n     '6001': 'Drama And Theater Arts',\n     '1106': 'Soil Science',\n     '1104': 'Food Science',\n     '1100': 'General Agriculture',\n     '2310': 'Special Needs Education',\n     '1904': 'Advertising And Public Relations',\n     '3801': 'Military Technologies',\n     '5200': 'Psychology',\n     '6007': 'Studio Arts',\n     '3701': 'Applied Mathematics',\n     '2504': 'Mechanical Engineering Related Technologies',\n     '2503': 'Industrial Production Technologies',\n     '2106': 'Computer Administration Management And Security',\n     '4005': 'Mathematics And Computer Science',\n     '6200': 'General Business',\n     '2001': 'Communication Technologies',\n     '3604': 'Ecology',\n     '3608': 'Physiology',\n     '3607': 'Pharmacology',\n     '3606': 'Microbiology',\n     '6210': 'International Business',\n     '6212': 'Management Information Systems And Statistics',\n     '5002': 'Atmospheric Sciences And Meteorology',\n     '2416': 'Mining And Mineral Engineering',\n     '5008': 'Materials Science',\n     '2418': 'Nuclear Engineering',\n     '2417': 'Naval Architecture And Marine Engineering',\n     '2305': 'Mathematics Teacher Education',\n     '2304': 'Elementary Education',\n     '6106': 'Health And Medical Preparatory Programs',\n     '6105': 'Medical Technologies Technicians',\n     '6108': 'Pharmacy Pharmaceutical Sciences And Administration',\n     '6109': 'Treatment Therapy Professions',\n     '6004': 'Commercial Art And Graphic Design',\n     'N': \"N/A (less than bachelor's degree)\",\n     '6403': 'United States History',\n     '5601': 'Construction Services',\n     '5206': 'Social Psychology',\n     '3602': 'Botany',\n     '2599': 'Miscellaneous Engineering Technologies',\n     '3609': 'Zoology',\n     '5503': 'Criminology',\n     '5001': 'Astronomy And Astrophysics',\n     '6211': 'Hospitality Management',\n     '5004': 'Geology And Earth Science',\n     '3611': 'Neuroscience',\n     '2409': 'Engineering Mechanics Physics And Science',\n     '6199': 'Miscellaneous Health Medical Professions',\n     '6002': 'Music',\n     '6005': 'Film Video And Photographic Arts',\n     '1105': 'Plant Science And Agronomy',\n     '1501': 'Area Ethnic And Civilization Studies',\n     '2312': 'Teacher Education: Multiple Levels',\n     '1101': 'Agriculture Production And Management',\n     '2311': 'Social Science Or History Teacher Education',\n     '1902': 'Journalism',\n     '2601': 'Linguistics And Comparative Language And Literature',\n     '6402': 'History',\n     '4901': 'Theology And Religious Vocations',\n     '4002': 'Nutrition Sciences',\n     '5203': 'Counseling Psychology',\n     '3702': 'Statistics And Decision Science',\n     '5102': 'Nuclear, Industrial Radiology, And Biological Technologies',\n     '2502': 'Electrical Engineering Technology',\n     '2501': 'Engineering And Industrial Management',\n     '4007': 'Interdisciplinary Social Sciences',\n     '5502': 'Anthropology And Archeology',\n     '5901': 'Transportation Sciences And Technologies',\n     '6299': 'Miscellaneous Business And Medical Administration',\n     '2405': 'Chemical Engineering',\n     '2404': 'Biomedical Engineering',\n     '6104': 'Medical Assisting Services',\n     '2413': 'Materials Engineering And Materials Science',\n     '2499': 'Miscellaneous Engineering',\n     '5005': 'Geosciences',\n     '2419': 'Petroleum Engineering'}}},\n  'RETP': {'label': 'Retirement income past 12 months (use ADJINC to adjust to constant dollars)',\n   'predicateType': 'int',\n   'group': 'N/A',\n   'limit': 0,\n   'suggested-weight': 'PWGTP',\n   'values': {'item': {'0': 'None', '-1': 'N/A (less than 15 years old)'},\n    'range': [{'min': '4',\n      'max': '999999',\n      'description': '$4 to $999999 (Rounded and top-coded)'}]}},\n  'FSSP': {'label': 'Social Security income allocation flag',\n   'predicateType': 'int',\n   'group': 'N/A',\n   'limit': 0,\n   'suggested-weight': 'PWGTP',\n   'values': {'item': {'1': 'Yes', '0': 'No'}}},\n  'PLMPRP': {'label': 'Complete plumbing facilities for Puerto Rico',\n   'predicateType': 'int',\n   'group': 'N/A',\n   'limit': 0,\n   'suggested-weight': 'WGTP',\n   'values': {'item': {'2': 'No',\n     '9': 'Case is from the United States, PLMPRP not applicable',\n     '0': 'N/A (GQ)',\n     '1': 'Yes, has running water, and a bathtub or shower'}}},\n  'SCIENGP': {'label': 'Field of Degree Science and Engineering Flag - NSF Definition',\n   'predicateType': 'int',\n   'group': 'N/A',\n   'limit': 0,\n   'suggested-weight': 'PWGTP',\n   'values': {'item': {'2': 'No',\n     '0': \"N/A (less than bachelor's degree)\",\n     '1': 'Yes'}}},\n  'CITWP': {'label': 'Year of naturalization write-in',\n   'predicateType': 'int',\n   'group': 'N/A',\n   'limit': 0,\n   'suggested-weight': 'PWGTP',\n   'values': {'item': {'1974': '1974',\n     '1945': '1945 - 1947',\n     '1944': '1944 or earlier (Bottom-coded)',\n     '1965': '1965',\n     '1960': '1960',\n     '1967': '1967',\n     '2001': '2001',\n     '1953': '1953',\n     '2006': '2006',\n     '1958': '1958',\n     '1961': '1961',\n     '1969': '1969',\n     '1968': '1968',\n     '1987': '1987',\n     '1983': '1983',\n     '1982': '1982',\n     '1981': '1981',\n     '1948': '1948 - 1949',\n     '2012': '2012',\n     '2007': '2007',\n     '1950': '1950 - 1951',\n     '2005': '2005',\n     '1993': '1993',\n     '1991': '1991',\n     '2015': '2015',\n     '1972': '1972',\n     '1971': '1971',\n     '1990': '1990',\n     '1980': '1980',\n     '2010': '2010',\n     '1998': '1998',\n     '1996': '1996',\n     '2018': '2018',\n     '1973': '1973',\n     '1979': '1979',\n     '1985': '1985',\n     '1988': '1988',\n     '2008': '2008',\n     '1994': '1994',\n     '2004': '2004',\n     '1992': '1992',\n     '1959': '1959',\n     '1964': '1964',\n     '1962': '1962',\n     '2016': '2016',\n     '1970': '1970',\n     '2009': '2009',\n     '1957': '1957',\n     '1955': '1955',\n     '2021': '2021',\n     '1976': '1976',\n     '1975': '1975',\n     '1978': '1978',\n     '1943': 'N/A (Not eligible - not naturalized)',\n     '1984': '1984',\n     '1954': '1954',\n     '1997': '1997',\n     '2003': '2003',\n     '1956': '1956',\n     '2017': '2017',\n     '1966': '1966',\n     '1977': '1977',\n     '2000': '2000',\n     '1986': '1986',\n     '1989': '1989',\n     '2011': '2011',\n     '1952': '1952',\n     '1995': '1995',\n     '2002': '2002',\n     '1999': '1999',\n     '2020': '2020',\n     '2019': '2019',\n     '1963': '1963',\n     '2014': '2014',\n     '2013': '2013'}}},\n  'FMILSP': {'label': 'Military service allocation flag',\n   'predicateType': 'int',\n   'group': 'N/A',\n   'limit': 0,\n   'suggested-weight': 'PWGTP',\n   'values': {'item': {'0': 'No', '1': 'Yes'}}},\n  'FPINCP': {'label': \"Total person's income (signed) allocation flag\",\n   'predicateType': 'int',\n   'group': 'N/A',\n   'limit': 0,\n   'suggested-weight': 'PWGTP',\n   'values': {'item': {'0': 'No', '1': 'Yes'}}},\n  'FOD1P': {'label': 'Recoded field of degree - first entry',\n   'predicateType': 'string',\n   'group': 'N/A',\n   'limit': 0,\n   'suggested-weight': 'PWGTP',\n   'values': {'item': {'6110': 'Community And Public Health',\n     '2300': 'General Education',\n     '6105': 'Medical Technologies Technicians',\n     '6000': 'Fine Arts',\n     '1106': 'Soil Science',\n     '2314': 'Art And Music Education',\n     '2313': 'Language And Drama Education',\n     '3402': 'Humanities',\n     '2312': 'Teacher Education: Multiple Levels',\n     '2310': 'Special Needs Education',\n     '5200': 'Psychology',\n     '4901': 'Theology And Religious Vocations',\n     '4000': 'Multi/Interdisciplinary Studies',\n     '3302': 'Composition And Rhetoric',\n     '4006': 'Cognitive Science And Biopsychology',\n     '2901': 'Family And Consumer Sciences',\n     '5500': 'General Social Sciences',\n     '5501': 'Economics',\n     '3609': 'Zoology',\n     '5901': 'Transportation Sciences And Technologies',\n     '5001': 'Astronomy And Astrophysics',\n     '6207': 'Finance',\n     '2409': 'Engineering Mechanics Physics And Science',\n     '6102': 'Communication Disorders Sciences And Services',\n     '5005': 'Geosciences',\n     '2301': 'Educational Administration And Supervision',\n     '5701': 'Electrical, Mechanical, And Precision Technologies And Production',\n     '6099': 'Miscellaneous Fine Arts',\n     '5201': 'Educational Psychology',\n     '6007': 'Studio Arts',\n     '6403': 'United States History',\n     '4001': 'Intercultural And International Studies',\n     '3700': 'Mathematics',\n     '2501': 'Engineering And Industrial Management',\n     '4007': 'Interdisciplinary Social Sciences',\n     '3603': 'Molecular Biology',\n     '3202': 'Pre-Law And Legal Studies',\n     '2404': 'Biomedical Engineering',\n     '2403': 'Architectural Engineering',\n     '2412': 'Industrial And Manufacturing Engineering',\n     '2411': 'Geological And Geophysical Engineering',\n     '4002': 'Nutrition Sciences',\n     '1401': 'Architecture',\n     '3301': 'English Language And Literature',\n     '4801': 'Philosophy And Religious Studies',\n     '6200': 'General Business',\n     '5506': 'Political Science And Government',\n     '6210': 'International Business',\n     '6212': 'Management Information Systems And Statistics',\n     '6211': 'Hospitality Management',\n     '5004': 'Geology And Earth Science',\n     '2401': 'Aerospace Engineering',\n     '2408': 'Electrical Engineering',\n     '2413': 'Materials Engineering And Materials Science',\n     '5401': 'Public Administration',\n     '5402': 'Public Policy',\n     '5403': 'Human Services And Community Organization',\n     '2418': 'Nuclear Engineering',\n     '2306': 'Physical And Health Education Teaching',\n     '2304': 'Elementary Education',\n     '6109': 'Treatment Therapy Professions',\n     '6003': 'Visual And Performing Arts',\n     '6004': 'Commercial Art And Graphic Design',\n     '1901': 'Communications',\n     '5202': 'Clinical Psychology',\n     '2601': 'Linguistics And Comparative Language And Literature',\n     '3702': 'Statistics And Decision Science',\n     '4005': 'Mathematics And Computer Science',\n     '3601': 'Biochemical Sciences',\n     '3608': 'Physiology',\n     '5505': 'International Relations',\n     '5000': 'Physical Sciences',\n     '2402': 'Biological Engineering',\n     '2400': 'General Engineering',\n     '5599': 'Miscellaneous Social Sciences',\n     '6209': 'Human Resources And Personnel Management',\n     '2407': 'Computer Engineering',\n     '5006': 'Oceanography',\n     '5008': 'Materials Science',\n     '2419': 'Petroleum Engineering',\n     '6199': 'Miscellaneous Health Medical Professions',\n     '2303': 'School Student Counseling',\n     '1103': 'Animal Sciences',\n     '2311': 'Social Science Or History Teacher Education',\n     '3801': 'Military Technologies',\n     '2603': 'Other Foreign Languages',\n     '5102': 'Nuclear, Industrial Radiology, And Biological Technologies',\n     '2503': 'Industrial Production Technologies',\n     '2105': 'Information Sciences',\n     '2500': 'Engineering Technologies',\n     '2101': 'Computer Programming And Data Processing',\n     '6203': 'Business Management And Administration',\n     '3602': 'Botany',\n     '5502': 'Anthropology And Archeology',\n     '5503': 'Criminology',\n     '3607': 'Pharmacology',\n     '5002': 'Atmospheric Sciences And Meteorology',\n     '5003': 'Chemistry',\n     '2405': 'Chemical Engineering',\n     '6100': 'General Medical And Health Services',\n     '6103': 'Health And Medical Administrative Services',\n     '2415': 'Metallurgical Engineering',\n     '6106': 'Health And Medical Preparatory Programs',\n     '6107': 'Nursing',\n     '2308': 'Science And Computer Teacher Education',\n     '6002': 'Music',\n     '1104': 'Food Science',\n     '2399': 'Miscellaneous Education',\n     '1100': 'General Agriculture',\n     '2201': 'Cosmetology Services And Culinary Arts',\n     '6402': 'History',\n     '2100': 'Computer And Information Systems',\n     '5205': 'Industrial And Organizational Psychology',\n     '2102': 'Computer Science',\n     '3604': 'Ecology',\n     '1302': 'Forestry',\n     '5504': 'Geography',\n     '3605': 'Genetics',\n     '6299': 'Miscellaneous Business And Medical Administration',\n     '6204': 'Operations Logistics And E-Commerce',\n     '2406': 'Civil Engineering',\n     '5098': 'Multi-Disciplinary Or General Science',\n     '2416': 'Mining And Mineral Engineering',\n     '2414': 'Mechanical Engineering',\n     '2499': 'Miscellaneous Engineering',\n     '5301': 'Criminal Justice And Fire Protection',\n     '2305': 'Mathematics Teacher Education',\n     '6108': 'Pharmacy Pharmaceutical Sciences And Administration',\n     '2309': 'Secondary Teacher Education',\n     '2307': 'Early Childhood Education',\n     '6001': 'Drama And Theater Arts',\n     '1105': 'Plant Science And Agronomy',\n     '1102': 'Agricultural Economics',\n     '1101': 'Agriculture Production And Management',\n     '1902': 'Journalism',\n     'N': \"N/A (less than bachelor's degree)\",\n     '2602': 'French German Latin And Other Common Foreign Language Studies',\n     '5206': 'Social Psychology',\n     '3701': 'Applied Mathematics',\n     '6201': 'Accounting',\n     '6202': 'Actuarial Science',\n     '2001': 'Communication Technologies',\n     '1301': 'Environmental Science',\n     '2599': 'Miscellaneous Engineering Technologies',\n     '3600': 'Biology',\n     '3606': 'Microbiology',\n     '5507': 'Sociology',\n     '6104': 'Medical Assisting Services',\n     '3501': 'Library Science',\n     '2410': 'Environmental Engineering',\n     '5007': 'Physics',\n     '5404': 'Social Work',\n     '2417': 'Naval Architecture And Marine Engineering',\n     '4101': 'Physical Fitness Parks Recreation And Leisure',\n     '6005': 'Film Video And Photographic Arts',\n     '1501': 'Area Ethnic And Civilization Studies',\n     '3401': 'Liberal Arts',\n     '1904': 'Advertising And Public Relations',\n     '1903': 'Mass Media',\n     '1199': 'Miscellaneous Agriculture',\n     '6006': 'Art History And Criticism',\n     '5299': 'Miscellaneous Psychology',\n     '5203': 'Counseling Psychology',\n     '5601': 'Construction Services',\n     '2504': 'Mechanical Engineering Related Technologies',\n     '2107': 'Computer Networking And Telecommunications',\n     '2106': 'Computer Administration Management And Security',\n     '2502': 'Electrical Engineering Technology',\n     '1303': 'Natural Resources Management',\n     '6205': 'Business Economics',\n     '3699': 'Miscellaneous Biology',\n     '6206': 'Marketing And Marketing Research',\n     '3611': 'Neuroscience'}}},\n  'FMARP': {'label': 'Marital status allocation flag',\n   'predicateType': 'int',\n   'group': 'N/A',\n   'limit': 0,\n   'suggested-weight': 'PWGTP',\n   'values': {'item': {'0': 'No', '1': 'Yes'}}},\n  'SOCP': {'label': 'Standard Occupational Classification (SOC) codes for 2018 and later based on 2018 SOC codes',\n   'predicateType': 'string',\n   'group': 'N/A',\n   'limit': 0,\n   'suggested-weight': 'PWGTP',\n   'values': {'item': {'339021': 'PRT-Private Detectives And Investigators',\n     '271021': 'ENT-Commercial And Industrial Designers',\n     '499031': 'RPR-Home Appliance Repairers',\n     '397010': 'PRS-Tour And Travel Guides',\n     '1320XX': 'FIN-Other Financial Specialists',\n     '29203X': 'MED-Nuclear Medicine Technologists And Medical Dosimetrists',\n     '291081': 'MED-Podiatrists',\n     '272021': 'ENT-Athletes And Sports Competitors',\n     '29205X': 'MED-Dietetic Technicians And Ophthalmic Medical Technicians',\n     '353023': 'EAT-Fast Food And Counter Workers',\n     '5170XX': 'PRD-Other Woodworkers',\n     '273043': 'ENT-Writers And Authors',\n     '519010': 'PRD-Chemical Processing Machine Setters, Operators, And Tenders',\n     '113013': 'MGR-Facilities Managers',\n     '113131': 'MGR-Training And Development Managers',\n     '519041': 'PRD-Extruding, Forming, Pressing, And Compacting Machine Setters, Operators, And Tenders',\n     '112021': 'MGR-Marketing Managers',\n     '472061': 'CON-Construction Laborers',\n     '192041': 'SCI-Environmental Scientists And Specialists, Including Health',\n     '472152': 'CON-Plumbers, Pipefitters, And Steamfitters',\n     '272099': 'ENT-Entertainers And Performers, Sports And Related Workers, All Other',\n     '519197': 'PRD-Tire Builders',\n     '274030': 'ENT-Television, Video, And Film Camera Operators And Editors',\n     '319094': 'HLS-Medical Transcriptionists',\n     '319095': 'HLS-Pharmacy Aides',\n     '392011': 'PRS-Animal Trainers',\n     '172070': 'ENG-Electrical And Electronics Engineers',\n     '319096': 'HLS-Veterinary Assistants And Laboratory Animal Caretakers',\n     '492097': 'RPR-Audiovisual Equipment Installers And Repairers',\n     '173023': 'ENG-Electrical and Electronic Engineering Technologists And Technicians',\n     '172051': 'ENG-Civil Engineers',\n     '151252': 'CMM-Software Developers',\n     '151251': 'CMM-Computer Programmers',\n     '551010': 'MIL-Military Officer Special And Tactical Operations Leaders',\n     '332020': 'PRT-Fire Inspectors',\n     '434051': 'OFF-Customer Service Representatives',\n     '434171': 'OFF-Receptionists And Information Clerks',\n     '434081': 'OFF-Hotel, Motel, And Resort Desk Clerks',\n     '359031': 'EAT-Hosts And Hostesses, Restaurant, Lounge, And Coffee Shop',\n     '514120': 'PRD-Welding, Soldering, And Brazing Workers',\n     '119111': 'MGR-Medical And Health Services Managers',\n     '131141': 'BUS-Compensation, Benefits, And Job Analysis Specialists',\n     '211013': 'CMS-Marriage And Family Therapists',\n     '434041': 'OFF-Credit Authorizers, Checkers, And Clerks',\n     '292034': 'MED-Radiologic Technologists And Technicians',\n     '292035': 'MED-Magnetic Resonance Imaging Technologists',\n     '536030': 'TRN-Transportation Service Attendants',\n     '412021': 'SAL-Counter And Rental Clerks',\n     '514050': 'PRD-Metal Furnace Operators, Tenders, Pourers, And Casters',\n     '3940XX': 'PRS-Embalmers, Crematory Operators And Funeral Attendants',\n     '537065': 'TRN-Stockers And Order Fillers',\n     '516011': 'PRD-Laundry And Dry-Cleaning Workers',\n     '536061': 'TRN-Passenger Attendants',\n     '433031': 'OFF-Bookkeeping, Accounting, And Auditing Clerks',\n     '119021': 'MGR-Construction Managers',\n     '513099': 'PRD-Food Processing Workers, All Other',\n     '533051': 'TRN-Bus Drivers, School',\n     '533052': 'TRN-Bus Drivers, Transit And Intercity',\n     '132061': 'FIN-Financial Examiners',\n     '4750YY': 'EXT-Derrick, Rotary Drill, And Service Unit Operators, And Roustabouts, Oil And Gas',\n     '119070': 'MGR-Entertainment And Recreation Managers',\n     '533030': 'TRN-Driver/Sales Workers And Truck Drivers',\n     '475040': 'EXT-Underground Mining Machine Operators',\n     '292042': 'MED-Emergency Medical Technicians',\n     '272030': 'ENT-Dancers And Choreographers',\n     '353011': 'EAT-Bartenders',\n     '475020': 'EXT-Surface Mining Machine Operators And Earth Drillers',\n     '131199': 'BUS-Business Operations Specialists, All Other',\n     '27102X': 'ENT-Other Designers',\n     '999920': 'Unemployed, With No Work Experience In The Last 5 Years Or Earlier Or Never Worked',\n     '519020': 'PRD-Crushing, Grinding, Polishing, Mixing, And Blending Workers',\n     '113012': 'MGR-Administrative Services Managers',\n     '193051': 'SCI-Urban And Regional Planners',\n     '451011': 'FFF-First-Line Supervisors Of Farming, Fishing, And Forestry Workers',\n     '1910XX': 'SCI-Other Life Scientists',\n     '113121': 'MGR-Human Resources Managers',\n     '474021': 'CON-Elevator And Escalator Installers And Repairers',\n     '272041': 'ENT-Music Directors And Composers',\n     '439041': 'OFF-Insurance Claims And Policy Processing Clerks',\n     '193033': 'SCI-Clinical And Counseling Psychologists',\n     '113061': 'MGR-Purchasing Managers',\n     '472181': 'CON-Roofers',\n     '493090': 'RPR-Miscellaneous Vehicle And Mobile Equipment Mechanics, Installers, And Repairers',\n     '31113X': 'HLS-Orderlies And Psychiatric Aides',\n     '473010': 'CON-Helpers, Construction Trades',\n     '252020': 'EDU-Elementary And Middle School Teachers',\n     '272091': 'ENT-Disc Jockeys, Except Radio',\n     '274021': 'ENT-Photographers',\n     '49209X': 'RPR-Other Electrical And Electronic Equipment Mechanics, Installers, and Repairers',\n     '413041': 'SAL-Travel Agents',\n     '5140XX': 'PRD-Model Makers, Patternmakers, And Molding Machine Setters, Metal And Plastic',\n     '15124X': 'CMM-Database Administrators And Architects',\n     '151253': 'CMM-Software Quality Assurance Analysts And Testers',\n     '172081': 'ENG-Environmental Engineers',\n     '311121': 'HLS-Home Health Aides',\n     '472231': 'CON-Solar Photovoltaic Installers',\n     '172141': 'ENG-Mechanical Engineers',\n     '172011': 'ENG-Aerospace Engineers',\n     '371012': 'CLN-First-Line Supervisors Of Landscaping, Lawn Service, And Groundskeeping Workers',\n     '439XXX': 'OFF-Other Office And Administrative Support Workers',\n     '518021': 'PRD-Stationary Engineers And Boiler Operators',\n     '291031': 'MED-Dietitians And Nutritionists',\n     '291151': 'MED-Nurse Anesthetists',\n     '131022': 'BUS-Wholesale And Retail Buyers, Except Farm Products',\n     '291051': 'MED-Pharmacists',\n     '211029': 'CMS-Social Workers, All Other',\n     '499094': 'RPR-Locksmiths And Safe Repairers',\n     '537062': 'TRN-Laborers And Freight, Stock, And Material Movers, Hand',\n     '119030': 'MGR-Education And Childcare Administrators',\n     '419091': 'SAL-Door-To-Door Sales Workers, News And Street Vendors, And Related Workers',\n     '351011': 'EAT-Chefs And Head Cooks',\n     '119013': 'MGR-Farmers, Ranchers, And Other Agricultural Managers',\n     '419099': 'SAL-Sales And Related Workers, All Other',\n     '434XXX': 'OFF-Correspondence Clerks And Order Clerks',\n     '499051': 'RPR-Electrical Power-Line Installers And Repairers',\n     '454020': 'FFF-Logging Workers',\n     '271024': 'ENT-Graphic Designers',\n     '395092': 'PRS-Manicurists and Pedicurists',\n     '339011': 'PRT-Animal Control Workers',\n     '191030': 'SCI-Conservation Scientists And Foresters',\n     '1191XX': 'MGR-Other Managers',\n     '432021': 'OFF-Telephone Operators',\n     '119051': 'MGR-Food Service Managers',\n     '132011': 'FIN-Accountants And Auditors',\n     '439071': 'OFF-Office Machine Operators, Except Computer',\n     '132020': 'FIN-Property Appraisers And Assessors',\n     '132031': 'FIN-Budget Analysts',\n     '474051': 'CON-Highway Maintenance Workers',\n     '272011': 'ENT-Actors',\n     '272012': 'ENT-Producers And Directors',\n     '353031': 'EAT-Waiters And Waitresses',\n     '131070': 'BUS-Human Resources Workers',\n     '439081': 'OFF-Proofreaders And Copy Markers',\n     '19303X': 'SCI-Other Psychologists',\n     '51609X': 'PRD-Other Textile, Apparel, And Furnishings Workers',\n     '532010': 'TRN-Aircraft Pilots And Flight Engineers',\n     '273041': 'ENT-Editors',\n     '273011': 'ENT-Broadcast Announcers And Radio Disc Jockeys',\n     '171020': 'ENG-Surveyors, Cartographers, And Photogrammetrists',\n     '5191XX': 'PRD-Miscellaneous Production Workers, Including Equipment Operators and Tenders',\n     '533011': 'TRN-Ambulance Drivers And Attendants, Except Emergency Medical Technicians',\n     '519051': 'PRD-Furnace, Kiln, Oven, Drier, And Kettle Operators And Tenders',\n     '413091': 'SAL-Sales Representatives Of Services, Except Advertising, Insurance, Financial Services, And Travel',\n     '113051': 'MGR-Industrial Production Managers',\n     '472031': 'CON-Carpenters',\n     '472121': 'CON-Glaziers',\n     '2740XX': 'ENT-Other Media And Communication Equipment Workers',\n     '435061': 'OFF-Production, Planning, And Expediting Clerks',\n     '493050': 'RPR-Small Engine Mechanics',\n     '516050': 'PRD-Tailors, Dressmakers, And Sewers',\n     '1720XX': 'ENG-Biomedical And Agricultural Engineers',\n     '518010': 'PRD-Power Plant Operators, Distributors, And Dispatchers',\n     '493022': 'RPR-Automotive Glass Installers And Repairers',\n     '435031': 'OFF-Public Safety Telecommunicators',\n     '1930XX': 'SCI-Other Social Scientists',\n     '172131': 'ENG-Materials Engineers',\n     '435021': 'OFF-Couriers And Messengers',\n     '4330XX': 'OFF-Other Financial Clerks',\n     '434071': 'OFF-File Clerks',\n     '492020': 'RPR-Radio And Telecommunications Equipment Installers And Repairers',\n     '151230': 'CMM-Computer Support Specialists',\n     '131121': 'BUS-Meeting, Convention, And Event Planners',\n     '131023': 'BUS-Purchasing Agents, Except Wholesale, Retail, And Farm Products',\n     '514033': 'PRD-Grinding, Lapping, Polishing, And Buffing Machine Tool Setters, Operators, And Tenders, Metal and Plastic',\n     '291291': 'MED-Acupuncturists',\n     '291292': 'MED-Dental Hygienists',\n     '211015': 'CMS-Rehabilitation Counselors',\n     '515111': 'PRD-Prepress Technicians And Workers',\n     '292031': 'MED-Cardiovascular Technologists And Technicians',\n     '432099': 'OFF-Communications Equipment Operators, All Other',\n     '537051': 'TRN-Industrial Truck And Tractor Operators',\n     '119161': 'MGR-Emergency Management Directors',\n     '433011': 'OFF-Bill And Account Collectors',\n     '291127': 'MED-Speech-Language Pathologists',\n     '291124': 'MED-Radiation Therapists',\n     '537063': 'TRN-Machine Feeders And Offbearers',\n     '291131': 'MED-Veterinarians',\n     '359099': 'EAT-Food Preparation And Serving Related Workers, All Other',\n     '513092': 'PRD-Food Batchmakers',\n     '499060': 'RPR-Precision Instrument And Equipment Repairers',\n     '411012': 'SAL-First-Line Supervisors Of Non-Retail Sales Workers',\n     '533053': 'TRN-Shuttle Drivers and Chauffeurs',\n     '292090': 'MED-Miscellaneous Health Technologists And Technicians',\n     '119081': 'MGR-Lodging Managers',\n     '132070': 'FIN-Credit Counselors And Loan Officers',\n     '132081': 'FIN-Tax Examiners And Collectors, And Revenue Agents',\n     '212099': 'CMS-Religious Workers, All Other',\n     '452041': 'FFF-Graders And Sorters, Agricultural Products',\n     '292043': 'MED-Paramedics',\n     '292056': 'MED-Veterinary Technologists And Technicians',\n     '259040': 'EDU-Teaching Assistants',\n     '132041': 'FIN-Credit Analysts',\n     '132052': 'FIN-Personal Financial Advisors',\n     '194010': 'SCI-Agricultural And Food Science Technicians',\n     '273023': 'ENT-News Analysts, Reporters, And Journalists',\n     '439051': 'OFF-Mail Clerks And Mail Machine Operators, Except Postal Service',\n     '172121': 'ENG-Marine Engineers And Naval Architects',\n     '519151': 'PRD-Photographic Process Workers And Processing Machine Operators',\n     '272042': 'ENT-Musicians And Singers',\n     '113111': 'MGR-Compensation And Benefits Managers',\n     '193034': 'SCI-School Psychologists',\n     '472050': 'CON-Cement Masons, Concrete Finishers, And Terrazzo Workers',\n     '518090': 'PRD-Miscellaneous Plant And System Operators',\n     '193011': 'SCI-Economists',\n     '472040': 'CON-Carpet, Floor, And Tile Installers And Finishers',\n     '311131': 'HLS-Nursing Assistants',\n     '435071': 'OFF-Shipping, Receiving, And Inventory Clerks',\n     '492091': 'RPR-Avionics Technicians',\n     '17301X': 'ENG-Other Drafters',\n     '291210': 'MED-Physicians',\n     '333021': 'PRT-Detectives And Criminal Investigators',\n     '273099': 'ENT-Media And Communication Workers, All Other',\n     '472111': 'CON-Electricians',\n     '434181': 'OFF-Reservation And Transportation Ticket Agents And Travel Clerks',\n     '232011': 'LGL-Paralegals And Legal Assistants',\n     '472211': 'CON-Sheet Metal Workers',\n     '435052': 'OFF-Postal Service Mail Carriers',\n     '413021': 'SAL-Insurance Sales Agents',\n     '436012': 'OFF-Legal Secretaries And Administrative Assistants',\n     '413031': 'SAL-Securities, Commodities, And Financial Services Sales Agents',\n     '436014': 'OFF-Secretaries And Administrative Assistants, Except Legal, Medical, And Executive',\n     '33909X': 'PRT-Other Protective Service Workers',\n     '2310XX': 'LGL-Lawyers, And Judges, Magistrates, And Other Judicial Workers',\n     '433051': 'OFF-Payroll And Timekeeping Clerks',\n     '339093': 'PRT-Transportation Security Screeners',\n     '395012': 'PRS-Hairdressers, Hairstylists, And Cosmetologists',\n     '131131': 'BUS-Fundraisers',\n     '291041': 'MED-Optometrists',\n     '331011': 'PRT-First-Line Supervisors Of Correctional Officers',\n     '211023': 'CMS-Mental Health And Substance Abuse Social Workers',\n     '291299': 'MED-Healthcare Diagnosing Or Treating Practitioners, All Other',\n     '372021': 'CLN-Pest Control Workers',\n     '514031': 'PRD-Cutting, Punching, And Press Machine Setters, Operators, And Tenders, Metal And Plastic',\n     '5340XX': 'TRN-Other Rail Transportation Workers',\n     '536021': 'TRN-Parking Attendants',\n     '434161': 'OFF-Human Resources Assistants, Except Payroll And Timekeeping',\n     '131151': 'BUS-Training And Development Specialists',\n     '515112': 'PRD-Printing Press Operators',\n     '292032': 'MED-Diagnostic Medical Sonographers',\n     '291181': 'MED-Audiologists',\n     '434031': 'OFF-Court, Municipal, And License Clerks',\n     '499098': 'RPR-Helpers--Installation, Maintenance, And Repair Workers',\n     '499091': 'RPR-Coin, Vending, And Amusement Machine Servicers And Repairers',\n     '291123': 'MED-Physical Therapists',\n     '291122': 'MED-Occupational Therapists',\n     '537064': 'TRN-Packers And Packagers, Hand',\n     '3930XX': 'PRS-Other Entertainment Attendants And Related Workers',\n     '119141': 'MGR-Property, Real Estate, And Community Association Managers',\n     '4520XX': 'FFF-Other Agricultural Workers',\n     '271025': 'ENT-Interior Designers',\n     '395094': 'PRS-Skincare Specialists',\n     '454011': 'FFF-Forest And Conservation Workers',\n     '434YYY': 'OFF-Other Information And Records Clerks',\n     '211092': 'CMS-Probation Officers And Correctional Treatment Specialists',\n     'N': 'N/A (less than 16 years old/NILF who last worked more than 5 years ago or never worked)',\n     '514XXX': 'PRD-Other Metal Workers And Plastic Workers',\n     '533099': 'TRN-Motor Vehicle Operators, All Other',\n     '292055': 'MED-Surgical Technologists',\n     '292052': 'MED-Pharmacy Technicians',\n     '272022': 'ENT-Coaches And Scouts',\n     '272023': 'ENT-Umpires, Referees, And Other Sports Officials',\n     '453031': 'FFF-Fishing And Hunting Workers',\n     '39509X': 'PRS-Other Personal Appearance Workers',\n     '513011': 'PRD-Bakers',\n     '475032': 'EXT-Explosives Workers, Ordnance Handling Experts, And Blasters',\n     '512041': 'PRD-Structural Metal Fabricators And Fitters',\n     '292081': 'MED-Opticians, Dispensing',\n     '131081': 'BUS-Logisticians',\n     '132051': 'FIN-Financial And Investment Analysts',\n     '273042': 'ENT-Technical Writers',\n     '439021': 'OFF-Data Entry Keyers',\n     '519160': 'PRD-Computer Numerically Controlled Tool Operators And Programmers',\n     '399032': 'PRS-Recreation Workers',\n     '519030': 'PRD-Cutting Workers',\n     '172110': 'ENG-Industrial Engineers, Including Health And Safety',\n     '252030': 'EDU-Secondary School Teachers',\n     '273092': 'ENT-Court Reporters And Simultaneous Captioners',\n     '3330XX': 'PRT-Fish And Game Wardens And Parking Enforcement Officers',\n     '399099': 'PRS-Personal Care And Service Workers, All Other',\n     '192030': 'SCI-Chemists And Materials Scientists',\n     '532031': 'TRN-Flight Attendants',\n     '519196': 'PRD-Paper Goods Machine Setters, Operators, And Tenders',\n     '519191': 'PRD-Adhesive Bonding Machine Operators And Tenders',\n     '192021': 'SCI-Atmospheric And Space Scientists',\n     '472130': 'CON-Insulation Workers',\n     '254010': 'EDU-Archivists, Curators, And Museum Technicians',\n     '552010': 'MIL-First-Line Enlisted Military Supervisors',\n     '17302X': 'ENG-Other Engineering Technologists And Technicians, Except Drafters',\n     '1721XX': 'ENG-Petroleum, Mining And Geological Engineers, Including Mining Safety Engineers',\n     '319091': 'HLS-Dental Assistants',\n     '151244': 'CMM-Network And Computer Systems Administrators',\n     '151241': 'CMM-Computer Network Architects',\n     '173031': 'ENG-Surveying And Mapping Technicians',\n     '414010': 'SAL-Sales Representatives, Wholesale And Manufacturing',\n     '31909X': 'HLS-Other Healthcare Support Workers',\n     '172061': 'ENG-Computer Hardware Engineers',\n     '516021': 'PRD-Pressers, Textile, Garment, And Related Materials',\n     '492092': 'RPR-Electric Motor, Power Tool, And Related Repairers',\n     '151254': 'CMM-Web Developers',\n     '517011': 'PRD-Cabinetmakers And Bench Carpenters',\n     '516040': 'PRD-Shoe And Leather Workers',\n     '1721YY': 'ENG-Other Engineers',\n     '493023': 'RPR-Automotive Service Technicians And Mechanics',\n     '434061': 'OFF-Eligibility Interviewers, Government Programs',\n     '412031': 'SAL-Retail Salespersons',\n     '393031': 'PRS-Ushers, Lobby Attendants, And Ticket Takers',\n     '531000': 'TRN-Supervisors Of Transportation And Material Moving Workers',\n     '413011': 'SAL-Advertising Sales Agents',\n     '435051': 'OFF-Postal Service Clerks',\n     '435053': 'OFF-Postal Service Mail Sorters, Processors, And Processing Machine Operators',\n     '192099': 'SCI-Physical Scientists, All Other',\n     '359021': 'EAT-Dishwashers',\n     '436013': 'OFF-Medical Secretaries And Administrative Assistants',\n     '436011': 'OFF-Executive Secretaries And Executive Administrative Assistants',\n     '331012': 'PRT-First-Line Supervisors Of Police And Detectives',\n     '435111': 'OFF-Weighers, Measurers, Checkers, And Samplers, Recordkeeping',\n     '434141': 'OFF-New Accounts Clerks',\n     '537021': 'TRN-Crane And Tower Operators',\n     '472XXX': 'CON-Brickmasons, Blockmasons, Stonemasons, And Reinforcing Iron And Rebar Workers',\n     '339091': 'PRT-Crossing Guards And Flaggers',\n     '211021': 'CMS-Child, Family, And School Social Workers',\n     '435011': 'OFF-Cargo And Freight Agents',\n     '2911XX': 'MED-Nurse Practitioners, And Nurse Midwives',\n     '433061': 'OFF-Procurement Clerks',\n     '1520XX': 'CMM-Other Mathematical Science Occupations',\n     '131161': 'BUS-Market Research Analysts And Marketing Specialists',\n     '499096': 'RPR-Riggers',\n     '212011': 'CMS-Clergy',\n     '119041': 'MGR-Architectural And Engineering Managers',\n     '212021': 'CMS-Directors, Religious Activities And Education',\n     '232093': 'LGL-Title Examiners, Abstractors, And Searchers',\n     '514041': 'PRD-Machinists',\n     '351012': 'EAT-First-Line Supervisors Of Food Preparation And Serving Workers',\n     '411011': 'SAL-First-Line Supervisors Of Retail Sales Workers',\n     '499052': 'RPR-Telecommunications Line Installers And Repairers',\n     '4750XX': 'EXT-Other Extraction Workers',\n     '271022': 'ENT-Fashion Designers',\n     '271026': 'ENT-Merchandise Displayers And Window Trimmers',\n     '271010': 'ENT-Artists And Related Workers',\n     '352010': 'EAT-Cooks',\n     '419041': 'SAL-Telemarketers',\n     '499021': 'RPR-Heating, Air Conditioning, And Refrigeration Mechanics And Installers',\n     '432011': 'OFF-Switchboard Operators, Including Answering Service',\n     '131051': 'BUS-Cost Estimators',\n     '512020': 'PRD-Electrical, Electronics, And Electromechanical Assemblers',\n     '439061': 'OFF-Office Clerks, General',\n     '292061': 'MED-Licensed Practical And Licensed Vocational Nurses',\n     '431011': 'OFF-First-Line Supervisors Of Office And Administrative Support Workers',\n     '474061': 'CON-Rail-Track Laying And Maintenance Equipment Operators',\n     '353041': 'EAT-Food Servers, Nonrestaurant',\n     '132053': 'FIN-Insurance Underwriters',\n     '171011': 'ENG-Architects, Except Landscape And Naval',\n     '194021': 'SCI-Biological Technicians',\n     '2590XX': 'EDU-Other Educational Instruction and Library Workers',\n     '452011': 'FFF-Agricultural Inspectors',\n     '472080': 'CON-Drywall Installers, Ceiling Tile Installers, And Tapers',\n     '439111': 'OFF-Statistical Assistants',\n     '519061': 'PRD-Inspectors, Testers, Sorters, Samplers, And Weighers',\n     '532020': 'TRN-Air Traffic Controllers And Airfield Operations Specialists',\n     '519080': 'PRD-Dental And Ophthalmic Laboratory Technicians And Medical Appliance Technicians',\n     '519071': 'PRD-Jewelers And Precious Stone And Metal Workers',\n     '519194': 'PRD-Etchers And Engravers',\n     '113031': 'MGR-Financial Managers',\n     '319097': 'HLS-Phlebotomists',\n     '472140': 'CON-Painters And Paperhangers',\n     '311122': 'HLS-Personal Care Aides',\n     '333011': 'PRT-Bailiffs',\n     '333012': 'PRT-Correctional Officers And Jailers',\n     '1940XX': 'SCI-Environmental Science And Geoscience Technicians, And Nuclear Technicians',\n     '517041': 'PRD-Sawing Machine Setters, Operators, And Tenders, Wood',\n     '493011': 'RPR-Aircraft Mechanics And Service Technicians',\n     '516093': 'PRD-Upholsterers',\n     '518031': 'PRD-Water And Wastewater Treatment Plant And System Operators',\n     '332011': 'PRT-Firefighters',\n     '359011': 'EAT-Dining Room And Cafeteria Attendants And Bartender Helpers',\n     '194031': 'SCI-Chemical Technicians',\n     '393010': 'PRS-Gambling Services Workers',\n     '519111': 'PRD-Packaging And Filling Machine Operators And Tenders',\n     '435041': 'OFF-Meter Readers, Utilities',\n     '394031': 'PRS-Morticians, Undertakers, And Funeral Arrangers',\n     '331021': 'PRT-First-Line Supervisors Of Firefighting And Prevention Workers',\n     '119121': 'MGR-Natural Sciences Managers',\n     '339094': 'PRT-School Bus Monitors',\n     '211012': 'CMS-Educational, Guidance, And Career Counselors And Advisors',\n     '211022': 'CMS-Healthcare Social Workers',\n     '433071': 'OFF-Tellers',\n     '131030': 'BUS-Claims Adjusters, Appraisers, Examiners, And Investigators',\n     '211019': 'CMS-Counselors, All Other',\n     '5120XX': 'PRD-Other Assemblers and Fabricators',\n     '491011': 'RPR-First-Line Supervisors Of Mechanics, Installers, And Repairers',\n     '152011': 'CMM-Actuaries',\n     '4990XX': 'RPR-Other Installation, Maintenance, And Repair Workers',\n     '232099': 'LGL-Legal Support Workers, All Other',\n     '291126': 'MED-Respiratory Therapists',\n     '151299': 'CMM-Computer Occupations, All Other',\n     '29112X': 'MED-Other Therapists',\n     '291011': 'MED-Chiropractors',\n     '434121': 'OFF-Library Assistants, Clerical',\n     '339030': 'PRT-Security Guards And Gambling Surveillance Officers',\n     '291020': 'MED-Dentists',\n     '513093': 'PRD-Food Cooking Machine Operators And Tenders',\n     '434111': 'OFF-Interviewers, Except Eligibility And Loan',\n     '419020': 'SAL-Real Estate Brokers And Sales Agents',\n     '534031': 'TRN-Railroad Conductors And Yardmasters',\n     '352021': 'EAT-Food Preparation Workers',\n     '191010': 'SCI-Agricultural And Food Scientists',\n     '112011': 'MGR-Advertising And Promotions Managers',\n     '4740XX': 'CON-Other Construction And Related Workers',\n     '111021': 'MGR-General And Operations Managers',\n     '535020': 'TRN-Ship And Boat Captains And Operators',\n     '474031': 'CON-Fence Erectors',\n     '113021': 'MGR-Computer And Information Systems Managers',\n     '474041': 'CON-Hazardous Materials Removal Workers',\n     '559830': 'MIL-Military, Rank Not Specified',\n     '273031': 'ENT-Public Relations Specialists',\n     '474011': 'CON-Construction And Building Inspectors',\n     '19204X': 'SCI-Geoscientists And Hydrologists, Except Geographers',\n     '399031': 'PRS-Exercise Trainers And Group Fitness Instructors',\n     '251000': 'EDU-Postsecondary Teachers',\n     '399041': 'PRS-Residential Advisors',\n     '312020': 'HLS-Physical Therapist Assistants And Aides',\n     '472151': 'CON-Pipelayers',\n     '519198': 'PRD-Helpers--Production Workers',\n     '253041': 'EDU-Tutors',\n     '254022': 'EDU-Librarians And Media Collections Specialists',\n     '151255': 'CMM-Web And Digital Interface Designers',\n     '252050': 'EDU-Special Education Teachers',\n     '471011': 'CON-First-Line Supervisors Of Construction Trades And Extraction Workers',\n     '231012': 'LGL-Judicial Law Clerks',\n     '299000': 'MED-Other Healthcare Practitioners And Technical Occupations',\n     '553010': 'MIL-Military Enlisted Tactical Operations And Air/Weapons Specialists And Crew Members',\n     '2530XX': 'EDU-Other Teachers And Instructors',\n     '151212': 'CMM-Information Security Analysts',\n     '151221': 'CMM-Computer And Information Research Scientists',\n     '173011': 'ENG-Architectural And Civil Drafters',\n     '319011': 'HLS-Massage Therapists',\n     '492011': 'RPR-Computer, Automated Teller, And Office Machine Repairers',\n     '5350XX': 'TRN-Sailors And Marine Oilers, And Ship Engineers',\n     '131011': 'BUS-Agents And Business Managers Of Artists, Performers, And Athletes',\n     '395011': 'PRS-Barbers',\n     '37201X': 'CLN-Janitors And Building Cleaners',\n     '412010': 'SAL-Cashiers',\n     '515113': 'PRD-Print Binding And Finishing Workers',\n     '412022': 'SAL-Parts Salespersons',\n     '5360XX': 'TRN-Other Transportation Workers',\n     '373011': 'CLN-Landscaping And Groundskeeping Workers',\n     '291125': 'MED-Recreational Therapists',\n     '119151': 'MGR-Social And Community Service Managers',\n     '152031': 'CMM-Operations Research Analysts',\n     '131111': 'BUS-Management Analysts',\n     '513091': 'PRD-Food And Tobacco Roasting, Baking, And Drying Machine Operators And Tenders',\n     '396010': 'PRS-Baggage Porters, Bellhops, And Concierges',\n     '533054': 'TRN-Taxi Drivers',\n     '191020': 'SCI-Biological Scientists',\n     '271023': 'ENT-Floral Designers',\n     '511011': 'PRD-First-Line Supervisors Of Production And Operating Workers',\n     '499043': 'RPR-Maintenance Workers, Machinery',\n     '211093': 'CMS-Social And Human Service Assistants',\n     '499044': 'RPR-Millwrights',\n     '419031': 'SAL-Sales Engineers',\n     '21109X': 'CMS-Other Community And Social Service Specialists',\n     '132082': 'FIN-Tax Preparers',\n     '534010': 'TRN-Locomotive Engineers And Operators',\n     '499010': 'RPR-Control And Valve Installers And Repairers',\n     '512031': 'PRD-Engine And Other Machine Assemblers',\n     '291071': 'MED-Physician Assistants',\n     '399011': 'PRS-Childcare Workers',\n     '292053': 'MED-Psychiatric Technicians',\n     '514111': 'PRD-Tool And Die Makers',\n     '513020': 'PRD-Butchers And Other Meat, Poultry, And Fish Processing Workers',\n     '292072': 'MED-Medical Records Specialists',\n     '131082': 'BUS-Project Management Specialists',\n     '419010': 'SAL-Models, Demonstrators, And Product Promoters',\n     '1110XX': 'MGR-Chief Executives And Legislators',\n     '171012': 'ENG-Landscape Architects',\n     '439022': 'OFF-Word Processors And Typists',\n     '472070': 'CON-Construction Equipment Operators',\n     '112030': 'MGR-Public Relations And Fundraising Managers',\n     '112022': 'MGR-Sales Managers',\n     '391000': 'PRS-Supervisors of Personal Care And Service Workers',\n     '273091': 'ENT-Interpreters And Translators',\n     '192010': 'SCI-Astronomers And Physicists',\n     '472161': 'CON-Plasterers And Stucco Masons',\n     '312010': 'HLS-Occupational Therapy Assistants And Aides',\n     '519195': 'PRD-Molders, Shapers, And Casters, Except Metal And Plastic',\n     '252010': 'EDU-Preschool And Kindergarten Teachers',\n     '333050': 'PRT-Police Officers',\n     '516031': 'PRD-Sewing Machine Operators',\n     '492098': 'RPR-Security And Fire Alarm Systems Installers',\n     '319092': 'HLS-Medical Assistants',\n     '1940YY': 'SCI-Other Life, Physical, And Social Science Technicians',\n     '392021': 'PRS-Animal Caretakers',\n     '331090': 'PRT-Miscellaneous First-Line Supervisors, Protective Service Workers',\n     '472011': 'CON-Boilermakers',\n     '517021': 'PRD-Furniture Finishers',\n     '537070': 'TRN-Pumping Station Operators',\n     '472221': 'CON-Structural Iron And Steel Workers',\n     '493040': 'RPR-Heavy Vehicle And Mobile Equipment Service Technicians And Mechanics',\n     '537081': 'TRN-Refuse And Recyclable Material Collectors',\n     '5370XX': 'TRN-Conveyor, Dredge, And Hoist And Winch Operators',\n     '113071': 'MGR-Transportation, Storage, And Distribution Managers',\n     '493031': 'RPR-Bus And Truck Mechanics And Diesel Engine Specialists',\n     '517042': 'PRD-Woodworking Machine Setters, Operators, And Tenders, Except Sawing',\n     '493021': 'RPR-Automotive Body And Related Repairers',\n     '435032': 'OFF-Dispatchers, Except Police, Fire, And Ambulance',\n     '516060': 'PRD-Textile Machine Setters, Operators, And Tenders',\n     '151211': 'CMM-Computer Systems Analysts',\n     '371011': 'CLN-First-Line Supervisors Of Housekeeping And Janitorial Workers',\n     '254031': 'EDU-Library Technicians',\n     '519120': 'PRD-Painting Workers',\n     '172041': 'ENG-Chemical Engineers',\n     '195010': 'SCI-Occupational Health And Safety Specialists And Technicians',\n     '211011': 'CMS-Substance Abuse And Behavioral Disorder Counselors',\n     '292010': 'MED-Clinical Laboratory Technologists And Technicians',\n     '536051': 'TRN-Transportation Inspectors',\n     '434131': 'OFF-Loan Interviewers And Clerks',\n     '131021': 'BUS-Buyers And Purchasing Agents, Farm Products',\n     '211014': 'CMS-Mental Health Counselors',\n     '372012': 'CLN-Maids And Housekeeping Cleaners',\n     '514020': 'PRD-Forming Machine Setters, Operators, And Tenders, Metal And Plastic',\n     '131041': 'BUS-Compliance Officers',\n     '373013': 'CLN-Tree Trimmers And Pruners',\n     '5371XX': 'TRN-Other Material Moving Workers',\n     '51403X': 'PRD-Other Machine Tool Setters, Operators, And Tenders, Metal And Plastic',\n     '291240': 'MED-Surgeons',\n     '537061': 'TRN-Cleaners Of Vehicles And Equipment',\n     '499071': 'RPR-Maintenance And Repair Workers, General',\n     '291141': 'MED-Registered Nurses',\n     '37301X': 'CLN-Other Grounds Maintenance Workers',\n     '433021': 'OFF-Billing And Posting Clerks',\n     '49904X': 'RPR-Industrial And Refractory Machinery Mechanics'}}},\n  'MLPE': {'label': 'Served Vietnam era (August 1964 - April 1975)',\n   'predicateType': 'int',\n   'group': 'N/A',\n   'limit': 0,\n   'suggested-weight': 'PWGTP',\n   'values': {'item': {'0': 'Did not serve this period',\n     '-1': 'N/A (Less than 17 years old/no active duty)',\n     '1': 'Served This Period'}}},\n  'MLPH': {'label': 'Served Korean War (July 1950 - January 1955)',\n   'predicateType': 'int',\n   'group': 'N/A',\n   'limit': 0,\n   'suggested-weight': 'PWGTP',\n   'values': {'item': {'1': 'Served This Period',\n     '0': 'Did not serve this period',\n     '-1': 'N/A (Less than 17 years old/no active duty)'}}},\n  'MLPA': {'label': 'Served September 2001 or later',\n   'predicateType': 'int',\n   'group': 'N/A',\n   'limit': 0,\n   'suggested-weight': 'PWGTP',\n   'values': {'item': {'0': 'Did not serve this period',\n     '1': 'Served This Period',\n     '-1': 'N/A (Less than 17 years old/no active duty)'}}},\n  'FSMOCP': {'label': 'Selected monthly owner cost allocation flag',\n   'predicateType': 'int',\n   'group': 'N/A',\n   'limit': 0,\n   'suggested-weight': 'WGTP',\n   'values': {'item': {'-1': 'N/A (GQ)', '1': 'Yes', '0': 'No'}}},\n  'MLPB': {'label': 'Served August 1990 - August 2001 (including Persian Gulf War)',\n   'predicateType': 'int',\n   'group': 'N/A',\n   'limit': 0,\n   'suggested-weight': 'PWGTP',\n   'values': {'item': {'0': 'Did not serve this period',\n     '1': 'Served This Period',\n     '-1': 'N/A (Less than 17 years old/no active duty)'}}},\n  'FDOUTP': {'label': 'Independent living difficulty allocation flag',\n   'predicateType': 'int',\n   'group': 'N/A',\n   'limit': 0,\n   'suggested-weight': 'PWGTP',\n   'values': {'item': {'1': 'Yes', '0': 'No'}}},\n  'PERNP': {'label': \"Total person's earnings (use ADJINC to adjust to constant dollars)\",\n   'predicateType': 'int',\n   'group': 'N/A',\n   'limit': 0,\n   'suggested-weight': 'PWGTP',\n   'values': {'item': {'-10000': 'Loss of $10000 or more (Rounded and bottom-coded components)',\n     '0': 'No earnings',\n     '-10001': 'N/A (less than 16 years old)'},\n    'range': [{'min': '-9999',\n      'max': '-1',\n      'description': 'Loss $1 to $9999 (Rounded components)'},\n     {'min': '1',\n      'max': '1999998',\n      'description': '$1 to $1999998 (Rounded and top-coded components)'}]}},\n  'WKL': {'label': 'When last worked',\n   'predicateType': 'int',\n   'group': 'N/A',\n   'limit': 0,\n   'suggested-weight': 'PWGTP',\n   'values': {'item': {'2': '1-5 years ago',\n     '1': 'Within the past 12 months',\n     '0': 'N/A (less than 16 years old)',\n     '3': 'Over 5 years ago or never worked'}}},\n  'SCH': {'label': 'School enrollment',\n   'predicateType': 'int',\n   'group': 'N/A',\n   'limit': 0,\n   'suggested-weight': 'PWGTP',\n   'values': {'item': {'0': 'N/A (less than 3 years old)',\n     '3': 'Yes, private school or college or home school',\n     '1': 'No, has not attended in the last 3 months',\n     '2': 'Yes, public school or public college'}}},\n  'TEL': {'label': 'Telephone service',\n   'predicateType': 'int',\n   'group': 'N/A',\n   'limit': 0,\n   'suggested-weight': 'WGTP',\n   'values': {'item': {'1': 'Yes', '0': 'N/A (GQ/vacant)', '2': 'No'}}},\n  'TEN': {'label': 'Tenure',\n   'predicateType': 'int',\n   'group': 'N/A',\n   'limit': 0,\n   'suggested-weight': 'WGTP',\n   'values': {'item': {'1': 'Owned with mortgage or loan (include home equity loans)',\n     '0': 'N/A  (GQ/vacant)',\n     '4': 'Occupied without payment of rent',\n     '3': 'Rented',\n     '2': 'Owned Free And Clear'}}},\n  'MLPJ': {'label': 'Served World War II (December 1941 - December 1946)',\n   'predicateType': 'int',\n   'group': 'N/A',\n   'limit': 0,\n   'suggested-weight': 'PWGTP',\n   'values': {'item': {'1': 'Served This Period',\n     '0': 'Did not serve this period',\n     '-1': 'N/A (Less than 17 years old/no active duty)'}}}}}"
          },
          "execution_count": 21,
          "metadata": {}
        }
      ],
      "metadata": {
        "jupyter": {
          "source_hidden": false,
          "outputs_hidden": true
        },
        "nteract": {
          "transient": {
            "deleting": false
          }
        }
      },
      "source": [
        "results"
      ]
    },
    {
      "cell_type": "markdown",
      "metadata": {
        "nteract": {
          "transient": {
            "deleting": false
          }
        }
      },
      "source": [
        "### Find the keys\r\n",
        "It is easy to find the keys.  Running the following shows me that that is one key (variables).\r\n",
        "\r\n",
        "I can get the keys for the variables item."
      ]
    },
    {
      "cell_type": "code",
      "execution_count": 10,
      "outputs": [
        {
          "output_type": "display_data",
          "data": {
            "application/vnd.livy.statement-meta+json": {
              "spark_pool": "Main",
              "session_id": "18",
              "statement_id": 10,
              "state": "finished",
              "livy_statement_state": "available",
              "queued_time": "2023-03-18T18:40:25.0641325Z",
              "session_start_time": null,
              "execution_start_time": "2023-03-18T18:40:25.2151633Z",
              "execution_finish_time": "2023-03-18T18:40:25.3817612Z",
              "spark_jobs": null,
              "parent_msg_id": "fa99d9d7-0ca8-49cc-a656-ab8151eea9e1"
            },
            "text/plain": "StatementMeta(Main, 18, 10, Finished, Available)"
          },
          "metadata": {}
        },
        {
          "output_type": "execute_result",
          "data": {
            "text/plain": "dict_keys(['variables'])"
          },
          "execution_count": 23,
          "metadata": {}
        }
      ],
      "metadata": {
        "jupyter": {
          "source_hidden": false,
          "outputs_hidden": false
        },
        "nteract": {
          "transient": {
            "deleting": false
          }
        }
      },
      "source": [
        "results.keys()"
      ]
    },
    {
      "cell_type": "code",
      "execution_count": 10,
      "outputs": [
        {
          "output_type": "display_data",
          "data": {
            "application/vnd.livy.statement-meta+json": {
              "spark_pool": "Main",
              "session_id": "17",
              "statement_id": 10,
              "state": "finished",
              "livy_statement_state": "available",
              "queued_time": "2023-03-17T00:08:19.8763748Z",
              "session_start_time": null,
              "execution_start_time": "2023-03-17T00:08:20.0085658Z",
              "execution_finish_time": "2023-03-17T00:08:20.1775457Z",
              "spark_jobs": null,
              "parent_msg_id": "7d8a865e-a4d8-4f4d-b07e-b464914bac09"
            },
            "text/plain": "StatementMeta(Main, 17, 10, Finished, Available)"
          },
          "metadata": {}
        },
        {
          "output_type": "execute_result",
          "data": {
            "text/plain": "dict_keys(['for', 'in', 'ucgid', 'HHLANP', 'FBATHP', 'DRIVESP', 'WGTP23', 'WGTP22', 'WGTP25', 'WGTP24', 'RACNH', 'WGTP21', 'FWATP', 'WGTP20', 'WGTP27', 'WGTP26', 'WGTP29', 'WGTP28', 'FBROADBNDP', 'FDRATXP', 'FWKWNP', 'HOTWAT', 'FWKHP', 'FFULP', 'WORKSTAT', 'FRACP', 'FJWDP', 'WGTP34', 'WGTP33', 'WGTP36', 'PINCP', 'WGTP35', 'FPOBP', 'WGTP30', 'WGTP32', 'STOV', 'FMHP', 'WGTP31', 'RACAIAN', 'WGTP38', 'WGTP37', 'WGTP39', 'PUBCOV', 'SRNT', 'SEX', 'WGTP45', 'WGTP44', 'WGTP47', 'DOUT', 'FACCESSP', 'WGTP46', 'WGTP41', 'WGTP40', 'OTHSVCEX', 'WGTP43', 'WGTP42', 'RACPI', 'INDP', 'WGTP49', 'WGTP48', 'PRIVCOV', 'SFN', 'FINTP', 'HUPAC', 'SFR', 'WGTP50', 'FBLDP', 'WGTP56', 'WGTP55', 'WGTP58', 'WGTP57', 'WGTP52', 'WGTP51', 'DEAR', 'WGTP54', 'DIS', 'WGTP53', 'ACR', 'VACS', 'FINSP', 'WGTP59', 'FMILPP', 'MARHYP', 'ADJHSG', 'PAP', 'WGTP7', 'PWGTP30', 'WGTP6', 'PWGTP31', 'WGTP5', 'HINCP', 'PWGTP32', 'WKWN', 'WGTP4', 'PWGTP33', 'PWGTP34', 'PWGTP35', 'WGTP9', 'PWGTP36', 'WGTP8', 'WGTP3', 'WGTP2', 'RACWHT', 'WGTP1', 'GASP', 'PWGTP26', 'PWGTP27', 'PWGTP28', 'PWGTP29', 'FBDSP', 'FWKLP', 'FSCHP', 'FMARHTP', 'PWGTP20', 'PWGTP21', 'GRPIP', 'PWGTP22', 'PWGTP23', 'PWGTP24', 'PWGTP25', 'JWTRNS', 'FOTHSVCEXP', 'FRNTMP', 'CIT', 'HHLDRAGEP', 'LAPTOP', 'FMRGIP', 'JWRIP', 'PWGTP15', 'FCOMPOTHXP', 'PWGTP16', 'FSEMP', 'PWGTP17', 'PWGTP18', 'PWGTP19', 'ENG', 'FLANP', 'PWGTP10', 'PWGTP11', 'FCITWP', 'PWGTP12', 'PWGTP13', 'PWGTP14', 'FSSIP', 'FS', 'DIVISION', 'WRK', 'HICOV', 'DRATX', 'SMOCP', 'VPS', 'NWLA', 'FACRP', 'SCIENGRLP', 'FJWTRNSP', 'WGTP12', 'WGTP11', 'WGTP14', 'WGTP13', 'AGS', 'FSTOVP', 'HHLDRRAC1P', 'WGTP10', 'WGTP19', 'WGTP16', 'WGTP15', 'WGTP18', 'WGTP17', 'FMARHWP', 'FTELP', 'PWGTP73', 'PWGTP74', 'QTRBIR', 'PWGTP75', 'FPERNP', 'PWGTP76', 'PWGTP77', 'PWGTP78', 'PWGTP79', 'PWGTP70', 'PWGTP71', 'PWGTP72', 'FDISP', 'PWGTP', 'WAGP', 'RWAT', 'PWGTP62', 'PWGTP63', 'PWGTP64', 'PWGTP65', 'PWGTP66', 'FVACDURP', 'PWGTP67', 'PWGTP68', 'PWGTP69', 'FPLMPRP', 'TAXAMT', 'ANC2P', 'NWLK', 'PWGTP60', 'FPUBCOVP', 'PWGTP61', 'REGION', 'FMARHYP', 'FRETP', 'SMP', 'PWGTP59', 'FTENP', 'BLD', 'SMX', 'MAR', 'FVEHP', 'PWGTP51', 'PWGTP52', 'PWGTP53', 'PWGTP54', 'PWGTP55', 'GASFP', 'PWGTP56', 'PWGTP57', 'PWGTP58', 'VALP', 'HIMRKS', 'PWGTP50', 'FDEYEP', 'FCITP', 'RACNUM', 'PWGTP48', 'PWGTP49', 'FANCP', 'SPORDER', 'PWGTP40', 'PWGTP41', 'DRAT', 'PWGTP42', 'PWGTP43', 'MRGI', 'ESP', 'PWGTP44', 'WGTP', 'HHLDRHISP', 'PWGTP45', 'ESR', 'OCCP', 'PWGTP46', 'PWGTP47', 'FMRGP', 'COW', 'MRGP', 'TABLET', 'MRGX', 'MULTG', 'MRGT', 'PWGTP37', 'FOCCP', 'PWGTP38', 'PWGTP39', 'FREFRP', 'WGTP61', 'WGTP60', 'WGTP67', 'WGTP66', 'WGTP69', 'WGTP68', 'WGTP63', 'FRWATP', 'WGTP62', 'WGTP65', 'WGTP64', 'RAC1P', 'RNTM', 'DREM', 'MIGSP', 'FHICOVP', 'NWRE', 'FDIALUPP', 'VACDUR', 'RNTP', 'WGTP70', 'HUPAOC', 'WGTP72', 'WGTP71', 'WGTP78', 'MV', 'WGTP77', 'WGTP79', 'WGTP74', 'WGTP73', 'WGTP76', 'WGTP75', 'FAGSP', 'ANC', 'OIP', 'WGTP80', 'NP', 'NR', 'LNGI', 'ANC1P', 'HISPEED', 'PLM', 'FYRBLTP', 'RAC3P', 'OC', 'LANP', 'FLAPTOPP', 'FPRIVCOVP', 'LANX', 'HUPARC', 'FMVP', 'SVAL', 'PWGTP80', 'RAC2P', 'FPOWSP', 'SSP', 'FHIMRKSP', 'R18', 'NAICSP', 'WATFP', 'RMSP', 'FDRATP', 'BDSP', 'FGASP', 'RESMODE', 'FSEXP', 'MHP', 'REFR', 'POWSP', 'FPLMP', 'JWAP', 'DIALUP', 'ELEFP', 'RELSHIPP', 'MIG', 'MIL', 'RC', 'WAOB', 'FVACOTHP', 'FHINS7P', 'RT', 'INTP', 'RACASN', 'FRELSHIPP', 'FHISPEEDP', 'FINDP', 'FPAP', 'JWMNP', 'FHINS6P', 'FKITP', 'INSP', 'ST', 'FFINCP', 'FINCP', 'YOEP', 'HINS6', 'FSMXHP', 'HINS7', 'FTABLETP', 'FLANXP', 'FCOWP', 'GRNTP', 'FJWMNP', 'HINS1', 'HINS2', 'HINS3', 'HINS4', 'HINS5', 'FDDRSP', 'FWAGP', 'FGRNTP', 'PUMA', 'FHINS5P', 'FSCHGP', 'FHINS5C', 'FVACSP', 'FHOTWATP', 'R60', 'FMARHDP', 'R65', 'FMIGSP', 'MARHT', 'FHINS4P', 'DECADE', 'SERIALNO', 'MARHW', 'MARHM', 'FGCRP', 'YRBLT', 'FHINS4C', 'PSF', 'NOC', 'RACSOR', 'POBP', 'CPLT', 'TYPEHUGQ', 'NOP', 'FSMARTPHONP', 'FULP', 'FHINS3P', 'SINK', 'KIT', 'FVALP', 'CONCAT_ID', 'JWDP', 'WKEXREL', 'DPHY', 'FWRKP', 'NPF', 'FHINS3C', 'FDEARP', 'NPP', 'FHINS2P', 'FRWATPRP', 'FSCHLP', 'MLPCD', 'FPARC', 'MIGPUMA', 'HUGCL', 'DDRS', 'MARHD', 'FMRGXP', 'SATELLITE', 'FULFP', 'POVPIP', 'BATH', 'WATP', 'GCM', 'FSATELLITEP', 'FHINS1P', 'GCL', 'WKHP', 'RECORD_TYPE', 'GCR', 'FRNTP', 'NRC', 'HFL', 'FSMP', 'MLPIK', 'ACCESSINET', 'ADJINC', 'FRMSP', 'POWPUMA', 'PARTNER', 'FELEP', 'CONP', 'FMIGP', 'FFSP', 'FGCMP', 'HISP', 'FESRP', 'HHL', 'AGEP', 'DEYE', 'SEMP', 'HHT', 'OCPIP', 'FGCLP', 'FENGP', 'SCHG', 'FTAXP', 'MSP', 'RACBLK', 'FMRGTP', 'FAGEP', 'SCHL', 'MLPFG', 'PWGTP9', 'FER', 'PWGTP8', 'NATIVITY', 'PWGTP7', 'SMARTPHONE', 'PWGTP6', 'PWGTP5', 'PWGTP4', 'VEH', 'FFERP', 'PWGTP3', 'PWGTP2', 'PWGTP1', 'HHT2', 'VACOTH', 'FYOEP', 'FDREMP', 'NWAB', 'FCONP', 'FOIP', 'FHISP', 'FHINCP', 'BROADBND', 'NWAV', 'FDPHYP', 'PAOC', 'FFODP', 'FMARHMP', 'SSIP', 'FJWRIP', 'COMPOTHX', 'FSINKP', 'ELEP', 'FHFLP', 'WIF', 'FSMXSP', 'FOD2P', 'RETP', 'FSSP', 'PLMPRP', 'SCIENGP', 'CITWP', 'FMILSP', 'FPINCP', 'FOD1P', 'FMARP', 'SOCP', 'MLPE', 'MLPH', 'MLPA', 'FSMOCP', 'MLPB', 'FDOUTP', 'PERNP', 'WKL', 'SCH', 'TEL', 'TEN', 'MLPJ'])"
          },
          "execution_count": 23,
          "metadata": {}
        }
      ],
      "metadata": {
        "jupyter": {
          "source_hidden": false,
          "outputs_hidden": false
        },
        "nteract": {
          "transient": {
            "deleting": false
          }
        }
      },
      "source": [
        "results[\"variables\"].keys()"
      ]
    },
    {
      "cell_type": "code",
      "execution_count": 11,
      "outputs": [
        {
          "output_type": "display_data",
          "data": {
            "application/vnd.livy.statement-meta+json": {
              "spark_pool": "Main",
              "session_id": "18",
              "statement_id": 11,
              "state": "finished",
              "livy_statement_state": "available",
              "queued_time": "2023-03-18T18:41:32.5095817Z",
              "session_start_time": null,
              "execution_start_time": "2023-03-18T18:41:32.6440826Z",
              "execution_finish_time": "2023-03-18T18:41:32.804941Z",
              "spark_jobs": null,
              "parent_msg_id": "54cb1b3f-82f3-4f08-a62f-5ee7f12d1d90"
            },
            "text/plain": "StatementMeta(Main, 18, 11, Finished, Available)"
          },
          "metadata": {}
        },
        {
          "output_type": "execute_result",
          "data": {
            "text/plain": "{'24': 'All Other Spanish/Hispanic/Latino',\n '04': 'Cuban',\n '06': 'Costa Rican',\n '07': 'Guatemalan',\n '02': 'Mexican',\n '10': 'Panamanian',\n '15': 'Chilean',\n '05': 'Dominican',\n '09': 'Nicaraguan',\n '14': 'Bolivian',\n '19': 'Peruvian',\n '21': 'Venezuelan',\n '01': 'Not Spanish/Hispanic/Latino',\n '11': 'Salvadoran',\n '20': 'Uruguayan',\n '22': 'Other South American',\n '12': 'Other Central American',\n '13': 'Argentinean',\n '16': 'Colombian',\n '17': 'Ecuadorian',\n '18': 'Paraguayan',\n '0': 'N/A (GQ/vacant)',\n '23': 'Spaniard',\n '03': 'Puerto Rican',\n '08': 'Honduran'}"
          },
          "execution_count": 25,
          "metadata": {}
        }
      ],
      "metadata": {
        "jupyter": {
          "source_hidden": false,
          "outputs_hidden": false
        },
        "nteract": {
          "transient": {
            "deleting": false
          }
        }
      },
      "source": [
        "results[\"variables\"][\"HHLDRHISP\"][\"values\"][\"item\"]"
      ]
    },
    {
      "cell_type": "code",
      "execution_count": 12,
      "outputs": [
        {
          "output_type": "display_data",
          "data": {
            "application/vnd.livy.statement-meta+json": {
              "spark_pool": "Main",
              "session_id": "18",
              "statement_id": 12,
              "state": "finished",
              "livy_statement_state": "available",
              "queued_time": "2023-03-18T18:42:54.7851104Z",
              "session_start_time": null,
              "execution_start_time": "2023-03-18T18:42:54.9247858Z",
              "execution_finish_time": "2023-03-18T18:42:55.1189343Z",
              "spark_jobs": null,
              "parent_msg_id": "75834b2d-4aec-49aa-b218-c8bef4f66e73"
            },
            "text/plain": "StatementMeta(Main, 18, 12, Finished, Available)"
          },
          "metadata": {}
        }
      ],
      "metadata": {
        "jupyter": {
          "source_hidden": false,
          "outputs_hidden": false
        },
        "nteract": {
          "transient": {
            "deleting": false
          }
        }
      },
      "source": [
        "# https://sparkbyexamples.com/pyspark/pyspark-create-dataframe-from-dictionary/\r\n",
        "from pyspark.sql.types import StructField, StructType, StringType, MapType\r\n",
        "results[\"variables\"][\"HHLANP\"][\"values\"]\r\n",
        "dfPUMS = spark.createDataFrame(data = [results[\"variables\"][\"HHLANP\"][\"values\"]]  )"
      ]
    },
    {
      "cell_type": "code",
      "execution_count": 13,
      "outputs": [
        {
          "output_type": "display_data",
          "data": {
            "application/vnd.livy.statement-meta+json": {
              "spark_pool": "Main",
              "session_id": "18",
              "statement_id": 13,
              "state": "finished",
              "livy_statement_state": "available",
              "queued_time": "2023-03-18T18:43:07.0483579Z",
              "session_start_time": null,
              "execution_start_time": "2023-03-18T18:43:07.1912756Z",
              "execution_finish_time": "2023-03-18T18:43:07.3657446Z",
              "spark_jobs": null,
              "parent_msg_id": "7fcc5eec-4e32-49e3-99da-4c4d8a4d62d0"
            },
            "text/plain": "StatementMeta(Main, 18, 13, Finished, Available)"
          },
          "metadata": {}
        },
        {
          "output_type": "stream",
          "name": "stdout",
          "text": [
            "root\n |-- item: map (nullable = true)\n |    |-- key: string\n |    |-- value: string (valueContainsNull = true)\n\n"
          ]
        }
      ],
      "metadata": {
        "jupyter": {
          "source_hidden": false,
          "outputs_hidden": false
        },
        "nteract": {
          "transient": {
            "deleting": false
          }
        }
      },
      "source": [
        "dfPUMS.printSchema()"
      ]
    },
    {
      "cell_type": "code",
      "execution_count": 17,
      "outputs": [
        {
          "output_type": "display_data",
          "data": {
            "application/vnd.livy.statement-meta+json": {
              "spark_pool": "Main",
              "session_id": "18",
              "statement_id": 17,
              "state": "finished",
              "livy_statement_state": "available",
              "queued_time": "2023-03-18T18:46:07.7870899Z",
              "session_start_time": null,
              "execution_start_time": "2023-03-18T18:46:07.9281273Z",
              "execution_finish_time": "2023-03-18T18:46:08.1134212Z",
              "spark_jobs": null,
              "parent_msg_id": "f1b40ded-111e-496b-9d8e-fd287b620327"
            },
            "text/plain": "StatementMeta(Main, 18, 17, Finished, Available)"
          },
          "metadata": {}
        },
        {
          "output_type": "stream",
          "name": "stdout",
          "text": [
            "root\n |-- key: string (nullable = false)\n |-- value: string (nullable = true)\n\n"
          ]
        }
      ],
      "metadata": {
        "jupyter": {
          "source_hidden": false,
          "outputs_hidden": false
        },
        "nteract": {
          "transient": {
            "deleting": false
          }
        }
      },
      "source": [
        "# https://github.com/spark-examples/pyspark-examples/blob/master/pyspark-maptype-dataframe-column.py\r\n",
        "\r\n",
        "from pyspark.sql.functions import explode\r\n",
        "dfMetaData  = dfPUMS.select(explode(dfPUMS.item))\r\n",
        "dfMetaData.printSchema()"
      ]
    },
    {
      "cell_type": "code",
      "execution_count": 18,
      "outputs": [
        {
          "output_type": "display_data",
          "data": {
            "application/vnd.livy.statement-meta+json": {
              "spark_pool": "Main",
              "session_id": "18",
              "statement_id": 18,
              "state": "finished",
              "livy_statement_state": "available",
              "queued_time": "2023-03-18T18:46:16.8483774Z",
              "session_start_time": null,
              "execution_start_time": "2023-03-18T18:46:16.9780555Z",
              "execution_finish_time": "2023-03-18T18:46:29.8640346Z",
              "spark_jobs": null,
              "parent_msg_id": "ac5ebc81-25c6-499c-bbfa-0cf01099f3d7"
            },
            "text/plain": "StatementMeta(Main, 18, 18, Finished, Available)"
          },
          "metadata": {}
        },
        {
          "output_type": "stream",
          "name": "stdout",
          "text": [
            "+----+--------------------+\n| key|               value|\n+----+--------------------+\n|6230|       Gbe languages|\n|9500|English only hous...|\n|2430|                Thai|\n|1220|            Romanian|\n|1582|           Hungarian|\n|1340|        India N.E.C.|\n|2030|     Min Nan Chinese|\n|2270|      Chin languages|\n|1730|              Telugu|\n|1970|             Chinese|\n|1210|          Portuguese|\n|4565|Chaldean Neo-Aramaic|\n|4840|              Somali|\n|1737|             Kannada|\n|6120|    Akan (incl. Twi)|\n|5950|               Wolof|\n|1110|              German|\n|1231|               Irish|\n|2560|            Japanese|\n|1350|               Hindi|\n+----+--------------------+\nonly showing top 20 rows\n\n"
          ]
        }
      ],
      "metadata": {
        "jupyter": {
          "source_hidden": false,
          "outputs_hidden": false
        },
        "nteract": {
          "transient": {
            "deleting": false
          }
        },
        "collapsed": false
      },
      "source": [
        "dfMetaData.show()"
      ]
    },
    {
      "cell_type": "markdown",
      "metadata": {
        "nteract": {
          "transient": {
            "deleting": false
          }
        }
      },
      "source": []
    },
    {
      "cell_type": "markdown",
      "metadata": {
        "nteract": {
          "transient": {
            "deleting": false
          }
        }
      },
      "source": [
        "## CPS Basic Monthly\r\n",
        "This is the API used to query the Current Population Survey Basic Monthly data:  [CPS Basic Monthly (census.gov)\r\n",
        "](https://www.census.gov/data/developers/data-sets/census-microdata-api/cps/basic.html)\r\n",
        "\r\n",
        "The basic URL is https://api.census.gov/data/{year}/cps/basic/{month}\r\n",
        "\r\n",
        "The rest of the URL formatting is the same as PUMS."
      ]
    },
    {
      "cell_type": "markdown",
      "metadata": {
        "nteract": {
          "transient": {
            "deleting": false
          }
        }
      },
      "source": [
        "### Use case\r\n",
        "This is a job"
      ]
    },
    {
      "cell_type": "code",
      "execution_count": 74,
      "outputs": [
        {
          "output_type": "display_data",
          "data": {
            "application/vnd.livy.statement-meta+json": {
              "spark_pool": "Main",
              "session_id": "10",
              "statement_id": 61,
              "state": "finished",
              "livy_statement_state": "available",
              "queued_time": "2023-03-11T18:31:45.2228197Z",
              "session_start_time": null,
              "execution_start_time": "2023-03-11T18:31:45.3658887Z",
              "execution_finish_time": "2023-03-11T18:31:45.9799834Z",
              "spark_jobs": null,
              "parent_msg_id": "09efd79e-4bb3-49d3-895e-d73a3652cf8c"
            },
            "text/plain": "StatementMeta(Main, 10, 61, Finished, Available)"
          },
          "metadata": {}
        }
      ],
      "metadata": {
        "jupyter": {
          "source_hidden": false,
          "outputs_hidden": false
        },
        "nteract": {
          "transient": {
            "deleting": false
          }
        }
      },
      "source": [
        "queryURL = 'https://api.census.gov/data/2023/cps/basic/jan?get=PWSSWGT,PEHSPNON,PTIO2OCD&PTIO1OCD=1065'\r\n",
        "headers = {\r\n",
        "    'content-type': \"application/json\"\r\n",
        "}\r\n",
        "body = json.dumps({\r\n",
        "})\r\n",
        "\r\n",
        "results = executeRestApi(\"get\", queryURL, headers, body)"
      ]
    },
    {
      "cell_type": "code",
      "execution_count": 76,
      "outputs": [
        {
          "output_type": "display_data",
          "data": {
            "application/vnd.livy.statement-meta+json": {
              "spark_pool": "Main",
              "session_id": "10",
              "statement_id": 63,
              "state": "finished",
              "livy_statement_state": "available",
              "queued_time": "2023-03-11T18:31:58.6322106Z",
              "session_start_time": null,
              "execution_start_time": "2023-03-11T18:31:58.7970891Z",
              "execution_finish_time": "2023-03-11T18:31:59.012375Z",
              "spark_jobs": null,
              "parent_msg_id": "9d846a00-3e36-49b3-827e-e3f97beb5dfa"
            },
            "text/plain": "StatementMeta(Main, 10, 63, Finished, Available)"
          },
          "metadata": {}
        }
      ],
      "metadata": {
        "jupyter": {
          "source_hidden": false,
          "outputs_hidden": false
        },
        "nteract": {
          "transient": {
            "deleting": false
          }
        }
      },
      "source": [
        "df = spark.createDataFrame(results[1:], results[0])"
      ]
    },
    {
      "cell_type": "code",
      "execution_count": 77,
      "outputs": [
        {
          "output_type": "display_data",
          "data": {
            "application/vnd.livy.statement-meta+json": {
              "spark_pool": "Main",
              "session_id": "10",
              "statement_id": 64,
              "state": "finished",
              "livy_statement_state": "available",
              "queued_time": "2023-03-11T18:32:09.3194002Z",
              "session_start_time": null,
              "execution_start_time": "2023-03-11T18:32:09.4602339Z",
              "execution_finish_time": "2023-03-11T18:32:10.5905382Z",
              "spark_jobs": null,
              "parent_msg_id": "b24b53ed-b81d-48d3-a88c-d1ec6ae53e79"
            },
            "text/plain": "StatementMeta(Main, 10, 64, Finished, Available)"
          },
          "metadata": {}
        },
        {
          "output_type": "stream",
          "name": "stdout",
          "text": [
            "+---------+--------+--------+--------+--------+\n|  PWSSWGT|PEHSPNON|PTIO1OCD|PTIO2OCD|PTIO1OCD|\n+---------+--------+--------+--------+--------+\n|4291.4519|       2|    1065|      -1|    1065|\n|2458.0463|       2|    1065|      -1|    1065|\n|4041.1388|       2|    1065|      -1|    1065|\n| 736.2925|       2|    1065|      -1|    1065|\n|3829.3150|       2|    1065|      -1|    1065|\n|3064.9641|       2|    1065|      -1|    1065|\n|2914.9950|       2|    1065|      -1|    1065|\n|2168.3438|       2|    1065|      -1|    1065|\n| 547.5260|       2|    1065|      -1|    1065|\n|4802.3933|       2|    1065|      -1|    1065|\n|4876.6889|       2|    1065|      -1|    1065|\n| 870.7179|       2|    1065|      -1|    1065|\n|2980.3243|       2|    1065|      -1|    1065|\n|3743.4214|       2|    1065|      -1|    1065|\n|3141.1348|       2|    1065|      -1|    1065|\n|4530.3208|       2|    1065|      -1|    1065|\n|1125.8354|       2|    1065|      -1|    1065|\n| 415.1696|       2|    1065|      -1|    1065|\n|4135.3265|       2|    1065|      -1|    1065|\n|4773.5495|       2|    1065|      -1|    1065|\n+---------+--------+--------+--------+--------+\nonly showing top 20 rows\n\n"
          ]
        }
      ],
      "metadata": {
        "jupyter": {
          "source_hidden": false,
          "outputs_hidden": false
        },
        "nteract": {
          "transient": {
            "deleting": false
          }
        }
      },
      "source": [
        " df.show()"
      ]
    },
    {
      "cell_type": "markdown",
      "metadata": {
        "nteract": {
          "transient": {
            "deleting": false
          }
        }
      },
      "source": [
        "## Bureau of Labor Statistics reports\r\n",
        "This is based on some example code from the BLS web site.  It demonstrates how to use the post command.\r\n",
        "\r\n",
        "[Accessing the Public Data API with Python : U.S. Bureau of Labor Statistics (bls.gov)](https://www.bls.gov/developers/api_python.htm)"
      ]
    },
    {
      "cell_type": "code",
      "execution_count": 78,
      "outputs": [
        {
          "output_type": "display_data",
          "data": {
            "application/vnd.livy.statement-meta+json": {
              "spark_pool": "Main",
              "session_id": "10",
              "statement_id": 65,
              "state": "finished",
              "livy_statement_state": "available",
              "queued_time": "2023-03-11T18:37:14.3402214Z",
              "session_start_time": null,
              "execution_start_time": "2023-03-11T18:37:14.5006273Z",
              "execution_finish_time": "2023-03-11T18:37:15.1521912Z",
              "spark_jobs": null,
              "parent_msg_id": "6e49ee6a-b2d0-4265-975f-aafaf313db06"
            },
            "text/plain": "StatementMeta(Main, 10, 65, Finished, Available)"
          },
          "metadata": {}
        }
      ],
      "metadata": {
        "jupyter": {
          "source_hidden": false,
          "outputs_hidden": false
        },
        "nteract": {
          "transient": {
            "deleting": false
          }
        }
      },
      "source": [
        "queryURL = 'https://api.bls.gov/publicAPI/v2/timeseries/data/'\r\n",
        "headers = {\r\n",
        "    'content-type': \"application/json\"\r\n",
        "}\r\n",
        "body = json.dumps({\"seriesid\": ['CUUR0000SA0','SUUR0000SA0'],\"startyear\":\"2011\", \"endyear\":\"2014\"})\r\n",
        "\r\n",
        "results = executeRestApi(\"post\", queryURL, headers, body)"
      ]
    },
    {
      "cell_type": "code",
      "execution_count": 82,
      "outputs": [
        {
          "output_type": "display_data",
          "data": {
            "application/vnd.livy.statement-meta+json": {
              "spark_pool": "Main",
              "session_id": "10",
              "statement_id": 69,
              "state": "finished",
              "livy_statement_state": "available",
              "queued_time": "2023-03-11T18:46:00.529522Z",
              "session_start_time": null,
              "execution_start_time": "2023-03-11T18:46:00.6683832Z",
              "execution_finish_time": "2023-03-11T18:46:00.8395158Z",
              "spark_jobs": null,
              "parent_msg_id": "6cb7391c-f5c3-4c7a-9ad8-10e8d1efce56"
            },
            "text/plain": "StatementMeta(Main, 10, 69, Finished, Available)"
          },
          "metadata": {}
        },
        {
          "output_type": "execute_result",
          "data": {
            "text/plain": "{'status': 'REQUEST_SUCCEEDED',\n 'responseTime': 226,\n 'message': [],\n 'Results': {'series': [{'seriesID': 'CUUR0000SA0',\n    'data': [{'year': '2014',\n      'period': 'M12',\n      'periodName': 'December',\n      'value': '234.812',\n      'footnotes': [{}]},\n     {'year': '2014',\n      'period': 'M11',\n      'periodName': 'November',\n      'value': '236.151',\n      'footnotes': [{}]},\n     {'year': '2014',\n      'period': 'M10',\n      'periodName': 'October',\n      'value': '237.433',\n      'footnotes': [{}]},\n     {'year': '2014',\n      'period': 'M09',\n      'periodName': 'September',\n      'value': '238.031',\n      'footnotes': [{}]},\n     {'year': '2014',\n      'period': 'M08',\n      'periodName': 'August',\n      'value': '237.852',\n      'footnotes': [{}]},\n     {'year': '2014',\n      'period': 'M07',\n      'periodName': 'July',\n      'value': '238.250',\n      'footnotes': [{}]},\n     {'year': '2014',\n      'period': 'M06',\n      'periodName': 'June',\n      'value': '238.343',\n      'footnotes': [{}]},\n     {'year': '2014',\n      'period': 'M05',\n      'periodName': 'May',\n      'value': '237.900',\n      'footnotes': [{}]},\n     {'year': '2014',\n      'period': 'M04',\n      'periodName': 'April',\n      'value': '237.072',\n      'footnotes': [{}]},\n     {'year': '2014',\n      'period': 'M03',\n      'periodName': 'March',\n      'value': '236.293',\n      'footnotes': [{}]},\n     {'year': '2014',\n      'period': 'M02',\n      'periodName': 'February',\n      'value': '234.781',\n      'footnotes': [{}]},\n     {'year': '2014',\n      'period': 'M01',\n      'periodName': 'January',\n      'value': '233.916',\n      'footnotes': [{}]},\n     {'year': '2013',\n      'period': 'M12',\n      'periodName': 'December',\n      'value': '233.049',\n      'footnotes': [{}]},\n     {'year': '2013',\n      'period': 'M11',\n      'periodName': 'November',\n      'value': '233.069',\n      'footnotes': [{}]},\n     {'year': '2013',\n      'period': 'M10',\n      'periodName': 'October',\n      'value': '233.546',\n      'footnotes': [{}]},\n     {'year': '2013',\n      'period': 'M09',\n      'periodName': 'September',\n      'value': '234.149',\n      'footnotes': [{}]},\n     {'year': '2013',\n      'period': 'M08',\n      'periodName': 'August',\n      'value': '233.877',\n      'footnotes': [{}]},\n     {'year': '2013',\n      'period': 'M07',\n      'periodName': 'July',\n      'value': '233.596',\n      'footnotes': [{}]},\n     {'year': '2013',\n      'period': 'M06',\n      'periodName': 'June',\n      'value': '233.504',\n      'footnotes': [{}]},\n     {'year': '2013',\n      'period': 'M05',\n      'periodName': 'May',\n      'value': '232.945',\n      'footnotes': [{}]},\n     {'year': '2013',\n      'period': 'M04',\n      'periodName': 'April',\n      'value': '232.531',\n      'footnotes': [{}]},\n     {'year': '2013',\n      'period': 'M03',\n      'periodName': 'March',\n      'value': '232.773',\n      'footnotes': [{}]},\n     {'year': '2013',\n      'period': 'M02',\n      'periodName': 'February',\n      'value': '232.166',\n      'footnotes': [{}]},\n     {'year': '2013',\n      'period': 'M01',\n      'periodName': 'January',\n      'value': '230.280',\n      'footnotes': [{}]},\n     {'year': '2012',\n      'period': 'M12',\n      'periodName': 'December',\n      'value': '229.601',\n      'footnotes': [{}]},\n     {'year': '2012',\n      'period': 'M11',\n      'periodName': 'November',\n      'value': '230.221',\n      'footnotes': [{}]},\n     {'year': '2012',\n      'period': 'M10',\n      'periodName': 'October',\n      'value': '231.317',\n      'footnotes': [{}]},\n     {'year': '2012',\n      'period': 'M09',\n      'periodName': 'September',\n      'value': '231.407',\n      'footnotes': [{}]},\n     {'year': '2012',\n      'period': 'M08',\n      'periodName': 'August',\n      'value': '230.379',\n      'footnotes': [{}]},\n     {'year': '2012',\n      'period': 'M07',\n      'periodName': 'July',\n      'value': '229.104',\n      'footnotes': [{}]},\n     {'year': '2012',\n      'period': 'M06',\n      'periodName': 'June',\n      'value': '229.478',\n      'footnotes': [{}]},\n     {'year': '2012',\n      'period': 'M05',\n      'periodName': 'May',\n      'value': '229.815',\n      'footnotes': [{}]},\n     {'year': '2012',\n      'period': 'M04',\n      'periodName': 'April',\n      'value': '230.085',\n      'footnotes': [{}]},\n     {'year': '2012',\n      'period': 'M03',\n      'periodName': 'March',\n      'value': '229.392',\n      'footnotes': [{}]},\n     {'year': '2012',\n      'period': 'M02',\n      'periodName': 'February',\n      'value': '227.663',\n      'footnotes': [{}]},\n     {'year': '2012',\n      'period': 'M01',\n      'periodName': 'January',\n      'value': '226.665',\n      'footnotes': [{}]},\n     {'year': '2011',\n      'period': 'M12',\n      'periodName': 'December',\n      'value': '225.672',\n      'footnotes': [{}]},\n     {'year': '2011',\n      'period': 'M11',\n      'periodName': 'November',\n      'value': '226.230',\n      'footnotes': [{}]},\n     {'year': '2011',\n      'period': 'M10',\n      'periodName': 'October',\n      'value': '226.421',\n      'footnotes': [{}]},\n     {'year': '2011',\n      'period': 'M09',\n      'periodName': 'September',\n      'value': '226.889',\n      'footnotes': [{}]},\n     {'year': '2011',\n      'period': 'M08',\n      'periodName': 'August',\n      'value': '226.545',\n      'footnotes': [{}]},\n     {'year': '2011',\n      'period': 'M07',\n      'periodName': 'July',\n      'value': '225.922',\n      'footnotes': [{}]},\n     {'year': '2011',\n      'period': 'M06',\n      'periodName': 'June',\n      'value': '225.722',\n      'footnotes': [{}]},\n     {'year': '2011',\n      'period': 'M05',\n      'periodName': 'May',\n      'value': '225.964',\n      'footnotes': [{}]},\n     {'year': '2011',\n      'period': 'M04',\n      'periodName': 'April',\n      'value': '224.906',\n      'footnotes': [{}]},\n     {'year': '2011',\n      'period': 'M03',\n      'periodName': 'March',\n      'value': '223.467',\n      'footnotes': [{}]},\n     {'year': '2011',\n      'period': 'M02',\n      'periodName': 'February',\n      'value': '221.309',\n      'footnotes': [{}]},\n     {'year': '2011',\n      'period': 'M01',\n      'periodName': 'January',\n      'value': '220.223',\n      'footnotes': [{}]}]},\n   {'seriesID': 'SUUR0000SA0',\n    'data': [{'year': '2014',\n      'period': 'M12',\n      'periodName': 'December',\n      'value': '134.207',\n      'footnotes': [{}]},\n     {'year': '2014',\n      'period': 'M11',\n      'periodName': 'November',\n      'value': '135.107',\n      'footnotes': [{}]},\n     {'year': '2014',\n      'period': 'M10',\n      'periodName': 'October',\n      'value': '135.891',\n      'footnotes': [{}]},\n     {'year': '2014',\n      'period': 'M09',\n      'periodName': 'September',\n      'value': '136.211',\n      'footnotes': [{}]},\n     {'year': '2014',\n      'period': 'M08',\n      'periodName': 'August',\n      'value': '136.127',\n      'footnotes': [{}]},\n     {'year': '2014',\n      'period': 'M07',\n      'periodName': 'July',\n      'value': '136.392',\n      'footnotes': [{}]},\n     {'year': '2014',\n      'period': 'M06',\n      'periodName': 'June',\n      'value': '136.433',\n      'footnotes': [{}]},\n     {'year': '2014',\n      'period': 'M05',\n      'periodName': 'May',\n      'value': '136.216',\n      'footnotes': [{}]},\n     {'year': '2014',\n      'period': 'M04',\n      'periodName': 'April',\n      'value': '135.771',\n      'footnotes': [{}]},\n     {'year': '2014',\n      'period': 'M03',\n      'periodName': 'March',\n      'value': '135.375',\n      'footnotes': [{}]},\n     {'year': '2014',\n      'period': 'M02',\n      'periodName': 'February',\n      'value': '134.542',\n      'footnotes': [{}]},\n     {'year': '2014',\n      'period': 'M01',\n      'periodName': 'January',\n      'value': '134.017',\n      'footnotes': [{}]},\n     {'year': '2013',\n      'period': 'M12',\n      'periodName': 'December',\n      'value': '133.509',\n      'footnotes': [{}]},\n     {'year': '2013',\n      'period': 'M11',\n      'periodName': 'November',\n      'value': '133.596',\n      'footnotes': [{}]},\n     {'year': '2013',\n      'period': 'M10',\n      'periodName': 'October',\n      'value': '133.876',\n      'footnotes': [{}]},\n     {'year': '2013',\n      'period': 'M09',\n      'periodName': 'September',\n      'value': '134.255',\n      'footnotes': [{}]},\n     {'year': '2013',\n      'period': 'M08',\n      'periodName': 'August',\n      'value': '134.098',\n      'footnotes': [{}]},\n     {'year': '2013',\n      'period': 'M07',\n      'periodName': 'July',\n      'value': '133.919',\n      'footnotes': [{}]},\n     {'year': '2013',\n      'period': 'M06',\n      'periodName': 'June',\n      'value': '133.900',\n      'footnotes': [{}]},\n     {'year': '2013',\n      'period': 'M05',\n      'periodName': 'May',\n      'value': '133.626',\n      'footnotes': [{}]},\n     {'year': '2013',\n      'period': 'M04',\n      'periodName': 'April',\n      'value': '133.421',\n      'footnotes': [{}]},\n     {'year': '2013',\n      'period': 'M03',\n      'periodName': 'March',\n      'value': '133.558',\n      'footnotes': [{}]},\n     {'year': '2013',\n      'period': 'M02',\n      'periodName': 'February',\n      'value': '133.204',\n      'footnotes': [{}]},\n     {'year': '2013',\n      'period': 'M01',\n      'periodName': 'January',\n      'value': '132.137',\n      'footnotes': [{}]},\n     {'year': '2012',\n      'period': 'M12',\n      'periodName': 'December',\n      'value': '131.770',\n      'footnotes': [{}]},\n     {'year': '2012',\n      'period': 'M11',\n      'periodName': 'November',\n      'value': '132.208',\n      'footnotes': [{}]},\n     {'year': '2012',\n      'period': 'M10',\n      'periodName': 'October',\n      'value': '132.892',\n      'footnotes': [{}]},\n     {'year': '2012',\n      'period': 'M09',\n      'periodName': 'September',\n      'value': '132.988',\n      'footnotes': [{}]},\n     {'year': '2012',\n      'period': 'M08',\n      'periodName': 'August',\n      'value': '132.430',\n      'footnotes': [{}]},\n     {'year': '2012',\n      'period': 'M07',\n      'periodName': 'July',\n      'value': '131.731',\n      'footnotes': [{}]},\n     {'year': '2012',\n      'period': 'M06',\n      'periodName': 'June',\n      'value': '131.956',\n      'footnotes': [{}]},\n     {'year': '2012',\n      'period': 'M05',\n      'periodName': 'May',\n      'value': '132.154',\n      'footnotes': [{}]},\n     {'year': '2012',\n      'period': 'M04',\n      'periodName': 'April',\n      'value': '132.284',\n      'footnotes': [{}]},\n     {'year': '2012',\n      'period': 'M03',\n      'periodName': 'March',\n      'value': '131.905',\n      'footnotes': [{}]},\n     {'year': '2012',\n      'period': 'M02',\n      'periodName': 'February',\n      'value': '130.953',\n      'footnotes': [{}]},\n     {'year': '2012',\n      'period': 'M01',\n      'periodName': 'January',\n      'value': '130.438',\n      'footnotes': [{}]},\n     {'year': '2011',\n      'period': 'M12',\n      'periodName': 'December',\n      'value': '129.844',\n      'footnotes': [{}]},\n     {'year': '2011',\n      'period': 'M11',\n      'periodName': 'November',\n      'value': '130.196',\n      'footnotes': [{}]},\n     {'year': '2011',\n      'period': 'M10',\n      'periodName': 'October',\n      'value': '130.373',\n      'footnotes': [{}]},\n     {'year': '2011',\n      'period': 'M09',\n      'periodName': 'September',\n      'value': '130.635',\n      'footnotes': [{}]},\n     {'year': '2011',\n      'period': 'M08',\n      'periodName': 'August',\n      'value': '130.351',\n      'footnotes': [{}]},\n     {'year': '2011',\n      'period': 'M07',\n      'periodName': 'July',\n      'value': '129.983',\n      'footnotes': [{}]},\n     {'year': '2011',\n      'period': 'M06',\n      'periodName': 'June',\n      'value': '129.846',\n      'footnotes': [{}]},\n     {'year': '2011',\n      'period': 'M05',\n      'periodName': 'May',\n      'value': '129.999',\n      'footnotes': [{}]},\n     {'year': '2011',\n      'period': 'M04',\n      'periodName': 'April',\n      'value': '129.483',\n      'footnotes': [{}]},\n     {'year': '2011',\n      'period': 'M03',\n      'periodName': 'March',\n      'value': '128.585',\n      'footnotes': [{}]},\n     {'year': '2011',\n      'period': 'M02',\n      'periodName': 'February',\n      'value': '127.363',\n      'footnotes': [{}]},\n     {'year': '2011',\n      'period': 'M01',\n      'periodName': 'January',\n      'value': '126.778',\n      'footnotes': [{}]}]}]}}"
          },
          "execution_count": 141,
          "metadata": {}
        }
      ],
      "metadata": {
        "jupyter": {
          "source_hidden": false,
          "outputs_hidden": false
        },
        "nteract": {
          "transient": {
            "deleting": false
          }
        }
      },
      "source": [
        "results"
      ]
    },
    {
      "cell_type": "markdown",
      "metadata": {
        "nteract": {
          "transient": {
            "deleting": false
          }
        }
      },
      "source": [
        "### Parse the json\r\n",
        "If you know how to read this, you begin to parse this.  It is JSON.\r\n",
        "\r\n",
        "At the top, you have one object (between curly braces {}).  That object has properties, which PySpark treats as a dictionary.  To get the value, just have take the results and ask for the property name."
      ]
    },
    {
      "cell_type": "code",
      "execution_count": 86,
      "outputs": [
        {
          "output_type": "display_data",
          "data": {
            "application/vnd.livy.statement-meta+json": {
              "spark_pool": "Main",
              "session_id": "10",
              "statement_id": 73,
              "state": "finished",
              "livy_statement_state": "available",
              "queued_time": "2023-03-11T18:50:10.5471229Z",
              "session_start_time": null,
              "execution_start_time": "2023-03-11T18:50:10.6814275Z",
              "execution_finish_time": "2023-03-11T18:50:10.8507801Z",
              "spark_jobs": null,
              "parent_msg_id": "c0cd1d1a-d07b-472f-8fe6-f6af02245c73"
            },
            "text/plain": "StatementMeta(Main, 10, 73, Finished, Available)"
          },
          "metadata": {}
        },
        {
          "output_type": "stream",
          "name": "stdout",
          "text": [
            "REQUEST_SUCCEEDED\n226\n"
          ]
        }
      ],
      "metadata": {
        "jupyter": {
          "source_hidden": false,
          "outputs_hidden": false
        },
        "nteract": {
          "transient": {
            "deleting": false
          }
        }
      },
      "source": [
        "print(results[\"status\"])\r\n",
        "print(results[\"responseTime\"])\r\n",
        ""
      ]
    },
    {
      "cell_type": "markdown",
      "metadata": {
        "nteract": {
          "transient": {
            "deleting": false
          }
        }
      },
      "source": [
        "### Create dataframe\r\n",
        "The Results element is another dictionary, with a property (series) that is an array of dictionary structures.  createDateFrame works very nicely with that array."
      ]
    },
    {
      "cell_type": "code",
      "execution_count": 87,
      "outputs": [
        {
          "output_type": "display_data",
          "data": {
            "application/vnd.livy.statement-meta+json": {
              "spark_pool": "Main",
              "session_id": "10",
              "statement_id": 74,
              "state": "finished",
              "livy_statement_state": "available",
              "queued_time": "2023-03-11T18:51:21.9772615Z",
              "session_start_time": null,
              "execution_start_time": "2023-03-11T18:51:22.1661364Z",
              "execution_finish_time": "2023-03-11T18:51:22.3415791Z",
              "spark_jobs": null,
              "parent_msg_id": "7e251bfe-1b0e-4754-8bb7-78863689c775"
            },
            "text/plain": "StatementMeta(Main, 10, 74, Finished, Available)"
          },
          "metadata": {}
        }
      ],
      "metadata": {
        "jupyter": {
          "source_hidden": false,
          "outputs_hidden": false
        },
        "nteract": {
          "transient": {
            "deleting": false
          }
        }
      },
      "source": [
        "df = spark.createDataFrame(results[\"Results\"][\"series\"] )"
      ]
    },
    {
      "cell_type": "code",
      "execution_count": 88,
      "outputs": [
        {
          "output_type": "display_data",
          "data": {
            "application/vnd.livy.statement-meta+json": {
              "spark_pool": "Main",
              "session_id": "10",
              "statement_id": 75,
              "state": "finished",
              "livy_statement_state": "available",
              "queued_time": "2023-03-11T18:51:42.660414Z",
              "session_start_time": null,
              "execution_start_time": "2023-03-11T18:51:42.8205018Z",
              "execution_finish_time": "2023-03-11T18:51:43.9490326Z",
              "spark_jobs": null,
              "parent_msg_id": "1497a3e3-de26-4097-a351-edc15533333d"
            },
            "text/plain": "StatementMeta(Main, 10, 75, Finished, Available)"
          },
          "metadata": {}
        },
        {
          "output_type": "display_data",
          "data": {
            "application/vnd.synapse.widget-view+json": {
              "widget_id": "accfac01-c0b6-4ce1-8b42-1161f847c96c",
              "widget_type": "Synapse.DataFrame"
            },
            "text/plain": "SynapseWidget(Synapse.DataFrame, accfac01-c0b6-4ce1-8b42-1161f847c96c)"
          },
          "metadata": {}
        }
      ],
      "metadata": {
        "jupyter": {
          "source_hidden": false,
          "outputs_hidden": false
        },
        "nteract": {
          "transient": {
            "deleting": false
          }
        },
        "collapsed": false
      },
      "source": [
        "display(df)"
      ]
    },
    {
      "cell_type": "markdown",
      "metadata": {
        "nteract": {
          "transient": {
            "deleting": false
          }
        }
      },
      "source": [
        "## GSA Regulations\r\n",
        "This is used to get information about regulations.  Once you have the information, you can submit comments using this API.\r\n",
        "\r\n",
        "https://open.gsa.gov/api/regulationsgov/"
      ]
    },
    {
      "cell_type": "code",
      "execution_count": 15,
      "outputs": [
        {
          "output_type": "display_data",
          "data": {
            "application/vnd.livy.statement-meta+json": {
              "spark_pool": "Main",
              "session_id": "13",
              "statement_id": 15,
              "state": "finished",
              "livy_statement_state": "available",
              "queued_time": "2023-03-12T01:22:15.7383502Z",
              "session_start_time": null,
              "execution_start_time": "2023-03-12T01:22:15.8848364Z",
              "execution_finish_time": "2023-03-12T01:22:16.4628598Z",
              "spark_jobs": null,
              "parent_msg_id": "3412c90f-ca45-42c3-aa9a-598b2dc5497f"
            },
            "text/plain": "StatementMeta(Main, 13, 15, Finished, Available)"
          },
          "metadata": {}
        }
      ],
      "metadata": {
        "jupyter": {
          "source_hidden": false,
          "outputs_hidden": false
        },
        "nteract": {
          "transient": {
            "deleting": false
          }
        }
      },
      "source": [
        "GSAKey = mssparkutils.credentials.getSecret(\"Loski-202303\", \"GSAKey\")\r\n",
        "queryURL = 'https://api.regulations.gov/v4/documents?filter[searchTerm]=water&api_key=' + GSAKey\r\n",
        "headers = {\r\n",
        "    'content-type': \"application/json\" \r\n",
        "}\r\n",
        "body = json.dumps({})\r\n",
        "\r\n",
        "results = executeRestApi(\"get\", queryURL, headers, body)"
      ]
    },
    {
      "cell_type": "code",
      "execution_count": 16,
      "outputs": [
        {
          "output_type": "display_data",
          "data": {
            "application/vnd.livy.statement-meta+json": {
              "spark_pool": "Main",
              "session_id": "13",
              "statement_id": 16,
              "state": "finished",
              "livy_statement_state": "available",
              "queued_time": "2023-03-12T01:22:18.7558567Z",
              "session_start_time": null,
              "execution_start_time": "2023-03-12T01:22:18.9264467Z",
              "execution_finish_time": "2023-03-12T01:22:19.1032867Z",
              "spark_jobs": null,
              "parent_msg_id": "b107ade8-22c8-45d7-a7e8-b1dc91f40b08"
            },
            "text/plain": "StatementMeta(Main, 13, 16, Finished, Available)"
          },
          "metadata": {}
        }
      ],
      "metadata": {
        "jupyter": {
          "source_hidden": false,
          "outputs_hidden": false
        },
        "nteract": {
          "transient": {
            "deleting": false
          }
        }
      },
      "source": [
        "results"
      ]
    },
    {
      "cell_type": "markdown",
      "metadata": {
        "nteract": {
          "transient": {
            "deleting": false
          }
        }
      },
      "source": [
        "## CMS Marketplace API"
      ]
    },
    {
      "cell_type": "code",
      "execution_count": 9,
      "outputs": [
        {
          "output_type": "display_data",
          "data": {
            "application/vnd.livy.statement-meta+json": {
              "spark_pool": "Main",
              "session_id": "14",
              "statement_id": 9,
              "state": "finished",
              "livy_statement_state": "available",
              "queued_time": "2023-03-14T11:21:53.9442835Z",
              "session_start_time": null,
              "execution_start_time": "2023-03-14T11:21:54.0945425Z",
              "execution_finish_time": "2023-03-14T11:21:54.6562426Z",
              "spark_jobs": null,
              "parent_msg_id": "b5955787-76b9-4901-a84c-0c9fee46b6b7"
            },
            "text/plain": "StatementMeta(Main, 14, 9, Finished, Available)"
          },
          "metadata": {}
        }
      ],
      "metadata": {
        "jupyter": {
          "source_hidden": false,
          "outputs_hidden": false
        },
        "nteract": {
          "transient": {
            "deleting": false
          }
        }
      },
      "source": [
        "CMSKey =  mssparkutils.credentials.getSecret('Loski-202303','CMSKey')\r\n",
        "\r\n",
        "\r\n",
        "queryURL = 'https://marketplace.api.healthcare.gov/api/v1/counties/by/zip/76051?apikey=' + CMSKey\r\n",
        "headers = {\r\n",
        "    'content-type': \"application/json\"\r\n",
        "}\r\n",
        "body = json.dumps({})\r\n",
        "\r\n",
        "results = executeRestApi(\"post\", queryURL, headers, body)"
      ]
    },
    {
      "cell_type": "code",
      "execution_count": 10,
      "outputs": [
        {
          "output_type": "display_data",
          "data": {
            "application/vnd.livy.statement-meta+json": {
              "spark_pool": "Main",
              "session_id": "14",
              "statement_id": 10,
              "state": "finished",
              "livy_statement_state": "available",
              "queued_time": "2023-03-14T11:22:00.0996121Z",
              "session_start_time": null,
              "execution_start_time": "2023-03-14T11:22:00.2606611Z",
              "execution_finish_time": "2023-03-14T11:22:00.4285229Z",
              "spark_jobs": null,
              "parent_msg_id": "bd482f91-37a2-4411-bc24-123e72815d0e"
            },
            "text/plain": "StatementMeta(Main, 14, 10, Finished, Available)"
          },
          "metadata": {}
        }
      ],
      "metadata": {
        "jupyter": {
          "source_hidden": false,
          "outputs_hidden": false
        },
        "nteract": {
          "transient": {
            "deleting": false
          }
        }
      },
      "source": [
        "results"
      ]
    },
    {
      "cell_type": "code",
      "execution_count": 19,
      "outputs": [
        {
          "output_type": "display_data",
          "data": {
            "application/vnd.livy.statement-meta+json": {
              "spark_pool": "Main",
              "session_id": "18",
              "statement_id": 19,
              "state": "finished",
              "livy_statement_state": "available",
              "queued_time": "2023-03-18T18:51:17.1966162Z",
              "session_start_time": null,
              "execution_start_time": "2023-03-18T18:51:17.3325809Z",
              "execution_finish_time": "2023-03-18T18:51:17.8976613Z",
              "spark_jobs": null,
              "parent_msg_id": "530751de-c105-4f55-9dad-4bc6a17af8b4"
            },
            "text/plain": "StatementMeta(Main, 18, 19, Finished, Available)"
          },
          "metadata": {}
        }
      ],
      "metadata": {
        "jupyter": {
          "source_hidden": false,
          "outputs_hidden": false
        },
        "nteract": {
          "transient": {
            "deleting": false
          }
        }
      },
      "source": [
        "CMSKey =  mssparkutils.credentials.getSecret('Loski-202303','CMSKey')\r\n",
        "\r\n",
        "queryURL = 'https://marketplace.api.healthcare.gov/api/v1/plans/search?apikey=' + CMSKey\r\n",
        "headers = {\r\n",
        "    'content-type': \"application/json\"\r\n",
        "}\r\n",
        "body = json.dumps(\r\n",
        "     {\r\n",
        "    \"household\": {\r\n",
        "      \"income\": 52000,\r\n",
        "      \"people\": [\r\n",
        "        {\r\n",
        "          \"age\": 27,\r\n",
        "          \"aptc_eligible\": True,\r\n",
        "          \"gender\": \"Female\",\r\n",
        "          \"uses_tobacco\": False\r\n",
        "        }\r\n",
        "      ]\r\n",
        "    },\r\n",
        "    \"market\": \"Individual\",\r\n",
        "    \"place\": {\r\n",
        "      \"countyfips\": \"22033\",\r\n",
        "      \"state\": \"LA\",\r\n",
        "      \"zipcode\": \"70810\"\r\n",
        "    },\r\n",
        "    \"year\": 2019\r\n",
        "}\r\n",
        "\r\n",
        ")\r\n",
        "\r\n",
        "results = executeRestApi(\"post\", queryURL, headers, body)"
      ]
    },
    {
      "cell_type": "code",
      "execution_count": 20,
      "outputs": [
        {
          "output_type": "display_data",
          "data": {
            "application/vnd.livy.statement-meta+json": {
              "spark_pool": "Main",
              "session_id": "18",
              "statement_id": 20,
              "state": "finished",
              "livy_statement_state": "available",
              "queued_time": "2023-03-18T18:51:24.9235752Z",
              "session_start_time": null,
              "execution_start_time": "2023-03-18T18:51:25.0518884Z",
              "execution_finish_time": "2023-03-18T18:51:25.254596Z",
              "spark_jobs": null,
              "parent_msg_id": "d1729dec-0d25-4983-84b2-1bd27fc0bfeb"
            },
            "text/plain": "StatementMeta(Main, 18, 20, Finished, Available)"
          },
          "metadata": {}
        },
        {
          "output_type": "execute_result",
          "data": {
            "text/plain": "{'plans': [{'id': '19636LA0230006',\n   'name': 'Community Blue 70/50 $4500',\n   'premium': 263.91,\n   'premium_w_credit': 263.91,\n   'ehb_premium': 263.91,\n   'pediatric_ehb_premium': 0,\n   'aptc_eligible_premium': 263.91,\n   'metal_level': 'Bronze',\n   'type': 'POS',\n   'state': 'LA',\n   'benefits': [{'name': 'Primary Care Visit to Treat an Injury or Illness',\n     'covered': True,\n     'cost_sharings': [{'coinsurance_rate': 0.3,\n       'coinsurance_options': 'Coinsurance after deductible',\n       'copay_amount': 0,\n       'copay_options': 'Not Applicable',\n       'network_tier': 'In-Network',\n       'csr': 'Exchange variant (no CSR)',\n       'display_string': '30% Coinsurance after deductible'},\n      {'coinsurance_rate': 0.5,\n       'coinsurance_options': 'Coinsurance after deductible',\n       'copay_amount': 0,\n       'copay_options': 'Not Applicable',\n       'network_tier': 'Out-of-Network',\n       'csr': 'Exchange variant (no CSR)',\n       'display_string': '50% Coinsurance after deductible'}],\n     'explanation': '',\n     'exclusions': '',\n     'has_limits': False,\n     'limit_unit': '',\n     'limit_quantity': 0},\n    {'name': 'Dental Check-Up for Children',\n     'covered': True,\n     'cost_sharings': [{'coinsurance_rate': 0,\n       'coinsurance_options': 'No Charge',\n       'copay_amount': 0,\n       'copay_options': 'No Charge',\n       'network_tier': 'In-Network',\n       'csr': 'Exchange variant (no CSR)',\n       'display_string': 'No Charge'},\n      {'coinsurance_rate': 0,\n       'coinsurance_options': 'No Charge',\n       'copay_amount': 0,\n       'copay_options': 'No Charge',\n       'network_tier': 'Out-of-Network',\n       'csr': 'Exchange variant (no CSR)',\n       'display_string': 'No Charge'}],\n     'explanation': '',\n     'exclusions': '',\n     'has_limits': True,\n     'limit_unit': 'visit(s) per 6 months',\n     'limit_quantity': 1},\n    {'name': 'Major Dental Care - Child',\n     'covered': True,\n     'cost_sharings': [{'coinsurance_rate': 0.5,\n       'coinsurance_options': 'Coinsurance after deductible',\n       'copay_amount': 0,\n       'copay_options': 'Not Applicable',\n       'network_tier': 'In-Network',\n       'csr': 'Exchange variant (no CSR)',\n       'display_string': '50% Coinsurance after deductible'},\n      {'coinsurance_rate': 0.5,\n       'coinsurance_options': 'Coinsurance after deductible',\n       'copay_amount': 0,\n       'copay_options': 'Not Applicable',\n       'network_tier': 'Out-of-Network',\n       'csr': 'Exchange variant (no CSR)',\n       'display_string': '50% Coinsurance after deductible'}],\n     'explanation': '',\n     'exclusions': '',\n     'has_limits': False,\n     'limit_unit': '',\n     'limit_quantity': 0},\n    {'name': 'Specialist Visit',\n     'covered': True,\n     'cost_sharings': [{'coinsurance_rate': 0.3,\n       'coinsurance_options': 'Coinsurance after deductible',\n       'copay_amount': 0,\n       'copay_options': 'Not Applicable',\n       'network_tier': 'In-Network',\n       'csr': 'Exchange variant (no CSR)',\n       'display_string': '30% Coinsurance after deductible'},\n      {'coinsurance_rate': 0.5,\n       'coinsurance_options': 'Coinsurance after deductible',\n       'copay_amount': 0,\n       'copay_options': 'Not Applicable',\n       'network_tier': 'Out-of-Network',\n       'csr': 'Exchange variant (no CSR)',\n       'display_string': '50% Coinsurance after deductible'}],\n     'explanation': '',\n     'exclusions': '',\n     'has_limits': False,\n     'limit_unit': '',\n     'limit_quantity': 0},\n    {'name': 'Emergency Room Services',\n     'covered': True,\n     'cost_sharings': [{'coinsurance_rate': 0.3,\n       'coinsurance_options': 'Coinsurance after deductible',\n       'copay_amount': 0,\n       'copay_options': 'Not Applicable',\n       'network_tier': 'In-Network',\n       'csr': 'Exchange variant (no CSR)',\n       'display_string': '30% Coinsurance after deductible'},\n      {'coinsurance_rate': 0.3,\n       'coinsurance_options': 'Coinsurance after deductible',\n       'copay_amount': 0,\n       'copay_options': 'Not Applicable',\n       'network_tier': 'Out-of-Network',\n       'csr': 'Exchange variant (no CSR)',\n       'display_string': '30% Coinsurance after deductible'}],\n     'explanation': '',\n     'exclusions': '',\n     'has_limits': False,\n     'limit_unit': '',\n     'limit_quantity': 0},\n    {'name': 'Basic Dental Care - Child',\n     'covered': True,\n     'cost_sharings': [{'coinsurance_rate': 0.5,\n       'coinsurance_options': 'Coinsurance after deductible',\n       'copay_amount': 0,\n       'copay_options': 'Not Applicable',\n       'network_tier': 'In-Network',\n       'csr': 'Exchange variant (no CSR)',\n       'display_string': '50% Coinsurance after deductible'},\n      {'coinsurance_rate': 0.5,\n       'coinsurance_options': 'Coinsurance after deductible',\n       'copay_amount': 0,\n       'copay_options': 'Not Applicable',\n       'network_tier': 'Out-of-Network',\n       'csr': 'Exchange variant (no CSR)',\n       'display_string': '50% Coinsurance after deductible'}],\n     'explanation': '',\n     'exclusions': '',\n     'has_limits': False,\n     'limit_unit': '',\n     'limit_quantity': 0},\n    {'name': 'Generic Drugs',\n     'covered': True,\n     'cost_sharings': [{'coinsurance_rate': 0.3,\n       'coinsurance_options': 'Coinsurance after deductible',\n       'copay_amount': 0,\n       'copay_options': 'Not Applicable',\n       'network_tier': 'In-Network',\n       'csr': 'Exchange variant (no CSR)',\n       'display_string': '30% Coinsurance after deductible'},\n      {'coinsurance_rate': 0.3,\n       'coinsurance_options': 'Coinsurance after deductible',\n       'copay_amount': 0,\n       'copay_options': 'Not Applicable',\n       'network_tier': 'Out-of-Network',\n       'csr': 'Exchange variant (no CSR)',\n       'display_string': '30% Coinsurance after deductible'}],\n     'explanation': '',\n     'exclusions': '',\n     'has_limits': False,\n     'limit_unit': '',\n     'limit_quantity': 0}],\n   'deductibles': [{'type': 'Combined Medical and Drug EHB Deductible',\n     'amount': 4500,\n     'csr': 'Exchange variant (no CSR)',\n     'network_tier': 'In-Network',\n     'family_cost': 'Individual',\n     'individual': True,\n     'family': False,\n     'display_string': ''}],\n   'tiered_deductibles': [{'type': 'Combined Medical and Drug EHB Deductible',\n     'amount': 4500,\n     'csr': 'Exchange variant (no CSR)',\n     'network_tier': 'In-Network',\n     'family_cost': 'Individual',\n     'individual': True,\n     'family': False,\n     'display_string': ''},\n    {'type': 'Combined Medical and Drug EHB Deductible',\n     'amount': 13500,\n     'csr': 'Exchange variant (no CSR)',\n     'network_tier': 'Combined In-Out of Network',\n     'family_cost': 'Individual',\n     'individual': True,\n     'family': False,\n     'display_string': ''}],\n   'disease_mgmt_programs': ['Asthma',\n    'Heart Disease',\n    'Diabetes',\n    'High Blood Pressure and High Cholesterol',\n    'Pregnancy'],\n   'has_national_network': False,\n   'market': 'Individual',\n   'max_age_child': 25,\n   'moops': [{'type': 'Maximum Out of Pocket for Medical and Drug EHB Benefits (Total)',\n     'amount': 7900,\n     'csr': 'Exchange variant (no CSR)',\n     'network_tier': 'In-Network',\n     'family_cost': 'Individual',\n     'individual': True,\n     'family': False,\n     'display_string': ''}],\n   'tiered_moops': [{'type': 'Maximum Out of Pocket for Medical and Drug EHB Benefits (Total)',\n     'amount': 7900,\n     'csr': 'Exchange variant (no CSR)',\n     'network_tier': 'In-Network',\n     'family_cost': 'Individual',\n     'individual': True,\n     'family': False,\n     'display_string': ''},\n    {'type': 'Maximum Out of Pocket for Medical and Drug EHB Benefits (Total)',\n     'amount': 23700,\n     'csr': 'Exchange variant (no CSR)',\n     'network_tier': 'Combined In-Out of Network',\n     'family_cost': 'Individual',\n     'individual': True,\n     'family': False,\n     'display_string': ''}],\n   'product_division': 'HealthCare',\n   'benefits_url': 'http://www.bcbsla.com/findaplan/pages/sbc.aspx?Source=FFM&Id=19636LA0230006-01&Year=2019',\n   'brochure_url': 'http://www.bcbsla.com/individual-communityblue-brochure2019',\n   'formulary_url': 'http://www.bcbsla.com/pharmacy-2tier-formulary2019',\n   'network_url': 'http://www.bcbsla.com/communityblue-medical-vision-dental',\n   'issuer': {'id': '19636',\n    'name': 'HMO Louisiana',\n    'eligible_dependents': ['Spouse',\n     'Grandson or Granddaughter',\n     'Adopted Child',\n     'Foster Child',\n     'Ward',\n     'Stepson or Stepdaughter',\n     'Self',\n     'Child',\n     'Sponsored Dependent'],\n    'state': 'LA',\n    'individual_url': '',\n    'shop_url': 'http://www.bcbsla.com/footer/contact-us',\n    'toll_free': '1-800-495-2583',\n    'tty': ''},\n   'hsa_eligible': False,\n   'insurance_market': 'QHP',\n   'specialist_referral_required': False,\n   'oopc': -1,\n   'tobacco_lookback': 6,\n   'suppression_state': 'unknown',\n   'guaranteed_rate': False,\n   'simple_choice': False,\n   'quality_rating': {'available': False,\n    'year': 0,\n    'global_rating': 0,\n    'clinical_quality_management_rating': 0,\n    'enrollee_experience_rating': 0,\n    'plan_efficiency_rating': 0,\n    'global_not_rated_reason': '',\n    'clinical_quality_management_not_rated_reason': '',\n    'enrollee_experience_not_rated_reason': '',\n    'plan_efficiency_not_rated_reason': ''},\n   'is_ineligible': False,\n   'rx_3mo_mail_order': False,\n   'covers_nonhyde_abortion': False,\n   'service_area_id': 'LAS006'},\n  {'id': '19636LA0220012',\n   'name': 'Blue POS 60/40 $6500',\n   'premium': 300.24,\n   'premium_w_credit': 300.24,\n   'ehb_premium': 300.24,\n   'pediatric_ehb_premium': 0,\n   'aptc_eligible_premium': 300.24,\n   'metal_level': 'Bronze',\n   'type': 'POS',\n   'state': 'LA',\n   'benefits': [{'name': 'Generic Drugs',\n     'covered': True,\n     'cost_sharings': [{'coinsurance_rate': 0.4,\n       'coinsurance_options': 'Coinsurance after deductible',\n       'copay_amount': 0,\n       'copay_options': 'Not Applicable',\n       'network_tier': 'In-Network',\n       'csr': 'Exchange variant (no CSR)',\n       'display_string': '40% Coinsurance after deductible'},\n      {'coinsurance_rate': 0.4,\n       'coinsurance_options': 'Coinsurance after deductible',\n       'copay_amount': 0,\n       'copay_options': 'Not Applicable',\n       'network_tier': 'Out-of-Network',\n       'csr': 'Exchange variant (no CSR)',\n       'display_string': '40% Coinsurance after deductible'}],\n     'explanation': '',\n     'exclusions': '',\n     'has_limits': False,\n     'limit_unit': '',\n     'limit_quantity': 0},\n    {'name': 'Specialist Visit',\n     'covered': True,\n     'cost_sharings': [{'coinsurance_rate': 0.4,\n       'coinsurance_options': 'Coinsurance after deductible',\n       'copay_amount': 0,\n       'copay_options': 'Not Applicable',\n       'network_tier': 'In-Network',\n       'csr': 'Exchange variant (no CSR)',\n       'display_string': '40% Coinsurance after deductible'},\n      {'coinsurance_rate': 0.6,\n       'coinsurance_options': 'Coinsurance after deductible',\n       'copay_amount': 0,\n       'copay_options': 'Not Applicable',\n       'network_tier': 'Out-of-Network',\n       'csr': 'Exchange variant (no CSR)',\n       'display_string': '60% Coinsurance after deductible'}],\n     'explanation': '',\n     'exclusions': '',\n     'has_limits': False,\n     'limit_unit': '',\n     'limit_quantity': 0},\n    {'name': 'Emergency Room Services',\n     'covered': True,\n     'cost_sharings': [{'coinsurance_rate': 0.4,\n       'coinsurance_options': 'Coinsurance after deductible',\n       'copay_amount': 0,\n       'copay_options': 'Not Applicable',\n       'network_tier': 'In-Network',\n       'csr': 'Exchange variant (no CSR)',\n       'display_string': '40% Coinsurance after deductible'},\n      {'coinsurance_rate': 0.4,\n       'coinsurance_options': 'Coinsurance after deductible',\n       'copay_amount': 0,\n       'copay_options': 'Not Applicable',\n       'network_tier': 'Out-of-Network',\n       'csr': 'Exchange variant (no CSR)',\n       'display_string': '40% Coinsurance after deductible'}],\n     'explanation': '',\n     'exclusions': '',\n     'has_limits': False,\n     'limit_unit': '',\n     'limit_quantity': 0},\n    {'name': 'Basic Dental Care - Child',\n     'covered': True,\n     'cost_sharings': [{'coinsurance_rate': 0.5,\n       'coinsurance_options': 'Coinsurance after deductible',\n       'copay_amount': 0,\n       'copay_options': 'Not Applicable',\n       'network_tier': 'In-Network',\n       'csr': 'Exchange variant (no CSR)',\n       'display_string': '50% Coinsurance after deductible'},\n      {'coinsurance_rate': 0.5,\n       'coinsurance_options': 'Coinsurance after deductible',\n       'copay_amount': 0,\n       'copay_options': 'Not Applicable',\n       'network_tier': 'Out-of-Network',\n       'csr': 'Exchange variant (no CSR)',\n       'display_string': '50% Coinsurance after deductible'}],\n     'explanation': '',\n     'exclusions': '',\n     'has_limits': False,\n     'limit_unit': '',\n     'limit_quantity': 0},\n    {'name': 'Primary Care Visit to Treat an Injury or Illness',\n     'covered': True,\n     'cost_sharings': [{'coinsurance_rate': 0.4,\n       'coinsurance_options': 'Coinsurance after deductible',\n       'copay_amount': 0,\n       'copay_options': 'Not Applicable',\n       'network_tier': 'In-Network',\n       'csr': 'Exchange variant (no CSR)',\n       'display_string': '40% Coinsurance after deductible'},\n      {'coinsurance_rate': 0.6,\n       'coinsurance_options': 'Coinsurance after deductible',\n       'copay_amount': 0,\n       'copay_options': 'Not Applicable',\n       'network_tier': 'Out-of-Network',\n       'csr': 'Exchange variant (no CSR)',\n       'display_string': '60% Coinsurance after deductible'}],\n     'explanation': '',\n     'exclusions': '',\n     'has_limits': False,\n     'limit_unit': '',\n     'limit_quantity': 0},\n    {'name': 'Dental Check-Up for Children',\n     'covered': True,\n     'cost_sharings': [{'coinsurance_rate': 0,\n       'coinsurance_options': 'No Charge',\n       'copay_amount': 0,\n       'copay_options': 'No Charge',\n       'network_tier': 'In-Network',\n       'csr': 'Exchange variant (no CSR)',\n       'display_string': 'No Charge'},\n      {'coinsurance_rate': 0,\n       'coinsurance_options': 'No Charge',\n       'copay_amount': 0,\n       'copay_options': 'No Charge',\n       'network_tier': 'Out-of-Network',\n       'csr': 'Exchange variant (no CSR)',\n       'display_string': 'No Charge'}],\n     'explanation': '',\n     'exclusions': '',\n     'has_limits': True,\n     'limit_unit': 'visit(s) per 6 months',\n     'limit_quantity': 1},\n    {'name': 'Major Dental Care - Child',\n     'covered': True,\n     'cost_sharings': [{'coinsurance_rate': 0.5,\n       'coinsurance_options': 'Coinsurance after deductible',\n       'copay_amount': 0,\n       'copay_options': 'Not Applicable',\n       'network_tier': 'In-Network',\n       'csr': 'Exchange variant (no CSR)',\n       'display_string': '50% Coinsurance after deductible'},\n      {'coinsurance_rate': 0.5,\n       'coinsurance_options': 'Coinsurance after deductible',\n       'copay_amount': 0,\n       'copay_options': 'Not Applicable',\n       'network_tier': 'Out-of-Network',\n       'csr': 'Exchange variant (no CSR)',\n       'display_string': '50% Coinsurance after deductible'}],\n     'explanation': '',\n     'exclusions': '',\n     'has_limits': False,\n     'limit_unit': '',\n     'limit_quantity': 0}],\n   'deductibles': [{'type': 'Combined Medical and Drug EHB Deductible',\n     'amount': 6500,\n     'csr': 'Exchange variant (no CSR)',\n     'network_tier': 'In-Network',\n     'family_cost': 'Individual',\n     'individual': True,\n     'family': False,\n     'display_string': ''}],\n   'tiered_deductibles': [{'type': 'Combined Medical and Drug EHB Deductible',\n     'amount': 6500,\n     'csr': 'Exchange variant (no CSR)',\n     'network_tier': 'In-Network',\n     'family_cost': 'Individual',\n     'individual': True,\n     'family': False,\n     'display_string': ''},\n    {'type': 'Combined Medical and Drug EHB Deductible',\n     'amount': 19500,\n     'csr': 'Exchange variant (no CSR)',\n     'network_tier': 'Combined In-Out of Network',\n     'family_cost': 'Individual',\n     'individual': True,\n     'family': False,\n     'display_string': ''}],\n   'disease_mgmt_programs': ['Asthma',\n    'Heart Disease',\n    'Diabetes',\n    'High Blood Pressure and High Cholesterol',\n    'Pregnancy'],\n   'has_national_network': False,\n   'market': 'Individual',\n   'max_age_child': 25,\n   'moops': [{'type': 'Maximum Out of Pocket for Medical and Drug EHB Benefits (Total)',\n     'amount': 7900,\n     'csr': 'Exchange variant (no CSR)',\n     'network_tier': 'In-Network',\n     'family_cost': 'Individual',\n     'individual': True,\n     'family': False,\n     'display_string': ''}],\n   'tiered_moops': [{'type': 'Maximum Out of Pocket for Medical and Drug EHB Benefits (Total)',\n     'amount': 7900,\n     'csr': 'Exchange variant (no CSR)',\n     'network_tier': 'In-Network',\n     'family_cost': 'Individual',\n     'individual': True,\n     'family': False,\n     'display_string': ''},\n    {'type': 'Maximum Out of Pocket for Medical and Drug EHB Benefits (Total)',\n     'amount': 23700,\n     'csr': 'Exchange variant (no CSR)',\n     'network_tier': 'Combined In-Out of Network',\n     'family_cost': 'Individual',\n     'individual': True,\n     'family': False,\n     'display_string': ''}],\n   'product_division': 'HealthCare',\n   'benefits_url': 'http://www.bcbsla.com/findaplan/pages/sbc.aspx?Source=FFM&Id=19636LA0220012-01&Year=2019',\n   'brochure_url': 'http://www.bcbsla.com/individual-solutions-brochure2019',\n   'formulary_url': 'http://www.bcbsla.com/pharmacy-2tier-formulary2019',\n   'network_url': 'http://www.bcbsla.com/hmopos-medical-vision-dental',\n   'issuer': {'id': '19636',\n    'name': 'HMO Louisiana',\n    'eligible_dependents': ['Spouse',\n     'Grandson or Granddaughter',\n     'Adopted Child',\n     'Foster Child',\n     'Ward',\n     'Stepson or Stepdaughter',\n     'Self',\n     'Child',\n     'Sponsored Dependent'],\n    'state': 'LA',\n    'individual_url': '',\n    'shop_url': 'http://www.bcbsla.com/footer/contact-us',\n    'toll_free': '1-800-495-2583',\n    'tty': ''},\n   'hsa_eligible': False,\n   'insurance_market': 'QHP',\n   'specialist_referral_required': False,\n   'oopc': -1,\n   'tobacco_lookback': 6,\n   'suppression_state': 'unknown',\n   'guaranteed_rate': False,\n   'simple_choice': False,\n   'quality_rating': {'available': False,\n    'year': 0,\n    'global_rating': 0,\n    'clinical_quality_management_rating': 0,\n    'enrollee_experience_rating': 0,\n    'plan_efficiency_rating': 0,\n    'global_not_rated_reason': '',\n    'clinical_quality_management_not_rated_reason': '',\n    'enrollee_experience_not_rated_reason': '',\n    'plan_efficiency_not_rated_reason': ''},\n   'is_ineligible': False,\n   'rx_3mo_mail_order': False,\n   'covers_nonhyde_abortion': False,\n   'service_area_id': 'LAS007'},\n  {'id': '19636LA0220013',\n   'name': 'Blue POS 70/50 $4500',\n   'premium': 319.88,\n   'premium_w_credit': 319.88,\n   'ehb_premium': 319.88,\n   'pediatric_ehb_premium': 0,\n   'aptc_eligible_premium': 319.88,\n   'metal_level': 'Bronze',\n   'type': 'POS',\n   'state': 'LA',\n   'benefits': [{'name': 'Primary Care Visit to Treat an Injury or Illness',\n     'covered': True,\n     'cost_sharings': [{'coinsurance_rate': 0.3,\n       'coinsurance_options': 'Coinsurance after deductible',\n       'copay_amount': 0,\n       'copay_options': 'Not Applicable',\n       'network_tier': 'In-Network',\n       'csr': 'Exchange variant (no CSR)',\n       'display_string': '30% Coinsurance after deductible'},\n      {'coinsurance_rate': 0.5,\n       'coinsurance_options': 'Coinsurance after deductible',\n       'copay_amount': 0,\n       'copay_options': 'Not Applicable',\n       'network_tier': 'Out-of-Network',\n       'csr': 'Exchange variant (no CSR)',\n       'display_string': '50% Coinsurance after deductible'}],\n     'explanation': '',\n     'exclusions': '',\n     'has_limits': False,\n     'limit_unit': '',\n     'limit_quantity': 0},\n    {'name': 'Dental Check-Up for Children',\n     'covered': True,\n     'cost_sharings': [{'coinsurance_rate': 0,\n       'coinsurance_options': 'No Charge',\n       'copay_amount': 0,\n       'copay_options': 'No Charge',\n       'network_tier': 'In-Network',\n       'csr': 'Exchange variant (no CSR)',\n       'display_string': 'No Charge'},\n      {'coinsurance_rate': 0,\n       'coinsurance_options': 'No Charge',\n       'copay_amount': 0,\n       'copay_options': 'No Charge',\n       'network_tier': 'Out-of-Network',\n       'csr': 'Exchange variant (no CSR)',\n       'display_string': 'No Charge'}],\n     'explanation': '',\n     'exclusions': '',\n     'has_limits': True,\n     'limit_unit': 'visit(s) per 6 months',\n     'limit_quantity': 1},\n    {'name': 'Major Dental Care - Child',\n     'covered': True,\n     'cost_sharings': [{'coinsurance_rate': 0.5,\n       'coinsurance_options': 'Coinsurance after deductible',\n       'copay_amount': 0,\n       'copay_options': 'Not Applicable',\n       'network_tier': 'In-Network',\n       'csr': 'Exchange variant (no CSR)',\n       'display_string': '50% Coinsurance after deductible'},\n      {'coinsurance_rate': 0.5,\n       'coinsurance_options': 'Coinsurance after deductible',\n       'copay_amount': 0,\n       'copay_options': 'Not Applicable',\n       'network_tier': 'Out-of-Network',\n       'csr': 'Exchange variant (no CSR)',\n       'display_string': '50% Coinsurance after deductible'}],\n     'explanation': '',\n     'exclusions': '',\n     'has_limits': False,\n     'limit_unit': '',\n     'limit_quantity': 0},\n    {'name': 'Specialist Visit',\n     'covered': True,\n     'cost_sharings': [{'coinsurance_rate': 0.3,\n       'coinsurance_options': 'Coinsurance after deductible',\n       'copay_amount': 0,\n       'copay_options': 'Not Applicable',\n       'network_tier': 'In-Network',\n       'csr': 'Exchange variant (no CSR)',\n       'display_string': '30% Coinsurance after deductible'},\n      {'coinsurance_rate': 0.5,\n       'coinsurance_options': 'Coinsurance after deductible',\n       'copay_amount': 0,\n       'copay_options': 'Not Applicable',\n       'network_tier': 'Out-of-Network',\n       'csr': 'Exchange variant (no CSR)',\n       'display_string': '50% Coinsurance after deductible'}],\n     'explanation': '',\n     'exclusions': '',\n     'has_limits': False,\n     'limit_unit': '',\n     'limit_quantity': 0},\n    {'name': 'Emergency Room Services',\n     'covered': True,\n     'cost_sharings': [{'coinsurance_rate': 0.3,\n       'coinsurance_options': 'Coinsurance after deductible',\n       'copay_amount': 0,\n       'copay_options': 'Not Applicable',\n       'network_tier': 'In-Network',\n       'csr': 'Exchange variant (no CSR)',\n       'display_string': '30% Coinsurance after deductible'},\n      {'coinsurance_rate': 0.3,\n       'coinsurance_options': 'Coinsurance after deductible',\n       'copay_amount': 0,\n       'copay_options': 'Not Applicable',\n       'network_tier': 'Out-of-Network',\n       'csr': 'Exchange variant (no CSR)',\n       'display_string': '30% Coinsurance after deductible'}],\n     'explanation': '',\n     'exclusions': '',\n     'has_limits': False,\n     'limit_unit': '',\n     'limit_quantity': 0},\n    {'name': 'Basic Dental Care - Child',\n     'covered': True,\n     'cost_sharings': [{'coinsurance_rate': 0.5,\n       'coinsurance_options': 'Coinsurance after deductible',\n       'copay_amount': 0,\n       'copay_options': 'Not Applicable',\n       'network_tier': 'In-Network',\n       'csr': 'Exchange variant (no CSR)',\n       'display_string': '50% Coinsurance after deductible'},\n      {'coinsurance_rate': 0.5,\n       'coinsurance_options': 'Coinsurance after deductible',\n       'copay_amount': 0,\n       'copay_options': 'Not Applicable',\n       'network_tier': 'Out-of-Network',\n       'csr': 'Exchange variant (no CSR)',\n       'display_string': '50% Coinsurance after deductible'}],\n     'explanation': '',\n     'exclusions': '',\n     'has_limits': False,\n     'limit_unit': '',\n     'limit_quantity': 0},\n    {'name': 'Generic Drugs',\n     'covered': True,\n     'cost_sharings': [{'coinsurance_rate': 0.3,\n       'coinsurance_options': 'Coinsurance after deductible',\n       'copay_amount': 0,\n       'copay_options': 'Not Applicable',\n       'network_tier': 'In-Network',\n       'csr': 'Exchange variant (no CSR)',\n       'display_string': '30% Coinsurance after deductible'},\n      {'coinsurance_rate': 0.3,\n       'coinsurance_options': 'Coinsurance after deductible',\n       'copay_amount': 0,\n       'copay_options': 'Not Applicable',\n       'network_tier': 'Out-of-Network',\n       'csr': 'Exchange variant (no CSR)',\n       'display_string': '30% Coinsurance after deductible'}],\n     'explanation': '',\n     'exclusions': '',\n     'has_limits': False,\n     'limit_unit': '',\n     'limit_quantity': 0}],\n   'deductibles': [{'type': 'Combined Medical and Drug EHB Deductible',\n     'amount': 4500,\n     'csr': 'Exchange variant (no CSR)',\n     'network_tier': 'In-Network',\n     'family_cost': 'Individual',\n     'individual': True,\n     'family': False,\n     'display_string': ''}],\n   'tiered_deductibles': [{'type': 'Combined Medical and Drug EHB Deductible',\n     'amount': 4500,\n     'csr': 'Exchange variant (no CSR)',\n     'network_tier': 'In-Network',\n     'family_cost': 'Individual',\n     'individual': True,\n     'family': False,\n     'display_string': ''},\n    {'type': 'Combined Medical and Drug EHB Deductible',\n     'amount': 13500,\n     'csr': 'Exchange variant (no CSR)',\n     'network_tier': 'Combined In-Out of Network',\n     'family_cost': 'Individual',\n     'individual': True,\n     'family': False,\n     'display_string': ''}],\n   'disease_mgmt_programs': ['Asthma',\n    'Heart Disease',\n    'Diabetes',\n    'High Blood Pressure and High Cholesterol',\n    'Pregnancy'],\n   'has_national_network': False,\n   'market': 'Individual',\n   'max_age_child': 25,\n   'moops': [{'type': 'Maximum Out of Pocket for Medical and Drug EHB Benefits (Total)',\n     'amount': 7900,\n     'csr': 'Exchange variant (no CSR)',\n     'network_tier': 'In-Network',\n     'family_cost': 'Individual',\n     'individual': True,\n     'family': False,\n     'display_string': ''}],\n   'tiered_moops': [{'type': 'Maximum Out of Pocket for Medical and Drug EHB Benefits (Total)',\n     'amount': 7900,\n     'csr': 'Exchange variant (no CSR)',\n     'network_tier': 'In-Network',\n     'family_cost': 'Individual',\n     'individual': True,\n     'family': False,\n     'display_string': ''},\n    {'type': 'Maximum Out of Pocket for Medical and Drug EHB Benefits (Total)',\n     'amount': 23700,\n     'csr': 'Exchange variant (no CSR)',\n     'network_tier': 'Combined In-Out of Network',\n     'family_cost': 'Individual',\n     'individual': True,\n     'family': False,\n     'display_string': ''}],\n   'product_division': 'HealthCare',\n   'benefits_url': 'http://www.bcbsla.com/findaplan/pages/sbc.aspx?Source=FFM&Id=19636LA0220013-01&Year=2019',\n   'brochure_url': 'http://www.bcbsla.com/individual-solutions-brochure2019',\n   'formulary_url': 'http://www.bcbsla.com/pharmacy-2tier-formulary2019',\n   'network_url': 'http://www.bcbsla.com/hmopos-medical-vision-dental',\n   'issuer': {'id': '19636',\n    'name': 'HMO Louisiana',\n    'eligible_dependents': ['Spouse',\n     'Grandson or Granddaughter',\n     'Adopted Child',\n     'Foster Child',\n     'Ward',\n     'Stepson or Stepdaughter',\n     'Self',\n     'Child',\n     'Sponsored Dependent'],\n    'state': 'LA',\n    'individual_url': '',\n    'shop_url': 'http://www.bcbsla.com/footer/contact-us',\n    'toll_free': '1-800-495-2583',\n    'tty': ''},\n   'hsa_eligible': False,\n   'insurance_market': 'QHP',\n   'specialist_referral_required': False,\n   'oopc': -1,\n   'tobacco_lookback': 6,\n   'suppression_state': 'unknown',\n   'guaranteed_rate': False,\n   'simple_choice': False,\n   'quality_rating': {'available': False,\n    'year': 0,\n    'global_rating': 0,\n    'clinical_quality_management_rating': 0,\n    'enrollee_experience_rating': 0,\n    'plan_efficiency_rating': 0,\n    'global_not_rated_reason': '',\n    'clinical_quality_management_not_rated_reason': '',\n    'enrollee_experience_not_rated_reason': '',\n    'plan_efficiency_not_rated_reason': ''},\n   'is_ineligible': False,\n   'rx_3mo_mail_order': False,\n   'covers_nonhyde_abortion': False,\n   'service_area_id': 'LAS007'},\n  {'id': '67243LA0090040',\n   'name': 'Savings Bronze Plus 6750 IND-D4',\n   'premium': 333.25,\n   'premium_w_credit': 333.25,\n   'ehb_premium': 330.17,\n   'pediatric_ehb_premium': 0,\n   'aptc_eligible_premium': 330.17,\n   'metal_level': 'Bronze',\n   'type': 'POS',\n   'state': 'LA',\n   'benefits': [{'name': 'Specialist Visit',\n     'covered': True,\n     'cost_sharings': [{'coinsurance_rate': 0,\n       'coinsurance_options': 'No Charge after deductible',\n       'copay_amount': 0,\n       'copay_options': 'Not Applicable',\n       'network_tier': 'In-Network',\n       'csr': 'Exchange variant (no CSR)',\n       'display_string': 'No Charge After Deductible'},\n      {'coinsurance_rate': 0.5,\n       'coinsurance_options': 'Coinsurance after deductible',\n       'copay_amount': 0,\n       'copay_options': 'Not Applicable',\n       'network_tier': 'Out-of-Network',\n       'csr': 'Exchange variant (no CSR)',\n       'display_string': '50% Coinsurance after deductible'}],\n     'explanation': '',\n     'exclusions': '',\n     'has_limits': False,\n     'limit_unit': '',\n     'limit_quantity': 0},\n    {'name': 'Emergency Room Services',\n     'covered': True,\n     'cost_sharings': [{'coinsurance_rate': 0,\n       'coinsurance_options': 'No Charge after deductible',\n       'copay_amount': 0,\n       'copay_options': 'Not Applicable',\n       'network_tier': 'In-Network',\n       'csr': 'Exchange variant (no CSR)',\n       'display_string': 'No Charge After Deductible'},\n      {'coinsurance_rate': 0,\n       'coinsurance_options': 'No Charge after deductible',\n       'copay_amount': 0,\n       'copay_options': 'Not Applicable',\n       'network_tier': 'Out-of-Network',\n       'csr': 'Exchange variant (no CSR)',\n       'display_string': 'No Charge After Deductible'}],\n     'explanation': '',\n     'exclusions': '',\n     'has_limits': False,\n     'limit_unit': '',\n     'limit_quantity': 0},\n    {'name': 'Basic Dental Care - Child',\n     'covered': True,\n     'cost_sharings': [{'coinsurance_rate': 0,\n       'coinsurance_options': 'No Charge after deductible',\n       'copay_amount': 0,\n       'copay_options': 'Not Applicable',\n       'network_tier': 'In-Network',\n       'csr': 'Exchange variant (no CSR)',\n       'display_string': 'No Charge After Deductible'},\n      {'coinsurance_rate': 0,\n       'coinsurance_options': 'No Charge after deductible',\n       'copay_amount': 0,\n       'copay_options': 'Not Applicable',\n       'network_tier': 'Out-of-Network',\n       'csr': 'Exchange variant (no CSR)',\n       'display_string': 'No Charge After Deductible'}],\n     'explanation': '',\n     'exclusions': '',\n     'has_limits': False,\n     'limit_unit': '',\n     'limit_quantity': 0},\n    {'name': 'Primary Care Visit to Treat an Injury or Illness',\n     'covered': True,\n     'cost_sharings': [{'coinsurance_rate': 0,\n       'coinsurance_options': 'No Charge after deductible',\n       'copay_amount': 0,\n       'copay_options': 'Not Applicable',\n       'network_tier': 'In-Network',\n       'csr': 'Exchange variant (no CSR)',\n       'display_string': 'No Charge After Deductible'},\n      {'coinsurance_rate': 0.5,\n       'coinsurance_options': 'Coinsurance after deductible',\n       'copay_amount': 0,\n       'copay_options': 'Not Applicable',\n       'network_tier': 'Out-of-Network',\n       'csr': 'Exchange variant (no CSR)',\n       'display_string': '50% Coinsurance after deductible'}],\n     'explanation': '',\n     'exclusions': '',\n     'has_limits': False,\n     'limit_unit': '',\n     'limit_quantity': 0},\n    {'name': 'Routine Dental Services (Adult)',\n     'covered': True,\n     'cost_sharings': [{'coinsurance_rate': 0,\n       'coinsurance_options': 'No Charge',\n       'copay_amount': 0,\n       'copay_options': 'Not Applicable',\n       'network_tier': 'In-Network',\n       'csr': 'Exchange variant (no CSR)',\n       'display_string': 'No Charge'},\n      {'coinsurance_rate': 0,\n       'coinsurance_options': 'No Charge',\n       'copay_amount': 0,\n       'copay_options': 'Not Applicable',\n       'network_tier': 'Out-of-Network',\n       'csr': 'Exchange variant (no CSR)',\n       'display_string': 'No Charge'}],\n     'explanation': '',\n     'exclusions': '',\n     'has_limits': True,\n     'limit_unit': 'visit(s) per year',\n     'limit_quantity': 2},\n    {'name': 'Dental Check-Up for Children',\n     'covered': True,\n     'cost_sharings': [{'coinsurance_rate': 0,\n       'coinsurance_options': 'No Charge',\n       'copay_amount': 0,\n       'copay_options': 'Not Applicable',\n       'network_tier': 'In-Network',\n       'csr': 'Exchange variant (no CSR)',\n       'display_string': 'No Charge'},\n      {'coinsurance_rate': 0,\n       'coinsurance_options': 'No Charge',\n       'copay_amount': 0,\n       'copay_options': 'Not Applicable',\n       'network_tier': 'Out-of-Network',\n       'csr': 'Exchange variant (no CSR)',\n       'display_string': 'No Charge'}],\n     'explanation': '',\n     'exclusions': '',\n     'has_limits': True,\n     'limit_unit': 'visit(s) per year',\n     'limit_quantity': 2},\n    {'name': 'Major Dental Care - Child',\n     'covered': True,\n     'cost_sharings': [{'coinsurance_rate': 0,\n       'coinsurance_options': 'No Charge after deductible',\n       'copay_amount': 0,\n       'copay_options': 'Not Applicable',\n       'network_tier': 'In-Network',\n       'csr': 'Exchange variant (no CSR)',\n       'display_string': 'No Charge After Deductible'},\n      {'coinsurance_rate': 0,\n       'coinsurance_options': 'No Charge after deductible',\n       'copay_amount': 0,\n       'copay_options': 'Not Applicable',\n       'network_tier': 'Out-of-Network',\n       'csr': 'Exchange variant (no CSR)',\n       'display_string': 'No Charge After Deductible'}],\n     'explanation': '',\n     'exclusions': '',\n     'has_limits': False,\n     'limit_unit': '',\n     'limit_quantity': 0},\n    {'name': 'Generic Drugs',\n     'covered': True,\n     'cost_sharings': [{'coinsurance_rate': 0,\n       'coinsurance_options': 'No Charge after deductible',\n       'copay_amount': 0,\n       'copay_options': 'Not Applicable',\n       'network_tier': 'In-Network',\n       'csr': 'Exchange variant (no CSR)',\n       'display_string': 'No Charge After Deductible'},\n      {'coinsurance_rate': 1,\n       'coinsurance_options': '',\n       'copay_amount': 0,\n       'copay_options': 'Not Applicable',\n       'network_tier': 'Out-of-Network',\n       'csr': 'Exchange variant (no CSR)',\n       'display_string': 'Not Covered'}],\n     'explanation': '',\n     'exclusions': '',\n     'has_limits': False,\n     'limit_unit': '',\n     'limit_quantity': 0}],\n   'deductibles': [{'type': 'Combined Medical and Drug EHB Deductible',\n     'amount': 6750,\n     'csr': 'Exchange variant (no CSR)',\n     'network_tier': 'In-Network',\n     'family_cost': 'Individual',\n     'individual': True,\n     'family': False,\n     'display_string': ''}],\n   'tiered_deductibles': [{'type': 'Combined Medical and Drug EHB Deductible',\n     'amount': 6750,\n     'csr': 'Exchange variant (no CSR)',\n     'network_tier': 'In-Network',\n     'family_cost': 'Individual',\n     'individual': True,\n     'family': False,\n     'display_string': ''}],\n   'disease_mgmt_programs': ['Heart Disease',\n    'Depression',\n    'Diabetes',\n    'High Blood Pressure and High Cholesterol',\n    'Weight Loss Programs'],\n   'has_national_network': False,\n   'market': 'Individual',\n   'max_age_child': 25,\n   'moops': [{'type': 'Maximum Out of Pocket for Medical and Drug EHB Benefits (Total)',\n     'amount': 6750,\n     'csr': 'Exchange variant (no CSR)',\n     'network_tier': 'In-Network',\n     'family_cost': 'Individual',\n     'individual': True,\n     'family': False,\n     'display_string': ''}],\n   'tiered_moops': [{'type': 'Maximum Out of Pocket for Medical and Drug EHB Benefits (Total)',\n     'amount': 6750,\n     'csr': 'Exchange variant (no CSR)',\n     'network_tier': 'In-Network',\n     'family_cost': 'Individual',\n     'individual': True,\n     'family': False,\n     'display_string': ''}],\n   'product_division': 'HealthCare',\n   'benefits_url': 'https://www.vantagehealthplan.com/documents/Marketplace/2019INDSavingsBronze6750SummaryOfBenefitsAndCoverage.pdf',\n   'brochure_url': 'https://www.vantagehealthplan.com/documents/Marketplace/2019MarketplaceINDPlanFinder.pdf',\n   'formulary_url': 'https://www.vantagehealthplan.com/documents/Marketplace/2019CommercialAndExchangeMemberListOfCoveredDrugs(Formulary).pdf',\n   'network_url': 'https://www.vantagehealthplan.com/Provider/ProviderContent',\n   'issuer': {'id': '67243',\n    'name': 'Vantage Health Plan',\n    'eligible_dependents': ['Spouse',\n     'Adopted Child',\n     'Foster Child',\n     'Ward',\n     'Stepson or Stepdaughter',\n     'Self',\n     'Child',\n     'Life Partner'],\n    'state': 'LA',\n    'individual_url': '',\n    'shop_url': 'https://www.vantagehealthplan.com/',\n    'toll_free': '1-888-823-1910',\n    'tty': ''},\n   'hsa_eligible': True,\n   'insurance_market': 'QHP',\n   'specialist_referral_required': False,\n   'oopc': -1,\n   'tobacco_lookback': 6,\n   'suppression_state': 'unknown',\n   'guaranteed_rate': False,\n   'simple_choice': False,\n   'quality_rating': {'available': False,\n    'year': 0,\n    'global_rating': 0,\n    'clinical_quality_management_rating': 0,\n    'enrollee_experience_rating': 0,\n    'plan_efficiency_rating': 0,\n    'global_not_rated_reason': '',\n    'clinical_quality_management_not_rated_reason': '',\n    'enrollee_experience_not_rated_reason': '',\n    'plan_efficiency_not_rated_reason': ''},\n   'is_ineligible': False,\n   'rx_3mo_mail_order': False,\n   'covers_nonhyde_abortion': False,\n   'service_area_id': 'LAS002'},\n  {'id': '67243LA0090010',\n   'name': 'Savings Bronze Plus 5500 IND-D4',\n   'premium': 334.29,\n   'premium_w_credit': 334.29,\n   'ehb_premium': 331.2,\n   'pediatric_ehb_premium': 0,\n   'aptc_eligible_premium': 331.2,\n   'metal_level': 'Bronze',\n   'type': 'POS',\n   'state': 'LA',\n   'benefits': [{'name': 'Generic Drugs',\n     'covered': True,\n     'cost_sharings': [{'coinsurance_rate': 0.5,\n       'coinsurance_options': 'Coinsurance after deductible',\n       'copay_amount': 0,\n       'copay_options': 'Not Applicable',\n       'network_tier': 'In-Network',\n       'csr': 'Exchange variant (no CSR)',\n       'display_string': '50% Coinsurance after deductible'},\n      {'coinsurance_rate': 1,\n       'coinsurance_options': '',\n       'copay_amount': 0,\n       'copay_options': 'Not Applicable',\n       'network_tier': 'Out-of-Network',\n       'csr': 'Exchange variant (no CSR)',\n       'display_string': 'Not Covered'}],\n     'explanation': '',\n     'exclusions': '',\n     'has_limits': False,\n     'limit_unit': '',\n     'limit_quantity': 0},\n    {'name': 'Primary Care Visit to Treat an Injury or Illness',\n     'covered': True,\n     'cost_sharings': [{'coinsurance_rate': 0.5,\n       'coinsurance_options': 'Coinsurance after deductible',\n       'copay_amount': 0,\n       'copay_options': 'Not Applicable',\n       'network_tier': 'In-Network',\n       'csr': 'Exchange variant (no CSR)',\n       'display_string': '50% Coinsurance after deductible'},\n      {'coinsurance_rate': 0.5,\n       'coinsurance_options': 'Coinsurance after deductible',\n       'copay_amount': 0,\n       'copay_options': 'Not Applicable',\n       'network_tier': 'Out-of-Network',\n       'csr': 'Exchange variant (no CSR)',\n       'display_string': '50% Coinsurance after deductible'}],\n     'explanation': '',\n     'exclusions': '',\n     'has_limits': False,\n     'limit_unit': '',\n     'limit_quantity': 0},\n    {'name': 'Routine Dental Services (Adult)',\n     'covered': True,\n     'cost_sharings': [{'coinsurance_rate': 0,\n       'coinsurance_options': 'No Charge',\n       'copay_amount': 0,\n       'copay_options': 'Not Applicable',\n       'network_tier': 'In-Network',\n       'csr': 'Exchange variant (no CSR)',\n       'display_string': 'No Charge'},\n      {'coinsurance_rate': 0,\n       'coinsurance_options': 'No Charge',\n       'copay_amount': 0,\n       'copay_options': 'Not Applicable',\n       'network_tier': 'Out-of-Network',\n       'csr': 'Exchange variant (no CSR)',\n       'display_string': 'No Charge'}],\n     'explanation': '',\n     'exclusions': '',\n     'has_limits': True,\n     'limit_unit': 'visit(s) per year',\n     'limit_quantity': 2},\n    {'name': 'Dental Check-Up for Children',\n     'covered': True,\n     'cost_sharings': [{'coinsurance_rate': 0,\n       'coinsurance_options': 'No Charge',\n       'copay_amount': 0,\n       'copay_options': 'Not Applicable',\n       'network_tier': 'In-Network',\n       'csr': 'Exchange variant (no CSR)',\n       'display_string': 'No Charge'},\n      {'coinsurance_rate': 0,\n       'coinsurance_options': 'No Charge',\n       'copay_amount': 0,\n       'copay_options': 'Not Applicable',\n       'network_tier': 'Out-of-Network',\n       'csr': 'Exchange variant (no CSR)',\n       'display_string': 'No Charge'}],\n     'explanation': '',\n     'exclusions': '',\n     'has_limits': True,\n     'limit_unit': 'visit(s) per year',\n     'limit_quantity': 2},\n    {'name': 'Major Dental Care - Child',\n     'covered': True,\n     'cost_sharings': [{'coinsurance_rate': 0.5,\n       'coinsurance_options': 'Coinsurance after deductible',\n       'copay_amount': 0,\n       'copay_options': 'Not Applicable',\n       'network_tier': 'In-Network',\n       'csr': 'Exchange variant (no CSR)',\n       'display_string': '50% Coinsurance after deductible'},\n      {'coinsurance_rate': 0.5,\n       'coinsurance_options': 'Coinsurance after deductible',\n       'copay_amount': 0,\n       'copay_options': 'Not Applicable',\n       'network_tier': 'Out-of-Network',\n       'csr': 'Exchange variant (no CSR)',\n       'display_string': '50% Coinsurance after deductible'}],\n     'explanation': '',\n     'exclusions': '',\n     'has_limits': False,\n     'limit_unit': '',\n     'limit_quantity': 0},\n    {'name': 'Specialist Visit',\n     'covered': True,\n     'cost_sharings': [{'coinsurance_rate': 0.5,\n       'coinsurance_options': 'Coinsurance after deductible',\n       'copay_amount': 0,\n       'copay_options': 'Not Applicable',\n       'network_tier': 'In-Network',\n       'csr': 'Exchange variant (no CSR)',\n       'display_string': '50% Coinsurance after deductible'},\n      {'coinsurance_rate': 0.5,\n       'coinsurance_options': 'Coinsurance after deductible',\n       'copay_amount': 0,\n       'copay_options': 'Not Applicable',\n       'network_tier': 'Out-of-Network',\n       'csr': 'Exchange variant (no CSR)',\n       'display_string': '50% Coinsurance after deductible'}],\n     'explanation': '',\n     'exclusions': '',\n     'has_limits': False,\n     'limit_unit': '',\n     'limit_quantity': 0},\n    {'name': 'Emergency Room Services',\n     'covered': True,\n     'cost_sharings': [{'coinsurance_rate': 0.5,\n       'coinsurance_options': 'Coinsurance after deductible',\n       'copay_amount': 0,\n       'copay_options': 'Not Applicable',\n       'network_tier': 'In-Network',\n       'csr': 'Exchange variant (no CSR)',\n       'display_string': '50% Coinsurance after deductible'},\n      {'coinsurance_rate': 0.5,\n       'coinsurance_options': 'Coinsurance after deductible',\n       'copay_amount': 0,\n       'copay_options': 'Not Applicable',\n       'network_tier': 'Out-of-Network',\n       'csr': 'Exchange variant (no CSR)',\n       'display_string': '50% Coinsurance after deductible'}],\n     'explanation': '',\n     'exclusions': '',\n     'has_limits': False,\n     'limit_unit': '',\n     'limit_quantity': 0},\n    {'name': 'Basic Dental Care - Child',\n     'covered': True,\n     'cost_sharings': [{'coinsurance_rate': 0.5,\n       'coinsurance_options': 'Coinsurance after deductible',\n       'copay_amount': 0,\n       'copay_options': 'Not Applicable',\n       'network_tier': 'In-Network',\n       'csr': 'Exchange variant (no CSR)',\n       'display_string': '50% Coinsurance after deductible'},\n      {'coinsurance_rate': 0.5,\n       'coinsurance_options': 'Coinsurance after deductible',\n       'copay_amount': 0,\n       'copay_options': 'Not Applicable',\n       'network_tier': 'Out-of-Network',\n       'csr': 'Exchange variant (no CSR)',\n       'display_string': '50% Coinsurance after deductible'}],\n     'explanation': '',\n     'exclusions': '',\n     'has_limits': False,\n     'limit_unit': '',\n     'limit_quantity': 0}],\n   'deductibles': [{'type': 'Combined Medical and Drug EHB Deductible',\n     'amount': 5500,\n     'csr': 'Exchange variant (no CSR)',\n     'network_tier': 'In-Network',\n     'family_cost': 'Individual',\n     'individual': True,\n     'family': False,\n     'display_string': ''}],\n   'tiered_deductibles': [{'type': 'Combined Medical and Drug EHB Deductible',\n     'amount': 5500,\n     'csr': 'Exchange variant (no CSR)',\n     'network_tier': 'In-Network',\n     'family_cost': 'Individual',\n     'individual': True,\n     'family': False,\n     'display_string': ''}],\n   'disease_mgmt_programs': ['Heart Disease',\n    'Depression',\n    'Diabetes',\n    'High Blood Pressure and High Cholesterol',\n    'Weight Loss Programs'],\n   'has_national_network': False,\n   'market': 'Individual',\n   'max_age_child': 25,\n   'moops': [{'type': 'Maximum Out of Pocket for Medical and Drug EHB Benefits (Total)',\n     'amount': 6750,\n     'csr': 'Exchange variant (no CSR)',\n     'network_tier': 'In-Network',\n     'family_cost': 'Individual',\n     'individual': True,\n     'family': False,\n     'display_string': ''}],\n   'tiered_moops': [{'type': 'Maximum Out of Pocket for Medical and Drug EHB Benefits (Total)',\n     'amount': 6750,\n     'csr': 'Exchange variant (no CSR)',\n     'network_tier': 'In-Network',\n     'family_cost': 'Individual',\n     'individual': True,\n     'family': False,\n     'display_string': ''}],\n   'product_division': 'HealthCare',\n   'benefits_url': 'https://www.vantagehealthplan.com/documents/Marketplace/2019INDSavingsBronze5500SummaryOfBenefitsAndCoverage.pdf',\n   'brochure_url': 'https://www.vantagehealthplan.com/documents/Marketplace/2019MarketplaceINDPlanFinder.pdf',\n   'formulary_url': 'https://www.vantagehealthplan.com/documents/Marketplace/2019CommercialAndExchangeMemberListOfCoveredDrugs(Formulary).pdf',\n   'network_url': 'https://www.vantagehealthplan.com/Provider/ProviderContent',\n   'issuer': {'id': '67243',\n    'name': 'Vantage Health Plan',\n    'eligible_dependents': ['Spouse',\n     'Adopted Child',\n     'Foster Child',\n     'Ward',\n     'Stepson or Stepdaughter',\n     'Self',\n     'Child',\n     'Life Partner'],\n    'state': 'LA',\n    'individual_url': '',\n    'shop_url': 'https://www.vantagehealthplan.com/',\n    'toll_free': '1-888-823-1910',\n    'tty': ''},\n   'hsa_eligible': True,\n   'insurance_market': 'QHP',\n   'specialist_referral_required': False,\n   'oopc': -1,\n   'tobacco_lookback': 6,\n   'suppression_state': 'unknown',\n   'guaranteed_rate': False,\n   'simple_choice': False,\n   'quality_rating': {'available': False,\n    'year': 0,\n    'global_rating': 0,\n    'clinical_quality_management_rating': 0,\n    'enrollee_experience_rating': 0,\n    'plan_efficiency_rating': 0,\n    'global_not_rated_reason': '',\n    'clinical_quality_management_not_rated_reason': '',\n    'enrollee_experience_not_rated_reason': '',\n    'plan_efficiency_not_rated_reason': ''},\n   'is_ineligible': False,\n   'rx_3mo_mail_order': False,\n   'covers_nonhyde_abortion': False,\n   'service_area_id': 'LAS002'},\n  {'id': '67243LA0090008',\n   'name': 'Essential Bronze Plus 6500 IND-D2',\n   'premium': 349.24,\n   'premium_w_credit': 349.24,\n   'ehb_premium': 343.55,\n   'pediatric_ehb_premium': 0,\n   'aptc_eligible_premium': 343.55,\n   'metal_level': 'Bronze',\n   'type': 'POS',\n   'state': 'LA',\n   'benefits': [{'name': 'Generic Drugs',\n     'covered': True,\n     'cost_sharings': [{'coinsurance_rate': 0,\n       'coinsurance_options': 'Not Applicable',\n       'copay_amount': 30,\n       'copay_options': '',\n       'network_tier': 'In-Network',\n       'csr': 'Exchange variant (no CSR)',\n       'display_string': '$30'},\n      {'coinsurance_rate': 1,\n       'coinsurance_options': '',\n       'copay_amount': 0,\n       'copay_options': 'Not Applicable',\n       'network_tier': 'Out-of-Network',\n       'csr': 'Exchange variant (no CSR)',\n       'display_string': 'Not Covered'}],\n     'explanation': '',\n     'exclusions': '',\n     'has_limits': False,\n     'limit_unit': '',\n     'limit_quantity': 0},\n    {'name': 'Major Dental Care - Adult',\n     'covered': True,\n     'cost_sharings': [{'coinsurance_rate': 0.5,\n       'coinsurance_options': '',\n       'copay_amount': 0,\n       'copay_options': 'Not Applicable',\n       'network_tier': 'In-Network',\n       'csr': 'Exchange variant (no CSR)',\n       'display_string': '50%'},\n      {'coinsurance_rate': 0.5,\n       'coinsurance_options': '',\n       'copay_amount': 0,\n       'copay_options': 'Not Applicable',\n       'network_tier': 'Out-of-Network',\n       'csr': 'Exchange variant (no CSR)',\n       'display_string': '50%'}],\n     'explanation': '',\n     'exclusions': '',\n     'has_limits': False,\n     'limit_unit': '',\n     'limit_quantity': 0},\n    {'name': 'Specialist Visit',\n     'covered': True,\n     'cost_sharings': [{'coinsurance_rate': 0.5,\n       'coinsurance_options': 'Coinsurance after deductible',\n       'copay_amount': 0,\n       'copay_options': 'Not Applicable',\n       'network_tier': 'In-Network',\n       'csr': 'Exchange variant (no CSR)',\n       'display_string': '50% Coinsurance after deductible'},\n      {'coinsurance_rate': 0.5,\n       'coinsurance_options': 'Coinsurance after deductible',\n       'copay_amount': 0,\n       'copay_options': 'Not Applicable',\n       'network_tier': 'Out-of-Network',\n       'csr': 'Exchange variant (no CSR)',\n       'display_string': '50% Coinsurance after deductible'}],\n     'explanation': '',\n     'exclusions': '',\n     'has_limits': False,\n     'limit_unit': '',\n     'limit_quantity': 0},\n    {'name': 'Emergency Room Services',\n     'covered': True,\n     'cost_sharings': [{'coinsurance_rate': 0.5,\n       'coinsurance_options': 'Coinsurance after deductible',\n       'copay_amount': 0,\n       'copay_options': 'Not Applicable',\n       'network_tier': 'In-Network',\n       'csr': 'Exchange variant (no CSR)',\n       'display_string': '50% Coinsurance after deductible'},\n      {'coinsurance_rate': 0.5,\n       'coinsurance_options': 'Coinsurance after deductible',\n       'copay_amount': 0,\n       'copay_options': 'Not Applicable',\n       'network_tier': 'Out-of-Network',\n       'csr': 'Exchange variant (no CSR)',\n       'display_string': '50% Coinsurance after deductible'}],\n     'explanation': '',\n     'exclusions': '',\n     'has_limits': False,\n     'limit_unit': '',\n     'limit_quantity': 0},\n    {'name': 'Basic Dental Care - Child',\n     'covered': True,\n     'cost_sharings': [{'coinsurance_rate': 0.5,\n       'coinsurance_options': '',\n       'copay_amount': 0,\n       'copay_options': 'Not Applicable',\n       'network_tier': 'In-Network',\n       'csr': 'Exchange variant (no CSR)',\n       'display_string': '50%'},\n      {'coinsurance_rate': 0.5,\n       'coinsurance_options': '',\n       'copay_amount': 0,\n       'copay_options': 'Not Applicable',\n       'network_tier': 'Out-of-Network',\n       'csr': 'Exchange variant (no CSR)',\n       'display_string': '50%'}],\n     'explanation': '',\n     'exclusions': '',\n     'has_limits': False,\n     'limit_unit': '',\n     'limit_quantity': 0},\n    {'name': 'Primary Care Visit to Treat an Injury or Illness',\n     'covered': True,\n     'cost_sharings': [{'coinsurance_rate': 0,\n       'coinsurance_options': 'Not Applicable',\n       'copay_amount': 50,\n       'copay_options': '',\n       'network_tier': 'In-Network',\n       'csr': 'Exchange variant (no CSR)',\n       'display_string': '$50'},\n      {'coinsurance_rate': 0.5,\n       'coinsurance_options': 'Coinsurance after deductible',\n       'copay_amount': 0,\n       'copay_options': 'Not Applicable',\n       'network_tier': 'Out-of-Network',\n       'csr': 'Exchange variant (no CSR)',\n       'display_string': '50% Coinsurance after deductible'}],\n     'explanation': '',\n     'exclusions': '',\n     'has_limits': False,\n     'limit_unit': '',\n     'limit_quantity': 0},\n    {'name': 'Routine Dental Services (Adult)',\n     'covered': True,\n     'cost_sharings': [{'coinsurance_rate': 0,\n       'coinsurance_options': 'No Charge',\n       'copay_amount': 0,\n       'copay_options': 'Not Applicable',\n       'network_tier': 'In-Network',\n       'csr': 'Exchange variant (no CSR)',\n       'display_string': 'No Charge'},\n      {'coinsurance_rate': 0,\n       'coinsurance_options': 'No Charge',\n       'copay_amount': 0,\n       'copay_options': 'Not Applicable',\n       'network_tier': 'Out-of-Network',\n       'csr': 'Exchange variant (no CSR)',\n       'display_string': 'No Charge'}],\n     'explanation': '',\n     'exclusions': '',\n     'has_limits': True,\n     'limit_unit': 'visit(s) per year',\n     'limit_quantity': 2},\n    {'name': 'Dental Check-Up for Children',\n     'covered': True,\n     'cost_sharings': [{'coinsurance_rate': 0,\n       'coinsurance_options': 'No Charge',\n       'copay_amount': 0,\n       'copay_options': 'Not Applicable',\n       'network_tier': 'In-Network',\n       'csr': 'Exchange variant (no CSR)',\n       'display_string': 'No Charge'},\n      {'coinsurance_rate': 0,\n       'coinsurance_options': 'No Charge',\n       'copay_amount': 0,\n       'copay_options': 'Not Applicable',\n       'network_tier': 'Out-of-Network',\n       'csr': 'Exchange variant (no CSR)',\n       'display_string': 'No Charge'}],\n     'explanation': '',\n     'exclusions': '',\n     'has_limits': True,\n     'limit_unit': 'visit(s) per year',\n     'limit_quantity': 2},\n    {'name': 'Major Dental Care - Child',\n     'covered': True,\n     'cost_sharings': [{'coinsurance_rate': 0.5,\n       'coinsurance_options': '',\n       'copay_amount': 0,\n       'copay_options': 'Not Applicable',\n       'network_tier': 'In-Network',\n       'csr': 'Exchange variant (no CSR)',\n       'display_string': '50%'},\n      {'coinsurance_rate': 0.5,\n       'coinsurance_options': '',\n       'copay_amount': 0,\n       'copay_options': 'Not Applicable',\n       'network_tier': 'Out-of-Network',\n       'csr': 'Exchange variant (no CSR)',\n       'display_string': '50%'}],\n     'explanation': '',\n     'exclusions': '',\n     'has_limits': False,\n     'limit_unit': '',\n     'limit_quantity': 0},\n    {'name': 'Basic Dental Care - Adult',\n     'covered': True,\n     'cost_sharings': [{'coinsurance_rate': 0.5,\n       'coinsurance_options': '',\n       'copay_amount': 0,\n       'copay_options': 'Not Applicable',\n       'network_tier': 'In-Network',\n       'csr': 'Exchange variant (no CSR)',\n       'display_string': '50%'},\n      {'coinsurance_rate': 0.5,\n       'coinsurance_options': '',\n       'copay_amount': 0,\n       'copay_options': 'Not Applicable',\n       'network_tier': 'Out-of-Network',\n       'csr': 'Exchange variant (no CSR)',\n       'display_string': '50%'}],\n     'explanation': '',\n     'exclusions': '',\n     'has_limits': False,\n     'limit_unit': '',\n     'limit_quantity': 0}],\n   'deductibles': [{'type': 'Medical EHB Deductible',\n     'amount': 6500,\n     'csr': 'Exchange variant (no CSR)',\n     'network_tier': 'In-Network',\n     'family_cost': 'Individual',\n     'individual': True,\n     'family': False,\n     'display_string': ''},\n    {'type': 'Drug EHB Deductible',\n     'amount': 1000,\n     'csr': 'Exchange variant (no CSR)',\n     'network_tier': 'In-Network',\n     'family_cost': 'Individual',\n     'individual': True,\n     'family': False,\n     'display_string': ''}],\n   'tiered_deductibles': [{'type': 'Medical EHB Deductible',\n     'amount': 6500,\n     'csr': 'Exchange variant (no CSR)',\n     'network_tier': 'In-Network',\n     'family_cost': 'Individual',\n     'individual': True,\n     'family': False,\n     'display_string': ''},\n    {'type': 'Drug EHB Deductible',\n     'amount': 1000,\n     'csr': 'Exchange variant (no CSR)',\n     'network_tier': 'In-Network',\n     'family_cost': 'Individual',\n     'individual': True,\n     'family': False,\n     'display_string': ''}],\n   'disease_mgmt_programs': ['Heart Disease',\n    'Depression',\n    'Diabetes',\n    'High Blood Pressure and High Cholesterol',\n    'Weight Loss Programs'],\n   'has_national_network': False,\n   'market': 'Individual',\n   'max_age_child': 25,\n   'moops': [{'type': 'Maximum Out of Pocket for Medical and Drug EHB Benefits (Total)',\n     'amount': 7850,\n     'csr': 'Exchange variant (no CSR)',\n     'network_tier': 'In-Network',\n     'family_cost': 'Individual',\n     'individual': True,\n     'family': False,\n     'display_string': ''}],\n   'tiered_moops': [{'type': 'Maximum Out of Pocket for Medical and Drug EHB Benefits (Total)',\n     'amount': 7850,\n     'csr': 'Exchange variant (no CSR)',\n     'network_tier': 'In-Network',\n     'family_cost': 'Individual',\n     'individual': True,\n     'family': False,\n     'display_string': ''}],\n   'product_division': 'HealthCare',\n   'benefits_url': 'https://www.vantagehealthplan.com/documents/Marketplace/2019INDEssentialBronze6500SummaryOfBenefitsAndCoverage.pdf',\n   'brochure_url': 'https://www.vantagehealthplan.com/documents/Marketplace/2019MarketplaceINDPlanFinder.pdf',\n   'formulary_url': 'https://www.vantagehealthplan.com/documents/Marketplace/2019CommercialAndExchangeMemberListOfCoveredDrugs(Formulary).pdf',\n   'network_url': 'https://www.vantagehealthplan.com/Provider/ProviderContent',\n   'issuer': {'id': '67243',\n    'name': 'Vantage Health Plan',\n    'eligible_dependents': ['Spouse',\n     'Adopted Child',\n     'Foster Child',\n     'Ward',\n     'Stepson or Stepdaughter',\n     'Self',\n     'Child',\n     'Life Partner'],\n    'state': 'LA',\n    'individual_url': '',\n    'shop_url': 'https://www.vantagehealthplan.com/',\n    'toll_free': '1-888-823-1910',\n    'tty': ''},\n   'hsa_eligible': False,\n   'insurance_market': 'QHP',\n   'specialist_referral_required': False,\n   'oopc': -1,\n   'tobacco_lookback': 6,\n   'suppression_state': 'unknown',\n   'guaranteed_rate': False,\n   'simple_choice': False,\n   'quality_rating': {'available': False,\n    'year': 0,\n    'global_rating': 0,\n    'clinical_quality_management_rating': 0,\n    'enrollee_experience_rating': 0,\n    'plan_efficiency_rating': 0,\n    'global_not_rated_reason': '',\n    'clinical_quality_management_not_rated_reason': '',\n    'enrollee_experience_not_rated_reason': '',\n    'plan_efficiency_not_rated_reason': ''},\n   'is_ineligible': False,\n   'rx_3mo_mail_order': False,\n   'covers_nonhyde_abortion': False,\n   'service_area_id': 'LAS002'},\n  {'id': '19636LA0230003',\n   'name': 'Community Blue copay 70/50 $2200',\n   'premium': 362.89,\n   'premium_w_credit': 362.89,\n   'ehb_premium': 362.89,\n   'pediatric_ehb_premium': 0,\n   'aptc_eligible_premium': 362.89,\n   'metal_level': 'Silver',\n   'type': 'POS',\n   'state': 'LA',\n   'benefits': [{'name': 'Primary Care Visit to Treat an Injury or Illness',\n     'covered': True,\n     'cost_sharings': [{'coinsurance_rate': 0,\n       'coinsurance_options': 'Not Applicable',\n       'copay_amount': 20,\n       'copay_options': '',\n       'network_tier': 'In-Network',\n       'csr': 'Exchange variant (no CSR)',\n       'display_string': '$20'},\n      {'coinsurance_rate': 0.5,\n       'coinsurance_options': 'Coinsurance after deductible',\n       'copay_amount': 0,\n       'copay_options': 'Not Applicable',\n       'network_tier': 'Out-of-Network',\n       'csr': 'Exchange variant (no CSR)',\n       'display_string': '50% Coinsurance after deductible'}],\n     'explanation': '',\n     'exclusions': '',\n     'has_limits': False,\n     'limit_unit': '',\n     'limit_quantity': 0},\n    {'name': 'Dental Check-Up for Children',\n     'covered': True,\n     'cost_sharings': [{'coinsurance_rate': 0,\n       'coinsurance_options': 'No Charge',\n       'copay_amount': 0,\n       'copay_options': 'No Charge',\n       'network_tier': 'In-Network',\n       'csr': 'Exchange variant (no CSR)',\n       'display_string': 'No Charge'},\n      {'coinsurance_rate': 0,\n       'coinsurance_options': 'No Charge',\n       'copay_amount': 0,\n       'copay_options': 'No Charge',\n       'network_tier': 'Out-of-Network',\n       'csr': 'Exchange variant (no CSR)',\n       'display_string': 'No Charge'}],\n     'explanation': '',\n     'exclusions': '',\n     'has_limits': True,\n     'limit_unit': 'visit(s) per 6 months',\n     'limit_quantity': 1},\n    {'name': 'Major Dental Care - Child',\n     'covered': True,\n     'cost_sharings': [{'coinsurance_rate': 0.5,\n       'coinsurance_options': 'Coinsurance after deductible',\n       'copay_amount': 0,\n       'copay_options': 'Not Applicable',\n       'network_tier': 'In-Network',\n       'csr': 'Exchange variant (no CSR)',\n       'display_string': '50% Coinsurance after deductible'},\n      {'coinsurance_rate': 0.5,\n       'coinsurance_options': 'Coinsurance after deductible',\n       'copay_amount': 0,\n       'copay_options': 'Not Applicable',\n       'network_tier': 'Out-of-Network',\n       'csr': 'Exchange variant (no CSR)',\n       'display_string': '50% Coinsurance after deductible'}],\n     'explanation': '',\n     'exclusions': '',\n     'has_limits': False,\n     'limit_unit': '',\n     'limit_quantity': 0},\n    {'name': 'Specialist Visit',\n     'covered': True,\n     'cost_sharings': [{'coinsurance_rate': 0,\n       'coinsurance_options': 'Not Applicable',\n       'copay_amount': 60,\n       'copay_options': '',\n       'network_tier': 'In-Network',\n       'csr': 'Exchange variant (no CSR)',\n       'display_string': '$60'},\n      {'coinsurance_rate': 0.5,\n       'coinsurance_options': 'Coinsurance after deductible',\n       'copay_amount': 0,\n       'copay_options': 'Not Applicable',\n       'network_tier': 'Out-of-Network',\n       'csr': 'Exchange variant (no CSR)',\n       'display_string': '50% Coinsurance after deductible'}],\n     'explanation': '',\n     'exclusions': '',\n     'has_limits': False,\n     'limit_unit': '',\n     'limit_quantity': 0},\n    {'name': 'Emergency Room Services',\n     'covered': True,\n     'cost_sharings': [{'coinsurance_rate': 0,\n       'coinsurance_options': 'Not Applicable',\n       'copay_amount': 450,\n       'copay_options': '',\n       'network_tier': 'In-Network',\n       'csr': 'Exchange variant (no CSR)',\n       'display_string': '$450'},\n      {'coinsurance_rate': 0,\n       'coinsurance_options': 'Not Applicable',\n       'copay_amount': 450,\n       'copay_options': '',\n       'network_tier': 'Out-of-Network',\n       'csr': 'Exchange variant (no CSR)',\n       'display_string': '$450'}],\n     'explanation': '',\n     'exclusions': '',\n     'has_limits': False,\n     'limit_unit': '',\n     'limit_quantity': 0},\n    {'name': 'Basic Dental Care - Child',\n     'covered': True,\n     'cost_sharings': [{'coinsurance_rate': 0.5,\n       'coinsurance_options': 'Coinsurance after deductible',\n       'copay_amount': 0,\n       'copay_options': 'Not Applicable',\n       'network_tier': 'In-Network',\n       'csr': 'Exchange variant (no CSR)',\n       'display_string': '50% Coinsurance after deductible'},\n      {'coinsurance_rate': 0.5,\n       'coinsurance_options': 'Coinsurance after deductible',\n       'copay_amount': 0,\n       'copay_options': 'Not Applicable',\n       'network_tier': 'Out-of-Network',\n       'csr': 'Exchange variant (no CSR)',\n       'display_string': '50% Coinsurance after deductible'}],\n     'explanation': '',\n     'exclusions': '',\n     'has_limits': False,\n     'limit_unit': '',\n     'limit_quantity': 0},\n    {'name': 'Generic Drugs',\n     'covered': True,\n     'cost_sharings': [{'coinsurance_rate': 0.3,\n       'coinsurance_options': 'Coinsurance after deductible',\n       'copay_amount': 0,\n       'copay_options': 'Not Applicable',\n       'network_tier': 'In-Network',\n       'csr': 'Exchange variant (no CSR)',\n       'display_string': '30% Coinsurance after deductible'},\n      {'coinsurance_rate': 0.3,\n       'coinsurance_options': 'Coinsurance after deductible',\n       'copay_amount': 0,\n       'copay_options': 'Not Applicable',\n       'network_tier': 'Out-of-Network',\n       'csr': 'Exchange variant (no CSR)',\n       'display_string': '30% Coinsurance after deductible'}],\n     'explanation': '',\n     'exclusions': '',\n     'has_limits': False,\n     'limit_unit': '',\n     'limit_quantity': 0}],\n   'deductibles': [{'type': 'Combined Medical and Drug EHB Deductible',\n     'amount': 2200,\n     'csr': 'Exchange variant (no CSR)',\n     'network_tier': 'In-Network',\n     'family_cost': 'Individual',\n     'individual': True,\n     'family': False,\n     'display_string': ''}],\n   'tiered_deductibles': [{'type': 'Combined Medical and Drug EHB Deductible',\n     'amount': 2200,\n     'csr': 'Exchange variant (no CSR)',\n     'network_tier': 'In-Network',\n     'family_cost': 'Individual',\n     'individual': True,\n     'family': False,\n     'display_string': ''},\n    {'type': 'Combined Medical and Drug EHB Deductible',\n     'amount': 6600,\n     'csr': 'Exchange variant (no CSR)',\n     'network_tier': 'Combined In-Out of Network',\n     'family_cost': 'Individual',\n     'individual': True,\n     'family': False,\n     'display_string': ''}],\n   'disease_mgmt_programs': ['Asthma',\n    'Heart Disease',\n    'Diabetes',\n    'High Blood Pressure and High Cholesterol',\n    'Pregnancy'],\n   'has_national_network': False,\n   'market': 'Individual',\n   'max_age_child': 25,\n   'moops': [{'type': 'Maximum Out of Pocket for Medical and Drug EHB Benefits (Total)',\n     'amount': 7900,\n     'csr': 'Exchange variant (no CSR)',\n     'network_tier': 'In-Network',\n     'family_cost': 'Individual',\n     'individual': True,\n     'family': False,\n     'display_string': ''}],\n   'tiered_moops': [{'type': 'Maximum Out of Pocket for Medical and Drug EHB Benefits (Total)',\n     'amount': 7900,\n     'csr': 'Exchange variant (no CSR)',\n     'network_tier': 'In-Network',\n     'family_cost': 'Individual',\n     'individual': True,\n     'family': False,\n     'display_string': ''},\n    {'type': 'Maximum Out of Pocket for Medical and Drug EHB Benefits (Total)',\n     'amount': 23700,\n     'csr': 'Exchange variant (no CSR)',\n     'network_tier': 'Combined In-Out of Network',\n     'family_cost': 'Individual',\n     'individual': True,\n     'family': False,\n     'display_string': ''}],\n   'product_division': 'HealthCare',\n   'benefits_url': 'http://www.bcbsla.com/findaplan/pages/sbc.aspx?Source=FFM&Id=19636LA0230003-01&Year=2019',\n   'brochure_url': 'http://www.bcbsla.com/individual-communityblue-brochure2019',\n   'formulary_url': 'http://www.bcbsla.com/pharmacy-2tier-formulary2019',\n   'network_url': 'http://www.bcbsla.com/communityblue-medical-vision-dental',\n   'issuer': {'id': '19636',\n    'name': 'HMO Louisiana',\n    'eligible_dependents': ['Spouse',\n     'Grandson or Granddaughter',\n     'Adopted Child',\n     'Foster Child',\n     'Ward',\n     'Stepson or Stepdaughter',\n     'Self',\n     'Child',\n     'Sponsored Dependent'],\n    'state': 'LA',\n    'individual_url': '',\n    'shop_url': 'http://www.bcbsla.com/footer/contact-us',\n    'toll_free': '1-800-495-2583',\n    'tty': ''},\n   'hsa_eligible': False,\n   'insurance_market': 'QHP',\n   'specialist_referral_required': False,\n   'oopc': -1,\n   'tobacco_lookback': 6,\n   'suppression_state': 'unknown',\n   'guaranteed_rate': False,\n   'simple_choice': False,\n   'quality_rating': {'available': False,\n    'year': 0,\n    'global_rating': 0,\n    'clinical_quality_management_rating': 0,\n    'enrollee_experience_rating': 0,\n    'plan_efficiency_rating': 0,\n    'global_not_rated_reason': '',\n    'clinical_quality_management_not_rated_reason': '',\n    'enrollee_experience_not_rated_reason': '',\n    'plan_efficiency_not_rated_reason': ''},\n   'is_ineligible': False,\n   'rx_3mo_mail_order': False,\n   'covers_nonhyde_abortion': False,\n   'service_area_id': 'LAS006'},\n  {'id': '19636LA0220014',\n   'name': 'Blue POS 80/60 $3400',\n   'premium': 381.2,\n   'premium_w_credit': 381.2,\n   'ehb_premium': 381.2,\n   'pediatric_ehb_premium': 0,\n   'aptc_eligible_premium': 381.2,\n   'metal_level': 'Silver',\n   'type': 'POS',\n   'state': 'LA',\n   'benefits': [{'name': 'Specialist Visit',\n     'covered': True,\n     'cost_sharings': [{'coinsurance_rate': 0.2,\n       'coinsurance_options': 'Coinsurance after deductible',\n       'copay_amount': 0,\n       'copay_options': 'Not Applicable',\n       'network_tier': 'In-Network',\n       'csr': 'Exchange variant (no CSR)',\n       'display_string': '20% Coinsurance after deductible'},\n      {'coinsurance_rate': 0.4,\n       'coinsurance_options': 'Coinsurance after deductible',\n       'copay_amount': 0,\n       'copay_options': 'Not Applicable',\n       'network_tier': 'Out-of-Network',\n       'csr': 'Exchange variant (no CSR)',\n       'display_string': '40% Coinsurance after deductible'}],\n     'explanation': '',\n     'exclusions': '',\n     'has_limits': False,\n     'limit_unit': '',\n     'limit_quantity': 0},\n    {'name': 'Emergency Room Services',\n     'covered': True,\n     'cost_sharings': [{'coinsurance_rate': 0.2,\n       'coinsurance_options': 'Coinsurance after deductible',\n       'copay_amount': 0,\n       'copay_options': 'Not Applicable',\n       'network_tier': 'In-Network',\n       'csr': 'Exchange variant (no CSR)',\n       'display_string': '20% Coinsurance after deductible'},\n      {'coinsurance_rate': 0.2,\n       'coinsurance_options': 'Coinsurance after deductible',\n       'copay_amount': 0,\n       'copay_options': 'Not Applicable',\n       'network_tier': 'Out-of-Network',\n       'csr': 'Exchange variant (no CSR)',\n       'display_string': '20% Coinsurance after deductible'}],\n     'explanation': '',\n     'exclusions': '',\n     'has_limits': False,\n     'limit_unit': '',\n     'limit_quantity': 0},\n    {'name': 'Basic Dental Care - Child',\n     'covered': True,\n     'cost_sharings': [{'coinsurance_rate': 0.5,\n       'coinsurance_options': 'Coinsurance after deductible',\n       'copay_amount': 0,\n       'copay_options': 'Not Applicable',\n       'network_tier': 'In-Network',\n       'csr': 'Exchange variant (no CSR)',\n       'display_string': '50% Coinsurance after deductible'},\n      {'coinsurance_rate': 0.5,\n       'coinsurance_options': 'Coinsurance after deductible',\n       'copay_amount': 0,\n       'copay_options': 'Not Applicable',\n       'network_tier': 'Out-of-Network',\n       'csr': 'Exchange variant (no CSR)',\n       'display_string': '50% Coinsurance after deductible'}],\n     'explanation': '',\n     'exclusions': '',\n     'has_limits': False,\n     'limit_unit': '',\n     'limit_quantity': 0},\n    {'name': 'Primary Care Visit to Treat an Injury or Illness',\n     'covered': True,\n     'cost_sharings': [{'coinsurance_rate': 0.2,\n       'coinsurance_options': 'Coinsurance after deductible',\n       'copay_amount': 0,\n       'copay_options': 'Not Applicable',\n       'network_tier': 'In-Network',\n       'csr': 'Exchange variant (no CSR)',\n       'display_string': '20% Coinsurance after deductible'},\n      {'coinsurance_rate': 0.4,\n       'coinsurance_options': 'Coinsurance after deductible',\n       'copay_amount': 0,\n       'copay_options': 'Not Applicable',\n       'network_tier': 'Out-of-Network',\n       'csr': 'Exchange variant (no CSR)',\n       'display_string': '40% Coinsurance after deductible'}],\n     'explanation': '',\n     'exclusions': '',\n     'has_limits': False,\n     'limit_unit': '',\n     'limit_quantity': 0},\n    {'name': 'Dental Check-Up for Children',\n     'covered': True,\n     'cost_sharings': [{'coinsurance_rate': 0,\n       'coinsurance_options': 'No Charge',\n       'copay_amount': 0,\n       'copay_options': 'No Charge',\n       'network_tier': 'In-Network',\n       'csr': 'Exchange variant (no CSR)',\n       'display_string': 'No Charge'},\n      {'coinsurance_rate': 0,\n       'coinsurance_options': 'No Charge',\n       'copay_amount': 0,\n       'copay_options': 'No Charge',\n       'network_tier': 'Out-of-Network',\n       'csr': 'Exchange variant (no CSR)',\n       'display_string': 'No Charge'}],\n     'explanation': '',\n     'exclusions': '',\n     'has_limits': True,\n     'limit_unit': 'visit(s) per 6 months',\n     'limit_quantity': 1},\n    {'name': 'Major Dental Care - Child',\n     'covered': True,\n     'cost_sharings': [{'coinsurance_rate': 0.5,\n       'coinsurance_options': 'Coinsurance after deductible',\n       'copay_amount': 0,\n       'copay_options': 'Not Applicable',\n       'network_tier': 'In-Network',\n       'csr': 'Exchange variant (no CSR)',\n       'display_string': '50% Coinsurance after deductible'},\n      {'coinsurance_rate': 0.5,\n       'coinsurance_options': 'Coinsurance after deductible',\n       'copay_amount': 0,\n       'copay_options': 'Not Applicable',\n       'network_tier': 'Out-of-Network',\n       'csr': 'Exchange variant (no CSR)',\n       'display_string': '50% Coinsurance after deductible'}],\n     'explanation': '',\n     'exclusions': '',\n     'has_limits': False,\n     'limit_unit': '',\n     'limit_quantity': 0},\n    {'name': 'Generic Drugs',\n     'covered': True,\n     'cost_sharings': [{'coinsurance_rate': 0.2,\n       'coinsurance_options': 'Coinsurance after deductible',\n       'copay_amount': 0,\n       'copay_options': 'Not Applicable',\n       'network_tier': 'In-Network',\n       'csr': 'Exchange variant (no CSR)',\n       'display_string': '20% Coinsurance after deductible'},\n      {'coinsurance_rate': 0.2,\n       'coinsurance_options': 'Coinsurance after deductible',\n       'copay_amount': 0,\n       'copay_options': 'Not Applicable',\n       'network_tier': 'Out-of-Network',\n       'csr': 'Exchange variant (no CSR)',\n       'display_string': '20% Coinsurance after deductible'}],\n     'explanation': '',\n     'exclusions': '',\n     'has_limits': False,\n     'limit_unit': '',\n     'limit_quantity': 0}],\n   'deductibles': [{'type': 'Combined Medical and Drug EHB Deductible',\n     'amount': 3400,\n     'csr': 'Exchange variant (no CSR)',\n     'network_tier': 'In-Network',\n     'family_cost': 'Individual',\n     'individual': True,\n     'family': False,\n     'display_string': ''}],\n   'tiered_deductibles': [{'type': 'Combined Medical and Drug EHB Deductible',\n     'amount': 3400,\n     'csr': 'Exchange variant (no CSR)',\n     'network_tier': 'In-Network',\n     'family_cost': 'Individual',\n     'individual': True,\n     'family': False,\n     'display_string': ''},\n    {'type': 'Combined Medical and Drug EHB Deductible',\n     'amount': 10200,\n     'csr': 'Exchange variant (no CSR)',\n     'network_tier': 'Combined In-Out of Network',\n     'family_cost': 'Individual',\n     'individual': True,\n     'family': False,\n     'display_string': ''}],\n   'disease_mgmt_programs': ['Asthma',\n    'Heart Disease',\n    'Diabetes',\n    'High Blood Pressure and High Cholesterol',\n    'Pregnancy'],\n   'has_national_network': False,\n   'market': 'Individual',\n   'max_age_child': 25,\n   'moops': [{'type': 'Maximum Out of Pocket for Medical and Drug EHB Benefits (Total)',\n     'amount': 7100,\n     'csr': 'Exchange variant (no CSR)',\n     'network_tier': 'In-Network',\n     'family_cost': 'Individual',\n     'individual': True,\n     'family': False,\n     'display_string': ''}],\n   'tiered_moops': [{'type': 'Maximum Out of Pocket for Medical and Drug EHB Benefits (Total)',\n     'amount': 7100,\n     'csr': 'Exchange variant (no CSR)',\n     'network_tier': 'In-Network',\n     'family_cost': 'Individual',\n     'individual': True,\n     'family': False,\n     'display_string': ''},\n    {'type': 'Maximum Out of Pocket for Medical and Drug EHB Benefits (Total)',\n     'amount': 21300,\n     'csr': 'Exchange variant (no CSR)',\n     'network_tier': 'Combined In-Out of Network',\n     'family_cost': 'Individual',\n     'individual': True,\n     'family': False,\n     'display_string': ''}],\n   'product_division': 'HealthCare',\n   'benefits_url': 'http://www.bcbsla.com/findaplan/pages/sbc.aspx?Source=FFM&Id=19636LA0220014-01&Year=2019',\n   'brochure_url': 'http://www.bcbsla.com/individual-solutions-brochure2019',\n   'formulary_url': 'http://www.bcbsla.com/pharmacy-2tier-formulary2019',\n   'network_url': 'http://www.bcbsla.com/hmopos-medical-vision-dental',\n   'issuer': {'id': '19636',\n    'name': 'HMO Louisiana',\n    'eligible_dependents': ['Spouse',\n     'Grandson or Granddaughter',\n     'Adopted Child',\n     'Foster Child',\n     'Ward',\n     'Stepson or Stepdaughter',\n     'Self',\n     'Child',\n     'Sponsored Dependent'],\n    'state': 'LA',\n    'individual_url': '',\n    'shop_url': 'http://www.bcbsla.com/footer/contact-us',\n    'toll_free': '1-800-495-2583',\n    'tty': ''},\n   'hsa_eligible': False,\n   'insurance_market': 'QHP',\n   'specialist_referral_required': False,\n   'oopc': -1,\n   'tobacco_lookback': 6,\n   'suppression_state': 'unknown',\n   'guaranteed_rate': False,\n   'simple_choice': False,\n   'quality_rating': {'available': False,\n    'year': 0,\n    'global_rating': 0,\n    'clinical_quality_management_rating': 0,\n    'enrollee_experience_rating': 0,\n    'plan_efficiency_rating': 0,\n    'global_not_rated_reason': '',\n    'clinical_quality_management_not_rated_reason': '',\n    'enrollee_experience_not_rated_reason': '',\n    'plan_efficiency_not_rated_reason': ''},\n   'is_ineligible': False,\n   'rx_3mo_mail_order': False,\n   'covers_nonhyde_abortion': False,\n   'service_area_id': 'LAS007'},\n  {'id': '19636LA0230002',\n   'name': 'Community Blue Copay 80/60 $1000',\n   'premium': 396.36,\n   'premium_w_credit': 396.36,\n   'ehb_premium': 396.36,\n   'pediatric_ehb_premium': 0,\n   'aptc_eligible_premium': 396.36,\n   'metal_level': 'Gold',\n   'type': 'POS',\n   'state': 'LA',\n   'benefits': [{'name': 'Primary Care Visit to Treat an Injury or Illness',\n     'covered': True,\n     'cost_sharings': [{'coinsurance_rate': 0,\n       'coinsurance_options': 'Not Applicable',\n       'copay_amount': 20,\n       'copay_options': '',\n       'network_tier': 'In-Network',\n       'csr': 'Exchange variant (no CSR)',\n       'display_string': '$20'},\n      {'coinsurance_rate': 0.4,\n       'coinsurance_options': 'Coinsurance after deductible',\n       'copay_amount': 0,\n       'copay_options': 'Not Applicable',\n       'network_tier': 'Out-of-Network',\n       'csr': 'Exchange variant (no CSR)',\n       'display_string': '40% Coinsurance after deductible'}],\n     'explanation': '',\n     'exclusions': '',\n     'has_limits': False,\n     'limit_unit': '',\n     'limit_quantity': 0},\n    {'name': 'Dental Check-Up for Children',\n     'covered': True,\n     'cost_sharings': [{'coinsurance_rate': 0,\n       'coinsurance_options': 'No Charge',\n       'copay_amount': 0,\n       'copay_options': 'No Charge',\n       'network_tier': 'In-Network',\n       'csr': 'Exchange variant (no CSR)',\n       'display_string': 'No Charge'},\n      {'coinsurance_rate': 0,\n       'coinsurance_options': 'No Charge',\n       'copay_amount': 0,\n       'copay_options': 'No Charge',\n       'network_tier': 'Out-of-Network',\n       'csr': 'Exchange variant (no CSR)',\n       'display_string': 'No Charge'}],\n     'explanation': '',\n     'exclusions': '',\n     'has_limits': True,\n     'limit_unit': 'visit(s) per 6 months',\n     'limit_quantity': 1},\n    {'name': 'Major Dental Care - Child',\n     'covered': True,\n     'cost_sharings': [{'coinsurance_rate': 0.5,\n       'coinsurance_options': 'Coinsurance after deductible',\n       'copay_amount': 0,\n       'copay_options': 'Not Applicable',\n       'network_tier': 'In-Network',\n       'csr': 'Exchange variant (no CSR)',\n       'display_string': '50% Coinsurance after deductible'},\n      {'coinsurance_rate': 0.5,\n       'coinsurance_options': 'Coinsurance after deductible',\n       'copay_amount': 0,\n       'copay_options': 'Not Applicable',\n       'network_tier': 'Out-of-Network',\n       'csr': 'Exchange variant (no CSR)',\n       'display_string': '50% Coinsurance after deductible'}],\n     'explanation': '',\n     'exclusions': '',\n     'has_limits': False,\n     'limit_unit': '',\n     'limit_quantity': 0},\n    {'name': 'Specialist Visit',\n     'covered': True,\n     'cost_sharings': [{'coinsurance_rate': 0,\n       'coinsurance_options': 'Not Applicable',\n       'copay_amount': 60,\n       'copay_options': '',\n       'network_tier': 'In-Network',\n       'csr': 'Exchange variant (no CSR)',\n       'display_string': '$60'},\n      {'coinsurance_rate': 0.4,\n       'coinsurance_options': 'Coinsurance after deductible',\n       'copay_amount': 0,\n       'copay_options': 'Not Applicable',\n       'network_tier': 'Out-of-Network',\n       'csr': 'Exchange variant (no CSR)',\n       'display_string': '40% Coinsurance after deductible'}],\n     'explanation': '',\n     'exclusions': '',\n     'has_limits': False,\n     'limit_unit': '',\n     'limit_quantity': 0},\n    {'name': 'Emergency Room Services',\n     'covered': True,\n     'cost_sharings': [{'coinsurance_rate': 0,\n       'coinsurance_options': 'Not Applicable',\n       'copay_amount': 350,\n       'copay_options': '',\n       'network_tier': 'In-Network',\n       'csr': 'Exchange variant (no CSR)',\n       'display_string': '$350'},\n      {'coinsurance_rate': 0,\n       'coinsurance_options': 'Not Applicable',\n       'copay_amount': 350,\n       'copay_options': '',\n       'network_tier': 'Out-of-Network',\n       'csr': 'Exchange variant (no CSR)',\n       'display_string': '$350'}],\n     'explanation': '',\n     'exclusions': '',\n     'has_limits': False,\n     'limit_unit': '',\n     'limit_quantity': 0},\n    {'name': 'Basic Dental Care - Child',\n     'covered': True,\n     'cost_sharings': [{'coinsurance_rate': 0.5,\n       'coinsurance_options': 'Coinsurance after deductible',\n       'copay_amount': 0,\n       'copay_options': 'Not Applicable',\n       'network_tier': 'In-Network',\n       'csr': 'Exchange variant (no CSR)',\n       'display_string': '50% Coinsurance after deductible'},\n      {'coinsurance_rate': 0.5,\n       'coinsurance_options': 'Coinsurance after deductible',\n       'copay_amount': 0,\n       'copay_options': 'Not Applicable',\n       'network_tier': 'Out-of-Network',\n       'csr': 'Exchange variant (no CSR)',\n       'display_string': '50% Coinsurance after deductible'}],\n     'explanation': '',\n     'exclusions': '',\n     'has_limits': False,\n     'limit_unit': '',\n     'limit_quantity': 0},\n    {'name': 'Generic Drugs',\n     'covered': True,\n     'cost_sharings': [{'coinsurance_rate': 0,\n       'coinsurance_options': 'Not Applicable',\n       'copay_amount': 7,\n       'copay_options': 'Copay after deductible',\n       'network_tier': 'In-Network',\n       'csr': 'Exchange variant (no CSR)',\n       'display_string': '$7 Copay after deductible'},\n      {'coinsurance_rate': 0,\n       'coinsurance_options': 'Not Applicable',\n       'copay_amount': 7,\n       'copay_options': 'Copay after deductible',\n       'network_tier': 'Out-of-Network',\n       'csr': 'Exchange variant (no CSR)',\n       'display_string': '$7 Copay after deductible'}],\n     'explanation': '',\n     'exclusions': '',\n     'has_limits': False,\n     'limit_unit': '',\n     'limit_quantity': 0}],\n   'deductibles': [{'type': 'Medical EHB Deductible',\n     'amount': 1000,\n     'csr': 'Exchange variant (no CSR)',\n     'network_tier': 'In-Network',\n     'family_cost': 'Individual',\n     'individual': True,\n     'family': False,\n     'display_string': ''},\n    {'type': 'Drug EHB Deductible',\n     'amount': 500,\n     'csr': 'Exchange variant (no CSR)',\n     'network_tier': 'In-Network',\n     'family_cost': 'Individual',\n     'individual': True,\n     'family': False,\n     'display_string': ''}],\n   'tiered_deductibles': [{'type': 'Medical EHB Deductible',\n     'amount': 1000,\n     'csr': 'Exchange variant (no CSR)',\n     'network_tier': 'In-Network',\n     'family_cost': 'Individual',\n     'individual': True,\n     'family': False,\n     'display_string': ''},\n    {'type': 'Medical EHB Deductible',\n     'amount': 6000,\n     'csr': 'Exchange variant (no CSR)',\n     'network_tier': 'Combined In-Out of Network',\n     'family_cost': 'Individual',\n     'individual': True,\n     'family': False,\n     'display_string': ''},\n    {'type': 'Drug EHB Deductible',\n     'amount': 500,\n     'csr': 'Exchange variant (no CSR)',\n     'network_tier': 'In-Network',\n     'family_cost': 'Individual',\n     'individual': True,\n     'family': False,\n     'display_string': ''},\n    {'type': 'Drug EHB Deductible',\n     'amount': 500,\n     'csr': 'Exchange variant (no CSR)',\n     'network_tier': 'Combined In-Out of Network',\n     'family_cost': 'Individual',\n     'individual': True,\n     'family': False,\n     'display_string': ''}],\n   'disease_mgmt_programs': ['Asthma',\n    'Heart Disease',\n    'Diabetes',\n    'High Blood Pressure and High Cholesterol',\n    'Pregnancy'],\n   'has_national_network': False,\n   'market': 'Individual',\n   'max_age_child': 25,\n   'moops': [{'type': 'Maximum Out of Pocket for Medical and Drug EHB Benefits (Total)',\n     'amount': 7900,\n     'csr': 'Exchange variant (no CSR)',\n     'network_tier': 'In-Network',\n     'family_cost': 'Individual',\n     'individual': True,\n     'family': False,\n     'display_string': ''}],\n   'tiered_moops': [{'type': 'Maximum Out of Pocket for Medical and Drug EHB Benefits (Total)',\n     'amount': 7900,\n     'csr': 'Exchange variant (no CSR)',\n     'network_tier': 'In-Network',\n     'family_cost': 'Individual',\n     'individual': True,\n     'family': False,\n     'display_string': ''},\n    {'type': 'Maximum Out of Pocket for Medical and Drug EHB Benefits (Total)',\n     'amount': 23700,\n     'csr': 'Exchange variant (no CSR)',\n     'network_tier': 'Combined In-Out of Network',\n     'family_cost': 'Individual',\n     'individual': True,\n     'family': False,\n     'display_string': ''}],\n   'product_division': 'HealthCare',\n   'benefits_url': 'http://www.bcbsla.com/findaplan/pages/sbc.aspx?Source=FFM&Id=19636LA0230002-01&Year=2019',\n   'brochure_url': 'http://www.bcbsla.com/individual-communityblue-brochure2019',\n   'formulary_url': 'http://www.bcbsla.com/pharmacy-3tier-formulary2019',\n   'network_url': 'http://www.bcbsla.com/communityblue-medical-vision-dental',\n   'issuer': {'id': '19636',\n    'name': 'HMO Louisiana',\n    'eligible_dependents': ['Spouse',\n     'Grandson or Granddaughter',\n     'Adopted Child',\n     'Foster Child',\n     'Ward',\n     'Stepson or Stepdaughter',\n     'Self',\n     'Child',\n     'Sponsored Dependent'],\n    'state': 'LA',\n    'individual_url': '',\n    'shop_url': 'http://www.bcbsla.com/footer/contact-us',\n    'toll_free': '1-800-495-2583',\n    'tty': ''},\n   'hsa_eligible': False,\n   'insurance_market': 'QHP',\n   'specialist_referral_required': False,\n   'oopc': -1,\n   'tobacco_lookback': 6,\n   'suppression_state': 'unknown',\n   'guaranteed_rate': False,\n   'simple_choice': False,\n   'quality_rating': {'available': False,\n    'year': 0,\n    'global_rating': 0,\n    'clinical_quality_management_rating': 0,\n    'enrollee_experience_rating': 0,\n    'plan_efficiency_rating': 0,\n    'global_not_rated_reason': '',\n    'clinical_quality_management_not_rated_reason': '',\n    'enrollee_experience_not_rated_reason': '',\n    'plan_efficiency_not_rated_reason': ''},\n   'is_ineligible': False,\n   'rx_3mo_mail_order': False,\n   'covers_nonhyde_abortion': False,\n   'service_area_id': 'LAS006'},\n  {'id': '19636LA0220010',\n   'name': 'Blue POS 100/80 $3500',\n   'premium': 430.56,\n   'premium_w_credit': 430.56,\n   'ehb_premium': 430.56,\n   'pediatric_ehb_premium': 0,\n   'aptc_eligible_premium': 430.56,\n   'metal_level': 'Silver',\n   'type': 'POS',\n   'state': 'LA',\n   'benefits': [{'name': 'Primary Care Visit to Treat an Injury or Illness',\n     'covered': True,\n     'cost_sharings': [{'coinsurance_rate': 0,\n       'coinsurance_options': 'Coinsurance after deductible',\n       'copay_amount': 0,\n       'copay_options': 'Not Applicable',\n       'network_tier': 'In-Network',\n       'csr': 'Exchange variant (no CSR)',\n       'display_string': 'No Charge After Deductible'},\n      {'coinsurance_rate': 0.2,\n       'coinsurance_options': 'Coinsurance after deductible',\n       'copay_amount': 0,\n       'copay_options': 'Not Applicable',\n       'network_tier': 'Out-of-Network',\n       'csr': 'Exchange variant (no CSR)',\n       'display_string': '20% Coinsurance after deductible'}],\n     'explanation': '',\n     'exclusions': '',\n     'has_limits': False,\n     'limit_unit': '',\n     'limit_quantity': 0},\n    {'name': 'Dental Check-Up for Children',\n     'covered': True,\n     'cost_sharings': [{'coinsurance_rate': 0,\n       'coinsurance_options': 'No Charge',\n       'copay_amount': 0,\n       'copay_options': 'No Charge',\n       'network_tier': 'In-Network',\n       'csr': 'Exchange variant (no CSR)',\n       'display_string': 'No Charge'},\n      {'coinsurance_rate': 0,\n       'coinsurance_options': 'No Charge',\n       'copay_amount': 0,\n       'copay_options': 'No Charge',\n       'network_tier': 'Out-of-Network',\n       'csr': 'Exchange variant (no CSR)',\n       'display_string': 'No Charge'}],\n     'explanation': '',\n     'exclusions': '',\n     'has_limits': True,\n     'limit_unit': 'visit(s) per 6 months',\n     'limit_quantity': 1},\n    {'name': 'Major Dental Care - Child',\n     'covered': True,\n     'cost_sharings': [{'coinsurance_rate': 0.5,\n       'coinsurance_options': 'Coinsurance after deductible',\n       'copay_amount': 0,\n       'copay_options': 'Not Applicable',\n       'network_tier': 'In-Network',\n       'csr': 'Exchange variant (no CSR)',\n       'display_string': '50% Coinsurance after deductible'},\n      {'coinsurance_rate': 0.5,\n       'coinsurance_options': 'Coinsurance after deductible',\n       'copay_amount': 0,\n       'copay_options': 'Not Applicable',\n       'network_tier': 'Out-of-Network',\n       'csr': 'Exchange variant (no CSR)',\n       'display_string': '50% Coinsurance after deductible'}],\n     'explanation': '',\n     'exclusions': '',\n     'has_limits': False,\n     'limit_unit': '',\n     'limit_quantity': 0},\n    {'name': 'Specialist Visit',\n     'covered': True,\n     'cost_sharings': [{'coinsurance_rate': 0,\n       'coinsurance_options': 'Coinsurance after deductible',\n       'copay_amount': 0,\n       'copay_options': 'Not Applicable',\n       'network_tier': 'In-Network',\n       'csr': 'Exchange variant (no CSR)',\n       'display_string': 'No Charge After Deductible'},\n      {'coinsurance_rate': 0.2,\n       'coinsurance_options': 'Coinsurance after deductible',\n       'copay_amount': 0,\n       'copay_options': 'Not Applicable',\n       'network_tier': 'Out-of-Network',\n       'csr': 'Exchange variant (no CSR)',\n       'display_string': '20% Coinsurance after deductible'}],\n     'explanation': '',\n     'exclusions': '',\n     'has_limits': False,\n     'limit_unit': '',\n     'limit_quantity': 0},\n    {'name': 'Emergency Room Services',\n     'covered': True,\n     'cost_sharings': [{'coinsurance_rate': 0,\n       'coinsurance_options': 'Coinsurance after deductible',\n       'copay_amount': 0,\n       'copay_options': 'Not Applicable',\n       'network_tier': 'In-Network',\n       'csr': 'Exchange variant (no CSR)',\n       'display_string': 'No Charge After Deductible'},\n      {'coinsurance_rate': 0,\n       'coinsurance_options': 'Coinsurance after deductible',\n       'copay_amount': 0,\n       'copay_options': 'Not Applicable',\n       'network_tier': 'Out-of-Network',\n       'csr': 'Exchange variant (no CSR)',\n       'display_string': 'No Charge After Deductible'}],\n     'explanation': '',\n     'exclusions': '',\n     'has_limits': False,\n     'limit_unit': '',\n     'limit_quantity': 0},\n    {'name': 'Basic Dental Care - Child',\n     'covered': True,\n     'cost_sharings': [{'coinsurance_rate': 0.5,\n       'coinsurance_options': 'Coinsurance after deductible',\n       'copay_amount': 0,\n       'copay_options': 'Not Applicable',\n       'network_tier': 'In-Network',\n       'csr': 'Exchange variant (no CSR)',\n       'display_string': '50% Coinsurance after deductible'},\n      {'coinsurance_rate': 0.5,\n       'coinsurance_options': 'Coinsurance after deductible',\n       'copay_amount': 0,\n       'copay_options': 'Not Applicable',\n       'network_tier': 'Out-of-Network',\n       'csr': 'Exchange variant (no CSR)',\n       'display_string': '50% Coinsurance after deductible'}],\n     'explanation': '',\n     'exclusions': '',\n     'has_limits': False,\n     'limit_unit': '',\n     'limit_quantity': 0},\n    {'name': 'Generic Drugs',\n     'covered': True,\n     'cost_sharings': [{'coinsurance_rate': 0,\n       'coinsurance_options': 'Coinsurance after deductible',\n       'copay_amount': 0,\n       'copay_options': 'Not Applicable',\n       'network_tier': 'In-Network',\n       'csr': 'Exchange variant (no CSR)',\n       'display_string': 'No Charge After Deductible'},\n      {'coinsurance_rate': 0,\n       'coinsurance_options': 'Coinsurance after deductible',\n       'copay_amount': 0,\n       'copay_options': 'Not Applicable',\n       'network_tier': 'Out-of-Network',\n       'csr': 'Exchange variant (no CSR)',\n       'display_string': 'No Charge After Deductible'}],\n     'explanation': '',\n     'exclusions': '',\n     'has_limits': False,\n     'limit_unit': '',\n     'limit_quantity': 0}],\n   'deductibles': [{'type': 'Combined Medical and Drug EHB Deductible',\n     'amount': 3500,\n     'csr': 'Exchange variant (no CSR)',\n     'network_tier': 'In-Network',\n     'family_cost': 'Individual',\n     'individual': True,\n     'family': False,\n     'display_string': ''}],\n   'tiered_deductibles': [{'type': 'Combined Medical and Drug EHB Deductible',\n     'amount': 3500,\n     'csr': 'Exchange variant (no CSR)',\n     'network_tier': 'In-Network',\n     'family_cost': 'Individual',\n     'individual': True,\n     'family': False,\n     'display_string': ''},\n    {'type': 'Combined Medical and Drug EHB Deductible',\n     'amount': 10500,\n     'csr': 'Exchange variant (no CSR)',\n     'network_tier': 'Combined In-Out of Network',\n     'family_cost': 'Individual',\n     'individual': True,\n     'family': False,\n     'display_string': ''}],\n   'disease_mgmt_programs': ['Asthma',\n    'Heart Disease',\n    'Diabetes',\n    'High Blood Pressure and High Cholesterol',\n    'Pregnancy'],\n   'has_national_network': False,\n   'market': 'Individual',\n   'max_age_child': 25,\n   'moops': [{'type': 'Maximum Out of Pocket for Medical and Drug EHB Benefits (Total)',\n     'amount': 7900,\n     'csr': 'Exchange variant (no CSR)',\n     'network_tier': 'In-Network',\n     'family_cost': 'Individual',\n     'individual': True,\n     'family': False,\n     'display_string': ''}],\n   'tiered_moops': [{'type': 'Maximum Out of Pocket for Medical and Drug EHB Benefits (Total)',\n     'amount': 7900,\n     'csr': 'Exchange variant (no CSR)',\n     'network_tier': 'In-Network',\n     'family_cost': 'Individual',\n     'individual': True,\n     'family': False,\n     'display_string': ''},\n    {'type': 'Maximum Out of Pocket for Medical and Drug EHB Benefits (Total)',\n     'amount': 23700,\n     'csr': 'Exchange variant (no CSR)',\n     'network_tier': 'Combined In-Out of Network',\n     'family_cost': 'Individual',\n     'individual': True,\n     'family': False,\n     'display_string': ''}],\n   'product_division': 'HealthCare',\n   'benefits_url': 'http://www.bcbsla.com/findaplan/pages/sbc.aspx?Source=FFM&Id=19636LA0220010-01&Year=2019',\n   'brochure_url': 'http://www.bcbsla.com/individual-solutions-brochure2019',\n   'formulary_url': 'http://www.bcbsla.com/pharmacy-2tier-formulary2019',\n   'network_url': 'http://www.bcbsla.com/hmopos-medical-vision-dental',\n   'issuer': {'id': '19636',\n    'name': 'HMO Louisiana',\n    'eligible_dependents': ['Spouse',\n     'Grandson or Granddaughter',\n     'Adopted Child',\n     'Foster Child',\n     'Ward',\n     'Stepson or Stepdaughter',\n     'Self',\n     'Child',\n     'Sponsored Dependent'],\n    'state': 'LA',\n    'individual_url': '',\n    'shop_url': 'http://www.bcbsla.com/footer/contact-us',\n    'toll_free': '1-800-495-2583',\n    'tty': ''},\n   'hsa_eligible': False,\n   'insurance_market': 'QHP',\n   'specialist_referral_required': False,\n   'oopc': -1,\n   'tobacco_lookback': 6,\n   'suppression_state': 'unknown',\n   'guaranteed_rate': False,\n   'simple_choice': False,\n   'quality_rating': {'available': False,\n    'year': 0,\n    'global_rating': 0,\n    'clinical_quality_management_rating': 0,\n    'enrollee_experience_rating': 0,\n    'plan_efficiency_rating': 0,\n    'global_not_rated_reason': '',\n    'clinical_quality_management_not_rated_reason': '',\n    'enrollee_experience_not_rated_reason': '',\n    'plan_efficiency_not_rated_reason': ''},\n   'is_ineligible': False,\n   'rx_3mo_mail_order': False,\n   'covers_nonhyde_abortion': False,\n   'service_area_id': 'LAS007'}],\n 'total': 24,\n 'rate_area': {'state': 'LA', 'area': 5},\n 'facet_groups': [{'name': 'premiums',\n   'facets': [{'value': '300', 'count': 1},\n    {'value': '400', 'count': 9},\n    {'value': '500', 'count': 15},\n    {'value': '600', 'count': 20},\n    {'value': '700', 'count': 23},\n    {'value': '800', 'count': 24}]},\n  {'name': 'metalLevels',\n   'facets': [{'value': 'Bronze', 'count': 8, 'standardized_plans': 0},\n    {'value': 'Silver', 'count': 9, 'standardized_plans': 0},\n    {'value': 'Gold', 'count': 6, 'standardized_plans': 0},\n    {'value': 'Platinum', 'count': 1, 'standardized_plans': 0}]},\n  {'name': 'types',\n   'facets': [{'value': 'PPO', 'count': 5}, {'value': 'POS', 'count': 19}]},\n  {'name': 'issuers',\n   'facets': [{'value': 'Blue Cross and Blue Shield of Louisiana', 'count': 5},\n    {'value': 'HMO Louisiana', 'count': 9},\n    {'value': 'Vantage Health Plan', 'count': 10}]},\n  {'name': 'diseaseMgmtPrograms',\n   'facets': [{'value': 'Asthma', 'count': 14},\n    {'value': 'Heart Disease', 'count': 24},\n    {'value': 'Depression', 'count': 10},\n    {'value': 'Diabetes', 'count': 24},\n    {'value': 'High Blood Pressure and High Cholesterol', 'count': 24},\n    {'value': 'Pregnancy', 'count': 14},\n    {'value': 'Weight Loss Programs', 'count': 10}]},\n  {'name': 'simpleChoice', 'facets': [{'value': 'Simple Choice', 'count': 0}]},\n  {'name': 'qualityRatings', 'facets': []}],\n 'ranges': {'premiums': {'min': 263.91, 'max': 706.79},\n  'deductibles': {'min': 0, 'max': 6750}}}"
          },
          "execution_count": 43,
          "metadata": {}
        }
      ],
      "metadata": {
        "jupyter": {
          "source_hidden": false,
          "outputs_hidden": false
        },
        "nteract": {
          "transient": {
            "deleting": false
          }
        }
      },
      "source": [
        " results"
      ]
    },
    {
      "cell_type": "code",
      "execution_count": 21,
      "outputs": [
        {
          "output_type": "display_data",
          "data": {
            "application/vnd.livy.statement-meta+json": {
              "spark_pool": "Main",
              "session_id": "18",
              "statement_id": 21,
              "state": "finished",
              "livy_statement_state": "available",
              "queued_time": "2023-03-18T18:52:36.532354Z",
              "session_start_time": null,
              "execution_start_time": "2023-03-18T18:52:36.6783598Z",
              "execution_finish_time": "2023-03-18T18:52:36.841161Z",
              "spark_jobs": null,
              "parent_msg_id": "0acb3866-554f-430f-b3a1-fa2f68699b62"
            },
            "text/plain": "StatementMeta(Main, 18, 21, Finished, Available)"
          },
          "metadata": {}
        }
      ],
      "metadata": {
        "jupyter": {
          "source_hidden": false,
          "outputs_hidden": false
        },
        "nteract": {
          "transient": {
            "deleting": false
          }
        }
      },
      "source": [
        "df = spark.createDataFrame(results[\"plans\"])"
      ]
    },
    {
      "cell_type": "code",
      "execution_count": 22,
      "outputs": [
        {
          "output_type": "display_data",
          "data": {
            "application/vnd.livy.statement-meta+json": {
              "spark_pool": "Main",
              "session_id": "18",
              "statement_id": 22,
              "state": "finished",
              "livy_statement_state": "available",
              "queued_time": "2023-03-18T18:52:39.8528571Z",
              "session_start_time": null,
              "execution_start_time": "2023-03-18T18:52:40.0168869Z",
              "execution_finish_time": "2023-03-18T18:52:42.9305803Z",
              "spark_jobs": null,
              "parent_msg_id": "56bdee25-93ed-44a7-b8ae-b94b8e534743"
            },
            "text/plain": "StatementMeta(Main, 18, 22, Finished, Available)"
          },
          "metadata": {}
        },
        {
          "output_type": "display_data",
          "data": {
            "application/vnd.synapse.widget-view+json": {
              "widget_id": "301d6f9e-4cc4-4cdb-8390-7758deb28c97",
              "widget_type": "Synapse.DataFrame"
            },
            "text/plain": "SynapseWidget(Synapse.DataFrame, 301d6f9e-4cc4-4cdb-8390-7758deb28c97)"
          },
          "metadata": {}
        }
      ],
      "metadata": {
        "jupyter": {
          "source_hidden": false,
          "outputs_hidden": false
        },
        "nteract": {
          "transient": {
            "deleting": false
          }
        },
        "collapsed": false
      },
      "source": [
        "display(df)"
      ]
    }
  ]
}